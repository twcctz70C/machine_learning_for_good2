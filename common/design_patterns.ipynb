{
 "cells": [
  {
   "cell_type": "code",
   "execution_count": 1,
   "metadata": {
    "collapsed": true
   },
   "outputs": [],
   "source": [
    "reset -fs"
   ]
  },
  {
   "cell_type": "code",
   "execution_count": 8,
   "metadata": {
    "collapsed": true
   },
   "outputs": [],
   "source": [
    "from __future__ import (absolute_import, \n",
    "                        division,\n",
    "                        print_function,\n",
    "                        unicode_literals)\n",
    "\n",
    "from IPython.display import IFrame\n"
   ]
  },
  {
   "cell_type": "markdown",
   "metadata": {},
   "source": [
    "***\n",
    "<br><br>"
   ]
  },
  {
   "cell_type": "markdown",
   "metadata": {},
   "source": [
    "<details><summary>\n",
    "Click here for a solution.\n",
    "</summary>\n",
    "`\n",
    "# Imperative style\n",
    "x = 'foo'\n",
    "`\n",
    "</details>"
   ]
  },
  {
   "cell_type": "markdown",
   "metadata": {},
   "source": [
    "Check for understanding\n",
    "--------\n",
    "\n",
    "<details><summary>\n",
    "What are the cons of schemas?\n",
    "</summary>\n",
    "1. Schemas make your data more structured.\n",
    "<br>\n",
    "2. They make things more fragile.\n",
    "<br>\n",
    "3. Y2K was a schema-problem.\n",
    "</details>"
   ]
  },
  {
   "cell_type": "code",
   "execution_count": 11,
   "metadata": {
    "collapsed": false
   },
   "outputs": [
    {
     "data": {
      "text/html": [
       "\n",
       "        <iframe\n",
       "            width=\"700\"\n",
       "            height=\"350\"\n",
       "            src=\"http://www.datatau.com/\"\n",
       "            frameborder=\"0\"\n",
       "            allowfullscreen\n",
       "        ></iframe>\n",
       "        "
      ],
      "text/plain": [
       "<IPython.lib.display.IFrame at 0x1096e1910>"
      ]
     },
     "execution_count": 11,
     "metadata": {},
     "output_type": "execute_result"
    }
   ],
   "source": [
    "IFrame(\"http://www.datatau.com/\",\n",
    "       width=700, height=350)"
   ]
  },
  {
   "cell_type": "markdown",
   "metadata": {},
   "source": [
    "\n"
   ]
  },
  {
   "cell_type": "markdown",
   "metadata": {},
   "source": [
    "## Buttons"
   ]
  },
  {
   "cell_type": "code",
   "execution_count": 2,
   "metadata": {
    "collapsed": false
   },
   "outputs": [],
   "source": [
    "import warnings\n",
    "warnings.filterwarnings('ignore')\n",
    "\n",
    "from IPython.html import widgets\n",
    "from IPython.display import display"
   ]
  },
  {
   "cell_type": "code",
   "execution_count": 1,
   "metadata": {
    "collapsed": false
   },
   "outputs": [
    {
     "ename": "SyntaxError",
     "evalue": "invalid syntax (<ipython-input-1-e07cc684dc0f>, line 3)",
     "output_type": "error",
     "traceback": [
      "\u001b[0;36m  File \u001b[0;32m\"<ipython-input-1-e07cc684dc0f>\"\u001b[0;36m, line \u001b[0;32m3\u001b[0m\n\u001b[0;31m    btn.on_click(lambda x: print(\"hi!\"))\u001b[0m\n\u001b[0m                               ^\u001b[0m\n\u001b[0;31mSyntaxError\u001b[0m\u001b[0;31m:\u001b[0m invalid syntax\n"
     ]
    }
   ],
   "source": [
    "# Generic button\n",
    "btn = widgets.Button(description=\"Click here for a solution\")\n",
    "btn.on_click(lambda x: print(\"hi!\"))\n",
    "display(btn)"
   ]
  },
  {
   "cell_type": "markdown",
   "metadata": {},
   "source": [
    "<br><br>"
   ]
  },
  {
   "cell_type": "markdown",
   "metadata": {},
   "source": [
    "## \"Encoding\" answers"
   ]
  },
  {
   "cell_type": "code",
   "execution_count": 3,
   "metadata": {
    "collapsed": true
   },
   "outputs": [],
   "source": [
    "s = \"my_dict.get('c', None)\""
   ]
  },
  {
   "cell_type": "code",
   "execution_count": 4,
   "metadata": {
    "collapsed": false
   },
   "outputs": [],
   "source": [
    "answer_encoded = map(ord, s)"
   ]
  },
  {
   "cell_type": "code",
   "execution_count": 5,
   "metadata": {
    "collapsed": false
   },
   "outputs": [
    {
     "data": {
      "text/plain": [
       "[109,\n",
       " 121,\n",
       " 95,\n",
       " 100,\n",
       " 105,\n",
       " 99,\n",
       " 116,\n",
       " 46,\n",
       " 103,\n",
       " 101,\n",
       " 116,\n",
       " 40,\n",
       " 39,\n",
       " 99,\n",
       " 39,\n",
       " 44,\n",
       " 32,\n",
       " 78,\n",
       " 111,\n",
       " 110,\n",
       " 101,\n",
       " 41]"
      ]
     },
     "execution_count": 5,
     "metadata": {},
     "output_type": "execute_result"
    }
   ],
   "source": [
    "answer_encoded"
   ]
  },
  {
   "cell_type": "code",
   "execution_count": 6,
   "metadata": {
    "collapsed": true
   },
   "outputs": [],
   "source": [
    "answer_encoded = []"
   ]
  },
  {
   "cell_type": "code",
   "execution_count": 9,
   "metadata": {
    "collapsed": false
   },
   "outputs": [
    {
     "name": "stdout",
     "output_type": "stream",
     "text": [
      "\n"
     ]
    }
   ],
   "source": [
    "btn = widgets.Button(description=\"Click here for a solution\")\n",
    "btn.on_click(lambda x: print(\"\".join(map(chr, answer_encoded))))\n",
    "display(btn)"
   ]
  },
  {
   "cell_type": "markdown",
   "metadata": {
    "collapsed": true
   },
   "source": [
    "***"
   ]
  },
  {
   "cell_type": "markdown",
   "metadata": {},
   "source": [
    "Pair Assignments\n",
    "----\n",
    "\n",
    "| Pairs |  |  \n",
    "|:-------:|:------:|\n",
    "|lorem |lorem |\n",
    "|lorem |lorem |  \n",
    "|lorem |lorem |\n",
    "|lorem |lorem |\n",
    "|lorem |lorem |\n",
    "|lorem |lorem |\n",
    "|lorem |lorem |\n",
    "|lorem |lorem |\n",
    "|lorem |lorem |\n",
    "|lorem |lorem |"
   ]
  },
  {
   "cell_type": "code",
   "execution_count": null,
   "metadata": {
    "collapsed": true
   },
   "outputs": [],
   "source": []
  }
 ],
 "metadata": {
  "kernelspec": {
   "display_name": "Python 2",
   "language": "python",
   "name": "python2"
  },
  "language_info": {
   "codemirror_mode": {
    "name": "ipython",
    "version": 2
   },
   "file_extension": ".py",
   "mimetype": "text/x-python",
   "name": "python",
   "nbconvert_exporter": "python",
   "pygments_lexer": "ipython2",
   "version": "2.7.11"
  }
 },
 "nbformat": 4,
 "nbformat_minor": 0
}
