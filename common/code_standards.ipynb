{
 "cells": [
  {
   "cell_type": "markdown",
   "metadata": {},
   "source": [
    "General Guidelines:\n",
    "    1. Do not import packages that are not used in the module\n",
    "    2. Always explicitly assign input parameters\n",
    "    "
   ]
  },
  {
   "cell_type": "code",
   "execution_count": null,
   "metadata": {
    "collapsed": true
   },
   "outputs": [],
   "source": [
    "# importing plotting\n",
    "import matplotlib.pyplot as plt\n",
    "from ggplot import *\n",
    "# use ggplot style\n",
    "plt.style.use('ggplot')\n",
    "%matplotlib inline"
   ]
  },
  {
   "cell_type": "code",
   "execution_count": null,
   "metadata": {
    "collapsed": true
   },
   "outputs": [],
   "source": [
    "# loading data - always use relative paths\n",
    "# Only load csvs that exist in the repo. ***DO NOT*** load data that depends on the output of any previous modules\n",
    "data_path = '../../data/'\n",
    "df = pd.read_csv(data_path+'df_abridged.csv', low_memory=False)"
   ]
  },
  {
   "cell_type": "code",
   "execution_count": null,
   "metadata": {
    "collapsed": true
   },
   "outputs": [],
   "source": [
    "# how to split data.\n",
    "from sklearn.model_selection import train_test_split\n",
    "X_train, X_test, y_train, y_test = train_test_split(X, y, test_size=0.2, random_state=42)"
   ]
  },
  {
   "cell_type": "code",
   "execution_count": null,
   "metadata": {
    "collapsed": true
   },
   "outputs": [],
   "source": [
    "# Training sm.ols\n",
    "# Create input features as needed and fit the model via \n",
    "model0 = sm.OLS(endog = y,exog = X).fit()\n",
    "# Do not use the r style version of defining the formula\n",
    "model0 sm.ols(formula=\"loan_amount ~ gender\", data=train_set).fit()"
   ]
  }
 ],
 "metadata": {
  "kernelspec": {
   "display_name": "Python 3",
   "language": "python",
   "name": "python3"
  },
  "language_info": {
   "codemirror_mode": {
    "name": "ipython",
    "version": 3
   },
   "file_extension": ".py",
   "mimetype": "text/x-python",
   "name": "python",
   "nbconvert_exporter": "python",
   "pygments_lexer": "ipython3",
   "version": "3.6.3"
  }
 },
 "nbformat": 4,
 "nbformat_minor": 2
}
