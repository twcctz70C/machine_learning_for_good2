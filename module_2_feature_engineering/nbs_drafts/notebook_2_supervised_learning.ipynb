{
 "cells": [
  {
   "cell_type": "markdown",
   "metadata": {},
   "source": [
    "# Lab 2: Supervised Learning"
   ]
  },
  {
   "cell_type": "markdown",
   "metadata": {},
   "source": [
    "In this lab, we prepare our Kiva data for a linear regression, and run linear regressions that attempt to answer questions we may have as Kiva borrowers: \n",
    "\n",
    "1. How much should I ask for on Kiva? \n",
    "2. When will I receive my loan? (i.e. when will my loan be disbursed to me?) \n",
    "\n",
    "In the language of Module 1, our outcome features are: \n",
    "\n",
    "1. loan_amount\n",
    "4. days_to_disburse (we will make this variable in this notebook!)\n",
    "\n",
    "We will try using and evaluating different explanatory features in this notebook. \n",
    "\n",
    "But first, we will load the packages we need for this section, and our data. As a reminder, we had 3 raw data files (loans_full, loans_detail, and loans_partner_details). In Notebook 1, we merged these data files to form the data frame \"df\", which we will  use now.  "
   ]
  },
  {
   "cell_type": "code",
   "execution_count": 3,
   "metadata": {
    "collapsed": false
   },
   "outputs": [],
   "source": [
    "## Import packages\n",
    "\n",
    "import pandas as pd\n",
    "import numpy as np\n",
    "from datetime import datetime\n",
    "from ggplot import *\n",
    "%matplotlib inline\n",
    "\n",
    "# packages for checking assumptions\n",
    "from scipy import stats as stats\n",
    "\n",
    "# packages for linear regression and validation \n",
    "import statsmodels.formula.api as sm\n",
    "from sklearn import linear_model\n",
    "from sklearn.model_selection import train_test_split\n",
    "from sklearn.metrics import explained_variance_score\n",
    "from sklearn.metrics import mean_absolute_error\n",
    "from sklearn.metrics import mean_squared_error\n",
    "from sklearn import preprocessing\n",
    "from sklearn.preprocessing import OneHotEncoder\n",
    "import matplotlib.pyplot as plt"
   ]
  },
  {
   "cell_type": "code",
   "execution_count": 18,
   "metadata": {
    "collapsed": false
   },
   "outputs": [],
   "source": [
    "## Read in data\n",
    "\n",
    "##data_path = '~/intro_to_machine_learning/data'\n",
    "data_path = '~/intro_course_data_science_for_good/data/'\n",
    "df = pd.read_csv(data_path+'/df_module_1.csv', low_memory=False)"
   ]
  },
  {
   "cell_type": "markdown",
   "metadata": {},
   "source": [
    "## Creating Explanatory Features of Interest\n",
    "\n",
    "   ### Demographics\n",
    "\n",
    "Since we are interested in using the demographics of the Kiva borrowers as potential explanatory features, we will create, clean, and otherwise prepare these for linear regression. We are using some new methods: apply, str.contains, and np.where. "
   ]
  },
  {
   "cell_type": "code",
   "execution_count": 7,
   "metadata": {
    "collapsed": false
   },
   "outputs": [],
   "source": [
    "## Male/Female \n",
    "#  Note the apply function\n",
    "df['male'] = df['borrowers'].apply(lambda x: x.split(\"gender': '\")[1][0]=='M')\n",
    "\n",
    "## Whether or not the borrower is widowed\n",
    "#  Note the str.contains function\n",
    "df['widowed'] = np.where(df['description.texts.en'].str.contains(\"widowed|widow\", na=0) ==True, 1, 0)\n",
    "\n",
    "## Whether or not the borrower has children \n",
    "df['kids'] = np.where(df['description.texts.en'].str.contains(\"kids|child|children|kid|son|daughter\", na=0) ==True,1,0)"
   ]
  },
  {
   "cell_type": "markdown",
   "metadata": {},
   "source": [
    "In this code snippet, apply and str.contains create several new Boolean variables. \n",
    "\n",
    "To create the \"male\" feature, we are using the feature \"borrowers\". A sample observation from this feature looks like this: \n",
    "\n",
    "    [{'first_name': 'James', 'last_name': '', 'gender': 'M', 'pictured': True}]\n",
    "\n",
    "By using [apply](https://pandas.pydata.org/pandas-docs/stable/generated/pandas.DataFrame.apply.html), we split each observation (using split) along the section of the string that says 'gender'. Then we code the feature \"male\" to be 1 or 0 depending on whether the string says \"M\" or \"F\". \n",
    "\n",
    "In creating the \"widowed\" and \"kids\" feature, we are using Numpy's [where](https://docs.scipy.org/doc/numpy/reference/generated/numpy.where.html) function  and Panda's [str.contains](https://pandas.pydata.org/pandas-docs/stable/generated/pandas.Series.str.contains.html) to filter the data such that we are only creating a Boolean variable for those observations in which we find the strings of interest - in this case, any variation of the words widow, and any indication of children. Note that we try to be inclusive by testing for variations like \"daughter\" and \"son.\""
   ]
  },
  {
   "cell_type": "markdown",
   "metadata": {},
   "source": [
    "### Loan features\n",
    "\n",
    "Next we create features related to the conditions surrounding each loan posting, including: \n",
    "1. Whether or not a borrower has included a video or a picture: \n",
    "    1. Here, our intuition tells us that if a borrower includes more personal details and imagery, lenders are more likely to lend to them. We create this variable so we can differentiate between loans that have these personal details and loans that do not.  \n",
    "2. When loans are funded\n",
    "3. When loans are disbursed\n",
    "4. When loans expire"
   ]
  },
  {
   "cell_type": "code",
   "execution_count": 7,
   "metadata": {
    "collapsed": true
   },
   "outputs": [],
   "source": [
    "## Features of the loan posting\n",
    "\n",
    "## Does the borrower include a video? \n",
    "df['video'] = np.where(pd.isnull(df['video.id']) ==False, 1, 0)\n",
    "\n",
    "## Does the borrower include a picture? \n",
    "df['pictured'] = df['borrowers'].apply(lambda x: x.split(\"gender': '\")[1][0]==True)"
   ]
  },
  {
   "cell_type": "markdown",
   "metadata": {},
   "source": [
    "In order to get information on how much time it took for a loan to be funded or be disbursed or expire, we first need to make sure that the data is in Python's datetime format. Once all relevant features are converted to this format, we can perform operations on them. In this case, we want to find out how many days elapsed between two dates, so we subtract the earlier date from the later date. \n",
    "\n",
    "As we saw in Module 1, we first need to ensure that our date features are converted to datetime format using the `to_datetime` function. We also then create a day feature from each of the datetime differences we calculated for each so that we can easily evaluate the days to fund, days to disburse, and days to expire."
   ]
  },
  {
   "cell_type": "code",
   "execution_count": 19,
   "metadata": {
    "collapsed": false
   },
   "outputs": [],
   "source": [
    "## convert columns to datetime format\n",
    "df['posted_datetime'] = pd.to_datetime(df['posted_datetime'])\n",
    "df['planned_expiration_datetime'] = pd.to_datetime(df['planned_expiration_date'])\n",
    "df['funded_datetime'] = pd.to_datetime(df['funded_datetime'])\n",
    "df['disbursal_datetime'] = pd.to_datetime(df['terms.disbursal_date'])\n",
    "\n",
    "## Time to fund is the funded date minus the posted date\n",
    "df['time_to_fund_datetime'] =df['funded_datetime'] - df['posted_datetime']\n",
    "df['days_to_fund'] = df.time_to_fund_datetime.dt.days\n",
    "## Adding in an Hours to fund feature for additional precision\n",
    "df['hours_to_fund'] = df.time_to_fund_datetime.dt.seconds / 3600 + (df['days_to_fund'] *24)\n",
    "\n",
    "## Time to dispursement is the Disbursed date minus the Posted Date\n",
    "df['time_to_disb_datetime'] =df['disbursal_datetime'] - df['posted_datetime']\n",
    "df['days_to_disb'] = df.time_to_disb_datetime.dt.days\n",
    "\n",
    "## Time to expiration is the expiration date minus the Posted Date\n",
    "df['time_to_expire_datetime'] =df['planned_expiration_datetime'] - df['posted_datetime']\n",
    "df['days_to_expire'] = df.time_to_expire_datetime.dt.days\n",
    "\n",
    "##DEVNOTE: Add a variable for posted hour of day -- as Sara pointed out, loans posted in middle of the night might take longer"
   ]
  },
  {
   "cell_type": "markdown",
   "metadata": {},
   "source": [
    "We can confirm that the `days_to_fund` feature is a float, as we would expect using the `.dtype` function"
   ]
  },
  {
   "cell_type": "code",
   "execution_count": 55,
   "metadata": {
    "collapsed": false
   },
   "outputs": [
    {
     "data": {
      "text/plain": [
       "dtype('float64')"
      ]
     },
     "execution_count": 55,
     "metadata": {},
     "output_type": "execute_result"
    }
   ],
   "source": [
    "df['days_to_fund'].dtype"
   ]
  },
  {
   "cell_type": "markdown",
   "metadata": {},
   "source": [
    "## Checking Assumptions\n",
    "\n",
    "### Normality\n",
    "In Module 2, we reviewed that normal distribution of variables is an assumption underlying linear regression. Here, we go over an example of abnormal distribution and explain why it is inappropriate to use in a regression."
   ]
  },
  {
   "cell_type": "code",
   "execution_count": 6,
   "metadata": {
    "collapsed": false,
    "scrolled": true
   },
   "outputs": [
    {
     "data": {
      "image/png": "[encoded data removed]",
      "text/plain": [
       "<matplotlib.figure.Figure at 0x1f5aa2f6470>"
      ]
     },
     "metadata": {},
     "output_type": "display_data"
    },
    {
     "data": {
      "text/plain": [
       "<ggplot: (134664615579)>"
      ]
     },
     "execution_count": 6,
     "metadata": {},
     "output_type": "execute_result"
    }
   ],
   "source": [
    "ggplot(df.query('days_to_fund >= 0'), aes(x='days_to_fund')) + geom_histogram(binwidth=1, fill=\"blue\") + \\\n",
    "ggtitle(\"Days to Fund a Loan on Kiva\") + xlab(\"Number of Days\") + ylab(\"Count of Loans\")"
   ]
  },
  {
   "cell_type": "markdown",
   "metadata": {},
   "source": [
    "Most loans are funded astoundingly quickly! The majority of loans are funded 0 days after being posted. There is also a spike that occurs around the 30 day mark, suggesting that there is a cluster of loans that are funded before the expiration date of 30 days.\n",
    "\n",
    "Based on our conversations with Kiva representatives, we learned that there are groups of lenders who are dedicated to savings loans from expiring, and actively look for projects which are going expire and fund them. Given that 30 days is a common expiration timeframe, this explains the spike we see at 30.\n",
    "\n",
    "In concept, the number of days that it takes a loan to fund would be very interesting as an outcome feature. However, due to the fact that most loans get fulfilled immediately or at the 30-day mark, the model would not be very good at predicting the days it would take to fund any new loans. Rather, the model would predict that any loan would be fulfilled either immediately or at Day 30. "
   ]
  },
  {
   "cell_type": "markdown",
   "metadata": {},
   "source": [
    "Given the clumping around 0 days, let's take a look at the hours distribution of funding time"
   ]
  },
  {
   "cell_type": "code",
   "execution_count": 97,
   "metadata": {
    "collapsed": false
   },
   "outputs": [
    {
     "data": {
      "image/png": "[encoded data removed]",
      "text/plain": [
       "<matplotlib.figure.Figure at 0x206933a90>"
      ]
     },
     "metadata": {},
     "output_type": "display_data"
    },
    {
     "data": {
      "text/plain": [
       "<ggplot: (550514138)>"
      ]
     },
     "execution_count": 97,
     "metadata": {},
     "output_type": "execute_result"
    }
   ],
   "source": [
    "## Checking the distribution of hours to fund\n",
    "ggplot(df.query('hours_to_fund >= 0'), aes(x='hours_to_fund')) + geom_histogram(binwidth = 8, fill=\"blue\") + \\\n",
    "ggtitle(\"Hours to Fund a Loan on Kiva\") + xlab(\"Number of Hours\") + ylab(\"Count of Loans\") + xlim(0,1000)"
   ]
  },
  {
   "cell_type": "markdown",
   "metadata": {},
   "source": [
    "Wow! the vast majority are funded in under 8 hours.\n",
    "*** Hold for more information from Kiva ***\n",
    "\n",
    "Let's also take a look at the distribution of loans funded within 24 hours of posting"
   ]
  },
  {
   "cell_type": "code",
   "execution_count": 108,
   "metadata": {
    "collapsed": false
   },
   "outputs": [
    {
     "data": {
      "image/png": "[encoded data removed]",
      "text/plain": [
       "<matplotlib.figure.Figure at 0x227106e48>"
      ]
     },
     "metadata": {},
     "output_type": "display_data"
    },
    {
     "data": {
      "text/plain": [
       "<ggplot: (590024740)>"
      ]
     },
     "execution_count": 108,
     "metadata": {},
     "output_type": "execute_result"
    }
   ],
   "source": [
    "## Checking the distribution of hours to fund\n",
    "ggplot(df.query('hours_to_fund >= 0'), aes(x='hours_to_fund')) + geom_histogram(binwidth = 1, fill=\"blue\") + \\\n",
    "ggtitle(\"Hours to Fund a Loan on Kiva\") + xlab(\"Number of Hours\") + ylab(\"Count of Loans\") + xlim(0,24)"
   ]
  },
  {
   "cell_type": "code",
   "execution_count": 98,
   "metadata": {
    "collapsed": true
   },
   "outputs": [],
   "source": [
    "## Creating a binary for loans funded in less that 25 days\n",
    "## DEV NOTE: I chose 25 arbitrarily -- I think the threshold should be a few days before 30 since the \"savers\" likely come in a few days prior\n",
    "\n",
    "df['funded_lt_25_days'] = np.where(df['days_to_fund'] <= 25, 1, 0)"
   ]
  },
  {
   "cell_type": "code",
   "execution_count": 106,
   "metadata": {
    "collapsed": false
   },
   "outputs": [
    {
     "data": {
      "text/plain": [
       "21098"
      ]
     },
     "execution_count": 106,
     "metadata": {},
     "output_type": "execute_result"
    }
   ],
   "source": [
    "len(df.query('funded_lt_25_days == 0'))"
   ]
  },
  {
   "cell_type": "markdown",
   "metadata": {},
   "source": [
    "We can see that 21,098 loans were not funded within 25 days of posting"
   ]
  },
  {
   "cell_type": "code",
   "execution_count": 107,
   "metadata": {
    "collapsed": false
   },
   "outputs": [
    {
     "data": {
      "text/plain": [
       "106860"
      ]
     },
     "execution_count": 107,
     "metadata": {},
     "output_type": "execute_result"
    }
   ],
   "source": [
    "len(df.query('funded_lt_25_days == 1'))"
   ]
  },
  {
   "cell_type": "markdown",
   "metadata": {},
   "source": [
    "We can see that 106,860 loans **were** funded within 25 days of posting\n",
    "It will be interesting to explore what makes a loan more likely to get funded within this time window, given that we know loans funded close to expiration date are often funded by last-minute lenders who jump in at the last minute to \"save\" loans"
   ]
  },
  {
   "cell_type": "code",
   "execution_count": 21,
   "metadata": {
    "collapsed": false
   },
   "outputs": [
    {
     "name": "stderr",
     "output_type": "stream",
     "text": [
      "/Users/erourke/anaconda/lib/python3.5/site-packages/ipykernel/__main__.py:3: SettingWithCopyWarning: \n",
      "A value is trying to be set on a copy of a slice from a DataFrame.\n",
      "Try using .loc[row_indexer,col_indexer] = value instead\n",
      "\n",
      "See the caveats in the documentation: http://pandas.pydata.org/pandas-docs/stable/indexing.html#indexing-view-versus-copy\n",
      "  app.launch_new_instance()\n"
     ]
    }
   ],
   "source": [
    "## Looking at the average loan sizes by hour bucket for loans funded in < 2 days\n",
    "df_under_2_days = df.query(\"hours_to_fund <= 48 & hours_to_fund >= 0\")\n",
    "df_under_2_days['hours_to_fund_rd'] = df_under_2_days['hours_to_fund'].apply(lambda x: round(x,0))"
   ]
  },
  {
   "cell_type": "code",
   "execution_count": 22,
   "metadata": {
    "collapsed": false
   },
   "outputs": [
    {
     "data": {
      "text/plain": [
       "<matplotlib.axes._subplots.AxesSubplot at 0x14e92f438>"
      ]
     },
     "execution_count": 22,
     "metadata": {},
     "output_type": "execute_result"
    },
    {
     "data": {
      "image/png": "[encoded data removed]",
      "text/plain": [
       "<matplotlib.figure.Figure at 0x114a57fd0>"
      ]
     },
     "metadata": {},
     "output_type": "display_data"
    }
   ],
   "source": [
    "df_under_2_days.groupby('hours_to_fund_rd')['loan_amount'].mean().plot(kind=\"bar\", title=\"Average Loan Value By Hours to Fund\",figsize=(13, 8))"
   ]
  },
  {
   "cell_type": "code",
   "execution_count": 7,
   "metadata": {
    "collapsed": false,
    "scrolled": true
   },
   "outputs": [
    {
     "data": {
      "image/png": "[encoded data removed]",
      "text/plain": [
       "<matplotlib.figure.Figure at 0x1f59338bb00>"
      ]
     },
     "metadata": {},
     "output_type": "display_data"
    },
    {
     "data": {
      "text/plain": [
       "<ggplot: (134643936183)>"
      ]
     },
     "execution_count": 7,
     "metadata": {},
     "output_type": "execute_result"
    }
   ],
   "source": [
    "ggplot(df.query('days_to_disb < 100 & days_to_disb > -100'), aes(x='days_to_disb')) + geom_histogram(binwidth=2, fill=\"blue\") + \\\n",
    "ggtitle(\"Days to Disburse a Loan on Kiva\") + xlab(\"Number of Days\") + ylab(\"Count of Loans\")"
   ]
  },
  {
   "cell_type": "markdown",
   "metadata": {},
   "source": [
    "Note that this histogram exhibits a generally normal distribution. Interestingly, it is centered around -10. This implies that the average loan gets disbursed to the borrower <b>prior</b> to getting posted. \n",
    "\n",
    "At this point, we would consult with Kiva to make sure that our understanding of the data is correct. Based on our conversations with Kiva representatives, we found out that Kiva encourages partners to disburse loans to borrowers in case there are time-sensitive loans. In the area of agriculture, for example, it is understandable that a borrower might need capital right away in order to plant crops while the season is right. \n",
    "\n",
    "We can also do a more statistical test of skewness. \n",
    "Scipy's stats package allows you to conduct a [skew](https://docs.scipy.org/doc/scipy-0.19.0/reference/generated/scipy.stats.skew.html) test. A normally distributed dataset would return about 0. A skewness value of greater than 0 means there is more in the left tail fo the distribution. Typically, a skew score of +-1 is deemed acceptable."
   ]
  },
  {
   "cell_type": "code",
   "execution_count": 15,
   "metadata": {
    "collapsed": false
   },
   "outputs": [
    {
     "name": "stdout",
     "output_type": "stream",
     "text": [
      "0.05968974739879329\n"
     ]
    }
   ],
   "source": [
    "print(stats.skew(df.days_to_disb, axis=None, nan_policy = 'omit'))"
   ]
  },
  {
   "cell_type": "markdown",
   "metadata": {},
   "source": [
    "Great -- this is within our expected range of values! \n",
    "\n",
    "Let's turn now to the loan_amount variable. "
   ]
  },
  {
   "cell_type": "code",
   "execution_count": 7,
   "metadata": {
    "collapsed": false,
    "scrolled": true
   },
   "outputs": [
    {
     "data": {
      "image/png": "[encoded data removed]",
      "text/plain": [
       "<matplotlib.figure.Figure at 0x1618806beb8>"
      ]
     },
     "metadata": {},
     "output_type": "display_data"
    },
    {
     "data": {
      "text/plain": [
       "<ggplot: (-9223371941954301717)>"
      ]
     },
     "execution_count": 7,
     "metadata": {},
     "output_type": "execute_result"
    }
   ],
   "source": [
    "ggplot(df, aes(x='loan_amount')) + geom_histogram(binwidth=100, fill=\"blue\") + xlim(0, 10000) + \\\n",
    "ggtitle(\"Loan Amounts Requested on Kiva\") + xlab(\"Loan Amounts\") + ylab(\"Count of Loans\")"
   ]
  },
  {
   "cell_type": "markdown",
   "metadata": {},
   "source": [
    "This data looks pretty skewed to the left, towards values of $25, which we know is the minimum Kiva asks from lenders. Let's try a skew test. "
   ]
  },
  {
   "cell_type": "code",
   "execution_count": 16,
   "metadata": {
    "collapsed": false
   },
   "outputs": [
    {
     "name": "stdout",
     "output_type": "stream",
     "text": [
      "34.50497586801526\n"
     ]
    }
   ],
   "source": [
    "print(stats.skew(df.loan_amount, axis=None))"
   ]
  },
  {
   "cell_type": "markdown",
   "metadata": {},
   "source": [
    "This confirms our suspicion that the data is skewed to the left. How can we fix this? \n",
    "\n",
    "One potential solution is to **log transform** your data. For a quick review of logarithms, look [here](https://www.mathsisfun.com/algebra/logarithms.html). \n",
    "\n",
    "Note that when we log transform data, we change our interpretation of the final regression output. Previously we had a simple linear equation... \n",
    "\n",
    "    y = mx + b\n",
    "\n",
    "This could be interpreted as, with every unit increase in x, we get a m increase in outcome feature y. Now we have a log equation: \n",
    "\n",
    "    log(y) = mx + b\n",
    "    \n",
    "This is less intuitive, as we have to solve for y. When we solve for y through exponentiation, we get the following equation: \n",
    "\n",
    "    y = 10^(mx + b)\n",
    "    y = 10^(mx) * 10^(b)\n",
    "\n",
    "The default base for log is 10. The takeaway here is that the impact x would have on y is much larger than linear - it is **exponentiated**. We will return to this interpretation in the discussion of the linear regression model. Let's try log transforming our loan_amount variable. "
   ]
  },
  {
   "cell_type": "code",
   "execution_count": 14,
   "metadata": {
    "collapsed": false
   },
   "outputs": [
    {
     "data": {
      "image/png": "[encoded data removed]",
      "text/plain": [
       "<matplotlib.figure.Figure at 0x119cbccf8>"
      ]
     },
     "metadata": {},
     "output_type": "display_data"
    },
    {
     "data": {
      "text/plain": [
       "<ggplot: (-9223372036581739730)>"
      ]
     },
     "execution_count": 14,
     "metadata": {},
     "output_type": "execute_result"
    }
   ],
   "source": [
    "df['log_loan_amount'] = np.log(df['loan_amount'])\n",
    "\n",
    "ggplot(df, aes(x='log_loan_amount')) + geom_histogram(binwidth=0.3, fill=\"blue\") + \\\n",
    "ggtitle(\"Log Loan Amounts Requested on Kiva\") + xlab(\"Log Loan Amounts\") + ylab(\"Count of Loans\")"
   ]
  },
  {
   "cell_type": "code",
   "execution_count": 21,
   "metadata": {
    "collapsed": false
   },
   "outputs": [
    {
     "name": "stdout",
     "output_type": "stream",
     "text": [
      "0.162080171976504\n"
     ]
    }
   ],
   "source": [
    "print(stats.skew(df['log_loan_amount']))"
   ]
  },
  {
   "cell_type": "markdown",
   "metadata": {},
   "source": [
    "Great! This looks much closer to normal, both in the chart and in our skew statistic.\n",
    "\n",
    "Let's turn now to checking our other assumptions."
   ]
  },
  {
   "cell_type": "markdown",
   "metadata": {},
   "source": [
    "### Check for multicollinearity"
   ]
  },
  {
   "cell_type": "markdown",
   "metadata": {},
   "source": [
    "Numpy's Corrcoef function returns a matrix of Pearson correlation coefficients. To recap Module 2's lesson, multicollinearity is a problem when we have highly correlated explanatory features, as this makes it difficult for the model to try to differentitae between each feature's influence on the explanatory feature. Read more about Numpy's Corrcoef [here](https://docs.scipy.org/doc/numpy-1.10.1/reference/generated/numpy.corrcoef.html).\n",
    "\n",
    "Try running different features!"
   ]
  },
  {
   "cell_type": "code",
   "execution_count": 8,
   "metadata": {
    "collapsed": false
   },
   "outputs": [
    {
     "data": {
      "text/plain": [
       "array([[ 1.        ,  0.97373115],\n",
       "       [ 0.97373115,  1.        ]])"
      ]
     },
     "execution_count": 8,
     "metadata": {},
     "output_type": "execute_result"
    }
   ],
   "source": [
    "np.corrcoef(df.loan_amount, df.funded_amount)"
   ]
  },
  {
   "cell_type": "markdown",
   "metadata": {},
   "source": [
    "This tells us that loan amount and funded amount are extremely highly correlated - a vast majority of loans requested get funded! Normally, we would be interested in both loan_amount and funded_amount as an outcome feature, but here we see that it would be redundant to test both. \n",
    "\n",
    "It would take a long time for us to test each and every relationship between two sets of variables, so let's create a correlation matrix that lets us visualize every correlation in a dataset using Pandas."
   ]
  },
  {
   "cell_type": "code",
   "execution_count": 51,
   "metadata": {
    "collapsed": false
   },
   "outputs": [
    {
     "data": {
      "text/html": [
       "<div>\n",
       "<table border=\"1\" class=\"dataframe\">\n",
       "  <thead>\n",
       "    <tr style=\"text-align: right;\">\n",
       "      <th></th>\n",
       "      <th>funded_amount</th>\n",
       "      <th>loan_amount</th>\n",
       "      <th>log_loan_amount</th>\n",
       "      <th>lender_count</th>\n",
       "      <th>borrower_count</th>\n",
       "      <th>male</th>\n",
       "      <th>widowed</th>\n",
       "      <th>kids</th>\n",
       "      <th>video</th>\n",
       "      <th>pictured</th>\n",
       "      <th>days_to_fund</th>\n",
       "      <th>days_to_exp</th>\n",
       "      <th>days_to_disb</th>\n",
       "    </tr>\n",
       "  </thead>\n",
       "  <tbody>\n",
       "    <tr>\n",
       "      <th>funded_amount</th>\n",
       "      <td>1.000000</td>\n",
       "      <td>0.973731</td>\n",
       "      <td>0.570185</td>\n",
       "      <td>0.958748</td>\n",
       "      <td>0.207189</td>\n",
       "      <td>0.061492</td>\n",
       "      <td>-0.013872</td>\n",
       "      <td>-0.001413</td>\n",
       "      <td>0.138228</td>\n",
       "      <td>NaN</td>\n",
       "      <td>0.140077</td>\n",
       "      <td>-0.016051</td>\n",
       "      <td>0.069954</td>\n",
       "    </tr>\n",
       "    <tr>\n",
       "      <th>loan_amount</th>\n",
       "      <td>0.973731</td>\n",
       "      <td>1.000000</td>\n",
       "      <td>0.592362</td>\n",
       "      <td>0.929451</td>\n",
       "      <td>0.224420</td>\n",
       "      <td>0.080255</td>\n",
       "      <td>-0.017096</td>\n",
       "      <td>0.005015</td>\n",
       "      <td>0.132079</td>\n",
       "      <td>NaN</td>\n",
       "      <td>0.140077</td>\n",
       "      <td>-0.017401</td>\n",
       "      <td>0.070419</td>\n",
       "    </tr>\n",
       "    <tr>\n",
       "      <th>log_loan_amount</th>\n",
       "      <td>0.570185</td>\n",
       "      <td>0.592362</td>\n",
       "      <td>1.000000</td>\n",
       "      <td>0.545851</td>\n",
       "      <td>0.359968</td>\n",
       "      <td>0.158547</td>\n",
       "      <td>-0.024470</td>\n",
       "      <td>0.050699</td>\n",
       "      <td>0.006643</td>\n",
       "      <td>NaN</td>\n",
       "      <td>0.284243</td>\n",
       "      <td>-0.072968</td>\n",
       "      <td>0.006317</td>\n",
       "    </tr>\n",
       "    <tr>\n",
       "      <th>lender_count</th>\n",
       "      <td>0.958748</td>\n",
       "      <td>0.929451</td>\n",
       "      <td>0.545851</td>\n",
       "      <td>1.000000</td>\n",
       "      <td>0.184030</td>\n",
       "      <td>0.040503</td>\n",
       "      <td>-0.012369</td>\n",
       "      <td>-0.015207</td>\n",
       "      <td>0.128814</td>\n",
       "      <td>NaN</td>\n",
       "      <td>0.151728</td>\n",
       "      <td>-0.020051</td>\n",
       "      <td>0.084355</td>\n",
       "    </tr>\n",
       "    <tr>\n",
       "      <th>borrower_count</th>\n",
       "      <td>0.207189</td>\n",
       "      <td>0.224420</td>\n",
       "      <td>0.359968</td>\n",
       "      <td>0.184030</td>\n",
       "      <td>1.000000</td>\n",
       "      <td>0.024376</td>\n",
       "      <td>-0.040443</td>\n",
       "      <td>0.081121</td>\n",
       "      <td>-0.004759</td>\n",
       "      <td>NaN</td>\n",
       "      <td>0.169634</td>\n",
       "      <td>-0.021430</td>\n",
       "      <td>0.306130</td>\n",
       "    </tr>\n",
       "    <tr>\n",
       "      <th>male</th>\n",
       "      <td>0.061492</td>\n",
       "      <td>0.080255</td>\n",
       "      <td>0.158547</td>\n",
       "      <td>0.040503</td>\n",
       "      <td>0.024376</td>\n",
       "      <td>1.000000</td>\n",
       "      <td>-0.081937</td>\n",
       "      <td>-0.008959</td>\n",
       "      <td>0.000138</td>\n",
       "      <td>NaN</td>\n",
       "      <td>0.131358</td>\n",
       "      <td>0.003421</td>\n",
       "      <td>-0.079105</td>\n",
       "    </tr>\n",
       "    <tr>\n",
       "      <th>widowed</th>\n",
       "      <td>-0.013872</td>\n",
       "      <td>-0.017096</td>\n",
       "      <td>-0.024470</td>\n",
       "      <td>-0.012369</td>\n",
       "      <td>-0.040443</td>\n",
       "      <td>-0.081937</td>\n",
       "      <td>1.000000</td>\n",
       "      <td>0.051539</td>\n",
       "      <td>0.009790</td>\n",
       "      <td>NaN</td>\n",
       "      <td>-0.054506</td>\n",
       "      <td>0.003213</td>\n",
       "      <td>-0.022107</td>\n",
       "    </tr>\n",
       "    <tr>\n",
       "      <th>kids</th>\n",
       "      <td>-0.001413</td>\n",
       "      <td>0.005015</td>\n",
       "      <td>0.050699</td>\n",
       "      <td>-0.015207</td>\n",
       "      <td>0.081121</td>\n",
       "      <td>-0.008959</td>\n",
       "      <td>0.051539</td>\n",
       "      <td>1.000000</td>\n",
       "      <td>0.001298</td>\n",
       "      <td>NaN</td>\n",
       "      <td>0.024891</td>\n",
       "      <td>-0.052238</td>\n",
       "      <td>-0.151990</td>\n",
       "    </tr>\n",
       "    <tr>\n",
       "      <th>video</th>\n",
       "      <td>0.138228</td>\n",
       "      <td>0.132079</td>\n",
       "      <td>0.006643</td>\n",
       "      <td>0.128814</td>\n",
       "      <td>-0.004759</td>\n",
       "      <td>0.000138</td>\n",
       "      <td>0.009790</td>\n",
       "      <td>0.001298</td>\n",
       "      <td>1.000000</td>\n",
       "      <td>NaN</td>\n",
       "      <td>-0.010764</td>\n",
       "      <td>0.000308</td>\n",
       "      <td>0.013590</td>\n",
       "    </tr>\n",
       "    <tr>\n",
       "      <th>pictured</th>\n",
       "      <td>NaN</td>\n",
       "      <td>NaN</td>\n",
       "      <td>NaN</td>\n",
       "      <td>NaN</td>\n",
       "      <td>NaN</td>\n",
       "      <td>NaN</td>\n",
       "      <td>NaN</td>\n",
       "      <td>NaN</td>\n",
       "      <td>NaN</td>\n",
       "      <td>NaN</td>\n",
       "      <td>NaN</td>\n",
       "      <td>NaN</td>\n",
       "      <td>NaN</td>\n",
       "    </tr>\n",
       "    <tr>\n",
       "      <th>days_to_fund</th>\n",
       "      <td>0.140077</td>\n",
       "      <td>0.140077</td>\n",
       "      <td>0.284243</td>\n",
       "      <td>0.151728</td>\n",
       "      <td>0.169634</td>\n",
       "      <td>0.131358</td>\n",
       "      <td>-0.054506</td>\n",
       "      <td>0.024891</td>\n",
       "      <td>-0.010764</td>\n",
       "      <td>NaN</td>\n",
       "      <td>1.000000</td>\n",
       "      <td>0.001572</td>\n",
       "      <td>0.257400</td>\n",
       "    </tr>\n",
       "    <tr>\n",
       "      <th>days_to_exp</th>\n",
       "      <td>-0.016051</td>\n",
       "      <td>-0.017401</td>\n",
       "      <td>-0.072968</td>\n",
       "      <td>-0.020051</td>\n",
       "      <td>-0.021430</td>\n",
       "      <td>0.003421</td>\n",
       "      <td>0.003213</td>\n",
       "      <td>-0.052238</td>\n",
       "      <td>0.000308</td>\n",
       "      <td>NaN</td>\n",
       "      <td>0.001572</td>\n",
       "      <td>1.000000</td>\n",
       "      <td>0.092696</td>\n",
       "    </tr>\n",
       "    <tr>\n",
       "      <th>days_to_disb</th>\n",
       "      <td>0.069954</td>\n",
       "      <td>0.070419</td>\n",
       "      <td>0.006317</td>\n",
       "      <td>0.084355</td>\n",
       "      <td>0.306130</td>\n",
       "      <td>-0.079105</td>\n",
       "      <td>-0.022107</td>\n",
       "      <td>-0.151990</td>\n",
       "      <td>0.013590</td>\n",
       "      <td>NaN</td>\n",
       "      <td>0.257400</td>\n",
       "      <td>0.092696</td>\n",
       "      <td>1.000000</td>\n",
       "    </tr>\n",
       "  </tbody>\n",
       "</table>\n",
       "</div>"
      ],
      "text/plain": [
       "                 funded_amount  loan_amount  log_loan_amount  lender_count  \\\n",
       "funded_amount         1.000000     0.973731         0.570185      0.958748   \n",
       "loan_amount           0.973731     1.000000         0.592362      0.929451   \n",
       "log_loan_amount       0.570185     0.592362         1.000000      0.545851   \n",
       "lender_count          0.958748     0.929451         0.545851      1.000000   \n",
       "borrower_count        0.207189     0.224420         0.359968      0.184030   \n",
       "male                  0.061492     0.080255         0.158547      0.040503   \n",
       "widowed              -0.013872    -0.017096        -0.024470     -0.012369   \n",
       "kids                 -0.001413     0.005015         0.050699     -0.015207   \n",
       "video                 0.138228     0.132079         0.006643      0.128814   \n",
       "pictured                   NaN          NaN              NaN           NaN   \n",
       "days_to_fund          0.140077     0.140077         0.284243      0.151728   \n",
       "days_to_exp          -0.016051    -0.017401        -0.072968     -0.020051   \n",
       "days_to_disb          0.069954     0.070419         0.006317      0.084355   \n",
       "\n",
       "                 borrower_count      male   widowed      kids     video  \\\n",
       "funded_amount          0.207189  0.061492 -0.013872 -0.001413  0.138228   \n",
       "loan_amount            0.224420  0.080255 -0.017096  0.005015  0.132079   \n",
       "log_loan_amount        0.359968  0.158547 -0.024470  0.050699  0.006643   \n",
       "lender_count           0.184030  0.040503 -0.012369 -0.015207  0.128814   \n",
       "borrower_count         1.000000  0.024376 -0.040443  0.081121 -0.004759   \n",
       "male                   0.024376  1.000000 -0.081937 -0.008959  0.000138   \n",
       "widowed               -0.040443 -0.081937  1.000000  0.051539  0.009790   \n",
       "kids                   0.081121 -0.008959  0.051539  1.000000  0.001298   \n",
       "video                 -0.004759  0.000138  0.009790  0.001298  1.000000   \n",
       "pictured                    NaN       NaN       NaN       NaN       NaN   \n",
       "days_to_fund           0.169634  0.131358 -0.054506  0.024891 -0.010764   \n",
       "days_to_exp           -0.021430  0.003421  0.003213 -0.052238  0.000308   \n",
       "days_to_disb           0.306130 -0.079105 -0.022107 -0.151990  0.013590   \n",
       "\n",
       "                 pictured  days_to_fund  days_to_exp  days_to_disb  \n",
       "funded_amount         NaN      0.140077    -0.016051      0.069954  \n",
       "loan_amount           NaN      0.140077    -0.017401      0.070419  \n",
       "log_loan_amount       NaN      0.284243    -0.072968      0.006317  \n",
       "lender_count          NaN      0.151728    -0.020051      0.084355  \n",
       "borrower_count        NaN      0.169634    -0.021430      0.306130  \n",
       "male                  NaN      0.131358     0.003421     -0.079105  \n",
       "widowed               NaN     -0.054506     0.003213     -0.022107  \n",
       "kids                  NaN      0.024891    -0.052238     -0.151990  \n",
       "video                 NaN     -0.010764     0.000308      0.013590  \n",
       "pictured              NaN           NaN          NaN           NaN  \n",
       "days_to_fund          NaN      1.000000     0.001572      0.257400  \n",
       "days_to_exp           NaN      0.001572     1.000000      0.092696  \n",
       "days_to_disb          NaN      0.257400     0.092696      1.000000  "
      ]
     },
     "execution_count": 51,
     "metadata": {},
     "output_type": "execute_result"
    }
   ],
   "source": [
    "df_corr_tbl = df[['funded_amount', 'loan_amount', 'log_loan_amount', 'lender_count', 'borrower_count', 'male', 'widowed', 'kids', 'video', 'pictured', 'days_to_fund', 'days_to_exp', 'days_to_disb']]\n",
    "df_corr_tbl.corr()"
   ]
  },
  {
   "cell_type": "markdown",
   "metadata": {},
   "source": [
    "Of course, not every correlation in this table will be meaningful. A correlation table is useful as it provides a visual shortcut to see what relationships might be problematic for multicollinearity. "
   ]
  },
  {
   "cell_type": "markdown",
   "metadata": {},
   "source": [
    "## Linear Regression"
   ]
  },
  {
   "cell_type": "markdown",
   "metadata": {},
   "source": [
    "Now we're relatively confident about what our data looks like, let's try some regressions. We will focus in on outcome features time_to_disburse and loan_amount. We encourage you to explore other outcome features!  \n",
    "\n",
    "As discussed in Module 2, we will divide the data into training and test sets so we can validate our regression results.\n",
    "\n",
    "Note that training set should be larger than the test set, as we should train our model on as much data as possible. For this example, we divide the data 80% training / 20% test."
   ]
  },
  {
   "cell_type": "code",
   "execution_count": 115,
   "metadata": {
    "collapsed": false
   },
   "outputs": [],
   "source": [
    "##DEV NOTE: WE NEED TO EXCLUDE ERRONEOUS OBSERVATIONS. SPECIFICALLY LOANS FUNDED < 0 DAYS\n",
    "\n",
    "# Set training-test split %\n",
    "split_pct = 0.80\n",
    "\n",
    "# Remove null and NaN values \n",
    "df_cln = df[pd.notnull(df)]\n",
    "\n",
    "# the pandas command \"sample\" already randomizes its selection. \n",
    "loans_full_shuffled = df_cln.sample(frac=1)\n",
    "\n",
    "train_set = loans_full_shuffled[:int((len(loans_full_shuffled)+1*split_pct))] \n",
    "test_set = loans_full_shuffled[int(len(loans_full_shuffled)*split_pct+1):]  "
   ]
  },
  {
   "cell_type": "markdown",
   "metadata": {},
   "source": [
    "Now we have two separate datasets: train_set and test_set. We will run the regression on train_set\n",
    "using statsmodel's \"ols\" function. Let's try a simple example to start: "
   ]
  },
  {
   "cell_type": "code",
   "execution_count": 16,
   "metadata": {
    "collapsed": false
   },
   "outputs": [
    {
     "name": "stdout",
     "output_type": "stream",
     "text": [
      "                            OLS Regression Results                            \n",
      "==============================================================================\n",
      "Dep. Variable:            loan_amount   R-squared:                       0.006\n",
      "Model:                            OLS   Adj. R-squared:                  0.006\n",
      "Method:                 Least Squares   F-statistic:                     829.5\n",
      "Date:                Sat, 27 May 2017   Prob (F-statistic):          7.99e-182\n",
      "Time:                        22:12:43   Log-Likelihood:            -1.0162e+06\n",
      "No. Observations:              127958   AIC:                         2.032e+06\n",
      "Df Residuals:                  127956   BIC:                         2.032e+06\n",
      "Df Model:                           1                                         \n",
      "Covariance Type:            nonrobust                                         \n",
      "================================================================================\n",
      "                   coef    std err          t      P>|t|      [0.025      0.975]\n",
      "--------------------------------------------------------------------------------\n",
      "Intercept      435.2965      2.295    189.703      0.000     430.799     439.794\n",
      "male[T.True]   118.0963      4.100     28.801      0.000     110.059     126.133\n",
      "==============================================================================\n",
      "Omnibus:                   352466.551   Durbin-Watson:                   2.005\n",
      "Prob(Omnibus):                  0.000   Jarque-Bera (JB):      25161773100.654\n",
      "Skew:                          34.783   Prob(JB):                         0.00\n",
      "Kurtosis:                    2174.300   Cond. No.                         2.42\n",
      "==============================================================================\n",
      "\n",
      "Warnings:\n",
      "[1] Standard Errors assume that the covariance matrix of the errors is correctly specified.\n"
     ]
    }
   ],
   "source": [
    "model0 = sm.ols(formula=\"loan_amount ~ male\", data=train_set).fit()\n",
    "print(model0.summary())"
   ]
  },
  {
   "cell_type": "markdown",
   "metadata": {},
   "source": [
    "This is the typical regression output. It's a lot to digest! Remember that our simple model can be represented as a linear equation, like this: \n",
    "\n",
    "    loan_amount = intercept + coef*male\n",
    "\n",
    "Therefore, these results can be translated as follows: \n",
    "\n",
    "    loan_amount = intercept + 118.0963*male\n",
    "\n",
    "Noticeably, the coefficient for male is not small, suggesting that whether or not a borrower is male **does** influence loan_amount. We have a sufficient amount of confidence in this conclusion because the **p-value** is reported to be 0.000. In technical terms, the p-value is **the probability of getting results as extreme as the ones observed. **\n",
    "\n",
    "In statistics, we want our results to fall within the 95% confidence interval, or the p-value to be <= 0.05. This means, \"[i]f repeated samples were taken and the 95% confidence interval was computed for each sample, 95% of the intervals would contain the population mean. A 95% confidence interval has a 0.95 probability of containing the population mean. 95% of the population distribution is contained in the confidence interval.\" [Read more here.](http://www.investopedia.com/terms/s/standard-error.asp) The p-value is an indicator of where we fall in the confidence interval. In English, small p-value (<= 0.05) indicates strong evidence that the coefficient is different than 0. \n",
    "\n",
    "This is a relatively simplified explanation of p-values. Don't worry if it's not immediately intuitive - [not even professional statisticians can easily explain this concept.](http://fivethirtyeight.com/features/not-even-scientists-can-easily-explain-p-values/) To get a deeper understanding, we recommend grabbing the nearest textbook on statistics to review! \n",
    "\n",
    "Note also that the Adjusted R Squared is 0.006 - extremely low. To recap lessons from Module 2, the Adjusted R Squared is an explanation of how much of the outcome feature can be explained by the model's explanatory features. This low Adj R Squared suggests that the predictive value of male is pretty low - it cannot be used as the single feature to predict loan_amount. \n",
    "\n",
    "This result is in line with our understanding of the world - there must be other factors influencing loan_amount. Let's try complicating the model by adding more explanatory features. "
   ]
  },
  {
   "cell_type": "markdown",
   "metadata": {},
   "source": [
    "#### Model 1"
   ]
  },
  {
   "cell_type": "code",
   "execution_count": 17,
   "metadata": {
    "collapsed": false,
    "scrolled": false
   },
   "outputs": [
    {
     "name": "stdout",
     "output_type": "stream",
     "text": [
      "                            OLS Regression Results                            \n",
      "==============================================================================\n",
      "Dep. Variable:            loan_amount   R-squared:                       0.087\n",
      "Model:                            OLS   Adj. R-squared:                  0.087\n",
      "Method:                 Least Squares   F-statistic:                     644.4\n",
      "Date:                Sat, 27 May 2017   Prob (F-statistic):               0.00\n",
      "Time:                        22:13:32   Log-Likelihood:            -1.0107e+06\n",
      "No. Observations:              127958   AIC:                         2.022e+06\n",
      "Df Residuals:                  127938   BIC:                         2.022e+06\n",
      "Df Model:                          19                                         \n",
      "Covariance Type:            nonrobust                                         \n",
      "============================================================================================\n",
      "                               coef    std err          t      P>|t|      [0.025      0.975]\n",
      "--------------------------------------------------------------------------------------------\n",
      "Intercept                  363.1426      5.525     65.731      0.000     352.314     373.971\n",
      "sector[T.Arts]             -84.4178     24.012     -3.516      0.000    -131.480     -37.355\n",
      "sector[T.Clothing]         -29.6842      7.628     -3.892      0.000     -44.634     -14.734\n",
      "sector[T.Construction]     -36.9319     15.395     -2.399      0.016     -67.106      -6.757\n",
      "sector[T.Education]        440.3946     15.595     28.240      0.000     409.829     470.960\n",
      "sector[T.Entertainment]    -28.4517     56.046     -0.508      0.612    -138.301      81.398\n",
      "sector[T.Food]             -50.0978      5.266     -9.514      0.000     -60.418     -39.777\n",
      "sector[T.Health]           430.7152     18.249     23.602      0.000     394.947     466.484\n",
      "sector[T.Housing]           87.3380     23.309      3.747      0.000      41.652     133.023\n",
      "sector[T.Manufacturing]     62.3960     22.211      2.809      0.005      18.863     105.930\n",
      "sector[T.Personal Use]    -197.1983     13.812    -14.277      0.000    -224.270    -170.127\n",
      "sector[T.Retail]            28.2071      5.722      4.930      0.000      16.993      39.421\n",
      "sector[T.Services]         -25.5520      7.085     -3.607      0.000     -39.438     -11.666\n",
      "sector[T.Transportation]    18.2292     11.225      1.624      0.104      -3.772      40.230\n",
      "sector[T.Wholesale]        127.4946     56.434      2.259      0.024      16.885     238.104\n",
      "male[T.True]                97.6965      4.131     23.649      0.000      89.600     105.793\n",
      "pictured[T.True]         -8.753e-13   3.05e-14    -28.730      0.000   -9.35e-13   -8.16e-13\n",
      "borrower_count              51.5137      0.670     76.842      0.000      50.200      52.828\n",
      "kids                       -20.4500      4.669     -4.380      0.000     -29.601     -11.299\n",
      "widowed                    -13.4113     12.752     -1.052      0.293     -38.405      11.582\n",
      "video                     3708.3593     74.841     49.550      0.000    3561.673    3855.046\n",
      "==============================================================================\n",
      "Omnibus:                   355445.776   Durbin-Watson:                   2.001\n",
      "Prob(Omnibus):                  0.000   Jarque-Bera (JB):      27513925662.401\n",
      "Skew:                          35.555   Prob(JB):                         0.00\n",
      "Kurtosis:                    2273.572   Cond. No.                     8.07e+18\n",
      "==============================================================================\n",
      "\n",
      "Warnings:\n",
      "[1] Standard Errors assume that the covariance matrix of the errors is correctly specified.\n",
      "[2] The smallest eigenvalue is 2.48e-32. This might indicate that there are\n",
      "strong multicollinearity problems or that the design matrix is singular.\n"
     ]
    }
   ],
   "source": [
    "#### DEV NOTES \n",
    "## Keep as linear mod to max interpretability?\n",
    "## keeping statsmodels output - tables should be familiar to academia, other research \n",
    "\n",
    "model1 = sm.ols(formula=\"loan_amount ~ borrower_count + sector + kids + male + widowed + pictured + video\", data=train_set)\n",
    "model1_results = model1.fit()\n",
    "print(model1_results.summary())"
   ]
  },
  {
   "cell_type": "markdown",
   "metadata": {},
   "source": [
    "This **multi-feature** (or multivariate) model is more aligned with our understanding of the world. We see that Education and Health are sectors that get much larger loans, rather than sectors like Personal Use. We also see that males tend to get larger loans, and widows tend to get slightly smaller loans. Most coefficients have very low p-values - a good sign! \n",
    "\n",
    "However, our Adjusted R Squared is still pretty low. Let's get into how we evaluate the model in terms of predictiveness. "
   ]
  },
  {
   "cell_type": "markdown",
   "metadata": {},
   "source": [
    "## Model Validation"
   ]
  },
  {
   "cell_type": "markdown",
   "metadata": {},
   "source": [
    "<i>How can we evaluate how our model is doing? </i>\n",
    "\n",
    "In the previous section, we were able to get general ideas of how well our model was doing by using metrics like Adjusted R Squared, coefficients, and p-value. However, the goal of most machine learning is a model that can <b>predict outcome features accurately</b>. Recall that we randomly split our dataset into a training set (80%) and a test set (20%). Now we will use the results from the regression conducted on our training set to predict the outcome features for each observation in our test set. The difference between the predicted outcome feature and the actual outcome feature for each observation gives us an idea of how close we are to the mark.  \n",
    "\n",
    "In the previous section, we used the **statsmodel** package in order to output a regression output table. Now, we run the regression using the **scikit-learn** package, which is optimized specifically for machine learning and allows us to validate our models easily. Remember this package - we will be returning to it for the rest of the class!  "
   ]
  },
  {
   "cell_type": "markdown",
   "metadata": {},
   "source": [
    "#### Validation of Model 1:"
   ]
  },
  {
   "cell_type": "code",
   "execution_count": 111,
   "metadata": {
    "collapsed": false
   },
   "outputs": [],
   "source": [
    "#Pre Processing\n",
    "\n",
    "# Split the outcome and explanatory features into training/testing sets \n",
    "#  using our already-made training and test datasets\n",
    "train_set = pd.DataFrame(train_set)\n",
    "test_set = pd.DataFrame(test_set)\n",
    "train_set_y = train_set['loan_amount']\n",
    "test_set_y = test_set['loan_amount']\n",
    "\n",
    "# Process categorical variable \"Sector\" into individual Boolean features \n",
    "\n",
    "# Encode categorical variable 'sector' into numeric \n",
    "le = preprocessing.LabelEncoder()\n",
    "le.fit(train_set['sector'])\n",
    "\n",
    "# create array of sectors as numbers \n",
    "sector_as_num = le.transform(train_set['sector']).reshape(-1,1)\n",
    "\n",
    "# One-hot encode sectors of loans so that each sector has its own Boolean column (statsmodel does this automatically)\n",
    "enc = OneHotEncoder()\n",
    "enc.fit(sector_as_num)\n",
    "# Create array of columns\n",
    "sector_dummies = enc.transform(sector_as_num).toarray()\n",
    "sector_dummies = pd.DataFrame(sector_dummies, columns = [\"dummy_\"+str(i) for i in range(1,16)])\n",
    "# Join array of boolean columns with original training set \n",
    "#train_set = pd.concat([train_set, sector_dummies], axis=1)\n",
    "#test_set = pd.concat([test_set, sector_dummies], axis=1)"
   ]
  },
  {
   "cell_type": "code",
   "execution_count": 112,
   "metadata": {
    "collapsed": false
   },
   "outputs": [],
   "source": [
    "train_set_x = train_set[['borrower_count', 'kids', 'male', 'widowed', 'pictured', 'video', \\\n",
    "                         'dummy_1', 'dummy_2', 'dummy_3', 'dummy_4', 'dummy_5', 'dummy_6',\\\n",
    "                         'dummy_7','dummy_8','dummy_9','dummy_10','dummy_11','dummy_12','dummy_13',\\\n",
    "                         'dummy_14','dummy_15']]\n",
    "test_set_x = test_set[['borrower_count', 'kids', 'male', 'widowed', 'pictured', 'video', \\\n",
    "                      'dummy_1', 'dummy_2', 'dummy_3', 'dummy_4', 'dummy_5', 'dummy_6', \\\n",
    "                       'dummy_7','dummy_8','dummy_9','dummy_10','dummy_11','dummy_12','dummy_13',\\\n",
    "                       'dummy_14','dummy_15']]\n",
    "\n",
    "## DEV NOTE: I fixed the keyerror by adding the test_set concat step in the previous code block\n",
    "## Yields keyerror - dummies not found - debugging "
   ]
  },
  {
   "cell_type": "markdown",
   "metadata": {},
   "source": [
    "To pre-process, we separate our big dataset into specific segments: Explanatory Features and Outcome Features. For each set of features, we have a Test Set and a Training Set. "
   ]
  },
  {
   "cell_type": "code",
   "execution_count": null,
   "metadata": {
    "collapsed": true
   },
   "outputs": [],
   "source": [
    "# Linear Regression\n",
    "\n",
    "# Create linear regression object\n",
    "regr = linear_model.LinearRegression()\n",
    "\n",
    "# Train the model using the training sets\n",
    "model1 = regr.fit(train_set_x, train_set_y)\n",
    "print(model1)\n",
    "\n",
    "# The coefficients\n",
    "print('Coefficients: \\n', regr.coef_)\n",
    "# The mean squared error\n",
    "print(\"Mean squared error: %.2f\"\n",
    "      % np.mean((regr.predict(test_set_x) - test_set_y) ** 2))\n",
    "# Explained variance score: 1 is perfect prediction\n",
    "print('Variance score: %.2f' % regr.score(test_set_x, test_set_y))"
   ]
  },
  {
   "cell_type": "markdown",
   "metadata": {},
   "source": [
    "In this snippet, we run the linear regression and output the MSE, Explained variance score, and coefficients. Scikit learn's output is a little less intuitively laid out than the statsmodel output, but the outputs should match. \n",
    "\n",
    "## * DEV NOTE ** still need to encode sectors \n",
    "\n",
    "Now let's try to predict the test or \"holdout\" set using the output from the training set. "
   ]
  },
  {
   "cell_type": "code",
   "execution_count": null,
   "metadata": {
    "collapsed": true
   },
   "outputs": [],
   "source": [
    "y_pred = model1.predict(test_set_x)\n",
    "y_true = test_set_y\n",
    "\n",
    "y_pred"
   ]
  },
  {
   "cell_type": "markdown",
   "metadata": {},
   "source": [
    "##  DEV NOTE add'l commentary here\n",
    "\n",
    "Now we calculate statistics intended to shed light on how well these predicted values reflect the actual values of the outcome features. "
   ]
  },
  {
   "cell_type": "code",
   "execution_count": null,
   "metadata": {
    "collapsed": true
   },
   "outputs": [],
   "source": [
    "## Explained mean absolute error\n",
    "mean_absolute_error(y_true, y_pred)"
   ]
  },
  {
   "cell_type": "markdown",
   "metadata": {},
   "source": [
    "Explained mean absolute error is \"a quantity used to measure how close forecasts or predictions are to the eventual outcomes.\" Read more [here.](https://www.kaggle.com/wiki/MeanAbsoluteError). "
   ]
  },
  {
   "cell_type": "code",
   "execution_count": null,
   "metadata": {
    "collapsed": true
   },
   "outputs": [],
   "source": [
    "## Explained mean square error\n",
    "mean_squared_error(y_true, y_pred)"
   ]
  },
  {
   "cell_type": "markdown",
   "metadata": {},
   "source": [
    "Explained mean squared error is .... "
   ]
  },
  {
   "cell_type": "markdown",
   "metadata": {},
   "source": [
    "#### Model 2\n",
    "#### To be updated by ER\n",
    "### ER Notes: Let's change this to a regression where the explained variable is funded_lt_25_days. Not too difficult to explain -- the coefficients will just be the increased probability that a loan gets funded in that window"
   ]
  },
  {
   "cell_type": "code",
   "execution_count": 116,
   "metadata": {
    "collapsed": false
   },
   "outputs": [
    {
     "name": "stdout",
     "output_type": "stream",
     "text": [
      "                            OLS Regression Results                            \n",
      "==============================================================================\n",
      "Dep. Variable:      funded_lt_25_days   R-squared:                       0.106\n",
      "Model:                            OLS   Adj. R-squared:                  0.106\n",
      "Method:                 Least Squares   F-statistic:                     757.2\n",
      "Date:                Sat, 27 May 2017   Prob (F-statistic):               0.00\n",
      "Time:                        23:34:47   Log-Likelihood:                -47555.\n",
      "No. Observations:              127958   AIC:                         9.515e+04\n",
      "Df Residuals:                  127937   BIC:                         9.536e+04\n",
      "Df Model:                          20                                         \n",
      "Covariance Type:            nonrobust                                         \n",
      "============================================================================================\n",
      "                               coef    std err          t      P>|t|      [0.025      0.975]\n",
      "--------------------------------------------------------------------------------------------\n",
      "Intercept                    0.9725      0.003    321.668      0.000       0.967       0.978\n",
      "sector[T.Arts]               0.0884      0.013      6.839      0.000       0.063       0.114\n",
      "sector[T.Clothing]          -0.0532      0.004    -12.960      0.000      -0.061      -0.045\n",
      "sector[T.Construction]       0.1668      0.008     20.133      0.000       0.151       0.183\n",
      "sector[T.Education]          0.1348      0.008     16.015      0.000       0.118       0.151\n",
      "sector[T.Entertainment]      0.2016      0.030      6.685      0.000       0.143       0.261\n",
      "sector[T.Food]              -0.0033      0.003     -1.163      0.245      -0.009       0.002\n",
      "sector[T.Health]             0.2020      0.010     20.522      0.000       0.183       0.221\n",
      "sector[T.Housing]            0.0585      0.013      4.661      0.000       0.034       0.083\n",
      "sector[T.Manufacturing]      0.2174      0.012     18.184      0.000       0.194       0.241\n",
      "sector[T.Personal Use]       0.1185      0.007     15.929      0.000       0.104       0.133\n",
      "sector[T.Retail]            -0.0764      0.003    -24.799      0.000      -0.082      -0.070\n",
      "sector[T.Services]           0.0406      0.004     10.636      0.000       0.033       0.048\n",
      "sector[T.Transportation]    -0.0727      0.006    -12.028      0.000      -0.085      -0.061\n",
      "sector[T.Wholesale]          0.1759      0.030      5.791      0.000       0.116       0.235\n",
      "male[T.True]                -0.1376      0.002    -61.742      0.000      -0.142      -0.133\n",
      "pictured[T.True]         -6.018e-17   2.64e-16     -0.228      0.820   -5.78e-16    4.57e-16\n",
      "loan_amount              -6.122e-05    1.5e-06    -40.689      0.000   -6.42e-05   -5.83e-05\n",
      "borrower_count              -0.0213      0.000    -57.705      0.000      -0.022      -0.021\n",
      "kids                        -0.0300      0.003    -11.926      0.000      -0.035      -0.025\n",
      "widowed                      0.0865      0.007     12.609      0.000       0.073       0.100\n",
      "video                        0.3178      0.041      7.816      0.000       0.238       0.398\n",
      "==============================================================================\n",
      "Omnibus:                    31496.037   Durbin-Watson:                   2.009\n",
      "Prob(Omnibus):                  0.000   Jarque-Bera (JB):            62055.927\n",
      "Skew:                          -1.524   Prob(JB):                         0.00\n",
      "Kurtosis:                       4.533   Cond. No.                     1.29e+20\n",
      "==============================================================================\n",
      "\n",
      "Warnings:\n",
      "[1] Standard Errors assume that the covariance matrix of the errors is correctly specified.\n",
      "[2] The smallest eigenvalue is 5.28e-30. This might indicate that there are\n",
      "strong multicollinearity problems or that the design matrix is singular.\n"
     ]
    }
   ],
   "source": [
    "model2 = sm.ols(formula=\"funded_lt_25_days ~ loan_amount + borrower_count + sector + kids + male + widowed + pictured + video\", data=train_set)\n",
    "model2_results = model2.fit()\n",
    "print(model2_results.summary())"
   ]
  },
  {
   "cell_type": "markdown",
   "metadata": {},
   "source": [
    "In this model, we investigate our intuition that partners disburse loans quicker to borrowers whose need for capital is more time-sensitive than others. We see that requests from the Housing sector seem to be disbursed quicker, as does being male and having children. A higher borrower count looks like it makes time to disbursal longer. "
   ]
  },
  {
   "cell_type": "markdown",
   "metadata": {},
   "source": [
    "#### Validation of Model 2:"
   ]
  },
  {
   "cell_type": "code",
   "execution_count": null,
   "metadata": {
    "collapsed": true
   },
   "outputs": [],
   "source": [
    "#######"
   ]
  },
  {
   "cell_type": "code",
   "execution_count": null,
   "metadata": {
    "collapsed": true
   },
   "outputs": [],
   "source": [
    "## Explained Mean absolute error\n",
    "mean_absolute_error(y_true, y_pred)"
   ]
  },
  {
   "cell_type": "code",
   "execution_count": null,
   "metadata": {
    "collapsed": true
   },
   "outputs": [],
   "source": [
    "## Explained Mean square error\n",
    "mean_squared_error(y_true, y_pred)"
   ]
  }
 ],
 "metadata": {
  "kernelspec": {
   "display_name": "Python 3",
   "language": "python",
   "name": "python3"
  },
  "language_info": {
   "codemirror_mode": {
    "name": "ipython",
    "version": 3
   },
   "file_extension": ".py",
   "mimetype": "text/x-python",
   "name": "python",
   "nbconvert_exporter": "python",
   "pygments_lexer": "ipython3",
   "version": "3.5.1"
  }
 },
 "nbformat": 4,
 "nbformat_minor": 2
}
