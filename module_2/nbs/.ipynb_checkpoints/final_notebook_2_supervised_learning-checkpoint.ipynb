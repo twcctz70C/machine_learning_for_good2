{
 "cells": [
  {
   "cell_type": "markdown",
   "metadata": {},
   "source": [
    "# Lab 2: Supervised Learning"
   ]
  },
  {
   "cell_type": "markdown",
   "metadata": {},
   "source": [
    "In this lab, we prepare our Kiva data for a linear regression, and run linear regressions that attempt to answer a question we may have as Kiva borrowers: *What drives the loan amount requested by KIVA borrowers? * \n",
    "\n",
    "In the language of Module 1, our outcome feature is **loan_amount**. \n",
    "\n",
    "Here's a look ahead at what we'll be doing in this notebook: \n",
    "\n",
    "1. Load data and packages \n",
    "\n",
    "2. Create explanatory variables of interest \n",
    "\n",
    "3. Check our assumptions \n",
    "\n",
    "4. Linear Regression\n",
    "\n",
    "5. Model Validation\n"
   ]
  },
  {
   "cell_type": "markdown",
   "metadata": {},
   "source": [
    "First, we will load the packages we need for this section, and our data. As a reminder, we had 3 raw data files (loans_full, loans_detail, and loans_partner_details). In Notebook 1, we merged these data files and created new variables to form the data frame \"df\", which we will use now. **If you haven't already, please run through Notebook 1!**  "
   ]
  },
  {
   "cell_type": "code",
   "execution_count": 2,
   "metadata": {
    "collapsed": false
   },
   "outputs": [],
   "source": [
    "## Import packages\n",
    "\n",
    "import pandas as pd\n",
    "import numpy as np\n",
    "from datetime import datetime\n",
    "from ggplot import *\n",
    "from bs4 import BeautifulSoup\n",
    "import re as re\n",
    "import types\n",
    "%matplotlib inline\n",
    "\n",
    "# packages for checking assumptions\n",
    "from scipy import stats as stats\n",
    "\n",
    "# packages for linear regression and validation \n",
    "import statsmodels.formula.api as sm\n",
    "from sklearn import linear_model\n",
    "from sklearn.model_selection import train_test_split\n",
    "from sklearn.metrics import explained_variance_score\n",
    "from sklearn.metrics import mean_absolute_error\n",
    "from sklearn.metrics import mean_squared_error\n",
    "from sklearn import preprocessing\n",
    "from sklearn.preprocessing import OneHotEncoder\n",
    "import matplotlib.pyplot as plt"
   ]
  },
  {
   "cell_type": "code",
   "execution_count": 3,
   "metadata": {
    "collapsed": true
   },
   "outputs": [],
   "source": [
    "# the command below means that the output of multiple commands in a cell will be output at once.\n",
    "\n",
    "from IPython.core.interactiveshell import InteractiveShell\n",
    "InteractiveShell.ast_node_interactivity = \"all\""
   ]
  },
  {
   "cell_type": "code",
   "execution_count": 4,
   "metadata": {
    "collapsed": true
   },
   "outputs": [],
   "source": [
    "# the command below tells jupyter to display up to 80 columns, this keeps everything visible\n",
    "pd.set_option('display.max_columns', 80)\n",
    "pd.set_option('expand_frame_repr', True)"
   ]
  },
  {
   "cell_type": "code",
   "execution_count": 45,
   "metadata": {
    "collapsed": false
   },
   "outputs": [],
   "source": [
    "# Read in data\n",
    "\n",
    "data_path = '~/intro_course_data_science_for_good/data/'\n",
    "df = pd.read_csv(data_path+'df_module_1.csv', low_memory=False)"
   ]
  },
  {
   "cell_type": "markdown",
   "metadata": {},
   "source": [
    "## Creating Explanatory Features of Interest\n",
    "\n",
    "   ### Demographics\n",
    "\n",
    "Since we are interested in using the demographics of the Kiva borrowers as potential explanatory features, we will create, clean, and otherwise prepare these for linear regression. We are using a new method: str.contains. You may remember the method np.where from Notebook 1. "
   ]
  },
  {
   "cell_type": "markdown",
   "metadata": {},
   "source": [
    "In the cell below we use Numpy's  [where](https://docs.scipy.org/doc/numpy/reference/generated/numpy.where.html) function  and Panda's [str.contains](https://pandas.pydata.org/pandas-docs/stable/generated/pandas.Series.str.contains.html) to create the widowed\", \"kids\", and \"elderly\" features. \n",
    "\n",
    "We are using Numpy's filter the data such that we are only creating a Boolean variable for those observations in which we find the strings of interest - in this case, any variation of the words widow, and any indication of children. Note that we try to be inclusive by testing for variations like \"daughter\" and \"son.\""
   ]
  },
  {
   "cell_type": "code",
   "execution_count": 46,
   "metadata": {
    "collapsed": false
   },
   "outputs": [],
   "source": [
    "## Whether or not the borrower is widowed\n",
    "#  Note the str.contains function\n",
    "df['widowed'] = np.where(df['description.texts.en'].str.contains(\"widowed|widow\", na=0) ==True, 1, 0)\n",
    "\n",
    "## Whether or not the borrower has children \n",
    "df['kids'] = np.where(df['description.texts.en'].str.contains(\"kids|child|children|kid|son|daughter\", na=0) ==True,1,0)\n",
    "\n",
    "## Whether or not the borrower is elderly\n",
    "df['elderly'] = np.where(df['tags'].str.contains(\"#Elderly\", na=0) ==True, 1, 0)"
   ]
  },
  {
   "cell_type": "code",
   "execution_count": 189,
   "metadata": {
    "collapsed": false,
    "scrolled": true
   },
   "outputs": [
    {
     "data": {
      "text/html": [
       "<div>\n",
       "<style>\n",
       "    .dataframe thead tr:only-child th {\n",
       "        text-align: right;\n",
       "    }\n",
       "\n",
       "    .dataframe thead th {\n",
       "        text-align: left;\n",
       "    }\n",
       "\n",
       "    .dataframe tbody tr th {\n",
       "        vertical-align: top;\n",
       "    }\n",
       "</style>\n",
       "<table border=\"1\" class=\"dataframe\">\n",
       "  <thead>\n",
       "    <tr style=\"text-align: right;\">\n",
       "      <th></th>\n",
       "      <th>Unnamed: 0</th>\n",
       "      <th>Unnamed: 0.1</th>\n",
       "      <th>activity</th>\n",
       "      <th>basket_amount</th>\n",
       "      <th>bonus_credit_eligibility</th>\n",
       "      <th>borrowers</th>\n",
       "      <th>currency_exchange_loss_amount</th>\n",
       "      <th>description.languages</th>\n",
       "      <th>description.texts.en</th>\n",
       "      <th>description.texts.es</th>\n",
       "      <th>description.texts.fr</th>\n",
       "      <th>description.texts.ru</th>\n",
       "      <th>funded_amount</th>\n",
       "      <th>funded_date</th>\n",
       "      <th>id</th>\n",
       "      <th>image.id</th>\n",
       "      <th>image.template_id</th>\n",
       "      <th>journal_totals.bulkEntries</th>\n",
       "      <th>journal_totals.entries</th>\n",
       "      <th>lender_count</th>\n",
       "      <th>loan_amount</th>\n",
       "      <th>location.country</th>\n",
       "      <th>location.country_code</th>\n",
       "      <th>location.geo.level</th>\n",
       "      <th>location.geo.pairs</th>\n",
       "      <th>location.geo.type</th>\n",
       "      <th>location.town</th>\n",
       "      <th>name</th>\n",
       "      <th>partner_id</th>\n",
       "      <th>payments</th>\n",
       "      <th>planned_expiration_date</th>\n",
       "      <th>posted_date</th>\n",
       "      <th>sector</th>\n",
       "      <th>status</th>\n",
       "      <th>tags</th>\n",
       "      <th>terms.disbursal_amount</th>\n",
       "      <th>terms.disbursal_currency</th>\n",
       "      <th>terms.disbursal_date</th>\n",
       "      <th>terms.loan_amount</th>\n",
       "      <th>terms.local_payments</th>\n",
       "      <th>...</th>\n",
       "      <th>use</th>\n",
       "      <th>video.id</th>\n",
       "      <th>video.thumbnailImageId</th>\n",
       "      <th>video.title</th>\n",
       "      <th>video.youtubeId</th>\n",
       "      <th>borrower_count</th>\n",
       "      <th>partner_average_loan_size_percent_per_capita_income</th>\n",
       "      <th>partner_charges_fees_and_interest</th>\n",
       "      <th>partner_countries</th>\n",
       "      <th>partner_currency_exchange_loss_rate</th>\n",
       "      <th>partner_default_rate</th>\n",
       "      <th>partner_default_rate_note</th>\n",
       "      <th>partner_delinquency_rate</th>\n",
       "      <th>partner_delinquency_rate_note</th>\n",
       "      <th>partner_image.id</th>\n",
       "      <th>partner_image.template_id</th>\n",
       "      <th>partner_loans_at_risk_rate</th>\n",
       "      <th>partner_loans_posted</th>\n",
       "      <th>partner_name</th>\n",
       "      <th>partner_portfolio_yield</th>\n",
       "      <th>partner_portfolio_yield_note</th>\n",
       "      <th>partner_profitability</th>\n",
       "      <th>partner_rating</th>\n",
       "      <th>partner_social_performance_strengths</th>\n",
       "      <th>partner_start_date</th>\n",
       "      <th>partner_status</th>\n",
       "      <th>partner_total_amount_raised</th>\n",
       "      <th>partner_url</th>\n",
       "      <th>posted_datetime</th>\n",
       "      <th>planned_expiration_datetime</th>\n",
       "      <th>funded_datetime</th>\n",
       "      <th>dispursal_datetime</th>\n",
       "      <th>number_of_loans</th>\n",
       "      <th>dispersal_date</th>\n",
       "      <th>posted_year</th>\n",
       "      <th>posted_month</th>\n",
       "      <th>gender</th>\n",
       "      <th>widowed</th>\n",
       "      <th>kids</th>\n",
       "      <th>elderly</th>\n",
       "    </tr>\n",
       "  </thead>\n",
       "  <tbody>\n",
       "    <tr>\n",
       "      <th>0</th>\n",
       "      <td>0</td>\n",
       "      <td>0</td>\n",
       "      <td>Farming</td>\n",
       "      <td>0.0</td>\n",
       "      <td>False</td>\n",
       "      <td>[{'first_name': 'Evaline', 'last_name': '', 'g...</td>\n",
       "      <td>NaN</td>\n",
       "      <td>['en']</td>\n",
       "      <td>Evaline is a married lady aged 44 years old an...</td>\n",
       "      <td>NaN</td>\n",
       "      <td>NaN</td>\n",
       "      <td>NaN</td>\n",
       "      <td>0</td>\n",
       "      <td>NaN</td>\n",
       "      <td>1291548</td>\n",
       "      <td>2516002</td>\n",
       "      <td>1</td>\n",
       "      <td>0</td>\n",
       "      <td>0</td>\n",
       "      <td>0</td>\n",
       "      <td>500</td>\n",
       "      <td>Kenya</td>\n",
       "      <td>KE</td>\n",
       "      <td>town</td>\n",
       "      <td>-0.583333 35.183333</td>\n",
       "      <td>point</td>\n",
       "      <td>litein</td>\n",
       "      <td>Evaline</td>\n",
       "      <td>386.0</td>\n",
       "      <td>[]</td>\n",
       "      <td>2017-06-08</td>\n",
       "      <td>2017-05-09</td>\n",
       "      <td>Agriculture</td>\n",
       "      <td>fundraising</td>\n",
       "      <td>[{'name': '#Woman Owned Biz'}, {'name': '#Pare...</td>\n",
       "      <td>50000.0</td>\n",
       "      <td>KES</td>\n",
       "      <td>2017-04-03T07:00:00Z</td>\n",
       "      <td>500</td>\n",
       "      <td>[{'due_date': '2017-05-10T07:00:00Z', 'amount'...</td>\n",
       "      <td>...</td>\n",
       "      <td>to purchase more tea leaves to sell to the tea...</td>\n",
       "      <td>NaN</td>\n",
       "      <td>NaN</td>\n",
       "      <td>NaN</td>\n",
       "      <td>NaN</td>\n",
       "      <td>1</td>\n",
       "      <td>0.0</td>\n",
       "      <td>True</td>\n",
       "      <td>[{'iso_code': 'KE', 'region': 'Africa', 'name'...</td>\n",
       "      <td>0.120642</td>\n",
       "      <td>0.0</td>\n",
       "      <td>NaN</td>\n",
       "      <td>7.017031</td>\n",
       "      <td>NaN</td>\n",
       "      <td>1592272.0</td>\n",
       "      <td>1.0</td>\n",
       "      <td>21.165398</td>\n",
       "      <td>1948.0</td>\n",
       "      <td>Kenya ECLOF</td>\n",
       "      <td>40.3</td>\n",
       "      <td>NaN</td>\n",
       "      <td>2.54</td>\n",
       "      <td>2.0</td>\n",
       "      <td>[{'id': 3, 'name': 'Client Voice', 'descriptio...</td>\n",
       "      <td>2014-05-29T13:30:02Z</td>\n",
       "      <td>active</td>\n",
       "      <td>863375.0</td>\n",
       "      <td>http://www.eclof-kenya.org/</td>\n",
       "      <td>2017-05-09 00:40:03</td>\n",
       "      <td>2017-06-08 00:40:03</td>\n",
       "      <td>NaN</td>\n",
       "      <td>2017-04-03 07:00:00</td>\n",
       "      <td>1</td>\n",
       "      <td>2017-04-03</td>\n",
       "      <td>2017</td>\n",
       "      <td>5</td>\n",
       "      <td>Female</td>\n",
       "      <td>0</td>\n",
       "      <td>1</td>\n",
       "      <td>0</td>\n",
       "    </tr>\n",
       "    <tr>\n",
       "      <th>1</th>\n",
       "      <td>1</td>\n",
       "      <td>1</td>\n",
       "      <td>Furniture Making</td>\n",
       "      <td>0.0</td>\n",
       "      <td>False</td>\n",
       "      <td>[{'first_name': 'Julias', 'last_name': '', 'ge...</td>\n",
       "      <td>NaN</td>\n",
       "      <td>['en']</td>\n",
       "      <td>Aged 42 years is a man by the name of Julias. ...</td>\n",
       "      <td>NaN</td>\n",
       "      <td>NaN</td>\n",
       "      <td>NaN</td>\n",
       "      <td>0</td>\n",
       "      <td>NaN</td>\n",
       "      <td>1291532</td>\n",
       "      <td>2515992</td>\n",
       "      <td>1</td>\n",
       "      <td>0</td>\n",
       "      <td>0</td>\n",
       "      <td>0</td>\n",
       "      <td>500</td>\n",
       "      <td>Kenya</td>\n",
       "      <td>KE</td>\n",
       "      <td>town</td>\n",
       "      <td>0.566667 34.566667</td>\n",
       "      <td>point</td>\n",
       "      <td>Bungoma</td>\n",
       "      <td>Julias</td>\n",
       "      <td>386.0</td>\n",
       "      <td>[]</td>\n",
       "      <td>2017-06-08</td>\n",
       "      <td>2017-05-09</td>\n",
       "      <td>Manufacturing</td>\n",
       "      <td>fundraising</td>\n",
       "      <td>[]</td>\n",
       "      <td>50000.0</td>\n",
       "      <td>KES</td>\n",
       "      <td>2017-04-03T07:00:00Z</td>\n",
       "      <td>500</td>\n",
       "      <td>[{'due_date': '2017-05-09T07:00:00Z', 'amount'...</td>\n",
       "      <td>...</td>\n",
       "      <td>to buy timber to make more furniture for his e...</td>\n",
       "      <td>NaN</td>\n",
       "      <td>NaN</td>\n",
       "      <td>NaN</td>\n",
       "      <td>NaN</td>\n",
       "      <td>1</td>\n",
       "      <td>0.0</td>\n",
       "      <td>True</td>\n",
       "      <td>[{'iso_code': 'KE', 'region': 'Africa', 'name'...</td>\n",
       "      <td>0.120642</td>\n",
       "      <td>0.0</td>\n",
       "      <td>NaN</td>\n",
       "      <td>7.017031</td>\n",
       "      <td>NaN</td>\n",
       "      <td>1592272.0</td>\n",
       "      <td>1.0</td>\n",
       "      <td>21.165398</td>\n",
       "      <td>1948.0</td>\n",
       "      <td>Kenya ECLOF</td>\n",
       "      <td>40.3</td>\n",
       "      <td>NaN</td>\n",
       "      <td>2.54</td>\n",
       "      <td>2.0</td>\n",
       "      <td>[{'id': 3, 'name': 'Client Voice', 'descriptio...</td>\n",
       "      <td>2014-05-29T13:30:02Z</td>\n",
       "      <td>active</td>\n",
       "      <td>863375.0</td>\n",
       "      <td>http://www.eclof-kenya.org/</td>\n",
       "      <td>2017-05-09 00:30:05</td>\n",
       "      <td>2017-06-08 00:30:05</td>\n",
       "      <td>NaN</td>\n",
       "      <td>2017-04-03 07:00:00</td>\n",
       "      <td>1</td>\n",
       "      <td>2017-04-03</td>\n",
       "      <td>2017</td>\n",
       "      <td>5</td>\n",
       "      <td>Male</td>\n",
       "      <td>0</td>\n",
       "      <td>1</td>\n",
       "      <td>0</td>\n",
       "    </tr>\n",
       "  </tbody>\n",
       "</table>\n",
       "<p>2 rows × 89 columns</p>\n",
       "</div>"
      ],
      "text/plain": [
       "   Unnamed: 0  Unnamed: 0.1          activity  basket_amount  \\\n",
       "0           0             0           Farming            0.0   \n",
       "1           1             1  Furniture Making            0.0   \n",
       "\n",
       "   bonus_credit_eligibility  \\\n",
       "0                     False   \n",
       "1                     False   \n",
       "\n",
       "                                           borrowers  \\\n",
       "0  [{'first_name': 'Evaline', 'last_name': '', 'g...   \n",
       "1  [{'first_name': 'Julias', 'last_name': '', 'ge...   \n",
       "\n",
       "   currency_exchange_loss_amount description.languages  \\\n",
       "0                            NaN                ['en']   \n",
       "1                            NaN                ['en']   \n",
       "\n",
       "                                description.texts.en description.texts.es  \\\n",
       "0  Evaline is a married lady aged 44 years old an...                  NaN   \n",
       "1  Aged 42 years is a man by the name of Julias. ...                  NaN   \n",
       "\n",
       "  description.texts.fr description.texts.ru  funded_amount funded_date  \\\n",
       "0                  NaN                  NaN              0         NaN   \n",
       "1                  NaN                  NaN              0         NaN   \n",
       "\n",
       "        id  image.id  image.template_id  journal_totals.bulkEntries  \\\n",
       "0  1291548   2516002                  1                           0   \n",
       "1  1291532   2515992                  1                           0   \n",
       "\n",
       "   journal_totals.entries  lender_count  loan_amount location.country  \\\n",
       "0                       0             0          500            Kenya   \n",
       "1                       0             0          500            Kenya   \n",
       "\n",
       "  location.country_code location.geo.level   location.geo.pairs  \\\n",
       "0                    KE               town  -0.583333 35.183333   \n",
       "1                    KE               town   0.566667 34.566667   \n",
       "\n",
       "  location.geo.type location.town     name  partner_id payments  \\\n",
       "0             point        litein  Evaline       386.0       []   \n",
       "1             point       Bungoma   Julias       386.0       []   \n",
       "\n",
       "  planned_expiration_date posted_date         sector       status  \\\n",
       "0              2017-06-08  2017-05-09    Agriculture  fundraising   \n",
       "1              2017-06-08  2017-05-09  Manufacturing  fundraising   \n",
       "\n",
       "                                                tags  terms.disbursal_amount  \\\n",
       "0  [{'name': '#Woman Owned Biz'}, {'name': '#Pare...                 50000.0   \n",
       "1                                                 []                 50000.0   \n",
       "\n",
       "  terms.disbursal_currency  terms.disbursal_date  terms.loan_amount  \\\n",
       "0                      KES  2017-04-03T07:00:00Z                500   \n",
       "1                      KES  2017-04-03T07:00:00Z                500   \n",
       "\n",
       "                                terms.local_payments   ...    \\\n",
       "0  [{'due_date': '2017-05-10T07:00:00Z', 'amount'...   ...     \n",
       "1  [{'due_date': '2017-05-09T07:00:00Z', 'amount'...   ...     \n",
       "\n",
       "                                                 use  video.id  \\\n",
       "0  to purchase more tea leaves to sell to the tea...       NaN   \n",
       "1  to buy timber to make more furniture for his e...       NaN   \n",
       "\n",
       "  video.thumbnailImageId video.title  video.youtubeId borrower_count  \\\n",
       "0                    NaN         NaN              NaN              1   \n",
       "1                    NaN         NaN              NaN              1   \n",
       "\n",
       "  partner_average_loan_size_percent_per_capita_income  \\\n",
       "0                                                0.0    \n",
       "1                                                0.0    \n",
       "\n",
       "  partner_charges_fees_and_interest  \\\n",
       "0                              True   \n",
       "1                              True   \n",
       "\n",
       "                                   partner_countries  \\\n",
       "0  [{'iso_code': 'KE', 'region': 'Africa', 'name'...   \n",
       "1  [{'iso_code': 'KE', 'region': 'Africa', 'name'...   \n",
       "\n",
       "  partner_currency_exchange_loss_rate  partner_default_rate  \\\n",
       "0                            0.120642                   0.0   \n",
       "1                            0.120642                   0.0   \n",
       "\n",
       "   partner_default_rate_note partner_delinquency_rate  \\\n",
       "0                        NaN                 7.017031   \n",
       "1                        NaN                 7.017031   \n",
       "\n",
       "  partner_delinquency_rate_note  partner_image.id  partner_image.template_id  \\\n",
       "0                           NaN         1592272.0                        1.0   \n",
       "1                           NaN         1592272.0                        1.0   \n",
       "\n",
       "  partner_loans_at_risk_rate partner_loans_posted  partner_name  \\\n",
       "0                  21.165398               1948.0   Kenya ECLOF   \n",
       "1                  21.165398               1948.0   Kenya ECLOF   \n",
       "\n",
       "   partner_portfolio_yield  partner_portfolio_yield_note  \\\n",
       "0                     40.3                           NaN   \n",
       "1                     40.3                           NaN   \n",
       "\n",
       "   partner_profitability  partner_rating  \\\n",
       "0                   2.54             2.0   \n",
       "1                   2.54             2.0   \n",
       "\n",
       "                partner_social_performance_strengths    partner_start_date  \\\n",
       "0  [{'id': 3, 'name': 'Client Voice', 'descriptio...  2014-05-29T13:30:02Z   \n",
       "1  [{'id': 3, 'name': 'Client Voice', 'descriptio...  2014-05-29T13:30:02Z   \n",
       "\n",
       "   partner_status  partner_total_amount_raised                  partner_url  \\\n",
       "0          active                     863375.0  http://www.eclof-kenya.org/   \n",
       "1          active                     863375.0  http://www.eclof-kenya.org/   \n",
       "\n",
       "       posted_datetime  planned_expiration_datetime  funded_datetime  \\\n",
       "0  2017-05-09 00:40:03          2017-06-08 00:40:03              NaN   \n",
       "1  2017-05-09 00:30:05          2017-06-08 00:30:05              NaN   \n",
       "\n",
       "    dispursal_datetime number_of_loans dispersal_date posted_year  \\\n",
       "0  2017-04-03 07:00:00               1     2017-04-03        2017   \n",
       "1  2017-04-03 07:00:00               1     2017-04-03        2017   \n",
       "\n",
       "   posted_month  gender widowed kids elderly  \n",
       "0             5  Female       0    1       0  \n",
       "1             5    Male       0    1       0  \n",
       "\n",
       "[2 rows x 89 columns]"
      ]
     },
     "execution_count": 189,
     "metadata": {},
     "output_type": "execute_result"
    }
   ],
   "source": [
    "df.head(2)"
   ]
  },
  {
   "cell_type": "markdown",
   "metadata": {},
   "source": [
    "In the cells below, we parse out the **age** of the user by doing the following:\n",
    "\n",
    "1. Importing a CSV mapping of age strings that appear in the Kiva description field (e.g. \"2 years\") to the integer counterparts (e.g. 2). \n",
    "2. We then define a function to check for each of these string values within the `description.texts.en` field of our main dataframe. If a match is found, we append that string value to a new list, \"age\", which we create at the start of the funtion. If no match is found, we append a blank string. When the function has completed, we have a list the same length of our main dataframe, with the corresponding age string value for each observation (e.g. \"2 years\" or \" \" if there is no age value available)\n",
    "    1. We use functions from the [regular expression package](https://docs.python.org/2/library/re.html) to perform the string searches within the `description.texts.en`. Specifically, we use `re.compile` and  `re.findall` functions to first compile all possible age strings of interest, and then find all instances of the corresponding string.\n",
    "3. We then create a new column in our main dataframe, \"age\", which is simply the list we created in step 2.\n",
    "4. Finally, we perform a left join of our main dataframe with the CSV mapping, to map the string versions of age with their integer counterparts.\n",
    "\n"
   ]
  },
  {
   "cell_type": "code",
   "execution_count": 9,
   "metadata": {
    "collapsed": true
   },
   "outputs": [],
   "source": [
    "age_tag = pd.read_csv(data_path+'age.csv')"
   ]
  },
  {
   "cell_type": "code",
   "execution_count": 10,
   "metadata": {
    "collapsed": false
   },
   "outputs": [
    {
     "data": {
      "text/html": [
       "<div>\n",
       "<style>\n",
       "    .dataframe thead tr:only-child th {\n",
       "        text-align: right;\n",
       "    }\n",
       "\n",
       "    .dataframe thead th {\n",
       "        text-align: left;\n",
       "    }\n",
       "\n",
       "    .dataframe tbody tr th {\n",
       "        vertical-align: top;\n",
       "    }\n",
       "</style>\n",
       "<table border=\"1\" class=\"dataframe\">\n",
       "  <thead>\n",
       "    <tr style=\"text-align: right;\">\n",
       "      <th></th>\n",
       "      <th>age</th>\n",
       "      <th>age_int</th>\n",
       "    </tr>\n",
       "  </thead>\n",
       "  <tbody>\n",
       "    <tr>\n",
       "      <th>0</th>\n",
       "      <td>1 years</td>\n",
       "      <td>1</td>\n",
       "    </tr>\n",
       "    <tr>\n",
       "      <th>1</th>\n",
       "      <td>2 years</td>\n",
       "      <td>2</td>\n",
       "    </tr>\n",
       "  </tbody>\n",
       "</table>\n",
       "</div>"
      ],
      "text/plain": [
       "       age  age_int\n",
       "0  1 years        1\n",
       "1  2 years        2"
      ]
     },
     "execution_count": 10,
     "metadata": {},
     "output_type": "execute_result"
    }
   ],
   "source": [
    "age_tag.head(2)"
   ]
  },
  {
   "cell_type": "code",
   "execution_count": 19,
   "metadata": {
    "collapsed": false
   },
   "outputs": [],
   "source": [
    "## Age of borrower\n",
    "\n",
    "#loop that parses out all words, finds age match and creates new field\n",
    "\n",
    "def text_search(tag):\n",
    "    #creates empty lists that are then added to in loop\n",
    "    age=[]\n",
    "    flag = tag.astype(str)\n",
    "    match=flag.tolist()\n",
    "    match = re.compile(r'\\b(?:%s)\\b' % '|'.join(match))\n",
    "    for descr in df['description.texts.en']:\n",
    "        try:\n",
    "            if isinstance(descr, str):\n",
    "                    if re.findall(match, descr):\n",
    "                        match_0=re.findall(match,  descr)\n",
    "                        match_1=re.findall(match,  descr)[:1]\n",
    "                        word_1=\" \".join(match_1)\n",
    "                        age.append(word_1)\n",
    "                    else:\n",
    "                        age.append('')\n",
    "        except:\n",
    "            print('error')\n",
    "            \n",
    "    return(age)"
   ]
  },
  {
   "cell_type": "code",
   "execution_count": 24,
   "metadata": {
    "collapsed": false
   },
   "outputs": [],
   "source": [
    "## call the function we define above on the 'age' column of the age_tag dataframe we imported\n",
    "age= text_search(age_tag['age'])\n",
    "\n",
    "## create a new column 'age' in our main dataframe corresponding to the list generated from the text_search function\n",
    "df['age']=pd.DataFrame(age)"
   ]
  },
  {
   "cell_type": "code",
   "execution_count": 15,
   "metadata": {
    "collapsed": false
   },
   "outputs": [
    {
     "data": {
      "text/plain": [
       "0    44 years\n",
       "1    42 years\n",
       "Name: age, dtype: object"
      ]
     },
     "execution_count": 15,
     "metadata": {},
     "output_type": "execute_result"
    }
   ],
   "source": [
    "df['age'].head(2)"
   ]
  },
  {
   "cell_type": "code",
   "execution_count": 25,
   "metadata": {
    "collapsed": false
   },
   "outputs": [],
   "source": [
    "df=df.merge(age_tag, how='left', left_on='age', right_on='age')"
   ]
  },
  {
   "cell_type": "code",
   "execution_count": 26,
   "metadata": {
    "collapsed": false
   },
   "outputs": [
    {
     "data": {
      "text/html": [
       "<div>\n",
       "<style>\n",
       "    .dataframe thead tr:only-child th {\n",
       "        text-align: right;\n",
       "    }\n",
       "\n",
       "    .dataframe thead th {\n",
       "        text-align: left;\n",
       "    }\n",
       "\n",
       "    .dataframe tbody tr th {\n",
       "        vertical-align: top;\n",
       "    }\n",
       "</style>\n",
       "<table border=\"1\" class=\"dataframe\">\n",
       "  <thead>\n",
       "    <tr style=\"text-align: right;\">\n",
       "      <th></th>\n",
       "      <th>Unnamed: 0</th>\n",
       "      <th>Unnamed: 0.1</th>\n",
       "      <th>activity</th>\n",
       "      <th>basket_amount</th>\n",
       "      <th>bonus_credit_eligibility</th>\n",
       "      <th>borrowers</th>\n",
       "      <th>currency_exchange_loss_amount</th>\n",
       "      <th>description.languages</th>\n",
       "      <th>description.texts.en</th>\n",
       "      <th>description.texts.es</th>\n",
       "      <th>description.texts.fr</th>\n",
       "      <th>description.texts.ru</th>\n",
       "      <th>funded_amount</th>\n",
       "      <th>funded_date</th>\n",
       "      <th>id</th>\n",
       "      <th>image.id</th>\n",
       "      <th>image.template_id</th>\n",
       "      <th>journal_totals.bulkEntries</th>\n",
       "      <th>journal_totals.entries</th>\n",
       "      <th>lender_count</th>\n",
       "      <th>loan_amount</th>\n",
       "      <th>location.country</th>\n",
       "      <th>location.country_code</th>\n",
       "      <th>location.geo.level</th>\n",
       "      <th>location.geo.pairs</th>\n",
       "      <th>location.geo.type</th>\n",
       "      <th>location.town</th>\n",
       "      <th>name</th>\n",
       "      <th>partner_id</th>\n",
       "      <th>payments</th>\n",
       "      <th>planned_expiration_date</th>\n",
       "      <th>posted_date</th>\n",
       "      <th>sector</th>\n",
       "      <th>status</th>\n",
       "      <th>tags</th>\n",
       "      <th>terms.disbursal_amount</th>\n",
       "      <th>terms.disbursal_currency</th>\n",
       "      <th>terms.disbursal_date</th>\n",
       "      <th>terms.loan_amount</th>\n",
       "      <th>terms.local_payments</th>\n",
       "      <th>...</th>\n",
       "      <th>video.id</th>\n",
       "      <th>video.thumbnailImageId</th>\n",
       "      <th>video.title</th>\n",
       "      <th>video.youtubeId</th>\n",
       "      <th>borrower_count</th>\n",
       "      <th>partner_average_loan_size_percent_per_capita_income</th>\n",
       "      <th>partner_charges_fees_and_interest</th>\n",
       "      <th>partner_countries</th>\n",
       "      <th>partner_currency_exchange_loss_rate</th>\n",
       "      <th>partner_default_rate</th>\n",
       "      <th>partner_default_rate_note</th>\n",
       "      <th>partner_delinquency_rate</th>\n",
       "      <th>partner_delinquency_rate_note</th>\n",
       "      <th>partner_image.id</th>\n",
       "      <th>partner_image.template_id</th>\n",
       "      <th>partner_loans_at_risk_rate</th>\n",
       "      <th>partner_loans_posted</th>\n",
       "      <th>partner_name</th>\n",
       "      <th>partner_portfolio_yield</th>\n",
       "      <th>partner_portfolio_yield_note</th>\n",
       "      <th>partner_profitability</th>\n",
       "      <th>partner_rating</th>\n",
       "      <th>partner_social_performance_strengths</th>\n",
       "      <th>partner_start_date</th>\n",
       "      <th>partner_status</th>\n",
       "      <th>partner_total_amount_raised</th>\n",
       "      <th>partner_url</th>\n",
       "      <th>posted_datetime</th>\n",
       "      <th>planned_expiration_datetime</th>\n",
       "      <th>funded_datetime</th>\n",
       "      <th>dispursal_datetime</th>\n",
       "      <th>number_of_loans</th>\n",
       "      <th>dispersal_date</th>\n",
       "      <th>posted_year</th>\n",
       "      <th>posted_month</th>\n",
       "      <th>widowed</th>\n",
       "      <th>kids</th>\n",
       "      <th>elderly</th>\n",
       "      <th>age</th>\n",
       "      <th>age_int</th>\n",
       "    </tr>\n",
       "  </thead>\n",
       "  <tbody>\n",
       "    <tr>\n",
       "      <th>27738</th>\n",
       "      <td>27738</td>\n",
       "      <td>27724</td>\n",
       "      <td>Farming</td>\n",
       "      <td>NaN</td>\n",
       "      <td>False</td>\n",
       "      <td>[{'first_name': 'Susan', 'last_name': '', 'gen...</td>\n",
       "      <td>NaN</td>\n",
       "      <td>['en']</td>\n",
       "      <td>Susan is 37 years old and has five children. S...</td>\n",
       "      <td>NaN</td>\n",
       "      <td>NaN</td>\n",
       "      <td>NaN</td>\n",
       "      <td>825</td>\n",
       "      <td>2016-03-08</td>\n",
       "      <td>1018907</td>\n",
       "      <td>2079823</td>\n",
       "      <td>1</td>\n",
       "      <td>0</td>\n",
       "      <td>0</td>\n",
       "      <td>25</td>\n",
       "      <td>825</td>\n",
       "      <td>Kenya</td>\n",
       "      <td>KE</td>\n",
       "      <td>town</td>\n",
       "      <td>0.616667 34.766667</td>\n",
       "      <td>point</td>\n",
       "      <td>Webuye</td>\n",
       "      <td>Susan's Group</td>\n",
       "      <td>202.0</td>\n",
       "      <td>[]</td>\n",
       "      <td>2016-03-08</td>\n",
       "      <td>2016-02-07</td>\n",
       "      <td>Agriculture</td>\n",
       "      <td>funded</td>\n",
       "      <td>[{'name': '#Sustainable Ag'}, {'name': '#Eco-f...</td>\n",
       "      <td>81895.0</td>\n",
       "      <td>KES</td>\n",
       "      <td>2016-02-25T08:00:00Z</td>\n",
       "      <td>825</td>\n",
       "      <td>[]</td>\n",
       "      <td>...</td>\n",
       "      <td>NaN</td>\n",
       "      <td>NaN</td>\n",
       "      <td>NaN</td>\n",
       "      <td>NaN</td>\n",
       "      <td>13</td>\n",
       "      <td>0.0</td>\n",
       "      <td>True</td>\n",
       "      <td>[{'iso_code': 'KE', 'region': 'Africa', 'name'...</td>\n",
       "      <td>0.364948</td>\n",
       "      <td>1.126878</td>\n",
       "      <td>NaN</td>\n",
       "      <td>0.123017</td>\n",
       "      <td>NaN</td>\n",
       "      <td>1592689.0</td>\n",
       "      <td>1.0</td>\n",
       "      <td>0.123017</td>\n",
       "      <td>9546.0</td>\n",
       "      <td>One Acre Fund</td>\n",
       "      <td>1.0</td>\n",
       "      <td>NaN</td>\n",
       "      <td>29.1</td>\n",
       "      <td>2.5</td>\n",
       "      <td>[{'id': 1, 'name': 'Anti-Poverty Focus', 'desc...</td>\n",
       "      <td>2011-09-20T04:50:02Z</td>\n",
       "      <td>active</td>\n",
       "      <td>8133425.0</td>\n",
       "      <td>http://www.oneacrefund.org/</td>\n",
       "      <td>2016-02-07 19:20:02</td>\n",
       "      <td>2016-03-08 19:20:02</td>\n",
       "      <td>2016-03-08 07:44:08</td>\n",
       "      <td>2016-02-25 08:00:00</td>\n",
       "      <td>1</td>\n",
       "      <td>2016-02-25</td>\n",
       "      <td>2016</td>\n",
       "      <td>2</td>\n",
       "      <td>0</td>\n",
       "      <td>1</td>\n",
       "      <td>0</td>\n",
       "      <td>37 years</td>\n",
       "      <td>37.0</td>\n",
       "    </tr>\n",
       "    <tr>\n",
       "      <th>79444</th>\n",
       "      <td>88727</td>\n",
       "      <td>88671</td>\n",
       "      <td>General Store</td>\n",
       "      <td>NaN</td>\n",
       "      <td>False</td>\n",
       "      <td>[{'first_name': 'Alice ', 'last_name': '', 'ge...</td>\n",
       "      <td>NaN</td>\n",
       "      <td>['en']</td>\n",
       "      <td>Alice is 35 years old and married with four ch...</td>\n",
       "      <td>NaN</td>\n",
       "      <td>NaN</td>\n",
       "      <td>NaN</td>\n",
       "      <td>250</td>\n",
       "      <td>2012-12-15</td>\n",
       "      <td>505449</td>\n",
       "      <td>1250731</td>\n",
       "      <td>1</td>\n",
       "      <td>0</td>\n",
       "      <td>0</td>\n",
       "      <td>10</td>\n",
       "      <td>250</td>\n",
       "      <td>Kenya</td>\n",
       "      <td>KE</td>\n",
       "      <td>town</td>\n",
       "      <td>1 38</td>\n",
       "      <td>point</td>\n",
       "      <td>KABARNET</td>\n",
       "      <td>Alice</td>\n",
       "      <td>133.0</td>\n",
       "      <td>[]</td>\n",
       "      <td>2013-01-10</td>\n",
       "      <td>2012-12-11</td>\n",
       "      <td>Retail</td>\n",
       "      <td>funded</td>\n",
       "      <td>[]</td>\n",
       "      <td>20000.0</td>\n",
       "      <td>KES</td>\n",
       "      <td>2012-11-15T08:00:00Z</td>\n",
       "      <td>250</td>\n",
       "      <td>[]</td>\n",
       "      <td>...</td>\n",
       "      <td>NaN</td>\n",
       "      <td>NaN</td>\n",
       "      <td>NaN</td>\n",
       "      <td>NaN</td>\n",
       "      <td>1</td>\n",
       "      <td>34.9</td>\n",
       "      <td>True</td>\n",
       "      <td>[{'iso_code': 'KE', 'region': 'Africa', 'name'...</td>\n",
       "      <td>0.089354</td>\n",
       "      <td>3.652283</td>\n",
       "      <td>NaN</td>\n",
       "      <td>8.017062</td>\n",
       "      <td>NaN</td>\n",
       "      <td>1495190.0</td>\n",
       "      <td>1.0</td>\n",
       "      <td>16.058249</td>\n",
       "      <td>30794.0</td>\n",
       "      <td>VisionFund Kenya</td>\n",
       "      <td>36.0</td>\n",
       "      <td>NaN</td>\n",
       "      <td>-1.7</td>\n",
       "      <td>2.5</td>\n",
       "      <td>[{'id': 1, 'name': 'Anti-Poverty Focus', 'desc...</td>\n",
       "      <td>2009-05-29T11:35:11Z</td>\n",
       "      <td>active</td>\n",
       "      <td>11366975.0</td>\n",
       "      <td>http://www.visionfundkenya.co.ke/</td>\n",
       "      <td>2012-12-11 22:50:07</td>\n",
       "      <td>2013-01-10 22:50:07</td>\n",
       "      <td>2012-12-15 21:28:17</td>\n",
       "      <td>2012-11-15 08:00:00</td>\n",
       "      <td>1</td>\n",
       "      <td>2012-11-15</td>\n",
       "      <td>2012</td>\n",
       "      <td>12</td>\n",
       "      <td>0</td>\n",
       "      <td>1</td>\n",
       "      <td>0</td>\n",
       "      <td></td>\n",
       "      <td>NaN</td>\n",
       "    </tr>\n",
       "  </tbody>\n",
       "</table>\n",
       "<p>2 rows × 90 columns</p>\n",
       "</div>"
      ],
      "text/plain": [
       "       Unnamed: 0  Unnamed: 0.1       activity  basket_amount  \\\n",
       "27738       27738         27724        Farming            NaN   \n",
       "79444       88727         88671  General Store            NaN   \n",
       "\n",
       "       bonus_credit_eligibility  \\\n",
       "27738                     False   \n",
       "79444                     False   \n",
       "\n",
       "                                               borrowers  \\\n",
       "27738  [{'first_name': 'Susan', 'last_name': '', 'gen...   \n",
       "79444  [{'first_name': 'Alice ', 'last_name': '', 'ge...   \n",
       "\n",
       "       currency_exchange_loss_amount description.languages  \\\n",
       "27738                            NaN                ['en']   \n",
       "79444                            NaN                ['en']   \n",
       "\n",
       "                                    description.texts.en description.texts.es  \\\n",
       "27738  Susan is 37 years old and has five children. S...                  NaN   \n",
       "79444  Alice is 35 years old and married with four ch...                  NaN   \n",
       "\n",
       "      description.texts.fr description.texts.ru  funded_amount funded_date  \\\n",
       "27738                  NaN                  NaN            825  2016-03-08   \n",
       "79444                  NaN                  NaN            250  2012-12-15   \n",
       "\n",
       "            id  image.id  image.template_id  journal_totals.bulkEntries  \\\n",
       "27738  1018907   2079823                  1                           0   \n",
       "79444   505449   1250731                  1                           0   \n",
       "\n",
       "       journal_totals.entries  lender_count  loan_amount location.country  \\\n",
       "27738                       0            25          825            Kenya   \n",
       "79444                       0            10          250            Kenya   \n",
       "\n",
       "      location.country_code location.geo.level  location.geo.pairs  \\\n",
       "27738                    KE               town  0.616667 34.766667   \n",
       "79444                    KE               town                1 38   \n",
       "\n",
       "      location.geo.type location.town           name  partner_id payments  \\\n",
       "27738             point        Webuye  Susan's Group       202.0       []   \n",
       "79444             point      KABARNET          Alice       133.0       []   \n",
       "\n",
       "      planned_expiration_date posted_date       sector  status  \\\n",
       "27738              2016-03-08  2016-02-07  Agriculture  funded   \n",
       "79444              2013-01-10  2012-12-11       Retail  funded   \n",
       "\n",
       "                                                    tags  \\\n",
       "27738  [{'name': '#Sustainable Ag'}, {'name': '#Eco-f...   \n",
       "79444                                                 []   \n",
       "\n",
       "       terms.disbursal_amount terms.disbursal_currency  terms.disbursal_date  \\\n",
       "27738                 81895.0                      KES  2016-02-25T08:00:00Z   \n",
       "79444                 20000.0                      KES  2012-11-15T08:00:00Z   \n",
       "\n",
       "       terms.loan_amount terms.local_payments   ...   video.id  \\\n",
       "27738                825                   []   ...        NaN   \n",
       "79444                250                   []   ...        NaN   \n",
       "\n",
       "       video.thumbnailImageId video.title video.youtubeId  borrower_count  \\\n",
       "27738                     NaN         NaN             NaN              13   \n",
       "79444                     NaN         NaN             NaN               1   \n",
       "\n",
       "      partner_average_loan_size_percent_per_capita_income  \\\n",
       "27738                                                0.0    \n",
       "79444                                               34.9    \n",
       "\n",
       "      partner_charges_fees_and_interest  \\\n",
       "27738                              True   \n",
       "79444                              True   \n",
       "\n",
       "                                       partner_countries  \\\n",
       "27738  [{'iso_code': 'KE', 'region': 'Africa', 'name'...   \n",
       "79444  [{'iso_code': 'KE', 'region': 'Africa', 'name'...   \n",
       "\n",
       "       partner_currency_exchange_loss_rate partner_default_rate  \\\n",
       "27738                             0.364948             1.126878   \n",
       "79444                             0.089354             3.652283   \n",
       "\n",
       "       partner_default_rate_note  partner_delinquency_rate  \\\n",
       "27738                        NaN                  0.123017   \n",
       "79444                        NaN                  8.017062   \n",
       "\n",
       "      partner_delinquency_rate_note partner_image.id  \\\n",
       "27738                           NaN        1592689.0   \n",
       "79444                           NaN        1495190.0   \n",
       "\n",
       "       partner_image.template_id  partner_loans_at_risk_rate  \\\n",
       "27738                        1.0                    0.123017   \n",
       "79444                        1.0                   16.058249   \n",
       "\n",
       "       partner_loans_posted      partner_name  partner_portfolio_yield  \\\n",
       "27738                9546.0     One Acre Fund                      1.0   \n",
       "79444               30794.0  VisionFund Kenya                     36.0   \n",
       "\n",
       "       partner_portfolio_yield_note  partner_profitability  partner_rating  \\\n",
       "27738                           NaN                   29.1             2.5   \n",
       "79444                           NaN                   -1.7             2.5   \n",
       "\n",
       "                    partner_social_performance_strengths  \\\n",
       "27738  [{'id': 1, 'name': 'Anti-Poverty Focus', 'desc...   \n",
       "79444  [{'id': 1, 'name': 'Anti-Poverty Focus', 'desc...   \n",
       "\n",
       "         partner_start_date  partner_status  partner_total_amount_raised  \\\n",
       "27738  2011-09-20T04:50:02Z          active                    8133425.0   \n",
       "79444  2009-05-29T11:35:11Z          active                   11366975.0   \n",
       "\n",
       "                             partner_url      posted_datetime  \\\n",
       "27738        http://www.oneacrefund.org/  2016-02-07 19:20:02   \n",
       "79444  http://www.visionfundkenya.co.ke/  2012-12-11 22:50:07   \n",
       "\n",
       "       planned_expiration_datetime      funded_datetime   dispursal_datetime  \\\n",
       "27738          2016-03-08 19:20:02  2016-03-08 07:44:08  2016-02-25 08:00:00   \n",
       "79444          2013-01-10 22:50:07  2012-12-15 21:28:17  2012-11-15 08:00:00   \n",
       "\n",
       "      number_of_loans dispersal_date posted_year posted_month  widowed kids  \\\n",
       "27738               1     2016-02-25        2016            2        0    1   \n",
       "79444               1     2012-11-15        2012           12        0    1   \n",
       "\n",
       "      elderly       age age_int  \n",
       "27738       0  37 years    37.0  \n",
       "79444       0               NaN  \n",
       "\n",
       "[2 rows x 90 columns]"
      ]
     },
     "execution_count": 26,
     "metadata": {},
     "output_type": "execute_result"
    }
   ],
   "source": [
    "df.sample(2)"
   ]
  },
  {
   "cell_type": "code",
   "execution_count": 68,
   "metadata": {
    "collapsed": false
   },
   "outputs": [],
   "source": [
    "## Where age is blank, fill in the mean age value (38.54)\n",
    "\n",
    "## QUESTION (FROM EMILY): Does it make sense to do this? greatly skews the density plot toward 38 given that there \n",
    "## are a lot of null values\n",
    "\n",
    "df['age_int'].fillna(df['age_int'].mean())"
   ]
  },
  {
   "cell_type": "code",
   "execution_count": 29,
   "metadata": {
    "collapsed": false
   },
   "outputs": [
    {
     "data": {
      "image/png": "[encoded data removed]",
      "text/plain": [
       "<matplotlib.figure.Figure at 0x153acd080>"
      ]
     },
     "metadata": {},
     "output_type": "display_data"
    },
    {
     "data": {
      "text/plain": [
       "<ggplot: (-9223372036550906992)>"
      ]
     },
     "execution_count": 29,
     "metadata": {},
     "output_type": "execute_result"
    }
   ],
   "source": [
    "## QUESTION (FROM EMILY): This plot seems strange to me -- why are there so many 10 year olds? Possibly the borrowers are \n",
    "## including their kids' ages in the description field instead of their own?\n",
    "\n",
    "p=ggplot(df, aes(x='age_int')) + geom_density() + xlim(0,100) + \\\n",
    "ggtitle(\"Density Plot By Loan Status\") + xlab(\"Loan Amount\") + ylab(\"% of all lenders\")\n",
    "\n",
    "p"
   ]
  },
  {
   "cell_type": "markdown",
   "metadata": {},
   "source": [
    "### Loan features\n",
    "\n",
    "Next we create features related to the conditions surrounding each loan posting, including: \n",
    "\n",
    "-Whether or not a borrower has included a video\n",
    "\n",
    "-Whether or not a borrower has included a picture\n",
    "\n",
    "Here, our intuition tells us that if a borrower includes more personal details and imagery, lenders are more likely to lend to them. We create this variable so we can differentiate between loans that have these personal details and loans that do not.   "
   ]
  },
  {
   "cell_type": "code",
   "execution_count": 47,
   "metadata": {
    "collapsed": true
   },
   "outputs": [],
   "source": [
    "## Features of the loan posting\n",
    "\n",
    "## Does the borrower include a video? \n",
    "df['video'] = np.where(pd.isnull(df['video.id']) ==False, True, False)\n",
    "\n",
    "## Does the borrower include a picture? \n",
    "df['pictured'] = np.where(pd.isnull(df['image.id']) ==False, True, False)"
   ]
  },
  {
   "cell_type": "markdown",
   "metadata": {},
   "source": [
    "In order to get information on time, we first need to make sure that the data is in Python's datetime format. Once all relevant features are converted to this format, we can perform operations on them. In this case, we want to find out how many days elapsed between two dates, so we subtract the earlier date from the later date and report the output in days. \n",
    "\n",
    "As we saw in Module 1, we already ensured our date features are converted to datetime format using the `to_datetime` function. However, in reading in our \"df\" csv file, Python forgot the Pandas format we assigned. Therefore we convert our created variables to datetime format again. We then create a day feature from each of the datetime differences we calculate."
   ]
  },
  {
   "cell_type": "code",
   "execution_count": 64,
   "metadata": {
    "collapsed": false
   },
   "outputs": [],
   "source": [
    "## Ensuring datetime format\n",
    "df['planned_expiration_datetime'] = pd.to_datetime(df['planned_expiration_datetime'])\n",
    "df['posted_datetime'] = pd.to_datetime(df['posted_datetime'])\n",
    "\n",
    "## Time to expiration is the expiration date minus the Posted Date\n",
    "df['time_to_expire_datetime'] =df['planned_expiration_datetime'] - df['posted_datetime']\n",
    "df['days_to_expire'] = df.time_to_expire_datetime.dt.days"
   ]
  },
  {
   "cell_type": "markdown",
   "metadata": {},
   "source": [
    "### Tag Features\n",
    "\n",
    "Next we create features related to miscellaneous relevant information included in the loan's tags. Specifically, it could be interesting to consider the following: \n",
    "1. Is the loan eco-friendly?\n",
    "2. Does the loan relate to animals?  \n",
    "3. Does the loan involve technology?\n",
    "\n",
    "As with the demographic features above, we are using Numpy's [where](https://docs.scipy.org/doc/numpy/reference/generated/numpy.where.html) function and Panda's [str.contains](https://pandas.pydata.org/pandas-docs/stable/generated/pandas.Series.str.contains.html) to search for relevant tag-words"
   ]
  },
  {
   "cell_type": "code",
   "execution_count": 66,
   "metadata": {
    "collapsed": false
   },
   "outputs": [],
   "source": [
    "## Is the loan eco-friendly?\n",
    "df['eco_friendly'] = np.where(df['tags'].str.contains(\"#Eco-friendly\", na=0) ==True, 1, 0)\n",
    "\n",
    "## Does the loan relate to animals?\n",
    "df['animals'] = np.where(df['tags'].str.contains(\"#Animals\", na=0) ==True, 1, 0)\n",
    "\n",
    "## Does the loan involve technology?\n",
    "df['technology'] = np.where(df['tags'].str.contains(\"#Technology\", na=0) ==True, 1, 0)"
   ]
  },
  {
   "cell_type": "markdown",
   "metadata": {},
   "source": [
    "## Checking Assumptions\n",
    "\n",
    "### Normality\n",
    "In Module 2, we reviewed that normal distribution of variables is an assumption underlying linear regression. Let's look first at our dependent variable, loan_amounts."
   ]
  },
  {
   "cell_type": "code",
   "execution_count": 201,
   "metadata": {
    "collapsed": false,
    "scrolled": true
   },
   "outputs": [
    {
     "data": {
      "image/png": "[encoded data removed]",
      "text/plain": [
       "<matplotlib.figure.Figure at 0x12a4b4f60>"
      ]
     },
     "metadata": {},
     "output_type": "display_data"
    },
    {
     "data": {
      "text/plain": [
       "<ggplot: (308973751)>"
      ]
     },
     "execution_count": 201,
     "metadata": {},
     "output_type": "execute_result"
    }
   ],
   "source": [
    "ggplot(df, aes(x='loan_amount')) + geom_histogram(binwidth=100, fill=\"blue\") + xlim(0, 10000) + \\\n",
    "ggtitle(\"Loan Amounts Requested on Kiva\") + xlab(\"Loan Amounts\") + ylab(\"Count of Loans\")"
   ]
  },
  {
   "cell_type": "markdown",
   "metadata": {},
   "source": [
    "Let's remove outliers and see how the distribution changes."
   ]
  },
  {
   "cell_type": "code",
   "execution_count": 209,
   "metadata": {
    "collapsed": true
   },
   "outputs": [],
   "source": [
    "# Calculate Outliers\n",
    "df_removed_outliers=df[(((df['loan_amount']-df['loan_amount'].mean())/(df['loan_amount'].std())).abs()<3)] "
   ]
  },
  {
   "cell_type": "code",
   "execution_count": 212,
   "metadata": {
    "collapsed": false
   },
   "outputs": [
    {
     "data": {
      "image/png": "[encoded data removed]",
      "text/plain": [
       "<matplotlib.figure.Figure at 0x14e763f28>"
      ]
     },
     "metadata": {},
     "output_type": "display_data"
    },
    {
     "data": {
      "text/plain": [
       "<ggplot: (347986054)>"
      ]
     },
     "execution_count": 212,
     "metadata": {},
     "output_type": "execute_result"
    }
   ],
   "source": [
    "ggplot(df_removed_outliers, aes(x='loan_amount')) + geom_histogram(binwidth=100, fill=\"blue\") + xlim(0, 2000) + \\\n",
    "ggtitle(\"Loan Amounts Requested on Kiva\") + xlab(\"Loan Amounts\") + ylab(\"Count of Loans\")"
   ]
  },
  {
   "cell_type": "code",
   "execution_count": 208,
   "metadata": {
    "collapsed": false
   },
   "outputs": [
    {
     "data": {
      "text/plain": [
       "count    127958.000000\n",
       "mean        472.279185\n",
       "std         682.456070\n",
       "min          25.000000\n",
       "25%         250.000000\n",
       "50%         350.000000\n",
       "75%         600.000000\n",
       "max       50000.000000\n",
       "Name: loan_amount, dtype: float64"
      ]
     },
     "execution_count": 208,
     "metadata": {},
     "output_type": "execute_result"
    }
   ],
   "source": [
    "df['loan_amount'].describe()"
   ]
  },
  {
   "cell_type": "code",
   "execution_count": 203,
   "metadata": {
    "collapsed": true
   },
   "outputs": [],
   "source": [
    "remove_25_loans=df[df['loan_amount'] != 25]"
   ]
  },
  {
   "cell_type": "code",
   "execution_count": 204,
   "metadata": {
    "collapsed": false
   },
   "outputs": [
    {
     "data": {
      "image/png": "[encoded data removed]",
      "text/plain": [
       "<matplotlib.figure.Figure at 0x130a71a58>"
      ]
     },
     "metadata": {},
     "output_type": "display_data"
    },
    {
     "data": {
      "text/plain": [
       "<ggplot: (325225378)>"
      ]
     },
     "execution_count": 204,
     "metadata": {},
     "output_type": "execute_result"
    }
   ],
   "source": [
    "ggplot(remove_25_loans, aes(x='loan_amount')) + geom_histogram(binwidth=100, fill=\"blue\") + xlim(0, 10000) + \\\n",
    "ggtitle(\"Loan Amounts Requested on Kiva\") + xlab(\"Loan Amounts\") + ylab(\"Count of Loans\")"
   ]
  },
  {
   "cell_type": "markdown",
   "metadata": {},
   "source": [
    "This data looks pretty skewed to the left, towards values of $25, which we know is the minimum Kiva asks from lenders. \n",
    "\n",
    "We can also do a more statistical test of skewness. [Scipy's stats package](https://docs.scipy.org/doc/scipy-0.19.0/reference/generated/scipy.stats.skew.html) allows you to conduct a skew test. A normally distributed dataset would return about 0. A skewness value of greater than 0 means there is more in the left tail fo the distribution. Typically, a skew score of +-1 is deemed acceptable."
   ]
  },
  {
   "cell_type": "code",
   "execution_count": 7,
   "metadata": {
    "collapsed": false
   },
   "outputs": [
    {
     "name": "stdout",
     "output_type": "stream",
     "text": [
      "33.89270408065896\n"
     ]
    }
   ],
   "source": [
    "print(stats.skew(df.loan_amount, axis=None))"
   ]
  },
  {
   "cell_type": "markdown",
   "metadata": {},
   "source": [
    "This confirms our suspicion that the data is skewed to the left. How can we fix this? \n",
    "\n",
    "One potential solution is to **log transform** your data. For a quick review of logarithms, look [here](https://www.mathsisfun.com/algebra/logarithms.html). \n",
    "\n",
    "Note that when we log transform data, we change our interpretation of the final regression output. Previously we had a simple linear equation... \n",
    "\n",
    "    y = mx + b\n",
    "\n",
    "This could be interpreted as, with every unit increase in x, we get a m increase in outcome feature y. Now we have a log equation: \n",
    "\n",
    "    log(y) = mx + b\n",
    "    \n",
    "This is less intuitive, as we have to solve for y. When we solve for y through exponentiation, we get the following equation: \n",
    "\n",
    "    y = 10^(mx + b)\n",
    "    y = 10^(mx) * 10^(b)\n",
    "\n",
    "The default base for log is 10. The takeaway here is that the impact x would have on y is much larger than linear - it is **exponentiated**. We will return to this interpretation in the discussion of the linear regression model. Let's try log transforming our loan_amount variable. "
   ]
  },
  {
   "cell_type": "code",
   "execution_count": 9,
   "metadata": {
    "collapsed": true
   },
   "outputs": [],
   "source": [
    "df['log_loan_amount'] = np.log(df['loan_amount'])"
   ]
  },
  {
   "cell_type": "code",
   "execution_count": 9,
   "metadata": {
    "collapsed": false
   },
   "outputs": [
    {
     "data": {
      "image/png": "[encoded data removed]",
      "text/plain": [
       "<matplotlib.figure.Figure at 0x151baf898>"
      ]
     },
     "metadata": {},
     "output_type": "display_data"
    },
    {
     "data": {
      "text/plain": [
       "<ggplot: (-9223372036499969739)>"
      ]
     },
     "execution_count": 9,
     "metadata": {},
     "output_type": "execute_result"
    }
   ],
   "source": [
    "ggplot(df, aes(x='log_loan_amount')) + geom_histogram(binwidth=0.3, fill=\"blue\") + \\\n",
    "ggtitle(\"Log Loan Amounts Requested on Kiva\") + xlab(\"Log Loan Amounts\") + ylab(\"Count of Loans\")"
   ]
  },
  {
   "cell_type": "code",
   "execution_count": 9,
   "metadata": {
    "collapsed": false
   },
   "outputs": [
    {
     "name": "stdout",
     "output_type": "stream",
     "text": [
      "0.14839961560072792\n"
     ]
    }
   ],
   "source": [
    "print(stats.skew(df['log_loan_amount']))"
   ]
  },
  {
   "cell_type": "markdown",
   "metadata": {},
   "source": [
    "Great! This looks much closer to normal, both in the chart and in our skew statistic.\n",
    "\n",
    "Let's turn now to checking our other assumptions."
   ]
  },
  {
   "cell_type": "markdown",
   "metadata": {},
   "source": [
    "### Check for multicollinearity"
   ]
  },
  {
   "cell_type": "markdown",
   "metadata": {},
   "source": [
    "Numpy's Corrcoef function returns a matrix of Pearson correlation coefficients. To recap Module 2's lesson, multicollinearity is a problem when we have highly correlated explanatory features, as this makes it difficult for the model to try to differentitae between each feature's influence on the explanatory feature. Read more about Numpy's Corrcoef [here](https://docs.scipy.org/doc/numpy-1.10.1/reference/generated/numpy.corrcoef.html).\n",
    "\n",
    "Try running different features!"
   ]
  },
  {
   "cell_type": "code",
   "execution_count": 10,
   "metadata": {
    "collapsed": false
   },
   "outputs": [
    {
     "data": {
      "text/plain": [
       "array([[ 1.        ,  0.97333343],\n",
       "       [ 0.97333343,  1.        ]])"
      ]
     },
     "execution_count": 10,
     "metadata": {},
     "output_type": "execute_result"
    }
   ],
   "source": [
    "np.corrcoef(df.loan_amount, df.funded_amount)"
   ]
  },
  {
   "cell_type": "markdown",
   "metadata": {},
   "source": [
    "This tells us that loan amount and funded amount are extremely highly correlated - a vast majority of loans requested get funded! Normally, we would be interested in both loan_amount and funded_amount as an outcome feature, but here we see that it would be redundant to test both. \n",
    "\n",
    "It would take a long time for us to test each and every relationship between two sets of variables, so let's create a correlation matrix that lets us visualize every correlation in a dataset using Pandas."
   ]
  },
  {
   "cell_type": "code",
   "execution_count": 12,
   "metadata": {
    "collapsed": false
   },
   "outputs": [
    {
     "data": {
      "text/html": [
       "<div>\n",
       "<table border=\"1\" class=\"dataframe\">\n",
       "  <thead>\n",
       "    <tr style=\"text-align: right;\">\n",
       "      <th></th>\n",
       "      <th>funded_amount</th>\n",
       "      <th>loan_amount</th>\n",
       "      <th>log_loan_amount</th>\n",
       "      <th>lender_count</th>\n",
       "      <th>borrower_count</th>\n",
       "      <th>widowed</th>\n",
       "      <th>kids</th>\n",
       "      <th>video</th>\n",
       "      <th>pictured</th>\n",
       "      <th>days_to_expire</th>\n",
       "    </tr>\n",
       "  </thead>\n",
       "  <tbody>\n",
       "    <tr>\n",
       "      <th>funded_amount</th>\n",
       "      <td>1.000000</td>\n",
       "      <td>0.973333</td>\n",
       "      <td>0.569338</td>\n",
       "      <td>0.966091</td>\n",
       "      <td>0.199865</td>\n",
       "      <td>-0.016536</td>\n",
       "      <td>-0.036267</td>\n",
       "      <td>0.138491</td>\n",
       "      <td>NaN</td>\n",
       "      <td>0.082532</td>\n",
       "    </tr>\n",
       "    <tr>\n",
       "      <th>loan_amount</th>\n",
       "      <td>0.973333</td>\n",
       "      <td>1.000000</td>\n",
       "      <td>0.592568</td>\n",
       "      <td>0.936628</td>\n",
       "      <td>0.217043</td>\n",
       "      <td>-0.019917</td>\n",
       "      <td>-0.030220</td>\n",
       "      <td>0.132316</td>\n",
       "      <td>NaN</td>\n",
       "      <td>0.084827</td>\n",
       "    </tr>\n",
       "    <tr>\n",
       "      <th>log_loan_amount</th>\n",
       "      <td>0.569338</td>\n",
       "      <td>0.592568</td>\n",
       "      <td>1.000000</td>\n",
       "      <td>0.558347</td>\n",
       "      <td>0.359565</td>\n",
       "      <td>-0.033945</td>\n",
       "      <td>-0.040790</td>\n",
       "      <td>0.004814</td>\n",
       "      <td>NaN</td>\n",
       "      <td>0.076844</td>\n",
       "    </tr>\n",
       "    <tr>\n",
       "      <th>lender_count</th>\n",
       "      <td>0.966091</td>\n",
       "      <td>0.936628</td>\n",
       "      <td>0.558347</td>\n",
       "      <td>1.000000</td>\n",
       "      <td>0.182836</td>\n",
       "      <td>-0.014063</td>\n",
       "      <td>-0.031407</td>\n",
       "      <td>0.129759</td>\n",
       "      <td>NaN</td>\n",
       "      <td>0.081412</td>\n",
       "    </tr>\n",
       "    <tr>\n",
       "      <th>borrower_count</th>\n",
       "      <td>0.199865</td>\n",
       "      <td>0.217043</td>\n",
       "      <td>0.359565</td>\n",
       "      <td>0.182836</td>\n",
       "      <td>1.000000</td>\n",
       "      <td>-0.042936</td>\n",
       "      <td>0.065381</td>\n",
       "      <td>-0.005363</td>\n",
       "      <td>NaN</td>\n",
       "      <td>0.019546</td>\n",
       "    </tr>\n",
       "    <tr>\n",
       "      <th>widowed</th>\n",
       "      <td>-0.016536</td>\n",
       "      <td>-0.019917</td>\n",
       "      <td>-0.033945</td>\n",
       "      <td>-0.014063</td>\n",
       "      <td>-0.042936</td>\n",
       "      <td>1.000000</td>\n",
       "      <td>0.046876</td>\n",
       "      <td>0.009926</td>\n",
       "      <td>NaN</td>\n",
       "      <td>0.015540</td>\n",
       "    </tr>\n",
       "    <tr>\n",
       "      <th>kids</th>\n",
       "      <td>-0.036267</td>\n",
       "      <td>-0.030220</td>\n",
       "      <td>-0.040790</td>\n",
       "      <td>-0.031407</td>\n",
       "      <td>0.065381</td>\n",
       "      <td>0.046876</td>\n",
       "      <td>1.000000</td>\n",
       "      <td>-0.000634</td>\n",
       "      <td>NaN</td>\n",
       "      <td>-0.027457</td>\n",
       "    </tr>\n",
       "    <tr>\n",
       "      <th>video</th>\n",
       "      <td>0.138491</td>\n",
       "      <td>0.132316</td>\n",
       "      <td>0.004814</td>\n",
       "      <td>0.129759</td>\n",
       "      <td>-0.005363</td>\n",
       "      <td>0.009926</td>\n",
       "      <td>-0.000634</td>\n",
       "      <td>1.000000</td>\n",
       "      <td>NaN</td>\n",
       "      <td>0.016898</td>\n",
       "    </tr>\n",
       "    <tr>\n",
       "      <th>pictured</th>\n",
       "      <td>NaN</td>\n",
       "      <td>NaN</td>\n",
       "      <td>NaN</td>\n",
       "      <td>NaN</td>\n",
       "      <td>NaN</td>\n",
       "      <td>NaN</td>\n",
       "      <td>NaN</td>\n",
       "      <td>NaN</td>\n",
       "      <td>NaN</td>\n",
       "      <td>NaN</td>\n",
       "    </tr>\n",
       "    <tr>\n",
       "      <th>days_to_expire</th>\n",
       "      <td>0.082532</td>\n",
       "      <td>0.084827</td>\n",
       "      <td>0.076844</td>\n",
       "      <td>0.081412</td>\n",
       "      <td>0.019546</td>\n",
       "      <td>0.015540</td>\n",
       "      <td>-0.027457</td>\n",
       "      <td>0.016898</td>\n",
       "      <td>NaN</td>\n",
       "      <td>1.000000</td>\n",
       "    </tr>\n",
       "  </tbody>\n",
       "</table>\n",
       "</div>"
      ],
      "text/plain": [
       "                 funded_amount  loan_amount  log_loan_amount  lender_count  \\\n",
       "funded_amount         1.000000     0.973333         0.569338      0.966091   \n",
       "loan_amount           0.973333     1.000000         0.592568      0.936628   \n",
       "log_loan_amount       0.569338     0.592568         1.000000      0.558347   \n",
       "lender_count          0.966091     0.936628         0.558347      1.000000   \n",
       "borrower_count        0.199865     0.217043         0.359565      0.182836   \n",
       "widowed              -0.016536    -0.019917        -0.033945     -0.014063   \n",
       "kids                 -0.036267    -0.030220        -0.040790     -0.031407   \n",
       "video                 0.138491     0.132316         0.004814      0.129759   \n",
       "pictured                   NaN          NaN              NaN           NaN   \n",
       "days_to_expire        0.082532     0.084827         0.076844      0.081412   \n",
       "\n",
       "                 borrower_count   widowed      kids     video  pictured  \\\n",
       "funded_amount          0.199865 -0.016536 -0.036267  0.138491       NaN   \n",
       "loan_amount            0.217043 -0.019917 -0.030220  0.132316       NaN   \n",
       "log_loan_amount        0.359565 -0.033945 -0.040790  0.004814       NaN   \n",
       "lender_count           0.182836 -0.014063 -0.031407  0.129759       NaN   \n",
       "borrower_count         1.000000 -0.042936  0.065381 -0.005363       NaN   \n",
       "widowed               -0.042936  1.000000  0.046876  0.009926       NaN   \n",
       "kids                   0.065381  0.046876  1.000000 -0.000634       NaN   \n",
       "video                 -0.005363  0.009926 -0.000634  1.000000       NaN   \n",
       "pictured                    NaN       NaN       NaN       NaN       NaN   \n",
       "days_to_expire         0.019546  0.015540 -0.027457  0.016898       NaN   \n",
       "\n",
       "                 days_to_expire  \n",
       "funded_amount          0.082532  \n",
       "loan_amount            0.084827  \n",
       "log_loan_amount        0.076844  \n",
       "lender_count           0.081412  \n",
       "borrower_count         0.019546  \n",
       "widowed                0.015540  \n",
       "kids                  -0.027457  \n",
       "video                  0.016898  \n",
       "pictured                    NaN  \n",
       "days_to_expire         1.000000  "
      ]
     },
     "execution_count": 12,
     "metadata": {},
     "output_type": "execute_result"
    }
   ],
   "source": [
    "df_corr_tbl = df[['funded_amount', 'loan_amount', 'log_loan_amount', 'lender_count', 'borrower_count', 'gender', 'widowed', 'kids', 'video', 'pictured', 'days_to_expire']]\n",
    "df_corr_tbl.corr()"
   ]
  },
  {
   "cell_type": "markdown",
   "metadata": {},
   "source": [
    "Of course, not every correlation in this table will be meaningful. A correlation table is useful as it provides a visual shortcut to see what relationships might be problematic for multicollinearity. "
   ]
  },
  {
   "cell_type": "markdown",
   "metadata": {},
   "source": [
    "## Linear Regression"
   ]
  },
  {
   "cell_type": "markdown",
   "metadata": {},
   "source": [
    "Now we're relatively confident about what our data looks like, let's try some regressions. We will focus in on outcome feature loan_amount. We encourage you to explore other outcome features!  \n",
    "\n",
    "As discussed in Module 2, we will divide the data into training and test sets so we can validate our regression results.\n",
    "\n",
    "Note that training set should be larger than the test set, as we should train our model on as much data as possible. For this example, we divide the data 80% training / 20% test."
   ]
  },
  {
   "cell_type": "code",
   "execution_count": 11,
   "metadata": {
    "collapsed": false
   },
   "outputs": [],
   "source": [
    "# Set training-test split %\n",
    "split_pct = 0.80\n",
    "\n",
    "# the pandas command \"sample\" already randomizes its selection. \n",
    "loans_full_shuffled = df.sample(frac=1)\n",
    "\n",
    "train_set = loans_full_shuffled[:int((len(loans_full_shuffled)+1*split_pct))] \n",
    "test_set = loans_full_shuffled[int(len(loans_full_shuffled)*split_pct+1):]  "
   ]
  },
  {
   "cell_type": "markdown",
   "metadata": {},
   "source": [
    "Now we have two separate datasets: train_set and test_set. We will run the regression on train_set\n",
    "using statsmodel's \"ols\" function. Let's try a simple example to start: "
   ]
  },
  {
   "cell_type": "code",
   "execution_count": 16,
   "metadata": {
    "collapsed": false,
    "scrolled": true
   },
   "outputs": [
    {
     "name": "stdout",
     "output_type": "stream",
     "text": [
      "                            OLS Regression Results                            \n",
      "==============================================================================\n",
      "Dep. Variable:            loan_amount   R-squared:                       0.004\n",
      "Model:                            OLS   Adj. R-squared:                  0.004\n",
      "Method:                 Least Squares   F-statistic:                     464.3\n",
      "Date:                Sun, 28 May 2017   Prob (F-statistic):          8.62e-103\n",
      "Time:                        13:12:55   Log-Likelihood:            -9.4344e+05\n",
      "No. Observations:              118316   AIC:                         1.887e+06\n",
      "Df Residuals:                  118314   BIC:                         1.887e+06\n",
      "Df Model:                           1                                         \n",
      "Covariance Type:            nonrobust                                         \n",
      "==================================================================================\n",
      "                     coef    std err          t      P>|t|      [0.025      0.975]\n",
      "----------------------------------------------------------------------------------\n",
      "Intercept        463.9520      2.504    185.271      0.000     459.044     468.860\n",
      "gender[T.Male]    93.3054      4.330     21.549      0.000      84.819     101.792\n",
      "==============================================================================\n",
      "Omnibus:                   323229.608   Durbin-Watson:                   2.002\n",
      "Prob(Omnibus):                  0.000   Jarque-Bera (JB):      20914880614.698\n",
      "Skew:                          34.055   Prob(JB):                         0.00\n",
      "Kurtosis:                    2061.610   Cond. No.                         2.41\n",
      "==============================================================================\n",
      "\n",
      "Warnings:\n",
      "[1] Standard Errors assume that the covariance matrix of the errors is correctly specified.\n"
     ]
    }
   ],
   "source": [
    "model0 = sm.ols(formula=\"loan_amount ~ gender\", data=train_set).fit()\n",
    "print(model0.summary())"
   ]
  },
  {
   "cell_type": "markdown",
   "metadata": {},
   "source": [
    "This is the typical regression output. It's a lot to digest! Remember that our simple model can be represented as a linear equation, like this: \n",
    "\n",
    "    loan_amount = intercept + coef*male\n",
    "\n",
    "Therefore, these results can be translated as follows: \n",
    "\n",
    "    loan_amount = 463.9520 + 93.3054*male\n",
    "\n",
    "Noticeably, the coefficient for male is not small, suggesting that whether or not a borrower is male **does** influence loan_amount. We have a sufficient amount of confidence in this conclusion because the **p-value** is reported to be 0.000. In technical terms, the p-value is **the probability of getting results as extreme as the ones observed. **\n",
    "\n",
    "In statistics, we want our results to fall within the 95% confidence interval, or the p-value to be <= 0.05. This means, \"[i]f repeated samples were taken and the 95% confidence interval was computed for each sample, 95% of the intervals would contain the population mean. A 95% confidence interval has a 0.95 probability of containing the population mean. 95% of the population distribution is contained in the confidence interval.\" [Read more here.](http://www.investopedia.com/terms/s/standard-error.asp) The p-value is an indicator of where we fall in the confidence interval. In English, small p-value (<= 0.05) indicates strong evidence that the coefficient is different than 0. \n",
    "\n",
    "This is a relatively simplified explanation of p-values. Don't worry if it's not immediately intuitive - [not even professional statisticians can easily explain this concept.](http://fivethirtyeight.com/features/not-even-scientists-can-easily-explain-p-values/) To get a deeper understanding, we recommend grabbing the nearest textbook on statistics to review! \n",
    "\n",
    "Note also that the Adjusted R Squared is extremely low. To recap lessons from Module 2, the Adjusted R Squared is an explanation of how much of the outcome feature can be explained by the model's explanatory features. This low Adj R Squared suggests that the predictive value of male is pretty low - it cannot be used as the single feature to predict loan_amount. \n",
    "\n",
    "This result is in line with our understanding of the world - there must be other factors influencing loan_amount. Let's try complicating the model by adding more explanatory features. "
   ]
  },
  {
   "cell_type": "markdown",
   "metadata": {},
   "source": [
    "#### Model 1"
   ]
  },
  {
   "cell_type": "code",
   "execution_count": 12,
   "metadata": {
    "collapsed": false
   },
   "outputs": [],
   "source": [
    "# we rename the terms.repayment_term for ease of reference\n",
    "train_set = train_set.rename(columns={'terms.repayment_term': 'repayment_term'})\n",
    "test_set = test_set.rename(columns={'terms.repayment_term': 'repayment_term'})"
   ]
  },
  {
   "cell_type": "code",
   "execution_count": 134,
   "metadata": {
    "collapsed": false,
    "scrolled": true
   },
   "outputs": [
    {
     "name": "stdout",
     "output_type": "stream",
     "text": [
      "                            OLS Regression Results                            \n",
      "==============================================================================\n",
      "Dep. Variable:        log_loan_amount   R-squared:                       0.356\n",
      "Model:                            OLS   Adj. R-squared:                  0.355\n",
      "Method:                 Least Squares   F-statistic:                     1836.\n",
      "Date:                Sun, 28 May 2017   Prob (F-statistic):               0.00\n",
      "Time:                        15:06:29   Log-Likelihood:                -73913.\n",
      "No. Observations:               89811   AIC:                         1.479e+05\n",
      "Df Residuals:                   89783   BIC:                         1.481e+05\n",
      "Df Model:                          27                                         \n",
      "Covariance Type:            nonrobust                                         \n",
      "============================================================================================\n",
      "                               coef    std err          t      P>|t|      [95.0% Conf. Int.]\n",
      "--------------------------------------------------------------------------------------------\n",
      "Intercept                   42.3433      1.330     31.840      0.000        39.737    44.950\n",
      "sector[T.Arts]              -0.0805      0.034     -2.376      0.017        -0.147    -0.014\n",
      "sector[T.Clothing]           0.0793      0.009      9.215      0.000         0.062     0.096\n",
      "sector[T.Construction]       0.0292      0.017      1.736      0.083        -0.004     0.062\n",
      "sector[T.Education]         -0.1096      0.015     -7.312      0.000        -0.139    -0.080\n",
      "sector[T.Entertainment]      0.1348      0.061      2.208      0.027         0.015     0.254\n",
      "sector[T.Food]              -0.0369      0.006     -6.702      0.000        -0.048    -0.026\n",
      "sector[T.Health]            -0.8551      0.025    -34.484      0.000        -0.904    -0.807\n",
      "sector[T.Housing]            0.1863      0.023      7.948      0.000         0.140     0.232\n",
      "sector[T.Manufacturing]      0.1198      0.025      4.701      0.000         0.070     0.170\n",
      "sector[T.Personal Use]      -1.0473      0.013    -81.705      0.000        -1.072    -1.022\n",
      "sector[T.Retail]             0.1223      0.006     19.862      0.000         0.110     0.134\n",
      "sector[T.Services]           0.0906      0.008     11.274      0.000         0.075     0.106\n",
      "sector[T.Transportation]     0.1516      0.012     13.145      0.000         0.129     0.174\n",
      "sector[T.Wholesale]          0.1094      0.074      1.484      0.138        -0.035     0.254\n",
      "gender[T.Male]               0.1158      0.004     26.905      0.000         0.107     0.124\n",
      "pictured[T.True]            42.3433      1.330     31.840      0.000        39.737    44.950\n",
      "video[T.True]                0.9508      0.153      6.202      0.000         0.650     1.251\n",
      "borrower_count               0.0923      0.001     93.763      0.000         0.090     0.094\n",
      "kids                        -0.0401      0.005     -7.470      0.000        -0.051    -0.030\n",
      "widowed                     -0.0626      0.013     -4.704      0.000        -0.089    -0.037\n",
      "posted_year                 -0.0395      0.001    -29.957      0.000        -0.042    -0.037\n",
      "days_to_expire               0.0052      0.000     14.606      0.000         0.004     0.006\n",
      "repayment_term               0.0398      0.000    106.490      0.000         0.039     0.041\n",
      "partner_profitability       -0.0028      0.000    -11.275      0.000        -0.003    -0.002\n",
      "eco_friendly                 0.1297      0.011     11.638      0.000         0.108     0.152\n",
      "animals                      0.0748      0.008      9.822      0.000         0.060     0.090\n",
      "elderly                      0.0839      0.008     10.192      0.000         0.068     0.100\n",
      "technology                  -0.0857      0.012     -7.135      0.000        -0.109    -0.062\n",
      "==============================================================================\n",
      "Omnibus:                     2549.766   Durbin-Watson:                   2.008\n",
      "Prob(Omnibus):                  0.000   Jarque-Bera (JB):             4771.464\n",
      "Skew:                           0.222   Prob(JB):                         0.00\n",
      "Kurtosis:                       4.038   Cond. No.                     3.42e+15\n",
      "==============================================================================\n",
      "\n",
      "Warnings:\n",
      "[1] Standard Errors assume that the covariance matrix of the errors is correctly specified.\n",
      "[2] The smallest eigenvalue is 3.11e-20. This might indicate that there are\n",
      "strong multicollinearity problems or that the design matrix is singular.\n"
     ]
    }
   ],
   "source": [
    "#df['eco_friendly'] = np.where(df['tags'].str.contains(\"#Eco-friendly\", na=0) ==True, 1, 0)\n",
    "#df['animals'] = np.where(df['tags'].str.contains(\"#Animals\", na=0) ==True, 1, 0)\n",
    "#df['technology'] = np.where(df['tags'].str.contains(\"#Technology\", na=0) ==True, 1, 0)\n",
    "\n",
    "model1 = sm.ols(formula=\"log_loan_amount ~ borrower_count + sector + kids + gender + widowed + pictured + video + posted_year +\\\n",
    "                days_to_expire + repayment_term + partner_profitability + eco_friendly + animals + elderly + technology\", data=train_set)\n",
    "model1_results = model1.fit()\n",
    "print(model1_results.summary())"
   ]
  },
  {
   "cell_type": "markdown",
   "metadata": {},
   "source": [
    "This **multi-feature** (or multivariate) model is more aligned with our understanding of the world. We see that adding a picture to your profile increases the amount that you might ask for. We also see that males tend to get larger loans, and widows and those with children tend to get slightly smaller loans. Most coefficients have very low p-values - a good sign! \n",
    "\n",
    "Our Adjusted R Squared is higher than it was in the single-feature model. Let's get into how we evaluate the model in terms of predictiveness. "
   ]
  },
  {
   "cell_type": "markdown",
   "metadata": {},
   "source": [
    "## Model Validation"
   ]
  },
  {
   "cell_type": "markdown",
   "metadata": {},
   "source": [
    "<i>How can we evaluate how our model is doing? </i>\n",
    "\n",
    "In the previous section, we were able to get general ideas of how well our model was doing by using metrics like Adjusted R Squared, coefficients, and p-value. However, the goal of most machine learning is a model that can <b>predict outcome features accurately</b>. Recall that we randomly split our dataset into a training set (80%) and a test set (20%). Now we will use the results from the regression conducted on our training set to predict the outcome features for each observation in our test set. The difference between the predicted outcome feature and the actual outcome feature for each observation gives us an idea of how close we are to the mark.  \n",
    "\n",
    "In the previous section, we used the **statsmodel** package in order to output a regression output table. Now, we run the regression using the **scikit-learn** package, which is optimized specifically for machine learning and allows us to validate our models easily. Remember this package - we will be returning to it for the rest of the class!  "
   ]
  },
  {
   "cell_type": "markdown",
   "metadata": {},
   "source": [
    "#### Validation of Model 1:"
   ]
  },
  {
   "cell_type": "markdown",
   "metadata": {},
   "source": [
    "In order to use scikit-learn to run a regression, we format the data differently than how we do when we use statsmodels. \n",
    "\n",
    "In scikit-learn, we want to make sure: \n",
    "1. Categorical features are converted Booleans with values of either 1 or 0\n",
    "2. Data is separated into two separate and clean datasets: x and y, or explanatory features and outcome feature. \n",
    "\n",
    "We do this below in the pre-processing section."
   ]
  },
  {
   "cell_type": "code",
   "execution_count": 13,
   "metadata": {
    "collapsed": false
   },
   "outputs": [],
   "source": [
    "# Separate out the outcome feature into training/testing sets \n",
    "#  using our already-made training and test datasets\n",
    "train_set = pd.DataFrame(train_set)\n",
    "test_set = pd.DataFrame(test_set)\n",
    "train_set_y = train_set['log_loan_amount']\n",
    "test_set_y = test_set['log_loan_amount']"
   ]
  },
  {
   "cell_type": "code",
   "execution_count": 14,
   "metadata": {
    "collapsed": true
   },
   "outputs": [],
   "source": [
    "## Process categorical variables\n",
    "\n",
    "# Process categorical variable \"Gender\" into individual Boolean features. \n",
    "#  Since there are only two possible values, we can keep this short. \n",
    "train_set['gender_dummy'] = train_set['gender']==\"Male\"\n",
    "test_set['gender_dummy'] = test_set['gender']==\"Male\"\n",
    "\n",
    "# Process categorical variable \"Sector\" into individual Boolean features \n",
    "#  Since there are 15 different sectors, this requires more processing.\n",
    "\n",
    "# Encode categorical variable 'sector' into numeric \n",
    "le = preprocessing.LabelEncoder()\n",
    "le.fit(train_set['sector'])\n",
    "\n",
    "# create array of sectors as numbers \n",
    "sector_as_num = le.transform(train_set['sector']).reshape(-1,1)\n",
    "\n",
    "# One-hot encode sectors of loans so that each sector has its own Boolean column (statsmodel does this automatically)\n",
    "enc = OneHotEncoder()\n",
    "enc.fit(sector_as_num)\n",
    "# Create array of columns\n",
    "sector_dummies = enc.transform(sector_as_num).toarray()\n",
    "sector_dummies = pd.DataFrame(sector_dummies, columns = [\"dummy_\"+str(i) for i in range(1,16)])\n",
    "# Join array of boolean columns with original training set \n",
    "train_set = pd.concat([train_set, sector_dummies], axis=1)\n",
    "test_set = pd.concat([test_set, sector_dummies], axis=1)"
   ]
  },
  {
   "cell_type": "code",
   "execution_count": 15,
   "metadata": {
    "collapsed": false
   },
   "outputs": [],
   "source": [
    "## Join the newly created Boolean features to the \n",
    "#   train and test sets of explanatory features\n",
    "\n",
    "train_set_x = train_set[['borrower_count', 'kids', 'gender_dummy', 'widowed', 'pictured', 'video', \\\n",
    "                         'days_to_expire', 'repayment_term',\n",
    "                         'dummy_1', 'dummy_2', 'dummy_3', 'dummy_4', 'dummy_5', 'dummy_6',\\\n",
    "                         'dummy_7','dummy_8','dummy_9','dummy_10','dummy_11','dummy_12','dummy_13',\\\n",
    "                         'dummy_14','dummy_15']]\n",
    "test_set_x = test_set[['borrower_count', 'kids', 'gender_dummy', 'widowed', 'pictured', 'video', \\\n",
    "                        'days_to_expire', 'repayment_term',\n",
    "                      'dummy_1', 'dummy_2', 'dummy_3', 'dummy_4', 'dummy_5', 'dummy_6', \\\n",
    "                       'dummy_7','dummy_8','dummy_9','dummy_10','dummy_11','dummy_12','dummy_13',\\\n",
    "                       'dummy_14','dummy_15']]"
   ]
  },
  {
   "cell_type": "code",
   "execution_count": 19,
   "metadata": {
    "collapsed": false
   },
   "outputs": [],
   "source": [
    "# In this section we impute missing values in the training and test sets. \n",
    "\n",
    "from sklearn.preprocessing import Imputer\n",
    "\n",
    "# Create our imputer to replace missing values with the mean e.g.\n",
    "imp = Imputer(missing_values='NaN', strategy='mean', axis=0)\n",
    "imp = imp.fit(train_set_x)\n",
    "\n",
    "train_set_x_imp = imp.transform(train_set_x)\n",
    "test_set_x_imp = imp.transform(test_set_x)"
   ]
  },
  {
   "cell_type": "code",
   "execution_count": 20,
   "metadata": {
    "collapsed": false
   },
   "outputs": [
    {
     "name": "stdout",
     "output_type": "stream",
     "text": [
      "LinearRegression(copy_X=True, fit_intercept=True, n_jobs=1, normalize=False)\n"
     ]
    }
   ],
   "source": [
    "# Linear Regression\n",
    "\n",
    "# Create linear regression object\n",
    "regr = linear_model.LinearRegression()\n",
    "\n",
    "# Train the model using the training sets\n",
    "model1 = regr.fit(train_set_x_imp, train_set_y)\n",
    "print(model1)"
   ]
  },
  {
   "cell_type": "markdown",
   "metadata": {},
   "source": [
    "Now we print the coefficients to ensure that the outputs are the same as the ones we've gotten when we ran statsmodel. "
   ]
  },
  {
   "cell_type": "code",
   "execution_count": 22,
   "metadata": {
    "collapsed": false
   },
   "outputs": [
    {
     "name": "stdout",
     "output_type": "stream",
     "text": [
      "Coefficients: \n",
      " [  4.75126438e-04   2.16772311e-03  -3.74459387e-04   7.96831806e-03\n",
      "   1.24900090e-16   7.45923218e-02  -2.82401817e-04  -1.48996694e-04\n",
      "   1.33363184e-01  -1.41255571e-01  -4.54263650e-02  -4.69575242e-02\n",
      "   9.88776873e-02   7.18419841e-02  -1.71259716e-01   7.56973484e-01\n",
      "   1.10751783e-01   8.12488376e-02  -1.11377625e+00   1.71299860e-03\n",
      "  -2.44343909e-02   1.03739659e-01   1.84600201e-01]\n"
     ]
    }
   ],
   "source": [
    "# The coefficients\n",
    "print('Coefficients: \\n', regr.coef_)"
   ]
  },
  {
   "cell_type": "markdown",
   "metadata": {},
   "source": [
    "With scikit-learn, we're able to generate some exciting new metrics using our test_set that we created earlier on in the code. First, let's take a look at the predicted value of y, and the true y.  "
   ]
  },
  {
   "cell_type": "code",
   "execution_count": 26,
   "metadata": {
    "collapsed": false
   },
   "outputs": [
    {
     "data": {
      "text/plain": [
       "array([ 0.62038259,  0.7212248 ,  0.7828526 ,  0.77722218,  0.26508832,\n",
       "        0.57169306,  0.68667778,  0.60415162,  0.07276459])"
      ]
     },
     "execution_count": 26,
     "metadata": {},
     "output_type": "execute_result"
    }
   ],
   "source": [
    "#predicted y: \n",
    "predicted_y = regr.predict(test_set_x_imp)\n",
    "#true y:\n",
    "train_set_y\n",
    "\n",
    "#Let's calculate the difference! \n",
    "y_diff = abs(predicted_y - train_set_y)\n",
    "y_diff[1:10]"
   ]
  },
  {
   "cell_type": "markdown",
   "metadata": {},
   "source": [
    "This is interesting, but the absolute value of the difference between predicted and true Y doesn't tell us too much on its own. However, it is used as an input in calculating many statistical measures of fit. Let's take a look: "
   ]
  },
  {
   "cell_type": "markdown",
   "metadata": {},
   "source": [
    "[Mean Absolute Error](https://www.kaggle.com/wiki/MeanAbsoluteError)\n",
    "\n",
    "The mean absolute error is calculated as the mean of the distance between predicted and true Y. We take the absolute value of (predicted Y - true Y) so we capture the concept of distance for each observation. Then we take the mean over all observations to get a sense of the entire model. The closer the final statistic is to 0, the better."
   ]
  },
  {
   "cell_type": "code",
   "execution_count": 28,
   "metadata": {
    "collapsed": false
   },
   "outputs": [
    {
     "name": "stdout",
     "output_type": "stream",
     "text": [
      "Mean absolute error: 0.52\n"
     ]
    }
   ],
   "source": [
    "print(\"Mean absolute error: %.2f\"\n",
    "     % np.mean(y_diff))"
   ]
  },
  {
   "cell_type": "markdown",
   "metadata": {},
   "source": [
    "[Root Mean Squared Error](https://www.kaggle.com/wiki/RootMeanSquaredError)\n",
    "\n",
    "The root mean squared error is calculated as the square root of the mean of the difference between predicted and true Y squared. This is a little more complicated to interpret than the MAE, but a useful indication of fit. Like the MAE, the closer this final statistic is to 0, the better.  \n",
    "\n",
    "We use both RMSE and MAE in practice. See [this blog post](https://medium.com/human-in-a-machine-world/mae-and-rmse-which-metric-is-better-e60ac3bde13d) for a discussion of the difference between the two metrics."
   ]
  },
  {
   "cell_type": "code",
   "execution_count": 30,
   "metadata": {
    "collapsed": false
   },
   "outputs": [
    {
     "name": "stdout",
     "output_type": "stream",
     "text": [
      "Root mean squared error: 0.64\n"
     ]
    }
   ],
   "source": [
    "print(\"Root mean squared error: %.2f\"\n",
    "      % np.sqrt(np.mean((predicted_y - train_set_y) ** 2)))"
   ]
  },
  {
   "cell_type": "markdown",
   "metadata": {},
   "source": [
    "Logically, the Root Mean Squared error is the inverse of the R-squared; In other words, it is a measure of how much of our outcome variable is left **unexplained** by the model we generated, whereas the R-squared is a measure of how much our model **explains** the variation. It therefore makes sense that the values we obtain roughly add up to 1 (0.64 RMSE and 0.35 R-squared)"
   ]
  },
  {
   "cell_type": "markdown",
   "metadata": {},
   "source": [
    "## Next Steps\n",
    "\n",
    "This method, called the \"holdout method\"  is only one way of many to validate a model that you create. In Module 3, we will introduce you to a new algorithm (decision trees) as well as multiple methods of validating your results. "
   ]
  }
 ],
 "metadata": {
  "kernelspec": {
   "display_name": "Python 3",
   "language": "python",
   "name": "python3"
  },
  "language_info": {
   "codemirror_mode": {
    "name": "ipython",
    "version": 3
   },
   "file_extension": ".py",
   "mimetype": "text/x-python",
   "name": "python",
   "nbconvert_exporter": "python",
   "pygments_lexer": "ipython3",
   "version": "3.5.1"
  }
 },
 "nbformat": 4,
 "nbformat_minor": 2
}
