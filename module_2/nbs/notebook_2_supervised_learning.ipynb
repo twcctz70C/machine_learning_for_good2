{
 "cells": [
  {
   "cell_type": "markdown",
   "metadata": {},
   "source": [
    "# Lab 2: Supervised Learning"
   ]
  },
  {
   "cell_type": "markdown",
   "metadata": {},
   "source": [
    "In this lab, we prepare our Kiva data for a linear regression, and run linear regressions that attempt to answer questions we may have as Kiva borrowers: \n",
    "\n",
    "1. How much should I ask for on Kiva? \n",
    "2. When will I receive my loan? (i.e. when will my loan be disbursed to me?) \n",
    "\n",
    "In the language of Module 1, our outcome features are: \n",
    "\n",
    "1. loan_amount\n",
    "4. days_to_disburse (we will make this variable in this notebook!)\n",
    "\n",
    "We will try using and evaluating different explanatory features in this notebook. \n",
    "\n",
    "But first, we will load the packages we need for this section, and our data. As a reminder, we had 3 raw data files (loans_full, loans_detail, and loans_partner_details). In Notebook 1, we merged these data files to form the data frame \"df\", which we will  use now.  "
   ]
  },
  {
   "cell_type": "code",
   "execution_count": 1,
   "metadata": {
    "collapsed": false
   },
   "outputs": [],
   "source": [
    "## Import packages\n",
    "\n",
    "import pandas as pd\n",
    "import numpy as np\n",
    "from datetime import datetime\n",
    "from ggplot import *\n",
    "%matplotlib inline"
   ]
  },
  {
   "cell_type": "code",
   "execution_count": 2,
   "metadata": {
    "collapsed": false
   },
   "outputs": [],
   "source": [
    "## Read in data\n",
    "\n",
    "##data_path = '~/intro_to_machine_learning/data'\n",
    "data_path = '~/Desktop'\n",
    "df = pd.read_csv(data_path+'/df.csv', low_memory=False)"
   ]
  },
  {
   "cell_type": "markdown",
   "metadata": {},
   "source": [
    "## Creating Explanatory Features of Interest\n",
    "\n",
    "   ### Demographics\n",
    "\n",
    "Since we are interested in using the demographics of the Kiva borrowers as potential explanatory features, we will create these based on existing data. See how below: "
   ]
  },
  {
   "cell_type": "code",
   "execution_count": 3,
   "metadata": {
    "collapsed": false
   },
   "outputs": [],
   "source": [
    "## Male/Female \n",
    "#  Note the apply function\n",
    "df['male'] = df['borrowers'].apply(lambda x: x.split(\"gender': '\")[1][0]=='M')\n",
    "\n",
    "## Whether or not the borrower is widowed\n",
    "#  Note the str.contains function\n",
    "df['widowed'] = np.where(df['description.texts.en'].str.contains(\"widowed|widow\", na=False) ==True, True, False)\n",
    "\n",
    "## Whether or not the borrower has children \n",
    "df['kids'] = np.where(df['description.texts.en'].str.contains(\"kids|child|children|kid|son|daughter\", na=False) ==True,True,False)"
   ]
  },
  {
   "cell_type": "markdown",
   "metadata": {},
   "source": [
    "Here we see two new methods used to create features: apply and string searches. \n",
    "\n",
    "To create the \"male\" feature, we are using the feature \"borrowers\". An observation from this feature looks like this: \n",
    "\n",
    "    [{'first_name': 'James', 'last_name': '', 'gender': 'M', 'pictured': True}]\n",
    "\n",
    "By using apply, we split each observation (using x.split) along the section of the string that says 'gender'. Then we code the feature \"male\" to be 1 or 0 depending on whether the string says \"M\" or \"F\". \n",
    "\n",
    "In creating the \"widowed\" and \"kids\" feature, we are using Numpy's \"where\" function and \"str.contains\" to filter the data such that we are only creating a Boolean variable for those observations in which we find the strings of interest. \n",
    "\n",
    "Read more here: \n",
    "\n",
    "On np.where:\n",
    "https://docs.scipy.org/doc/numpy/reference/generated/numpy.where.html\n",
    "\n",
    "On pandas' str.contains:\n",
    "https://pandas.pydata.org/pandas-docs/stable/generated/pandas.Series.str.contains.html"
   ]
  },
  {
   "cell_type": "markdown",
   "metadata": {},
   "source": [
    "### Loan features\n",
    "\n",
    "Next we create features that tell us the specific conditions surrounding each loan posting, including: \n",
    "1. Whether or not a borrower has included a video or a picture\n",
    "\n",
    "    Here, our intuition tells us that if a borrower includes more personal details and imagery, lenders are more likely to lend to them. We create this variable so we can differentiate between loans that have these personal details and loans that do not.\n",
    "\n",
    "    \n",
    "2. When loans are funded\n",
    "3. When loans are disbursed\n",
    "4. When loans expire"
   ]
  },
  {
   "cell_type": "code",
   "execution_count": 4,
   "metadata": {
    "collapsed": true
   },
   "outputs": [],
   "source": [
    "## Features of the loan posting\n",
    "\n",
    "## Does the borrower include a video? \n",
    "df['video'] = np.where(pd.isnull(df['video.id']) ==False, True, False)\n",
    "\n",
    "## Does the borrower include a picture? \n",
    "df['pictured'] = df['borrowers'].apply(lambda x: x.split(\"gender': '\")[1][0]==True)"
   ]
  },
  {
   "cell_type": "markdown",
   "metadata": {},
   "source": [
    "In order to get information on how much time it took for a loan to be funded or be disbursed or expire, we first need to make sure that the data is in Python's datetime format. Once all relevant features are converted to this format, we can perform operations on them. In this case, we want to find out how many days elapsed between two dates, so we subtract the earlier date from the later date. "
   ]
  },
  {
   "cell_type": "code",
   "execution_count": 5,
   "metadata": {
    "collapsed": true
   },
   "outputs": [],
   "source": [
    "df = df.rename(columns={'terms.disbursal_date': 'disbursal_date'})\n",
    "\n",
    "## convert columns to datetime format\n",
    "df['funded_date_cln'] = pd.to_datetime(df.funded_date.str[:10], infer_datetime_format=True)\n",
    "df['post_date_cln'] = pd.to_datetime(df.posted_date.str[:10], infer_datetime_format=True)\n",
    "df['disb_date_cln'] = pd.to_datetime(df.disbursal_date.str[:10], infer_datetime_format=True)\n",
    "df['exp_date_cln'] = pd.to_datetime(df.planned_expiration_date.str[:10], infer_datetime_format=True)\n",
    "\n",
    "## Time to fund is the funded date minus the posted date\n",
    "df['time_to_fund'] =df['funded_date_cln'] - df['post_date_cln']\n",
    "df['days_to_fund'] = df.time_to_fund.dt.days\n",
    "\n",
    "## Time to dispursement is the Disbursed date minus the Posted Date\n",
    "df['time_to_disb'] =df['disb_date_cln'] - df['post_date_cln']\n",
    "df['days_to_disb'] = df.time_to_disb.dt.days\n",
    "\n",
    "## Time to expiration is the expiration date minus the Posted Date\n",
    "df['time_to_exp'] =df['exp_date_cln'] - df['post_date_cln']\n",
    "df['days_to_exp'] = df.time_to_exp.dt.days"
   ]
  },
  {
   "cell_type": "markdown",
   "metadata": {},
   "source": [
    "## Checking Assumptions\n",
    "\n",
    "### Normality\n",
    "In Module 2, we reviewed that normal distribution of variables is an assumption underlying linear regression. Here, we go over an example of abnormal distribution and explain why it is inappropriate to use in a regression."
   ]
  },
  {
   "cell_type": "code",
   "execution_count": 6,
   "metadata": {
    "collapsed": false,
    "scrolled": true
   },
   "outputs": [
    {
     "data": {
      "image/png": "[encoded data removed]",
      "text/plain": [
       "<matplotlib.figure.Figure at 0x1f5aa2f6470>"
      ]
     },
     "metadata": {},
     "output_type": "display_data"
    },
    {
     "data": {
      "text/plain": [
       "<ggplot: (134664615579)>"
      ]
     },
     "execution_count": 6,
     "metadata": {},
     "output_type": "execute_result"
    }
   ],
   "source": [
    "ggplot(df.query('days_to_fund >= 0'), aes(x='days_to_fund')) + geom_histogram(binwidth=1, fill=\"blue\") + \\\n",
    "ggtitle(\"Days to Fund a Loan on Kiva\") + xlab(\"Number of Days\") + ylab(\"Count of Loans\")"
   ]
  },
  {
   "cell_type": "markdown",
   "metadata": {},
   "source": [
    "Most loans are funded astoundingly quickly! The majority of loans are funded 0 days after being posted. There is also a spike that occurs around the 30 day mark, suggesting that there is a cluster of loans that are funded before the expiration date of 30 days.\n",
    "\n",
    "In concept, the number of days that it takes a loan to fund would be very interesting as an outcome feature. However, due to the fact that most loans get fulfilled immediately or at the 30-day mark, the model would not be very good at predicting the days it would take to fund any new loans. Rather, the model would predict that any loan would be fulfilled either immediately or at Day 30. "
   ]
  },
  {
   "cell_type": "code",
   "execution_count": 7,
   "metadata": {
    "collapsed": false,
    "scrolled": true
   },
   "outputs": [
    {
     "data": {
      "image/png": "[encoded data removed]",
      "text/plain": [
       "<matplotlib.figure.Figure at 0x1f59338bb00>"
      ]
     },
     "metadata": {},
     "output_type": "display_data"
    },
    {
     "data": {
      "text/plain": [
       "<ggplot: (134643936183)>"
      ]
     },
     "execution_count": 7,
     "metadata": {},
     "output_type": "execute_result"
    }
   ],
   "source": [
    "ggplot(df.query('days_to_disb < 100 & days_to_disb > -100'), aes(x='days_to_disb')) + geom_histogram(binwidth=2, fill=\"blue\") + \\\n",
    "ggtitle(\"Days to Disburse a Loan on Kiva\") + xlab(\"Number of Days\") + ylab(\"Count of Loans\")"
   ]
  },
  {
   "cell_type": "markdown",
   "metadata": {},
   "source": [
    "Note that this histogram exhibits a normal distribution. Interestingly, it is centered around -10. This implies that the average loan gets disbursed to the borrower <b>prior</b> to getting posted. \n",
    "\n",
    "At this point, we would consult with Kiva to make sure that our understanding of the data is correct. Based on our conversations with Kiva representatives, we found out that Kiva encourages partners to disburse loans to borrowers in case there are time-sensitive loans. In the area of agriculture, for example, it is understandable that a borrower might need capital right away in order to plant crops while the season is right. \n",
    "\n",
    "Now let's look to loan_amount."
   ]
  },
  {
   "cell_type": "code",
   "execution_count": 7,
   "metadata": {
    "collapsed": false,
    "scrolled": true
   },
   "outputs": [
    {
     "data": {
      "image/png": "[encoded data removed]",
      "text/plain": [
       "<matplotlib.figure.Figure at 0x1618806beb8>"
      ]
     },
     "metadata": {},
     "output_type": "display_data"
    },
    {
     "data": {
      "text/plain": [
       "<ggplot: (-9223371941954301717)>"
      ]
     },
     "execution_count": 7,
     "metadata": {},
     "output_type": "execute_result"
    }
   ],
   "source": [
    "ggplot(df, aes(x='loan_amount')) + geom_histogram(binwidth=100, fill=\"blue\") + xlim(0, 10000) + \\\n",
    "ggtitle(\"Loan Amounts Requested on Kiva\") + xlab(\"Loan Amounts\") + ylab(\"Count of Loans\")"
   ]
  },
  {
   "cell_type": "markdown",
   "metadata": {},
   "source": [
    "### Check for multicollinearity"
   ]
  },
  {
   "cell_type": "markdown",
   "metadata": {},
   "source": [
    "Numpy's Corrcoef function returns a matrix of Pearson correlation coefficients. To recap Module 2's lesson, multicollinearity is a problem when we have highly correlated explanatory features, as this makes it difficult for the model to try to differentitae between each feature's influence on the explanatory feature. Read more about Numpy's Corrcoef here: https://docs.scipy.org/doc/numpy-1.10.1/reference/generated/numpy.corrcoef.html\n",
    "\n",
    "Try running different features!"
   ]
  },
  {
   "cell_type": "code",
   "execution_count": 8,
   "metadata": {
    "collapsed": false
   },
   "outputs": [
    {
     "data": {
      "text/plain": [
       "array([[ 1.        ,  0.97373115],\n",
       "       [ 0.97373115,  1.        ]])"
      ]
     },
     "execution_count": 8,
     "metadata": {},
     "output_type": "execute_result"
    }
   ],
   "source": [
    "np.corrcoef(df.loan_amount, df.funded_amount)"
   ]
  },
  {
   "cell_type": "markdown",
   "metadata": {},
   "source": [
    "This tells us that loan amount and funded amount are extremely highly correlated - a vast majority of loans requested get funded! Normally, we would be interested in both loan_amount and funded_amount as an outcome feature, but here we see that it would be redundant to test both. "
   ]
  },
  {
   "cell_type": "code",
   "execution_count": 9,
   "metadata": {
    "collapsed": false
   },
   "outputs": [
    {
     "data": {
      "text/plain": [
       "array([[ 1.        ,  0.95874758],\n",
       "       [ 0.95874758,  1.        ]])"
      ]
     },
     "execution_count": 9,
     "metadata": {},
     "output_type": "execute_result"
    }
   ],
   "source": [
    "np.corrcoef(df.lender_count, df.funded_amount)"
   ]
  },
  {
   "cell_type": "markdown",
   "metadata": {},
   "source": [
    "## Linear Regression"
   ]
  },
  {
   "cell_type": "markdown",
   "metadata": {},
   "source": [
    "Now we're relatively confident about what our data looks like, let's try some regressions. We will focus in on outcome features time_to_disburse and loan_amount. We encourage you to explore other outcome features!  \n",
    "\n",
    "As discussed in Module 2, we will divide the data into training and test sets so we can validate our regression results.\n",
    "\n",
    "Note that training set should be larger than the test set, as we should train our model on as much data as possible. For this example, we divide the data 80% training / 20% test."
   ]
  },
  {
   "cell_type": "code",
   "execution_count": 10,
   "metadata": {
    "collapsed": false
   },
   "outputs": [],
   "source": [
    "import statsmodels.formula.api as sm\n",
    "from sklearn import linear_model\n",
    "from sklearn.model_selection import train_test_split"
   ]
  },
  {
   "cell_type": "code",
   "execution_count": 11,
   "metadata": {
    "collapsed": false
   },
   "outputs": [
    {
     "name": "stdout",
     "output_type": "stream",
     "text": [
      "                            OLS Regression Results                            \n",
      "==============================================================================\n",
      "Dep. Variable:            loan_amount   R-squared:                       0.006\n",
      "Model:                            OLS   Adj. R-squared:                  0.006\n",
      "Method:                 Least Squares   F-statistic:                     829.5\n",
      "Date:                Fri, 26 May 2017   Prob (F-statistic):          7.99e-182\n",
      "Time:                        15:40:23   Log-Likelihood:            -1.0162e+06\n",
      "No. Observations:              127958   AIC:                         2.032e+06\n",
      "Df Residuals:                  127956   BIC:                         2.032e+06\n",
      "Df Model:                           1                                         \n",
      "Covariance Type:            nonrobust                                         \n",
      "================================================================================\n",
      "                   coef    std err          t      P>|t|      [95.0% Conf. Int.]\n",
      "--------------------------------------------------------------------------------\n",
      "Intercept      435.2965      2.295    189.703      0.000       430.799   439.794\n",
      "male[T.True]   118.0963      4.100     28.801      0.000       110.059   126.133\n",
      "==============================================================================\n",
      "Omnibus:                   352466.551   Durbin-Watson:                   2.006\n",
      "Prob(Omnibus):                  0.000   Jarque-Bera (JB):      25161773100.654\n",
      "Skew:                          34.783   Prob(JB):                         0.00\n",
      "Kurtosis:                    2174.300   Cond. No.                         2.42\n",
      "==============================================================================\n",
      "\n",
      "Warnings:\n",
      "[1] Standard Errors assume that the covariance matrix of the errors is correctly specified.\n"
     ]
    }
   ],
   "source": [
    "# Set training-test split %\n",
    "split_pct = 0.80\n",
    "\n",
    "# Remove NaN values\n",
    "df_cln = df[pd.notnull(df['loan_amount'])]\n",
    "\n",
    "# the pandas command \"sample\" already randomizes its selection. \n",
    "loans_full_shuffled = df_cln.sample(frac=1)\n",
    "\n",
    "train_set = loans_full_shuffled[:int((len(loans_full_shuffled)+1*split_pct))] \n",
    "test_set = loans_full_shuffled[int(len(loans_full_shuffled)*split_pct+1):]  \n",
    "\n",
    "# Now we have two separate datasets: train_set and test_set. We will run the regression on train_set\n",
    "# using statsmodel's \"ols\" function. Let's try a simple example to start:\n",
    "\n",
    "model0 = sm.ols(formula=\"loan_amount ~ male\", data=train_set).fit()\n",
    "print(model0.summary())"
   ]
  },
  {
   "cell_type": "markdown",
   "metadata": {},
   "source": [
    "This is a lot to digest! Remember that our simple model can be represented as a linear equation, like this: \n",
    "\n",
    "    loan_amount = intercept + coef*male\n",
    "\n",
    "Therefore, these results can be translated as follows: \n",
    "\n",
    "    loan_amount = intercept + 118.0963*male\n",
    "\n",
    "Noticeably, the coefficient for male is not small, suggesting that whether or not a borrower is male does influence loan_amount. However, the Adjusted R Squared is 0.006 - extremely low. This suggests that the predictive value of male is pretty low - it cannot be used as the single feature to predict loan_amount. \n",
    "\n",
    "This result is in line with our understanding of the world - there must be other factors influencing loan_amount. Let's try complicating the model by adding more explanatory features. "
   ]
  },
  {
   "cell_type": "markdown",
   "metadata": {},
   "source": [
    "#### Model 1"
   ]
  },
  {
   "cell_type": "code",
   "execution_count": 12,
   "metadata": {
    "collapsed": false,
    "scrolled": false
   },
   "outputs": [
    {
     "name": "stdout",
     "output_type": "stream",
     "text": [
      "                            OLS Regression Results                            \n",
      "==============================================================================\n",
      "Dep. Variable:            loan_amount   R-squared:                       0.162\n",
      "Model:                            OLS   Adj. R-squared:                  0.162\n",
      "Method:                 Least Squares   F-statistic:                     996.1\n",
      "Date:                Fri, 26 May 2017   Prob (F-statistic):               0.00\n",
      "Time:                        15:40:28   Log-Likelihood:            -8.1874e+05\n",
      "No. Observations:              103045   AIC:                         1.638e+06\n",
      "Df Residuals:                  103024   BIC:                         1.638e+06\n",
      "Df Model:                          20                                         \n",
      "Covariance Type:            nonrobust                                         \n",
      "============================================================================================\n",
      "                               coef    std err          t      P>|t|      [95.0% Conf. Int.]\n",
      "--------------------------------------------------------------------------------------------\n",
      "Intercept                  341.8477      6.630     51.564      0.000       328.854   354.842\n",
      "sector[T.Arts]             -92.2121     30.100     -3.063      0.002      -151.208   -33.216\n",
      "sector[T.Clothing]         -31.5919      9.051     -3.490      0.000       -49.332   -13.852\n",
      "sector[T.Construction]     -46.9204     19.394     -2.419      0.016       -84.933    -8.908\n",
      "sector[T.Education]        499.9237     17.358     28.801      0.000       465.902   533.945\n",
      "sector[T.Entertainment]      9.8364     72.550      0.136      0.892      -132.360   152.033\n",
      "sector[T.Food]             -46.2375      6.130     -7.543      0.000       -58.253   -34.223\n",
      "sector[T.Health]           510.4118     21.331     23.928      0.000       468.602   552.221\n",
      "sector[T.Housing]           92.2569     28.521      3.235      0.001        36.355   148.158\n",
      "sector[T.Manufacturing]     98.5568     30.901      3.189      0.001        37.990   159.123\n",
      "sector[T.Personal Use]    -217.4548     14.674    -14.819      0.000      -246.216  -188.694\n",
      "sector[T.Retail]            36.0366      6.750      5.339      0.000        22.807    49.266\n",
      "sector[T.Services]         -24.1152      8.491     -2.840      0.005       -40.757    -7.474\n",
      "sector[T.Transportation]     7.7368     13.361      0.579      0.563       -18.451    33.925\n",
      "sector[T.Wholesale]        182.7353     85.477      2.138      0.033        15.202   350.269\n",
      "kids[T.True]                 0.4251      5.561      0.076      0.939       -10.475    11.325\n",
      "male[T.True]               110.9566      4.963     22.358      0.000       101.230   120.684\n",
      "widowed[T.True]            -25.9822     15.604     -1.665      0.096       -56.565     4.601\n",
      "pictured[T.True]         -1.506e-11   1.48e-13   -101.676      0.000     -1.54e-11 -1.48e-11\n",
      "video[T.True]             1.818e+04    170.839    106.441      0.000      1.78e+04  1.85e+04\n",
      "days_to_exp                 -0.1251      0.029     -4.340      0.000        -0.182    -0.069\n",
      "borrower_count              50.4507      0.730     69.155      0.000        49.021    51.881\n",
      "==============================================================================\n",
      "Omnibus:                   263939.169   Durbin-Watson:                   2.009\n",
      "Prob(Omnibus):                  0.000   Jarque-Bera (JB):      12991305685.015\n",
      "Skew:                          28.711   Prob(JB):                         0.00\n",
      "Kurtosis:                    1741.528   Cond. No.                     3.35e+20\n",
      "==============================================================================\n",
      "\n",
      "Warnings:\n",
      "[1] Standard Errors assume that the covariance matrix of the errors is correctly specified.\n",
      "[2] The smallest eigenvalue is 6.25e-33. This might indicate that there are\n",
      "strong multicollinearity problems or that the design matrix is singular.\n"
     ]
    }
   ],
   "source": [
    "model1 = sm.ols(formula=\"loan_amount ~ days_to_exp + borrower_count + sector + kids + male+ widowed + pictured + video\", data=train_set)\n",
    "model1_results = model1.fit()\n",
    "print(model1_results.summary())"
   ]
  },
  {
   "cell_type": "markdown",
   "metadata": {},
   "source": [
    "This model is more aligned with our understanding of the world. We see that Education and Health are sectors that get much larger loans, rather than sectors like Personal Use. We also see that males tend to get larger loans, and widows tend to get slightly smaller loans. "
   ]
  },
  {
   "cell_type": "markdown",
   "metadata": {},
   "source": [
    "## Model Validation"
   ]
  },
  {
   "cell_type": "markdown",
   "metadata": {},
   "source": [
    "<i>How can we evaluate how our model is doing? </i>\n",
    "\n",
    "In the previous section, we were able to get general ideas of how well our model was doing by using metrics like Adjusted R Squared, coefficients, and p-value. However, the goal of most machine learning is a model that is <b>predictive</b>. Recall that we randomly split our dataset into a training set (80%) and a test set (20%). Now we will use the results from the regression conducted on our training set to predict the outcome features for each observation in our test set. The difference between the predicted outcome feature and the actual outcome feature for each observation gives us an idea of how close we are to the mark.  "
   ]
  },
  {
   "cell_type": "code",
   "execution_count": 13,
   "metadata": {
    "collapsed": false
   },
   "outputs": [],
   "source": [
    "import matplotlib.pyplot as plt"
   ]
  },
  {
   "cell_type": "markdown",
   "metadata": {},
   "source": [
    "#### Validation of Model 1: "
   ]
  },
  {
   "cell_type": "code",
   "execution_count": null,
   "metadata": {
    "collapsed": true
   },
   "outputs": [],
   "source": [
    "y_pred = model1_results.predict(test_set)"
   ]
  },
  {
   "cell_type": "code",
   "execution_count": null,
   "metadata": {
    "collapsed": true
   },
   "outputs": [],
   "source": [
    "from sklearn import datasets, linear_model\n",
    "from sklearn.metrics import explained_variance_score\n",
    "from sklearn.metrics import mean_absolute_error\n",
    "from sklearn.metrics import mean_squared_error"
   ]
  },
  {
   "cell_type": "code",
   "execution_count": null,
   "metadata": {
    "collapsed": true
   },
   "outputs": [],
   "source": [
    "y_true = test_set['loan_amount']\n",
    "y_pred = y_pred['predictions']\n",
    "\n",
    "## Explained variance from the model\n",
    "explained_variance_score(y_true, y_pred, multioutput='raw_values')"
   ]
  },
  {
   "cell_type": "code",
   "execution_count": null,
   "metadata": {
    "collapsed": true
   },
   "outputs": [],
   "source": [
    "## Explained Mean absolute error\n",
    "mean_absolute_error(y_true, y_pred)"
   ]
  },
  {
   "cell_type": "code",
   "execution_count": null,
   "metadata": {
    "collapsed": true
   },
   "outputs": [],
   "source": [
    "## Explained Mean square error\n",
    "mean_squared_error(y_true, y_pred)"
   ]
  },
  {
   "cell_type": "markdown",
   "metadata": {},
   "source": [
    "#### Model 2\n",
    "#### To be updated by ER"
   ]
  },
  {
   "cell_type": "code",
   "execution_count": null,
   "metadata": {
    "collapsed": true
   },
   "outputs": [],
   "source": [
    "model2 = sm.ols(formula=\"days_to_disb ~ borrower_count + sector + kids + male + widowed + pictured + video\", data=train_set)\n",
    "model2_results = model2.fit()\n",
    "print(model2_results.summary())"
   ]
  },
  {
   "cell_type": "markdown",
   "metadata": {},
   "source": [
    "In this model, we investigate our intuition that partners disburse loans quicker to borrowers whose need for capital is more time-sensitive than others. We see that requests from the Housing sector seem to be disbursed quicker, as does being male and having children. A higher borrower count looks like it makes time to disbursal longer. "
   ]
  },
  {
   "cell_type": "markdown",
   "metadata": {},
   "source": [
    "#### Validation of Model 2:"
   ]
  },
  {
   "cell_type": "code",
   "execution_count": null,
   "metadata": {
    "collapsed": true
   },
   "outputs": [],
   "source": [
    "y_pred = model2_results.predict(test_set)"
   ]
  },
  {
   "cell_type": "code",
   "execution_count": null,
   "metadata": {
    "collapsed": true
   },
   "outputs": [],
   "source": [
    "y_true = test_set['loan_amount']\n",
    "y_pred = y_pred['predictions']\n",
    "\n",
    "## Explained variance from the model\n",
    "explained_variance_score(y_true, y_pred, multioutput='raw_values')"
   ]
  },
  {
   "cell_type": "code",
   "execution_count": null,
   "metadata": {
    "collapsed": true
   },
   "outputs": [],
   "source": [
    "## Explained Mean absolute error\n",
    "mean_absolute_error(y_true, y_pred)"
   ]
  },
  {
   "cell_type": "code",
   "execution_count": null,
   "metadata": {
    "collapsed": true
   },
   "outputs": [],
   "source": [
    "## Explained Mean square error\n",
    "mean_squared_error(y_true, y_pred)"
   ]
  }
 ],
 "metadata": {
  "kernelspec": {
   "display_name": "Python 3",
   "language": "python",
   "name": "python3"
  },
  "language_info": {
   "codemirror_mode": {
    "name": "ipython",
    "version": 3
   },
   "file_extension": ".py",
   "mimetype": "text/x-python",
   "name": "python",
   "nbconvert_exporter": "python",
   "pygments_lexer": "ipython3",
   "version": "3.6.0"
  }
 },
 "nbformat": 4,
 "nbformat_minor": 2
}
