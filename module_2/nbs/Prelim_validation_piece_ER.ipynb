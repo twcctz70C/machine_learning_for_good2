{
 "cells": [
  {
   "cell_type": "code",
   "execution_count": 1,
   "metadata": {
    "collapsed": false
   },
   "outputs": [
    {
     "name": "stderr",
     "output_type": "stream",
     "text": [
      "/Users/erourke/anaconda/lib/python3.5/site-packages/ggplot/utils.py:81: FutureWarning: pandas.tslib is deprecated and will be removed in a future version.\n",
      "You can access Timestamp as pandas.Timestamp\n",
      "  pd.tslib.Timestamp,\n",
      "/Users/erourke/anaconda/lib/python3.5/site-packages/ggplot/stats/smoothers.py:4: FutureWarning: The pandas.lib module is deprecated and will be removed in a future version. These are private functions and can be accessed from pandas._libs.lib instead\n",
      "  from pandas.lib import Timestamp\n",
      "/Users/erourke/anaconda/lib/python3.5/site-packages/statsmodels/compat/pandas.py:56: FutureWarning: The pandas.core.datetools module is deprecated and will be removed in a future version. Please use the pandas.tseries module instead.\n",
      "  from pandas.core import datetools\n"
     ]
    }
   ],
   "source": [
    "import pandas as pd\n",
    "import numpy as np\n",
    "import re\n",
    "from datetime import datetime\n",
    "from ggplot import *\n",
    "%matplotlib inline"
   ]
  },
  {
   "cell_type": "code",
   "execution_count": 2,
   "metadata": {
    "collapsed": true
   },
   "outputs": [],
   "source": [
    "data_path = '/Users/erourke/Desktop'\n",
    "loans_full = pd.read_csv(data_path+'/loans_full.csv', low_memory=False)\n",
    "loans_details = pd.read_csv(data_path+'/loans_details.csv', low_memory=False)"
   ]
  },
  {
   "cell_type": "code",
   "execution_count": 4,
   "metadata": {
    "collapsed": false
   },
   "outputs": [],
   "source": [
    "additional_columns =  loans_full.columns.difference(loans_details.columns).tolist() + ['id']\n",
    "df = loans_details.merge(loans_full[['id', 'borrower_count']], left_on='id', right_on='id')"
   ]
  },
  {
   "cell_type": "code",
   "execution_count": 5,
   "metadata": {
    "collapsed": true
   },
   "outputs": [],
   "source": [
    "df = df.rename(columns={'terms.disbursal_date': 'disbursal_date'})\n",
    "\n",
    "## convert columns to datetime format\n",
    "df['funded_date_cln'] = pd.to_datetime(df.funded_date.str[:10], infer_datetime_format=True)\n",
    "df['post_date_cln'] = pd.to_datetime(df.posted_date.str[:10], infer_datetime_format=True)\n",
    "df['disb_date_cln'] = pd.to_datetime(df.disbursal_date.str[:10], infer_datetime_format=True)\n",
    "df['exp_date_cln'] = pd.to_datetime(df.planned_expiration_date.str[:10], infer_datetime_format=True)\n",
    "\n",
    "## Time to fund is the funded date minus the posted date\n",
    "df['time_to_fund'] =df['funded_date_cln'] - df['post_date_cln']\n",
    "df['days_to_fund'] = df.time_to_fund.dt.days\n",
    "\n",
    "## Time to dispursement is the Disbursed date minus the Posted Date\n",
    "df['time_to_disb'] =df['disb_date_cln'] - df['post_date_cln']\n",
    "df['days_to_disb'] = df.time_to_disb.dt.days\n",
    "\n",
    "## Time to expiration is the expiration date minus the Posted Date\n",
    "df['time_to_exp'] =df['exp_date_cln'] - df['post_date_cln']\n",
    "df['days_to_exp'] = df.time_to_exp.dt.days"
   ]
  },
  {
   "cell_type": "code",
   "execution_count": 17,
   "metadata": {
    "collapsed": true
   },
   "outputs": [],
   "source": [
    "## Male/Female \n",
    "#  Note the apply function\n",
    "df['male'] = df['borrowers'].apply(lambda x: x.split(\"gender': '\")[1][0]=='M')\n",
    "\n",
    "## Whether or not the borrower is widowed\n",
    "#  Note the str.contains function\n",
    "df['widowed'] = np.where(df['description.texts.en'].str.contains(\"widowed|widow\", na=False) ==True, True, False)\n",
    "\n",
    "## Whether or not the borrower has children \n",
    "df['kids'] = np.where(df['description.texts.en'].str.contains(\"kids|child|children|kid|son|daughter\", na=False) ==True,True,False)"
   ]
  },
  {
   "cell_type": "code",
   "execution_count": 21,
   "metadata": {
    "collapsed": true
   },
   "outputs": [],
   "source": [
    "## Features of the loan posting\n",
    "\n",
    "## Does the borrower include a video? \n",
    "df['video'] = np.where(pd.isnull(df['video.id']) ==False, True, False)\n",
    "\n",
    "## Does the borrower include a picture? \n",
    "df['pictured'] = np.where(pd.isnull(df['image.id']) ==False, True, False)"
   ]
  },
  {
   "cell_type": "code",
   "execution_count": 22,
   "metadata": {
    "collapsed": false
   },
   "outputs": [
    {
     "name": "stdout",
     "output_type": "stream",
     "text": [
      "                            OLS Regression Results                            \n",
      "==============================================================================\n",
      "Dep. Variable:           days_to_fund   R-squared:                       0.020\n",
      "Model:                            OLS   Adj. R-squared:                  0.020\n",
      "Method:                 Least Squares   F-statistic:                     2448.\n",
      "Date:                Fri, 26 May 2017   Prob (F-statistic):               0.00\n",
      "Time:                        10:45:10   Log-Likelihood:            -4.8066e+05\n",
      "No. Observations:              122331   AIC:                         9.613e+05\n",
      "Df Residuals:                  122329   BIC:                         9.613e+05\n",
      "Df Model:                           1                                         \n",
      "Covariance Type:            nonrobust                                         \n",
      "===============================================================================\n",
      "                  coef    std err          t      P>|t|      [0.025      0.975]\n",
      "-------------------------------------------------------------------------------\n",
      "Intercept       6.9034      0.043    161.535      0.000       6.820       6.987\n",
      "loan_amount     0.0026   5.33e-05     49.481      0.000       0.003       0.003\n",
      "==============================================================================\n",
      "Omnibus:                   182156.526   Durbin-Watson:                   1.991\n",
      "Prob(Omnibus):                  0.000   Jarque-Bera (JB):        560029070.553\n",
      "Skew:                          -8.389   Prob(JB):                         0.00\n",
      "Kurtosis:                     334.044   Cond. No.                         974.\n",
      "==============================================================================\n",
      "\n",
      "Warnings:\n",
      "[1] Standard Errors assume that the covariance matrix of the errors is correctly specified.\n"
     ]
    }
   ],
   "source": [
    "import statsmodels.formula.api as sm\n",
    "\n",
    "# Set training-test split %\n",
    "split_pct = 0.80\n",
    "\n",
    "# the pandas command \"sample\" already randomizes its selection. \n",
    "loans_full_shuffled = df.sample(frac=1)\n",
    "\n",
    "train_set = loans_full_shuffled[:int((len(loans_full_shuffled)+1*split_pct))] \n",
    "test_set = loans_full_shuffled[int(len(loans_full_shuffled)*split_pct+1):]  \n",
    "\n",
    "# Now we have two separate datasets: train_set and test_set. We will run the regression on train_set\n",
    "# using statsmodel's \"ols\" function. Let's try a simple example to start:\n",
    "\n",
    "model1 = sm.ols(formula=\"days_to_fund ~ loan_amount\", data=train_set).fit()\n",
    "print(model1.summary())"
   ]
  },
  {
   "cell_type": "markdown",
   "metadata": {},
   "source": [
    "## Validation of Model 1"
   ]
  },
  {
   "cell_type": "code",
   "execution_count": 12,
   "metadata": {
    "collapsed": false
   },
   "outputs": [
    {
     "data": {
      "image/png": "[encoded data removed]",
      "text/plain": [
       "<matplotlib.figure.Figure at 0x11c3fde10>"
      ]
     },
     "metadata": {},
     "output_type": "display_data"
    }
   ],
   "source": [
    "import matplotlib.pyplot as plt\n",
    "test_set2 = test_set.fillna(method='ffill')\n",
    "y_pred = model1.predict(test_set2)\n",
    "y_pred\n",
    "\n",
    "## Visualize the predicted values v. real\n",
    "y_pred['predictions'] = model1.predict(test_set2)\n",
    "fig, ax = plt.subplots()\n",
    "ax.plot(test_set['loan_amount'], test_set['days_to_fund'], 'o', label=\"Data\")\n",
    "ax.plot(test_set['loan_amount'], y_pred['predictions'], 'r--.', label=\"Predicted\")\n",
    "axes = plt.gca()\n",
    "axes.set_xlim([0,2000])\n",
    "axes.set_ylim([0,100])\n",
    "ax.legend(loc=\"best\");"
   ]
  },
  {
   "cell_type": "code",
   "execution_count": 13,
   "metadata": {
    "collapsed": false
   },
   "outputs": [
    {
     "data": {
      "text/plain": [
       "array([ 0.01363406])"
      ]
     },
     "execution_count": 13,
     "metadata": {},
     "output_type": "execute_result"
    }
   ],
   "source": [
    "from sklearn import datasets, linear_model\n",
    "from sklearn.metrics import explained_variance_score\n",
    "from sklearn.metrics import mean_absolute_error\n",
    "from sklearn.metrics import mean_squared_error\n",
    "\n",
    "y_true = test_set2['days_to_fund']\n",
    "y_pred = y_pred['predictions']\n",
    "\n",
    "## Explained variance from the model\n",
    "explained_variance_score(y_true, y_pred, multioutput='raw_values') "
   ]
  },
  {
   "cell_type": "code",
   "execution_count": 14,
   "metadata": {
    "collapsed": false
   },
   "outputs": [
    {
     "data": {
      "text/plain": [
       "8.7231576979029821"
      ]
     },
     "execution_count": 14,
     "metadata": {},
     "output_type": "execute_result"
    }
   ],
   "source": [
    "## Explained Mean absolute error\n",
    "mean_absolute_error(y_true, y_pred)"
   ]
  },
  {
   "cell_type": "code",
   "execution_count": 15,
   "metadata": {
    "collapsed": false
   },
   "outputs": [
    {
     "data": {
      "text/plain": [
       "158.9231418137075"
      ]
     },
     "execution_count": 15,
     "metadata": {},
     "output_type": "execute_result"
    }
   ],
   "source": [
    "## Explained Mean square error\n",
    "mean_squared_error(y_true, y_pred)"
   ]
  },
  {
   "cell_type": "markdown",
   "metadata": {},
   "source": [
    "## Validation of model 2"
   ]
  },
  {
   "cell_type": "code",
   "execution_count": 23,
   "metadata": {
    "collapsed": false
   },
   "outputs": [
    {
     "name": "stdout",
     "output_type": "stream",
     "text": [
      "                            OLS Regression Results                            \n",
      "==============================================================================\n",
      "Dep. Variable:           days_to_fund   R-squared:                       0.124\n",
      "Model:                            OLS   Adj. R-squared:                  0.124\n",
      "Method:                 Least Squares   F-statistic:                     657.7\n",
      "Date:                Fri, 26 May 2017   Prob (F-statistic):               0.00\n",
      "Time:                        10:45:14   Log-Likelihood:            -3.6718e+05\n",
      "No. Observations:               97418   AIC:                         7.344e+05\n",
      "Df Residuals:                   97396   BIC:                         7.346e+05\n",
      "Df Model:                          21                                         \n",
      "Covariance Type:            nonrobust                                         \n",
      "============================================================================================\n",
      "                               coef    std err          t      P>|t|      [0.025      0.975]\n",
      "--------------------------------------------------------------------------------------------\n",
      "Intercept                    2.9560      0.053     56.035      0.000       2.853       3.059\n",
      "sector[T.Arts]              -5.3304      0.462    -11.528      0.000      -6.237      -4.424\n",
      "sector[T.Clothing]           2.5993      0.143     18.240      0.000       2.320       2.879\n",
      "sector[T.Construction]      -5.8320      0.299    -19.512      0.000      -6.418      -5.246\n",
      "sector[T.Education]         -7.3500      0.269    -27.289      0.000      -7.878      -6.822\n",
      "sector[T.Entertainment]     -8.0489      1.114     -7.224      0.000     -10.233      -5.865\n",
      "sector[T.Food]               0.1915      0.096      1.993      0.046       0.003       0.380\n",
      "sector[T.Health]            -7.8854      0.329    -23.976      0.000      -8.530      -7.241\n",
      "sector[T.Housing]           -2.9462      0.446     -6.604      0.000      -3.821      -2.072\n",
      "sector[T.Manufacturing]     -9.9800      0.476    -20.974      0.000     -10.913      -9.047\n",
      "sector[T.Personal Use]      -7.2369      0.226    -31.997      0.000      -7.680      -6.794\n",
      "sector[T.Retail]             2.7403      0.107     25.539      0.000       2.530       2.951\n",
      "sector[T.Services]          -1.3997      0.133    -10.559      0.000      -1.660      -1.140\n",
      "sector[T.Transportation]     1.3223      0.219      6.040      0.000       0.893       1.751\n",
      "sector[T.Wholesale]         -7.3739      1.323     -5.574      0.000      -9.967      -4.781\n",
      "kids[T.True]                 0.3230      0.087      3.705      0.000       0.152       0.494\n",
      "male[T.True]                 4.3848      0.080     54.798      0.000       4.228       4.542\n",
      "widowed[T.True]             -3.1981      0.241    -13.291      0.000      -3.670      -2.726\n",
      "pictured[T.True]             2.9560      0.053     56.035      0.000       2.853       3.059\n",
      "video[T.True]              -39.6413      2.782    -14.249      0.000     -45.094     -34.189\n",
      "days_to_exp                  0.0008      0.000      1.701      0.089      -0.000       0.002\n",
      "borrower_count               0.5248      0.012     43.140      0.000       0.501       0.549\n",
      "loan_amount                  0.0023   5.09e-05     46.004      0.000       0.002       0.002\n",
      "==============================================================================\n",
      "Omnibus:                    14174.339   Durbin-Watson:                   1.990\n",
      "Prob(Omnibus):                  0.000   Jarque-Bera (JB):            27066.835\n",
      "Skew:                           0.920   Prob(JB):                         0.00\n",
      "Kurtosis:                       4.811   Cond. No.                     5.87e+15\n",
      "==============================================================================\n",
      "\n",
      "Warnings:\n",
      "[1] Standard Errors assume that the covariance matrix of the errors is correctly specified.\n",
      "[2] The smallest eigenvalue is 2.06e-21. This might indicate that there are\n",
      "strong multicollinearity problems or that the design matrix is singular.\n"
     ]
    }
   ],
   "source": [
    "model2 = sm.ols(formula=\"days_to_fund ~ days_to_exp + borrower_count + loan_amount + sector + kids + male+ widowed + pictured + video\", data=train_set).fit()\n",
    "print(model2.summary())"
   ]
  },
  {
   "cell_type": "code",
   "execution_count": 24,
   "metadata": {
    "collapsed": true
   },
   "outputs": [],
   "source": [
    "test_set2 = test_set.fillna(method='ffill')\n",
    "y_pred2 = model2.predict(test_set2)\n"
   ]
  },
  {
   "cell_type": "code",
   "execution_count": 25,
   "metadata": {
    "collapsed": false
   },
   "outputs": [
    {
     "data": {
      "text/plain": [
       "array([-0.10698931])"
      ]
     },
     "execution_count": 25,
     "metadata": {},
     "output_type": "execute_result"
    }
   ],
   "source": [
    "## Explained variance from the model\n",
    "explained_variance_score(y_true, y_pred2, multioutput='raw_values') "
   ]
  },
  {
   "cell_type": "code",
   "execution_count": 26,
   "metadata": {
    "collapsed": false
   },
   "outputs": [
    {
     "data": {
      "text/plain": [
       "9.7466409529440696"
      ]
     },
     "execution_count": 26,
     "metadata": {},
     "output_type": "execute_result"
    }
   ],
   "source": [
    "## Explained Mean absolute error of model 2\n",
    "mean_absolute_error(y_true, y_pred2)"
   ]
  },
  {
   "cell_type": "code",
   "execution_count": 27,
   "metadata": {
    "collapsed": false
   },
   "outputs": [
    {
     "data": {
      "text/plain": [
       "180.7647102751601"
      ]
     },
     "execution_count": 27,
     "metadata": {},
     "output_type": "execute_result"
    }
   ],
   "source": [
    "## Explained Mean square error of model 2\n",
    "mean_squared_error(y_true, y_pred2)"
   ]
  }
 ],
 "metadata": {
  "kernelspec": {
   "display_name": "Python 3",
   "language": "python",
   "name": "python3"
  },
  "language_info": {
   "codemirror_mode": {
    "name": "ipython",
    "version": 3
   },
   "file_extension": ".py",
   "mimetype": "text/x-python",
   "name": "python",
   "nbconvert_exporter": "python",
   "pygments_lexer": "ipython3",
   "version": "3.5.1"
  }
 },
 "nbformat": 4,
 "nbformat_minor": 0
}
