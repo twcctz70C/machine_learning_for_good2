{
 "cells": [
  {
   "cell_type": "markdown",
   "metadata": {},
   "source": [
    "# Lab 2: Supervised Learning"
   ]
  },
  {
   "cell_type": "markdown",
   "metadata": {},
   "source": [
    "In this lab, we prepare our Kiva data for a linear regression, and run linear regressions that attempt to answer as question we may have as Kiva borrowers: \n",
    "\n",
    "  *How much should I ask for on Kiva? *\n",
    "\n",
    "In the language of Module 1, our outcome feature is: \n",
    "\n",
    "    loan_amount\n",
    "\n",
    "We will try using and evaluating different explanatory features in this notebook. \n",
    "\n",
    "But first, we will load the packages we need for this section, and our data. As a reminder, we had 3 raw data files (loans_full, loans_detail, and loans_partner_details). In Notebook 1, we merged these data files and created new variables to form the data frame \"df\", which we will use now. **If you haven't already, please run through Notebook 1!**  "
   ]
  },
  {
   "cell_type": "code",
   "execution_count": 110,
   "metadata": {
    "collapsed": false
   },
   "outputs": [],
   "source": [
    "## Import packages\n",
    "\n",
    "import pandas as pd\n",
    "import numpy as np\n",
    "from datetime import datetime\n",
    "from ggplot import *\n",
    "%matplotlib inline\n",
    "\n",
    "# packages for checking assumptions\n",
    "from scipy import stats as stats\n",
    "\n",
    "# packages for linear regression and validation \n",
    "import statsmodels.formula.api as sm\n",
    "from sklearn import linear_model\n",
    "from sklearn.model_selection import train_test_split\n",
    "from sklearn.metrics import explained_variance_score\n",
    "from sklearn.metrics import mean_absolute_error\n",
    "from sklearn.metrics import mean_squared_error\n",
    "from sklearn import preprocessing\n",
    "from sklearn.preprocessing import OneHotEncoder\n",
    "import matplotlib.pyplot as plt"
   ]
  },
  {
   "cell_type": "code",
   "execution_count": 112,
   "metadata": {
    "collapsed": false
   },
   "outputs": [],
   "source": [
    "## Read in data\n",
    "\n",
    "data_path = '~/intro_to_machine_learning/data'\n",
    "df = pd.read_csv(data_path+'/df.csv', low_memory=False)"
   ]
  },
  {
   "cell_type": "markdown",
   "metadata": {},
   "source": [
    "## Creating Explanatory Features of Interest\n",
    "\n",
    "   ### Demographics\n",
    "\n",
    "Since we are interested in using the demographics of the Kiva borrowers as potential explanatory features, we will create, clean, and otherwise prepare these for linear regression. We are using a new method: str.contains. You may remember the method np.where from Notebook 1. "
   ]
  },
  {
   "cell_type": "code",
   "execution_count": 113,
   "metadata": {
    "collapsed": false
   },
   "outputs": [],
   "source": [
    "## Whether or not the borrower is widowed\n",
    "#  Note the str.contains function\n",
    "df['widowed'] = np.where(df['description.texts.en'].str.contains(\"widowed|widow\", na=0) ==True, 1, 0)\n",
    "\n",
    "## Whether or not the borrower has children \n",
    "df['kids'] = np.where(df['description.texts.en'].str.contains(\"kids|child|children|kid|son|daughter\", na=0) ==True,1,0)\n",
    "\n",
    "## Whether or not the borrower is elderly\n",
    "df['elderly'] = np.where(df['tags'].str.contains(\"#Elderly\", na=0) ==True, 1, 0)"
   ]
  },
  {
   "cell_type": "markdown",
   "metadata": {},
   "source": [
    "In creating the \"widowed\", \"kids\", and \"elderly\" features, we are using Numpy's [where](https://docs.scipy.org/doc/numpy/reference/generated/numpy.where.html) function  and Panda's [str.contains](https://pandas.pydata.org/pandas-docs/stable/generated/pandas.Series.str.contains.html) to filter the data such that we are only creating a Boolean variable for those observations in which we find the strings of interest - in this case, any variation of the words widow, and any indication of children. Note that we try to be inclusive by testing for variations like \"daughter\" and \"son.\""
   ]
  },
  {
   "cell_type": "markdown",
   "metadata": {},
   "source": [
    "### Loan features\n",
    "\n",
    "Next we create features related to the conditions surrounding each loan posting, including: \n",
    "\n",
    "-Whether or not a borrower has included a video\n",
    "\n",
    "-Whether or not a borrower has included a picture\n",
    "\n",
    "Here, our intuition tells us that if a borrower includes more personal details and imagery, lenders are more likely to lend to them. We create this variable so we can differentiate between loans that have these personal details and loans that do not.   "
   ]
  },
  {
   "cell_type": "code",
   "execution_count": 114,
   "metadata": {
    "collapsed": true
   },
   "outputs": [],
   "source": [
    "## Features of the loan posting\n",
    "\n",
    "## Does the borrower include a video? \n",
    "df['video'] = np.where(pd.isnull(df['video.id']) ==False, True, False)\n",
    "\n",
    "## Does the borrower include a picture? \n",
    "df['pictured'] = np.where(pd.isnull(df['image.id']) ==False, True, False)"
   ]
  },
  {
   "cell_type": "markdown",
   "metadata": {},
   "source": [
    "In order to get information on time, we first need to make sure that the data is in Python's datetime format. Once all relevant features are converted to this format, we can perform operations on them. In this case, we want to find out how many days elapsed between two dates, so we subtract the earlier date from the later date and report the output in days. \n",
    "\n",
    "As we saw in Module 1, we already ensured our date features are converted to datetime format using the `to_datetime` function. However, in reading in our \"df\" csv file, Python forgot the Pandas format we assigned. Therefore we convert our created variables to datetime format again. We then create a day feature from each of the datetime differences we calculate."
   ]
  },
  {
   "cell_type": "code",
   "execution_count": 115,
   "metadata": {
    "collapsed": false
   },
   "outputs": [],
   "source": [
    "## Ensuring datetime format\n",
    "df['planned_expiration_datetime'] = pd.to_datetime(df['planned_expiration_datetime'])\n",
    "df['posted_datetime'] = pd.to_datetime(df['posted_datetime'])\n",
    "\n",
    "## Time to expiration is the expiration date minus the Posted Date\n",
    "df['time_to_expire_datetime'] =df['planned_expiration_datetime'] - df['posted_datetime']\n",
    "df['days_to_expire'] = df.time_to_expire_datetime.dt.days"
   ]
  },
  {
   "cell_type": "markdown",
   "metadata": {},
   "source": [
    "### Tag Features\n",
    "\n",
    "Next we create features related to miscellaneous relevant information included in the loan's tags. Specifically, it could be interesting to consider the following: \n",
    "1. Is the loan eco-friendly?\n",
    "2. Does the loan relate to animals?  \n",
    "3. Does the loan involve technology?\n",
    "\n",
    "As with the demographic features above, we are using Numpy's [where](https://docs.scipy.org/doc/numpy/reference/generated/numpy.where.html) function and Panda's [str.contains](https://pandas.pydata.org/pandas-docs/stable/generated/pandas.Series.str.contains.html) to search for relevant tag-words"
   ]
  },
  {
   "cell_type": "code",
   "execution_count": 116,
   "metadata": {
    "collapsed": false
   },
   "outputs": [],
   "source": [
    "## Is the loan eco-friendly?\n",
    "df['eco_friendly'] = np.where(df['tags'].str.contains(\"#Eco-friendly\", na=0) ==True, 1, 0)\n",
    "\n",
    "## Does the loan relate to animals?\n",
    "df['animals'] = np.where(df['tags'].str.contains(\"#Animals\", na=0) ==True, 1, 0)\n",
    "\n",
    "## Does the loan involve technology?\n",
    "df['technology'] = np.where(df['tags'].str.contains(\"#Technology\", na=0) ==True, 1, 0)"
   ]
  },
  {
   "cell_type": "markdown",
   "metadata": {},
   "source": [
    "## Checking Assumptions\n",
    "\n",
    "### Normality\n",
    "In Module 2, we reviewed that normal distribution of variables is an assumption underlying linear regression. Let's look first at our dependent variable, loan_amounts."
   ]
  },
  {
   "cell_type": "code",
   "execution_count": 7,
   "metadata": {
    "collapsed": false,
    "scrolled": true
   },
   "outputs": [
    {
     "data": {
      "image/png": "[encoded data removed]",
      "text/plain": [
       "<matplotlib.figure.Figure at 0x1525e9048>"
      ]
     },
     "metadata": {},
     "output_type": "display_data"
    },
    {
     "data": {
      "text/plain": [
       "<ggplot: (350621339)>"
      ]
     },
     "execution_count": 7,
     "metadata": {},
     "output_type": "execute_result"
    }
   ],
   "source": [
    "ggplot(df, aes(x='loan_amount')) + geom_histogram(binwidth=100, fill=\"blue\") + xlim(0, 10000) + \\\n",
    "ggtitle(\"Loan Amounts Requested on Kiva\") + xlab(\"Loan Amounts\") + ylab(\"Count of Loans\")"
   ]
  },
  {
   "cell_type": "markdown",
   "metadata": {},
   "source": [
    "This data looks pretty skewed to the left, towards values of $25, which we know is the minimum Kiva asks from lenders. \n",
    "\n",
    "We can also do a more statistical test of skewness. [Scipy's stats package](https://docs.scipy.org/doc/scipy-0.19.0/reference/generated/scipy.stats.skew.html) allows you to conduct a skew test. A normally distributed dataset would return about 0. A skewness value of greater than 0 means there is more in the left tail fo the distribution. Typically, a skew score of +-1 is deemed acceptable."
   ]
  },
  {
   "cell_type": "code",
   "execution_count": 7,
   "metadata": {
    "collapsed": false
   },
   "outputs": [
    {
     "name": "stdout",
     "output_type": "stream",
     "text": [
      "33.89270408065896\n"
     ]
    }
   ],
   "source": [
    "print(stats.skew(df.loan_amount, axis=None))"
   ]
  },
  {
   "cell_type": "markdown",
   "metadata": {},
   "source": [
    "This confirms our suspicion that the data is skewed to the left. How can we fix this? \n",
    "\n",
    "One potential solution is to **log transform** your data. For a quick review of logarithms, look [here](https://www.mathsisfun.com/algebra/logarithms.html). \n",
    "\n",
    "Note that when we log transform data, we change our interpretation of the final regression output. Previously we had a simple linear equation... \n",
    "\n",
    "    y = mx + b\n",
    "\n",
    "This could be interpreted as, with every unit increase in x, we get a m increase in outcome feature y. Now we have a log equation: \n",
    "\n",
    "    log(y) = mx + b\n",
    "    \n",
    "This is less intuitive, as we have to solve for y. When we solve for y through exponentiation, we get the following equation: \n",
    "\n",
    "    y = 10^(mx + b)\n",
    "    y = 10^(mx) * 10^(b)\n",
    "\n",
    "The default base for log is 10. The takeaway here is that the impact x would have on y is much larger than linear - it is **exponentiated**. We will return to this interpretation in the discussion of the linear regression model. Let's try log transforming our loan_amount variable. "
   ]
  },
  {
   "cell_type": "code",
   "execution_count": 117,
   "metadata": {
    "collapsed": true
   },
   "outputs": [],
   "source": [
    "df['log_loan_amount'] = np.log(df['loan_amount'])"
   ]
  },
  {
   "cell_type": "code",
   "execution_count": 9,
   "metadata": {
    "collapsed": false
   },
   "outputs": [
    {
     "data": {
      "image/png": "[encoded data removed]",
      "text/plain": [
       "<matplotlib.figure.Figure at 0x151baf898>"
      ]
     },
     "metadata": {},
     "output_type": "display_data"
    },
    {
     "data": {
      "text/plain": [
       "<ggplot: (-9223372036499969739)>"
      ]
     },
     "execution_count": 9,
     "metadata": {},
     "output_type": "execute_result"
    }
   ],
   "source": [
    "ggplot(df, aes(x='log_loan_amount')) + geom_histogram(binwidth=0.3, fill=\"blue\") + \\\n",
    "ggtitle(\"Log Loan Amounts Requested on Kiva\") + xlab(\"Log Loan Amounts\") + ylab(\"Count of Loans\")"
   ]
  },
  {
   "cell_type": "code",
   "execution_count": 9,
   "metadata": {
    "collapsed": false
   },
   "outputs": [
    {
     "name": "stdout",
     "output_type": "stream",
     "text": [
      "0.14839961560072792\n"
     ]
    }
   ],
   "source": [
    "print(stats.skew(df['log_loan_amount']))"
   ]
  },
  {
   "cell_type": "markdown",
   "metadata": {},
   "source": [
    "Great! This looks much closer to normal, both in the chart and in our skew statistic.\n",
    "\n",
    "Let's turn now to checking our other assumptions."
   ]
  },
  {
   "cell_type": "markdown",
   "metadata": {},
   "source": [
    "### Check for multicollinearity"
   ]
  },
  {
   "cell_type": "markdown",
   "metadata": {},
   "source": [
    "Numpy's Corrcoef function returns a matrix of Pearson correlation coefficients. To recap Module 2's lesson, multicollinearity is a problem when we have highly correlated explanatory features, as this makes it difficult for the model to try to differentitae between each feature's influence on the explanatory feature. Read more about Numpy's Corrcoef [here](https://docs.scipy.org/doc/numpy-1.10.1/reference/generated/numpy.corrcoef.html).\n",
    "\n",
    "Try running different features!"
   ]
  },
  {
   "cell_type": "code",
   "execution_count": 10,
   "metadata": {
    "collapsed": false
   },
   "outputs": [
    {
     "data": {
      "text/plain": [
       "array([[ 1.        ,  0.97333343],\n",
       "       [ 0.97333343,  1.        ]])"
      ]
     },
     "execution_count": 10,
     "metadata": {},
     "output_type": "execute_result"
    }
   ],
   "source": [
    "np.corrcoef(df.loan_amount, df.funded_amount)"
   ]
  },
  {
   "cell_type": "markdown",
   "metadata": {},
   "source": [
    "This tells us that loan amount and funded amount are extremely highly correlated - a vast majority of loans requested get funded! Normally, we would be interested in both loan_amount and funded_amount as an outcome feature, but here we see that it would be redundant to test both. \n",
    "\n",
    "It would take a long time for us to test each and every relationship between two sets of variables, so let's create a correlation matrix that lets us visualize every correlation in a dataset using Pandas."
   ]
  },
  {
   "cell_type": "code",
   "execution_count": 12,
   "metadata": {
    "collapsed": false
   },
   "outputs": [
    {
     "data": {
      "text/html": [
       "<div>\n",
       "<table border=\"1\" class=\"dataframe\">\n",
       "  <thead>\n",
       "    <tr style=\"text-align: right;\">\n",
       "      <th></th>\n",
       "      <th>funded_amount</th>\n",
       "      <th>loan_amount</th>\n",
       "      <th>log_loan_amount</th>\n",
       "      <th>lender_count</th>\n",
       "      <th>borrower_count</th>\n",
       "      <th>widowed</th>\n",
       "      <th>kids</th>\n",
       "      <th>video</th>\n",
       "      <th>pictured</th>\n",
       "      <th>days_to_expire</th>\n",
       "    </tr>\n",
       "  </thead>\n",
       "  <tbody>\n",
       "    <tr>\n",
       "      <th>funded_amount</th>\n",
       "      <td>1.000000</td>\n",
       "      <td>0.973333</td>\n",
       "      <td>0.569338</td>\n",
       "      <td>0.966091</td>\n",
       "      <td>0.199865</td>\n",
       "      <td>-0.016536</td>\n",
       "      <td>-0.036267</td>\n",
       "      <td>0.138491</td>\n",
       "      <td>NaN</td>\n",
       "      <td>0.082532</td>\n",
       "    </tr>\n",
       "    <tr>\n",
       "      <th>loan_amount</th>\n",
       "      <td>0.973333</td>\n",
       "      <td>1.000000</td>\n",
       "      <td>0.592568</td>\n",
       "      <td>0.936628</td>\n",
       "      <td>0.217043</td>\n",
       "      <td>-0.019917</td>\n",
       "      <td>-0.030220</td>\n",
       "      <td>0.132316</td>\n",
       "      <td>NaN</td>\n",
       "      <td>0.084827</td>\n",
       "    </tr>\n",
       "    <tr>\n",
       "      <th>log_loan_amount</th>\n",
       "      <td>0.569338</td>\n",
       "      <td>0.592568</td>\n",
       "      <td>1.000000</td>\n",
       "      <td>0.558347</td>\n",
       "      <td>0.359565</td>\n",
       "      <td>-0.033945</td>\n",
       "      <td>-0.040790</td>\n",
       "      <td>0.004814</td>\n",
       "      <td>NaN</td>\n",
       "      <td>0.076844</td>\n",
       "    </tr>\n",
       "    <tr>\n",
       "      <th>lender_count</th>\n",
       "      <td>0.966091</td>\n",
       "      <td>0.936628</td>\n",
       "      <td>0.558347</td>\n",
       "      <td>1.000000</td>\n",
       "      <td>0.182836</td>\n",
       "      <td>-0.014063</td>\n",
       "      <td>-0.031407</td>\n",
       "      <td>0.129759</td>\n",
       "      <td>NaN</td>\n",
       "      <td>0.081412</td>\n",
       "    </tr>\n",
       "    <tr>\n",
       "      <th>borrower_count</th>\n",
       "      <td>0.199865</td>\n",
       "      <td>0.217043</td>\n",
       "      <td>0.359565</td>\n",
       "      <td>0.182836</td>\n",
       "      <td>1.000000</td>\n",
       "      <td>-0.042936</td>\n",
       "      <td>0.065381</td>\n",
       "      <td>-0.005363</td>\n",
       "      <td>NaN</td>\n",
       "      <td>0.019546</td>\n",
       "    </tr>\n",
       "    <tr>\n",
       "      <th>widowed</th>\n",
       "      <td>-0.016536</td>\n",
       "      <td>-0.019917</td>\n",
       "      <td>-0.033945</td>\n",
       "      <td>-0.014063</td>\n",
       "      <td>-0.042936</td>\n",
       "      <td>1.000000</td>\n",
       "      <td>0.046876</td>\n",
       "      <td>0.009926</td>\n",
       "      <td>NaN</td>\n",
       "      <td>0.015540</td>\n",
       "    </tr>\n",
       "    <tr>\n",
       "      <th>kids</th>\n",
       "      <td>-0.036267</td>\n",
       "      <td>-0.030220</td>\n",
       "      <td>-0.040790</td>\n",
       "      <td>-0.031407</td>\n",
       "      <td>0.065381</td>\n",
       "      <td>0.046876</td>\n",
       "      <td>1.000000</td>\n",
       "      <td>-0.000634</td>\n",
       "      <td>NaN</td>\n",
       "      <td>-0.027457</td>\n",
       "    </tr>\n",
       "    <tr>\n",
       "      <th>video</th>\n",
       "      <td>0.138491</td>\n",
       "      <td>0.132316</td>\n",
       "      <td>0.004814</td>\n",
       "      <td>0.129759</td>\n",
       "      <td>-0.005363</td>\n",
       "      <td>0.009926</td>\n",
       "      <td>-0.000634</td>\n",
       "      <td>1.000000</td>\n",
       "      <td>NaN</td>\n",
       "      <td>0.016898</td>\n",
       "    </tr>\n",
       "    <tr>\n",
       "      <th>pictured</th>\n",
       "      <td>NaN</td>\n",
       "      <td>NaN</td>\n",
       "      <td>NaN</td>\n",
       "      <td>NaN</td>\n",
       "      <td>NaN</td>\n",
       "      <td>NaN</td>\n",
       "      <td>NaN</td>\n",
       "      <td>NaN</td>\n",
       "      <td>NaN</td>\n",
       "      <td>NaN</td>\n",
       "    </tr>\n",
       "    <tr>\n",
       "      <th>days_to_expire</th>\n",
       "      <td>0.082532</td>\n",
       "      <td>0.084827</td>\n",
       "      <td>0.076844</td>\n",
       "      <td>0.081412</td>\n",
       "      <td>0.019546</td>\n",
       "      <td>0.015540</td>\n",
       "      <td>-0.027457</td>\n",
       "      <td>0.016898</td>\n",
       "      <td>NaN</td>\n",
       "      <td>1.000000</td>\n",
       "    </tr>\n",
       "  </tbody>\n",
       "</table>\n",
       "</div>"
      ],
      "text/plain": [
       "                 funded_amount  loan_amount  log_loan_amount  lender_count  \\\n",
       "funded_amount         1.000000     0.973333         0.569338      0.966091   \n",
       "loan_amount           0.973333     1.000000         0.592568      0.936628   \n",
       "log_loan_amount       0.569338     0.592568         1.000000      0.558347   \n",
       "lender_count          0.966091     0.936628         0.558347      1.000000   \n",
       "borrower_count        0.199865     0.217043         0.359565      0.182836   \n",
       "widowed              -0.016536    -0.019917        -0.033945     -0.014063   \n",
       "kids                 -0.036267    -0.030220        -0.040790     -0.031407   \n",
       "video                 0.138491     0.132316         0.004814      0.129759   \n",
       "pictured                   NaN          NaN              NaN           NaN   \n",
       "days_to_expire        0.082532     0.084827         0.076844      0.081412   \n",
       "\n",
       "                 borrower_count   widowed      kids     video  pictured  \\\n",
       "funded_amount          0.199865 -0.016536 -0.036267  0.138491       NaN   \n",
       "loan_amount            0.217043 -0.019917 -0.030220  0.132316       NaN   \n",
       "log_loan_amount        0.359565 -0.033945 -0.040790  0.004814       NaN   \n",
       "lender_count           0.182836 -0.014063 -0.031407  0.129759       NaN   \n",
       "borrower_count         1.000000 -0.042936  0.065381 -0.005363       NaN   \n",
       "widowed               -0.042936  1.000000  0.046876  0.009926       NaN   \n",
       "kids                   0.065381  0.046876  1.000000 -0.000634       NaN   \n",
       "video                 -0.005363  0.009926 -0.000634  1.000000       NaN   \n",
       "pictured                    NaN       NaN       NaN       NaN       NaN   \n",
       "days_to_expire         0.019546  0.015540 -0.027457  0.016898       NaN   \n",
       "\n",
       "                 days_to_expire  \n",
       "funded_amount          0.082532  \n",
       "loan_amount            0.084827  \n",
       "log_loan_amount        0.076844  \n",
       "lender_count           0.081412  \n",
       "borrower_count         0.019546  \n",
       "widowed                0.015540  \n",
       "kids                  -0.027457  \n",
       "video                  0.016898  \n",
       "pictured                    NaN  \n",
       "days_to_expire         1.000000  "
      ]
     },
     "execution_count": 12,
     "metadata": {},
     "output_type": "execute_result"
    }
   ],
   "source": [
    "df_corr_tbl = df[['funded_amount', 'loan_amount', 'log_loan_amount', 'lender_count', 'borrower_count', 'gender', 'widowed', 'kids', 'video', 'pictured', 'days_to_expire']]\n",
    "df_corr_tbl.corr()"
   ]
  },
  {
   "cell_type": "markdown",
   "metadata": {},
   "source": [
    "Of course, not every correlation in this table will be meaningful. A correlation table is useful as it provides a visual shortcut to see what relationships might be problematic for multicollinearity. "
   ]
  },
  {
   "cell_type": "markdown",
   "metadata": {},
   "source": [
    "## Linear Regression"
   ]
  },
  {
   "cell_type": "markdown",
   "metadata": {},
   "source": [
    "Now we're relatively confident about what our data looks like, let's try some regressions. We will focus in on outcome feature loan_amount. We encourage you to explore other outcome features!  \n",
    "\n",
    "As discussed in Module 2, we will divide the data into training and test sets so we can validate our regression results.\n",
    "\n",
    "Note that training set should be larger than the test set, as we should train our model on as much data as possible. For this example, we divide the data 80% training / 20% test."
   ]
  },
  {
   "cell_type": "code",
   "execution_count": 132,
   "metadata": {
    "collapsed": false
   },
   "outputs": [],
   "source": [
    "# Set training-test split %\n",
    "split_pct = 0.80\n",
    "\n",
    "# the pandas command \"sample\" already randomizes its selection. \n",
    "loans_full_shuffled = df_cln.sample(frac=1)\n",
    "\n",
    "train_set = loans_full_shuffled[:int((len(loans_full_shuffled)+1*split_pct))] \n",
    "test_set = loans_full_shuffled[int(len(loans_full_shuffled)*split_pct+1):]  "
   ]
  },
  {
   "cell_type": "markdown",
   "metadata": {},
   "source": [
    "Now we have two separate datasets: train_set and test_set. We will run the regression on train_set\n",
    "using statsmodel's \"ols\" function. Let's try a simple example to start: "
   ]
  },
  {
   "cell_type": "code",
   "execution_count": 16,
   "metadata": {
    "collapsed": false
   },
   "outputs": [
    {
     "name": "stdout",
     "output_type": "stream",
     "text": [
      "                            OLS Regression Results                            \n",
      "==============================================================================\n",
      "Dep. Variable:            loan_amount   R-squared:                       0.004\n",
      "Model:                            OLS   Adj. R-squared:                  0.004\n",
      "Method:                 Least Squares   F-statistic:                     464.3\n",
      "Date:                Sun, 28 May 2017   Prob (F-statistic):          8.62e-103\n",
      "Time:                        13:12:55   Log-Likelihood:            -9.4344e+05\n",
      "No. Observations:              118316   AIC:                         1.887e+06\n",
      "Df Residuals:                  118314   BIC:                         1.887e+06\n",
      "Df Model:                           1                                         \n",
      "Covariance Type:            nonrobust                                         \n",
      "==================================================================================\n",
      "                     coef    std err          t      P>|t|      [0.025      0.975]\n",
      "----------------------------------------------------------------------------------\n",
      "Intercept        463.9520      2.504    185.271      0.000     459.044     468.860\n",
      "gender[T.Male]    93.3054      4.330     21.549      0.000      84.819     101.792\n",
      "==============================================================================\n",
      "Omnibus:                   323229.608   Durbin-Watson:                   2.002\n",
      "Prob(Omnibus):                  0.000   Jarque-Bera (JB):      20914880614.698\n",
      "Skew:                          34.055   Prob(JB):                         0.00\n",
      "Kurtosis:                    2061.610   Cond. No.                         2.41\n",
      "==============================================================================\n",
      "\n",
      "Warnings:\n",
      "[1] Standard Errors assume that the covariance matrix of the errors is correctly specified.\n"
     ]
    }
   ],
   "source": [
    "model0 = sm.ols(formula=\"loan_amount ~ gender\", data=train_set).fit()\n",
    "print(model0.summary())"
   ]
  },
  {
   "cell_type": "markdown",
   "metadata": {},
   "source": [
    "This is the typical regression output. It's a lot to digest! Remember that our simple model can be represented as a linear equation, like this: \n",
    "\n",
    "    loan_amount = intercept + coef*male\n",
    "\n",
    "Therefore, these results can be translated as follows: \n",
    "\n",
    "    loan_amount = 463.9520 + 93.3054*male\n",
    "\n",
    "Noticeably, the coefficient for male is not small, suggesting that whether or not a borrower is male **does** influence loan_amount. We have a sufficient amount of confidence in this conclusion because the **p-value** is reported to be 0.000. In technical terms, the p-value is **the probability of getting results as extreme as the ones observed. **\n",
    "\n",
    "In statistics, we want our results to fall within the 95% confidence interval, or the p-value to be <= 0.05. This means, \"[i]f repeated samples were taken and the 95% confidence interval was computed for each sample, 95% of the intervals would contain the population mean. A 95% confidence interval has a 0.95 probability of containing the population mean. 95% of the population distribution is contained in the confidence interval.\" [Read more here.](http://www.investopedia.com/terms/s/standard-error.asp) The p-value is an indicator of where we fall in the confidence interval. In English, small p-value (<= 0.05) indicates strong evidence that the coefficient is different than 0. \n",
    "\n",
    "This is a relatively simplified explanation of p-values. Don't worry if it's not immediately intuitive - [not even professional statisticians can easily explain this concept.](http://fivethirtyeight.com/features/not-even-scientists-can-easily-explain-p-values/) To get a deeper understanding, we recommend grabbing the nearest textbook on statistics to review! \n",
    "\n",
    "Note also that the Adjusted R Squared is extremely low. To recap lessons from Module 2, the Adjusted R Squared is an explanation of how much of the outcome feature can be explained by the model's explanatory features. This low Adj R Squared suggests that the predictive value of male is pretty low - it cannot be used as the single feature to predict loan_amount. \n",
    "\n",
    "This result is in line with our understanding of the world - there must be other factors influencing loan_amount. Let's try complicating the model by adding more explanatory features. "
   ]
  },
  {
   "cell_type": "markdown",
   "metadata": {},
   "source": [
    "#### Model 1"
   ]
  },
  {
   "cell_type": "code",
   "execution_count": 133,
   "metadata": {
    "collapsed": false
   },
   "outputs": [],
   "source": [
    "# we rename the terms.repayment_term for ease of reference\n",
    "train_set = train_set.rename(columns={'terms.repayment_term': 'repayment_term'})\n",
    "test_set = test_set.rename(columns={'terms.repayment_term': 'repayment_term'})"
   ]
  },
  {
   "cell_type": "code",
   "execution_count": 134,
   "metadata": {
    "collapsed": false,
    "scrolled": true
   },
   "outputs": [
    {
     "name": "stdout",
     "output_type": "stream",
     "text": [
      "                            OLS Regression Results                            \n",
      "==============================================================================\n",
      "Dep. Variable:        log_loan_amount   R-squared:                       0.356\n",
      "Model:                            OLS   Adj. R-squared:                  0.355\n",
      "Method:                 Least Squares   F-statistic:                     1836.\n",
      "Date:                Sun, 28 May 2017   Prob (F-statistic):               0.00\n",
      "Time:                        15:06:29   Log-Likelihood:                -73913.\n",
      "No. Observations:               89811   AIC:                         1.479e+05\n",
      "Df Residuals:                   89783   BIC:                         1.481e+05\n",
      "Df Model:                          27                                         \n",
      "Covariance Type:            nonrobust                                         \n",
      "============================================================================================\n",
      "                               coef    std err          t      P>|t|      [95.0% Conf. Int.]\n",
      "--------------------------------------------------------------------------------------------\n",
      "Intercept                   42.3433      1.330     31.840      0.000        39.737    44.950\n",
      "sector[T.Arts]              -0.0805      0.034     -2.376      0.017        -0.147    -0.014\n",
      "sector[T.Clothing]           0.0793      0.009      9.215      0.000         0.062     0.096\n",
      "sector[T.Construction]       0.0292      0.017      1.736      0.083        -0.004     0.062\n",
      "sector[T.Education]         -0.1096      0.015     -7.312      0.000        -0.139    -0.080\n",
      "sector[T.Entertainment]      0.1348      0.061      2.208      0.027         0.015     0.254\n",
      "sector[T.Food]              -0.0369      0.006     -6.702      0.000        -0.048    -0.026\n",
      "sector[T.Health]            -0.8551      0.025    -34.484      0.000        -0.904    -0.807\n",
      "sector[T.Housing]            0.1863      0.023      7.948      0.000         0.140     0.232\n",
      "sector[T.Manufacturing]      0.1198      0.025      4.701      0.000         0.070     0.170\n",
      "sector[T.Personal Use]      -1.0473      0.013    -81.705      0.000        -1.072    -1.022\n",
      "sector[T.Retail]             0.1223      0.006     19.862      0.000         0.110     0.134\n",
      "sector[T.Services]           0.0906      0.008     11.274      0.000         0.075     0.106\n",
      "sector[T.Transportation]     0.1516      0.012     13.145      0.000         0.129     0.174\n",
      "sector[T.Wholesale]          0.1094      0.074      1.484      0.138        -0.035     0.254\n",
      "gender[T.Male]               0.1158      0.004     26.905      0.000         0.107     0.124\n",
      "pictured[T.True]            42.3433      1.330     31.840      0.000        39.737    44.950\n",
      "video[T.True]                0.9508      0.153      6.202      0.000         0.650     1.251\n",
      "borrower_count               0.0923      0.001     93.763      0.000         0.090     0.094\n",
      "kids                        -0.0401      0.005     -7.470      0.000        -0.051    -0.030\n",
      "widowed                     -0.0626      0.013     -4.704      0.000        -0.089    -0.037\n",
      "posted_year                 -0.0395      0.001    -29.957      0.000        -0.042    -0.037\n",
      "days_to_expire               0.0052      0.000     14.606      0.000         0.004     0.006\n",
      "repayment_term               0.0398      0.000    106.490      0.000         0.039     0.041\n",
      "partner_profitability       -0.0028      0.000    -11.275      0.000        -0.003    -0.002\n",
      "eco_friendly                 0.1297      0.011     11.638      0.000         0.108     0.152\n",
      "animals                      0.0748      0.008      9.822      0.000         0.060     0.090\n",
      "elderly                      0.0839      0.008     10.192      0.000         0.068     0.100\n",
      "technology                  -0.0857      0.012     -7.135      0.000        -0.109    -0.062\n",
      "==============================================================================\n",
      "Omnibus:                     2549.766   Durbin-Watson:                   2.008\n",
      "Prob(Omnibus):                  0.000   Jarque-Bera (JB):             4771.464\n",
      "Skew:                           0.222   Prob(JB):                         0.00\n",
      "Kurtosis:                       4.038   Cond. No.                     3.42e+15\n",
      "==============================================================================\n",
      "\n",
      "Warnings:\n",
      "[1] Standard Errors assume that the covariance matrix of the errors is correctly specified.\n",
      "[2] The smallest eigenvalue is 3.11e-20. This might indicate that there are\n",
      "strong multicollinearity problems or that the design matrix is singular.\n"
     ]
    }
   ],
   "source": [
    "#df['eco_friendly'] = np.where(df['tags'].str.contains(\"#Eco-friendly\", na=0) ==True, 1, 0)\n",
    "#df['animals'] = np.where(df['tags'].str.contains(\"#Animals\", na=0) ==True, 1, 0)\n",
    "#df['technology'] = np.where(df['tags'].str.contains(\"#Technology\", na=0) ==True, 1, 0)\n",
    "\n",
    "model1 = sm.ols(formula=\"log_loan_amount ~ borrower_count + sector + kids + gender + widowed + pictured + video + posted_year +\\\n",
    "                days_to_expire + repayment_term + partner_profitability + eco_friendly + animals + elderly + technology\", data=train_set)\n",
    "model1_results = model1.fit()\n",
    "print(model1_results.summary())"
   ]
  },
  {
   "cell_type": "markdown",
   "metadata": {},
   "source": [
    "This **multi-feature** (or multivariate) model is more aligned with our understanding of the world. We see that adding a picture to your profile increases the amount that you might ask for. We also see that males tend to get larger loans, and widows and those with children tend to get slightly smaller loans. Most coefficients have very low p-values - a good sign! \n",
    "\n",
    "Our Adjusted R Squared is higher than it was in the single-feature model. Let's get into how we evaluate the model in terms of predictiveness. "
   ]
  },
  {
   "cell_type": "markdown",
   "metadata": {},
   "source": [
    "## Model Validation"
   ]
  },
  {
   "cell_type": "markdown",
   "metadata": {},
   "source": [
    "<i>How can we evaluate how our model is doing? </i>\n",
    "\n",
    "In the previous section, we were able to get general ideas of how well our model was doing by using metrics like Adjusted R Squared, coefficients, and p-value. However, the goal of most machine learning is a model that can <b>predict outcome features accurately</b>. Recall that we randomly split our dataset into a training set (80%) and a test set (20%). Now we will use the results from the regression conducted on our training set to predict the outcome features for each observation in our test set. The difference between the predicted outcome feature and the actual outcome feature for each observation gives us an idea of how close we are to the mark.  \n",
    "\n",
    "In the previous section, we used the **statsmodel** package in order to output a regression output table. Now, we run the regression using the **scikit-learn** package, which is optimized specifically for machine learning and allows us to validate our models easily. Remember this package - we will be returning to it for the rest of the class!  "
   ]
  },
  {
   "cell_type": "markdown",
   "metadata": {},
   "source": [
    "#### Validation of Model 1:"
   ]
  },
  {
   "cell_type": "markdown",
   "metadata": {},
   "source": [
    "In order to use scikit-learn to run a regression, we format the data differently than how we do when we use statsmodels. \n",
    "\n",
    "In scikit-learn, we want to make sure: \n",
    "1. Categorical features are converted Booleans with values of either 1 or 0\n",
    "2. Data is separated into two separate and clean datasets: x and y, or explanatory features and outcome feature. \n",
    "\n",
    "We do this below in the pre-processing section."
   ]
  },
  {
   "cell_type": "code",
   "execution_count": 135,
   "metadata": {
    "collapsed": false
   },
   "outputs": [],
   "source": [
    "# Separate out the outcome feature into training/testing sets \n",
    "#  using our already-made training and test datasets\n",
    "train_set = pd.DataFrame(train_set)\n",
    "test_set = pd.DataFrame(test_set)\n",
    "train_set_y = train_set['log_loan_amount']\n",
    "test_set_y = test_set['log_loan_amount']"
   ]
  },
  {
   "cell_type": "code",
   "execution_count": 136,
   "metadata": {
    "collapsed": true
   },
   "outputs": [],
   "source": [
    "## Process categorical variables\n",
    "\n",
    "# Process categorical variable \"Gender\" into individual Boolean features. \n",
    "#  Since there are only two possible values, we can keep this short. \n",
    "train_set['gender_dummy'] = train_set['gender']==\"Male\"\n",
    "test_set['gender_dummy'] = test_set['gender']==\"Male\"\n",
    "\n",
    "# Process categorical variable \"Sector\" into individual Boolean features \n",
    "#  Since there are 15 different sectors, this requires more processing.\n",
    "\n",
    "# Encode categorical variable 'sector' into numeric \n",
    "le = preprocessing.LabelEncoder()\n",
    "le.fit(train_set['sector'])\n",
    "\n",
    "# create array of sectors as numbers \n",
    "sector_as_num = le.transform(train_set['sector']).reshape(-1,1)\n",
    "\n",
    "# One-hot encode sectors of loans so that each sector has its own Boolean column (statsmodel does this automatically)\n",
    "enc = OneHotEncoder()\n",
    "enc.fit(sector_as_num)\n",
    "# Create array of columns\n",
    "sector_dummies = enc.transform(sector_as_num).toarray()\n",
    "sector_dummies = pd.DataFrame(sector_dummies, columns = [\"dummy_\"+str(i) for i in range(1,16)])\n",
    "# Join array of boolean columns with original training set \n",
    "train_set = pd.concat([train_set, sector_dummies], axis=1)\n",
    "test_set = pd.concat([test_set, sector_dummies], axis=1)"
   ]
  },
  {
   "cell_type": "code",
   "execution_count": 156,
   "metadata": {
    "collapsed": false
   },
   "outputs": [],
   "source": [
    "## Join the newly created Boolean features to the \n",
    "#   train and test sets of explanatory features\n",
    "\n",
    "train_set_x = train_set[['borrower_count', 'kids', 'gender_dummy', 'widowed', 'pictured', 'video', \\\n",
    "                         'days_to_expire', 'repayment_term',\n",
    "                         'dummy_1', 'dummy_2', 'dummy_3', 'dummy_4', 'dummy_5', 'dummy_6',\\\n",
    "                         'dummy_7','dummy_8','dummy_9','dummy_10','dummy_11','dummy_12','dummy_13',\\\n",
    "                         'dummy_14','dummy_15']]\n",
    "test_set_x = test_set[['borrower_count', 'kids', 'gender_dummy', 'widowed', 'pictured', 'video', \\\n",
    "                        'days_to_expire', 'repayment_term',\n",
    "                      'dummy_1', 'dummy_2', 'dummy_3', 'dummy_4', 'dummy_5', 'dummy_6', \\\n",
    "                       'dummy_7','dummy_8','dummy_9','dummy_10','dummy_11','dummy_12','dummy_13',\\\n",
    "                       'dummy_14','dummy_15']]"
   ]
  },
  {
   "cell_type": "code",
   "execution_count": 180,
   "metadata": {
    "collapsed": false
   },
   "outputs": [],
   "source": [
    "## DEV NOTE: still debugging lin reg with sklearn\n",
    "\n",
    "## Convert training sets to numpy arrays \n",
    "train_set_x = np.asarray(train_set_x).reshape(-1,23)\n",
    "test_set_x = np.asarray(test_set_x).reshape(-1,23)\n",
    "\n",
    "## Check that test set does not have null or NA values \n",
    "train_set_x = np.nan_to_num(train_set_x)\n",
    "train_set_y = np.nan_to_num(train_set_y)"
   ]
  },
  {
   "cell_type": "code",
   "execution_count": 181,
   "metadata": {
    "collapsed": false
   },
   "outputs": [
    {
     "ename": "ValueError",
     "evalue": "Input contains NaN, infinity or a value too large for dtype('float64').",
     "output_type": "error",
     "traceback": [
      "\u001b[0;31m---------------------------------------------------------------------------\u001b[0m",
      "\u001b[0;31mValueError\u001b[0m                                Traceback (most recent call last)",
      "\u001b[0;32m<ipython-input-181-646ea306fc0c>\u001b[0m in \u001b[0;36m<module>\u001b[0;34m()\u001b[0m\n\u001b[1;32m      5\u001b[0m \u001b[1;33m\u001b[0m\u001b[0m\n\u001b[1;32m      6\u001b[0m \u001b[1;31m# Train the model using the training sets\u001b[0m\u001b[1;33m\u001b[0m\u001b[1;33m\u001b[0m\u001b[0m\n\u001b[0;32m----> 7\u001b[0;31m \u001b[0mmodel1\u001b[0m \u001b[1;33m=\u001b[0m \u001b[0mregr\u001b[0m\u001b[1;33m.\u001b[0m\u001b[0mfit\u001b[0m\u001b[1;33m(\u001b[0m\u001b[0mtrain_set_x\u001b[0m\u001b[1;33m,\u001b[0m \u001b[0mtrain_set_y\u001b[0m\u001b[1;33m)\u001b[0m\u001b[1;33m\u001b[0m\u001b[0m\n\u001b[0m\u001b[1;32m      8\u001b[0m \u001b[0mprint\u001b[0m\u001b[1;33m(\u001b[0m\u001b[0mmodel1\u001b[0m\u001b[1;33m)\u001b[0m\u001b[1;33m\u001b[0m\u001b[0m\n",
      "\u001b[0;32mC:\\Users\\h\\Anaconda3\\lib\\site-packages\\sklearn\\linear_model\\base.py\u001b[0m in \u001b[0;36mfit\u001b[0;34m(self, X, y, sample_weight)\u001b[0m\n\u001b[1;32m    510\u001b[0m         \u001b[0mn_jobs_\u001b[0m \u001b[1;33m=\u001b[0m \u001b[0mself\u001b[0m\u001b[1;33m.\u001b[0m\u001b[0mn_jobs\u001b[0m\u001b[1;33m\u001b[0m\u001b[0m\n\u001b[1;32m    511\u001b[0m         X, y = check_X_y(X, y, accept_sparse=['csr', 'csc', 'coo'],\n\u001b[0;32m--> 512\u001b[0;31m                          y_numeric=True, multi_output=True)\n\u001b[0m\u001b[1;32m    513\u001b[0m \u001b[1;33m\u001b[0m\u001b[0m\n\u001b[1;32m    514\u001b[0m         \u001b[1;32mif\u001b[0m \u001b[0msample_weight\u001b[0m \u001b[1;32mis\u001b[0m \u001b[1;32mnot\u001b[0m \u001b[1;32mNone\u001b[0m \u001b[1;32mand\u001b[0m \u001b[0mnp\u001b[0m\u001b[1;33m.\u001b[0m\u001b[0matleast_1d\u001b[0m\u001b[1;33m(\u001b[0m\u001b[0msample_weight\u001b[0m\u001b[1;33m)\u001b[0m\u001b[1;33m.\u001b[0m\u001b[0mndim\u001b[0m \u001b[1;33m>\u001b[0m \u001b[1;36m1\u001b[0m\u001b[1;33m:\u001b[0m\u001b[1;33m\u001b[0m\u001b[0m\n",
      "\u001b[0;32mC:\\Users\\h\\Anaconda3\\lib\\site-packages\\sklearn\\utils\\validation.py\u001b[0m in \u001b[0;36mcheck_X_y\u001b[0;34m(X, y, accept_sparse, dtype, order, copy, force_all_finite, ensure_2d, allow_nd, multi_output, ensure_min_samples, ensure_min_features, y_numeric, warn_on_dtype, estimator)\u001b[0m\n\u001b[1;32m    519\u001b[0m     X = check_array(X, accept_sparse, dtype, order, copy, force_all_finite,\n\u001b[1;32m    520\u001b[0m                     \u001b[0mensure_2d\u001b[0m\u001b[1;33m,\u001b[0m \u001b[0mallow_nd\u001b[0m\u001b[1;33m,\u001b[0m \u001b[0mensure_min_samples\u001b[0m\u001b[1;33m,\u001b[0m\u001b[1;33m\u001b[0m\u001b[0m\n\u001b[0;32m--> 521\u001b[0;31m                     ensure_min_features, warn_on_dtype, estimator)\n\u001b[0m\u001b[1;32m    522\u001b[0m     \u001b[1;32mif\u001b[0m \u001b[0mmulti_output\u001b[0m\u001b[1;33m:\u001b[0m\u001b[1;33m\u001b[0m\u001b[0m\n\u001b[1;32m    523\u001b[0m         y = check_array(y, 'csr', force_all_finite=True, ensure_2d=False,\n",
      "\u001b[0;32mC:\\Users\\h\\Anaconda3\\lib\\site-packages\\sklearn\\utils\\validation.py\u001b[0m in \u001b[0;36mcheck_array\u001b[0;34m(array, accept_sparse, dtype, order, copy, force_all_finite, ensure_2d, allow_nd, ensure_min_samples, ensure_min_features, warn_on_dtype, estimator)\u001b[0m\n\u001b[1;32m    405\u001b[0m                              % (array.ndim, estimator_name))\n\u001b[1;32m    406\u001b[0m         \u001b[1;32mif\u001b[0m \u001b[0mforce_all_finite\u001b[0m\u001b[1;33m:\u001b[0m\u001b[1;33m\u001b[0m\u001b[0m\n\u001b[0;32m--> 407\u001b[0;31m             \u001b[0m_assert_all_finite\u001b[0m\u001b[1;33m(\u001b[0m\u001b[0marray\u001b[0m\u001b[1;33m)\u001b[0m\u001b[1;33m\u001b[0m\u001b[0m\n\u001b[0m\u001b[1;32m    408\u001b[0m \u001b[1;33m\u001b[0m\u001b[0m\n\u001b[1;32m    409\u001b[0m     \u001b[0mshape_repr\u001b[0m \u001b[1;33m=\u001b[0m \u001b[0m_shape_repr\u001b[0m\u001b[1;33m(\u001b[0m\u001b[0marray\u001b[0m\u001b[1;33m.\u001b[0m\u001b[0mshape\u001b[0m\u001b[1;33m)\u001b[0m\u001b[1;33m\u001b[0m\u001b[0m\n",
      "\u001b[0;32mC:\\Users\\h\\Anaconda3\\lib\\site-packages\\sklearn\\utils\\validation.py\u001b[0m in \u001b[0;36m_assert_all_finite\u001b[0;34m(X)\u001b[0m\n\u001b[1;32m     56\u001b[0m             and not np.isfinite(X).all()):\n\u001b[1;32m     57\u001b[0m         raise ValueError(\"Input contains NaN, infinity\"\n\u001b[0;32m---> 58\u001b[0;31m                          \" or a value too large for %r.\" % X.dtype)\n\u001b[0m\u001b[1;32m     59\u001b[0m \u001b[1;33m\u001b[0m\u001b[0m\n\u001b[1;32m     60\u001b[0m \u001b[1;33m\u001b[0m\u001b[0m\n",
      "\u001b[0;31mValueError\u001b[0m: Input contains NaN, infinity or a value too large for dtype('float64')."
     ]
    }
   ],
   "source": [
    "# Linear Regression\n",
    "\n",
    "# Create linear regression object\n",
    "regr = linear_model.LinearRegression()\n",
    "\n",
    "# Train the model using the training sets\n",
    "model1 = regr.fit(train_set_x, train_set_y)\n",
    "print(model1)"
   ]
  },
  {
   "cell_type": "markdown",
   "metadata": {},
   "source": [
    "Now we print the coefficients to ensure that the outputs are the same as the ones we've gotten when we ran statsmodel. \n",
    "\n",
    "We can also print out the other validation metrics we saw in the statsmodel output, like R Squared. "
   ]
  },
  {
   "cell_type": "code",
   "execution_count": null,
   "metadata": {
    "collapsed": true
   },
   "outputs": [],
   "source": [
    "# The coefficients\n",
    "print('Coefficients: \\n', regr.coef_)\n",
    "\n",
    "# R squared\n",
    "print('R Squared: \\n', regr.score_)"
   ]
  },
  {
   "cell_type": "markdown",
   "metadata": {},
   "source": [
    "With scikit-learn, we're able to generate some exciting new metrics using our test_set that we created earlier on in the code. First, let's take a look at the predicted value of y, and the true y.  "
   ]
  },
  {
   "cell_type": "code",
   "execution_count": null,
   "metadata": {
    "collapsed": true
   },
   "outputs": [],
   "source": [
    "#predicted y: \n",
    "predicted_y = regr.predict(test_set_x)\n",
    "#true y:\n",
    "test_set_y\n",
    "\n",
    "#Let's calculate the difference! \n",
    "y_diff = abs(predicted_y - test_set_y)\n",
    "y_diff.head(5)"
   ]
  },
  {
   "cell_type": "markdown",
   "metadata": {},
   "source": [
    "This is interesting, but the absolute value of the difference between predicted and true Y doesn't tell us too much on its own. However, it is used as an input in calculating many statistical measures of fit. Let's take a look: "
   ]
  },
  {
   "cell_type": "markdown",
   "metadata": {},
   "source": [
    "[Mean Absolute Error](https://www.kaggle.com/wiki/MeanAbsoluteError)\n",
    "\n",
    "The mean absolute error is calculated as the mean of the distance between predicted and true Y. We take the absolute value of (predicted Y - true Y) so we capture the concept of distance for each observation. Then we take the mean over all observations to get a sense of the entire model. The closer the final statistic is to 0, the better."
   ]
  },
  {
   "cell_type": "code",
   "execution_count": null,
   "metadata": {
    "collapsed": true
   },
   "outputs": [],
   "source": [
    "print(\"Mean absolute error: %.2f\"\n",
    "     % np.mean(y_diff)"
   ]
  },
  {
   "cell_type": "markdown",
   "metadata": {},
   "source": [
    "[Root Mean Squared Error](https://www.kaggle.com/wiki/RootMeanSquaredError)\n",
    "\n",
    "The root mean squared error is calculated as the square root of the mean of the difference between predicted and true Y squared. This is a little more complicated to interpret than the MAE, but a useful indication of fit. Like the MAE, the closer this final statistic is to 0, the better.  \n",
    "\n",
    "We use both RMSE and MAE in practice. See [this blog post](https://medium.com/human-in-a-machine-world/mae-and-rmse-which-metric-is-better-e60ac3bde13d) for a discussion of the difference between the two metrics."
   ]
  },
  {
   "cell_type": "code",
   "execution_count": null,
   "metadata": {
    "collapsed": true
   },
   "outputs": [],
   "source": [
    "print(\"Root mean squared error: %.2f\"\n",
    "      % np.sqrt(np.mean((predicted_y - test_set_y) ** 2)))"
   ]
  }
 ],
 "metadata": {
  "kernelspec": {
   "display_name": "Python 3",
   "language": "python",
   "name": "python3"
  },
  "language_info": {
   "codemirror_mode": {
    "name": "ipython",
    "version": 3
   },
   "file_extension": ".py",
   "mimetype": "text/x-python",
   "name": "python",
   "nbconvert_exporter": "python",
   "pygments_lexer": "ipython3",
   "version": "3.6.0"
  }
 },
 "nbformat": 4,
 "nbformat_minor": 2
}
