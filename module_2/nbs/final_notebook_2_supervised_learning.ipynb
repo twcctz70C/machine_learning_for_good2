{
 "cells": [
  {
   "cell_type": "markdown",
   "metadata": {},
   "source": [
    "# Lab 2: Supervised Learning"
   ]
  },
  {
   "cell_type": "markdown",
   "metadata": {},
   "source": [
    "In this lab, we prepare our Kiva data for a linear regression, and run linear regressions that attempt to answer as question we may have as Kiva borrowers: \n",
    "\n",
    "  *How much should I ask for on Kiva? *\n",
    "\n",
    "In the language of Module 1, our outcome feature is: \n",
    "\n",
    "    loan_amount\n",
    "\n",
    "We will try using and evaluating different explanatory features in this notebook. \n",
    "\n",
    "But first, we will load the packages we need for this section, and our data. As a reminder, we had 3 raw data files (loans_full, loans_detail, and loans_partner_details). In Notebook 1, we merged these data files and created new variables to form the data frame \"df\", which we will use now. **If you haven't already, please run through Notebook 1!**  "
   ]
  },
  {
   "cell_type": "code",
   "execution_count": 1,
   "metadata": {
    "collapsed": false
   },
   "outputs": [],
   "source": [
    "## Import packages\n",
    "\n",
    "import pandas as pd\n",
    "import numpy as np\n",
    "from datetime import datetime\n",
    "from ggplot import *\n",
    "%matplotlib inline\n",
    "\n",
    "# packages for checking assumptions\n",
    "from scipy import stats as stats\n",
    "\n",
    "# packages for linear regression and validation \n",
    "import statsmodels.formula.api as sm\n",
    "from sklearn import linear_model\n",
    "from sklearn.model_selection import train_test_split\n",
    "from sklearn.metrics import explained_variance_score\n",
    "from sklearn.metrics import mean_absolute_error\n",
    "from sklearn.metrics import mean_squared_error\n",
    "from sklearn import preprocessing\n",
    "from sklearn.preprocessing import OneHotEncoder\n",
    "import matplotlib.pyplot as plt"
   ]
  },
  {
   "cell_type": "code",
   "execution_count": 58,
   "metadata": {
    "collapsed": false
   },
   "outputs": [],
   "source": [
    "## Read in data\n",
    "\n",
    "##data_path = '~/intro_to_machine_learning/data'\n",
    "data_path = '~/Desktop'\n",
    "df = pd.read_csv(data_path+'/df.csv', low_memory=False)"
   ]
  },
  {
   "cell_type": "markdown",
   "metadata": {},
   "source": [
    "## Creating Explanatory Features of Interest\n",
    "\n",
    "   ### Demographics\n",
    "\n",
    "Since we are interested in using the demographics of the Kiva borrowers as potential explanatory features, we will create, clean, and otherwise prepare these for linear regression. We are using a new method: str.contains. You may remember the method np.where from Notebook 1. "
   ]
  },
  {
   "cell_type": "code",
   "execution_count": 59,
   "metadata": {
    "collapsed": false
   },
   "outputs": [],
   "source": [
    "## Whether or not the borrower is widowed\n",
    "#  Note the str.contains function\n",
    "df['widowed'] = np.where(df['description.texts.en'].str.contains(\"widowed|widow\", na=0) ==True, 1, 0)\n",
    "\n",
    "## Whether or not the borrower has children \n",
    "df['kids'] = np.where(df['description.texts.en'].str.contains(\"kids|child|children|kid|son|daughter\", na=0) ==True,1,0)"
   ]
  },
  {
   "cell_type": "markdown",
   "metadata": {},
   "source": [
    "In creating the \"widowed\" and \"kids\" feature, we are using Numpy's [where](https://docs.scipy.org/doc/numpy/reference/generated/numpy.where.html) function  and Panda's [str.contains](https://pandas.pydata.org/pandas-docs/stable/generated/pandas.Series.str.contains.html) to filter the data such that we are only creating a Boolean variable for those observations in which we find the strings of interest - in this case, any variation of the words widow, and any indication of children. Note that we try to be inclusive by testing for variations like \"daughter\" and \"son.\""
   ]
  },
  {
   "cell_type": "markdown",
   "metadata": {},
   "source": [
    "### Loan features\n",
    "\n",
    "Next we create features related to the conditions surrounding each loan posting, including: \n",
    "1. Whether or not a borrower has included a video or a picture: \n",
    "    1. Here, our intuition tells us that if a borrower includes more personal details and imagery, lenders are more likely to lend to them. We create this variable so we can differentiate between loans that have these personal details and loans that do not.   \n",
    "2. The time it takes loans to get their first repayment  "
   ]
  },
  {
   "cell_type": "code",
   "execution_count": 60,
   "metadata": {
    "collapsed": true
   },
   "outputs": [],
   "source": [
    "## Features of the loan posting\n",
    "\n",
    "## Does the borrower include a video? \n",
    "df['video'] = np.where(pd.isnull(df['video.id']) ==False, 1, 0)\n",
    "\n",
    "## Does the borrower include a picture? \n",
    "df['pictured'] = np.where(pd.isnull(df['image.id']) ==False, True, False)"
   ]
  },
  {
   "cell_type": "markdown",
   "metadata": {},
   "source": [
    "In order to get information on time, we first need to make sure that the data is in Python's datetime format. Once all relevant features are converted to this format, we can perform operations on them. In this case, we want to find out how many days elapsed between two dates, so we subtract the earlier date from the later date and report the output in days. \n",
    "\n",
    "As we saw in Module 1, we already ensured our date features are converted to datetime format using the `to_datetime` function. However, in reading in our \"df\" csv file, Python forgot the Pandas format we assigned. Therefore we convert our created variables to datetime format again. We then create a day feature from each of the datetime differences we calculate."
   ]
  },
  {
   "cell_type": "code",
   "execution_count": 61,
   "metadata": {
    "collapsed": false
   },
   "outputs": [],
   "source": [
    "## Ensuring datetime format\n",
    "df['planned_expiration_datetime'] = pd.to_datetime(df['planned_expiration_datetime'])\n",
    "df['posted_datetime'] = pd.to_datetime(df['posted_datetime'])\n",
    "\n",
    "## Time to expiration is the expiration date minus the Posted Date\n",
    "df['time_to_expire_datetime'] =df['planned_expiration_datetime'] - df['posted_datetime']\n",
    "df['days_to_expire'] = df.time_to_expire_datetime.dt.days"
   ]
  },
  {
   "cell_type": "markdown",
   "metadata": {},
   "source": [
    "## Checking Assumptions\n",
    "\n",
    "### Normality\n",
    "In Module 2, we reviewed that normal distribution of variables is an assumption underlying linear regression. Let's look first at our dependent variable, loan_amounts."
   ]
  },
  {
   "cell_type": "code",
   "execution_count": 6,
   "metadata": {
    "collapsed": false,
    "scrolled": true
   },
   "outputs": [
    {
     "data": {
      "image/png": "[encoded data removed]",
      "text/plain": [
       "<matplotlib.figure.Figure at 0x187284d8e10>"
      ]
     },
     "metadata": {},
     "output_type": "display_data"
    },
    {
     "data": {
      "text/plain": [
       "<ggplot: (-9223371931826182291)>"
      ]
     },
     "execution_count": 6,
     "metadata": {},
     "output_type": "execute_result"
    }
   ],
   "source": [
    "ggplot(df, aes(x='loan_amount')) + geom_histogram(binwidth=100, fill=\"blue\") + xlim(0, 10000) + \\\n",
    "ggtitle(\"Loan Amounts Requested on Kiva\") + xlab(\"Loan Amounts\") + ylab(\"Count of Loans\")"
   ]
  },
  {
   "cell_type": "markdown",
   "metadata": {},
   "source": [
    "This data looks pretty skewed to the left, towards values of $25, which we know is the minimum Kiva asks from lenders. \n",
    "\n",
    "We can also do a more statistical test of skewness. [Scipy's stats package](https://docs.scipy.org/doc/scipy-0.19.0/reference/generated/scipy.stats.skew.html) allows you to conduct a skew test. A normally distributed dataset would return about 0. A skewness value of greater than 0 means there is more in the left tail fo the distribution. Typically, a skew score of +-1 is deemed acceptable."
   ]
  },
  {
   "cell_type": "code",
   "execution_count": 7,
   "metadata": {
    "collapsed": false
   },
   "outputs": [
    {
     "name": "stdout",
     "output_type": "stream",
     "text": [
      "33.89270408065896\n"
     ]
    }
   ],
   "source": [
    "print(stats.skew(df.loan_amount, axis=None))"
   ]
  },
  {
   "cell_type": "markdown",
   "metadata": {},
   "source": [
    "This confirms our suspicion that the data is skewed to the left. How can we fix this? \n",
    "\n",
    "One potential solution is to **log transform** your data. For a quick review of logarithms, look [here](https://www.mathsisfun.com/algebra/logarithms.html). \n",
    "\n",
    "Note that when we log transform data, we change our interpretation of the final regression output. Previously we had a simple linear equation... \n",
    "\n",
    "    y = mx + b\n",
    "\n",
    "This could be interpreted as, with every unit increase in x, we get a m increase in outcome feature y. Now we have a log equation: \n",
    "\n",
    "    log(y) = mx + b\n",
    "    \n",
    "This is less intuitive, as we have to solve for y. When we solve for y through exponentiation, we get the following equation: \n",
    "\n",
    "    y = 10^(mx + b)\n",
    "    y = 10^(mx) * 10^(b)\n",
    "\n",
    "The default base for log is 10. The takeaway here is that the impact x would have on y is much larger than linear - it is **exponentiated**. We will return to this interpretation in the discussion of the linear regression model. Let's try log transforming our loan_amount variable. "
   ]
  },
  {
   "cell_type": "code",
   "execution_count": 62,
   "metadata": {
    "collapsed": false
   },
   "outputs": [
    {
     "data": {
      "image/png": "[encoded data removed]",
      "text/plain": [
       "<matplotlib.figure.Figure at 0x1873ac918d0>"
      ]
     },
     "metadata": {},
     "output_type": "display_data"
    },
    {
     "data": {
      "text/plain": [
       "<ggplot: (-9223371931826333345)>"
      ]
     },
     "execution_count": 62,
     "metadata": {},
     "output_type": "execute_result"
    }
   ],
   "source": [
    "df['log_loan_amount'] = np.log(df['loan_amount'])\n",
    "\n",
    "ggplot(df, aes(x='log_loan_amount')) + geom_histogram(binwidth=0.3, fill=\"blue\") + \\\n",
    "ggtitle(\"Log Loan Amounts Requested on Kiva\") + xlab(\"Log Loan Amounts\") + ylab(\"Count of Loans\")"
   ]
  },
  {
   "cell_type": "code",
   "execution_count": 9,
   "metadata": {
    "collapsed": false
   },
   "outputs": [
    {
     "name": "stdout",
     "output_type": "stream",
     "text": [
      "0.14839961560072792\n"
     ]
    }
   ],
   "source": [
    "print(stats.skew(df['log_loan_amount']))"
   ]
  },
  {
   "cell_type": "markdown",
   "metadata": {},
   "source": [
    "Great! This looks much closer to normal, both in the chart and in our skew statistic.\n",
    "\n",
    "Let's turn now to checking our other assumptions."
   ]
  },
  {
   "cell_type": "markdown",
   "metadata": {},
   "source": [
    "### Check for multicollinearity"
   ]
  },
  {
   "cell_type": "markdown",
   "metadata": {},
   "source": [
    "Numpy's Corrcoef function returns a matrix of Pearson correlation coefficients. To recap Module 2's lesson, multicollinearity is a problem when we have highly correlated explanatory features, as this makes it difficult for the model to try to differentitae between each feature's influence on the explanatory feature. Read more about Numpy's Corrcoef [here](https://docs.scipy.org/doc/numpy-1.10.1/reference/generated/numpy.corrcoef.html).\n",
    "\n",
    "Try running different features!"
   ]
  },
  {
   "cell_type": "code",
   "execution_count": 10,
   "metadata": {
    "collapsed": false
   },
   "outputs": [
    {
     "data": {
      "text/plain": [
       "array([[ 1.        ,  0.97333343],\n",
       "       [ 0.97333343,  1.        ]])"
      ]
     },
     "execution_count": 10,
     "metadata": {},
     "output_type": "execute_result"
    }
   ],
   "source": [
    "np.corrcoef(df.loan_amount, df.funded_amount)"
   ]
  },
  {
   "cell_type": "markdown",
   "metadata": {},
   "source": [
    "This tells us that loan amount and funded amount are extremely highly correlated - a vast majority of loans requested get funded! Normally, we would be interested in both loan_amount and funded_amount as an outcome feature, but here we see that it would be redundant to test both. \n",
    "\n",
    "It would take a long time for us to test each and every relationship between two sets of variables, so let's create a correlation matrix that lets us visualize every correlation in a dataset using Pandas."
   ]
  },
  {
   "cell_type": "code",
   "execution_count": 12,
   "metadata": {
    "collapsed": false
   },
   "outputs": [
    {
     "data": {
      "text/html": [
       "<div>\n",
       "<table border=\"1\" class=\"dataframe\">\n",
       "  <thead>\n",
       "    <tr style=\"text-align: right;\">\n",
       "      <th></th>\n",
       "      <th>funded_amount</th>\n",
       "      <th>loan_amount</th>\n",
       "      <th>log_loan_amount</th>\n",
       "      <th>lender_count</th>\n",
       "      <th>borrower_count</th>\n",
       "      <th>widowed</th>\n",
       "      <th>kids</th>\n",
       "      <th>video</th>\n",
       "      <th>pictured</th>\n",
       "      <th>days_to_expire</th>\n",
       "    </tr>\n",
       "  </thead>\n",
       "  <tbody>\n",
       "    <tr>\n",
       "      <th>funded_amount</th>\n",
       "      <td>1.000000</td>\n",
       "      <td>0.973333</td>\n",
       "      <td>0.569338</td>\n",
       "      <td>0.966091</td>\n",
       "      <td>0.199865</td>\n",
       "      <td>-0.016536</td>\n",
       "      <td>-0.036267</td>\n",
       "      <td>0.138491</td>\n",
       "      <td>NaN</td>\n",
       "      <td>0.082532</td>\n",
       "    </tr>\n",
       "    <tr>\n",
       "      <th>loan_amount</th>\n",
       "      <td>0.973333</td>\n",
       "      <td>1.000000</td>\n",
       "      <td>0.592568</td>\n",
       "      <td>0.936628</td>\n",
       "      <td>0.217043</td>\n",
       "      <td>-0.019917</td>\n",
       "      <td>-0.030220</td>\n",
       "      <td>0.132316</td>\n",
       "      <td>NaN</td>\n",
       "      <td>0.084827</td>\n",
       "    </tr>\n",
       "    <tr>\n",
       "      <th>log_loan_amount</th>\n",
       "      <td>0.569338</td>\n",
       "      <td>0.592568</td>\n",
       "      <td>1.000000</td>\n",
       "      <td>0.558347</td>\n",
       "      <td>0.359565</td>\n",
       "      <td>-0.033945</td>\n",
       "      <td>-0.040790</td>\n",
       "      <td>0.004814</td>\n",
       "      <td>NaN</td>\n",
       "      <td>0.076844</td>\n",
       "    </tr>\n",
       "    <tr>\n",
       "      <th>lender_count</th>\n",
       "      <td>0.966091</td>\n",
       "      <td>0.936628</td>\n",
       "      <td>0.558347</td>\n",
       "      <td>1.000000</td>\n",
       "      <td>0.182836</td>\n",
       "      <td>-0.014063</td>\n",
       "      <td>-0.031407</td>\n",
       "      <td>0.129759</td>\n",
       "      <td>NaN</td>\n",
       "      <td>0.081412</td>\n",
       "    </tr>\n",
       "    <tr>\n",
       "      <th>borrower_count</th>\n",
       "      <td>0.199865</td>\n",
       "      <td>0.217043</td>\n",
       "      <td>0.359565</td>\n",
       "      <td>0.182836</td>\n",
       "      <td>1.000000</td>\n",
       "      <td>-0.042936</td>\n",
       "      <td>0.065381</td>\n",
       "      <td>-0.005363</td>\n",
       "      <td>NaN</td>\n",
       "      <td>0.019546</td>\n",
       "    </tr>\n",
       "    <tr>\n",
       "      <th>widowed</th>\n",
       "      <td>-0.016536</td>\n",
       "      <td>-0.019917</td>\n",
       "      <td>-0.033945</td>\n",
       "      <td>-0.014063</td>\n",
       "      <td>-0.042936</td>\n",
       "      <td>1.000000</td>\n",
       "      <td>0.046876</td>\n",
       "      <td>0.009926</td>\n",
       "      <td>NaN</td>\n",
       "      <td>0.015540</td>\n",
       "    </tr>\n",
       "    <tr>\n",
       "      <th>kids</th>\n",
       "      <td>-0.036267</td>\n",
       "      <td>-0.030220</td>\n",
       "      <td>-0.040790</td>\n",
       "      <td>-0.031407</td>\n",
       "      <td>0.065381</td>\n",
       "      <td>0.046876</td>\n",
       "      <td>1.000000</td>\n",
       "      <td>-0.000634</td>\n",
       "      <td>NaN</td>\n",
       "      <td>-0.027457</td>\n",
       "    </tr>\n",
       "    <tr>\n",
       "      <th>video</th>\n",
       "      <td>0.138491</td>\n",
       "      <td>0.132316</td>\n",
       "      <td>0.004814</td>\n",
       "      <td>0.129759</td>\n",
       "      <td>-0.005363</td>\n",
       "      <td>0.009926</td>\n",
       "      <td>-0.000634</td>\n",
       "      <td>1.000000</td>\n",
       "      <td>NaN</td>\n",
       "      <td>0.016898</td>\n",
       "    </tr>\n",
       "    <tr>\n",
       "      <th>pictured</th>\n",
       "      <td>NaN</td>\n",
       "      <td>NaN</td>\n",
       "      <td>NaN</td>\n",
       "      <td>NaN</td>\n",
       "      <td>NaN</td>\n",
       "      <td>NaN</td>\n",
       "      <td>NaN</td>\n",
       "      <td>NaN</td>\n",
       "      <td>NaN</td>\n",
       "      <td>NaN</td>\n",
       "    </tr>\n",
       "    <tr>\n",
       "      <th>days_to_expire</th>\n",
       "      <td>0.082532</td>\n",
       "      <td>0.084827</td>\n",
       "      <td>0.076844</td>\n",
       "      <td>0.081412</td>\n",
       "      <td>0.019546</td>\n",
       "      <td>0.015540</td>\n",
       "      <td>-0.027457</td>\n",
       "      <td>0.016898</td>\n",
       "      <td>NaN</td>\n",
       "      <td>1.000000</td>\n",
       "    </tr>\n",
       "  </tbody>\n",
       "</table>\n",
       "</div>"
      ],
      "text/plain": [
       "                 funded_amount  loan_amount  log_loan_amount  lender_count  \\\n",
       "funded_amount         1.000000     0.973333         0.569338      0.966091   \n",
       "loan_amount           0.973333     1.000000         0.592568      0.936628   \n",
       "log_loan_amount       0.569338     0.592568         1.000000      0.558347   \n",
       "lender_count          0.966091     0.936628         0.558347      1.000000   \n",
       "borrower_count        0.199865     0.217043         0.359565      0.182836   \n",
       "widowed              -0.016536    -0.019917        -0.033945     -0.014063   \n",
       "kids                 -0.036267    -0.030220        -0.040790     -0.031407   \n",
       "video                 0.138491     0.132316         0.004814      0.129759   \n",
       "pictured                   NaN          NaN              NaN           NaN   \n",
       "days_to_expire        0.082532     0.084827         0.076844      0.081412   \n",
       "\n",
       "                 borrower_count   widowed      kids     video  pictured  \\\n",
       "funded_amount          0.199865 -0.016536 -0.036267  0.138491       NaN   \n",
       "loan_amount            0.217043 -0.019917 -0.030220  0.132316       NaN   \n",
       "log_loan_amount        0.359565 -0.033945 -0.040790  0.004814       NaN   \n",
       "lender_count           0.182836 -0.014063 -0.031407  0.129759       NaN   \n",
       "borrower_count         1.000000 -0.042936  0.065381 -0.005363       NaN   \n",
       "widowed               -0.042936  1.000000  0.046876  0.009926       NaN   \n",
       "kids                   0.065381  0.046876  1.000000 -0.000634       NaN   \n",
       "video                 -0.005363  0.009926 -0.000634  1.000000       NaN   \n",
       "pictured                    NaN       NaN       NaN       NaN       NaN   \n",
       "days_to_expire         0.019546  0.015540 -0.027457  0.016898       NaN   \n",
       "\n",
       "                 days_to_expire  \n",
       "funded_amount          0.082532  \n",
       "loan_amount            0.084827  \n",
       "log_loan_amount        0.076844  \n",
       "lender_count           0.081412  \n",
       "borrower_count         0.019546  \n",
       "widowed                0.015540  \n",
       "kids                  -0.027457  \n",
       "video                  0.016898  \n",
       "pictured                    NaN  \n",
       "days_to_expire         1.000000  "
      ]
     },
     "execution_count": 12,
     "metadata": {},
     "output_type": "execute_result"
    }
   ],
   "source": [
    "df_corr_tbl = df[['funded_amount', 'loan_amount', 'log_loan_amount', 'lender_count', 'borrower_count', 'gender', 'widowed', 'kids', 'video', 'pictured', 'days_to_expire']]\n",
    "df_corr_tbl.corr()"
   ]
  },
  {
   "cell_type": "markdown",
   "metadata": {},
   "source": [
    "Of course, not every correlation in this table will be meaningful. A correlation table is useful as it provides a visual shortcut to see what relationships might be problematic for multicollinearity. "
   ]
  },
  {
   "cell_type": "markdown",
   "metadata": {},
   "source": [
    "## Linear Regression"
   ]
  },
  {
   "cell_type": "markdown",
   "metadata": {},
   "source": [
    "Now we're relatively confident about what our data looks like, let's try some regressions. We will focus in on outcome features time_to_disburse and loan_amount. We encourage you to explore other outcome features!  \n",
    "\n",
    "As discussed in Module 2, we will divide the data into training and test sets so we can validate our regression results.\n",
    "\n",
    "Note that training set should be larger than the test set, as we should train our model on as much data as possible. For this example, we divide the data 80% training / 20% test."
   ]
  },
  {
   "cell_type": "code",
   "execution_count": 63,
   "metadata": {
    "collapsed": false
   },
   "outputs": [],
   "source": [
    "# Set training-test split %\n",
    "split_pct = 0.80\n",
    "\n",
    "# Remove null and NaN values \n",
    "df_cln = df[pd.notnull(df)]\n",
    "\n",
    "# the pandas command \"sample\" already randomizes its selection. \n",
    "loans_full_shuffled = df_cln.sample(frac=1)\n",
    "\n",
    "train_set = loans_full_shuffled[:int((len(loans_full_shuffled)+1*split_pct))] \n",
    "test_set = loans_full_shuffled[int(len(loans_full_shuffled)*split_pct+1):]  "
   ]
  },
  {
   "cell_type": "markdown",
   "metadata": {},
   "source": [
    "Now we have two separate datasets: train_set and test_set. We will run the regression on train_set\n",
    "using statsmodel's \"ols\" function. Let's try a simple example to start: "
   ]
  },
  {
   "cell_type": "code",
   "execution_count": 14,
   "metadata": {
    "collapsed": false
   },
   "outputs": [
    {
     "name": "stdout",
     "output_type": "stream",
     "text": [
      "                            OLS Regression Results                            \n",
      "==============================================================================\n",
      "Dep. Variable:            loan_amount   R-squared:                       0.004\n",
      "Model:                            OLS   Adj. R-squared:                  0.004\n",
      "Method:                 Least Squares   F-statistic:                     464.3\n",
      "Date:                Sun, 28 May 2017   Prob (F-statistic):          8.62e-103\n",
      "Time:                        11:23:01   Log-Likelihood:            -9.4344e+05\n",
      "No. Observations:              118316   AIC:                         1.887e+06\n",
      "Df Residuals:                  118314   BIC:                         1.887e+06\n",
      "Df Model:                           1                                         \n",
      "Covariance Type:            nonrobust                                         \n",
      "==================================================================================\n",
      "                     coef    std err          t      P>|t|      [95.0% Conf. Int.]\n",
      "----------------------------------------------------------------------------------\n",
      "Intercept        463.9520      2.504    185.271      0.000       459.044   468.860\n",
      "gender[T.Male]    93.3054      4.330     21.549      0.000        84.819   101.792\n",
      "==============================================================================\n",
      "Omnibus:                   323229.608   Durbin-Watson:                   1.998\n",
      "Prob(Omnibus):                  0.000   Jarque-Bera (JB):      20914880614.698\n",
      "Skew:                          34.055   Prob(JB):                         0.00\n",
      "Kurtosis:                    2061.610   Cond. No.                         2.41\n",
      "==============================================================================\n",
      "\n",
      "Warnings:\n",
      "[1] Standard Errors assume that the covariance matrix of the errors is correctly specified.\n"
     ]
    }
   ],
   "source": [
    "model0 = sm.ols(formula=\"loan_amount ~ gender\", data=train_set).fit()\n",
    "print(model0.summary())"
   ]
  },
  {
   "cell_type": "markdown",
   "metadata": {},
   "source": [
    "This is the typical regression output. It's a lot to digest! Remember that our simple model can be represented as a linear equation, like this: \n",
    "\n",
    "    loan_amount = intercept + coef*male\n",
    "\n",
    "Therefore, these results can be translated as follows: \n",
    "\n",
    "    loan_amount = 463.9520 + 93.3054*male\n",
    "\n",
    "Noticeably, the coefficient for male is not small, suggesting that whether or not a borrower is male **does** influence loan_amount. We have a sufficient amount of confidence in this conclusion because the **p-value** is reported to be 0.000. In technical terms, the p-value is **the probability of getting results as extreme as the ones observed. **\n",
    "\n",
    "In statistics, we want our results to fall within the 95% confidence interval, or the p-value to be <= 0.05. This means, \"[i]f repeated samples were taken and the 95% confidence interval was computed for each sample, 95% of the intervals would contain the population mean. A 95% confidence interval has a 0.95 probability of containing the population mean. 95% of the population distribution is contained in the confidence interval.\" [Read more here.](http://www.investopedia.com/terms/s/standard-error.asp) The p-value is an indicator of where we fall in the confidence interval. In English, small p-value (<= 0.05) indicates strong evidence that the coefficient is different than 0. \n",
    "\n",
    "This is a relatively simplified explanation of p-values. Don't worry if it's not immediately intuitive - [not even professional statisticians can easily explain this concept.](http://fivethirtyeight.com/features/not-even-scientists-can-easily-explain-p-values/) To get a deeper understanding, we recommend grabbing the nearest textbook on statistics to review! \n",
    "\n",
    "Note also that the Adjusted R Squared is extremely low. To recap lessons from Module 2, the Adjusted R Squared is an explanation of how much of the outcome feature can be explained by the model's explanatory features. This low Adj R Squared suggests that the predictive value of male is pretty low - it cannot be used as the single feature to predict loan_amount. \n",
    "\n",
    "This result is in line with our understanding of the world - there must be other factors influencing loan_amount. Let's try complicating the model by adding more explanatory features. "
   ]
  },
  {
   "cell_type": "markdown",
   "metadata": {},
   "source": [
    "#### Model 1"
   ]
  },
  {
   "cell_type": "code",
   "execution_count": 67,
   "metadata": {
    "collapsed": false
   },
   "outputs": [],
   "source": [
    "train_set = train_set.rename(columns={'terms.repayment_term': 'repayment_term'})\n",
    "test_set = test_set.rename(columns={'terms.repayment_term': 'repayment_term'})"
   ]
  },
  {
   "cell_type": "code",
   "execution_count": 17,
   "metadata": {
    "collapsed": false,
    "scrolled": true
   },
   "outputs": [
    {
     "name": "stdout",
     "output_type": "stream",
     "text": [
      "                            OLS Regression Results                            \n",
      "==============================================================================\n",
      "Dep. Variable:        log_loan_amount   R-squared:                       0.299\n",
      "Model:                            OLS   Adj. R-squared:                  0.299\n",
      "Method:                 Least Squares   F-statistic:                     1895.\n",
      "Date:                Sun, 28 May 2017   Prob (F-statistic):               0.00\n",
      "Time:                        11:23:35   Log-Likelihood:                -81853.\n",
      "No. Observations:               93403   AIC:                         1.637e+05\n",
      "Df Residuals:                   93381   BIC:                         1.640e+05\n",
      "Df Model:                          21                                         \n",
      "Covariance Type:            nonrobust                                         \n",
      "============================================================================================\n",
      "                               coef    std err          t      P>|t|      [95.0% Conf. Int.]\n",
      "--------------------------------------------------------------------------------------------\n",
      "Intercept                    2.6792      0.006    418.256      0.000         2.667     2.692\n",
      "sector[T.Arts]              -0.0641      0.035     -1.833      0.067        -0.133     0.004\n",
      "sector[T.Clothing]           0.1030      0.009     11.970      0.000         0.086     0.120\n",
      "sector[T.Construction]       0.0361      0.017      2.088      0.037         0.002     0.070\n",
      "sector[T.Education]          0.0787      0.015      5.293      0.000         0.050     0.108\n",
      "sector[T.Entertainment]      0.1579      0.062      2.557      0.011         0.037     0.279\n",
      "sector[T.Food]              -0.0223      0.005     -4.094      0.000        -0.033    -0.012\n",
      "sector[T.Health]             0.1559      0.021      7.339      0.000         0.114     0.197\n",
      "sector[T.Housing]            0.2247      0.024      9.249      0.000         0.177     0.272\n",
      "sector[T.Manufacturing]      0.1272      0.026      4.833      0.000         0.076     0.179\n",
      "sector[T.Personal Use]      -1.0089      0.013    -80.434      0.000        -1.034    -0.984\n",
      "sector[T.Retail]             0.1438      0.006     23.532      0.000         0.132     0.156\n",
      "sector[T.Services]           0.1051      0.008     13.007      0.000         0.089     0.121\n",
      "sector[T.Transportation]     0.1597      0.012     13.596      0.000         0.137     0.183\n",
      "sector[T.Wholesale]          0.2390      0.073      3.285      0.001         0.096     0.382\n",
      "gender[T.Male]               0.1219      0.004     28.000      0.000         0.113     0.130\n",
      "pictured[T.True]             2.6792      0.006    418.256      0.000         2.667     2.692\n",
      "borrower_count               0.0845      0.001    134.433      0.000         0.083     0.086\n",
      "kids                        -0.0910      0.005    -16.691      0.000        -0.102    -0.080\n",
      "widowed                     -0.0729      0.014     -5.303      0.000        -0.100    -0.046\n",
      "video                        2.1513      0.146     14.784      0.000         1.866     2.436\n",
      "days_to_expire               0.0054      0.000     15.548      0.000         0.005     0.006\n",
      "repayment_term               0.0193      0.000     82.258      0.000         0.019     0.020\n",
      "==============================================================================\n",
      "Omnibus:                     3891.541   Durbin-Watson:                   1.991\n",
      "Prob(Omnibus):                  0.000   Jarque-Bera (JB):             7931.629\n",
      "Skew:                           0.299   Prob(JB):                         0.00\n",
      "Kurtosis:                       4.296   Cond. No.                     6.36e+15\n",
      "==============================================================================\n",
      "\n",
      "Warnings:\n",
      "[1] Standard Errors assume that the covariance matrix of the errors is correctly specified.\n",
      "[2] The smallest eigenvalue is 2.81e-24. This might indicate that there are\n",
      "strong multicollinearity problems or that the design matrix is singular.\n"
     ]
    }
   ],
   "source": [
    "model1 = sm.ols(formula=\"log_loan_amount ~ borrower_count + sector + kids + gender + widowed + pictured + video + days_to_expire + repayment_term\", data=train_set)\n",
    "model1_results = model1.fit()\n",
    "print(model1_results.summary())"
   ]
  },
  {
   "cell_type": "markdown",
   "metadata": {},
   "source": [
    "This **multi-feature** (or multivariate) model is more aligned with our understanding of the world. We see that adding a picture to your profile increases the amount that you might ask for. We also see that males tend to get larger loans, and widows and those with children tend to get slightly smaller loans. Most coefficients have very low p-values - a good sign! \n",
    "\n",
    "Our Adjusted R Squared is higher than it was in the single-feature model. Let's get into how we evaluate the model in terms of predictiveness. "
   ]
  },
  {
   "cell_type": "markdown",
   "metadata": {},
   "source": [
    "## Model Validation"
   ]
  },
  {
   "cell_type": "markdown",
   "metadata": {},
   "source": [
    "<i>How can we evaluate how our model is doing? </i>\n",
    "\n",
    "In the previous section, we were able to get general ideas of how well our model was doing by using metrics like Adjusted R Squared, coefficients, and p-value. However, the goal of most machine learning is a model that can <b>predict outcome features accurately</b>. Recall that we randomly split our dataset into a training set (80%) and a test set (20%). Now we will use the results from the regression conducted on our training set to predict the outcome features for each observation in our test set. The difference between the predicted outcome feature and the actual outcome feature for each observation gives us an idea of how close we are to the mark.  \n",
    "\n",
    "In the previous section, we used the **statsmodel** package in order to output a regression output table. Now, we run the regression using the **scikit-learn** package, which is optimized specifically for machine learning and allows us to validate our models easily. Remember this package - we will be returning to it for the rest of the class!  "
   ]
  },
  {
   "cell_type": "markdown",
   "metadata": {},
   "source": [
    "#### Validation of Model 1:"
   ]
  },
  {
   "cell_type": "code",
   "execution_count": 64,
   "metadata": {
    "collapsed": false
   },
   "outputs": [],
   "source": [
    "#Pre Processing\n",
    "\n",
    "# Split the outcome and explanatory features into training/testing sets \n",
    "#  using our already-made training and test datasets\n",
    "train_set = pd.DataFrame(train_set)\n",
    "test_set = pd.DataFrame(test_set)\n",
    "train_set_y = train_set['log_loan_amount']\n",
    "test_set_y = test_set['log_loan_amount']\n",
    "\n",
    "# Process categorical variable \"Gender\" into individual Boolean features. \n",
    "#  Since there are only two possible values, we can keep this short. \n",
    "train_set['gender_dummy'] = train_set['gender']==\"Male\"\n",
    "test_set['gender_dummy'] = test_set['gender']==\"Male\"\n",
    "\n",
    "# Process categorical variable \"Sector\" into individual Boolean features \n",
    "#  Since there are 15 different sectors, this requires more processing.\n",
    "\n",
    "# Encode categorical variable 'sector' into numeric \n",
    "le = preprocessing.LabelEncoder()\n",
    "le.fit(train_set['sector'])\n",
    "\n",
    "# create array of sectors as numbers \n",
    "sector_as_num = le.transform(train_set['sector']).reshape(-1,1)\n",
    "\n",
    "# One-hot encode sectors of loans so that each sector has its own Boolean column (statsmodel does this automatically)\n",
    "enc = OneHotEncoder()\n",
    "enc.fit(sector_as_num)\n",
    "# Create array of columns\n",
    "sector_dummies = enc.transform(sector_as_num).toarray()\n",
    "sector_dummies = pd.DataFrame(sector_dummies, columns = [\"dummy_\"+str(i) for i in range(1,16)])\n",
    "# Join array of boolean columns with original training set \n",
    "train_set = pd.concat([train_set, sector_dummies], axis=1)\n",
    "test_set = pd.concat([test_set, sector_dummies], axis=1)"
   ]
  },
  {
   "cell_type": "code",
   "execution_count": 68,
   "metadata": {
    "collapsed": false
   },
   "outputs": [],
   "source": [
    "train_set_x = train_set[['borrower_count', 'kids', 'gender_dummy', 'widowed', 'pictured', 'video', \\\n",
    "                         'days_to_expire', 'repayment_term',\n",
    "                         'dummy_1', 'dummy_2', 'dummy_3', 'dummy_4', 'dummy_5', 'dummy_6',\\\n",
    "                         'dummy_7','dummy_8','dummy_9','dummy_10','dummy_11','dummy_12','dummy_13',\\\n",
    "                         'dummy_14','dummy_15']]\n",
    "test_set_x = test_set[['borrower_count', 'kids', 'gender_dummy', 'widowed', 'pictured', 'video', \\\n",
    "                        'days_to_expire', 'repayment_term',\n",
    "                      'dummy_1', 'dummy_2', 'dummy_3', 'dummy_4', 'dummy_5', 'dummy_6', \\\n",
    "                       'dummy_7','dummy_8','dummy_9','dummy_10','dummy_11','dummy_12','dummy_13',\\\n",
    "                       'dummy_14','dummy_15']]"
   ]
  },
  {
   "cell_type": "markdown",
   "metadata": {},
   "source": [
    "To pre-process, we separate our big dataset into specific segments: Explanatory Features and Outcome Features. For each set of features, we have a Test Set and a Training Set. "
   ]
  },
  {
   "cell_type": "code",
   "execution_count": 76,
   "metadata": {
    "collapsed": false
   },
   "outputs": [
    {
     "ename": "ValueError",
     "evalue": "Input contains NaN, infinity or a value too large for dtype('float64').",
     "output_type": "error",
     "traceback": [
      "\u001b[0;31m---------------------------------------------------------------------------\u001b[0m",
      "\u001b[0;31mValueError\u001b[0m                                Traceback (most recent call last)",
      "\u001b[0;32m<ipython-input-76-646ea306fc0c>\u001b[0m in \u001b[0;36m<module>\u001b[0;34m()\u001b[0m\n\u001b[1;32m      5\u001b[0m \u001b[1;33m\u001b[0m\u001b[0m\n\u001b[1;32m      6\u001b[0m \u001b[1;31m# Train the model using the training sets\u001b[0m\u001b[1;33m\u001b[0m\u001b[1;33m\u001b[0m\u001b[0m\n\u001b[0;32m----> 7\u001b[0;31m \u001b[0mmodel1\u001b[0m \u001b[1;33m=\u001b[0m \u001b[0mregr\u001b[0m\u001b[1;33m.\u001b[0m\u001b[0mfit\u001b[0m\u001b[1;33m(\u001b[0m\u001b[0mtrain_set_x\u001b[0m\u001b[1;33m,\u001b[0m \u001b[0mtrain_set_y\u001b[0m\u001b[1;33m)\u001b[0m\u001b[1;33m\u001b[0m\u001b[0m\n\u001b[0m\u001b[1;32m      8\u001b[0m \u001b[0mprint\u001b[0m\u001b[1;33m(\u001b[0m\u001b[0mmodel1\u001b[0m\u001b[1;33m)\u001b[0m\u001b[1;33m\u001b[0m\u001b[0m\n",
      "\u001b[0;32mC:\\Users\\h\\Anaconda3\\lib\\site-packages\\sklearn\\linear_model\\base.py\u001b[0m in \u001b[0;36mfit\u001b[0;34m(self, X, y, sample_weight)\u001b[0m\n\u001b[1;32m    510\u001b[0m         \u001b[0mn_jobs_\u001b[0m \u001b[1;33m=\u001b[0m \u001b[0mself\u001b[0m\u001b[1;33m.\u001b[0m\u001b[0mn_jobs\u001b[0m\u001b[1;33m\u001b[0m\u001b[0m\n\u001b[1;32m    511\u001b[0m         X, y = check_X_y(X, y, accept_sparse=['csr', 'csc', 'coo'],\n\u001b[0;32m--> 512\u001b[0;31m                          y_numeric=True, multi_output=True)\n\u001b[0m\u001b[1;32m    513\u001b[0m \u001b[1;33m\u001b[0m\u001b[0m\n\u001b[1;32m    514\u001b[0m         \u001b[1;32mif\u001b[0m \u001b[0msample_weight\u001b[0m \u001b[1;32mis\u001b[0m \u001b[1;32mnot\u001b[0m \u001b[1;32mNone\u001b[0m \u001b[1;32mand\u001b[0m \u001b[0mnp\u001b[0m\u001b[1;33m.\u001b[0m\u001b[0matleast_1d\u001b[0m\u001b[1;33m(\u001b[0m\u001b[0msample_weight\u001b[0m\u001b[1;33m)\u001b[0m\u001b[1;33m.\u001b[0m\u001b[0mndim\u001b[0m \u001b[1;33m>\u001b[0m \u001b[1;36m1\u001b[0m\u001b[1;33m:\u001b[0m\u001b[1;33m\u001b[0m\u001b[0m\n",
      "\u001b[0;32mC:\\Users\\h\\Anaconda3\\lib\\site-packages\\sklearn\\utils\\validation.py\u001b[0m in \u001b[0;36mcheck_X_y\u001b[0;34m(X, y, accept_sparse, dtype, order, copy, force_all_finite, ensure_2d, allow_nd, multi_output, ensure_min_samples, ensure_min_features, y_numeric, warn_on_dtype, estimator)\u001b[0m\n\u001b[1;32m    519\u001b[0m     X = check_array(X, accept_sparse, dtype, order, copy, force_all_finite,\n\u001b[1;32m    520\u001b[0m                     \u001b[0mensure_2d\u001b[0m\u001b[1;33m,\u001b[0m \u001b[0mallow_nd\u001b[0m\u001b[1;33m,\u001b[0m \u001b[0mensure_min_samples\u001b[0m\u001b[1;33m,\u001b[0m\u001b[1;33m\u001b[0m\u001b[0m\n\u001b[0;32m--> 521\u001b[0;31m                     ensure_min_features, warn_on_dtype, estimator)\n\u001b[0m\u001b[1;32m    522\u001b[0m     \u001b[1;32mif\u001b[0m \u001b[0mmulti_output\u001b[0m\u001b[1;33m:\u001b[0m\u001b[1;33m\u001b[0m\u001b[0m\n\u001b[1;32m    523\u001b[0m         y = check_array(y, 'csr', force_all_finite=True, ensure_2d=False,\n",
      "\u001b[0;32mC:\\Users\\h\\Anaconda3\\lib\\site-packages\\sklearn\\utils\\validation.py\u001b[0m in \u001b[0;36mcheck_array\u001b[0;34m(array, accept_sparse, dtype, order, copy, force_all_finite, ensure_2d, allow_nd, ensure_min_samples, ensure_min_features, warn_on_dtype, estimator)\u001b[0m\n\u001b[1;32m    405\u001b[0m                              % (array.ndim, estimator_name))\n\u001b[1;32m    406\u001b[0m         \u001b[1;32mif\u001b[0m \u001b[0mforce_all_finite\u001b[0m\u001b[1;33m:\u001b[0m\u001b[1;33m\u001b[0m\u001b[0m\n\u001b[0;32m--> 407\u001b[0;31m             \u001b[0m_assert_all_finite\u001b[0m\u001b[1;33m(\u001b[0m\u001b[0marray\u001b[0m\u001b[1;33m)\u001b[0m\u001b[1;33m\u001b[0m\u001b[0m\n\u001b[0m\u001b[1;32m    408\u001b[0m \u001b[1;33m\u001b[0m\u001b[0m\n\u001b[1;32m    409\u001b[0m     \u001b[0mshape_repr\u001b[0m \u001b[1;33m=\u001b[0m \u001b[0m_shape_repr\u001b[0m\u001b[1;33m(\u001b[0m\u001b[0marray\u001b[0m\u001b[1;33m.\u001b[0m\u001b[0mshape\u001b[0m\u001b[1;33m)\u001b[0m\u001b[1;33m\u001b[0m\u001b[0m\n",
      "\u001b[0;32mC:\\Users\\h\\Anaconda3\\lib\\site-packages\\sklearn\\utils\\validation.py\u001b[0m in \u001b[0;36m_assert_all_finite\u001b[0;34m(X)\u001b[0m\n\u001b[1;32m     56\u001b[0m             and not np.isfinite(X).all()):\n\u001b[1;32m     57\u001b[0m         raise ValueError(\"Input contains NaN, infinity\"\n\u001b[0;32m---> 58\u001b[0;31m                          \" or a value too large for %r.\" % X.dtype)\n\u001b[0m\u001b[1;32m     59\u001b[0m \u001b[1;33m\u001b[0m\u001b[0m\n\u001b[1;32m     60\u001b[0m \u001b[1;33m\u001b[0m\u001b[0m\n",
      "\u001b[0;31mValueError\u001b[0m: Input contains NaN, infinity or a value too large for dtype('float64')."
     ]
    }
   ],
   "source": [
    "# Linear Regression\n",
    "\n",
    "# Create linear regression object\n",
    "regr = linear_model.LinearRegression()\n",
    "\n",
    "# Train the model using the training sets\n",
    "model1 = regr.fit(train_set_x, train_set_y)\n",
    "print(model1)"
   ]
  },
  {
   "cell_type": "code",
   "execution_count": null,
   "metadata": {
    "collapsed": true
   },
   "outputs": [],
   "source": [
    "# The coefficients\n",
    "print('Coefficients: \\n', regr.coef_)\n",
    "# The mean squared error\n",
    "print(\"Mean squared error: %.2f\"\n",
    "      % np.mean((regr.predict(test_set_x) - test_set_y) ** 2))\n",
    "# Explained variance score: 1 is perfect prediction\n",
    "print('Variance score: %.2f' % regr.score(test_set_x, test_set_y))"
   ]
  },
  {
   "cell_type": "markdown",
   "metadata": {},
   "source": [
    "In this snippet, we run the linear regression and output the MSE, Explained variance score, and coefficients. Scikit learn's output is a little less intuitively laid out than the statsmodel output, but the outputs should match. \n",
    "\n",
    "Now let's try to predict the test or \"holdout\" set using the output from the training set. "
   ]
  },
  {
   "cell_type": "code",
   "execution_count": 42,
   "metadata": {
    "collapsed": false
   },
   "outputs": [
    {
     "ename": "ValueError",
     "evalue": "shapes (93403,23) and (118316,38) not aligned: 23 (dim 1) != 118316 (dim 0)",
     "output_type": "error",
     "traceback": [
      "\u001b[0;31m---------------------------------------------------------------------------\u001b[0m",
      "\u001b[0;31mValueError\u001b[0m                                Traceback (most recent call last)",
      "\u001b[0;32m<ipython-input-42-0e2d3f704c36>\u001b[0m in \u001b[0;36m<module>\u001b[0;34m()\u001b[0m\n\u001b[0;32m----> 1\u001b[0;31m \u001b[0my_pred\u001b[0m \u001b[1;33m=\u001b[0m \u001b[0mmodel1\u001b[0m\u001b[1;33m.\u001b[0m\u001b[0mpredict\u001b[0m\u001b[1;33m(\u001b[0m\u001b[0mtest_set_x\u001b[0m\u001b[1;33m)\u001b[0m\u001b[1;33m\u001b[0m\u001b[0m\n\u001b[0m\u001b[1;32m      2\u001b[0m \u001b[0my_true\u001b[0m \u001b[1;33m=\u001b[0m \u001b[0mtest_set_y\u001b[0m\u001b[1;33m\u001b[0m\u001b[0m\n\u001b[1;32m      3\u001b[0m \u001b[1;33m\u001b[0m\u001b[0m\n\u001b[1;32m      4\u001b[0m \u001b[0my_pred\u001b[0m\u001b[1;33m\u001b[0m\u001b[0m\n",
      "\u001b[0;32mC:\\Users\\h\\Anaconda3\\lib\\site-packages\\statsmodels\\regression\\linear_model.py\u001b[0m in \u001b[0;36mpredict\u001b[0;34m(self, params, exog)\u001b[0m\n\u001b[1;32m    357\u001b[0m         \u001b[1;32mif\u001b[0m \u001b[0mexog\u001b[0m \u001b[1;32mis\u001b[0m \u001b[1;32mNone\u001b[0m\u001b[1;33m:\u001b[0m\u001b[1;33m\u001b[0m\u001b[0m\n\u001b[1;32m    358\u001b[0m             \u001b[0mexog\u001b[0m \u001b[1;33m=\u001b[0m \u001b[0mself\u001b[0m\u001b[1;33m.\u001b[0m\u001b[0mexog\u001b[0m\u001b[1;33m\u001b[0m\u001b[0m\n\u001b[0;32m--> 359\u001b[0;31m         \u001b[1;32mreturn\u001b[0m \u001b[0mnp\u001b[0m\u001b[1;33m.\u001b[0m\u001b[0mdot\u001b[0m\u001b[1;33m(\u001b[0m\u001b[0mexog\u001b[0m\u001b[1;33m,\u001b[0m \u001b[0mparams\u001b[0m\u001b[1;33m)\u001b[0m\u001b[1;33m\u001b[0m\u001b[0m\n\u001b[0m\u001b[1;32m    360\u001b[0m \u001b[1;33m\u001b[0m\u001b[0m\n\u001b[1;32m    361\u001b[0m \u001b[1;32mclass\u001b[0m \u001b[0mGLS\u001b[0m\u001b[1;33m(\u001b[0m\u001b[0mRegressionModel\u001b[0m\u001b[1;33m)\u001b[0m\u001b[1;33m:\u001b[0m\u001b[1;33m\u001b[0m\u001b[0m\n",
      "\u001b[0;31mValueError\u001b[0m: shapes (93403,23) and (118316,38) not aligned: 23 (dim 1) != 118316 (dim 0)"
     ]
    }
   ],
   "source": [
    "y_pred = model1.predict(test_set_x)\n",
    "y_true = test_set_y\n",
    "\n",
    "y_pred"
   ]
  },
  {
   "cell_type": "markdown",
   "metadata": {},
   "source": [
    "##  DEV NOTE add'l commentary here\n",
    "\n",
    "Now we calculate statistics intended to shed light on how well these predicted values reflect the actual values of the outcome features. "
   ]
  },
  {
   "cell_type": "code",
   "execution_count": null,
   "metadata": {
    "collapsed": true
   },
   "outputs": [],
   "source": [
    "## Explained mean absolute error\n",
    "mean_absolute_error(y_true, y_pred)"
   ]
  },
  {
   "cell_type": "markdown",
   "metadata": {},
   "source": [
    "Explained mean absolute error is \"a quantity used to measure how close forecasts or predictions are to the eventual outcomes.\" Read more [here.](https://www.kaggle.com/wiki/MeanAbsoluteError). "
   ]
  },
  {
   "cell_type": "code",
   "execution_count": null,
   "metadata": {
    "collapsed": true
   },
   "outputs": [],
   "source": [
    "## Explained mean square error\n",
    "mean_squared_error(y_true, y_pred)"
   ]
  },
  {
   "cell_type": "markdown",
   "metadata": {},
   "source": [
    "Explained mean squared error is .... "
   ]
  }
 ],
 "metadata": {
  "kernelspec": {
   "display_name": "Python 3",
   "language": "python",
   "name": "python3"
  },
  "language_info": {
   "codemirror_mode": {
    "name": "ipython",
    "version": 3
   },
   "file_extension": ".py",
   "mimetype": "text/x-python",
   "name": "python",
   "nbconvert_exporter": "python",
   "pygments_lexer": "ipython3",
   "version": "3.6.0"
  }
 },
 "nbformat": 4,
 "nbformat_minor": 2
}
