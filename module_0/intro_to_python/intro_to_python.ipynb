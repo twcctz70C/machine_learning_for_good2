{
 "cells": [
  {
   "cell_type": "code",
   "execution_count": 1,
   "metadata": {
    "collapsed": true
   },
   "outputs": [],
   "source": [
    "# 1. Basic Data Types: Numbers, Booleans, and Strings"
   ]
  },
  {
   "cell_type": "code",
   "execution_count": 2,
   "metadata": {
    "collapsed": false
   },
   "outputs": [
    {
     "name": "stdout",
     "output_type": "stream",
     "text": [
      "<type 'int'>\n",
      "5\n"
     ]
    }
   ],
   "source": [
    "# 1.1 Numbers\n",
    "a = 5\n",
    "\n",
    "# Note: use the `type()` function to get the type of a variable\n",
    "# Numbers can be integers ('int'), such as 3, 5 and 3049, or floats\n",
    "# ('float'), such as 2.5, 3.1, and 2.34938493\n",
    "print type(a)\n",
    "print a"
   ]
  },
  {
   "cell_type": "code",
   "execution_count": 16,
   "metadata": {
    "collapsed": false
   },
   "outputs": [
    {
     "name": "stdout",
     "output_type": "stream",
     "text": [
      "27\n",
      "25\n",
      "52\n",
      "13\n",
      "676\n",
      "27\n",
      "54\n"
     ]
    }
   ],
   "source": [
    "# Operators: +, -, *, /, **\n",
    "b = a + 1\n",
    "print b\n",
    "c = a - 1\n",
    "print c\n",
    "d = a * 2\n",
    "print d\n",
    "e = a / 2\n",
    "print e\n",
    "# Note: ** is the exponention operator\n",
    "f = a ** 2\n",
    "print f\n",
    "\n",
    "### Shorthand mathematical operators\n",
    "a += 1\n",
    "print a\n",
    "a *= 2\n",
    "print a"
   ]
  },
  {
   "cell_type": "code",
   "execution_count": 5,
   "metadata": {
    "collapsed": false
   },
   "outputs": [
    {
     "name": "stdout",
     "output_type": "stream",
     "text": [
      "<type 'bool'>\n"
     ]
    }
   ],
   "source": [
    "## 1.2 Booleans & Logic Operators\n",
    "im_true = True\n",
    "im_false = False\n",
    "\n",
    "print type(im_true) # this will return 'bool'"
   ]
  },
  {
   "cell_type": "code",
   "execution_count": 6,
   "metadata": {
    "collapsed": false
   },
   "outputs": [
    {
     "name": "stdout",
     "output_type": "stream",
     "text": [
      "False\n",
      "True\n"
     ]
    }
   ],
   "source": [
    "# Equality operators\n",
    "print im_true == im_false # Equality operator\n",
    "print im_true != im_false"
   ]
  },
  {
   "cell_type": "code",
   "execution_count": 7,
   "metadata": {
    "collapsed": false
   },
   "outputs": [
    {
     "name": "stdout",
     "output_type": "stream",
     "text": [
      "False\n"
     ]
    }
   ],
   "source": [
    "# The `and` operator requires that the variables on each side of the\n",
    "# operator are equal to true\n",
    "print im_true and im_false # Will return false"
   ]
  },
  {
   "cell_type": "code",
   "execution_count": 8,
   "metadata": {
    "collapsed": false
   },
   "outputs": [
    {
     "name": "stdout",
     "output_type": "stream",
     "text": [
      "True\n"
     ]
    }
   ],
   "source": [
    "# The `or` operator only requires the ONE of the variables on each\n",
    "# side of the operator to be true.\n",
    "print im_true or im_false # will return true"
   ]
  },
  {
   "cell_type": "code",
   "execution_count": 9,
   "metadata": {
    "collapsed": false
   },
   "outputs": [
    {
     "name": "stdout",
     "output_type": "stream",
     "text": [
      "delta analytics\n"
     ]
    }
   ],
   "source": [
    "## 1.3 Strings\n",
    "# You can use single or double quotes for strings.\n",
    "my_string = 'delta'\n",
    "my_other_string = \"analytics\"\n",
    "print my_string, my_other_string # both are valid"
   ]
  },
  {
   "cell_type": "code",
   "execution_count": 12,
   "metadata": {
    "collapsed": false
   },
   "outputs": [
    {
     "name": "stdout",
     "output_type": "stream",
     "text": [
      "hello, delta analytics\n"
     ]
    }
   ],
   "source": [
    "# Concatenating strings\n",
    "another_string = 'hello, ' + my_string + \" \" + my_other_string\n",
    "print another_string"
   ]
  },
  {
   "cell_type": "code",
   "execution_count": 13,
   "metadata": {
    "collapsed": false
   },
   "outputs": [
    {
     "name": "stdout",
     "output_type": "stream",
     "text": [
      "22\n"
     ]
    }
   ],
   "source": [
    "# Get the length of the string\n",
    "print len(another_string)"
   ]
  },
  {
   "cell_type": "code",
   "execution_count": 17,
   "metadata": {
    "collapsed": true
   },
   "outputs": [],
   "source": [
    "# 2. Container Data Types"
   ]
  },
  {
   "cell_type": "code",
   "execution_count": 18,
   "metadata": {
    "collapsed": false
   },
   "outputs": [
    {
     "name": "stdout",
     "output_type": "stream",
     "text": [
      "['a', 'b', 'c', 3485]\n",
      "c\n",
      "a\n",
      "['delta', 'b', 'c', 3485]\n",
      "['delta', 'b', 'c', 3485, 'hello']\n",
      "['delta', 'b', 'c', 3485]\n",
      "['delta', 'b']\n",
      "['c', 3485]\n",
      "['delta', 'b']\n"
     ]
    }
   ],
   "source": [
    "# 2.1 Lists\n",
    "# A Python `list` stores multiple elements, which can be different types\n",
    "my_list = ['a', 'b', 'c', 3485]\n",
    "print my_list"
   ]
  },
  {
   "cell_type": "code",
   "execution_count": 19,
   "metadata": {
    "collapsed": false
   },
   "outputs": [
    {
     "name": "stdout",
     "output_type": "stream",
     "text": [
      "c\n",
      "delta\n"
     ]
    }
   ],
   "source": [
    "# You can access an element in a list with the following syntax:\n",
    "# Note: the first element in a list has an index of zero.\n",
    "print my_list[2]\n",
    "print my_list[0]"
   ]
  },
  {
   "cell_type": "code",
   "execution_count": 20,
   "metadata": {
    "collapsed": false
   },
   "outputs": [
    {
     "name": "stdout",
     "output_type": "stream",
     "text": [
      "['delta', 'b', 'c', 3485]\n"
     ]
    }
   ],
   "source": [
    "# Reassigning elements in a list\n",
    "my_list[0] = 'delta'\n",
    "print my_list"
   ]
  },
  {
   "cell_type": "code",
   "execution_count": 21,
   "metadata": {
    "collapsed": false
   },
   "outputs": [
    {
     "name": "stdout",
     "output_type": "stream",
     "text": [
      "['delta', 'b', 'c', 3485, 'hello']\n",
      "['delta', 'b', 'c', 3485]\n"
     ]
    }
   ],
   "source": [
    "# Adding/removing elements from a list\n",
    "my_list.append('hello')\n",
    "print my_list\n",
    "\n",
    "my_list.pop()\n",
    "print my_list"
   ]
  },
  {
   "cell_type": "code",
   "execution_count": 22,
   "metadata": {
    "collapsed": false
   },
   "outputs": [
    {
     "name": "stdout",
     "output_type": "stream",
     "text": [
      "['delta', 'b']\n",
      "['c', 3485]\n",
      "['delta', 'b']\n"
     ]
    }
   ],
   "source": [
    "# Accessing multiple elements in a list\n",
    "print my_list[0:2] # Access elements in index 0, 1 and 2\n",
    "print my_list[2:] # Access elements from index 2 to the end\n",
    "print my_list[:2] # Access elements from the beginning to index 2"
   ]
  },
  {
   "cell_type": "code",
   "execution_count": 25,
   "metadata": {
    "collapsed": false
   },
   "outputs": [
    {
     "name": "stdout",
     "output_type": "stream",
     "text": [
      "value_one\n",
      "world\n"
     ]
    }
   ],
   "source": [
    "# 2.2 Dictionaries\n",
    "# Dictionaries hold key/value pairs\n",
    "my_dict = { 'key_one': 'value_one', 'hello': 'world' }\n",
    "\n",
    "# Access a value\n",
    "print my_dict['key_one']\n",
    "print my_dict['hello']"
   ]
  },
  {
   "cell_type": "code",
   "execution_count": 28,
   "metadata": {
    "collapsed": false
   },
   "outputs": [
    {
     "name": "stdout",
     "output_type": "stream",
     "text": [
      "The key is key_one\n",
      "The key is hello\n",
      "The key is key_one, and the value is value_one\n",
      "The key is hello, and the value is world\n"
     ]
    }
   ],
   "source": [
    "# Loop over a dictionary\n",
    "for key in my_dict:\n",
    "    print \"The key is \" + key\n",
    "    \n",
    "# Note the .iteritems() method!\n",
    "for key, value in my_dict.iteritems():\n",
    "    print \"The key is \" + key + \", and the value is \" + value"
   ]
  },
  {
   "cell_type": "code",
   "execution_count": 29,
   "metadata": {
    "collapsed": false
   },
   "outputs": [
    {
     "name": "stdout",
     "output_type": "stream",
     "text": [
      "set([1, 2, 3, 'hello'])\n"
     ]
    }
   ],
   "source": [
    "# 2.3 Sets\n",
    "# Sets are similar to lists, but can only contain distinct values.\n",
    "valid_set = {1, 2, 3, 'hello'}\n",
    "print valid_set"
   ]
  },
  {
   "cell_type": "code",
   "execution_count": 30,
   "metadata": {
    "collapsed": false
   },
   "outputs": [
    {
     "name": "stdout",
     "output_type": "stream",
     "text": [
      "set([1, 2, 3, 'hello'])\n"
     ]
    }
   ],
   "source": [
    "# When defining a set with the same value present multiple times,\n",
    "# only one element will be added to the set. For example:\n",
    "multiple = {1, 2, 2, 2, 2, 2, 3, 'hello'}\n",
    "print multiple # This will return {1, 2, 3, 'hello'}"
   ]
  },
  {
   "cell_type": "code",
   "execution_count": 1,
   "metadata": {
    "collapsed": true
   },
   "outputs": [],
   "source": [
    "# 3. Functions\n",
    "# A function is a block of reusable code that performs a certain\n",
    "# action. Once you've defined a function, you can use it anywhere\n",
    "# in your code!\n",
    "\n",
    "# Defining a function:\n",
    "def am_i_happy(happiness_level):\n",
    "  if happiness_level >= 10:\n",
    "    return \"You're very happy.\"\n",
    "  elif happiness_level >= 5:\n",
    "    return \"You're happy.\"\n",
    "  else:\n",
    "    return \"You're not happy.\""
   ]
  },
  {
   "cell_type": "code",
   "execution_count": 32,
   "metadata": {
    "collapsed": false
   },
   "outputs": [
    {
     "name": "stdout",
     "output_type": "stream",
     "text": [
      "You're happy.\n",
      "You're not happy.\n"
     ]
    }
   ],
   "source": [
    "# Calling a function:\n",
    "print am_i_happy(5)\n",
    "print am_i_happy(0)"
   ]
  },
  {
   "cell_type": "code",
   "execution_count": 2,
   "metadata": {
    "collapsed": true
   },
   "outputs": [],
   "source": [
    "# 4. Control Flow"
   ]
  },
  {
   "cell_type": "code",
   "execution_count": 3,
   "metadata": {
    "collapsed": false
   },
   "outputs": [
    {
     "name": "stdout",
     "output_type": "stream",
     "text": [
      "Take a nap\n"
     ]
    }
   ],
   "source": [
    "# 4.1 If/Else If/Else\n",
    "\n",
    "sleepy = True\n",
    "hungry = False\n",
    "\n",
    "if sleepy and hungry:\n",
    "    print \"Eat a snack and take a nap.\"\n",
    "elif sleepy and not hungry:\n",
    "    print \"Take a nap\"\n",
    "elif hungry and not sleepy:\n",
    "    print \"Eat a snack\"\n",
    "else:\n",
    "    print \"Go on with your day\""
   ]
  },
  {
   "cell_type": "code",
   "execution_count": 10,
   "metadata": {
    "collapsed": false
   },
   "outputs": [
    {
     "name": "stdout",
     "output_type": "stream",
     "text": [
      "You have counted to 0\n",
      "You have counted to 1\n",
      "You have counted to 2\n",
      "You have counted to 3\n",
      "You have counted to 4\n",
      "You have counted to 5\n",
      "You have counted to 6\n",
      "You have counted to 7\n",
      "You have counted to 8\n",
      "You have counted to 9\n",
      "You're finished counting\n"
     ]
    }
   ],
   "source": [
    "# 4.2 Loops\n",
    "# 4.2.1 'while' loops\n",
    "\n",
    "counter = 0\n",
    "while (counter < 10):\n",
    "    print \"You have counted to\", counter\n",
    "    counter = counter + 1 # Increment the counter\n",
    "    \n",
    "print \"You're finished counting\""
   ]
  },
  {
   "cell_type": "code",
   "execution_count": 12,
   "metadata": {
    "collapsed": false
   },
   "outputs": [
    {
     "name": "stdout",
     "output_type": "stream",
     "text": [
      "cats are cool\n",
      "dogs are cool\n",
      "lions are cool\n",
      "bears are cool\n"
     ]
    }
   ],
   "source": [
    "# 4.2.2 'for' loops\n",
    "# Loop over a list\n",
    "\n",
    "cool_animals = ['cat', 'dog', 'lion', 'bear']\n",
    "\n",
    "for element in cool_animals:\n",
    "    print element + \"s are cool\""
   ]
  },
  {
   "cell_type": "code",
   "execution_count": 15,
   "metadata": {
    "collapsed": false
   },
   "outputs": [
    {
     "name": "stdout",
     "output_type": "stream",
     "text": [
      "The pig says oink!\n",
      "The dog says bark!\n",
      "The cat says meow!\n"
     ]
    }
   ],
   "source": [
    "# Loop over a dict\n",
    "\n",
    "animal_sounds = {\n",
    "    'dog': 'bark',\n",
    "    'cat': 'meow',\n",
    "    'pig': 'oink'\n",
    "}\n",
    "\n",
    "for animal, sound in animal_sounds.iteritems():\n",
    "    print \"The \" + animal + \" says \" + sound + \"!\""
   ]
  },
  {
   "cell_type": "code",
   "execution_count": null,
   "metadata": {
    "collapsed": true
   },
   "outputs": [],
   "source": []
  }
 ],
 "metadata": {
  "kernelspec": {
   "display_name": "Python 2",
   "language": "python",
   "name": "python2"
  },
  "language_info": {
   "codemirror_mode": {
    "name": "ipython",
    "version": 2
   },
   "file_extension": ".py",
   "mimetype": "text/x-python",
   "name": "python",
   "nbconvert_exporter": "python",
   "pygments_lexer": "ipython2",
   "version": "2.7.11"
  }
 },
 "nbformat": 4,
 "nbformat_minor": 1
}
