{
 "cells": [
  {
   "cell_type": "markdown",
   "metadata": {},
   "source": [
    "# Retrieving data from Kiva API"
   ]
  },
  {
   "cell_type": "markdown",
   "metadata": {},
   "source": [
    "We will be using [KIVA](https://www.kiva.org/) data for the entirety of this course. Kiva makes it's data publically available through it's [API](http://build.kiva.org/). \n",
    "\n",
    "Not sure what an API is? It stands for Application Program Interface. Code Academy has a fantastic short course (link [here](https://www.codecademy.com/en/tracks/placekitten) that introduces you to APIs and allows you to pull images of kittens from a website by the end of the session.\n",
    "\n",
    "Below, we import the packages we need in order to retrieve data from the API."
   ]
  },
  {
   "cell_type": "code",
   "execution_count": 119,
   "metadata": {
    "collapsed": false
   },
   "outputs": [],
   "source": [
    "from urllib.request import urlopen, Request\n",
    "import json\n",
    "from pandas.io.json import json_normalize\n",
    "import pandas as pd\n",
    "import json\n",
    "import requests as r\n",
    "import os\n",
    "import logging"
   ]
  },
  {
   "cell_type": "markdown",
   "metadata": {},
   "source": [
    "The cell below enables Jupyter to show the output of multiple cells at once. There are a lot of cool jupyter specific commands to allow you to work faster. [Here](https://www.dataquest.io/blog/jupyter-notebook-tips-tricks-shortcuts/) is a great article that goes through some less well known shortcuts and tricks."
   ]
  },
  {
   "cell_type": "code",
   "execution_count": null,
   "metadata": {
    "collapsed": true
   },
   "outputs": [],
   "source": [
    "from IPython.core.interactiveshell import InteractiveShell\n",
    "InteractiveShell.ast_node_interactivity = \"all\""
   ]
  },
  {
   "cell_type": "markdown",
   "metadata": {},
   "source": [
    "In the cell below we set the maximum number of columns to 100 so we can see our entire data set. If we did not set this option, we would not be able to see some columns in our dataset."
   ]
  },
  {
   "cell_type": "code",
   "execution_count": 100,
   "metadata": {
    "collapsed": false
   },
   "outputs": [],
   "source": [
    "pd.set_option('display.max_columns', 100) "
   ]
  },
  {
   "cell_type": "markdown",
   "metadata": {},
   "source": [
    "Using % in the section below indicates a magic command. You can find out more about magic commands [here](https://ipython.org/ipython-doc/3/interactive/magics.html). To see all available magic commands run this line of code:\n",
    "\n",
    "`%lsmagic`\n",
    "\n",
    "Using the % in the block of code below allows us to run commands on the terminal from within jupyter. We make a folder in our user directory where we will store the data we retrieve from the api."
   ]
  },
  {
   "cell_type": "code",
   "execution_count": null,
   "metadata": {
    "collapsed": true
   },
   "outputs": [],
   "source": [
    "% mkdir ~/_intro_machine_learning_course\n",
    "% cd ~/_intro_machine_learning_course\n",
    "% pwd\n",
    "% ls"
   ]
  },
  {
   "cell_type": "markdown",
   "metadata": {},
   "source": [
    "In the line below, we create a data cache. A cache is a great way to store data, when it is costly to retrive it from scratch every time."
   ]
  },
  {
   "cell_type": "code",
   "execution_count": null,
   "metadata": {
    "collapsed": true
   },
   "outputs": [],
   "source": [
    "store = pd.HDFStore('kiva_cache.h5')"
   ]
  },
  {
   "cell_type": "markdown",
   "metadata": {},
   "source": [
    "There is great documentation on Kiva's API [here](http://build.kiva.org/api). The documentation explains what parameters (conditions) we need to pass in our request to Kiva's database in order to get the data we want.\n",
    "\n",
    "We are trying to retrive all Kiva data from Kenya. So we will be using two main parameters where we set country_code=KE (KE is the two letter [ISO](https://en.wikipedia.org/wiki/ISO_3166-2) code for Kenya), and we increase the results per page to 500 (this is the maximum KIVAs API appears to allow). You can see the HTML results of the api call by pasting the url below into your browser, HTML is a format that is really easy to read.\n",
    "\n",
    "http://api.kivaws.org/v1/loans/search/?country_code=KE&per_page=500\n",
    "\n",
    "1) Go ahead and play with the url in order to retrieve different data. For example, how would you retrieve data from South Africa (ZA)?\n",
    "\n",
    "2) How would you only retrive 200 results?\n",
    "\n",
    "Answers:\n",
    "\n",
    "1) http://api.kivaws.org/v1/loans/search/?country_code=ZA&per_page=500\n",
    "\n",
    "2)  http://api.kivaws.org/v1/loans/search/?country_code=ZA&per_page=200\n",
    "\n"
   ]
  },
  {
   "cell_type": "markdown",
   "metadata": {
    "collapsed": true
   },
   "source": [
    "We want to request this data from the api and store it in a format that is more intuitive to us - a dataframe. Let's get started. The code below retrieves the first 500 results and converts it into a pandas dataframe. You will get to know a lot more about dataframes over the next few classes."
   ]
  },
  {
   "cell_type": "code",
   "execution_count": 52,
   "metadata": {
    "collapsed": true
   },
   "outputs": [],
   "source": [
    "d = r.get('http://api.kivaws.org/v1/loans/search.json?country_code=KE&per_page=500')"
   ]
  },
  {
   "cell_type": "markdown",
   "metadata": {},
   "source": [
    "Notice that in the request above we specify json as the type of text we want returned. This is easier to handle and change into a python dataframe. You can past the link into your browser to understand the difference between [JSON](https://en.wikipedia.org/wiki/JSON) and [HTML](https://en.wikipedia.org/wiki/HTML)."
   ]
  },
  {
   "cell_type": "markdown",
   "metadata": {},
   "source": [
    "By running d.headers below we can see all the data associated with our request. It shows the time of our request, the fact that we are requesting json text 'Content-Type': 'application/json; charset=UTF-8', in addition to other details."
   ]
  },
  {
   "cell_type": "code",
   "execution_count": 53,
   "metadata": {
    "collapsed": false
   },
   "outputs": [
    {
     "data": {
      "text/plain": [
       "{'Date': 'Wed, 03 May 2017 23:56:20 GMT', 'Server': 'Apache/2.4.7 (Ubuntu)', 'Access-Control-Allow-Origin': '*', 'Expires': 'Tue, 03 Jul 2001 06:00:00 GMT', 'Last-Modified': 'Wed, 03 May 2017 23:56:20 GMT', 'Cache-Control': 'private, no-store, no-cache, must-revalidate, max-age=0, post-check=0, pre-check=0, proxy-revalidate, no-transform', 'Pragma': 'no-cache', 'X-RateLimit-Overall-Limit': '60', 'X-RateLimit-Overall-Remaining': '60', 'Vary': 'Accept-Encoding', 'Content-Encoding': 'gzip', 'Content-Length': '26111', 'Content-Type': 'application/json; charset=UTF-8'}"
      ]
     },
     "execution_count": 53,
     "metadata": {},
     "output_type": "execute_result"
    }
   ],
   "source": [
    "d.headers"
   ]
  },
  {
   "cell_type": "markdown",
   "metadata": {},
   "source": [
    "By running the command d.json() below we can get an idea of what our data looks like before we change it into a pandas data frame. In order to see the output, remove the `;` from the end of the codeblock. We have added the `;` to supress output for easier reading in our repo."
   ]
  },
  {
   "cell_type": "code",
   "execution_count": 186,
   "metadata": {
    "collapsed": false
   },
   "outputs": [],
   "source": [
    "d.json();"
   ]
  },
  {
   "cell_type": "markdown",
   "metadata": {},
   "source": [
    "`json.loads` turns the json object into a python object."
   ]
  },
  {
   "cell_type": "code",
   "execution_count": 60,
   "metadata": {
    "collapsed": true
   },
   "outputs": [],
   "source": [
    "data = json.loads(d.text)"
   ]
  },
  {
   "cell_type": "markdown",
   "metadata": {},
   "source": [
    "`json_normalize` normalizes semi-structured json data into a flat table"
   ]
  },
  {
   "cell_type": "code",
   "execution_count": 61,
   "metadata": {
    "collapsed": true
   },
   "outputs": [],
   "source": [
    "loans=json_normalize(data['loans'])"
   ]
  },
  {
   "cell_type": "code",
   "execution_count": 62,
   "metadata": {
    "collapsed": false
   },
   "outputs": [
    {
     "data": {
      "text/html": [
       "<div>\n",
       "<table border=\"1\" class=\"dataframe\">\n",
       "  <thead>\n",
       "    <tr style=\"text-align: right;\">\n",
       "      <th></th>\n",
       "      <th>activity</th>\n",
       "      <th>basket_amount</th>\n",
       "      <th>bonus_credit_eligibility</th>\n",
       "      <th>borrower_count</th>\n",
       "      <th>description.languages</th>\n",
       "      <th>funded_amount</th>\n",
       "      <th>id</th>\n",
       "      <th>image.id</th>\n",
       "      <th>image.template_id</th>\n",
       "      <th>lender_count</th>\n",
       "      <th>...</th>\n",
       "      <th>location.town</th>\n",
       "      <th>name</th>\n",
       "      <th>partner_id</th>\n",
       "      <th>planned_expiration_date</th>\n",
       "      <th>posted_date</th>\n",
       "      <th>sector</th>\n",
       "      <th>status</th>\n",
       "      <th>tags</th>\n",
       "      <th>themes</th>\n",
       "      <th>use</th>\n",
       "    </tr>\n",
       "  </thead>\n",
       "  <tbody>\n",
       "    <tr>\n",
       "      <th>0</th>\n",
       "      <td>General Store</td>\n",
       "      <td>NaN</td>\n",
       "      <td>False</td>\n",
       "      <td>1</td>\n",
       "      <td>[en]</td>\n",
       "      <td>300</td>\n",
       "      <td>1281723</td>\n",
       "      <td>2497094</td>\n",
       "      <td>1</td>\n",
       "      <td>11</td>\n",
       "      <td>...</td>\n",
       "      <td>Kapsabet</td>\n",
       "      <td>Patrick</td>\n",
       "      <td>133</td>\n",
       "      <td>2017-05-28T04:50:02Z</td>\n",
       "      <td>2017-04-28T04:50:02Z</td>\n",
       "      <td>Retail</td>\n",
       "      <td>funded</td>\n",
       "      <td>[{'name': '#Widowed'}, {'name': '#Elderly'}, {...</td>\n",
       "      <td>NaN</td>\n",
       "      <td>to purchase maize seeds, fertilizers, sugar an...</td>\n",
       "    </tr>\n",
       "    <tr>\n",
       "      <th>1</th>\n",
       "      <td>Farming</td>\n",
       "      <td>NaN</td>\n",
       "      <td>False</td>\n",
       "      <td>1</td>\n",
       "      <td>[en]</td>\n",
       "      <td>100</td>\n",
       "      <td>1281570</td>\n",
       "      <td>2502890</td>\n",
       "      <td>1</td>\n",
       "      <td>4</td>\n",
       "      <td>...</td>\n",
       "      <td>Kitale</td>\n",
       "      <td>Rabecca</td>\n",
       "      <td>156</td>\n",
       "      <td>2017-05-28T02:20:02Z</td>\n",
       "      <td>2017-04-28T02:20:02Z</td>\n",
       "      <td>Agriculture</td>\n",
       "      <td>funded</td>\n",
       "      <td>[{'name': '#Parent'}]</td>\n",
       "      <td>[Rural Exclusion]</td>\n",
       "      <td>to buy fertilizers, pesticides and herbicides.</td>\n",
       "    </tr>\n",
       "    <tr>\n",
       "      <th>2</th>\n",
       "      <td>Farming</td>\n",
       "      <td>0.0</td>\n",
       "      <td>False</td>\n",
       "      <td>1</td>\n",
       "      <td>[en]</td>\n",
       "      <td>0</td>\n",
       "      <td>1281588</td>\n",
       "      <td>2502914</td>\n",
       "      <td>1</td>\n",
       "      <td>0</td>\n",
       "      <td>...</td>\n",
       "      <td>Kitale</td>\n",
       "      <td>Grace</td>\n",
       "      <td>156</td>\n",
       "      <td>2017-05-27T23:40:05Z</td>\n",
       "      <td>2017-04-27T23:40:05Z</td>\n",
       "      <td>Agriculture</td>\n",
       "      <td>fundraising</td>\n",
       "      <td>[{'name': '#Woman Owned Biz'}]</td>\n",
       "      <td>[Rural Exclusion]</td>\n",
       "      <td>to buy fertilizers, pesticides and herbicides.</td>\n",
       "    </tr>\n",
       "  </tbody>\n",
       "</table>\n",
       "<p>3 rows × 26 columns</p>\n",
       "</div>"
      ],
      "text/plain": [
       "        activity  basket_amount bonus_credit_eligibility  borrower_count  \\\n",
       "0  General Store            NaN                    False               1   \n",
       "1        Farming            NaN                    False               1   \n",
       "2        Farming            0.0                    False               1   \n",
       "\n",
       "  description.languages  funded_amount       id  image.id  image.template_id  \\\n",
       "0                  [en]            300  1281723   2497094                  1   \n",
       "1                  [en]            100  1281570   2502890                  1   \n",
       "2                  [en]              0  1281588   2502914                  1   \n",
       "\n",
       "   lender_count                        ...                          \\\n",
       "0            11                        ...                           \n",
       "1             4                        ...                           \n",
       "2             0                        ...                           \n",
       "\n",
       "   location.town     name partner_id planned_expiration_date  \\\n",
       "0       Kapsabet  Patrick        133    2017-05-28T04:50:02Z   \n",
       "1         Kitale  Rabecca        156    2017-05-28T02:20:02Z   \n",
       "2         Kitale    Grace        156    2017-05-27T23:40:05Z   \n",
       "\n",
       "            posted_date       sector       status  \\\n",
       "0  2017-04-28T04:50:02Z       Retail       funded   \n",
       "1  2017-04-28T02:20:02Z  Agriculture       funded   \n",
       "2  2017-04-27T23:40:05Z  Agriculture  fundraising   \n",
       "\n",
       "                                                tags             themes  \\\n",
       "0  [{'name': '#Widowed'}, {'name': '#Elderly'}, {...                NaN   \n",
       "1                              [{'name': '#Parent'}]  [Rural Exclusion]   \n",
       "2                     [{'name': '#Woman Owned Biz'}]  [Rural Exclusion]   \n",
       "\n",
       "                                                 use  \n",
       "0  to purchase maize seeds, fertilizers, sugar an...  \n",
       "1     to buy fertilizers, pesticides and herbicides.  \n",
       "2     to buy fertilizers, pesticides and herbicides.  \n",
       "\n",
       "[3 rows x 26 columns]"
      ]
     },
     "execution_count": 62,
     "metadata": {},
     "output_type": "execute_result"
    }
   ],
   "source": [
    "loans.head(3)"
   ]
  },
  {
   "cell_type": "markdown",
   "metadata": {},
   "source": [
    "We have now extracted the first 500 rows of loans from the API. We can confirm how many rows we have in a dataset using the len() function below. Now, we need to extract this data more systematically for all Kenyan loan results. KIVA has a parameter called page but does not allow for range of pages, so we will have to create a python loop to go through each page of results and add to our dataset."
   ]
  },
  {
   "cell_type": "code",
   "execution_count": 63,
   "metadata": {
    "collapsed": false
   },
   "outputs": [
    {
     "data": {
      "text/plain": [
       "500"
      ]
     },
     "execution_count": 63,
     "metadata": {},
     "output_type": "execute_result"
    }
   ],
   "source": [
    "len(loans.index)"
   ]
  },
  {
   "cell_type": "markdown",
   "metadata": {},
   "source": [
    "In the function defined below we are doing a few things. Firstly, we create an empty dataframe, then we loop through each page and call the api. We add the results of each page to our dataframe."
   ]
  },
  {
   "cell_type": "code",
   "execution_count": 165,
   "metadata": {
    "collapsed": false
   },
   "outputs": [],
   "source": [
    "def extract_loans(pages,country_iso_code):\n",
    "    loans_full=pd.DataFrame()\n",
    "    for n in range(1, pages+1):\n",
    "        s=str(n)\n",
    "        print(s)\n",
    "        d = r.get('http://api.kivaws.org/v1/loans/search.json?country_code='+country_iso_code+'&per_page=500&page='+s)\n",
    "        data = json.loads(d.text)\n",
    "        loans=json_normalize(data['loans'])\n",
    "        loans_full=loans_full.append(loans,ignore_index=True)\n",
    "        print(len(loans_full.index)) \n",
    "        \n",
    "    return loans_full"
   ]
  },
  {
   "cell_type": "code",
   "execution_count": 167,
   "metadata": {
    "collapsed": false,
    "scrolled": true
   },
   "outputs": [
    {
     "name": "stdout",
     "output_type": "stream",
     "text": [
      "1\n",
      "500\n",
      "2\n",
      "1000\n",
      "3\n",
      "1500\n",
      "4\n",
      "2000\n",
      "5\n",
      "2500\n",
      "6\n",
      "3000\n",
      "7\n",
      "3500\n",
      "8\n",
      "4000\n",
      "9\n",
      "4500\n",
      "10\n",
      "5000\n",
      "11\n",
      "5500\n",
      "12\n",
      "6000\n",
      "13\n",
      "6500\n",
      "14\n",
      "7000\n",
      "15\n",
      "7500\n",
      "16\n",
      "8000\n",
      "17\n",
      "8500\n",
      "18\n",
      "9000\n",
      "19\n",
      "9500\n",
      "20\n",
      "10000\n",
      "21\n",
      "10500\n",
      "22\n",
      "11000\n",
      "23\n",
      "11500\n",
      "24\n",
      "12000\n",
      "25\n",
      "12500\n",
      "26\n",
      "13000\n",
      "27\n",
      "13500\n",
      "28\n",
      "14000\n",
      "29\n",
      "14500\n",
      "30\n",
      "15000\n",
      "31\n",
      "15500\n",
      "32\n",
      "16000\n",
      "33\n",
      "16500\n",
      "34\n",
      "17000\n",
      "35\n",
      "17500\n",
      "36\n",
      "18000\n",
      "37\n",
      "18500\n",
      "38\n",
      "19000\n",
      "39\n",
      "19500\n",
      "40\n",
      "20000\n",
      "41\n",
      "20500\n",
      "42\n",
      "21000\n",
      "43\n",
      "21500\n",
      "44\n",
      "22000\n",
      "45\n",
      "22500\n",
      "46\n",
      "23000\n",
      "47\n",
      "23500\n",
      "48\n",
      "24000\n",
      "49\n",
      "24500\n",
      "50\n",
      "25000\n",
      "51\n",
      "25500\n",
      "52\n",
      "26000\n",
      "53\n",
      "26500\n",
      "54\n",
      "27000\n",
      "55\n",
      "27500\n",
      "56\n",
      "28000\n",
      "57\n",
      "28500\n",
      "58\n",
      "29000\n",
      "59\n",
      "29500\n",
      "60\n",
      "30000\n",
      "61\n",
      "30500\n",
      "62\n",
      "31000\n",
      "63\n",
      "31500\n",
      "64\n",
      "32000\n",
      "65\n",
      "32500\n",
      "66\n",
      "33000\n",
      "67\n",
      "33500\n",
      "68\n",
      "34000\n",
      "69\n",
      "34500\n",
      "70\n",
      "35000\n",
      "71\n",
      "35500\n",
      "72\n",
      "36000\n",
      "73\n",
      "36500\n",
      "74\n",
      "37000\n",
      "75\n",
      "37500\n",
      "76\n",
      "38000\n",
      "77\n",
      "38500\n",
      "78\n",
      "39000\n",
      "79\n",
      "39500\n",
      "80\n",
      "40000\n",
      "81\n",
      "40500\n",
      "82\n",
      "41000\n",
      "83\n",
      "41500\n",
      "84\n",
      "42000\n",
      "85\n",
      "42500\n",
      "86\n",
      "43000\n",
      "87\n",
      "43500\n",
      "88\n",
      "44000\n",
      "89\n",
      "44500\n",
      "90\n",
      "45000\n",
      "91\n",
      "45500\n",
      "92\n",
      "46000\n",
      "93\n",
      "46500\n",
      "94\n",
      "47000\n",
      "95\n",
      "47500\n",
      "96\n",
      "48000\n",
      "97\n",
      "48500\n",
      "98\n",
      "49000\n",
      "99\n",
      "49500\n",
      "100\n",
      "50000\n",
      "101\n",
      "50500\n",
      "102\n",
      "51000\n",
      "103\n",
      "51500\n",
      "104\n",
      "52000\n",
      "105\n",
      "52500\n",
      "106\n",
      "53000\n",
      "107\n",
      "53500\n",
      "108\n",
      "54000\n",
      "109\n",
      "54500\n",
      "110\n",
      "55000\n",
      "111\n",
      "55500\n",
      "112\n",
      "56000\n",
      "113\n",
      "56500\n",
      "114\n",
      "57000\n",
      "115\n",
      "57500\n",
      "116\n",
      "58000\n",
      "117\n",
      "58500\n",
      "118\n",
      "59000\n",
      "119\n",
      "59500\n",
      "120\n",
      "60000\n",
      "121\n",
      "60500\n",
      "122\n",
      "61000\n",
      "123\n",
      "61500\n",
      "124\n",
      "62000\n",
      "125\n",
      "62500\n",
      "126\n",
      "63000\n",
      "127\n",
      "63500\n",
      "128\n",
      "64000\n",
      "129\n",
      "64500\n",
      "130\n",
      "65000\n",
      "131\n",
      "65500\n",
      "132\n",
      "66000\n",
      "133\n",
      "66500\n",
      "134\n",
      "67000\n",
      "135\n",
      "67500\n",
      "136\n",
      "68000\n",
      "137\n",
      "68500\n",
      "138\n",
      "69000\n",
      "139\n",
      "69500\n",
      "140\n",
      "70000\n",
      "141\n",
      "70500\n",
      "142\n",
      "71000\n",
      "143\n",
      "71500\n",
      "144\n",
      "72000\n",
      "145\n",
      "72500\n",
      "146\n",
      "73000\n",
      "147\n",
      "73500\n",
      "148\n",
      "74000\n",
      "149\n",
      "74500\n",
      "150\n",
      "75000\n",
      "151\n",
      "75500\n",
      "152\n",
      "76000\n",
      "153\n",
      "76500\n",
      "154\n",
      "77000\n",
      "155\n",
      "77500\n",
      "156\n",
      "78000\n",
      "157\n",
      "78500\n",
      "158\n",
      "79000\n",
      "159\n",
      "79500\n",
      "160\n",
      "80000\n",
      "161\n",
      "80500\n",
      "162\n",
      "81000\n",
      "163\n",
      "81500\n",
      "164\n",
      "82000\n",
      "165\n",
      "82500\n",
      "166\n",
      "83000\n",
      "167\n",
      "83500\n",
      "168\n",
      "84000\n",
      "169\n",
      "84500\n",
      "170\n",
      "85000\n",
      "171\n",
      "85500\n",
      "172\n",
      "86000\n",
      "173\n",
      "86500\n",
      "174\n",
      "87000\n",
      "175\n",
      "87500\n",
      "176\n",
      "88000\n",
      "177\n",
      "88500\n",
      "178\n",
      "89000\n",
      "179\n",
      "89500\n",
      "180\n",
      "90000\n",
      "181\n",
      "90500\n",
      "182\n",
      "91000\n",
      "183\n",
      "91500\n",
      "184\n",
      "92000\n",
      "185\n",
      "92500\n",
      "186\n",
      "93000\n",
      "187\n",
      "93500\n",
      "188\n",
      "94000\n",
      "189\n",
      "94500\n",
      "190\n",
      "95000\n",
      "191\n",
      "95500\n",
      "192\n",
      "96000\n",
      "193\n",
      "96500\n",
      "194\n",
      "97000\n",
      "195\n",
      "97500\n",
      "196\n",
      "98000\n",
      "197\n",
      "98500\n",
      "198\n",
      "99000\n",
      "199\n",
      "99500\n",
      "200\n",
      "100000\n",
      "201\n",
      "100500\n",
      "202\n",
      "101000\n",
      "203\n",
      "101500\n",
      "204\n",
      "102000\n",
      "205\n",
      "102500\n",
      "206\n",
      "103000\n",
      "207\n",
      "103500\n",
      "208\n",
      "104000\n",
      "209\n",
      "104500\n",
      "210\n",
      "105000\n",
      "211\n",
      "105500\n",
      "212\n",
      "106000\n",
      "213\n",
      "106500\n",
      "214\n",
      "107000\n",
      "215\n",
      "107500\n",
      "216\n",
      "108000\n",
      "217\n",
      "108500\n",
      "218\n",
      "109000\n",
      "219\n",
      "109500\n",
      "220\n",
      "110000\n",
      "221\n",
      "110500\n",
      "222\n",
      "111000\n",
      "223\n",
      "111500\n",
      "224\n",
      "112000\n",
      "225\n",
      "112500\n",
      "226\n",
      "113000\n",
      "227\n",
      "113500\n",
      "228\n",
      "114000\n",
      "229\n",
      "114500\n",
      "230\n",
      "115000\n",
      "231\n",
      "115500\n",
      "232\n",
      "116000\n",
      "233\n",
      "116500\n",
      "234\n",
      "117000\n",
      "235\n",
      "117500\n",
      "236\n",
      "118000\n",
      "237\n",
      "118500\n",
      "238\n",
      "119000\n",
      "239\n",
      "119500\n",
      "240\n",
      "120000\n",
      "241\n",
      "120500\n",
      "242\n",
      "121000\n",
      "243\n",
      "121500\n",
      "244\n",
      "122000\n",
      "245\n",
      "122500\n",
      "246\n",
      "123000\n",
      "247\n",
      "123500\n",
      "248\n",
      "124000\n",
      "249\n",
      "124500\n",
      "250\n",
      "125000\n",
      "251\n",
      "125500\n",
      "252\n",
      "126000\n",
      "253\n",
      "126500\n",
      "254\n",
      "127000\n",
      "255\n",
      "127500\n",
      "256\n",
      "127759\n"
     ]
    }
   ],
   "source": [
    "loans_full = extract_data(256,'KE')"
   ]
  },
  {
   "cell_type": "code",
   "execution_count": 169,
   "metadata": {
    "collapsed": true
   },
   "outputs": [],
   "source": [
    "loans_full.to_csv('~/loans_full.csv')"
   ]
  },
  {
   "cell_type": "code",
   "execution_count": 168,
   "metadata": {
    "collapsed": false,
    "scrolled": true
   },
   "outputs": [
    {
     "data": {
      "text/plain": [
       "127759"
      ]
     },
     "execution_count": 168,
     "metadata": {},
     "output_type": "execute_result"
    }
   ],
   "source": [
    "len(loans_full.index)"
   ]
  },
  {
   "cell_type": "code",
   "execution_count": 170,
   "metadata": {
    "collapsed": false
   },
   "outputs": [
    {
     "data": {
      "text/plain": [
       "1288927"
      ]
     },
     "execution_count": 170,
     "metadata": {},
     "output_type": "execute_result"
    }
   ],
   "source": [
    "# more comments of what is happening here - being unfamiliar with APIs, Im not sure what is happening\n",
    "w_lender=loans_full.loc[loans_full['lender_count'] >= 1]\n",
    "w_lender_list= w_lender['id'].tolist()\n",
    "w_lender_list[1]"
   ]
  },
  {
   "cell_type": "code",
   "execution_count": 174,
   "metadata": {
    "collapsed": true
   },
   "outputs": [],
   "source": [
    "d = r.get('http://api.kivaws.org/v1/loans/1288927/lenders.json')"
   ]
  },
  {
   "cell_type": "code",
   "execution_count": 175,
   "metadata": {
    "collapsed": true
   },
   "outputs": [],
   "source": [
    "data = json.loads(d.text)"
   ]
  },
  {
   "cell_type": "code",
   "execution_count": 187,
   "metadata": {
    "collapsed": false
   },
   "outputs": [],
   "source": [
    "d.json();"
   ]
  },
  {
   "cell_type": "code",
   "execution_count": 180,
   "metadata": {
    "collapsed": false
   },
   "outputs": [
    {
     "ename": "KeyError",
     "evalue": "'lenders'",
     "output_type": "error",
     "traceback": [
      "\u001b[0;31m---------------------------------------------------------------------------\u001b[0m",
      "\u001b[0;31mKeyError\u001b[0m                                  Traceback (most recent call last)",
      "\u001b[0;32m<ipython-input-180-c502373a4d5f>\u001b[0m in \u001b[0;36m<module>\u001b[0;34m()\u001b[0m\n\u001b[0;32m----> 1\u001b[0;31m \u001b[0mlenders\u001b[0m\u001b[0;34m=\u001b[0m\u001b[0mjson_normalize\u001b[0m\u001b[0;34m(\u001b[0m\u001b[0mdata\u001b[0m\u001b[0;34m[\u001b[0m\u001b[0;34m'lenders'\u001b[0m\u001b[0;34m]\u001b[0m\u001b[0;34m)\u001b[0m\u001b[0;34m\u001b[0m\u001b[0m\n\u001b[0m",
      "\u001b[0;31mKeyError\u001b[0m: 'lenders'"
     ]
    }
   ],
   "source": [
    "lenders=json_normalize(data['lenders'])"
   ]
  },
  {
   "cell_type": "code",
   "execution_count": 179,
   "metadata": {
    "collapsed": false
   },
   "outputs": [
    {
     "ename": "KeyError",
     "evalue": "'lenders'",
     "output_type": "error",
     "traceback": [
      "\u001b[0;31m---------------------------------------------------------------------------\u001b[0m",
      "\u001b[0;31mKeyError\u001b[0m                                  Traceback (most recent call last)",
      "\u001b[0;32m<ipython-input-179-a46dbac8fdff>\u001b[0m in \u001b[0;36m<module>\u001b[0;34m()\u001b[0m\n\u001b[1;32m      4\u001b[0m     \u001b[0md\u001b[0m \u001b[0;34m=\u001b[0m \u001b[0mr\u001b[0m\u001b[0;34m.\u001b[0m\u001b[0mget\u001b[0m\u001b[0;34m(\u001b[0m\u001b[0;34m'http://api.kivaws.org/v1/loans/'\u001b[0m\u001b[0;34m+\u001b[0m\u001b[0ml\u001b[0m\u001b[0;34m+\u001b[0m\u001b[0;34m'/lenders.json'\u001b[0m\u001b[0;34m)\u001b[0m\u001b[0;34m\u001b[0m\u001b[0m\n\u001b[1;32m      5\u001b[0m     \u001b[0mdata\u001b[0m \u001b[0;34m=\u001b[0m \u001b[0mjson\u001b[0m\u001b[0;34m.\u001b[0m\u001b[0mloads\u001b[0m\u001b[0;34m(\u001b[0m\u001b[0md\u001b[0m\u001b[0;34m.\u001b[0m\u001b[0mtext\u001b[0m\u001b[0;34m)\u001b[0m\u001b[0;34m\u001b[0m\u001b[0m\n\u001b[0;32m----> 6\u001b[0;31m     \u001b[0mlenders\u001b[0m\u001b[0;34m=\u001b[0m\u001b[0mjson_normalize\u001b[0m\u001b[0;34m(\u001b[0m\u001b[0mdata\u001b[0m\u001b[0;34m[\u001b[0m\u001b[0;34m'lenders'\u001b[0m\u001b[0;34m]\u001b[0m\u001b[0;34m)\u001b[0m\u001b[0;34m\u001b[0m\u001b[0m\n\u001b[0m\u001b[1;32m      7\u001b[0m     \u001b[0mlenders_full\u001b[0m\u001b[0;34m=\u001b[0m\u001b[0mlenders\u001b[0m\u001b[0;34m.\u001b[0m\u001b[0mappend\u001b[0m\u001b[0;34m(\u001b[0m\u001b[0mlenders\u001b[0m\u001b[0;34m,\u001b[0m\u001b[0mignore_index\u001b[0m\u001b[0;34m=\u001b[0m\u001b[0;32mTrue\u001b[0m\u001b[0;34m)\u001b[0m\u001b[0;34m\u001b[0m\u001b[0m\n\u001b[1;32m      8\u001b[0m     \u001b[0mprint\u001b[0m\u001b[0;34m(\u001b[0m\u001b[0mlen\u001b[0m\u001b[0;34m(\u001b[0m\u001b[0mlenders_full\u001b[0m\u001b[0;34m.\u001b[0m\u001b[0mindex\u001b[0m\u001b[0;34m)\u001b[0m\u001b[0;34m)\u001b[0m\u001b[0;34m\u001b[0m\u001b[0m\n",
      "\u001b[0;31mKeyError\u001b[0m: 'lenders'"
     ]
    }
   ],
   "source": [
    "lenders_full=pd.DataFrame()\n",
    "for l in w_lender_list:\n",
    "    l=str(l)\n",
    "    d = r.get('http://api.kivaws.org/v1/loans/'+l+'/lenders.json')\n",
    "    data = json.loads(d.text)\n",
    "    lenders=json_normalize(data['lenders'])\n",
    "    lenders_full=lenders.append(lenders,ignore_index=True)\n",
    "    print(len(lenders_full.index)) "
   ]
  },
  {
   "cell_type": "markdown",
   "metadata": {},
   "source": [
    "We want to cache loans_full locally so we do not have to pull this data again every lesson."
   ]
  },
  {
   "cell_type": "code",
   "execution_count": 151,
   "metadata": {
    "collapsed": false,
    "scrolled": true
   },
   "outputs": [
    {
     "name": "stderr",
     "output_type": "stream",
     "text": [
      "/Users/Sara/anaconda/lib/python3.6/site-packages/IPython/core/interactiveshell.py:2881: PerformanceWarning: \n",
      "your performance may suffer as PyTables will pickle object types that it cannot\n",
      "map directly to c-types [inferred_type->mixed,key->block3_values] [items->['activity', 'description.languages', 'location.country', 'location.country_code', 'location.geo.level', 'location.geo.pairs', 'location.geo.type', 'location.town', 'name', 'planned_expiration_date', 'posted_date', 'sector', 'status', 'tags', 'themes', 'use']]\n",
      "\n",
      "  exec(code_obj, self.user_global_ns, self.user_ns)\n"
     ]
    }
   ],
   "source": [
    "store['loans']=loans_full\n",
    "loans_full=store.get('loans')"
   ]
  },
  {
   "cell_type": "code",
   "execution_count": 152,
   "metadata": {
    "collapsed": false
   },
   "outputs": [
    {
     "data": {
      "text/plain": [
       "5000"
      ]
     },
     "execution_count": 152,
     "metadata": {},
     "output_type": "execute_result"
    }
   ],
   "source": [
    "len(loans_full.index)"
   ]
  }
 ],
 "metadata": {
  "kernelspec": {
   "display_name": "Python 3",
   "language": "python",
   "name": "python3"
  },
  "language_info": {
   "codemirror_mode": {
    "name": "ipython",
    "version": 3
   },
   "file_extension": ".py",
   "mimetype": "text/x-python",
   "name": "python",
   "nbconvert_exporter": "python",
   "pygments_lexer": "ipython3",
   "version": "3.6.0"
  }
 },
 "nbformat": 4,
 "nbformat_minor": 2
}
