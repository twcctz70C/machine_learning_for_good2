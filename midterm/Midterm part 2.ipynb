{
 "cells": [
  {
   "cell_type": "markdown",
   "metadata": {
    "nbgrader": {
     "grade": false,
     "grade_id": "cell-37762296ff70775f",
     "locked": true,
     "schema_version": 1,
     "solution": false
    }
   },
   "source": [
    "# Midterm part 2: Instructions\n",
    "\n",
    "<img src=\"https://pbs.twimg.com/profile_images/935574083256819713/vORBliVR_400x400.jpg\" width=\"100\" height=\"100\">\n",
    "\n",
    "\n",
    "In this part of the exam, you will endeavor to build a model to predict MPI rates by country based on the loan and electricty consumption information known about them. MPI stands for multidimensional poverty index, where the the higher the number, the more impoverished the country. The index is typically expressed as a percent that ranges from 0 to 100%. \n",
    "\n",
    "You can use outside resources (e.g. StackOverflow, past homeworks and Labs) for this portion of the exam."
   ]
  },
  {
   "cell_type": "markdown",
   "metadata": {
    "nbgrader": {
     "grade": false,
     "grade_id": "cell-a222985d88048291",
     "locked": true,
     "schema_version": 1,
     "solution": false
    }
   },
   "source": [
    "## Data preparation\n",
    "#### Step 1: import libaries\n",
    "Always import all the libraries at the beginning of your code. You may add libraries as needed."
   ]
  },
  {
   "cell_type": "code",
   "execution_count": 3,
   "metadata": {},
   "outputs": [],
   "source": [
    "import pandas as pd\n",
    "import numpy as np\n",
    "import matplotlib.pyplot as plt\n",
    "%matplotlib inline\n",
    "import seaborn as sns\n",
    "\n",
    "# Packages for checking assumptions\n",
    "from sklearn.model_selection import train_test_split\n",
    "from sklearn.metrics import r2_score\n",
    "from sklearn.metrics import mean_absolute_error\n",
    "from sklearn.metrics import mean_squared_error\n",
    "import statsmodels.api as sm\n",
    "import random\n",
    "from statsmodels.formula.api import ols\n",
    "\n",
    "# Set jupyter notebook preferences\n",
    "# the command below means that the output of multiple commands in a cell will be output at once.\n",
    "from IPython.core.interactiveshell import InteractiveShell\n",
    "InteractiveShell.ast_node_interactivity = \"all\"\n",
    "# the command below tells jupyter to display up to 100 columns, this keeps everything visible\n",
    "pd.set_option('display.max_columns', 100)\n",
    "pd.set_option('expand_frame_repr', True)"
   ]
  },
  {
   "cell_type": "markdown",
   "metadata": {
    "nbgrader": {
     "grade": false,
     "grade_id": "cell-3a2cf765658eb8db",
     "locked": true,
     "schema_version": 1,
     "solution": false
    }
   },
   "source": [
    "#### Step 2: import data\n",
    "Import the MPI, country mapper, and loans data."
   ]
  },
  {
   "cell_type": "code",
   "execution_count": 4,
   "metadata": {},
   "outputs": [],
   "source": [
    "MPI_data = pd.read_csv(\"MPI_data_poverty.csv\", encoding=\"ISO-8859-1\")\n",
    "loan_data = pd.read_csv(\"loans_midterm.csv\")\n",
    "country_mapper = pd.read_csv(\"country_mapper.csv\")"
   ]
  },
  {
   "cell_type": "markdown",
   "metadata": {
    "nbgrader": {
     "grade": false,
     "grade_id": "cell-333ecfb6e8b53e14",
     "locked": true,
     "schema_version": 1,
     "solution": false
    }
   },
   "source": [
    "#### Step 3: clean data\n",
    "Look for 2 types of data anomalies in the MPI poverty data to clean. Please comment your approach to cleaning the data and explain your rationale."
   ]
  },
  {
   "cell_type": "code",
   "execution_count": 96,
   "metadata": {
    "nbgrader": {
     "grade": false,
     "grade_id": "cell-5a04fa9b4d6b3b9a",
     "locked": false,
     "schema_version": 1,
     "solution": true
    }
   },
   "outputs": [
    {
     "data": {
      "text/plain": [
       "'Clean the dataframe and save as MPI_data, i.e. do not create new dataframe names\\nfor autograding purposes.'"
      ]
     },
     "execution_count": 96,
     "metadata": {},
     "output_type": "execute_result"
    }
   ],
   "source": [
    "\"\"\"Clean the dataframe and save as MPI_data, i.e. do not create new dataframe names\n",
    "for autograding purposes.\"\"\"\n",
    "\n",
    "### BEGIN SOLUTION\n",
    "# Included three types of error - negative MPI rates and over 100%. They are typos we can check.\n",
    "MPI_data.loc[(MPI_data['MPI_Country'] < 0), \"MPI_Country\"] = 0.295\n",
    "MPI_data.loc[(MPI_data['MPI_Country'] > 1), \"MPI_Country\"] = 0.1520\n",
    "\n",
    "# ...bad ISO country codes. They are typos we can check.\n",
    "MPI_data.loc[MPI_data['ISO country code'] == 'AF', \"ISO country code\"] = 'AFG'\n",
    "MPI_data.loc[MPI_data['ISO country code'] == 'UG', \"ISO country code\"] = 'UGA'\n",
    "MPI_data.loc[MPI_data['ISO country code'] == 'UZ', \"ISO country code\"] = 'UZB'\n",
    "\n",
    "# ...and duplicates. We can just drop the duplicates\n",
    "MPI_data.drop(['Unnamed: 0'], axis = 1, inplace = True)\n",
    "MPI_data.drop_duplicates(inplace = True)\n",
    "### END SOLUTION"
   ]
  },
  {
   "cell_type": "code",
   "execution_count": 97,
   "metadata": {
    "nbgrader": {
     "grade": true,
     "grade_id": "cell-ccd8b1786299e292",
     "locked": true,
     "points": 2,
     "schema_version": 1,
     "solution": false
    }
   },
   "outputs": [],
   "source": [
    "####################################INTENTIONALLY BLANK FOR TESTING####################################\n",
    "### BEGIN HIDDEN TESTS\n",
    "count = 0\n",
    "if (len(MPI_data.loc[(MPI_data['MPI_Country'] < 0)]) == 0): count += 1\n",
    "if (len(MPI_data.loc[(MPI_data['MPI_Country'] > 1)]) == 0): count += 1\n",
    "if (len(MPI_data.loc[MPI_data['ISO country code'] == 'AF']) == 0): count += 1\n",
    "if (len(MPI_data.loc[MPI_data['ISO country code'] == 'UG']) == 0): count += 1\n",
    "if (len(MPI_data.loc[MPI_data['ISO country code'] == 'UZ']) == 0): count += 1\n",
    "if (len(MPI_data) == 994): count += 1\n",
    "\n",
    "assert count > 3\n",
    "### END HIDDEN TESTS"
   ]
  },
  {
   "cell_type": "markdown",
   "metadata": {
    "nbgrader": {
     "grade": false,
     "grade_id": "cell-bfedcb44154e5d5d",
     "locked": true,
     "schema_version": 1,
     "solution": false
    }
   },
   "source": [
    "## Exploratory analysis"
   ]
  },
  {
   "cell_type": "markdown",
   "metadata": {
    "nbgrader": {
     "grade": false,
     "grade_id": "cell-da34a5d215abda73",
     "locked": true,
     "schema_version": 1,
     "solution": false
    }
   },
   "source": [
    "#### Step 4: understand the MPI data\n",
    "Manipulate the MPI data to understand the:\n",
    "* top 10 countries with the highest MPI index\n",
    "* a visual distribution of MPI in all the countries\n",
    "* mean and standard deviation of MPI in all the countries"
   ]
  },
  {
   "cell_type": "code",
   "execution_count": 14,
   "metadata": {
    "nbgrader": {
     "grade": false,
     "grade_id": "cell-c8699bc5017db7f1",
     "locked": false,
     "schema_version": 1,
     "solution": true
    }
   },
   "outputs": [
    {
     "data": {
      "text/plain": [
       "'Find the top 10 countries with the highest MPI index and save in an ordered list called \\ntop_countries, where the first country is the poorest and the last is the wealthest.'"
      ]
     },
     "execution_count": 14,
     "metadata": {},
     "output_type": "execute_result"
    },
    {
     "name": "stdout",
     "output_type": "stream",
     "text": [
      "['Niger', 'South Sudan', 'Chad', 'Burkina Faso', 'Ethiopia', 'Sierra Leone', 'Guinea', 'Mali', 'Burundi', 'Central African Republic']\n"
     ]
    }
   ],
   "source": [
    "\"\"\"Find the top 10 countries with the highest MPI index and save in an ordered list called \n",
    "top_countries, where the first country is the poorest and the last is the wealthest.\"\"\"\n",
    "\n",
    "### BEGIN SOLUTION\n",
    "# Build an index of only the relevant countries to remove duplicates in joining\n",
    "MPI_countries = MPI_data.groupby(['Country', 'ISO country code'])['MPI_Country', 'popDensity', 'AvgNightLight', 'Conflicts_total'].mean().reset_index().sort_values(\"MPI_Country\", ascending = False)\n",
    "top_countries = list(MPI_countries[:10]['Country'])\n",
    "print(top_countries)\n",
    "### END SOLUTION"
   ]
  },
  {
   "cell_type": "code",
   "execution_count": 15,
   "metadata": {
    "nbgrader": {
     "grade": true,
     "grade_id": "cell-f2f9b08241e028e6",
     "locked": true,
     "points": 1,
     "schema_version": 1,
     "solution": false
    }
   },
   "outputs": [],
   "source": [
    "####################################INTENTIONALLY BLANK FOR TESTING####################################\n",
    "### BEGIN HIDDEN TESTS\n",
    "assert top_countries == ['Niger', 'South Sudan', 'Chad', 'Burkina Faso', 'Ethiopia', 'Sierra Leone', 'Guinea', 'Mali', 'Burundi', 'Central African Republic']\n",
    "### END HIDDEN TESTS"
   ]
  },
  {
   "cell_type": "code",
   "execution_count": 98,
   "metadata": {
    "nbgrader": {
     "grade": true,
     "grade_id": "cell-12bd641382392fbf",
     "locked": false,
     "points": 1,
     "schema_version": 1,
     "solution": true
    }
   },
   "outputs": [
    {
     "data": {
      "text/plain": [
       "'Visualize a distribution of MPI in all the countries'"
      ]
     },
     "execution_count": 98,
     "metadata": {},
     "output_type": "execute_result"
    },
    {
     "data": {
      "text/plain": [
       "<matplotlib.axes._subplots.AxesSubplot at 0x220c803fd68>"
      ]
     },
     "execution_count": 98,
     "metadata": {},
     "output_type": "execute_result"
    },
    {
     "data": {
      "image/png": "[encoded data removed]",
      "text/plain": [
       "<Figure size 432x288 with 1 Axes>"
      ]
     },
     "metadata": {},
     "output_type": "display_data"
    }
   ],
   "source": [
    "\"\"\"Visualize a distribution of MPI in all the countries\"\"\"\n",
    "\n",
    "### BEGIN SOLUTION\n",
    "MPI_countries['MPI_Country'].hist()\n",
    "### END SOLUTION"
   ]
  },
  {
   "cell_type": "code",
   "execution_count": 99,
   "metadata": {
    "nbgrader": {
     "grade": false,
     "grade_id": "cell-a37a0c796520f8f0",
     "locked": false,
     "schema_version": 1,
     "solution": true
    }
   },
   "outputs": [
    {
     "data": {
      "text/plain": [
       "'Get the mean and standard deviation of the MPI in all the countries. Save as variables called mean\\nand std.'"
      ]
     },
     "execution_count": 99,
     "metadata": {},
     "output_type": "execute_result"
    },
    {
     "name": "stdout",
     "output_type": "stream",
     "text": [
      "       MPI_Country   popDensity  AvgNightLight  Conflicts_total\n",
      "count    79.000000    79.000000      79.000000        79.000000\n",
      "mean      0.203494   831.125308      15.152621         2.505297\n",
      "std       0.163407  1225.970956      13.915057         8.669156\n",
      "min       0.006000     6.104167       0.000000         0.000000\n",
      "25%       0.053000    92.937319       4.967949         0.000000\n",
      "50%       0.175000   408.345650      10.400000         0.000000\n",
      "75%       0.305000   879.148589      21.952381         1.258929\n",
      "max       0.605000  5339.504063      53.000000        70.176471\n"
     ]
    }
   ],
   "source": [
    "\"\"\"Get the mean and standard deviation of the MPI in all the countries. Save as variables called mean\n",
    "and std.\"\"\"\n",
    "\n",
    "### BEGIN SOLUTION\n",
    "print(MPI_countries.describe())\n",
    "mean = 0.203494\n",
    "std = 0.163407\n",
    "### END SOLUTION"
   ]
  },
  {
   "cell_type": "code",
   "execution_count": 100,
   "metadata": {
    "nbgrader": {
     "grade": true,
     "grade_id": "cell-b383eed5b1ab5488",
     "locked": true,
     "points": 1,
     "schema_version": 1,
     "solution": false
    }
   },
   "outputs": [],
   "source": [
    "####################################INTENTIONALLY BLANK FOR TESTING####################################\n",
    "### BEGIN HIDDEN TESTS\n",
    "assert abs(mean - 0.203494) < 0.001\n",
    "assert abs(std - 0.163407) < 0.001\n",
    "### END HIDDEN TESTS"
   ]
  },
  {
   "cell_type": "markdown",
   "metadata": {
    "nbgrader": {
     "grade": false,
     "grade_id": "cell-47c43b39390ff71a",
     "locked": true,
     "schema_version": 1,
     "solution": false
    }
   },
   "source": [
    "## Building our model"
   ]
  },
  {
   "cell_type": "markdown",
   "metadata": {
    "nbgrader": {
     "grade": false,
     "grade_id": "cell-977484b1d5a44ed8",
     "locked": true,
     "schema_version": 1,
     "solution": false
    }
   },
   "source": [
    "#### Step 5: merge data\n",
    "Merge the two data sets on an appropriate column or columns using the country code mapper provided."
   ]
  },
  {
   "cell_type": "code",
   "execution_count": 101,
   "metadata": {
    "nbgrader": {
     "grade": false,
     "grade_id": "cell-9953fc3922777e6b",
     "locked": false,
     "schema_version": 1,
     "solution": true
    }
   },
   "outputs": [
    {
     "data": {
      "text/plain": [
       "'Name the final merged data set data_final'"
      ]
     },
     "execution_count": 101,
     "metadata": {},
     "output_type": "execute_result"
    }
   ],
   "source": [
    "\"\"\"Name the final merged data set data_final\"\"\"\n",
    "\n",
    "### BEGIN SOLUTION\n",
    "# merge the mapper with the MPI countries data\n",
    "MPI_data_ISO = pd.merge(MPI_countries, country_mapper, on = ['ISO country code'], how = 'left')\n",
    "data_final = pd.merge(loan_data, MPI_data_ISO, on = ['location_country_code'], how = 'left')\n",
    "### END SOLUTION"
   ]
  },
  {
   "cell_type": "markdown",
   "metadata": {
    "nbgrader": {
     "grade": false,
     "grade_id": "cell-67453e0882d2c5ee",
     "locked": true,
     "schema_version": 1,
     "solution": false
    }
   },
   "source": [
    "#### Step 6: test results\n",
    "Run code to understand if the merge worked and makes sense."
   ]
  },
  {
   "cell_type": "code",
   "execution_count": 103,
   "metadata": {
    "nbgrader": {
     "grade": false,
     "grade_id": "cell-e969d726c98f373a",
     "locked": false,
     "schema_version": 1,
     "solution": true
    }
   },
   "outputs": [
    {
     "data": {
      "text/plain": [
       "'This section is not graded but added to encourage habitual testing of your code'"
      ]
     },
     "execution_count": 103,
     "metadata": {},
     "output_type": "execute_result"
    },
    {
     "name": "stdout",
     "output_type": "stream",
     "text": [
      "994 5618 5618\n"
     ]
    },
    {
     "data": {
      "text/html": [
       "<div>\n",
       "<style scoped>\n",
       "    .dataframe tbody tr th:only-of-type {\n",
       "        vertical-align: middle;\n",
       "    }\n",
       "\n",
       "    .dataframe tbody tr th {\n",
       "        vertical-align: top;\n",
       "    }\n",
       "\n",
       "    .dataframe thead th {\n",
       "        text-align: right;\n",
       "    }\n",
       "</style>\n",
       "<table border=\"1\" class=\"dataframe\">\n",
       "  <thead>\n",
       "    <tr style=\"text-align: right;\">\n",
       "      <th></th>\n",
       "      <th>Country</th>\n",
       "      <th>location_country_code</th>\n",
       "      <th>ISO country code</th>\n",
       "      <th>0</th>\n",
       "    </tr>\n",
       "  </thead>\n",
       "  <tbody>\n",
       "    <tr>\n",
       "      <th>0</th>\n",
       "      <td>Benin</td>\n",
       "      <td>BJ</td>\n",
       "      <td>BEN</td>\n",
       "      <td>200</td>\n",
       "    </tr>\n",
       "    <tr>\n",
       "      <th>1</th>\n",
       "      <td>Burkina Faso</td>\n",
       "      <td>BF</td>\n",
       "      <td>BFA</td>\n",
       "      <td>200</td>\n",
       "    </tr>\n",
       "    <tr>\n",
       "      <th>2</th>\n",
       "      <td>Burundi</td>\n",
       "      <td>BI</td>\n",
       "      <td>BDI</td>\n",
       "      <td>200</td>\n",
       "    </tr>\n",
       "    <tr>\n",
       "      <th>3</th>\n",
       "      <td>Cameroon</td>\n",
       "      <td>CM</td>\n",
       "      <td>CMR</td>\n",
       "      <td>200</td>\n",
       "    </tr>\n",
       "    <tr>\n",
       "      <th>4</th>\n",
       "      <td>Congo, Democratic Republic of the</td>\n",
       "      <td>CD</td>\n",
       "      <td>COD</td>\n",
       "      <td>400</td>\n",
       "    </tr>\n",
       "    <tr>\n",
       "      <th>5</th>\n",
       "      <td>Congo, Republic of</td>\n",
       "      <td>CG</td>\n",
       "      <td>COG</td>\n",
       "      <td>200</td>\n",
       "    </tr>\n",
       "    <tr>\n",
       "      <th>6</th>\n",
       "      <td>Cote d'Ivoire</td>\n",
       "      <td>CI</td>\n",
       "      <td>CIV</td>\n",
       "      <td>200</td>\n",
       "    </tr>\n",
       "    <tr>\n",
       "      <th>7</th>\n",
       "      <td>Egypt</td>\n",
       "      <td>EG</td>\n",
       "      <td>EGY</td>\n",
       "      <td>200</td>\n",
       "    </tr>\n",
       "    <tr>\n",
       "      <th>8</th>\n",
       "      <td>Ghana</td>\n",
       "      <td>GH</td>\n",
       "      <td>GHA</td>\n",
       "      <td>200</td>\n",
       "    </tr>\n",
       "    <tr>\n",
       "      <th>9</th>\n",
       "      <td>Kenya</td>\n",
       "      <td>KE</td>\n",
       "      <td>KEN</td>\n",
       "      <td>200</td>\n",
       "    </tr>\n",
       "    <tr>\n",
       "      <th>10</th>\n",
       "      <td>Lesotho</td>\n",
       "      <td>LS</td>\n",
       "      <td>LSO</td>\n",
       "      <td>200</td>\n",
       "    </tr>\n",
       "    <tr>\n",
       "      <th>11</th>\n",
       "      <td>Liberia</td>\n",
       "      <td>LR</td>\n",
       "      <td>LBR</td>\n",
       "      <td>200</td>\n",
       "    </tr>\n",
       "    <tr>\n",
       "      <th>12</th>\n",
       "      <td>Madagascar</td>\n",
       "      <td>MG</td>\n",
       "      <td>MDG</td>\n",
       "      <td>200</td>\n",
       "    </tr>\n",
       "    <tr>\n",
       "      <th>13</th>\n",
       "      <td>Malawi</td>\n",
       "      <td>MW</td>\n",
       "      <td>MWI</td>\n",
       "      <td>200</td>\n",
       "    </tr>\n",
       "    <tr>\n",
       "      <th>14</th>\n",
       "      <td>Mali</td>\n",
       "      <td>ML</td>\n",
       "      <td>MLI</td>\n",
       "      <td>200</td>\n",
       "    </tr>\n",
       "    <tr>\n",
       "      <th>15</th>\n",
       "      <td>Mauritania</td>\n",
       "      <td>MR</td>\n",
       "      <td>MRT</td>\n",
       "      <td>1</td>\n",
       "    </tr>\n",
       "    <tr>\n",
       "      <th>16</th>\n",
       "      <td>Mozambique</td>\n",
       "      <td>MZ</td>\n",
       "      <td>MOZ</td>\n",
       "      <td>200</td>\n",
       "    </tr>\n",
       "    <tr>\n",
       "      <th>17</th>\n",
       "      <td>Nigeria</td>\n",
       "      <td>NG</td>\n",
       "      <td>NGA</td>\n",
       "      <td>200</td>\n",
       "    </tr>\n",
       "    <tr>\n",
       "      <th>18</th>\n",
       "      <td>Rwanda</td>\n",
       "      <td>RW</td>\n",
       "      <td>RWA</td>\n",
       "      <td>200</td>\n",
       "    </tr>\n",
       "    <tr>\n",
       "      <th>19</th>\n",
       "      <td>Senegal</td>\n",
       "      <td>SN</td>\n",
       "      <td>SEN</td>\n",
       "      <td>200</td>\n",
       "    </tr>\n",
       "    <tr>\n",
       "      <th>20</th>\n",
       "      <td>Sierra Leone</td>\n",
       "      <td>SL</td>\n",
       "      <td>SLE</td>\n",
       "      <td>200</td>\n",
       "    </tr>\n",
       "    <tr>\n",
       "      <th>21</th>\n",
       "      <td>South Sudan</td>\n",
       "      <td>SS</td>\n",
       "      <td>SSD</td>\n",
       "      <td>200</td>\n",
       "    </tr>\n",
       "    <tr>\n",
       "      <th>22</th>\n",
       "      <td>Tanzania, United Republic of</td>\n",
       "      <td>TZ</td>\n",
       "      <td>TZA</td>\n",
       "      <td>400</td>\n",
       "    </tr>\n",
       "    <tr>\n",
       "      <th>23</th>\n",
       "      <td>Togo</td>\n",
       "      <td>TG</td>\n",
       "      <td>TGO</td>\n",
       "      <td>200</td>\n",
       "    </tr>\n",
       "    <tr>\n",
       "      <th>24</th>\n",
       "      <td>Uganda</td>\n",
       "      <td>UG</td>\n",
       "      <td>UGA</td>\n",
       "      <td>200</td>\n",
       "    </tr>\n",
       "    <tr>\n",
       "      <th>25</th>\n",
       "      <td>Zambia</td>\n",
       "      <td>ZM</td>\n",
       "      <td>ZMB</td>\n",
       "      <td>200</td>\n",
       "    </tr>\n",
       "    <tr>\n",
       "      <th>26</th>\n",
       "      <td>Zimbabwe</td>\n",
       "      <td>ZW</td>\n",
       "      <td>ZWE</td>\n",
       "      <td>200</td>\n",
       "    </tr>\n",
       "  </tbody>\n",
       "</table>\n",
       "</div>"
      ],
      "text/plain": [
       "                              Country location_country_code ISO country code  \\\n",
       "0                               Benin                    BJ              BEN   \n",
       "1                        Burkina Faso                    BF              BFA   \n",
       "2                             Burundi                    BI              BDI   \n",
       "3                            Cameroon                    CM              CMR   \n",
       "4   Congo, Democratic Republic of the                    CD              COD   \n",
       "5                  Congo, Republic of                    CG              COG   \n",
       "6                       Cote d'Ivoire                    CI              CIV   \n",
       "7                               Egypt                    EG              EGY   \n",
       "8                               Ghana                    GH              GHA   \n",
       "9                               Kenya                    KE              KEN   \n",
       "10                            Lesotho                    LS              LSO   \n",
       "11                            Liberia                    LR              LBR   \n",
       "12                         Madagascar                    MG              MDG   \n",
       "13                             Malawi                    MW              MWI   \n",
       "14                               Mali                    ML              MLI   \n",
       "15                         Mauritania                    MR              MRT   \n",
       "16                         Mozambique                    MZ              MOZ   \n",
       "17                            Nigeria                    NG              NGA   \n",
       "18                             Rwanda                    RW              RWA   \n",
       "19                            Senegal                    SN              SEN   \n",
       "20                       Sierra Leone                    SL              SLE   \n",
       "21                        South Sudan                    SS              SSD   \n",
       "22       Tanzania, United Republic of                    TZ              TZA   \n",
       "23                               Togo                    TG              TGO   \n",
       "24                             Uganda                    UG              UGA   \n",
       "25                             Zambia                    ZM              ZMB   \n",
       "26                           Zimbabwe                    ZW              ZWE   \n",
       "\n",
       "      0  \n",
       "0   200  \n",
       "1   200  \n",
       "2   200  \n",
       "3   200  \n",
       "4   400  \n",
       "5   200  \n",
       "6   200  \n",
       "7   200  \n",
       "8   200  \n",
       "9   200  \n",
       "10  200  \n",
       "11  200  \n",
       "12  200  \n",
       "13  200  \n",
       "14  200  \n",
       "15    1  \n",
       "16  200  \n",
       "17  200  \n",
       "18  200  \n",
       "19  200  \n",
       "20  200  \n",
       "21  200  \n",
       "22  400  \n",
       "23  200  \n",
       "24  200  \n",
       "25  200  \n",
       "26  200  "
      ]
     },
     "execution_count": 103,
     "metadata": {},
     "output_type": "execute_result"
    }
   ],
   "source": [
    "\"\"\"This section is not graded but added to encourage habitual testing of your code\"\"\"\n",
    "\n",
    "### BEGIN SOLUTION\n",
    "print(len(MPI_data), len(loan_data), len(data_final))\n",
    "data_final.groupby(['Country', 'location_country_code', 'ISO country code']).size().reset_index()\n",
    "### END SOLUTION"
   ]
  },
  {
   "cell_type": "code",
   "execution_count": 104,
   "metadata": {
    "nbgrader": {
     "grade": true,
     "grade_id": "cell-678a54b0b571419e",
     "locked": true,
     "points": 1,
     "schema_version": 1,
     "solution": false
    }
   },
   "outputs": [],
   "source": [
    "####################################INTENTIONALLY BLANK FOR TESTING####################################\n",
    "### BEGIN HIDDEN TESTS\n",
    "assert len(data_final) == len(loan_data)\n",
    "assert data_final.loc[data_final['location_country_code'] == 'BF']['ISO country code'].unique()[0]\\\n",
    "        == 'BFA'\n",
    "assert data_final.loc[data_final['location_country_code'] == 'CG']['ISO country code'].unique()[0]\\\n",
    "        == 'COG'\n",
    "assert abs(data_final.loc[data_final['location_country_code'] == 'ZW']['MPI_Country'].unique()[0]\\\n",
    "        - 0.152) < 0.001\n",
    "assert abs(data_final.loc[data_final['location_country_code'] == 'TZ']['MPI_Country'].unique()[0]\\\n",
    "        - 0.284) < 0.001\n",
    "### END HIDDEN TESTS"
   ]
  },
  {
   "cell_type": "markdown",
   "metadata": {
    "nbgrader": {
     "grade": false,
     "grade_id": "cell-8c93122d283a7f1e",
     "locked": true,
     "schema_version": 1,
     "solution": false
    }
   },
   "source": [
    "#### Step 7: test assumptions that apply before building the model\n",
    "List assumptions that apply for a linear regression model and how you can fix them if they are violated."
   ]
  },
  {
   "cell_type": "markdown",
   "metadata": {
    "nbgrader": {
     "grade": true,
     "grade_id": "cell-cf44fc293a12bf4a",
     "locked": false,
     "points": 1,
     "schema_version": 1,
     "solution": true
    }
   },
   "source": [
    "\n",
    "* **The error is homoscedatic (equal variance) against independent / dependent variable:** Graph the errors and if not homoscedastic, it can potentially be solved with a transformation of the dependent variable\n",
    "* **Error is normally distributed:** Similar to the above, a transformation may fix it\n",
    "* **There is no multicollinearity between the independent variables:** Check the correlation between independent variables and remove those that are highly correlated\n",
    "* **The continuous independent and dependent variables are linearly related:** Transform variables for a linear relationship\n",
    "* **The samples of data are independently and randomly sampled from the population:** Re-collect data in a random way"
   ]
  },
  {
   "cell_type": "markdown",
   "metadata": {
    "nbgrader": {
     "grade": false,
     "grade_id": "cell-9e63df700e6bcfe3",
     "locked": true,
     "schema_version": 1,
     "solution": false
    }
   },
   "source": [
    "There are two assumptions that should be tested before building a linear regression model. Assume the two independent variables will be sector and average night light, and the dependent variable is the country's MPI."
   ]
  },
  {
   "cell_type": "code",
   "execution_count": 134,
   "metadata": {
    "nbgrader": {
     "grade": false,
     "grade_id": "cell-15b6e4308aacffb0",
     "locked": false,
     "schema_version": 1,
     "solution": true
    }
   },
   "outputs": [
    {
     "data": {
      "text/plain": [
       "'Test one of these assumptions. Set assumption_one = True if it passed and False if it did not'"
      ]
     },
     "execution_count": 134,
     "metadata": {},
     "output_type": "execute_result"
    },
    {
     "data": {
      "text/plain": [
       "<matplotlib.axes._subplots.AxesSubplot at 0x220cd8a60f0>"
      ]
     },
     "execution_count": 134,
     "metadata": {},
     "output_type": "execute_result"
    },
    {
     "data": {
      "image/png": "[encoded data removed]",
      "text/plain": [
       "<Figure size 1440x720 with 2 Axes>"
      ]
     },
     "metadata": {},
     "output_type": "display_data"
    }
   ],
   "source": [
    "\"\"\"Test one of these assumptions. Set assumption_one = True if it passed and False if it did not\"\"\" \n",
    "\n",
    "### BEGIN SOLUTION\n",
    "# Make dummy variable columns for the sectors\n",
    "data_final_model = data_final.join(pd.get_dummies(data_final['sector']))\n",
    "x_columns = ['AvgNightLight', 'Retail', \\\n",
    "             'Food', 'Services', 'Clothing', 'Arts', 'Agriculture', 'Manufacturing', 'Construction',\\\n",
    "             'Wholesale', 'Health', 'Transportation', 'Education', 'Housing']\n",
    "\n",
    "# Test correlations for multicollinearity -- good\n",
    "fig, ax = plt.subplots(figsize=(20,10))\n",
    "sns.heatmap(data_final_model[x_columns].corr(), annot = True)\n",
    "assumption_one = True\n",
    "### END SOLUTION"
   ]
  },
  {
   "cell_type": "code",
   "execution_count": 135,
   "metadata": {
    "nbgrader": {
     "grade": false,
     "grade_id": "cell-32a9fb3dfcd01c34",
     "locked": false,
     "schema_version": 1,
     "solution": true
    }
   },
   "outputs": [
    {
     "data": {
      "text/plain": [
       "'Test the second of these assumptions'"
      ]
     },
     "execution_count": 135,
     "metadata": {},
     "output_type": "execute_result"
    },
    {
     "data": {
      "text/plain": [
       "<matplotlib.collections.PathCollection at 0x220cdfb4828>"
      ]
     },
     "execution_count": 135,
     "metadata": {},
     "output_type": "execute_result"
    },
    {
     "data": {
      "image/png": "[encoded data removed]",
      "text/plain": [
       "<Figure size 432x288 with 1 Axes>"
      ]
     },
     "metadata": {},
     "output_type": "display_data"
    }
   ],
   "source": [
    "\"\"\"Test the second of these assumptions\"\"\" \n",
    "\n",
    "### BEGIN SOLUTION\n",
    "# Test the linear relationship between average night light and MPI -- good\n",
    "plt.scatter(y = data_final_model['MPI_Country'], x = data_final_model['AvgNightLight'])\n",
    "assumption_two = False\n",
    "### END SOLUTION"
   ]
  },
  {
   "cell_type": "code",
   "execution_count": 116,
   "metadata": {
    "nbgrader": {
     "grade": true,
     "grade_id": "cell-dddf2848b0ca23cc",
     "locked": true,
     "points": 2,
     "schema_version": 1,
     "solution": false
    }
   },
   "outputs": [],
   "source": [
    "####################################INTENTIONALLY BLANK FOR TESTING####################################\n",
    "### BEGIN HIDDEN TESTS\n",
    "assert (assumption_two == False and assumption_one == True) or \\\n",
    "        (assumption_two == True and assumption_one == False)\n",
    "### END HIDDEN TESTS"
   ]
  },
  {
   "cell_type": "markdown",
   "metadata": {
    "nbgrader": {
     "grade": false,
     "grade_id": "cell-eff37a656a88c55b",
     "locked": true,
     "schema_version": 1,
     "solution": false
    }
   },
   "source": [
    "Based on these tests, we will transform one of our independent variables. Create a feature called AvgNightLight_cuberoot that is equal to the cuberoot of the feature AvgNightLight."
   ]
  },
  {
   "cell_type": "code",
   "execution_count": 136,
   "metadata": {
    "nbgrader": {
     "grade": false,
     "grade_id": "cell-3a405f56714e7fa9",
     "locked": false,
     "schema_version": 1,
     "solution": true
    }
   },
   "outputs": [
    {
     "data": {
      "text/plain": [
       "'\"Name the dataframe we will be using for the linear regression model data_final_model'"
      ]
     },
     "execution_count": 136,
     "metadata": {},
     "output_type": "execute_result"
    }
   ],
   "source": [
    "\"\"\"\"Name the dataframe we will be using for the linear regression model data_final_model\"\"\"\n",
    "\n",
    "### BEGIN SOLUTION\n",
    "# Create column equal to the cuberoot of AvgNightLight\n",
    "data_final_model['AvgNightLight_cuberoot'] = data_final_model['AvgNightLight'] ** (1/3)\n",
    "### END SOLUTION"
   ]
  },
  {
   "cell_type": "code",
   "execution_count": 137,
   "metadata": {
    "nbgrader": {
     "grade": true,
     "grade_id": "cell-62c55cc0107d1e24",
     "locked": true,
     "points": 1,
     "schema_version": 1,
     "solution": false
    }
   },
   "outputs": [],
   "source": [
    "####################################INTENTIONALLY BLANK FOR TESTING####################################\n",
    "### BEGIN HIDDEN TESTS\n",
    "assert data_final_model['AvgNightLight_cuberoot'].equals(data_final_model['AvgNightLight'] ** (1/3))\n",
    "### END HIDDEN TESTS"
   ]
  },
  {
   "cell_type": "markdown",
   "metadata": {
    "nbgrader": {
     "grade": false,
     "grade_id": "cell-9d74fcf15778c78c",
     "locked": true,
     "schema_version": 1,
     "solution": false
    }
   },
   "source": [
    "#### Step 8: Build a linear regression model to predict MPI\n",
    "Use the following independent variables:\n",
    "* AvgNightLight_cuberoot\n",
    "* Sector"
   ]
  },
  {
   "cell_type": "code",
   "execution_count": 146,
   "metadata": {
    "nbgrader": {
     "grade": false,
     "grade_id": "cell-60165d2bfddd98cd",
     "locked": false,
     "schema_version": 1,
     "solution": true
    }
   },
   "outputs": [
    {
     "data": {
      "text/plain": [
       "'Use random state 0 when splitting training and test data 0.8/0.2, and add a constant to \\nthe linear regression.'"
      ]
     },
     "execution_count": 146,
     "metadata": {},
     "output_type": "execute_result"
    },
    {
     "name": "stdout",
     "output_type": "stream",
     "text": [
      "                            OLS Regression Results                            \n",
      "==============================================================================\n",
      "Dep. Variable:            MPI_Country   R-squared:                       0.301\n",
      "Model:                            OLS   Adj. R-squared:                  0.299\n",
      "Method:                 Least Squares   F-statistic:                     137.8\n",
      "Date:                Wed, 10 Oct 2018   Prob (F-statistic):               0.00\n",
      "Time:                        22:30:15   Log-Likelihood:                 3816.0\n",
      "No. Observations:                4494   AIC:                            -7602.\n",
      "Df Residuals:                    4479   BIC:                            -7506.\n",
      "Df Model:                          14                                         \n",
      "Covariance Type:            nonrobust                                         \n",
      "==========================================================================================\n",
      "                             coef    std err          t      P>|t|      [0.025      0.975]\n",
      "------------------------------------------------------------------------------------------\n",
      "const                      0.2787      0.008     34.429      0.000       0.263       0.295\n",
      "AvgNightLight_cuberoot    -0.0587      0.002    -36.537      0.000      -0.062      -0.056\n",
      "Retail                     0.1612      0.008     19.772      0.000       0.145       0.177\n",
      "Food                       0.1521      0.008     19.063      0.000       0.136       0.168\n",
      "Services                   0.1298      0.009     13.782      0.000       0.111       0.148\n",
      "Clothing                   0.1346      0.009     14.896      0.000       0.117       0.152\n",
      "Arts                       0.1682      0.021      7.893      0.000       0.126       0.210\n",
      "Agriculture                0.1606      0.008     19.382      0.000       0.144       0.177\n",
      "Manufacturing              0.1417      0.022      6.315      0.000       0.098       0.186\n",
      "Construction               0.1352      0.018      7.581      0.000       0.100       0.170\n",
      "Wholesale                  0.0768      0.028      2.765      0.006       0.022       0.131\n",
      "Health                     0.1880      0.017     10.848      0.000       0.154       0.222\n",
      "Transportation             0.1996      0.017     11.888      0.000       0.167       0.233\n",
      "Education                  0.1829      0.017     11.025      0.000       0.150       0.215\n",
      "Housing                    0.2263      0.013     16.970      0.000       0.200       0.252\n",
      "==============================================================================\n",
      "Omnibus:                      116.623   Durbin-Watson:                   1.921\n",
      "Prob(Omnibus):                  0.000   Jarque-Bera (JB):               62.318\n",
      "Skew:                          -0.090   Prob(JB):                     2.94e-14\n",
      "Kurtosis:                       2.452   Cond. No.                         51.5\n",
      "==============================================================================\n",
      "\n",
      "Warnings:\n",
      "[1] Standard Errors assume that the covariance matrix of the errors is correctly specified.\n"
     ]
    }
   ],
   "source": [
    "\"\"\"Use random state 0 when splitting training and test data 0.8/0.2, and add a constant to \n",
    "the linear regression.\"\"\"\n",
    "\n",
    "### BEGIN SOLUTION\n",
    "# Define our dependent variable\n",
    "y_column = 'MPI_Country'\n",
    "y = data_final_model[y_column]\n",
    "\n",
    "# Define  our independent variables\n",
    "x_columns = ['AvgNightLight_cuberoot', 'Retail', \\\n",
    "             'Food', 'Services', 'Clothing', 'Arts', 'Agriculture', 'Manufacturing', 'Construction',\\\n",
    "             'Wholesale', 'Health', 'Transportation', 'Education', 'Housing']\n",
    "X = data_final_model[x_columns]\n",
    "\n",
    "# Split our data into training and test data sets\n",
    "X_train, X_test, y_train, y_test = train_test_split(X, y, test_size=0.2, random_state=0)\n",
    "\n",
    "# Build the model\n",
    "X2 = sm.add_constant(X_train)\n",
    "model = sm.OLS(y_train, X2)\n",
    "model2 = model.fit()\n",
    "print(model2.summary())\n",
    "### END SOLUTION"
   ]
  },
  {
   "cell_type": "code",
   "execution_count": 142,
   "metadata": {
    "nbgrader": {
     "grade": false,
     "grade_id": "cell-a254a1f27b0e7f5c",
     "locked": false,
     "schema_version": 1,
     "solution": true
    }
   },
   "outputs": [
    {
     "data": {
      "text/plain": [
       "'Save the R-squared for the model built on training data as r2_training. Is this a good model? \\nChange the boolean to reflect your opinion'"
      ]
     },
     "execution_count": 142,
     "metadata": {},
     "output_type": "execute_result"
    }
   ],
   "source": [
    "\"\"\"Save the R-squared for the model built on training data as r2_training. Is this a good model? \n",
    "Change the boolean to reflect your opinion\"\"\"\n",
    "\n",
    "### BEGIN SOLUTION\n",
    "r2_training = 0.301\n",
    "good_model = False\n",
    "### END SOLUTION\n",
    "r2_training = 0\n",
    "good_model = True"
   ]
  },
  {
   "cell_type": "code",
   "execution_count": 143,
   "metadata": {
    "nbgrader": {
     "grade": true,
     "grade_id": "cell-05312a6533047985",
     "locked": true,
     "points": 1,
     "schema_version": 1,
     "solution": false
    }
   },
   "outputs": [],
   "source": [
    "####################################INTENTIONALLY BLANK FOR TESTING####################################\n",
    "### BEGIN HIDDEN TESTS\n",
    "assert abs(r2_training - 0.301) < 0.001\n",
    "### END HIDDEN TESTS"
   ]
  },
  {
   "cell_type": "code",
   "execution_count": 144,
   "metadata": {
    "nbgrader": {
     "grade": true,
     "grade_id": "cell-7c36ab1792ec743c",
     "locked": true,
     "points": 1,
     "schema_version": 1,
     "solution": false
    }
   },
   "outputs": [],
   "source": [
    "####################################INTENTIONALLY BLANK FOR TESTING####################################\n",
    "### BEGIN HIDDEN TESTS\n",
    "assert good_model == False\n",
    "### END HIDDEN TESTS"
   ]
  },
  {
   "cell_type": "code",
   "execution_count": 147,
   "metadata": {
    "nbgrader": {
     "grade": true,
     "grade_id": "cell-072a2cd5243e8364",
     "locked": false,
     "points": 0,
     "schema_version": 1,
     "solution": true
    }
   },
   "outputs": [
    {
     "data": {
      "text/plain": [
       "'To understand the model, plot AvgNightLight_cuberoot and the MPI country true values\\nand predicted values'"
      ]
     },
     "execution_count": 147,
     "metadata": {},
     "output_type": "execute_result"
    },
    {
     "data": {
      "text/plain": [
       "<matplotlib.collections.PathCollection at 0x220ce066358>"
      ]
     },
     "execution_count": 147,
     "metadata": {},
     "output_type": "execute_result"
    },
    {
     "data": {
      "text/plain": [
       "<matplotlib.collections.PathCollection at 0x220ce066780>"
      ]
     },
     "execution_count": 147,
     "metadata": {},
     "output_type": "execute_result"
    },
    {
     "data": {
      "image/png": "[encoded data removed]",
      "text/plain": [
       "<Figure size 432x288 with 1 Axes>"
      ]
     },
     "metadata": {},
     "output_type": "display_data"
    }
   ],
   "source": [
    "\"\"\"To understand the model, plot AvgNightLight_cuberoot and the MPI country true values\n",
    "and predicted values\"\"\"\n",
    "\n",
    "### BEGIN SOLUTION\n",
    "# Plot the results of the linear regression\n",
    "predictions_train = model2.predict(X2)\n",
    "plt.scatter(X_train['AvgNightLight_cuberoot'], y_train, color = 'black')\n",
    "plt.scatter(X_train['AvgNightLight_cuberoot'], predictions_train)\n",
    "plt.show()\n",
    "### END SOLUTION"
   ]
  },
  {
   "cell_type": "markdown",
   "metadata": {
    "nbgrader": {
     "grade": false,
     "grade_id": "cell-96ece4387c922dc6",
     "locked": true,
     "schema_version": 1,
     "solution": false
    }
   },
   "source": [
    "## Model evaluation"
   ]
  },
  {
   "cell_type": "markdown",
   "metadata": {
    "nbgrader": {
     "grade": false,
     "grade_id": "cell-66a509e0ae857d4c",
     "locked": true,
     "schema_version": 1,
     "solution": false
    }
   },
   "source": [
    "#### Step 9: test the model for accuracy"
   ]
  },
  {
   "cell_type": "code",
   "execution_count": 121,
   "metadata": {
    "nbgrader": {
     "grade": false,
     "grade_id": "cell-28f919faa9d7349a",
     "locked": false,
     "schema_version": 1,
     "solution": true
    }
   },
   "outputs": [
    {
     "data": {
      "text/plain": [
       "'Save the r2 and mse values to variables named r2 and mse'"
      ]
     },
     "execution_count": 121,
     "metadata": {},
     "output_type": "execute_result"
    }
   ],
   "source": [
    "\"\"\"Save the r2 and mse values to variables named r2 and mse\"\"\"\n",
    "\n",
    "### BEGIN SOLUTION\n",
    "X2_test = sm.add_constant(X_test)\n",
    "predictions_test = model2.predict(X2_test)\n",
    "\n",
    "r2 = r2_score(y_test, predictions_test)\n",
    "mse = mean_absolute_error(y_test, predictions_test)\n",
    "### END SOLUTION"
   ]
  },
  {
   "cell_type": "code",
   "execution_count": 122,
   "metadata": {
    "nbgrader": {
     "grade": true,
     "grade_id": "cell-a1d34dd41d2288bc",
     "locked": true,
     "points": 1,
     "schema_version": 1,
     "solution": false
    }
   },
   "outputs": [],
   "source": [
    "####################################INTENTIONALLY BLANK FOR TESTING####################################\n",
    "### BEGIN HIDDEN TESTS\n",
    "assert abs(r2 - 0.2414173689582232) < 0.001\n",
    "assert abs(mse - 0.08427961305838927) < 0.001\n",
    "### END HIDDEN TESTS"
   ]
  },
  {
   "cell_type": "markdown",
   "metadata": {
    "nbgrader": {
     "grade": false,
     "grade_id": "cell-58d8cf0774540a8f",
     "locked": true,
     "schema_version": 1,
     "solution": false
    }
   },
   "source": [
    "#### Step 10: test assumptions that apply after building the model\n",
    "There are two other assumptions for linear regression that the model must follow. Test those two assumptions below."
   ]
  },
  {
   "cell_type": "code",
   "execution_count": 123,
   "metadata": {
    "nbgrader": {
     "grade": false,
     "grade_id": "cell-76bd5bbbceeb0088",
     "locked": false,
     "schema_version": 1,
     "solution": true
    }
   },
   "outputs": [
    {
     "data": {
      "text/plain": [
       "'Test the first of these assumptions. Set first_assumption = True if it passed or False if it did not'"
      ]
     },
     "execution_count": 123,
     "metadata": {},
     "output_type": "execute_result"
    },
    {
     "data": {
      "text/plain": [
       "<matplotlib.collections.PathCollection at 0x220ccbb2198>"
      ]
     },
     "execution_count": 123,
     "metadata": {},
     "output_type": "execute_result"
    },
    {
     "data": {
      "image/png": "[encoded data removed]",
      "text/plain": [
       "<Figure size 432x288 with 1 Axes>"
      ]
     },
     "metadata": {},
     "output_type": "display_data"
    }
   ],
   "source": [
    "\"\"\"Test the first of these assumptions. Set first_assumption = True if it passed or False if it did not\"\"\"\n",
    "\n",
    "### BEGIN SOLUTION\n",
    "# Create a column of the residuals on training data\n",
    "residuals = y_train - predictions_train\n",
    "\n",
    "# Test homoscedascity -- good\n",
    "# Note that the clusters of linear dots is due to trying to predict a country's MPI when the data for loans is at a more granular level\n",
    "plt.scatter(y = residuals, x = predictions_train)\n",
    "first_assumption = True\n",
    "### END SOLUTION"
   ]
  },
  {
   "cell_type": "code",
   "execution_count": 124,
   "metadata": {
    "nbgrader": {
     "grade": false,
     "grade_id": "cell-9feba3677d4260f0",
     "locked": false,
     "schema_version": 1,
     "solution": true
    }
   },
   "outputs": [
    {
     "data": {
      "text/plain": [
       "'Test the second of these assumptions. Set second_assumption = True if it passed or False if it did not'"
      ]
     },
     "execution_count": 124,
     "metadata": {},
     "output_type": "execute_result"
    },
    {
     "data": {
      "text/plain": [
       "<matplotlib.axes._subplots.AxesSubplot at 0x220ccbd00b8>"
      ]
     },
     "execution_count": 124,
     "metadata": {},
     "output_type": "execute_result"
    },
    {
     "data": {
      "image/png": "[encoded data removed]",
      "text/plain": [
       "<Figure size 432x288 with 1 Axes>"
      ]
     },
     "metadata": {},
     "output_type": "display_data"
    }
   ],
   "source": [
    "\"\"\"Test the second of these assumptions. Set second_assumption = True if it passed or False if it did not\"\"\"\n",
    "\n",
    "### BEGIN SOLUTION\n",
    "# Test normality of residuals -- good\n",
    "residuals.hist()\n",
    "second_assumption = True\n",
    "### END SOLUTION"
   ]
  },
  {
   "cell_type": "code",
   "execution_count": 125,
   "metadata": {
    "nbgrader": {
     "grade": true,
     "grade_id": "cell-fdccb003342a4242",
     "locked": true,
     "points": 2,
     "schema_version": 1,
     "solution": false
    }
   },
   "outputs": [],
   "source": [
    "####################################INTENTIONALLY BLANK FOR TESTING####################################\n",
    "### BEGIN HIDDEN TESTS\n",
    "assert first_assumption == True\n",
    "assert second_assumption == True\n",
    "### END HIDDEN TESTS"
   ]
  },
  {
   "cell_type": "markdown",
   "metadata": {
    "nbgrader": {
     "grade": false,
     "grade_id": "cell-9e078eb0fbc34dff",
     "locked": true,
     "schema_version": 1,
     "solution": false
    }
   },
   "source": [
    "## Improving the model\n",
    "\n",
    "Clearly we have not captured all the independent variables necessary for a higher R2. Please describe other variables you would want to add to improve the model for predicting MPI. Describe where we could get that data."
   ]
  },
  {
   "cell_type": "markdown",
   "metadata": {
    "nbgrader": {
     "grade": true,
     "grade_id": "cell-6ce09f568716612a",
     "locked": false,
     "points": 1,
     "schema_version": 1,
     "solution": true
    }
   },
   "source": [
    "***Example responses (but students would need to elaborate):***\n",
    "\n",
    "* Life expectancy\n",
    "* Child morality rates\n",
    "* Literacy rates"
   ]
  }
 ],
 "metadata": {
  "celltoolbar": "Create Assignment",
  "kernelspec": {
   "display_name": "Python 3",
   "language": "python",
   "name": "python3"
  },
  "language_info": {
   "codemirror_mode": {
    "name": "ipython",
    "version": 3
   },
   "file_extension": ".py",
   "mimetype": "text/x-python",
   "name": "python",
   "nbconvert_exporter": "python",
   "pygments_lexer": "ipython3",
   "version": "3.6.8"
  }
 },
 "nbformat": 4,
 "nbformat_minor": 2
}
