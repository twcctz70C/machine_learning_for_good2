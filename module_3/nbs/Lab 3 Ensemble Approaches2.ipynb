{
 "cells": [
  {
   "cell_type": "markdown",
   "metadata": {},
   "source": [
    "# Lab 3: Ensemble Approaches"
   ]
  },
  {
   "cell_type": "markdown",
   "metadata": {},
   "source": [
    "In this notebook, we are going to be focusing on the Random Forest Ensemble method. As you learned in the class, Random Forest is an Ensemble approach where an algorithm acts as a group of experts analysing your data and the results is the aggregation of those individual analyses. \n",
    "\n",
    "A quick refresher on the theory:\n",
    "- Random Forest is based on Decision Trees -> many trees = a forest!\n",
    "- Grows multiple trees on random subsets of the parent dataset\n",
    "- At every split, a new random subset of features is chosen\n",
    "- This leads to \"decorrelated\" trees which leads to a large increase in performance!\n"
   ]
  },
  {
   "cell_type": "markdown",
   "metadata": {},
   "source": [
    "First step is to import the libraries we want to use. Notice there is a new one below - sklearn.ensemble.\n",
    "\n",
    "Sklearn is a suite of libraries that contain a range of machine learning tools. Today we are taking the RandomForestRegressor from the sklearn ensemble library. For more information on sklearn, check out there [diagram](http://scikit-learn.org/stable/tutorial/machine_learning_map/) for when and where to use difference machine learning methods."
   ]
  },
  {
   "cell_type": "code",
   "execution_count": 1,
   "metadata": {
    "collapsed": true
   },
   "outputs": [],
   "source": [
    "import pandas as pd\n",
    "import matplotlib.pyplot as plt\n",
    "import matplotlib.cm as cm\n",
    "import numpy as np\n",
    "from ggplot import *\n",
    "from sklearn.ensemble import RandomForestRegressor, RandomForestClassifier\n",
    "from sklearn.model_selection import train_test_split\n",
    "from sklearn.metrics import mean_squared_error\n",
    "import time\n",
    "import re\n",
    "plt.style.use('ggplot')\n",
    "%matplotlib inline\n",
    "\n",
    "# the command below means that the output of multiple commands in a cell will be output at once.\n",
    "\n",
    "from IPython.core.interactiveshell import InteractiveShell\n",
    "InteractiveShell.ast_node_interactivity = \"all\"\n",
    "\n",
    "# the command below tells jupyter to display up to 80 columns, this keeps everything visible\n",
    "pd.set_option('display.max_columns', 80)\n",
    "pd.set_option('expand_frame_repr', True)\n"
   ]
  },
  {
   "cell_type": "markdown",
   "metadata": {},
   "source": [
    "To get more information about a new modules you have imported, run the cell below. A window containing a description of the module will appear! This provides details on the module parameters and attributes and links for further references. Try it out!"
   ]
  },
  {
   "cell_type": "code",
   "execution_count": 2,
   "metadata": {
    "collapsed": true
   },
   "outputs": [],
   "source": [
    "RandomForestRegressor?"
   ]
  },
  {
   "cell_type": "markdown",
   "metadata": {},
   "source": [
    "You can also visit their page on [RandomForestReggresors](http://scikit-learn.org/stable/modules/generated/sklearn.ensemble.RandomForestRegressor.html), or visit their helpful [User Guide](http://scikit-learn.org/stable/modules/ensemble.html#forest) for Ensemble Approaches."
   ]
  },
  {
   "cell_type": "markdown",
   "metadata": {},
   "source": [
    "Next we import the entire dataset and the kiva data dictionary"
   ]
  },
  {
   "cell_type": "code",
   "execution_count": 3,
   "metadata": {
    "collapsed": true
   },
   "outputs": [],
   "source": [
    "df=pd.read_csv('../../data/df.csv', low_memory=False)"
   ]
  },
  {
   "cell_type": "markdown",
   "metadata": {},
   "source": [
    "## What questions should we ask?\n",
    "To begin with we need to think about what question are we trying to answer with our Random Forest algorithms.\n",
    "\n",
    "In this notebook we will focus predominantly on the Regressor module so that we can compare our results to the previous class. **Therefore, we will be looking at how we can predict the loan amount using RandomForestRegressor.**\n",
    "\n",
    "However, Random Forest can also be used to classify data, for example some interesting classification questions we could investigate are:\n",
    "- Can we classify which loans expired and which one got funded?\n",
    "- Is a loan posted by a male or female?\n",
    "\n",
    "Feel free to investigate these on your own time! Here is a very simple example of how the RandomForestClassifier works: https://bicorner.com/2015/10/26/random-forest-using-ipython/"
   ]
  },
  {
   "cell_type": "markdown",
   "metadata": {},
   "source": [
    "Let's start with **loan amount** and see if we can predict how much is requested to be funed using the RandomForestRegressor! "
   ]
  },
  {
   "cell_type": "markdown",
   "metadata": {},
   "source": [
    "## Creating Explanatory Features of Interest\n",
    "For the sake of comparison we will use similar features as in the previous class where we used linear regression to predict the number of days to fund. The code to produce these features is given below but please refer back to Lab 2 if you need any further explanation."
   ]
  },
  {
   "cell_type": "code",
   "execution_count": 4,
   "metadata": {
    "collapsed": true
   },
   "outputs": [],
   "source": [
    "## Male/Female \n",
    "df['male'] = df['borrowers'].apply(lambda x: x.split(\"gender': '\")[1][0]=='M')\n",
    "## Whether or not the borrower is widowed\n",
    "df['widowed'] = np.where(df['description.texts.en'].str.contains(\"widowed|widow\", na=False) ==True, True, False)\n",
    "## Whether or not the borrower has children \n",
    "df['kids'] = np.where(df['description.texts.en'].str.contains(\"kids|child|children|kid|son|daughter\", na=False) ==True,True,False)\n",
    "## Features of the loan posting\n",
    "## Does the borrower include a video? \n",
    "df['video'] = np.where(pd.isnull(df['video.id']) ==False, True, False)\n",
    "## Does the borrower include a picture? \n",
    "df['pictured'] = df['borrowers'].apply(lambda x: x.split(\"gender': '\")[1][0]==True)"
   ]
  },
  {
   "cell_type": "markdown",
   "metadata": {},
   "source": [
    "Time to fund, disperse or expire"
   ]
  },
  {
   "cell_type": "code",
   "execution_count": 5,
   "metadata": {},
   "outputs": [],
   "source": [
    "df = df.rename(columns={'terms.disbursal_date': 'disbursal_date'})\n",
    "\n",
    "## convert columns to datetime format\n",
    "df['funded_date_cln'] = pd.to_datetime(df.funded_date.str[:10], infer_datetime_format=True)\n",
    "df['post_date_cln'] = pd.to_datetime(df.posted_date.str[:10], infer_datetime_format=True)\n",
    "df['disb_date_cln'] = pd.to_datetime(df.disbursal_date.str[:10], infer_datetime_format=True)\n",
    "df['exp_date_cln'] = pd.to_datetime(df.planned_expiration_date.str[:10], infer_datetime_format=True)\n",
    "\n",
    "## Time to fund is the funded date minus the posted date\n",
    "df['time_to_fund'] =df['funded_date_cln'] - df['post_date_cln']\n",
    "df['days_to_fund'] = df.time_to_fund.dt.days\n",
    "\n",
    "## Time to dispursement is the Disbursed date minus the Posted Date\n",
    "df['time_to_disb'] =df['disb_date_cln'] - df['post_date_cln']\n",
    "df['days_to_disb'] = df.time_to_disb.dt.days\n",
    "\n",
    "## Time to expiration is the expiration date minus the Posted Date\n",
    "df['time_to_exp'] =df['exp_date_cln'] - df['post_date_cln']\n",
    "df['days_to_exp'] = df.time_to_exp.dt.days\n",
    "\n",
    "# Create two variables one for lattitude and one for longitude\n",
    "df['lat'] = df['location.geo.pairs'].apply(lambda x: x.split()[0])\n",
    "df['long'] = df['location.geo.pairs'].apply(lambda x: x.split()[1])"
   ]
  },
  {
   "cell_type": "code",
   "execution_count": 6,
   "metadata": {},
   "outputs": [],
   "source": [
    "# convert strs to datetimes\n",
    "for col in df.columns:\n",
    "    if \"_date\" in col:\n",
    "        df[col] = pd.to_datetime(df[col])\n",
    "        col_root = col.split('_date')[0]\n",
    "        df[col_root+\"_year\"] = df[col].apply(lambda x: x.year)\n",
    "        df[col_root+\"_month\"] = df[col].apply(lambda x: x.month)\n",
    "        df[col_root+\"_unix\"] = df[col].apply(lambda x: time.mktime(x.timetuple()) if not pd.isnull(x) else 0)"
   ]
  },
  {
   "cell_type": "code",
   "execution_count": 7,
   "metadata": {},
   "outputs": [],
   "source": [
    "# number of loans posted in a given month\n",
    "num_posted = pd.DataFrame(df.groupby(['posted_month', 'posted_year']).count()['activity'])\n",
    "num_posted.columns = ['num_posted']\n",
    "# number of loans expired in a given month\n",
    "num_expired = pd.DataFrame(df[df['status']=='expired'].groupby(['posted_month', 'posted_year']).count()['activity'])\n",
    "num_expired.columns = ['num_expired']\n",
    "# mean loan in a given month\n",
    "mean_loan = pd.DataFrame(df.groupby(['posted_month', 'posted_year']).mean()['loan_amount'])\n",
    "mean_loan.columns = ['mean_loan']\n",
    "# mean loan of expired loans in that month\n",
    "mean_expired_loan = pd.DataFrame(df[df['status']=='expired'].groupby(['posted_month', 'posted_year']).mean()['loan_amount'])\n",
    "mean_expired_loan.columns = ['mean_expired_loan']\n",
    "# Adding these to the dataframe\n",
    "df = df.merge(num_posted, left_on=['posted_month', 'posted_year'], right_index=True, how='outer')\n",
    "df = df.merge(num_expired, left_on=['posted_month', 'posted_year'], right_index=True, how='outer')\n",
    "df = df.merge(mean_loan, left_on=['posted_month', 'posted_year'], right_index=True, how='outer')\n",
    "df = df.merge(mean_expired_loan, left_on=['posted_month', 'posted_year'], right_index=True, how='outer')\n",
    "# calculating relative loan\n",
    "df['relative_loan'] = df['loan_amount'] / df['mean_loan']"
   ]
  },
  {
   "cell_type": "code",
   "execution_count": 8,
   "metadata": {},
   "outputs": [
    {
     "data": {
      "text/html": [
       "<div>\n",
       "<table border=\"1\" class=\"dataframe\">\n",
       "  <thead>\n",
       "    <tr style=\"text-align: right;\">\n",
       "      <th></th>\n",
       "      <th></th>\n",
       "      <th>mean_loan</th>\n",
       "    </tr>\n",
       "    <tr>\n",
       "      <th>posted_month</th>\n",
       "      <th>posted_year</th>\n",
       "      <th></th>\n",
       "    </tr>\n",
       "  </thead>\n",
       "  <tbody>\n",
       "    <tr>\n",
       "      <th>4</th>\n",
       "      <th>2006</th>\n",
       "      <td>225.000000</td>\n",
       "    </tr>\n",
       "    <tr>\n",
       "      <th>5</th>\n",
       "      <th>2006</th>\n",
       "      <td>391.666667</td>\n",
       "    </tr>\n",
       "    <tr>\n",
       "      <th>6</th>\n",
       "      <th>2006</th>\n",
       "      <td>430.392157</td>\n",
       "    </tr>\n",
       "    <tr>\n",
       "      <th>7</th>\n",
       "      <th>2006</th>\n",
       "      <td>374.193548</td>\n",
       "    </tr>\n",
       "    <tr>\n",
       "      <th>8</th>\n",
       "      <th>2006</th>\n",
       "      <td>310.227273</td>\n",
       "    </tr>\n",
       "    <tr>\n",
       "      <th>9</th>\n",
       "      <th>2006</th>\n",
       "      <td>435.714286</td>\n",
       "    </tr>\n",
       "    <tr>\n",
       "      <th>10</th>\n",
       "      <th>2006</th>\n",
       "      <td>330.555556</td>\n",
       "    </tr>\n",
       "    <tr>\n",
       "      <th>11</th>\n",
       "      <th>2006</th>\n",
       "      <td>701.181102</td>\n",
       "    </tr>\n",
       "    <tr>\n",
       "      <th>12</th>\n",
       "      <th>2006</th>\n",
       "      <td>615.373563</td>\n",
       "    </tr>\n",
       "    <tr>\n",
       "      <th>1</th>\n",
       "      <th>2007</th>\n",
       "      <td>558.939394</td>\n",
       "    </tr>\n",
       "    <tr>\n",
       "      <th>2</th>\n",
       "      <th>2007</th>\n",
       "      <td>520.092025</td>\n",
       "    </tr>\n",
       "    <tr>\n",
       "      <th>3</th>\n",
       "      <th>2007</th>\n",
       "      <td>422.994987</td>\n",
       "    </tr>\n",
       "    <tr>\n",
       "      <th>4</th>\n",
       "      <th>2007</th>\n",
       "      <td>541.964286</td>\n",
       "    </tr>\n",
       "    <tr>\n",
       "      <th>5</th>\n",
       "      <th>2007</th>\n",
       "      <td>483.444444</td>\n",
       "    </tr>\n",
       "    <tr>\n",
       "      <th>6</th>\n",
       "      <th>2007</th>\n",
       "      <td>531.544503</td>\n",
       "    </tr>\n",
       "    <tr>\n",
       "      <th>7</th>\n",
       "      <th>2007</th>\n",
       "      <td>426.991150</td>\n",
       "    </tr>\n",
       "    <tr>\n",
       "      <th>8</th>\n",
       "      <th>2007</th>\n",
       "      <td>692.013889</td>\n",
       "    </tr>\n",
       "    <tr>\n",
       "      <th>9</th>\n",
       "      <th>2007</th>\n",
       "      <td>679.722222</td>\n",
       "    </tr>\n",
       "    <tr>\n",
       "      <th>10</th>\n",
       "      <th>2007</th>\n",
       "      <td>729.705882</td>\n",
       "    </tr>\n",
       "    <tr>\n",
       "      <th>11</th>\n",
       "      <th>2007</th>\n",
       "      <td>821.527778</td>\n",
       "    </tr>\n",
       "    <tr>\n",
       "      <th>12</th>\n",
       "      <th>2007</th>\n",
       "      <td>772.500000</td>\n",
       "    </tr>\n",
       "    <tr>\n",
       "      <th>1</th>\n",
       "      <th>2008</th>\n",
       "      <td>918.627451</td>\n",
       "    </tr>\n",
       "    <tr>\n",
       "      <th>2</th>\n",
       "      <th>2008</th>\n",
       "      <td>828.125000</td>\n",
       "    </tr>\n",
       "    <tr>\n",
       "      <th>3</th>\n",
       "      <th>2008</th>\n",
       "      <td>769.531250</td>\n",
       "    </tr>\n",
       "    <tr>\n",
       "      <th>4</th>\n",
       "      <th>2008</th>\n",
       "      <td>1465.425532</td>\n",
       "    </tr>\n",
       "    <tr>\n",
       "      <th>5</th>\n",
       "      <th>2008</th>\n",
       "      <td>1416.379310</td>\n",
       "    </tr>\n",
       "    <tr>\n",
       "      <th>6</th>\n",
       "      <th>2008</th>\n",
       "      <td>882.894737</td>\n",
       "    </tr>\n",
       "    <tr>\n",
       "      <th>7</th>\n",
       "      <th>2008</th>\n",
       "      <td>710.869565</td>\n",
       "    </tr>\n",
       "    <tr>\n",
       "      <th>8</th>\n",
       "      <th>2008</th>\n",
       "      <td>726.000000</td>\n",
       "    </tr>\n",
       "    <tr>\n",
       "      <th>9</th>\n",
       "      <th>2008</th>\n",
       "      <td>767.708333</td>\n",
       "    </tr>\n",
       "    <tr>\n",
       "      <th>...</th>\n",
       "      <th>...</th>\n",
       "      <td>...</td>\n",
       "    </tr>\n",
       "    <tr>\n",
       "      <th>12</th>\n",
       "      <th>2014</th>\n",
       "      <td>755.643204</td>\n",
       "    </tr>\n",
       "    <tr>\n",
       "      <th>1</th>\n",
       "      <th>2015</th>\n",
       "      <td>596.782787</td>\n",
       "    </tr>\n",
       "    <tr>\n",
       "      <th>2</th>\n",
       "      <th>2015</th>\n",
       "      <td>642.857143</td>\n",
       "    </tr>\n",
       "    <tr>\n",
       "      <th>3</th>\n",
       "      <th>2015</th>\n",
       "      <td>551.500770</td>\n",
       "    </tr>\n",
       "    <tr>\n",
       "      <th>4</th>\n",
       "      <th>2015</th>\n",
       "      <td>653.648325</td>\n",
       "    </tr>\n",
       "    <tr>\n",
       "      <th>5</th>\n",
       "      <th>2015</th>\n",
       "      <td>373.720096</td>\n",
       "    </tr>\n",
       "    <tr>\n",
       "      <th>6</th>\n",
       "      <th>2015</th>\n",
       "      <td>397.783849</td>\n",
       "    </tr>\n",
       "    <tr>\n",
       "      <th>7</th>\n",
       "      <th>2015</th>\n",
       "      <td>370.380623</td>\n",
       "    </tr>\n",
       "    <tr>\n",
       "      <th>8</th>\n",
       "      <th>2015</th>\n",
       "      <td>398.704442</td>\n",
       "    </tr>\n",
       "    <tr>\n",
       "      <th>9</th>\n",
       "      <th>2015</th>\n",
       "      <td>388.473718</td>\n",
       "    </tr>\n",
       "    <tr>\n",
       "      <th>10</th>\n",
       "      <th>2015</th>\n",
       "      <td>389.845845</td>\n",
       "    </tr>\n",
       "    <tr>\n",
       "      <th>11</th>\n",
       "      <th>2015</th>\n",
       "      <td>415.318471</td>\n",
       "    </tr>\n",
       "    <tr>\n",
       "      <th>12</th>\n",
       "      <th>2015</th>\n",
       "      <td>512.950180</td>\n",
       "    </tr>\n",
       "    <tr>\n",
       "      <th>1</th>\n",
       "      <th>2016</th>\n",
       "      <td>545.472756</td>\n",
       "    </tr>\n",
       "    <tr>\n",
       "      <th>2</th>\n",
       "      <th>2016</th>\n",
       "      <td>549.487836</td>\n",
       "    </tr>\n",
       "    <tr>\n",
       "      <th>3</th>\n",
       "      <th>2016</th>\n",
       "      <td>537.121588</td>\n",
       "    </tr>\n",
       "    <tr>\n",
       "      <th>4</th>\n",
       "      <th>2016</th>\n",
       "      <td>519.262749</td>\n",
       "    </tr>\n",
       "    <tr>\n",
       "      <th>5</th>\n",
       "      <th>2016</th>\n",
       "      <td>441.257123</td>\n",
       "    </tr>\n",
       "    <tr>\n",
       "      <th>6</th>\n",
       "      <th>2016</th>\n",
       "      <td>455.317726</td>\n",
       "    </tr>\n",
       "    <tr>\n",
       "      <th>7</th>\n",
       "      <th>2016</th>\n",
       "      <td>443.635078</td>\n",
       "    </tr>\n",
       "    <tr>\n",
       "      <th>8</th>\n",
       "      <th>2016</th>\n",
       "      <td>473.122284</td>\n",
       "    </tr>\n",
       "    <tr>\n",
       "      <th>9</th>\n",
       "      <th>2016</th>\n",
       "      <td>441.634241</td>\n",
       "    </tr>\n",
       "    <tr>\n",
       "      <th>10</th>\n",
       "      <th>2016</th>\n",
       "      <td>390.974441</td>\n",
       "    </tr>\n",
       "    <tr>\n",
       "      <th>11</th>\n",
       "      <th>2016</th>\n",
       "      <td>497.587522</td>\n",
       "    </tr>\n",
       "    <tr>\n",
       "      <th>12</th>\n",
       "      <th>2016</th>\n",
       "      <td>458.935143</td>\n",
       "    </tr>\n",
       "    <tr>\n",
       "      <th>1</th>\n",
       "      <th>2017</th>\n",
       "      <td>469.534221</td>\n",
       "    </tr>\n",
       "    <tr>\n",
       "      <th>2</th>\n",
       "      <th>2017</th>\n",
       "      <td>378.294441</td>\n",
       "    </tr>\n",
       "    <tr>\n",
       "      <th>3</th>\n",
       "      <th>2017</th>\n",
       "      <td>457.481899</td>\n",
       "    </tr>\n",
       "    <tr>\n",
       "      <th>4</th>\n",
       "      <th>2017</th>\n",
       "      <td>450.213246</td>\n",
       "    </tr>\n",
       "    <tr>\n",
       "      <th>5</th>\n",
       "      <th>2017</th>\n",
       "      <td>431.362952</td>\n",
       "    </tr>\n",
       "  </tbody>\n",
       "</table>\n",
       "<p>134 rows × 1 columns</p>\n",
       "</div>"
      ],
      "text/plain": [
       "                            mean_loan\n",
       "posted_month posted_year             \n",
       "4            2006          225.000000\n",
       "5            2006          391.666667\n",
       "6            2006          430.392157\n",
       "7            2006          374.193548\n",
       "8            2006          310.227273\n",
       "9            2006          435.714286\n",
       "10           2006          330.555556\n",
       "11           2006          701.181102\n",
       "12           2006          615.373563\n",
       "1            2007          558.939394\n",
       "2            2007          520.092025\n",
       "3            2007          422.994987\n",
       "4            2007          541.964286\n",
       "5            2007          483.444444\n",
       "6            2007          531.544503\n",
       "7            2007          426.991150\n",
       "8            2007          692.013889\n",
       "9            2007          679.722222\n",
       "10           2007          729.705882\n",
       "11           2007          821.527778\n",
       "12           2007          772.500000\n",
       "1            2008          918.627451\n",
       "2            2008          828.125000\n",
       "3            2008          769.531250\n",
       "4            2008         1465.425532\n",
       "5            2008         1416.379310\n",
       "6            2008          882.894737\n",
       "7            2008          710.869565\n",
       "8            2008          726.000000\n",
       "9            2008          767.708333\n",
       "...                               ...\n",
       "12           2014          755.643204\n",
       "1            2015          596.782787\n",
       "2            2015          642.857143\n",
       "3            2015          551.500770\n",
       "4            2015          653.648325\n",
       "5            2015          373.720096\n",
       "6            2015          397.783849\n",
       "7            2015          370.380623\n",
       "8            2015          398.704442\n",
       "9            2015          388.473718\n",
       "10           2015          389.845845\n",
       "11           2015          415.318471\n",
       "12           2015          512.950180\n",
       "1            2016          545.472756\n",
       "2            2016          549.487836\n",
       "3            2016          537.121588\n",
       "4            2016          519.262749\n",
       "5            2016          441.257123\n",
       "6            2016          455.317726\n",
       "7            2016          443.635078\n",
       "8            2016          473.122284\n",
       "9            2016          441.634241\n",
       "10           2016          390.974441\n",
       "11           2016          497.587522\n",
       "12           2016          458.935143\n",
       "1            2017          469.534221\n",
       "2            2017          378.294441\n",
       "3            2017          457.481899\n",
       "4            2017          450.213246\n",
       "5            2017          431.362952\n",
       "\n",
       "[134 rows x 1 columns]"
      ]
     },
     "execution_count": 8,
     "metadata": {},
     "output_type": "execute_result"
    }
   ],
   "source": [
    "mean_loan.sort_index(level = ['posted_year','posted_month'],inplace=True)\n",
    "mean_loan"
   ]
  },
  {
   "cell_type": "markdown",
   "metadata": {},
   "source": [
    "Lets plot a line graph of the mean loan over time. There are some interesting results here."
   ]
  },
  {
   "cell_type": "code",
   "execution_count": 9,
   "metadata": {},
   "outputs": [
    {
     "data": {
      "text/plain": [
       "[<matplotlib.lines.Line2D at 0x131c3eef0>]"
      ]
     },
     "execution_count": 9,
     "metadata": {},
     "output_type": "execute_result"
    },
    {
     "data": {
      "text/plain": [
       "<matplotlib.legend.Legend at 0x132fce978>"
      ]
     },
     "execution_count": 9,
     "metadata": {},
     "output_type": "execute_result"
    },
    {
     "data": {
      "image/png": "[encoded data removed]",
      "text/plain": [
       "<matplotlib.figure.Figure at 0x132fce3c8>"
      ]
     },
     "metadata": {},
     "output_type": "display_data"
    }
   ],
   "source": [
    "plt.plot(mean_loan['mean_loan'].values, label='mean_loan')\n",
    "plt.legend()\n",
    "plt.show()"
   ]
  },
  {
   "cell_type": "code",
   "execution_count": 10,
   "metadata": {},
   "outputs": [],
   "source": [
    "# Some additional text features from the use description\n",
    "df['motor'] = df['use'].apply(lambda x: 1 if type(x)==str and 'motor' in x.lower() else 0)\n",
    "df['more'] = df['use'].apply(lambda x: 1 if type(x)==str and 'more' in x.lower() else 0)\n",
    "df['solar'] = df['use'].apply(lambda x: 1 if type(x)==str and 'to purchase a solar light ' in x.lower() else 0)\n",
    "df['num_tags'] = df['tags'].apply(lambda x: x.count(','))"
   ]
  },
  {
   "cell_type": "markdown",
   "metadata": {},
   "source": [
    "Let's now list the features that we want to use in the random forest algorithm.\n",
    "Sklearn's RandomForestRegressor can only handle boolean or numeric variables, so we will need to one-hot encode\n",
    "some of the string variables."
   ]
  },
  {
   "cell_type": "code",
   "execution_count": 12,
   "metadata": {},
   "outputs": [
    {
     "data": {
      "text/plain": [
       "Index(['num_tags', 'lat', 'long', 'days_to_fund', 'days_to_exp',\n",
       "       'borrower_count', 'posted_unix', 'activity', 'location.town',\n",
       "       'partner_id', 'sector', 'tags', 'male', 'widowed', 'kids', 'video',\n",
       "       'pictured', 'num_posted', 'motor', 'more', 'solar'],\n",
       "      dtype='object')"
      ]
     },
     "execution_count": 12,
     "metadata": {},
     "output_type": "execute_result"
    }
   ],
   "source": [
    "cols = df[['loan_amount', 'num_tags','lat', 'long','days_to_fund','days_to_exp','borrower_count','posted_unix','activity', 'location.town', 'partner_id', \"sector\", \"tags\", 'male', 'widowed', 'kids', 'video', 'pictured', 'num_posted', 'motor', 'more', 'solar']]\n",
    "rf_trainArr = cols.copy()\n",
    "rf_trainArr = rf_trainArr.dropna()\n",
    "# These is the corresponding array of results we are trying to predict\n",
    "rf_trainRes = rf_trainArr['loan_amount']\n",
    "rf_trainArr = rf_trainArr.drop('loan_amount', axis=1)\n",
    "rf_trainArr.columns"
   ]
  },
  {
   "cell_type": "markdown",
   "metadata": {},
   "source": [
    "One of the features here is tags which includes a range of different tags, lets look at these:"
   ]
  },
  {
   "cell_type": "code",
   "execution_count": 13,
   "metadata": {},
   "outputs": [
    {
     "data": {
      "text/plain": [
       "[]                                                                                                                                                                                                                                                                                                                                       37149\n",
       "[{'name': '#Woman Owned Biz'}, {'name': '#Parent'}]                                                                                                                                                                                                                                                                                       3215\n",
       "[{'name': 'user_favorite'}]                                                                                                                                                                                                                                                                                                               2552\n",
       "[{'name': '#Woman Owned Biz'}, {'name': '#Parent'}, {'name': '#Repeat Borrower'}]                                                                                                                                                                                                                                                         1246\n",
       "[{'name': '#Parent'}]                                                                                                                                                                                                                                                                                                                     1118\n",
       "[{'name': '#Woman Owned Biz'}]                                                                                                                                                                                                                                                                                                            1003\n",
       "[{'name': '#Woman Owned Biz'}, {'name': '#Parent'}, {'name': '#Schooling'}]                                                                                                                                                                                                                                                                917\n",
       "[{'name': 'volunteer_pick'}]                                                                                                                                                                                                                                                                                                               854\n",
       "[{'name': '#Woman Owned Biz'}, {'name': '#Vegan'}, {'name': '#Parent'}]                                                                                                                                                                                                                                                                    824\n",
       "[{'name': '#Parent'}, {'name': '#Repeat Borrower'}]                                                                                                                                                                                                                                                                                        704\n",
       "[{'name': 'user_favorite'}, {'name': '#Woman Owned Biz'}, {'name': '#Parent'}]                                                                                                                                                                                                                                                             692\n",
       "[{'name': 'volunteer_pick'}, {'name': 'volunteer_like'}]                                                                                                                                                                                                                                                                                   573\n",
       "[{'name': '#Woman Owned Biz'}, {'name': '#Animals'}, {'name': '#Parent'}]                                                                                                                                                                                                                                                                  528\n",
       "[{'name': '#Eco-friendly'}, {'name': '#Technology'}]                                                                                                                                                                                                                                                                                       482\n",
       "[{'name': '#Parent'}, {'name': '#Schooling'}]                                                                                                                                                                                                                                                                                              419\n",
       "[{'name': '#First Loan'}, {'name': '#Woman Owned Biz'}, {'name': '#Parent'}]                                                                                                                                                                                                                                                               416\n",
       "[{'name': '#Animals'}]                                                                                                                                                                                                                                                                                                                     397\n",
       "[{'name': '#Woman Owned Biz'}, {'name': '#Vegan'}, {'name': '#Parent'}, {'name': '#Schooling'}]                                                                                                                                                                                                                                            396\n",
       "[{'name': '#Animals'}, {'name': '#Parent'}]                                                                                                                                                                                                                                                                                                372\n",
       "[{'name': 'user_favorite'}, {'name': '#Sustainable Ag'}, {'name': '#Eco-friendly'}, {'name': '#Vegan'}, {'name': '#Parent'}, {'name': '#Schooling'}, {'name': '#Repeat Borrower'}, {'name': '#Technology'}]                                                                                                                                359\n",
       "[{'name': '#First Loan'}, {'name': '#Parent'}]                                                                                                                                                                                                                                                                                             355\n",
       "[{'name': 'volunteer_like'}]                                                                                                                                                                                                                                                                                                               349\n",
       "[{'name': 'user_favorite'}, {'name': '#Woman Owned Biz'}, {'name': '#Parent'}, {'name': '#Repeat Borrower'}]                                                                                                                                                                                                                               341\n",
       "[{'name': 'user_favorite'}, {'name': '#Sustainable Ag'}, {'name': '#Eco-friendly'}, {'name': '#Vegan'}, {'name': '#Parent'}, {'name': '#Repeat Borrower'}, {'name': '#Technology'}]                                                                                                                                                        328\n",
       "[{'name': '#Schooling'}]                                                                                                                                                                                                                                                                                                                   323\n",
       "[{'name': '#Woman Owned Biz'}, {'name': '#Vegan'}, {'name': '#Parent'}, {'name': '#Repeat Borrower'}]                                                                                                                                                                                                                                      309\n",
       "[{'name': 'user_favorite'}, {'name': '#Parent'}, {'name': '#Repeat Borrower'}]                                                                                                                                                                                                                                                             270\n",
       "[{'name': '#Sustainable Ag'}, {'name': '#Eco-friendly'}, {'name': '#Parent'}, {'name': '#Technology'}]                                                                                                                                                                                                                                     259\n",
       "[{'name': '#Woman Owned Biz'}, {'name': '#Repeat Borrower'}]                                                                                                                                                                                                                                                                               257\n",
       "[{'name': 'user_favorite'}, {'name': '#Parent'}]                                                                                                                                                                                                                                                                                           256\n",
       "                                                                                                                                                                                                                                                                                                                                         ...  \n",
       "[{'name': 'volunteer_like'}, {'name': '#First Loan'}, {'name': '#Sustainable Ag'}, {'name': '#Animals'}, {'name': '#Parent'}, {'name': '#Schooling'}, {'name': '#Post-disbursed'}, {'name': '#Inspiring Story'}, {'name': '#Interesting Photo'}, {'name': '#Low-profit FP'}, {'name': '#Hidden Gem'}, {'name': '#Biz Durable Asset'}]        1\n",
       "[{'name': '#Woman Owned Biz'}, {'name': '#Animals'}, {'name': '#Elderly'}, {'name': '#Parent'}, {'name': '#Fabrics'}]                                                                                                                                                                                                                        1\n",
       "[{'name': '#Interesting Photo'}, {'name': '#Supporting Family'}]                                                                                                                                                                                                                                                                             1\n",
       "[{'name': '#Woman Owned Biz'}, {'name': '#Animals'}, {'name': '#Biz Durable Asset'}, {'name': '#Repair Renew Replace'}]                                                                                                                                                                                                                      1\n",
       "[{'name': '#First Loan'}, {'name': '#Animals'}, {'name': '#Interesting Photo'}]                                                                                                                                                                                                                                                              1\n",
       "[{'name': '#Vegan'}, {'name': '#Single'}, {'name': '#Post-disbursed'}, {'name': '#Inspiring Story'}]                                                                                                                                                                                                                                         1\n",
       "[{'name': 'user_favorite'}, {'name': '#Single'}, {'name': '#Health and Sanitation'}, {'name': '#Biz Durable Asset'}]                                                                                                                                                                                                                         1\n",
       "[{'name': '#First Loan'}, {'name': '#Inspiring Story'}]                                                                                                                                                                                                                                                                                      1\n",
       "[{'name': '#First Loan'}, {'name': '#Woman Owned Biz'}, {'name': '#Sustainable Ag'}, {'name': '#Elderly'}, {'name': '#Supporting Family'}]                                                                                                                                                                                                   1\n",
       "[{'name': 'user_favorite'}, {'name': '#Sustainable Ag'}, {'name': '#Single Parent'}, {'name': '#Low-profit FP'}, {'name': '#Trees'}]                                                                                                                                                                                                         1\n",
       "[{'name': '#First Loan'}, {'name': '#Woman Owned Biz'}, {'name': '#Animals'}, {'name': '#Single Parent'}]                                                                                                                                                                                                                                    1\n",
       "[{'name': 'user_favorite'}, {'name': '#First Loan'}, {'name': '#Elderly'}, {'name': '#Parent'}, {'name': '#Fabrics'}]                                                                                                                                                                                                                        1\n",
       "[{'name': 'volunteer_like'}, {'name': '#First Loan'}, {'name': '#Eco-friendly'}, {'name': '#Animals'}]                                                                                                                                                                                                                                       1\n",
       "[{'name': 'user_favorite'}, {'name': '#Woman Owned Biz'}, {'name': '#Eco-friendly'}, {'name': '#Repeat Borrower'}, {'name': '#Technology'}]                                                                                                                                                                                                  1\n",
       "[{'name': '#Woman Owned Biz'}, {'name': '#Elderly'}, {'name': '#Schooling'}, {'name': '#Fabrics'}]                                                                                                                                                                                                                                           1\n",
       "[{'name': 'user_favorite'}, {'name': '#Eco-friendly'}, {'name': '#Vegan'}, {'name': '#Animals'}, {'name': '#Elderly'}, {'name': '#Parent'}, {'name': '#Biz Durable Asset'}]                                                                                                                                                                  1\n",
       "[{'name': 'volunteer_like'}, {'name': 'user_favorite'}, {'name': '#Widowed'}, {'name': '#Elderly'}]                                                                                                                                                                                                                                          1\n",
       "[{'name': 'volunteer_pick'}, {'name': 'volunteer_like'}, {'name': 'user_favorite'}, {'name': '#Elderly'}, {'name': '#Post-disbursed'}]                                                                                                                                                                                                       1\n",
       "[{'name': '#Animals'}, {'name': '#Widowed'}, {'name': '#Single Parent'}, {'name': '#Schooling'}]                                                                                                                                                                                                                                             1\n",
       "[{'name': '#Woman Owned Biz'}, {'name': '#Vegan'}, {'name': '#Parent'}, {'name': '#Repeat Borrower'}, {'name': '#Orphan'}]                                                                                                                                                                                                                   1\n",
       "[{'name': 'volunteer_like'}, {'name': 'user_favorite'}, {'name': '#Woman Owned Biz'}, {'name': '#Animals'}]                                                                                                                                                                                                                                  1\n",
       "[{'name': 'user_favorite'}, {'name': '#Eco-friendly'}, {'name': '#Schooling'}, {'name': '#Inspiring Story'}, {'name': '#Health and Sanitation'}, {'name': '#Technology'}]                                                                                                                                                                    1\n",
       "[{'name': '#Vegan'}, {'name': '#Parent'}, {'name': '#Low-profit FP'}, {'name': '#Trees'}]                                                                                                                                                                                                                                                    1\n",
       "[{'name': '#Woman Owned Biz'}, {'name': '#Sustainable Ag'}, {'name': '#Animals'}, {'name': '#Supporting Family'}]                                                                                                                                                                                                                            1\n",
       "[{'name': 'user_favorite'}, {'name': '#Interesting Photo'}, {'name': '#Fabrics'}]                                                                                                                                                                                                                                                            1\n",
       "[{'name': 'user_favorite'}, {'name': '#First Loan'}, {'name': '#Woman Owned Biz'}, {'name': '#Eco-friendly'}, {'name': '#Parent'}, {'name': '#Schooling'}]                                                                                                                                                                                   1\n",
       "[{'name': 'user_favorite'}, {'name': '#First Loan'}, {'name': '#Sustainable Ag'}, {'name': '#Eco-friendly'}, {'name': '#Vegan'}, {'name': '#Elderly'}, {'name': '#Schooling'}, {'name': '#Trees'}, {'name': '#Technology'}]                                                                                                                  1\n",
       "[{'name': '#Woman Owned Biz'}, {'name': '#Parent'}, {'name': '#Inspiring Story'}, {'name': '#Interesting Photo'}, {'name': '#Biz Durable Asset'}]                                                                                                                                                                                            1\n",
       "[{'name': 'user_favorite'}, {'name': '#Widowed'}, {'name': '#Health and Sanitation'}]                                                                                                                                                                                                                                                        1\n",
       "[{'name': 'volunteer_pick'}, {'name': '#First Loan'}, {'name': '#Woman Owned Biz'}, {'name': '#Vegan'}, {'name': '#Elderly'}, {'name': '#Parent'}]                                                                                                                                                                                           1\n",
       "Name: tags, dtype: int64"
      ]
     },
     "execution_count": 13,
     "metadata": {},
     "output_type": "execute_result"
    }
   ],
   "source": [
    "rf_trainArr['tags'].value_counts()"
   ]
  },
  {
   "cell_type": "markdown",
   "metadata": {},
   "source": [
    "Lets create some boolean variables for tags that we think may be interesting and seperate them out into individual features"
   ]
  },
  {
   "cell_type": "code",
   "execution_count": 14,
   "metadata": {
    "collapsed": true
   },
   "outputs": [],
   "source": [
    "tag_vals = [\"#Woman Owned Biz\", \"#Parent\", \"user_favorite\", \"#Repeat Borrower\", \"#Schooling\", \"volunteer_pick\", \"#Vegan\", \"volunteer_like\",\"#Animals\", \"#Eco-friendly\", \"#Technology\"]\n",
    "for tag in tag_vals:\n",
    "    if tag not in rf_trainArr.columns:\n",
    "        rf_trainArr['tag_'+str(tag)] = rf_trainArr['tags'].apply(lambda x: 1 if tag in x else 0)\n"
   ]
  },
  {
   "cell_type": "code",
   "execution_count": 15,
   "metadata": {
    "collapsed": true
   },
   "outputs": [],
   "source": [
    "rf_trainArr = rf_trainArr.drop(['tags'], axis=1)"
   ]
  },
  {
   "cell_type": "markdown",
   "metadata": {},
   "source": [
    "In addition, there are some features which have a large range of possible responses. Instead of using each possible response as a features, we will just take the top 10. So example, lets look at the top activities:"
   ]
  },
  {
   "cell_type": "code",
   "execution_count": 16,
   "metadata": {},
   "outputs": [
    {
     "data": {
      "text/plain": [
       "Index(['Farming', 'Dairy', 'Fruits & Vegetables', 'Agriculture', 'Retail',\n",
       "       'General Store', 'Clothing Sales', 'Poultry', 'Cereals', 'Food Stall'],\n",
       "      dtype='object')"
      ]
     },
     "execution_count": 16,
     "metadata": {},
     "output_type": "execute_result"
    }
   ],
   "source": [
    "rf_trainArr['activity'].value_counts().index[0:10]"
   ]
  },
  {
   "cell_type": "markdown",
   "metadata": {},
   "source": [
    "The following code takes the top ten occurences for activity, partner_id, location.town and sector and creates a features for each one"
   ]
  },
  {
   "cell_type": "code",
   "execution_count": 17,
   "metadata": {
    "collapsed": true
   },
   "outputs": [],
   "source": [
    "cols_to_separate = ['activity','partner_id','location.town','sector']\n",
    "for col in cols_to_separate:\n",
    "    col_vals = rf_trainArr[col].value_counts().index[:10]\n",
    "    for col_val in col_vals:\n",
    "        if col_val not in rf_trainArr.columns:\n",
    "            rf_trainArr[col+'_'+str(col_val)] = rf_trainArr[col].apply(lambda x: 1 if x == col_val else 0)\n",
    "    rf_trainArr = rf_trainArr.drop(col, axis=1)\n"
   ]
  },
  {
   "cell_type": "markdown",
   "metadata": {},
   "source": [
    "Lets check our list of features again to make sure the code above worked correctly"
   ]
  },
  {
   "cell_type": "code",
   "execution_count": 18,
   "metadata": {},
   "outputs": [
    {
     "data": {
      "text/plain": [
       "Index(['num_tags', 'lat', 'long', 'days_to_fund', 'days_to_exp',\n",
       "       'borrower_count', 'posted_unix', 'male', 'widowed', 'kids', 'video',\n",
       "       'pictured', 'num_posted', 'motor', 'more', 'solar',\n",
       "       'tag_#Woman Owned Biz', 'tag_#Parent', 'tag_user_favorite',\n",
       "       'tag_#Repeat Borrower', 'tag_#Schooling', 'tag_volunteer_pick',\n",
       "       'tag_#Vegan', 'tag_volunteer_like', 'tag_#Animals', 'tag_#Eco-friendly',\n",
       "       'tag_#Technology', 'activity_Farming', 'activity_Dairy',\n",
       "       'activity_Fruits & Vegetables', 'activity_Agriculture',\n",
       "       'activity_Retail', 'activity_General Store', 'activity_Clothing Sales',\n",
       "       'activity_Poultry', 'activity_Cereals', 'activity_Food Stall',\n",
       "       'partner_id_133.0', 'partner_id_164.0', 'partner_id_138.0',\n",
       "       'partner_id_156.0', 'partner_id_202.0', 'partner_id_388.0',\n",
       "       'partner_id_203.0', 'partner_id_386.0', 'partner_id_277.0',\n",
       "       'partner_id_324.0', 'location.town_Likoni', 'location.town_Nakuru',\n",
       "       'location.town_Kisii', 'location.town_Kitale', 'location.town_Tiribe',\n",
       "       'location.town_Eldoret', 'location.town_Kisauni',\n",
       "       'location.town_Msambweni', 'location.town_Kisumu',\n",
       "       'location.town_Webuye', 'sector_Agriculture', 'sector_Food',\n",
       "       'sector_Retail', 'sector_Services', 'sector_Clothing',\n",
       "       'sector_Transportation', 'sector_Personal Use', 'sector_Education',\n",
       "       'sector_Construction', 'sector_Health'],\n",
       "      dtype='object')"
      ]
     },
     "execution_count": 18,
     "metadata": {},
     "output_type": "execute_result"
    }
   ],
   "source": [
    "rf_trainArr.columns"
   ]
  },
  {
   "cell_type": "markdown",
   "metadata": {},
   "source": [
    "## Training the algorithm\n",
    "The next stage is training and testing the algorithm! To do this we need to create two subsets of data, one which we will train the algorithm on and the other we can test it on. To do this we will use the sklearn model selection function train_test_split. If you look back to the top of this page, we imported this function at the beginning of the notebook.\n",
    "\n",
    "The names used below (X_train, X_test, y_train, y_test) are the conventions for training and testing data so best to try and train yourselves to use them."
   ]
  },
  {
   "cell_type": "code",
   "execution_count": 19,
   "metadata": {
    "collapsed": true
   },
   "outputs": [],
   "source": [
    "X_train, X_test, y_train, y_test = train_test_split(rf_trainArr, rf_trainRes, test_size=0.2, random_state=42)"
   ]
  },
  {
   "cell_type": "markdown",
   "metadata": {},
   "source": [
    "### Decision Tree\n",
    "Before we get into some of the more sophisticated models, let's first try an individual Decision Tree and see how it performs.  After training the model, we will be able to assess it's performance by using sklearns useful method .score, which calculates the r2 value for the data provided.  We will first print out the r2 score for the training data, and then will print out the r2 score for the test data."
   ]
  },
  {
   "cell_type": "code",
   "execution_count": 54,
   "metadata": {},
   "outputs": [
    {
     "data": {
      "text/plain": [
       "DecisionTreeRegressor(criterion='mse', max_depth=None, max_features=None,\n",
       "           max_leaf_nodes=None, min_impurity_split=1e-07,\n",
       "           min_samples_leaf=1, min_samples_split=2,\n",
       "           min_weight_fraction_leaf=0.0, presort=False, random_state=0,\n",
       "           splitter='best')"
      ]
     },
     "execution_count": 54,
     "metadata": {},
     "output_type": "execute_result"
    },
    {
     "name": "stdout",
     "output_type": "stream",
     "text": [
      "Train score: 0.99913624501\n",
      "Test score: 0.437263483671\n"
     ]
    }
   ],
   "source": [
    "from sklearn.tree import DecisionTreeRegressor\n",
    "decision_regressor = DecisionTreeRegressor(random_state=0)\n",
    "decision_regressor.fit(X_train, y_train)\n",
    "print(\"Train score: \" + str(decision_regressor.score(X_train, y_train)))\n",
    "print(\"Test score: \" + str(decision_regressor.score(X_test, y_test)))"
   ]
  },
  {
   "cell_type": "markdown",
   "metadata": {},
   "source": [
    "## Bagging\n",
    "The decison tree regressor is near perfect on the train data; however, much worse on the test data.  This is largely due to an individual Trees likelihood of overfitting to the data.  To overcome this, let's try building a collection of trees with sklearn's BaggingRegressor.  A bagging regressor builds some specified number of trees and trains each tree with a random subset of the data and then averages the forecast of each individual tree."
   ]
  },
  {
   "cell_type": "code",
   "execution_count": 59,
   "metadata": {},
   "outputs": [
    {
     "name": "stderr",
     "output_type": "stream",
     "text": [
      "/Users/j/virtualenvs/delta/lib/python3.6/site-packages/sklearn/ensemble/bagging.py:986: UserWarning: Some inputs do not have OOB scores. This probably means too few estimators were used to compute any reliable oob estimates.\n",
      "  warn(\"Some inputs do not have OOB scores. \"\n"
     ]
    },
    {
     "data": {
      "text/plain": [
       "BaggingRegressor(base_estimator=None, bootstrap=True,\n",
       "         bootstrap_features=False, max_features=1.0, max_samples=1.0,\n",
       "         n_estimators=10, n_jobs=1, oob_score=True, random_state=None,\n",
       "         verbose=0, warm_start=False)"
      ]
     },
     "execution_count": 59,
     "metadata": {},
     "output_type": "execute_result"
    },
    {
     "name": "stdout",
     "output_type": "stream",
     "text": [
      "Train score: 0.921252033676\n",
      "Test score: 0.508019419281\n"
     ]
    }
   ],
   "source": [
    "from sklearn.ensemble import BaggingRegressor\n",
    "bagging_regressor = BaggingRegressor(oob_score=True)\n",
    "bagging_regressor.fit(X_train, y_train)\n",
    "print(\"Train score: \" + str(bagging_regressor.score(X_train, y_train)))\n",
    "print(\"Test score: \" + str(bagging_regressor.score(X_test, y_test)))"
   ]
  },
  {
   "cell_type": "markdown",
   "metadata": {},
   "source": [
    "Due to the fact that we only consider a random subset of the data for each tree, we can also measure error using the out-of-bag score.  The out-of-bag score calculates the error for each observation that was not used while training an individual tree (Remember ~2/3 of data are used to train a given tree)."
   ]
  },
  {
   "cell_type": "code",
   "execution_count": 60,
   "metadata": {},
   "outputs": [
    {
     "data": {
      "text/plain": [
       "0.39789253136556046"
      ]
     },
     "execution_count": 60,
     "metadata": {},
     "output_type": "execute_result"
    }
   ],
   "source": [
    "bagging_regressor.oob_score_"
   ]
  },
  {
   "cell_type": "code",
   "execution_count": 65,
   "metadata": {
    "collapsed": true
   },
   "outputs": [],
   "source": [
    "# Since we will evaluate a few models, let's define a function that prints out the scores we care about\n",
    "def print_scores(regressor, X_train, y_train, X_test, y_test, oob_score=True):\n",
    "    print(\"Train score: \" + str(regressor.score(X_train, y_train)))\n",
    "    print(\"Test score: \" + str(regressor.score(X_test, y_test)))\n",
    "    print(\"OOB score: \" + str(regressor.oob_score_))"
   ]
  },
  {
   "cell_type": "markdown",
   "metadata": {},
   "source": [
    "Let's see how performance changes when we increase the number of trees from 10 to 100."
   ]
  },
  {
   "cell_type": "code",
   "execution_count": 66,
   "metadata": {},
   "outputs": [
    {
     "data": {
      "text/plain": [
       "BaggingRegressor(base_estimator=None, bootstrap=True,\n",
       "         bootstrap_features=False, max_features=1.0, max_samples=1.0,\n",
       "         n_estimators=100, n_jobs=1, oob_score=True, random_state=None,\n",
       "         verbose=0, warm_start=False)"
      ]
     },
     "execution_count": 66,
     "metadata": {},
     "output_type": "execute_result"
    },
    {
     "name": "stdout",
     "output_type": "stream",
     "text": [
      "Train score: 0.950786697281\n",
      "Test score: 0.534224876975\n",
      "OOB score: 0.62040002502\n"
     ]
    }
   ],
   "source": [
    "bagging_regressor = BaggingRegressor(n_estimators=100, oob_score=True)\n",
    "bagging_regressor.fit(X_train, y_train)\n",
    "print_scores(bagging_regressor, X_train, y_train, X_test, y_test, oob_score=True)"
   ]
  },
  {
   "cell_type": "markdown",
   "metadata": {},
   "source": [
    "## Random Forest\n",
    "We still observe a large discrepancy between the training data and the test data.  This is largely because the decision trees are largely correlated.  To de-correlate the trees, we can use a Random Forest Regressor, which only considers a random subsample of the features at each split."
   ]
  },
  {
   "cell_type": "code",
   "execution_count": 67,
   "metadata": {},
   "outputs": [
    {
     "data": {
      "text/plain": [
       "RandomForestRegressor(bootstrap=True, criterion='mse', max_depth=None,\n",
       "           max_features='auto', max_leaf_nodes=None,\n",
       "           min_impurity_split=1e-07, min_samples_leaf=1,\n",
       "           min_samples_split=2, min_weight_fraction_leaf=0.0,\n",
       "           n_estimators=100, n_jobs=1, oob_score=True, random_state=None,\n",
       "           verbose=0, warm_start=False)"
      ]
     },
     "execution_count": 67,
     "metadata": {},
     "output_type": "execute_result"
    },
    {
     "name": "stdout",
     "output_type": "stream",
     "text": [
      "Train score: 0.947006777017\n",
      "Test score: 0.520856606471\n",
      "OOB score: 0.615019768431\n"
     ]
    }
   ],
   "source": [
    "rf_regressor = RandomForestRegressor(n_estimators=100, oob_score=True)\n",
    "rf_regressor.fit(X_train,y_train)\n",
    "print_scores(rf_regressor, X_train, y_train, X_test, y_test, oob_score=True)"
   ]
  },
  {
   "cell_type": "markdown",
   "metadata": {},
   "source": [
    "Another metric to evaluate the model on is the mean square error. Again this compares the predicted values to the true values and returns the mean square error for that data. "
   ]
  },
  {
   "cell_type": "code",
   "execution_count": 72,
   "metadata": {},
   "outputs": [
    {
     "data": {
      "text/plain": [
       "391445.68453402759"
      ]
     },
     "execution_count": 72,
     "metadata": {},
     "output_type": "execute_result"
    },
    {
     "data": {
      "text/plain": [
       "<matplotlib.collections.PathCollection at 0x1580bad30>"
      ]
     },
     "execution_count": 72,
     "metadata": {},
     "output_type": "execute_result"
    },
    {
     "data": {
      "text/plain": [
       "<matplotlib.text.Text at 0x1133239e8>"
      ]
     },
     "execution_count": 72,
     "metadata": {},
     "output_type": "execute_result"
    },
    {
     "data": {
      "text/plain": [
       "<matplotlib.text.Text at 0x1580c2438>"
      ]
     },
     "execution_count": 72,
     "metadata": {},
     "output_type": "execute_result"
    },
    {
     "data": {
      "image/png": "[encoded data removed]",
      "text/plain": [
       "<matplotlib.figure.Figure at 0x1330f6d30>"
      ]
     },
     "metadata": {},
     "output_type": "display_data"
    }
   ],
   "source": [
    "y_predicted_test = rf_regressor.predict(X_test)\n",
    "mean_squared_error(y_test, y_predicted_test)\n",
    "\n",
    "fig = plt.figure(figsize=(10, 10))\n",
    "plt.scatter(y_test, y_predicted_test, alpha=0.5)\n",
    "plt.xlabel('True value')\n",
    "plt.ylabel('Predicted value')\n",
    "plt.show()"
   ]
  },
  {
   "cell_type": "code",
   "execution_count": 73,
   "metadata": {},
   "outputs": [
    {
     "data": {
      "text/plain": [
       "(array([  1.54010000e+04,   1.34300000e+03,   7.40000000e+01,\n",
       "          1.70000000e+01,   2.40000000e+01,   3.00000000e+01,\n",
       "          2.00000000e+01,   3.00000000e+00,   0.00000000e+00,\n",
       "          0.00000000e+00,   0.00000000e+00,   1.00000000e+00,\n",
       "          1.00000000e+00,   3.00000000e+00,   0.00000000e+00,\n",
       "          1.00000000e+00,   1.00000000e+00,   2.00000000e+00,\n",
       "          3.00000000e+00,   0.00000000e+00,   0.00000000e+00,\n",
       "          1.00000000e+00,   0.00000000e+00,   0.00000000e+00,\n",
       "          0.00000000e+00,   0.00000000e+00,   0.00000000e+00,\n",
       "          0.00000000e+00,   0.00000000e+00,   2.00000000e+00,\n",
       "          0.00000000e+00,   0.00000000e+00,   0.00000000e+00,\n",
       "          0.00000000e+00,   0.00000000e+00,   0.00000000e+00,\n",
       "          0.00000000e+00,   0.00000000e+00,   0.00000000e+00,\n",
       "          0.00000000e+00,   0.00000000e+00,   0.00000000e+00,\n",
       "          0.00000000e+00,   0.00000000e+00,   0.00000000e+00,\n",
       "          0.00000000e+00,   0.00000000e+00,   0.00000000e+00,\n",
       "          0.00000000e+00,   0.00000000e+00,   0.00000000e+00,\n",
       "          0.00000000e+00,   0.00000000e+00,   0.00000000e+00,\n",
       "          0.00000000e+00,   0.00000000e+00,   0.00000000e+00,\n",
       "          0.00000000e+00,   0.00000000e+00,   3.00000000e+00]),\n",
       " array([    50. ,    882.5,   1715. ,   2547.5,   3380. ,   4212.5,\n",
       "          5045. ,   5877.5,   6710. ,   7542.5,   8375. ,   9207.5,\n",
       "         10040. ,  10872.5,  11705. ,  12537.5,  13370. ,  14202.5,\n",
       "         15035. ,  15867.5,  16700. ,  17532.5,  18365. ,  19197.5,\n",
       "         20030. ,  20862.5,  21695. ,  22527.5,  23360. ,  24192.5,\n",
       "         25025. ,  25857.5,  26690. ,  27522.5,  28355. ,  29187.5,\n",
       "         30020. ,  30852.5,  31685. ,  32517.5,  33350. ,  34182.5,\n",
       "         35015. ,  35847.5,  36680. ,  37512.5,  38345. ,  39177.5,\n",
       "         40010. ,  40842.5,  41675. ,  42507.5,  43340. ,  44172.5,\n",
       "         45005. ,  45837.5,  46670. ,  47502.5,  48335. ,  49167.5,  50000. ]),\n",
       " <a list of 60 Patch objects>)"
      ]
     },
     "execution_count": 73,
     "metadata": {},
     "output_type": "execute_result"
    },
    {
     "data": {
      "text/plain": [
       "<matplotlib.text.Text at 0x1580dcd30>"
      ]
     },
     "execution_count": 73,
     "metadata": {},
     "output_type": "execute_result"
    },
    {
     "data": {
      "text/plain": [
       "<matplotlib.text.Text at 0x1580a0ac8>"
      ]
     },
     "execution_count": 73,
     "metadata": {},
     "output_type": "execute_result"
    },
    {
     "data": {
      "image/png": "[encoded data removed]",
      "text/plain": [
       "<matplotlib.figure.Figure at 0x162098e48>"
      ]
     },
     "metadata": {},
     "output_type": "display_data"
    }
   ],
   "source": [
    "fig = plt.figure(figsize=(10, 10))\n",
    "plt.hist(y_test, bins=60)\n",
    "plt.xlabel('True value from test subset')\n",
    "plt.ylabel('frequency')\n",
    "plt.show()"
   ]
  },
  {
   "cell_type": "markdown",
   "metadata": {},
   "source": [
    "Now, let's try to figure out which features are driving our model's predictions.  Although we do not have the coefficients provided by a linear regression, we can analyze what percentage of the overall variance was explained by a given feature."
   ]
  },
  {
   "cell_type": "code",
   "execution_count": 71,
   "metadata": {},
   "outputs": [
    {
     "name": "stdout",
     "output_type": "stream",
     "text": [
      "Feature Ranking:\n",
      "1. feature posted_unix (0.197576)\n",
      "2. feature borrower_count (0.109317)\n",
      "3. feature video (0.098986)\n",
      "4. feature days_to_fund (0.084424)\n",
      "5. feature more (0.076034)\n",
      "6. feature lat (0.058117)\n",
      "7. feature num_posted (0.049227)\n",
      "8. feature num_tags (0.048620)\n",
      "9. feature long (0.040373)\n",
      "10. feature tag_#Eco-friendly (0.029950)\n",
      "11. feature sector_Education (0.029329)\n",
      "12. feature kids (0.016291)\n",
      "13. feature male (0.015311)\n",
      "14. feature tag_#Technology (0.015239)\n",
      "15. feature partner_id_202.0 (0.013693)\n",
      "16. feature sector_Retail (0.012984)\n",
      "17. feature location.town_Nakuru (0.011355)\n",
      "18. feature days_to_exp (0.009979)\n",
      "19. feature partner_id_156.0 (0.009600)\n",
      "20. feature tag_#Parent (0.009361)\n",
      "21. feature tag_user_favorite (0.008832)\n",
      "22. feature sector_Agriculture (0.004271)\n",
      "23. feature activity_Agriculture (0.003593)\n",
      "24. feature sector_Personal Use (0.003395)\n",
      "25. feature partner_id_203.0 (0.003045)\n",
      "26. feature sector_Health (0.002976)\n",
      "27. feature partner_id_324.0 (0.002674)\n",
      "28. feature location.town_Kisii (0.002653)\n",
      "29. feature tag_#Woman Owned Biz (0.002632)\n",
      "30. feature partner_id_133.0 (0.002323)\n",
      "31. feature partner_id_138.0 (0.002047)\n",
      "32. feature sector_Services (0.001943)\n",
      "33. feature tag_#Repeat Borrower (0.001891)\n",
      "34. feature tag_#Schooling (0.001856)\n",
      "35. feature partner_id_164.0 (0.001693)\n",
      "36. feature partner_id_386.0 (0.001606)\n",
      "37. feature tag_#Vegan (0.001604)\n",
      "38. feature activity_Farming (0.001152)\n",
      "39. feature motor (0.001127)\n",
      "40. feature activity_Fruits & Vegetables (0.000912)\n",
      "41. feature sector_Food (0.000895)\n",
      "42. feature activity_Dairy (0.000848)\n",
      "43. feature tag_volunteer_like (0.000749)\n",
      "44. feature partner_id_388.0 (0.000717)\n",
      "45. feature tag_#Animals (0.000698)\n",
      "46. feature tag_volunteer_pick (0.000640)\n",
      "47. feature activity_Poultry (0.000622)\n",
      "48. feature activity_General Store (0.000588)\n",
      "49. feature location.town_Eldoret (0.000584)\n",
      "50. feature sector_Construction (0.000556)\n",
      "51. feature widowed (0.000549)\n",
      "52. feature activity_Retail (0.000533)\n",
      "53. feature sector_Clothing (0.000452)\n",
      "54. feature sector_Transportation (0.000447)\n",
      "55. feature activity_Cereals (0.000383)\n",
      "56. feature location.town_Likoni (0.000355)\n",
      "57. feature location.town_Msambweni (0.000355)\n",
      "58. feature activity_Clothing Sales (0.000340)\n",
      "59. feature location.town_Kisauni (0.000283)\n",
      "60. feature location.town_Tiribe (0.000271)\n",
      "61. feature activity_Food Stall (0.000258)\n",
      "62. feature location.town_Kitale (0.000242)\n",
      "63. feature partner_id_277.0 (0.000206)\n",
      "64. feature location.town_Kisumu (0.000191)\n",
      "65. feature solar (0.000139)\n",
      "66. feature location.town_Webuye (0.000109)\n",
      "67. feature pictured (0.000000)\n"
     ]
    }
   ],
   "source": [
    "importances = rf_regressor.feature_importances_\n",
    "indices = np.argsort(importances)[::-1]\n",
    "\n",
    "print('Feature Ranking:')\n",
    "for f in range(len(importances)):\n",
    "    print(\"%d. feature %s (%f)\" % (f + 1, rf_trainArr.columns[indices[f]], importances[indices[f]]))"
   ]
  },
  {
   "cell_type": "markdown",
   "metadata": {},
   "source": [
    "Let's try taking the top 20 featuers and observe it's impact on performance"
   ]
  },
  {
   "cell_type": "code",
   "execution_count": 36,
   "metadata": {},
   "outputs": [],
   "source": [
    "relevant_cols = [rf_trainArr.columns[indices[f]] for f in range(20)]\n",
    "X_train2, X_test2 = X_train[relevant_cols], X_test[relevant_cols]"
   ]
  },
  {
   "cell_type": "code",
   "execution_count": 39,
   "metadata": {},
   "outputs": [
    {
     "data": {
      "text/plain": [
       "RandomForestRegressor(bootstrap=True, criterion='mse', max_depth=None,\n",
       "           max_features='auto', max_leaf_nodes=None,\n",
       "           min_impurity_split=1e-07, min_samples_leaf=1,\n",
       "           min_samples_split=2, min_weight_fraction_leaf=0.0,\n",
       "           n_estimators=100, n_jobs=1, oob_score=True, random_state=None,\n",
       "           verbose=0, warm_start=False)"
      ]
     },
     "execution_count": 39,
     "metadata": {},
     "output_type": "execute_result"
    },
    {
     "data": {
      "text/plain": [
       "0.62880066995365369"
      ]
     },
     "execution_count": 39,
     "metadata": {},
     "output_type": "execute_result"
    }
   ],
   "source": [
    "rf2 = RandomForestRegressor(n_estimators=100, oob_score=True)\n",
    "rf2.fit(X_train2,y_train)\n",
    "rf2.oob_score_"
   ]
  },
  {
   "cell_type": "code",
   "execution_count": 41,
   "metadata": {},
   "outputs": [
    {
     "data": {
      "text/plain": [
       "0.51684788453162211"
      ]
     },
     "execution_count": 41,
     "metadata": {},
     "output_type": "execute_result"
    }
   ],
   "source": [
    "rf2.score(X_test2, y_test)"
   ]
  },
  {
   "cell_type": "markdown",
   "metadata": {},
   "source": [
    "Up to this point, we have been largely been using the default values for all of the hyper-parameters.  To increase perfromance we should try adjusting these parameters.  Sklearn's GridSearchCV uses cross-validation to assess the performance of each possible permutation of the hyper-parameters that you specify."
   ]
  },
  {
   "cell_type": "code",
   "execution_count": 74,
   "metadata": {},
   "outputs": [],
   "source": [
    "from sklearn.model_selection import GridSearchCV\n",
    "parameters = {'n_estimators': [100, 300, 500],\n",
    "             'max_features': ['auto', 'sqrt', 'log2'],\n",
    "              'max_depth': [None, 5, 10]\n",
    "             }\n",
    "gridrf = RandomForestRegressor()\n",
    "grid_rf = GridSearchCV(gridrf, parameters)"
   ]
  },
  {
   "cell_type": "code",
   "execution_count": null,
   "metadata": {},
   "outputs": [],
   "source": [
    "grid_rf.fit(rf_trainArr, rf_trainRes)"
   ]
  },
  {
   "cell_type": "markdown",
   "metadata": {},
   "source": [
    "To find out which set of parameters performed best, we can use the .best\\_pramas\\_ method"
   ]
  },
  {
   "cell_type": "code",
   "execution_count": null,
   "metadata": {
    "collapsed": true
   },
   "outputs": [],
   "source": [
    "grid_rf.best_params_"
   ]
  },
  {
   "cell_type": "markdown",
   "metadata": {},
   "source": [
    "Next, let's check out the variation in performance."
   ]
  },
  {
   "cell_type": "code",
   "execution_count": null,
   "metadata": {
    "collapsed": true
   },
   "outputs": [],
   "source": [
    "means = grid_rf.cv_results_['mean_test_score']\n",
    "stds = grid_rf.cv_results_['std_test_score']\n",
    "for mean, std, params in zip(means, stds, grid_rf.cv_results_['params']):\n",
    "    print(\"%0.3f (+/-%0.03f) for %r\"\n",
    "          % (mean, std * 2, params))"
   ]
  },
  {
   "cell_type": "markdown",
   "metadata": {},
   "source": []
  }
 ],
 "metadata": {
  "kernelspec": {
   "display_name": "Python 3",
   "language": "python",
   "name": "python3"
  },
  "language_info": {
   "codemirror_mode": {
    "name": "ipython",
    "version": 3
   },
   "file_extension": ".py",
   "mimetype": "text/x-python",
   "name": "python",
   "nbconvert_exporter": "python",
   "pygments_lexer": "ipython3",
   "version": "3.6.1"
  }
 },
 "nbformat": 4,
 "nbformat_minor": 2
}
