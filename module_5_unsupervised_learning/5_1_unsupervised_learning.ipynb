{
 "cells": [
  {
   "cell_type": "markdown",
   "metadata": {},
   "source": [
    "Unsupervised Learning\n",
    "======"
   ]
  },
  {
   "cell_type": "markdown",
   "metadata": {},
   "source": [
    "In earlier labs we learned how to use linear regression to study whether certain features are significant in explaining and predicting an observed outcome. Then we used ensemble methods to refine our predictions. \n",
    "\n",
    "In this notebook, we shift the focus from prediction to pattern finding. "
   ]
  },
  {
   "cell_type": "markdown",
   "metadata": {},
   "source": [
    "Why care about pattern finding?\n",
    "------\n",
    "\n",
    "The reality is that most available data in the world is unlabelled and we just want to find patterns in the data.\n",
    "\n",
    "That's where unsupervised learning comes in! Unsupervised learning methods are a set of techniques designed to <i>explore</i> the data rather than predict outcomes. There are many unsupervised learning methods but the most commonly-used method is [cluster analysis](https://en.wikipedia.org/wiki/Cluster_analysis) or more commonly called clustering.\n",
    "\n",
    "\n",
    "Here is what we'll be doing in this notebook:\n",
    "\n",
    "1. Load data and packages\n",
    "1. Create clusters with k-means algorithm\n",
    "1. Validate our model with elbow method and silhouette method\n",
    "1. Evaluate our results"
   ]
  },
  {
   "cell_type": "markdown",
   "metadata": {},
   "source": [
    "What is Cluster Analysis?\n",
    "-----"
   ]
  },
  {
   "cell_type": "markdown",
   "metadata": {},
   "source": [
    "Conducting cluster analysis is what it sounds like: partitioning your data into sub-groups (<b>clusters</b>) based on similar characteristics and then analyzing these clusters of similar observations. Clustering is an intuitive and visual way to understand the various natural <b>sub-groups</b> or <b>segments</b> that make up the population of your data.\n",
    "\n",
    "In this lab, we'll walk through a few examples of how to use K-means clustering to <b>partition</b> or <b>segment</b> the Kiva data into clusters."
   ]
  },
  {
   "cell_type": "markdown",
   "metadata": {},
   "source": [
    "Introduction to k-means\n",
    "------\n",
    "\n",
    "TODO:\n",
    "\n",
    "https://en.wikipedia.org/wiki/K-means_clustering\n"
   ]
  },
  {
   "cell_type": "markdown",
   "metadata": {},
   "source": [
    "So how we do clustering?\n",
    "-----\n",
    "\n",
    "K-means clustering are formed by:\n",
    "\n",
    "1. Observations are <i>randomly assigned</i> to a cluster\n",
    "2. The center point of these <i>random</i> groups is determined\n",
    "3. Observations are reassigned to a cluster where the center is closest to them\n",
    "4. New center points of clusters are determined\n",
    "5. Observations are reassigned to a cluster where the center is closest to them\n",
    "6. New center points of clusters are determined\n",
    "7. ...\n",
    "8. The process repeats until no observations shuffle around anymore, and each observation is assigned to exactly one cluster\n",
    "\n",
    "In other words, until the distance beween an observation and their closest center point is minimized, observations are constantly being reassigned to clusters.\n",
    "\n",
    "While this process is computationally intense to do by hand, the <b>sklearn</b> K-means package is simple to use and does the computational heavy-lifting for you:"
   ]
  },
  {
   "cell_type": "markdown",
   "metadata": {},
   "source": [
    "K-means Example\n",
    "-----\n",
    "\n",
    "![](http://shabal.in/visuals/kmeans/left.gif)\n",
    "\n",
    "[Source](http://shabal.in/visuals/kmeans/2.html)"
   ]
  },
  {
   "cell_type": "markdown",
   "metadata": {},
   "source": [
    "Let's import the relevant packages to start coding:"
   ]
  },
  {
   "cell_type": "code",
   "execution_count": 2,
   "metadata": {
    "collapsed": true
   },
   "outputs": [],
   "source": [
    "reset -fs"
   ]
  },
  {
   "cell_type": "code",
   "execution_count": 3,
   "metadata": {
    "collapsed": true
   },
   "outputs": [],
   "source": [
    "# For opening the data files\n",
    "import os\n",
    "from zipfile import ZipFile\n",
    "\n",
    "# Data manipulation packages\n",
    "import pandas as pd\n",
    "import numpy as np\n",
    "\n",
    "# Processing data module\n",
    "from sklearn import preprocessing\n",
    "\n",
    "# K-Means clustering\n",
    "from sklearn.cluster import KMeans\n",
    "from sklearn.decomposition import PCA\n",
    "from scipy import cluster\n",
    "from pylab import plot,show\n",
    "from numpy import vstack,array\n",
    "from numpy.random import rand\n",
    "from scipy.cluster.vq import kmeans,vq\n",
    "\n",
    "# Import packages for Silhouette testing \n",
    "from sklearn.metrics import silhouette_samples, silhouette_score\n",
    "\n",
    "# Import packages for plotting the clusters\n",
    "import matplotlib.pyplot as plt\n",
    "from matplotlib import style\n",
    "import matplotlib.cm as cm\n",
    "\n",
    "# Places the plots in the Jupyter Notebook\n",
    "%matplotlib inline\n",
    "\n",
    "# Keep everything visible\n",
    "pd.set_option('display.max_columns', 80)\n",
    "pd.set_option('expand_frame_repr', True)"
   ]
  },
  {
   "cell_type": "code",
   "execution_count": 6,
   "metadata": {},
   "outputs": [],
   "source": [
    "# Load data\n",
    "path = '../data/'\n",
    "# filename = 'df_abridged' # Has few columns\n",
    "filename = 'df' # Has more columns\n",
    "\n",
    "df = pd.read_csv(path+filename+'.csv',\n",
    "                 low_memory=False,\n",
    "                 index_col=0)\n",
    "\n",
    "# Normalize column names\n",
    "df.columns = [c.lower().replace('.', '_').replace(' ', '_')\n",
    "                 for c in df.columns]"
   ]
  },
  {
   "cell_type": "markdown",
   "metadata": {},
   "source": [
    "It is always to take a peak at the data"
   ]
  },
  {
   "cell_type": "code",
   "execution_count": 7,
   "metadata": {},
   "outputs": [
    {
     "data": {
      "text/html": [
       "<div>\n",
       "<style>\n",
       "    .dataframe thead tr:only-child th {\n",
       "        text-align: right;\n",
       "    }\n",
       "\n",
       "    .dataframe thead th {\n",
       "        text-align: left;\n",
       "    }\n",
       "\n",
       "    .dataframe tbody tr th {\n",
       "        vertical-align: top;\n",
       "    }\n",
       "</style>\n",
       "<table border=\"1\" class=\"dataframe\">\n",
       "  <thead>\n",
       "    <tr style=\"text-align: right;\">\n",
       "      <th></th>\n",
       "      <th>unnamed:_0_1</th>\n",
       "      <th>unnamed:_0_1_1</th>\n",
       "      <th>activity</th>\n",
       "      <th>basket_amount</th>\n",
       "      <th>bonus_credit_eligibility</th>\n",
       "      <th>borrowers</th>\n",
       "      <th>currency_exchange_loss_amount</th>\n",
       "      <th>description_languages</th>\n",
       "      <th>description_texts_en</th>\n",
       "      <th>description_texts_es</th>\n",
       "      <th>description_texts_fr</th>\n",
       "      <th>description_texts_ru</th>\n",
       "      <th>funded_amount</th>\n",
       "      <th>funded_date</th>\n",
       "      <th>id</th>\n",
       "      <th>image_id</th>\n",
       "      <th>image_template_id</th>\n",
       "      <th>journal_totals_bulkentries</th>\n",
       "      <th>journal_totals_entries</th>\n",
       "      <th>lender_count</th>\n",
       "      <th>loan_amount</th>\n",
       "      <th>location_country</th>\n",
       "      <th>location_country_code</th>\n",
       "      <th>location_geo_level</th>\n",
       "      <th>location_geo_pairs</th>\n",
       "      <th>location_geo_type</th>\n",
       "      <th>location_town</th>\n",
       "      <th>name</th>\n",
       "      <th>partner_id</th>\n",
       "      <th>payments</th>\n",
       "      <th>planned_expiration_date</th>\n",
       "      <th>posted_date</th>\n",
       "      <th>sector</th>\n",
       "      <th>status</th>\n",
       "      <th>tags</th>\n",
       "      <th>terms_disbursal_amount</th>\n",
       "      <th>terms_disbursal_currency</th>\n",
       "      <th>terms_disbursal_date</th>\n",
       "      <th>terms_loan_amount</th>\n",
       "      <th>terms_local_payments</th>\n",
       "      <th>...</th>\n",
       "      <th>themes</th>\n",
       "      <th>translator_byline</th>\n",
       "      <th>translator_image</th>\n",
       "      <th>use</th>\n",
       "      <th>video_id</th>\n",
       "      <th>video_thumbnailimageid</th>\n",
       "      <th>video_title</th>\n",
       "      <th>video_youtubeid</th>\n",
       "      <th>borrower_count</th>\n",
       "      <th>partner_average_loan_size_percent_per_capita_income</th>\n",
       "      <th>partner_charges_fees_and_interest</th>\n",
       "      <th>partner_countries</th>\n",
       "      <th>partner_currency_exchange_loss_rate</th>\n",
       "      <th>partner_default_rate</th>\n",
       "      <th>partner_default_rate_note</th>\n",
       "      <th>partner_delinquency_rate</th>\n",
       "      <th>partner_delinquency_rate_note</th>\n",
       "      <th>partner_image_id</th>\n",
       "      <th>partner_image_template_id</th>\n",
       "      <th>partner_loans_at_risk_rate</th>\n",
       "      <th>partner_loans_posted</th>\n",
       "      <th>partner_name</th>\n",
       "      <th>partner_portfolio_yield</th>\n",
       "      <th>partner_portfolio_yield_note</th>\n",
       "      <th>partner_profitability</th>\n",
       "      <th>partner_rating</th>\n",
       "      <th>partner_social_performance_strengths</th>\n",
       "      <th>partner_start_date</th>\n",
       "      <th>partner_status</th>\n",
       "      <th>partner_total_amount_raised</th>\n",
       "      <th>partner_url</th>\n",
       "      <th>posted_datetime</th>\n",
       "      <th>funded_datetime</th>\n",
       "      <th>planned_expiration_datetime</th>\n",
       "      <th>dispursal_datetime</th>\n",
       "      <th>number_of_loans</th>\n",
       "      <th>dispersal_date</th>\n",
       "      <th>posted_year</th>\n",
       "      <th>posted_month</th>\n",
       "      <th>time_to_fund</th>\n",
       "    </tr>\n",
       "  </thead>\n",
       "  <tbody>\n",
       "    <tr>\n",
       "      <th>0</th>\n",
       "      <td>0</td>\n",
       "      <td>0</td>\n",
       "      <td>Farming</td>\n",
       "      <td>0.0</td>\n",
       "      <td>False</td>\n",
       "      <td>[{'first_name': 'Evaline', 'last_name': '', 'g...</td>\n",
       "      <td>NaN</td>\n",
       "      <td>['en']</td>\n",
       "      <td>Evaline is a married lady aged 44 years old an...</td>\n",
       "      <td>NaN</td>\n",
       "      <td>NaN</td>\n",
       "      <td>NaN</td>\n",
       "      <td>0</td>\n",
       "      <td>NaN</td>\n",
       "      <td>1291548</td>\n",
       "      <td>2516002</td>\n",
       "      <td>1</td>\n",
       "      <td>0</td>\n",
       "      <td>0</td>\n",
       "      <td>0</td>\n",
       "      <td>500</td>\n",
       "      <td>Kenya</td>\n",
       "      <td>KE</td>\n",
       "      <td>town</td>\n",
       "      <td>-0.583333 35.183333</td>\n",
       "      <td>point</td>\n",
       "      <td>litein</td>\n",
       "      <td>Evaline</td>\n",
       "      <td>386.0</td>\n",
       "      <td>[]</td>\n",
       "      <td>2017-06-08</td>\n",
       "      <td>2017-05-09</td>\n",
       "      <td>Agriculture</td>\n",
       "      <td>fundraising</td>\n",
       "      <td>[{'name': '#Woman Owned Biz'}, {'name': '#Pare...</td>\n",
       "      <td>50000.0</td>\n",
       "      <td>KES</td>\n",
       "      <td>2017-04-03T07:00:00Z</td>\n",
       "      <td>500</td>\n",
       "      <td>[{'due_date': '2017-05-10T07:00:00Z', 'amount'...</td>\n",
       "      <td>...</td>\n",
       "      <td>NaN</td>\n",
       "      <td>Julie Keaton</td>\n",
       "      <td>892591.0</td>\n",
       "      <td>to purchase more tea leaves to sell to the tea...</td>\n",
       "      <td>NaN</td>\n",
       "      <td>NaN</td>\n",
       "      <td>NaN</td>\n",
       "      <td>NaN</td>\n",
       "      <td>1</td>\n",
       "      <td>0.0</td>\n",
       "      <td>True</td>\n",
       "      <td>[{'iso_code': 'KE', 'region': 'Africa', 'name'...</td>\n",
       "      <td>0.120642</td>\n",
       "      <td>0.0</td>\n",
       "      <td>NaN</td>\n",
       "      <td>7.017031</td>\n",
       "      <td>NaN</td>\n",
       "      <td>1592272.0</td>\n",
       "      <td>1.0</td>\n",
       "      <td>21.165398</td>\n",
       "      <td>1948.0</td>\n",
       "      <td>Kenya ECLOF</td>\n",
       "      <td>40.3</td>\n",
       "      <td>NaN</td>\n",
       "      <td>2.54</td>\n",
       "      <td>2.0</td>\n",
       "      <td>[{'id': 3, 'name': 'Client Voice', 'descriptio...</td>\n",
       "      <td>2014-05-29T13:30:02Z</td>\n",
       "      <td>active</td>\n",
       "      <td>863375.0</td>\n",
       "      <td>http://www.eclof-kenya.org/</td>\n",
       "      <td>2017-05-09 00:40:03</td>\n",
       "      <td>NaN</td>\n",
       "      <td>2017-06-08 00:40:03</td>\n",
       "      <td>2017-04-03 07:00:00</td>\n",
       "      <td>1</td>\n",
       "      <td>2017-04-03</td>\n",
       "      <td>2017</td>\n",
       "      <td>5</td>\n",
       "      <td>NaN</td>\n",
       "    </tr>\n",
       "    <tr>\n",
       "      <th>1</th>\n",
       "      <td>1</td>\n",
       "      <td>1</td>\n",
       "      <td>Furniture Making</td>\n",
       "      <td>0.0</td>\n",
       "      <td>False</td>\n",
       "      <td>[{'first_name': 'Julias', 'last_name': '', 'ge...</td>\n",
       "      <td>NaN</td>\n",
       "      <td>['en']</td>\n",
       "      <td>Aged 42 years is a man by the name of Julias. ...</td>\n",
       "      <td>NaN</td>\n",
       "      <td>NaN</td>\n",
       "      <td>NaN</td>\n",
       "      <td>0</td>\n",
       "      <td>NaN</td>\n",
       "      <td>1291532</td>\n",
       "      <td>2515992</td>\n",
       "      <td>1</td>\n",
       "      <td>0</td>\n",
       "      <td>0</td>\n",
       "      <td>0</td>\n",
       "      <td>500</td>\n",
       "      <td>Kenya</td>\n",
       "      <td>KE</td>\n",
       "      <td>town</td>\n",
       "      <td>0.566667 34.566667</td>\n",
       "      <td>point</td>\n",
       "      <td>Bungoma</td>\n",
       "      <td>Julias</td>\n",
       "      <td>386.0</td>\n",
       "      <td>[]</td>\n",
       "      <td>2017-06-08</td>\n",
       "      <td>2017-05-09</td>\n",
       "      <td>Manufacturing</td>\n",
       "      <td>fundraising</td>\n",
       "      <td>[]</td>\n",
       "      <td>50000.0</td>\n",
       "      <td>KES</td>\n",
       "      <td>2017-04-03T07:00:00Z</td>\n",
       "      <td>500</td>\n",
       "      <td>[{'due_date': '2017-05-09T07:00:00Z', 'amount'...</td>\n",
       "      <td>...</td>\n",
       "      <td>NaN</td>\n",
       "      <td>Morena Calvo</td>\n",
       "      <td>1832928.0</td>\n",
       "      <td>to buy timber to make more furniture for his e...</td>\n",
       "      <td>NaN</td>\n",
       "      <td>NaN</td>\n",
       "      <td>NaN</td>\n",
       "      <td>NaN</td>\n",
       "      <td>1</td>\n",
       "      <td>0.0</td>\n",
       "      <td>True</td>\n",
       "      <td>[{'iso_code': 'KE', 'region': 'Africa', 'name'...</td>\n",
       "      <td>0.120642</td>\n",
       "      <td>0.0</td>\n",
       "      <td>NaN</td>\n",
       "      <td>7.017031</td>\n",
       "      <td>NaN</td>\n",
       "      <td>1592272.0</td>\n",
       "      <td>1.0</td>\n",
       "      <td>21.165398</td>\n",
       "      <td>1948.0</td>\n",
       "      <td>Kenya ECLOF</td>\n",
       "      <td>40.3</td>\n",
       "      <td>NaN</td>\n",
       "      <td>2.54</td>\n",
       "      <td>2.0</td>\n",
       "      <td>[{'id': 3, 'name': 'Client Voice', 'descriptio...</td>\n",
       "      <td>2014-05-29T13:30:02Z</td>\n",
       "      <td>active</td>\n",
       "      <td>863375.0</td>\n",
       "      <td>http://www.eclof-kenya.org/</td>\n",
       "      <td>2017-05-09 00:30:05</td>\n",
       "      <td>NaN</td>\n",
       "      <td>2017-06-08 00:30:05</td>\n",
       "      <td>2017-04-03 07:00:00</td>\n",
       "      <td>1</td>\n",
       "      <td>2017-04-03</td>\n",
       "      <td>2017</td>\n",
       "      <td>5</td>\n",
       "      <td>NaN</td>\n",
       "    </tr>\n",
       "  </tbody>\n",
       "</table>\n",
       "<p>2 rows × 86 columns</p>\n",
       "</div>"
      ],
      "text/plain": [
       "   unnamed:_0_1  unnamed:_0_1_1          activity  basket_amount  \\\n",
       "0             0               0           Farming            0.0   \n",
       "1             1               1  Furniture Making            0.0   \n",
       "\n",
       "   bonus_credit_eligibility  \\\n",
       "0                     False   \n",
       "1                     False   \n",
       "\n",
       "                                           borrowers  \\\n",
       "0  [{'first_name': 'Evaline', 'last_name': '', 'g...   \n",
       "1  [{'first_name': 'Julias', 'last_name': '', 'ge...   \n",
       "\n",
       "   currency_exchange_loss_amount description_languages  \\\n",
       "0                            NaN                ['en']   \n",
       "1                            NaN                ['en']   \n",
       "\n",
       "                                description_texts_en description_texts_es  \\\n",
       "0  Evaline is a married lady aged 44 years old an...                  NaN   \n",
       "1  Aged 42 years is a man by the name of Julias. ...                  NaN   \n",
       "\n",
       "  description_texts_fr description_texts_ru  funded_amount funded_date  \\\n",
       "0                  NaN                  NaN              0         NaN   \n",
       "1                  NaN                  NaN              0         NaN   \n",
       "\n",
       "        id  image_id  image_template_id  journal_totals_bulkentries  \\\n",
       "0  1291548   2516002                  1                           0   \n",
       "1  1291532   2515992                  1                           0   \n",
       "\n",
       "   journal_totals_entries  lender_count  loan_amount location_country  \\\n",
       "0                       0             0          500            Kenya   \n",
       "1                       0             0          500            Kenya   \n",
       "\n",
       "  location_country_code location_geo_level   location_geo_pairs  \\\n",
       "0                    KE               town  -0.583333 35.183333   \n",
       "1                    KE               town   0.566667 34.566667   \n",
       "\n",
       "  location_geo_type location_town     name  partner_id payments  \\\n",
       "0             point        litein  Evaline       386.0       []   \n",
       "1             point       Bungoma   Julias       386.0       []   \n",
       "\n",
       "  planned_expiration_date posted_date         sector       status  \\\n",
       "0              2017-06-08  2017-05-09    Agriculture  fundraising   \n",
       "1              2017-06-08  2017-05-09  Manufacturing  fundraising   \n",
       "\n",
       "                                                tags  terms_disbursal_amount  \\\n",
       "0  [{'name': '#Woman Owned Biz'}, {'name': '#Pare...                 50000.0   \n",
       "1                                                 []                 50000.0   \n",
       "\n",
       "  terms_disbursal_currency  terms_disbursal_date  terms_loan_amount  \\\n",
       "0                      KES  2017-04-03T07:00:00Z                500   \n",
       "1                      KES  2017-04-03T07:00:00Z                500   \n",
       "\n",
       "                                terms_local_payments     ...      themes  \\\n",
       "0  [{'due_date': '2017-05-10T07:00:00Z', 'amount'...     ...         NaN   \n",
       "1  [{'due_date': '2017-05-09T07:00:00Z', 'amount'...     ...         NaN   \n",
       "\n",
       "   translator_byline translator_image  \\\n",
       "0       Julie Keaton         892591.0   \n",
       "1       Morena Calvo        1832928.0   \n",
       "\n",
       "                                                 use  video_id  \\\n",
       "0  to purchase more tea leaves to sell to the tea...       NaN   \n",
       "1  to buy timber to make more furniture for his e...       NaN   \n",
       "\n",
       "  video_thumbnailimageid video_title video_youtubeid  borrower_count  \\\n",
       "0                    NaN         NaN             NaN               1   \n",
       "1                    NaN         NaN             NaN               1   \n",
       "\n",
       "  partner_average_loan_size_percent_per_capita_income  \\\n",
       "0                                                0.0    \n",
       "1                                                0.0    \n",
       "\n",
       "   partner_charges_fees_and_interest  \\\n",
       "0                               True   \n",
       "1                               True   \n",
       "\n",
       "                                   partner_countries  \\\n",
       "0  [{'iso_code': 'KE', 'region': 'Africa', 'name'...   \n",
       "1  [{'iso_code': 'KE', 'region': 'Africa', 'name'...   \n",
       "\n",
       "  partner_currency_exchange_loss_rate partner_default_rate  \\\n",
       "0                            0.120642                  0.0   \n",
       "1                            0.120642                  0.0   \n",
       "\n",
       "   partner_default_rate_note  partner_delinquency_rate  \\\n",
       "0                        NaN                  7.017031   \n",
       "1                        NaN                  7.017031   \n",
       "\n",
       "   partner_delinquency_rate_note partner_image_id  partner_image_template_id  \\\n",
       "0                            NaN        1592272.0                        1.0   \n",
       "1                            NaN        1592272.0                        1.0   \n",
       "\n",
       "   partner_loans_at_risk_rate  partner_loans_posted  partner_name  \\\n",
       "0                   21.165398                1948.0   Kenya ECLOF   \n",
       "1                   21.165398                1948.0   Kenya ECLOF   \n",
       "\n",
       "   partner_portfolio_yield  partner_portfolio_yield_note  \\\n",
       "0                     40.3                           NaN   \n",
       "1                     40.3                           NaN   \n",
       "\n",
       "   partner_profitability  partner_rating  \\\n",
       "0                   2.54             2.0   \n",
       "1                   2.54             2.0   \n",
       "\n",
       "                partner_social_performance_strengths    partner_start_date  \\\n",
       "0  [{'id': 3, 'name': 'Client Voice', 'descriptio...  2014-05-29T13:30:02Z   \n",
       "1  [{'id': 3, 'name': 'Client Voice', 'descriptio...  2014-05-29T13:30:02Z   \n",
       "\n",
       "   partner_status  partner_total_amount_raised                  partner_url  \\\n",
       "0          active                     863375.0  http://www.eclof-kenya.org/   \n",
       "1          active                     863375.0  http://www.eclof-kenya.org/   \n",
       "\n",
       "       posted_datetime funded_datetime planned_expiration_datetime  \\\n",
       "0  2017-05-09 00:40:03             NaN         2017-06-08 00:40:03   \n",
       "1  2017-05-09 00:30:05             NaN         2017-06-08 00:30:05   \n",
       "\n",
       "    dispursal_datetime  number_of_loans dispersal_date posted_year  \\\n",
       "0  2017-04-03 07:00:00                1     2017-04-03        2017   \n",
       "1  2017-04-03 07:00:00                1     2017-04-03        2017   \n",
       "\n",
       "  posted_month time_to_fund  \n",
       "0            5          NaN  \n",
       "1            5          NaN  \n",
       "\n",
       "[2 rows x 86 columns]"
      ]
     },
     "execution_count": 7,
     "metadata": {},
     "output_type": "execute_result"
    }
   ],
   "source": [
    "df.head(n=2)"
   ]
  },
  {
   "cell_type": "code",
   "execution_count": 8,
   "metadata": {},
   "outputs": [
    {
     "data": {
      "text/plain": [
       "'There are 118,316 rows in the dataframe.'"
      ]
     },
     "execution_count": 8,
     "metadata": {},
     "output_type": "execute_result"
    }
   ],
   "source": [
    "f\"There are {df.shape[0]:,} rows in the dataframe.\""
   ]
  },
  {
   "cell_type": "code",
   "execution_count": 9,
   "metadata": {},
   "outputs": [
    {
     "name": "stdout",
     "output_type": "stream",
     "text": [
      "unnamed:_0_1\n",
      "unnamed:_0_1_1\n",
      "activity\n",
      "basket_amount\n",
      "bonus_credit_eligibility\n",
      "borrowers\n",
      "currency_exchange_loss_amount\n",
      "description_languages\n",
      "description_texts_en\n",
      "description_texts_es\n",
      "description_texts_fr\n",
      "description_texts_ru\n",
      "funded_amount\n",
      "funded_date\n",
      "id\n",
      "image_id\n",
      "image_template_id\n",
      "journal_totals_bulkentries\n",
      "journal_totals_entries\n",
      "lender_count\n",
      "loan_amount\n",
      "location_country\n",
      "location_country_code\n",
      "location_geo_level\n",
      "location_geo_pairs\n",
      "location_geo_type\n",
      "location_town\n",
      "name\n",
      "partner_id\n",
      "payments\n",
      "planned_expiration_date\n",
      "posted_date\n",
      "sector\n",
      "status\n",
      "tags\n",
      "terms_disbursal_amount\n",
      "terms_disbursal_currency\n",
      "terms_disbursal_date\n",
      "terms_loan_amount\n",
      "terms_local_payments\n",
      "terms_loss_liability_currency_exchange\n",
      "terms_loss_liability_currency_exchange_coverage_rate\n",
      "terms_loss_liability_nonpayment\n",
      "terms_repayment_interval\n",
      "terms_repayment_term\n",
      "terms_scheduled_payments\n",
      "themes\n",
      "translator_byline\n",
      "translator_image\n",
      "use\n",
      "video_id\n",
      "video_thumbnailimageid\n",
      "video_title\n",
      "video_youtubeid\n",
      "borrower_count\n",
      "partner_average_loan_size_percent_per_capita_income\n",
      "partner_charges_fees_and_interest\n",
      "partner_countries\n",
      "partner_currency_exchange_loss_rate\n",
      "partner_default_rate\n",
      "partner_default_rate_note\n",
      "partner_delinquency_rate\n",
      "partner_delinquency_rate_note\n",
      "partner_image_id\n",
      "partner_image_template_id\n",
      "partner_loans_at_risk_rate\n",
      "partner_loans_posted\n",
      "partner_name\n",
      "partner_portfolio_yield\n",
      "partner_portfolio_yield_note\n",
      "partner_profitability\n",
      "partner_rating\n",
      "partner_social_performance_strengths\n",
      "partner_start_date\n",
      "partner_status\n",
      "partner_total_amount_raised\n",
      "partner_url\n",
      "posted_datetime\n",
      "funded_datetime\n",
      "planned_expiration_datetime\n",
      "dispursal_datetime\n",
      "number_of_loans\n",
      "dispersal_date\n",
      "posted_year\n",
      "posted_month\n",
      "time_to_fund\n"
     ]
    }
   ],
   "source": [
    "# Check out the dataframe columns\n",
    "print(*df.columns, sep='\\n')"
   ]
  },
  {
   "cell_type": "markdown",
   "metadata": {},
   "source": [
    "------\n",
    "\n",
    "Now that we have our data set up, we can begin partitioning our data into clusters based on a few features. Let's think about a few of these.\n",
    "\n",
    "As a potential borrower or lender, what would be interesting to explore? \n",
    "\n",
    "In the previous notebooks, we explored a number of interesting ideas, including how much a borrower should ask to borrow, the time it takes to fund a loan, and what features can influence the loan amount. If we partition borrowers into distinct groups based on how quickly they can fund a loan, will we be able to learn anything about these groups of borrowers?\n",
    "\n",
    "The k-means algorithm processes numeric values. Let's prepare a few interesting numeric features for analysis:"
   ]
  },
  {
   "cell_type": "code",
   "execution_count": 10,
   "metadata": {
    "collapsed": true,
    "scrolled": true
   },
   "outputs": [],
   "source": [
    "# XXX: This might just cargo coding from Python 2\n",
    "# # Convert potential numeric columns of interest to float types\n",
    "# df['funded_amount'] = df['funded_amount']*1.0\n",
    "# df['lender_count'] = df['lender_count']*1.0\n",
    "# df['loan_amount'] = df['loan_amount']*1.0\n",
    "# df['borrower_count'] = df['borrower_count']*1.0\n",
    "# df['days_to_fund'] = df['days_to_fund']*1.0"
   ]
  },
  {
   "cell_type": "code",
   "execution_count": 27,
   "metadata": {},
   "outputs": [],
   "source": [
    "# Keep only relevant columns\n",
    "relavant_colums = ['funded_amount', \n",
    "#                    'lender_count', \n",
    "                   'loan_amount']\n",
    "#                    'borrower_count']\n",
    "\n",
    "df = df[relavant_colums] "
   ]
  },
  {
   "cell_type": "code",
   "execution_count": 28,
   "metadata": {},
   "outputs": [
    {
     "data": {
      "text/html": [
       "<div>\n",
       "<style>\n",
       "    .dataframe thead tr:only-child th {\n",
       "        text-align: right;\n",
       "    }\n",
       "\n",
       "    .dataframe thead th {\n",
       "        text-align: left;\n",
       "    }\n",
       "\n",
       "    .dataframe tbody tr th {\n",
       "        vertical-align: top;\n",
       "    }\n",
       "</style>\n",
       "<table border=\"1\" class=\"dataframe\">\n",
       "  <thead>\n",
       "    <tr style=\"text-align: right;\">\n",
       "      <th></th>\n",
       "      <th>funded_amount</th>\n",
       "      <th>loan_amount</th>\n",
       "    </tr>\n",
       "  </thead>\n",
       "  <tbody>\n",
       "    <tr>\n",
       "      <th>count</th>\n",
       "      <td>118316.000000</td>\n",
       "      <td>118316.000000</td>\n",
       "    </tr>\n",
       "    <tr>\n",
       "      <th>mean</th>\n",
       "      <td>473.439771</td>\n",
       "      <td>495.159784</td>\n",
       "    </tr>\n",
       "    <tr>\n",
       "      <th>std</th>\n",
       "      <td>676.663803</td>\n",
       "      <td>704.079168</td>\n",
       "    </tr>\n",
       "    <tr>\n",
       "      <th>min</th>\n",
       "      <td>0.000000</td>\n",
       "      <td>25.000000</td>\n",
       "    </tr>\n",
       "    <tr>\n",
       "      <th>25%</th>\n",
       "      <td>250.000000</td>\n",
       "      <td>250.000000</td>\n",
       "    </tr>\n",
       "    <tr>\n",
       "      <th>50%</th>\n",
       "      <td>350.000000</td>\n",
       "      <td>375.000000</td>\n",
       "    </tr>\n",
       "    <tr>\n",
       "      <th>75%</th>\n",
       "      <td>600.000000</td>\n",
       "      <td>600.000000</td>\n",
       "    </tr>\n",
       "    <tr>\n",
       "      <th>max</th>\n",
       "      <td>50000.000000</td>\n",
       "      <td>50000.000000</td>\n",
       "    </tr>\n",
       "  </tbody>\n",
       "</table>\n",
       "</div>"
      ],
      "text/plain": [
       "       funded_amount    loan_amount\n",
       "count  118316.000000  118316.000000\n",
       "mean      473.439771     495.159784\n",
       "std       676.663803     704.079168\n",
       "min         0.000000      25.000000\n",
       "25%       250.000000     250.000000\n",
       "50%       350.000000     375.000000\n",
       "75%       600.000000     600.000000\n",
       "max     50000.000000   50000.000000"
      ]
     },
     "execution_count": 28,
     "metadata": {},
     "output_type": "execute_result"
    }
   ],
   "source": [
    "# Take a peek at summary statistics\n",
    "df.describe()"
   ]
  },
  {
   "cell_type": "code",
   "execution_count": 55,
   "metadata": {},
   "outputs": [
    {
     "data": {
      "image/png": "[encoded data removed]",
      "text/plain": [
       "<matplotlib.figure.Figure at 0x119910710>"
      ]
     },
     "metadata": {},
     "output_type": "display_data"
    }
   ],
   "source": [
    "df.loan_amount.hist();"
   ]
  },
  {
   "cell_type": "code",
   "execution_count": null,
   "metadata": {
    "collapsed": true
   },
   "outputs": [],
   "source": [
    "k_means_labels"
   ]
  },
  {
   "cell_type": "markdown",
   "metadata": {},
   "source": [
    "Now we're ready to run the k-means algorithm:\n",
    "\n",
    "Let's take quick peek at the [scikit-learn's documentation](http://scikit-learn.org/stable/modules/generated/sklearn.cluster.KMeans.html)"
   ]
  },
  {
   "cell_type": "code",
   "execution_count": 37,
   "metadata": {},
   "outputs": [],
   "source": [
    "# Take KMeans class, initialize and fit it our data\n",
    "kmeans = KMeans(n_clusters=3, random_state=0)\n",
    "kmeans = fit(df)"
   ]
  },
  {
   "cell_type": "code",
   "execution_count": 42,
   "metadata": {},
   "outputs": [],
   "source": [
    "k_means_labels = kmeans.labels_\n",
    "k_means_cluster_centers = kmeans.cluster_centers_"
   ]
  },
  {
   "cell_type": "code",
   "execution_count": 58,
   "metadata": {},
   "outputs": [
    {
     "data": {
      "text/plain": [
       "118237"
      ]
     },
     "execution_count": 58,
     "metadata": {},
     "output_type": "execute_result"
    }
   ],
   "source": [
    "len(df.iloc[k_means_labels==0])"
   ]
  },
  {
   "cell_type": "code",
   "execution_count": null,
   "metadata": {
    "collapsed": true
   },
   "outputs": [],
   "source": [
    "plt.scatter(df[:, 0], X1[:, 1], marker='o', c=Y1,\n",
    "            s=25, edgecolor='k')"
   ]
  },
  {
   "cell_type": "code",
   "execution_count": 45,
   "metadata": {
    "scrolled": true
   },
   "outputs": [
    {
     "name": "stderr",
     "output_type": "stream",
     "text": [
      "/Users/brian/anaconda3/envs/good/lib/python3.6/site-packages/ipykernel_launcher.py:5: MatplotlibDeprecationWarning: pyplot.hold is deprecated.\n",
      "    Future behavior will be consistent with the long-time default:\n",
      "    plot commands add elements without first clearing the\n",
      "    Axes and/or Figure.\n",
      "  \"\"\"\n",
      "/Users/brian/anaconda3/envs/good/lib/python3.6/site-packages/matplotlib/__init__.py:917: UserWarning: axes.hold is deprecated. Please remove it from your matplotlibrc and/or style files.\n",
      "  \n",
      "/Users/brian/anaconda3/envs/good/lib/python3.6/site-packages/matplotlib/rcsetup.py:152: UserWarning: axes.hold is deprecated, will be removed in 3.0\n",
      "  return None  # converted to True where accessed in figure.py,\n"
     ]
    },
    {
     "data": {
      "image/png": "[encoded data removed]",
      "text/plain": [
       "<matplotlib.figure.Figure at 0x120a925f8>"
      ]
     },
     "metadata": {},
     "output_type": "display_data"
    }
   ],
   "source": [
    "# Plot result\n",
    "\n",
    "colors = ['#4EACC5', '#FF9C34', '#4E9A06']\n",
    "plt.figure()\n",
    "for k, col in zip(range(n_clusters), colors):\n",
    "    my_members = k_means_labels == k\n",
    "    cluster_center = k_means_cluster_centers[k]\n",
    "    plt.plot(df[my_members], \n",
    "             df[my_members], \n",
    "             'w',\n",
    "             markerfacecolor=col, \n",
    "             marker='.')\n",
    "    plt.plot(cluster_center[0],\n",
    "             cluster_center[1], \n",
    "             'o',\n",
    "             markerfacecolor=col,\n",
    "             markeredgecolor='k', \n",
    "             markersize=6)\n",
    "plt.title('KMeans')    \n",
    "plt.grid(True)\n",
    "plt.show()"
   ]
  },
  {
   "cell_type": "markdown",
   "metadata": {},
   "source": [
    "# Validating Our Cluster Analysis"
   ]
  },
  {
   "cell_type": "markdown",
   "metadata": {},
   "source": [
    "Let's break down step by step what the above chunk of code is actually doing and assess some of the factors worth considering as you form a cluster analysis."
   ]
  },
  {
   "cell_type": "markdown",
   "metadata": {},
   "source": [
    "# Determining the number of features to include"
   ]
  },
  {
   "cell_type": "code",
   "execution_count": 16,
   "metadata": {},
   "outputs": [
    {
     "ename": "UndefinedVariableError",
     "evalue": "name 'days_to_fund' is not defined",
     "output_type": "error",
     "traceback": [
      "\u001b[0;31m---------------------------------------------------------------------------\u001b[0m",
      "\u001b[0;31mKeyError\u001b[0m                                  Traceback (most recent call last)",
      "\u001b[0;32m~/anaconda3/envs/good/lib/python3.6/site-packages/pandas/core/computation/scope.py\u001b[0m in \u001b[0;36mresolve\u001b[0;34m(self, key, is_local)\u001b[0m\n\u001b[1;32m    178\u001b[0m             \u001b[0;32mif\u001b[0m \u001b[0mself\u001b[0m\u001b[0;34m.\u001b[0m\u001b[0mhas_resolvers\u001b[0m\u001b[0;34m:\u001b[0m\u001b[0;34m\u001b[0m\u001b[0m\n\u001b[0;32m--> 179\u001b[0;31m                 \u001b[0;32mreturn\u001b[0m \u001b[0mself\u001b[0m\u001b[0;34m.\u001b[0m\u001b[0mresolvers\u001b[0m\u001b[0;34m[\u001b[0m\u001b[0mkey\u001b[0m\u001b[0;34m]\u001b[0m\u001b[0;34m\u001b[0m\u001b[0m\n\u001b[0m\u001b[1;32m    180\u001b[0m \u001b[0;34m\u001b[0m\u001b[0m\n",
      "\u001b[0;32m~/anaconda3/envs/good/lib/python3.6/collections/__init__.py\u001b[0m in \u001b[0;36m__getitem__\u001b[0;34m(self, key)\u001b[0m\n\u001b[1;32m    881\u001b[0m                 \u001b[0;32mpass\u001b[0m\u001b[0;34m\u001b[0m\u001b[0m\n\u001b[0;32m--> 882\u001b[0;31m         \u001b[0;32mreturn\u001b[0m \u001b[0mself\u001b[0m\u001b[0;34m.\u001b[0m\u001b[0m__missing__\u001b[0m\u001b[0;34m(\u001b[0m\u001b[0mkey\u001b[0m\u001b[0;34m)\u001b[0m            \u001b[0;31m# support subclasses that define __missing__\u001b[0m\u001b[0;34m\u001b[0m\u001b[0m\n\u001b[0m\u001b[1;32m    883\u001b[0m \u001b[0;34m\u001b[0m\u001b[0m\n",
      "\u001b[0;32m~/anaconda3/envs/good/lib/python3.6/collections/__init__.py\u001b[0m in \u001b[0;36m__missing__\u001b[0;34m(self, key)\u001b[0m\n\u001b[1;32m    873\u001b[0m     \u001b[0;32mdef\u001b[0m \u001b[0m__missing__\u001b[0m\u001b[0;34m(\u001b[0m\u001b[0mself\u001b[0m\u001b[0;34m,\u001b[0m \u001b[0mkey\u001b[0m\u001b[0;34m)\u001b[0m\u001b[0;34m:\u001b[0m\u001b[0;34m\u001b[0m\u001b[0m\n\u001b[0;32m--> 874\u001b[0;31m         \u001b[0;32mraise\u001b[0m \u001b[0mKeyError\u001b[0m\u001b[0;34m(\u001b[0m\u001b[0mkey\u001b[0m\u001b[0;34m)\u001b[0m\u001b[0;34m\u001b[0m\u001b[0m\n\u001b[0m\u001b[1;32m    875\u001b[0m \u001b[0;34m\u001b[0m\u001b[0m\n",
      "\u001b[0;31mKeyError\u001b[0m: 'days_to_fund'",
      "\nDuring handling of the above exception, another exception occurred:\n",
      "\u001b[0;31mKeyError\u001b[0m                                  Traceback (most recent call last)",
      "\u001b[0;32m~/anaconda3/envs/good/lib/python3.6/site-packages/pandas/core/computation/scope.py\u001b[0m in \u001b[0;36mresolve\u001b[0;34m(self, key, is_local)\u001b[0m\n\u001b[1;32m    189\u001b[0m                 \u001b[0;31m# e.g., df[df > 0]\u001b[0m\u001b[0;34m\u001b[0m\u001b[0;34m\u001b[0m\u001b[0m\n\u001b[0;32m--> 190\u001b[0;31m                 \u001b[0;32mreturn\u001b[0m \u001b[0mself\u001b[0m\u001b[0;34m.\u001b[0m\u001b[0mtemps\u001b[0m\u001b[0;34m[\u001b[0m\u001b[0mkey\u001b[0m\u001b[0;34m]\u001b[0m\u001b[0;34m\u001b[0m\u001b[0m\n\u001b[0m\u001b[1;32m    191\u001b[0m             \u001b[0;32mexcept\u001b[0m \u001b[0mKeyError\u001b[0m\u001b[0;34m:\u001b[0m\u001b[0;34m\u001b[0m\u001b[0m\n",
      "\u001b[0;31mKeyError\u001b[0m: 'days_to_fund'",
      "\nDuring handling of the above exception, another exception occurred:\n",
      "\u001b[0;31mUndefinedVariableError\u001b[0m                    Traceback (most recent call last)",
      "\u001b[0;32m<ipython-input-16-565c1be3e48c>\u001b[0m in \u001b[0;36m<module>\u001b[0;34m()\u001b[0m\n\u001b[1;32m      1\u001b[0m \u001b[0;31m#Create clusters based on days to fund, loan amount, and repayment terms only\u001b[0m\u001b[0;34m\u001b[0m\u001b[0;34m\u001b[0m\u001b[0m\n\u001b[0;32m----> 2\u001b[0;31m \u001b[0mloans_array\u001b[0m \u001b[0;34m=\u001b[0m \u001b[0mdf\u001b[0m\u001b[0;34m.\u001b[0m\u001b[0mquery\u001b[0m\u001b[0;34m(\u001b[0m\u001b[0;34m\"days_to_fund >= 0\"\u001b[0m\u001b[0;34m)\u001b[0m\u001b[0;34m[\u001b[0m\u001b[0;34m[\u001b[0m\u001b[0;34m'days_to_fund'\u001b[0m\u001b[0;34m,\u001b[0m \u001b[0;34m'loan_amount'\u001b[0m\u001b[0;34m,\u001b[0m \u001b[0;34m'terms.repayment_term'\u001b[0m\u001b[0;34m]\u001b[0m\u001b[0;34m]\u001b[0m\u001b[0;34m.\u001b[0m\u001b[0mas_matrix\u001b[0m\u001b[0;34m(\u001b[0m\u001b[0;34m)\u001b[0m\u001b[0;34m\u001b[0m\u001b[0m\n\u001b[0m",
      "\u001b[0;32m~/anaconda3/envs/good/lib/python3.6/site-packages/pandas/core/frame.py\u001b[0m in \u001b[0;36mquery\u001b[0;34m(self, expr, inplace, **kwargs)\u001b[0m\n\u001b[1;32m   2114\u001b[0m         \u001b[0mkwargs\u001b[0m\u001b[0;34m[\u001b[0m\u001b[0;34m'level'\u001b[0m\u001b[0;34m]\u001b[0m \u001b[0;34m=\u001b[0m \u001b[0mkwargs\u001b[0m\u001b[0;34m.\u001b[0m\u001b[0mpop\u001b[0m\u001b[0;34m(\u001b[0m\u001b[0;34m'level'\u001b[0m\u001b[0;34m,\u001b[0m \u001b[0;36m0\u001b[0m\u001b[0;34m)\u001b[0m \u001b[0;34m+\u001b[0m \u001b[0;36m1\u001b[0m\u001b[0;34m\u001b[0m\u001b[0m\n\u001b[1;32m   2115\u001b[0m         \u001b[0mkwargs\u001b[0m\u001b[0;34m[\u001b[0m\u001b[0;34m'target'\u001b[0m\u001b[0;34m]\u001b[0m \u001b[0;34m=\u001b[0m \u001b[0;32mNone\u001b[0m\u001b[0;34m\u001b[0m\u001b[0m\n\u001b[0;32m-> 2116\u001b[0;31m         \u001b[0mres\u001b[0m \u001b[0;34m=\u001b[0m \u001b[0mself\u001b[0m\u001b[0;34m.\u001b[0m\u001b[0meval\u001b[0m\u001b[0;34m(\u001b[0m\u001b[0mexpr\u001b[0m\u001b[0;34m,\u001b[0m \u001b[0;34m**\u001b[0m\u001b[0mkwargs\u001b[0m\u001b[0;34m)\u001b[0m\u001b[0;34m\u001b[0m\u001b[0m\n\u001b[0m\u001b[1;32m   2117\u001b[0m \u001b[0;34m\u001b[0m\u001b[0m\n\u001b[1;32m   2118\u001b[0m         \u001b[0;32mtry\u001b[0m\u001b[0;34m:\u001b[0m\u001b[0;34m\u001b[0m\u001b[0m\n",
      "\u001b[0;32m~/anaconda3/envs/good/lib/python3.6/site-packages/pandas/core/frame.py\u001b[0m in \u001b[0;36meval\u001b[0;34m(self, expr, inplace, **kwargs)\u001b[0m\n\u001b[1;32m   2184\u001b[0m             \u001b[0mkwargs\u001b[0m\u001b[0;34m[\u001b[0m\u001b[0;34m'target'\u001b[0m\u001b[0;34m]\u001b[0m \u001b[0;34m=\u001b[0m \u001b[0mself\u001b[0m\u001b[0;34m\u001b[0m\u001b[0m\n\u001b[1;32m   2185\u001b[0m         \u001b[0mkwargs\u001b[0m\u001b[0;34m[\u001b[0m\u001b[0;34m'resolvers'\u001b[0m\u001b[0;34m]\u001b[0m \u001b[0;34m=\u001b[0m \u001b[0mkwargs\u001b[0m\u001b[0;34m.\u001b[0m\u001b[0mget\u001b[0m\u001b[0;34m(\u001b[0m\u001b[0;34m'resolvers'\u001b[0m\u001b[0;34m,\u001b[0m \u001b[0;34m(\u001b[0m\u001b[0;34m)\u001b[0m\u001b[0;34m)\u001b[0m \u001b[0;34m+\u001b[0m \u001b[0mtuple\u001b[0m\u001b[0;34m(\u001b[0m\u001b[0mresolvers\u001b[0m\u001b[0;34m)\u001b[0m\u001b[0;34m\u001b[0m\u001b[0m\n\u001b[0;32m-> 2186\u001b[0;31m         \u001b[0;32mreturn\u001b[0m \u001b[0m_eval\u001b[0m\u001b[0;34m(\u001b[0m\u001b[0mexpr\u001b[0m\u001b[0;34m,\u001b[0m \u001b[0minplace\u001b[0m\u001b[0;34m=\u001b[0m\u001b[0minplace\u001b[0m\u001b[0;34m,\u001b[0m \u001b[0;34m**\u001b[0m\u001b[0mkwargs\u001b[0m\u001b[0;34m)\u001b[0m\u001b[0;34m\u001b[0m\u001b[0m\n\u001b[0m\u001b[1;32m   2187\u001b[0m \u001b[0;34m\u001b[0m\u001b[0m\n\u001b[1;32m   2188\u001b[0m     \u001b[0;32mdef\u001b[0m \u001b[0mselect_dtypes\u001b[0m\u001b[0;34m(\u001b[0m\u001b[0mself\u001b[0m\u001b[0;34m,\u001b[0m \u001b[0minclude\u001b[0m\u001b[0;34m=\u001b[0m\u001b[0;32mNone\u001b[0m\u001b[0;34m,\u001b[0m \u001b[0mexclude\u001b[0m\u001b[0;34m=\u001b[0m\u001b[0;32mNone\u001b[0m\u001b[0;34m)\u001b[0m\u001b[0;34m:\u001b[0m\u001b[0;34m\u001b[0m\u001b[0m\n",
      "\u001b[0;32m~/anaconda3/envs/good/lib/python3.6/site-packages/pandas/core/computation/eval.py\u001b[0m in \u001b[0;36meval\u001b[0;34m(expr, parser, engine, truediv, local_dict, global_dict, resolvers, level, target, inplace)\u001b[0m\n\u001b[1;32m    260\u001b[0m \u001b[0;34m\u001b[0m\u001b[0m\n\u001b[1;32m    261\u001b[0m         parsed_expr = Expr(expr, engine=engine, parser=parser, env=env,\n\u001b[0;32m--> 262\u001b[0;31m                            truediv=truediv)\n\u001b[0m\u001b[1;32m    263\u001b[0m \u001b[0;34m\u001b[0m\u001b[0m\n\u001b[1;32m    264\u001b[0m         \u001b[0;31m# construct the engine and evaluate the parsed expression\u001b[0m\u001b[0;34m\u001b[0m\u001b[0;34m\u001b[0m\u001b[0m\n",
      "\u001b[0;32m~/anaconda3/envs/good/lib/python3.6/site-packages/pandas/core/computation/expr.py\u001b[0m in \u001b[0;36m__init__\u001b[0;34m(self, expr, engine, parser, env, truediv, level)\u001b[0m\n\u001b[1;32m    725\u001b[0m         \u001b[0mself\u001b[0m\u001b[0;34m.\u001b[0m\u001b[0menv\u001b[0m\u001b[0;34m.\u001b[0m\u001b[0mscope\u001b[0m\u001b[0;34m[\u001b[0m\u001b[0;34m'truediv'\u001b[0m\u001b[0;34m]\u001b[0m \u001b[0;34m=\u001b[0m \u001b[0mtruediv\u001b[0m\u001b[0;34m\u001b[0m\u001b[0m\n\u001b[1;32m    726\u001b[0m         \u001b[0mself\u001b[0m\u001b[0;34m.\u001b[0m\u001b[0m_visitor\u001b[0m \u001b[0;34m=\u001b[0m \u001b[0m_parsers\u001b[0m\u001b[0;34m[\u001b[0m\u001b[0mparser\u001b[0m\u001b[0;34m]\u001b[0m\u001b[0;34m(\u001b[0m\u001b[0mself\u001b[0m\u001b[0;34m.\u001b[0m\u001b[0menv\u001b[0m\u001b[0;34m,\u001b[0m \u001b[0mself\u001b[0m\u001b[0;34m.\u001b[0m\u001b[0mengine\u001b[0m\u001b[0;34m,\u001b[0m \u001b[0mself\u001b[0m\u001b[0;34m.\u001b[0m\u001b[0mparser\u001b[0m\u001b[0;34m)\u001b[0m\u001b[0;34m\u001b[0m\u001b[0m\n\u001b[0;32m--> 727\u001b[0;31m         \u001b[0mself\u001b[0m\u001b[0;34m.\u001b[0m\u001b[0mterms\u001b[0m \u001b[0;34m=\u001b[0m \u001b[0mself\u001b[0m\u001b[0;34m.\u001b[0m\u001b[0mparse\u001b[0m\u001b[0;34m(\u001b[0m\u001b[0;34m)\u001b[0m\u001b[0;34m\u001b[0m\u001b[0m\n\u001b[0m\u001b[1;32m    728\u001b[0m \u001b[0;34m\u001b[0m\u001b[0m\n\u001b[1;32m    729\u001b[0m     \u001b[0;34m@\u001b[0m\u001b[0mproperty\u001b[0m\u001b[0;34m\u001b[0m\u001b[0m\n",
      "\u001b[0;32m~/anaconda3/envs/good/lib/python3.6/site-packages/pandas/core/computation/expr.py\u001b[0m in \u001b[0;36mparse\u001b[0;34m(self)\u001b[0m\n\u001b[1;32m    742\u001b[0m     \u001b[0;32mdef\u001b[0m \u001b[0mparse\u001b[0m\u001b[0;34m(\u001b[0m\u001b[0mself\u001b[0m\u001b[0;34m)\u001b[0m\u001b[0;34m:\u001b[0m\u001b[0;34m\u001b[0m\u001b[0m\n\u001b[1;32m    743\u001b[0m         \u001b[0;34m\"\"\"Parse an expression\"\"\"\u001b[0m\u001b[0;34m\u001b[0m\u001b[0m\n\u001b[0;32m--> 744\u001b[0;31m         \u001b[0;32mreturn\u001b[0m \u001b[0mself\u001b[0m\u001b[0;34m.\u001b[0m\u001b[0m_visitor\u001b[0m\u001b[0;34m.\u001b[0m\u001b[0mvisit\u001b[0m\u001b[0;34m(\u001b[0m\u001b[0mself\u001b[0m\u001b[0;34m.\u001b[0m\u001b[0mexpr\u001b[0m\u001b[0;34m)\u001b[0m\u001b[0;34m\u001b[0m\u001b[0m\n\u001b[0m\u001b[1;32m    745\u001b[0m \u001b[0;34m\u001b[0m\u001b[0m\n\u001b[1;32m    746\u001b[0m     \u001b[0;34m@\u001b[0m\u001b[0mproperty\u001b[0m\u001b[0;34m\u001b[0m\u001b[0m\n",
      "\u001b[0;32m~/anaconda3/envs/good/lib/python3.6/site-packages/pandas/core/computation/expr.py\u001b[0m in \u001b[0;36mvisit\u001b[0;34m(self, node, **kwargs)\u001b[0m\n\u001b[1;32m    311\u001b[0m         \u001b[0mmethod\u001b[0m \u001b[0;34m=\u001b[0m \u001b[0;34m'visit_'\u001b[0m \u001b[0;34m+\u001b[0m \u001b[0mnode\u001b[0m\u001b[0;34m.\u001b[0m\u001b[0m__class__\u001b[0m\u001b[0;34m.\u001b[0m\u001b[0m__name__\u001b[0m\u001b[0;34m\u001b[0m\u001b[0m\n\u001b[1;32m    312\u001b[0m         \u001b[0mvisitor\u001b[0m \u001b[0;34m=\u001b[0m \u001b[0mgetattr\u001b[0m\u001b[0;34m(\u001b[0m\u001b[0mself\u001b[0m\u001b[0;34m,\u001b[0m \u001b[0mmethod\u001b[0m\u001b[0;34m)\u001b[0m\u001b[0;34m\u001b[0m\u001b[0m\n\u001b[0;32m--> 313\u001b[0;31m         \u001b[0;32mreturn\u001b[0m \u001b[0mvisitor\u001b[0m\u001b[0;34m(\u001b[0m\u001b[0mnode\u001b[0m\u001b[0;34m,\u001b[0m \u001b[0;34m**\u001b[0m\u001b[0mkwargs\u001b[0m\u001b[0;34m)\u001b[0m\u001b[0;34m\u001b[0m\u001b[0m\n\u001b[0m\u001b[1;32m    314\u001b[0m \u001b[0;34m\u001b[0m\u001b[0m\n\u001b[1;32m    315\u001b[0m     \u001b[0;32mdef\u001b[0m \u001b[0mvisit_Module\u001b[0m\u001b[0;34m(\u001b[0m\u001b[0mself\u001b[0m\u001b[0;34m,\u001b[0m \u001b[0mnode\u001b[0m\u001b[0;34m,\u001b[0m \u001b[0;34m**\u001b[0m\u001b[0mkwargs\u001b[0m\u001b[0;34m)\u001b[0m\u001b[0;34m:\u001b[0m\u001b[0;34m\u001b[0m\u001b[0m\n",
      "\u001b[0;32m~/anaconda3/envs/good/lib/python3.6/site-packages/pandas/core/computation/expr.py\u001b[0m in \u001b[0;36mvisit_Module\u001b[0;34m(self, node, **kwargs)\u001b[0m\n\u001b[1;32m    317\u001b[0m             \u001b[0;32mraise\u001b[0m \u001b[0mSyntaxError\u001b[0m\u001b[0;34m(\u001b[0m\u001b[0;34m'only a single expression is allowed'\u001b[0m\u001b[0;34m)\u001b[0m\u001b[0;34m\u001b[0m\u001b[0m\n\u001b[1;32m    318\u001b[0m         \u001b[0mexpr\u001b[0m \u001b[0;34m=\u001b[0m \u001b[0mnode\u001b[0m\u001b[0;34m.\u001b[0m\u001b[0mbody\u001b[0m\u001b[0;34m[\u001b[0m\u001b[0;36m0\u001b[0m\u001b[0;34m]\u001b[0m\u001b[0;34m\u001b[0m\u001b[0m\n\u001b[0;32m--> 319\u001b[0;31m         \u001b[0;32mreturn\u001b[0m \u001b[0mself\u001b[0m\u001b[0;34m.\u001b[0m\u001b[0mvisit\u001b[0m\u001b[0;34m(\u001b[0m\u001b[0mexpr\u001b[0m\u001b[0;34m,\u001b[0m \u001b[0;34m**\u001b[0m\u001b[0mkwargs\u001b[0m\u001b[0;34m)\u001b[0m\u001b[0;34m\u001b[0m\u001b[0m\n\u001b[0m\u001b[1;32m    320\u001b[0m \u001b[0;34m\u001b[0m\u001b[0m\n\u001b[1;32m    321\u001b[0m     \u001b[0;32mdef\u001b[0m \u001b[0mvisit_Expr\u001b[0m\u001b[0;34m(\u001b[0m\u001b[0mself\u001b[0m\u001b[0;34m,\u001b[0m \u001b[0mnode\u001b[0m\u001b[0;34m,\u001b[0m \u001b[0;34m**\u001b[0m\u001b[0mkwargs\u001b[0m\u001b[0;34m)\u001b[0m\u001b[0;34m:\u001b[0m\u001b[0;34m\u001b[0m\u001b[0m\n",
      "\u001b[0;32m~/anaconda3/envs/good/lib/python3.6/site-packages/pandas/core/computation/expr.py\u001b[0m in \u001b[0;36mvisit\u001b[0;34m(self, node, **kwargs)\u001b[0m\n\u001b[1;32m    311\u001b[0m         \u001b[0mmethod\u001b[0m \u001b[0;34m=\u001b[0m \u001b[0;34m'visit_'\u001b[0m \u001b[0;34m+\u001b[0m \u001b[0mnode\u001b[0m\u001b[0;34m.\u001b[0m\u001b[0m__class__\u001b[0m\u001b[0;34m.\u001b[0m\u001b[0m__name__\u001b[0m\u001b[0;34m\u001b[0m\u001b[0m\n\u001b[1;32m    312\u001b[0m         \u001b[0mvisitor\u001b[0m \u001b[0;34m=\u001b[0m \u001b[0mgetattr\u001b[0m\u001b[0;34m(\u001b[0m\u001b[0mself\u001b[0m\u001b[0;34m,\u001b[0m \u001b[0mmethod\u001b[0m\u001b[0;34m)\u001b[0m\u001b[0;34m\u001b[0m\u001b[0m\n\u001b[0;32m--> 313\u001b[0;31m         \u001b[0;32mreturn\u001b[0m \u001b[0mvisitor\u001b[0m\u001b[0;34m(\u001b[0m\u001b[0mnode\u001b[0m\u001b[0;34m,\u001b[0m \u001b[0;34m**\u001b[0m\u001b[0mkwargs\u001b[0m\u001b[0;34m)\u001b[0m\u001b[0;34m\u001b[0m\u001b[0m\n\u001b[0m\u001b[1;32m    314\u001b[0m \u001b[0;34m\u001b[0m\u001b[0m\n\u001b[1;32m    315\u001b[0m     \u001b[0;32mdef\u001b[0m \u001b[0mvisit_Module\u001b[0m\u001b[0;34m(\u001b[0m\u001b[0mself\u001b[0m\u001b[0;34m,\u001b[0m \u001b[0mnode\u001b[0m\u001b[0;34m,\u001b[0m \u001b[0;34m**\u001b[0m\u001b[0mkwargs\u001b[0m\u001b[0;34m)\u001b[0m\u001b[0;34m:\u001b[0m\u001b[0;34m\u001b[0m\u001b[0m\n",
      "\u001b[0;32m~/anaconda3/envs/good/lib/python3.6/site-packages/pandas/core/computation/expr.py\u001b[0m in \u001b[0;36mvisit_Expr\u001b[0;34m(self, node, **kwargs)\u001b[0m\n\u001b[1;32m    320\u001b[0m \u001b[0;34m\u001b[0m\u001b[0m\n\u001b[1;32m    321\u001b[0m     \u001b[0;32mdef\u001b[0m \u001b[0mvisit_Expr\u001b[0m\u001b[0;34m(\u001b[0m\u001b[0mself\u001b[0m\u001b[0;34m,\u001b[0m \u001b[0mnode\u001b[0m\u001b[0;34m,\u001b[0m \u001b[0;34m**\u001b[0m\u001b[0mkwargs\u001b[0m\u001b[0;34m)\u001b[0m\u001b[0;34m:\u001b[0m\u001b[0;34m\u001b[0m\u001b[0m\n\u001b[0;32m--> 322\u001b[0;31m         \u001b[0;32mreturn\u001b[0m \u001b[0mself\u001b[0m\u001b[0;34m.\u001b[0m\u001b[0mvisit\u001b[0m\u001b[0;34m(\u001b[0m\u001b[0mnode\u001b[0m\u001b[0;34m.\u001b[0m\u001b[0mvalue\u001b[0m\u001b[0;34m,\u001b[0m \u001b[0;34m**\u001b[0m\u001b[0mkwargs\u001b[0m\u001b[0;34m)\u001b[0m\u001b[0;34m\u001b[0m\u001b[0m\n\u001b[0m\u001b[1;32m    323\u001b[0m \u001b[0;34m\u001b[0m\u001b[0m\n\u001b[1;32m    324\u001b[0m     \u001b[0;32mdef\u001b[0m \u001b[0m_rewrite_membership_op\u001b[0m\u001b[0;34m(\u001b[0m\u001b[0mself\u001b[0m\u001b[0;34m,\u001b[0m \u001b[0mnode\u001b[0m\u001b[0;34m,\u001b[0m \u001b[0mleft\u001b[0m\u001b[0;34m,\u001b[0m \u001b[0mright\u001b[0m\u001b[0;34m)\u001b[0m\u001b[0;34m:\u001b[0m\u001b[0;34m\u001b[0m\u001b[0m\n",
      "\u001b[0;32m~/anaconda3/envs/good/lib/python3.6/site-packages/pandas/core/computation/expr.py\u001b[0m in \u001b[0;36mvisit\u001b[0;34m(self, node, **kwargs)\u001b[0m\n\u001b[1;32m    311\u001b[0m         \u001b[0mmethod\u001b[0m \u001b[0;34m=\u001b[0m \u001b[0;34m'visit_'\u001b[0m \u001b[0;34m+\u001b[0m \u001b[0mnode\u001b[0m\u001b[0;34m.\u001b[0m\u001b[0m__class__\u001b[0m\u001b[0;34m.\u001b[0m\u001b[0m__name__\u001b[0m\u001b[0;34m\u001b[0m\u001b[0m\n\u001b[1;32m    312\u001b[0m         \u001b[0mvisitor\u001b[0m \u001b[0;34m=\u001b[0m \u001b[0mgetattr\u001b[0m\u001b[0;34m(\u001b[0m\u001b[0mself\u001b[0m\u001b[0;34m,\u001b[0m \u001b[0mmethod\u001b[0m\u001b[0;34m)\u001b[0m\u001b[0;34m\u001b[0m\u001b[0m\n\u001b[0;32m--> 313\u001b[0;31m         \u001b[0;32mreturn\u001b[0m \u001b[0mvisitor\u001b[0m\u001b[0;34m(\u001b[0m\u001b[0mnode\u001b[0m\u001b[0;34m,\u001b[0m \u001b[0;34m**\u001b[0m\u001b[0mkwargs\u001b[0m\u001b[0;34m)\u001b[0m\u001b[0;34m\u001b[0m\u001b[0m\n\u001b[0m\u001b[1;32m    314\u001b[0m \u001b[0;34m\u001b[0m\u001b[0m\n\u001b[1;32m    315\u001b[0m     \u001b[0;32mdef\u001b[0m \u001b[0mvisit_Module\u001b[0m\u001b[0;34m(\u001b[0m\u001b[0mself\u001b[0m\u001b[0;34m,\u001b[0m \u001b[0mnode\u001b[0m\u001b[0;34m,\u001b[0m \u001b[0;34m**\u001b[0m\u001b[0mkwargs\u001b[0m\u001b[0;34m)\u001b[0m\u001b[0;34m:\u001b[0m\u001b[0;34m\u001b[0m\u001b[0m\n",
      "\u001b[0;32m~/anaconda3/envs/good/lib/python3.6/site-packages/pandas/core/computation/expr.py\u001b[0m in \u001b[0;36mvisit_Compare\u001b[0;34m(self, node, **kwargs)\u001b[0m\n\u001b[1;32m    642\u001b[0m             \u001b[0mop\u001b[0m \u001b[0;34m=\u001b[0m \u001b[0mself\u001b[0m\u001b[0;34m.\u001b[0m\u001b[0mtranslate_In\u001b[0m\u001b[0;34m(\u001b[0m\u001b[0mops\u001b[0m\u001b[0;34m[\u001b[0m\u001b[0;36m0\u001b[0m\u001b[0;34m]\u001b[0m\u001b[0;34m)\u001b[0m\u001b[0;34m\u001b[0m\u001b[0m\n\u001b[1;32m    643\u001b[0m             \u001b[0mbinop\u001b[0m \u001b[0;34m=\u001b[0m \u001b[0mast\u001b[0m\u001b[0;34m.\u001b[0m\u001b[0mBinOp\u001b[0m\u001b[0;34m(\u001b[0m\u001b[0mop\u001b[0m\u001b[0;34m=\u001b[0m\u001b[0mop\u001b[0m\u001b[0;34m,\u001b[0m \u001b[0mleft\u001b[0m\u001b[0;34m=\u001b[0m\u001b[0mnode\u001b[0m\u001b[0;34m.\u001b[0m\u001b[0mleft\u001b[0m\u001b[0;34m,\u001b[0m \u001b[0mright\u001b[0m\u001b[0;34m=\u001b[0m\u001b[0mcomps\u001b[0m\u001b[0;34m[\u001b[0m\u001b[0;36m0\u001b[0m\u001b[0;34m]\u001b[0m\u001b[0;34m)\u001b[0m\u001b[0;34m\u001b[0m\u001b[0m\n\u001b[0;32m--> 644\u001b[0;31m             \u001b[0;32mreturn\u001b[0m \u001b[0mself\u001b[0m\u001b[0;34m.\u001b[0m\u001b[0mvisit\u001b[0m\u001b[0;34m(\u001b[0m\u001b[0mbinop\u001b[0m\u001b[0;34m)\u001b[0m\u001b[0;34m\u001b[0m\u001b[0m\n\u001b[0m\u001b[1;32m    645\u001b[0m \u001b[0;34m\u001b[0m\u001b[0m\n\u001b[1;32m    646\u001b[0m         \u001b[0;31m# recursive case: we have a chained comparison, a CMP b CMP c, etc.\u001b[0m\u001b[0;34m\u001b[0m\u001b[0;34m\u001b[0m\u001b[0m\n",
      "\u001b[0;32m~/anaconda3/envs/good/lib/python3.6/site-packages/pandas/core/computation/expr.py\u001b[0m in \u001b[0;36mvisit\u001b[0;34m(self, node, **kwargs)\u001b[0m\n\u001b[1;32m    311\u001b[0m         \u001b[0mmethod\u001b[0m \u001b[0;34m=\u001b[0m \u001b[0;34m'visit_'\u001b[0m \u001b[0;34m+\u001b[0m \u001b[0mnode\u001b[0m\u001b[0;34m.\u001b[0m\u001b[0m__class__\u001b[0m\u001b[0;34m.\u001b[0m\u001b[0m__name__\u001b[0m\u001b[0;34m\u001b[0m\u001b[0m\n\u001b[1;32m    312\u001b[0m         \u001b[0mvisitor\u001b[0m \u001b[0;34m=\u001b[0m \u001b[0mgetattr\u001b[0m\u001b[0;34m(\u001b[0m\u001b[0mself\u001b[0m\u001b[0;34m,\u001b[0m \u001b[0mmethod\u001b[0m\u001b[0;34m)\u001b[0m\u001b[0;34m\u001b[0m\u001b[0m\n\u001b[0;32m--> 313\u001b[0;31m         \u001b[0;32mreturn\u001b[0m \u001b[0mvisitor\u001b[0m\u001b[0;34m(\u001b[0m\u001b[0mnode\u001b[0m\u001b[0;34m,\u001b[0m \u001b[0;34m**\u001b[0m\u001b[0mkwargs\u001b[0m\u001b[0;34m)\u001b[0m\u001b[0;34m\u001b[0m\u001b[0m\n\u001b[0m\u001b[1;32m    314\u001b[0m \u001b[0;34m\u001b[0m\u001b[0m\n\u001b[1;32m    315\u001b[0m     \u001b[0;32mdef\u001b[0m \u001b[0mvisit_Module\u001b[0m\u001b[0;34m(\u001b[0m\u001b[0mself\u001b[0m\u001b[0;34m,\u001b[0m \u001b[0mnode\u001b[0m\u001b[0;34m,\u001b[0m \u001b[0;34m**\u001b[0m\u001b[0mkwargs\u001b[0m\u001b[0;34m)\u001b[0m\u001b[0;34m:\u001b[0m\u001b[0;34m\u001b[0m\u001b[0m\n",
      "\u001b[0;32m~/anaconda3/envs/good/lib/python3.6/site-packages/pandas/core/computation/expr.py\u001b[0m in \u001b[0;36mvisit_BinOp\u001b[0;34m(self, node, **kwargs)\u001b[0m\n\u001b[1;32m    414\u001b[0m \u001b[0;34m\u001b[0m\u001b[0m\n\u001b[1;32m    415\u001b[0m     \u001b[0;32mdef\u001b[0m \u001b[0mvisit_BinOp\u001b[0m\u001b[0;34m(\u001b[0m\u001b[0mself\u001b[0m\u001b[0;34m,\u001b[0m \u001b[0mnode\u001b[0m\u001b[0;34m,\u001b[0m \u001b[0;34m**\u001b[0m\u001b[0mkwargs\u001b[0m\u001b[0;34m)\u001b[0m\u001b[0;34m:\u001b[0m\u001b[0;34m\u001b[0m\u001b[0m\n\u001b[0;32m--> 416\u001b[0;31m         \u001b[0mop\u001b[0m\u001b[0;34m,\u001b[0m \u001b[0mop_class\u001b[0m\u001b[0;34m,\u001b[0m \u001b[0mleft\u001b[0m\u001b[0;34m,\u001b[0m \u001b[0mright\u001b[0m \u001b[0;34m=\u001b[0m \u001b[0mself\u001b[0m\u001b[0;34m.\u001b[0m\u001b[0m_maybe_transform_eq_ne\u001b[0m\u001b[0;34m(\u001b[0m\u001b[0mnode\u001b[0m\u001b[0;34m)\u001b[0m\u001b[0;34m\u001b[0m\u001b[0m\n\u001b[0m\u001b[1;32m    417\u001b[0m         \u001b[0mleft\u001b[0m\u001b[0;34m,\u001b[0m \u001b[0mright\u001b[0m \u001b[0;34m=\u001b[0m \u001b[0mself\u001b[0m\u001b[0;34m.\u001b[0m\u001b[0m_maybe_downcast_constants\u001b[0m\u001b[0;34m(\u001b[0m\u001b[0mleft\u001b[0m\u001b[0;34m,\u001b[0m \u001b[0mright\u001b[0m\u001b[0;34m)\u001b[0m\u001b[0;34m\u001b[0m\u001b[0m\n\u001b[1;32m    418\u001b[0m         \u001b[0;32mreturn\u001b[0m \u001b[0mself\u001b[0m\u001b[0;34m.\u001b[0m\u001b[0m_maybe_evaluate_binop\u001b[0m\u001b[0;34m(\u001b[0m\u001b[0mop\u001b[0m\u001b[0;34m,\u001b[0m \u001b[0mop_class\u001b[0m\u001b[0;34m,\u001b[0m \u001b[0mleft\u001b[0m\u001b[0;34m,\u001b[0m \u001b[0mright\u001b[0m\u001b[0;34m)\u001b[0m\u001b[0;34m\u001b[0m\u001b[0m\n",
      "\u001b[0;32m~/anaconda3/envs/good/lib/python3.6/site-packages/pandas/core/computation/expr.py\u001b[0m in \u001b[0;36m_maybe_transform_eq_ne\u001b[0;34m(self, node, left, right)\u001b[0m\n\u001b[1;32m    352\u001b[0m     \u001b[0;32mdef\u001b[0m \u001b[0m_maybe_transform_eq_ne\u001b[0m\u001b[0;34m(\u001b[0m\u001b[0mself\u001b[0m\u001b[0;34m,\u001b[0m \u001b[0mnode\u001b[0m\u001b[0;34m,\u001b[0m \u001b[0mleft\u001b[0m\u001b[0;34m=\u001b[0m\u001b[0;32mNone\u001b[0m\u001b[0;34m,\u001b[0m \u001b[0mright\u001b[0m\u001b[0;34m=\u001b[0m\u001b[0;32mNone\u001b[0m\u001b[0;34m)\u001b[0m\u001b[0;34m:\u001b[0m\u001b[0;34m\u001b[0m\u001b[0m\n\u001b[1;32m    353\u001b[0m         \u001b[0;32mif\u001b[0m \u001b[0mleft\u001b[0m \u001b[0;32mis\u001b[0m \u001b[0;32mNone\u001b[0m\u001b[0;34m:\u001b[0m\u001b[0;34m\u001b[0m\u001b[0m\n\u001b[0;32m--> 354\u001b[0;31m             \u001b[0mleft\u001b[0m \u001b[0;34m=\u001b[0m \u001b[0mself\u001b[0m\u001b[0;34m.\u001b[0m\u001b[0mvisit\u001b[0m\u001b[0;34m(\u001b[0m\u001b[0mnode\u001b[0m\u001b[0;34m.\u001b[0m\u001b[0mleft\u001b[0m\u001b[0;34m,\u001b[0m \u001b[0mside\u001b[0m\u001b[0;34m=\u001b[0m\u001b[0;34m'left'\u001b[0m\u001b[0;34m)\u001b[0m\u001b[0;34m\u001b[0m\u001b[0m\n\u001b[0m\u001b[1;32m    355\u001b[0m         \u001b[0;32mif\u001b[0m \u001b[0mright\u001b[0m \u001b[0;32mis\u001b[0m \u001b[0;32mNone\u001b[0m\u001b[0;34m:\u001b[0m\u001b[0;34m\u001b[0m\u001b[0m\n\u001b[1;32m    356\u001b[0m             \u001b[0mright\u001b[0m \u001b[0;34m=\u001b[0m \u001b[0mself\u001b[0m\u001b[0;34m.\u001b[0m\u001b[0mvisit\u001b[0m\u001b[0;34m(\u001b[0m\u001b[0mnode\u001b[0m\u001b[0;34m.\u001b[0m\u001b[0mright\u001b[0m\u001b[0;34m,\u001b[0m \u001b[0mside\u001b[0m\u001b[0;34m=\u001b[0m\u001b[0;34m'right'\u001b[0m\u001b[0;34m)\u001b[0m\u001b[0;34m\u001b[0m\u001b[0m\n",
      "\u001b[0;32m~/anaconda3/envs/good/lib/python3.6/site-packages/pandas/core/computation/expr.py\u001b[0m in \u001b[0;36mvisit\u001b[0;34m(self, node, **kwargs)\u001b[0m\n\u001b[1;32m    311\u001b[0m         \u001b[0mmethod\u001b[0m \u001b[0;34m=\u001b[0m \u001b[0;34m'visit_'\u001b[0m \u001b[0;34m+\u001b[0m \u001b[0mnode\u001b[0m\u001b[0;34m.\u001b[0m\u001b[0m__class__\u001b[0m\u001b[0;34m.\u001b[0m\u001b[0m__name__\u001b[0m\u001b[0;34m\u001b[0m\u001b[0m\n\u001b[1;32m    312\u001b[0m         \u001b[0mvisitor\u001b[0m \u001b[0;34m=\u001b[0m \u001b[0mgetattr\u001b[0m\u001b[0;34m(\u001b[0m\u001b[0mself\u001b[0m\u001b[0;34m,\u001b[0m \u001b[0mmethod\u001b[0m\u001b[0;34m)\u001b[0m\u001b[0;34m\u001b[0m\u001b[0m\n\u001b[0;32m--> 313\u001b[0;31m         \u001b[0;32mreturn\u001b[0m \u001b[0mvisitor\u001b[0m\u001b[0;34m(\u001b[0m\u001b[0mnode\u001b[0m\u001b[0;34m,\u001b[0m \u001b[0;34m**\u001b[0m\u001b[0mkwargs\u001b[0m\u001b[0;34m)\u001b[0m\u001b[0;34m\u001b[0m\u001b[0m\n\u001b[0m\u001b[1;32m    314\u001b[0m \u001b[0;34m\u001b[0m\u001b[0m\n\u001b[1;32m    315\u001b[0m     \u001b[0;32mdef\u001b[0m \u001b[0mvisit_Module\u001b[0m\u001b[0;34m(\u001b[0m\u001b[0mself\u001b[0m\u001b[0;34m,\u001b[0m \u001b[0mnode\u001b[0m\u001b[0;34m,\u001b[0m \u001b[0;34m**\u001b[0m\u001b[0mkwargs\u001b[0m\u001b[0;34m)\u001b[0m\u001b[0;34m:\u001b[0m\u001b[0;34m\u001b[0m\u001b[0m\n",
      "\u001b[0;32m~/anaconda3/envs/good/lib/python3.6/site-packages/pandas/core/computation/expr.py\u001b[0m in \u001b[0;36mvisit_Name\u001b[0;34m(self, node, **kwargs)\u001b[0m\n\u001b[1;32m    428\u001b[0m \u001b[0;34m\u001b[0m\u001b[0m\n\u001b[1;32m    429\u001b[0m     \u001b[0;32mdef\u001b[0m \u001b[0mvisit_Name\u001b[0m\u001b[0;34m(\u001b[0m\u001b[0mself\u001b[0m\u001b[0;34m,\u001b[0m \u001b[0mnode\u001b[0m\u001b[0;34m,\u001b[0m \u001b[0;34m**\u001b[0m\u001b[0mkwargs\u001b[0m\u001b[0;34m)\u001b[0m\u001b[0;34m:\u001b[0m\u001b[0;34m\u001b[0m\u001b[0m\n\u001b[0;32m--> 430\u001b[0;31m         \u001b[0;32mreturn\u001b[0m \u001b[0mself\u001b[0m\u001b[0;34m.\u001b[0m\u001b[0mterm_type\u001b[0m\u001b[0;34m(\u001b[0m\u001b[0mnode\u001b[0m\u001b[0;34m.\u001b[0m\u001b[0mid\u001b[0m\u001b[0;34m,\u001b[0m \u001b[0mself\u001b[0m\u001b[0;34m.\u001b[0m\u001b[0menv\u001b[0m\u001b[0;34m,\u001b[0m \u001b[0;34m**\u001b[0m\u001b[0mkwargs\u001b[0m\u001b[0;34m)\u001b[0m\u001b[0;34m\u001b[0m\u001b[0m\n\u001b[0m\u001b[1;32m    431\u001b[0m \u001b[0;34m\u001b[0m\u001b[0m\n\u001b[1;32m    432\u001b[0m     \u001b[0;32mdef\u001b[0m \u001b[0mvisit_NameConstant\u001b[0m\u001b[0;34m(\u001b[0m\u001b[0mself\u001b[0m\u001b[0;34m,\u001b[0m \u001b[0mnode\u001b[0m\u001b[0;34m,\u001b[0m \u001b[0;34m**\u001b[0m\u001b[0mkwargs\u001b[0m\u001b[0;34m)\u001b[0m\u001b[0;34m:\u001b[0m\u001b[0;34m\u001b[0m\u001b[0m\n",
      "\u001b[0;32m~/anaconda3/envs/good/lib/python3.6/site-packages/pandas/core/computation/ops.py\u001b[0m in \u001b[0;36m__init__\u001b[0;34m(self, name, env, side, encoding)\u001b[0m\n\u001b[1;32m     56\u001b[0m         self.is_local = (tname.startswith(_LOCAL_TAG) or\n\u001b[1;32m     57\u001b[0m                          tname in _DEFAULT_GLOBALS)\n\u001b[0;32m---> 58\u001b[0;31m         \u001b[0mself\u001b[0m\u001b[0;34m.\u001b[0m\u001b[0m_value\u001b[0m \u001b[0;34m=\u001b[0m \u001b[0mself\u001b[0m\u001b[0;34m.\u001b[0m\u001b[0m_resolve_name\u001b[0m\u001b[0;34m(\u001b[0m\u001b[0;34m)\u001b[0m\u001b[0;34m\u001b[0m\u001b[0m\n\u001b[0m\u001b[1;32m     59\u001b[0m         \u001b[0mself\u001b[0m\u001b[0;34m.\u001b[0m\u001b[0mencoding\u001b[0m \u001b[0;34m=\u001b[0m \u001b[0mencoding\u001b[0m\u001b[0;34m\u001b[0m\u001b[0m\n\u001b[1;32m     60\u001b[0m \u001b[0;34m\u001b[0m\u001b[0m\n",
      "\u001b[0;32m~/anaconda3/envs/good/lib/python3.6/site-packages/pandas/core/computation/ops.py\u001b[0m in \u001b[0;36m_resolve_name\u001b[0;34m(self)\u001b[0m\n\u001b[1;32m     73\u001b[0m \u001b[0;34m\u001b[0m\u001b[0m\n\u001b[1;32m     74\u001b[0m     \u001b[0;32mdef\u001b[0m \u001b[0m_resolve_name\u001b[0m\u001b[0;34m(\u001b[0m\u001b[0mself\u001b[0m\u001b[0;34m)\u001b[0m\u001b[0;34m:\u001b[0m\u001b[0;34m\u001b[0m\u001b[0m\n\u001b[0;32m---> 75\u001b[0;31m         \u001b[0mres\u001b[0m \u001b[0;34m=\u001b[0m \u001b[0mself\u001b[0m\u001b[0;34m.\u001b[0m\u001b[0menv\u001b[0m\u001b[0;34m.\u001b[0m\u001b[0mresolve\u001b[0m\u001b[0;34m(\u001b[0m\u001b[0mself\u001b[0m\u001b[0;34m.\u001b[0m\u001b[0mlocal_name\u001b[0m\u001b[0;34m,\u001b[0m \u001b[0mis_local\u001b[0m\u001b[0;34m=\u001b[0m\u001b[0mself\u001b[0m\u001b[0;34m.\u001b[0m\u001b[0mis_local\u001b[0m\u001b[0;34m)\u001b[0m\u001b[0;34m\u001b[0m\u001b[0m\n\u001b[0m\u001b[1;32m     76\u001b[0m         \u001b[0mself\u001b[0m\u001b[0;34m.\u001b[0m\u001b[0mupdate\u001b[0m\u001b[0;34m(\u001b[0m\u001b[0mres\u001b[0m\u001b[0;34m)\u001b[0m\u001b[0;34m\u001b[0m\u001b[0m\n\u001b[1;32m     77\u001b[0m \u001b[0;34m\u001b[0m\u001b[0m\n",
      "\u001b[0;32m~/anaconda3/envs/good/lib/python3.6/site-packages/pandas/core/computation/scope.py\u001b[0m in \u001b[0;36mresolve\u001b[0;34m(self, key, is_local)\u001b[0m\n\u001b[1;32m    190\u001b[0m                 \u001b[0;32mreturn\u001b[0m \u001b[0mself\u001b[0m\u001b[0;34m.\u001b[0m\u001b[0mtemps\u001b[0m\u001b[0;34m[\u001b[0m\u001b[0mkey\u001b[0m\u001b[0;34m]\u001b[0m\u001b[0;34m\u001b[0m\u001b[0m\n\u001b[1;32m    191\u001b[0m             \u001b[0;32mexcept\u001b[0m \u001b[0mKeyError\u001b[0m\u001b[0;34m:\u001b[0m\u001b[0;34m\u001b[0m\u001b[0m\n\u001b[0;32m--> 192\u001b[0;31m                 \u001b[0;32mraise\u001b[0m \u001b[0mcompu\u001b[0m\u001b[0;34m.\u001b[0m\u001b[0mops\u001b[0m\u001b[0;34m.\u001b[0m\u001b[0mUndefinedVariableError\u001b[0m\u001b[0;34m(\u001b[0m\u001b[0mkey\u001b[0m\u001b[0;34m,\u001b[0m \u001b[0mis_local\u001b[0m\u001b[0;34m)\u001b[0m\u001b[0;34m\u001b[0m\u001b[0m\n\u001b[0m\u001b[1;32m    193\u001b[0m \u001b[0;34m\u001b[0m\u001b[0m\n\u001b[1;32m    194\u001b[0m     \u001b[0;32mdef\u001b[0m \u001b[0mswapkey\u001b[0m\u001b[0;34m(\u001b[0m\u001b[0mself\u001b[0m\u001b[0;34m,\u001b[0m \u001b[0mold_key\u001b[0m\u001b[0;34m,\u001b[0m \u001b[0mnew_key\u001b[0m\u001b[0;34m,\u001b[0m \u001b[0mnew_value\u001b[0m\u001b[0;34m=\u001b[0m\u001b[0;32mNone\u001b[0m\u001b[0;34m)\u001b[0m\u001b[0;34m:\u001b[0m\u001b[0;34m\u001b[0m\u001b[0m\n",
      "\u001b[0;31mUndefinedVariableError\u001b[0m: name 'days_to_fund' is not defined"
     ]
    }
   ],
   "source": [
    "#Create clusters based on days to fund, loan amount, and repayment terms only\n",
    "loans_array = df.query(\"days_to_fund >= 0\")[['days_to_fund', 'loan_amount', 'terms.repayment_term']].as_matrix()"
   ]
  },
  {
   "cell_type": "markdown",
   "metadata": {},
   "source": [
    "Here, we are initially creating clusters based only on the days to fund, loan amount, and repayment terms, but we can certainly add more features to \"loans_array\". This would make our groups more granular.\n",
    "\n"
   ]
  },
  {
   "cell_type": "markdown",
   "metadata": {},
   "source": [
    "# Determining k"
   ]
  },
  {
   "cell_type": "code",
   "execution_count": 17,
   "metadata": {
    "collapsed": true
   },
   "outputs": [],
   "source": [
    "#Initialize and run k-means algorithm\n",
    "centroids,_ = kmeans(loans_array, 3)\n",
    "idx,_ = vq(loans_array,centroids)"
   ]
  },
  {
   "cell_type": "markdown",
   "metadata": {},
   "source": [
    "All the first line here does is arbitrarily set the number of clusters to form to be 3. But determining the appropriate number of clusters (k) is actually one of the most challenging parts of cluster analysis. Because the number of clusters will always vary depending on your data and what you are trying to assess, there is no hard and fast rule for what the value of k should be. \n",
    "\n",
    "<b>Why does determining k matter? Is it possible to have too many clusters? Or too few clusters?</b>\n",
    "\n",
    "The number of groups you choose to partition in your data directly influences the results you'll find. In most areas of data analysis, it's attractive to take as granular an approach as possible, but having too many clusters can be counterproductive. Think about these extreme examples: \n",
    "\n",
    "1. Treating each data point as its own cluster\n",
    "2. Treating all your data points as one cluster\n",
    "\n",
    "Neither of these will tell you anything new about your data! Rather, clustering is most effective when observations in the same cluster are very similar to each other. Relatedly, we want observations in different clusters to be as different from each other as possible.\n",
    "\n",
    "<b>So how can I validate my choice of k?</b>\n",
    "\n",
    "There are many statistical methods proposed to help determine k, including <b><a href=\"http://cs.fit.edu/~pkc/papers/ictai04salvador.pdf\">the elbow method</a></b>, <b><a href=\"https://cs.fit.edu/~pkc/classes/ml-internet/silhouette.pdf\">the silhouette method</a></b>, the information criterion approach, cross validation, and more. \n",
    "\n",
    "The <b>elbow method</b> is a simple, intuitive check. What the elbow method does is this:\n",
    "\n",
    "1. Run the k-means algorithm over your dataset for a range of values (<i>e.g.,</i> let k be between 1 and 10 inclusive)\n",
    "2. For each value of k, calculate the sum of squared errors (SSE)\n",
    "3. If we see an \"elbow\" in our plotted check, then that marks the optimal value of k\n",
    "\n",
    "Check out a Python implementation of the elbow method on our cluster feature choice (days to fund, loan amount, and repayment terms) below:"
   ]
  },
  {
   "cell_type": "code",
   "execution_count": 18,
   "metadata": {},
   "outputs": [
    {
     "data": {
      "image/png": "[encoded data removed]",
      "text/plain": [
       "<matplotlib.figure.Figure at 0x11ad8ec50>"
      ]
     },
     "metadata": {},
     "output_type": "display_data"
    }
   ],
   "source": [
    "cluster_array = [cluster.vq.kmeans(loans_array, i) for i in range(1,10)]\n",
    "\n",
    "plt.plot([var for (cent,var) in cluster_array])\n",
    "plt.show()"
   ]
  },
  {
   "cell_type": "markdown",
   "metadata": {},
   "source": [
    "<b>Limitations of the Elbow Method</b>\n",
    "\n",
    "The elbow method is a valid check when data is actually reasonably clustered based on the selected feature set (in our case: days to fund, loan amount, and repayment terms). But it's possible that your data may not be very clustered. For example, we actually see a fairly smooth curve rather than a sharply-defined \"elbow\" in the plot above, so it's not obvious what the optimal vaue of k is."
   ]
  },
  {
   "cell_type": "markdown",
   "metadata": {},
   "source": [
    "The Silhouette Method\n",
    "----\n",
    "\n",
    "The <b>Silhouette Coefficient</b> (also known as \"Silhouette Score\") is a measure of how well samples are clustered with samples that are similar to themselves. \n",
    "\n",
    "Clustering models with a high Silhouette Coefficient are \"dense\" (samples in the same cluster are similar to each other) and \"well separated\" (samples in different clusters are not very similar to each other). High Silhouette Coefficients are desirable.\n",
    "\n",
    "<b>Calculating the Silhouette Coefficient</b>\n",
    "\n",
    "The Silhouette Coefficient is calculated using the mean intra-cluster distance (a) and the mean nearest-cluster distance (b) for each sample. Mathematically, the Silhouette Coefficient for a sample is <b>(b - a) / max(a, b)</b>, where b is the distance between a sample and the nearest cluster that the sample is not a part of. \n",
    "\n",
    "The best value for a Silhouette Coefficient to take on is 1 and the worst is -1. Values near 0 indicate overlapping clusters. Negative values generally indicate that a sample has been assigned to the wrong cluster, as a different cluster is more similar.\n",
    "\n",
    "Check out the code and plots below for an implementation of the silhouette method using the sklearn package on a sample of the Kiva data:"
   ]
  },
  {
   "cell_type": "code",
   "execution_count": 19,
   "metadata": {},
   "outputs": [
    {
     "name": "stdout",
     "output_type": "stream",
     "text": [
      "For n_clusters = 2 The average silhouette_score is : 0.913094866344\n"
     ]
    },
    {
     "ename": "NameError",
     "evalue": "name 'X' is not defined",
     "output_type": "error",
     "traceback": [
      "\u001b[0;31m---------------------------------------------------------------------------\u001b[0m",
      "\u001b[0;31mNameError\u001b[0m                                 Traceback (most recent call last)",
      "\u001b[0;32m<ipython-input-19-6e6e23fffe94>\u001b[0m in \u001b[0;36m<module>\u001b[0;34m()\u001b[0m\n\u001b[1;32m     69\u001b[0m     \u001b[0;31m# 2nd Plot showing the actual clusters formed\u001b[0m\u001b[0;34m\u001b[0m\u001b[0;34m\u001b[0m\u001b[0m\n\u001b[1;32m     70\u001b[0m     \u001b[0mcolors\u001b[0m \u001b[0;34m=\u001b[0m \u001b[0mcm\u001b[0m\u001b[0;34m.\u001b[0m\u001b[0mspectral\u001b[0m\u001b[0;34m(\u001b[0m\u001b[0mcluster_labels\u001b[0m\u001b[0;34m.\u001b[0m\u001b[0mastype\u001b[0m\u001b[0;34m(\u001b[0m\u001b[0mfloat\u001b[0m\u001b[0;34m)\u001b[0m \u001b[0;34m/\u001b[0m \u001b[0mn_clusters\u001b[0m\u001b[0;34m)\u001b[0m\u001b[0;34m\u001b[0m\u001b[0m\n\u001b[0;32m---> 71\u001b[0;31m     ax2.scatter(X[:, 0], X[:, 1], marker='.', s=30, lw=0, alpha=0.7,\n\u001b[0m\u001b[1;32m     72\u001b[0m                 c=colors)\n\u001b[1;32m     73\u001b[0m \u001b[0;34m\u001b[0m\u001b[0m\n",
      "\u001b[0;31mNameError\u001b[0m: name 'X' is not defined"
     ]
    },
    {
     "data": {
      "image/png": "[encoded data removed]",
      "text/plain": [
       "<matplotlib.figure.Figure at 0x119c39b00>"
      ]
     },
     "metadata": {},
     "output_type": "display_data"
    }
   ],
   "source": [
    "# Silhouette method\n",
    "\n",
    "# Use a sample of the data, full dataset is too much for a small machine\n",
    "X_sil = loans_array[1:1000,0:5]\n",
    "\n",
    "# Number of clusters to check\n",
    "range_n_clusters = [2, 3, 4, 5]\n",
    "\n",
    "for n_clusters in range_n_clusters:\n",
    "    # Create a subplot with 1 row and 2 columns\n",
    "    fig, (ax1, ax2) = plt.subplots(1, 2)\n",
    "    fig.set_size_inches(18, 7)\n",
    "\n",
    "    # The 1st subplot is the silhouette plot\n",
    "    # The silhouette coefficient can range from -1, 1 but in this example all\n",
    "    # lie within [-0.1, 1]\n",
    "    ax1.set_xlim([-0.1, 1])\n",
    "    # The (n_clusters+1)*10 is for inserting blank space between silhouette\n",
    "    # plots of individual clusters, to demarcate them clearly.\n",
    "    ax1.set_ylim([0, len(X_sil) + (n_clusters + 1) * 10])\n",
    "\n",
    "    # Initialize the clusterer with n_clusters value and a random generator\n",
    "    # seed of 10 for reproducibility.\n",
    "    clusterer = KMeans(n_clusters=n_clusters, random_state=10)\n",
    "    cluster_labels = clusterer.fit_predict(X_sil)\n",
    "\n",
    "    # The silhouette_score gives the average value for all the samples.\n",
    "    # This gives a perspective into the density and separation of the formed\n",
    "    # clusters\n",
    "    silhouette_avg = silhouette_score(X_sil, cluster_labels)\n",
    "    print(\"For n_clusters =\", n_clusters,\n",
    "          \"The average silhouette_score is :\", silhouette_avg)\n",
    "\n",
    "    # Compute the silhouette scores for each sample\n",
    "    sample_silhouette_values = silhouette_samples(X_sil, cluster_labels)\n",
    "\n",
    "    y_lower = 10\n",
    "    for i in range(n_clusters):\n",
    "        # Aggregate the silhouette scores for samples belonging to\n",
    "        # cluster i, and sort them\n",
    "        ith_cluster_silhouette_values = \\\n",
    "            sample_silhouette_values[cluster_labels == i]\n",
    "\n",
    "        ith_cluster_silhouette_values.sort()\n",
    "\n",
    "        size_cluster_i = ith_cluster_silhouette_values.shape[0]\n",
    "        y_upper = y_lower + size_cluster_i\n",
    "\n",
    "        color = cm.spectral(float(i) / n_clusters)\n",
    "        ax1.fill_betweenx(np.arange(y_lower, y_upper),\n",
    "                          0, ith_cluster_silhouette_values,\n",
    "                          facecolor=color, edgecolor=color, alpha=0.7)\n",
    "\n",
    "        # Label the silhouette plots with their cluster numbers at the middle\n",
    "        ax1.text(-0.05, y_lower + 0.5 * size_cluster_i, str(i))\n",
    "\n",
    "        # Compute the new y_lower for next plot\n",
    "        y_lower = y_upper + 10  # 10 for the 0 samples\n",
    "\n",
    "    ax1.set_title(\"The silhouette plot for the various clusters.\")\n",
    "    ax1.set_xlabel(\"The silhouette coefficient values\")\n",
    "    ax1.set_ylabel(\"Cluster label\")\n",
    "\n",
    "    # The vertical line for average silhouette score of all the values\n",
    "    ax1.axvline(x=silhouette_avg, color=\"red\", linestyle=\"--\")\n",
    "\n",
    "    ax1.set_yticks([])  # Clear the yaxis labels / ticks\n",
    "    ax1.set_xticks([-0.1, 0, 0.2, 0.4, 0.6, 0.8, 1])\n",
    "\n",
    "    # 2nd Plot showing the actual clusters formed\n",
    "    colors = cm.spectral(cluster_labels.astype(float) / n_clusters)\n",
    "    ax2.scatter(X[:, 0], X[:, 1], marker='.', s=30, lw=0, alpha=0.7,\n",
    "                c=colors)\n",
    "\n",
    "    # Labeling the clusters\n",
    "    centers = clusterer.cluster_centers_\n",
    "    # Draw white circles at cluster centers\n",
    "    ax2.scatter(centers[:, 0], centers[:, 1],\n",
    "                marker='o', c=\"white\", alpha=1, s=200)\n",
    "\n",
    "    for i, c in enumerate(centers):\n",
    "        ax2.scatter(c[0], c[1], marker='$%d$' % i, alpha=1, s=50)\n",
    "\n",
    "    ax2.set_title(\"The visualization of the clustered data.\")\n",
    "    ax2.set_xlabel(\"Feature space for the 1st feature\")\n",
    "    ax2.set_ylabel(\"Feature space for the 2nd feature\")\n",
    "\n",
    "    plt.suptitle((\"Silhouette analysis for KMeans clustering on sample data \"\n",
    "                  \"with n_clusters = %d\" % n_clusters),\n",
    "                 fontsize=14, fontweight='bold')\n",
    "\n",
    "    plt.show()"
   ]
  },
  {
   "cell_type": "markdown",
   "metadata": {},
   "source": [
    "In our code, the Silhouette Coefficient is the mean across all the samples. As we see from the plots above, the Silhouette Coefficient is closest to 1.0 when n_clusters = 2. When there are only two clusters, we see that the points are closer within their clusters than to other clusters. \n",
    "\n",
    "Now that we have a better understanding of an appropriate value for k, let's update our number of clusters assignment:"
   ]
  },
  {
   "cell_type": "code",
   "execution_count": null,
   "metadata": {},
   "outputs": [],
   "source": [
    "#Initialize and run k-means algorithm\n",
    "#Recall that our loans array currently has three features: days to fund, loan amount, and repayment terms\n",
    "centroids,_ = kmeans(loans_array, 2) #set number of clusters to 2\n",
    "idx,_ = vq(loans_array, centroids)\n",
    "\n",
    "#Plot our clusters\n",
    "plot(loans_array[idx==0,0],loans_array[idx==0,1],'ob', #first cluster points\n",
    "     loans_array[idx==1,0],loans_array[idx==1,1],'or') #second cluster points\n",
    "\n",
    "plot(centroids[:,0],centroids[:,1],'sg',markersize=8)\n",
    "show()"
   ]
  },
  {
   "cell_type": "markdown",
   "metadata": {},
   "source": [
    "Evaluating the plot above, we can easily see that the loans are actually not that effectively clustered with our selected features - see how distant some observations are from their centroid (marked in green).\n",
    "\n",
    "That is, we weren't able to create particularly meaningful groups based on days to fund, loan amount, and repayment terms. We should re-evaluate our cluster analysis formation; it's possible that one of our features is noisy. Let's see what happens when we take out days to fund completely:"
   ]
  },
  {
   "cell_type": "code",
   "execution_count": null,
   "metadata": {},
   "outputs": [],
   "source": [
    "#Create clusters based on loan amount and repayment terms only (remove days to fund)\n",
    "loans_array_2 = df[['loan_amount', 'terms.repayment_term']].as_matrix()\n",
    "\n",
    "#Initialize and run k-means algorithm\n",
    "centroids,_ = kmeans(loans_array_2, 2)\n",
    "idx,_ = vq(loans_array_2, centroids)\n",
    "\n",
    "#Plot our clusters\n",
    "plot(loans_array_2[idx==0,0],loans_array_2[idx==0,1],'ob', #first cluster points\n",
    "     loans_array_2[idx==1,0],loans_array_2[idx==1,1],'or') #second cluster points\n",
    "\n",
    "plot(centroids[:,0],centroids[:,1],'sg',markersize=8)\n",
    "show()"
   ]
  },
  {
   "cell_type": "markdown",
   "metadata": {},
   "source": [
    "Here, when we form clusters removing the days to fund feature, we see much tighter clusters formed."
   ]
  },
  {
   "cell_type": "markdown",
   "metadata": {},
   "source": [
    "# Homework"
   ]
  },
  {
   "cell_type": "markdown",
   "metadata": {},
   "source": [
    "1. Apply the K-means clustering algorithm with a new set of features to cluster by, making sure to validate your assumptions\n",
    "2. Create categorical variables based on these natural groups you were able to identify"
   ]
  },
  {
   "cell_type": "markdown",
   "metadata": {},
   "source": [
    "Further study\n",
    "-----\n",
    "\n",
    "Greater theoretical detail described [here](https://www-users.cs.umn.edu/~kumar/dmbook/ch8.pdf). \n",
    "\n",
    "There are many other clustering methods, including: \n",
    "\n",
    "1. Hierarchical clustering\n",
    "2. K-means clustering\n",
    "3. Expectation-maximization clustering\n",
    "4. Graph-theoretic clustering\n",
    "5. Fuzzy clustering"
   ]
  },
  {
   "cell_type": "markdown",
   "metadata": {},
   "source": [
    "----\n",
    "Extra Material\n",
    "-----"
   ]
  },
  {
   "cell_type": "markdown",
   "metadata": {},
   "source": [
    "Pre-Processing: Feature Scaling\n",
    "-----\n",
    "\n",
    "Each of these features can take a very different range of values. \n",
    "\n",
    "Because the k-means algorithm can be sensitive to these differences, let's first pre-process our data and standardize our values:"
   ]
  },
  {
   "cell_type": "code",
   "execution_count": 12,
   "metadata": {
    "collapsed": true
   },
   "outputs": [],
   "source": [
    "loans_array = preprocessing.normalize(df,\n",
    "                                      copy=False)"
   ]
  },
  {
   "cell_type": "markdown",
   "metadata": {},
   "source": [
    "<b>Is it possible to include too many features?</b>\n",
    "\n",
    "Yes it is! The K-means algorithm is computationally demanding algorithm, so there is a cost associated with adding too many features."
   ]
  },
  {
   "cell_type": "code",
   "execution_count": null,
   "metadata": {
    "collapsed": true
   },
   "outputs": [],
   "source": [
    "# Create a new variable that models the time it takes for a loan to get funded\n",
    "df['time_to_fund'] = pd.to_datetime(df['funded_datetime']) - pd.to_datetime(df['posted_datetime'])\n",
    "df['days_to_fund'] = df.time_to_fund.dt.days"
   ]
  },
  {
   "cell_type": "markdown",
   "metadata": {},
   "source": [
    "<br>\n",
    "<br> \n",
    "<br>\n",
    "\n",
    "----"
   ]
  }
 ],
 "metadata": {
  "kernelspec": {
   "display_name": "Python 3",
   "language": "python",
   "name": "python3"
  },
  "language_info": {
   "codemirror_mode": {
    "name": "ipython",
    "version": 3
   },
   "file_extension": ".py",
   "mimetype": "text/x-python",
   "name": "python",
   "nbconvert_exporter": "python",
   "pygments_lexer": "ipython3",
   "version": "3.6.0"
  }
 },
 "nbformat": 4,
 "nbformat_minor": 2
}
