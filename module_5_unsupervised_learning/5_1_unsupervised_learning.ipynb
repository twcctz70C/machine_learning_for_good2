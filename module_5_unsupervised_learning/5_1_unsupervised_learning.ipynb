{
 "cells": [
  {
   "cell_type": "markdown",
   "metadata": {},
   "source": [
    "Introduction to Unsupervised Learning\n",
    "======"
   ]
  },
  {
   "cell_type": "markdown",
   "metadata": {},
   "source": [
    "In earlier labs we learned how to use linear regression to study whether certain features are useful in predicting an observed outcome. Then we used ensemble methods to refine our predictions. \n",
    "\n",
    "In this notebook, we shift from prediction to pattern finding. "
   ]
  },
  {
   "cell_type": "markdown",
   "metadata": {},
   "source": [
    "What we'll be doing in this notebook:\n",
    "-----\n",
    "\n",
    "1. Give a general introduction to unsupervised learning.\n",
    "1. Use k-means clustering as unsupervised learning technique.\n",
    "1. Load and explore a dataset.\n",
    "1. Find clusters with k-means algorithm.\n",
    "1. Evaluate our results with the Elbow method."
   ]
  },
  {
   "cell_type": "markdown",
   "metadata": {},
   "source": [
    "Unsupervised Learning: Pattern finding in data 🔍\n",
    "------\n",
    "\n",
    "Unsupervised Learning is the process of identifying patterns in a dataset. Identifying patterns is often an early step in understanding data. Unsupervised learning methods are a set of techniques designed to <i>explore</i> and find \"hidden structure\" rather than predict outcomes. \n",
    " \n",
    "Unsupervised learning does not require labeled data, therefore works for broader range of data. In fact, most data in the world is unlabelled. However, since there are no labels / correct answers there is not always a clear feedback to validate that the results are correct.\n",
    "\n",
    "Unsupervised Learning is also called Data Mining.\n"
   ]
  },
  {
   "cell_type": "markdown",
   "metadata": {},
   "source": [
    "Unsupervised\n",
    "------"
   ]
  },
  {
   "cell_type": "markdown",
   "metadata": {},
   "source": [
    "2 Types of Unsupervised Learning\n",
    "--------\n",
    "\n",
    "1. Dimension Reduction\n",
    "\n",
    "1. Clustering"
   ]
  },
  {
   "cell_type": "markdown",
   "metadata": {},
   "source": [
    "What is Dimension Reduction?\n",
    "------\n",
    "\n",
    "Dimension reduction aims to find fewer number of features that be used to build a meaningful model. There are many reasons for reducing the number of features in a dataset, from avoiding overfitting to speeding up modeling fitting time.\n",
    "\n",
    "One of the most common dimension reduction techniques is Principal Component Analysis (PCA)."
   ]
  },
  {
   "cell_type": "markdown",
   "metadata": {},
   "source": [
    "What is Clustering?\n",
    "-----\n",
    "\n",
    "<center><img src=\"../images/clustering.jpeg\" width=\"700\"/></center>\n",
    "\n",
    "Clustering is what it sounds like: chunking your data into sub-groups (clusters) based on similar characteristics. Then these sub-groups are used for later analysis. Clustering is an intuitive to understand the various natural segments that make up the population of your data. Clustering typically makes it easier to visualizes your data.\n",
    "\n",
    "Clustering is also called [cluster analysis](https://en.wikipedia.org/wiki/Cluster_analysis), data segmentation, or data partitioning.\n",
    "\n",
    "We are going to focus on clustering for the rest of this notebook."
   ]
  },
  {
   "cell_type": "markdown",
   "metadata": {},
   "source": [
    "Introduction to K-means Clustering\n",
    "------\n",
    "\n",
    "![](../images/k_means.png)\n",
    "\n",
    "K-means one of the most common clustering techniques. The goal of k-means is find a group of datapoints that close to each other (a cluster) and are far away from other datapoints (the other clusters)."
   ]
  },
  {
   "cell_type": "markdown",
   "metadata": {},
   "source": [
    "How do we do k-means clustering?\n",
    "-----\n",
    "\n",
    "Initially, datapoints are <i>randomly assigned</i> to a cluster. Then the center of each cluster is calculated.\n",
    "\n",
    "Then we alternate between two steps:\n",
    "\n",
    "1. Assignment step: Observations are assigned to a cluster where the center is closest to them.\n",
    "\n",
    "2. Update step: New center points of clusters are determined\n",
    "\n",
    "The process repeats until observations shuffle are long around to different cluasers anymore and the center of each cluster no longer moves.\n",
    "\n",
    "In other words, observations are constantly being reassigned to clusters until the distance between an observation and their closest center point is minimized."
   ]
  },
  {
   "cell_type": "markdown",
   "metadata": {},
   "source": [
    "K-means Example\n",
    "-----\n",
    "\n",
    "![](../images/left.gif)"
   ]
  },
  {
   "cell_type": "markdown",
   "metadata": {},
   "source": [
    "-----\n",
    "Fitting K-means to Kiva Data\n",
    "------\n",
    "\n",
    "Now we are going to fit k-means to <b>partition</b> or <b>segment</b> the Kiva data into clusters.\n",
    "\n",
    "Let's import the relevant packages to start coding:"
   ]
  },
  {
   "cell_type": "code",
   "execution_count": 1,
   "metadata": {
    "collapsed": true
   },
   "outputs": [],
   "source": [
    "# First, we need to clear the variables from the namespace \n",
    "# to make sure our analysis starts from scratch each time.\n",
    "# -fs are arguments to keep history and ignore the confirmation prompt."
   ]
  },
  {
   "cell_type": "code",
   "execution_count": 2,
   "metadata": {
    "collapsed": true
   },
   "outputs": [],
   "source": [
    "reset -fs "
   ]
  },
  {
   "cell_type": "code",
   "execution_count": 3,
   "metadata": {
    "collapsed": true
   },
   "outputs": [],
   "source": [
    "# Data loading and manipulation\n",
    "import pandas as pd\n",
    "import numpy as np\n",
    "\n",
    "# K-Means clustering algorithm\n",
    "from sklearn.cluster import KMeans\n",
    "\n",
    "# Plotting\n",
    "import seaborn as sns\n",
    "\n",
    "# Places the plots in the Jupyter Notebook\n",
    "%matplotlib inline\n",
    "\n",
    "# Keep everything visible\n",
    "pd.set_option('display.max_columns', 80)\n",
    "pd.set_option('expand_frame_repr', True)"
   ]
  },
  {
   "cell_type": "markdown",
   "metadata": {},
   "source": [
    "----\n",
    "Load and explore the data\n",
    "-----"
   ]
  },
  {
   "cell_type": "code",
   "execution_count": 4,
   "metadata": {
    "collapsed": true
   },
   "outputs": [],
   "source": [
    "# Where the data is on the computer\n",
    "path = '../data/'\n",
    "\n",
    "filename = 'clean_data' # Has more columns\n",
    "\n",
    "# Load data into Pandas 🐼\n",
    "df = pd.read_csv(path+filename+'.csv',\n",
    "                 low_memory=False)\n",
    "\n",
    "# TODO: Remove these lines once this is added to feature engineering\n",
    "# Normalize column names\n",
    "df.columns = [c.lower().replace('.', '_').replace(' ', '_')\n",
    "                 for c in df.columns]"
   ]
  },
  {
   "cell_type": "markdown",
   "metadata": {},
   "source": [
    "It is always good idea 💡 to take a peak at the raw data."
   ]
  },
  {
   "cell_type": "code",
   "execution_count": 5,
   "metadata": {},
   "outputs": [
    {
     "data": {
      "text/html": [
       "<div>\n",
       "<style>\n",
       "    .dataframe thead tr:only-child th {\n",
       "        text-align: right;\n",
       "    }\n",
       "\n",
       "    .dataframe thead th {\n",
       "        text-align: left;\n",
       "    }\n",
       "\n",
       "    .dataframe tbody tr th {\n",
       "        vertical-align: top;\n",
       "    }\n",
       "</style>\n",
       "<table border=\"1\" class=\"dataframe\">\n",
       "  <thead>\n",
       "    <tr style=\"text-align: right;\">\n",
       "      <th></th>\n",
       "      <th>activity</th>\n",
       "      <th>basket_amount</th>\n",
       "      <th>bonus_credit_eligibility</th>\n",
       "      <th>borrowers</th>\n",
       "      <th>currency_exchange_loss_amount</th>\n",
       "      <th>description_languages</th>\n",
       "      <th>description_texts_en</th>\n",
       "      <th>description_texts_es</th>\n",
       "      <th>description_texts_fr</th>\n",
       "      <th>description_texts_ru</th>\n",
       "      <th>funded_amount</th>\n",
       "      <th>funded_date</th>\n",
       "      <th>id</th>\n",
       "      <th>image_id</th>\n",
       "      <th>lender_count</th>\n",
       "      <th>loan_amount</th>\n",
       "      <th>location_geo_level</th>\n",
       "      <th>location_geo_pairs</th>\n",
       "      <th>location_town</th>\n",
       "      <th>name</th>\n",
       "      <th>partner_id</th>\n",
       "      <th>planned_expiration_date</th>\n",
       "      <th>posted_date</th>\n",
       "      <th>sector</th>\n",
       "      <th>status</th>\n",
       "      <th>tags</th>\n",
       "      <th>terms_disbursal_amount</th>\n",
       "      <th>terms_disbursal_currency</th>\n",
       "      <th>terms_disbursal_date</th>\n",
       "      <th>terms_loan_amount</th>\n",
       "      <th>terms_local_payments</th>\n",
       "      <th>terms_loss_liability_currency_exchange</th>\n",
       "      <th>terms_loss_liability_currency_exchange_coverage_rate</th>\n",
       "      <th>terms_loss_liability_nonpayment</th>\n",
       "      <th>terms_repayment_interval</th>\n",
       "      <th>terms_repayment_term</th>\n",
       "      <th>terms_scheduled_payments</th>\n",
       "      <th>themes</th>\n",
       "      <th>translator_byline</th>\n",
       "      <th>translator_image</th>\n",
       "      <th>...</th>\n",
       "      <th>#married_na</th>\n",
       "      <th>#orphan_na</th>\n",
       "      <th>#parent_na</th>\n",
       "      <th>#post-disbursed_na</th>\n",
       "      <th>#refugee_na</th>\n",
       "      <th>#repair_renew_replace_na</th>\n",
       "      <th>#repeat_borrower_na</th>\n",
       "      <th>#schooling_na</th>\n",
       "      <th>#single_na</th>\n",
       "      <th>#single_parent_na</th>\n",
       "      <th>#supporting_family_na</th>\n",
       "      <th>#sustainable_ag_na</th>\n",
       "      <th>#team_guys_holding_fish_na</th>\n",
       "      <th>#technology_na</th>\n",
       "      <th>#tourism_na</th>\n",
       "      <th>#trees_na</th>\n",
       "      <th>#unique_na</th>\n",
       "      <th>#vegan_na</th>\n",
       "      <th>#widowed_na</th>\n",
       "      <th>#woman_owned_biz_na</th>\n",
       "      <th>user_favorite_na</th>\n",
       "      <th>volunteer_like_na</th>\n",
       "      <th>volunteer_pick_na</th>\n",
       "      <th>num_borrowers_na</th>\n",
       "      <th>num_tags_na</th>\n",
       "      <th>female_na</th>\n",
       "      <th>num_male_na</th>\n",
       "      <th>num_female_na</th>\n",
       "      <th>pct_female_na</th>\n",
       "      <th>widowed_na</th>\n",
       "      <th>married_na</th>\n",
       "      <th>kids_na</th>\n",
       "      <th>parent_na</th>\n",
       "      <th>children_int_1_na</th>\n",
       "      <th>children_int_2_na</th>\n",
       "      <th>age_int_na</th>\n",
       "      <th>children_int_na</th>\n",
       "      <th>top_partner_id_na</th>\n",
       "      <th>partner_dollar_amount_na</th>\n",
       "      <th>exploratory_partner_na</th>\n",
       "    </tr>\n",
       "  </thead>\n",
       "  <tbody>\n",
       "    <tr>\n",
       "      <th>0</th>\n",
       "      <td>Farming</td>\n",
       "      <td>0.0</td>\n",
       "      <td>False</td>\n",
       "      <td>[{'first_name': 'Evaline', 'last_name': '', 'g...</td>\n",
       "      <td>6.792162</td>\n",
       "      <td>['en']</td>\n",
       "      <td>Evaline is a married lady aged 44 years old an...</td>\n",
       "      <td>NaN</td>\n",
       "      <td>NaN</td>\n",
       "      <td>NaN</td>\n",
       "      <td>0</td>\n",
       "      <td>NaN</td>\n",
       "      <td>1291548</td>\n",
       "      <td>2516002</td>\n",
       "      <td>0</td>\n",
       "      <td>500</td>\n",
       "      <td>town</td>\n",
       "      <td>-0.583333 35.183333</td>\n",
       "      <td>litein</td>\n",
       "      <td>Evaline</td>\n",
       "      <td>386.0</td>\n",
       "      <td>2017-06-08 00:00:00</td>\n",
       "      <td>2017-05-09 00:00:00</td>\n",
       "      <td>Agriculture</td>\n",
       "      <td>fundraising</td>\n",
       "      <td>[{'name': '#Woman Owned Biz'}, {'name': '#Pare...</td>\n",
       "      <td>50000.0</td>\n",
       "      <td>KES</td>\n",
       "      <td>2017-04-03 07:00:00</td>\n",
       "      <td>500</td>\n",
       "      <td>[{'due_date': '2017-05-10T07:00:00Z', 'amount'...</td>\n",
       "      <td>shared</td>\n",
       "      <td>0.1</td>\n",
       "      <td>lender</td>\n",
       "      <td>Monthly</td>\n",
       "      <td>14</td>\n",
       "      <td>[{'due_date': '2017-07-01T07:00:00Z', 'amount'...</td>\n",
       "      <td>NaN</td>\n",
       "      <td>Julie Keaton</td>\n",
       "      <td>892591.0</td>\n",
       "      <td>...</td>\n",
       "      <td>False</td>\n",
       "      <td>False</td>\n",
       "      <td>False</td>\n",
       "      <td>False</td>\n",
       "      <td>False</td>\n",
       "      <td>False</td>\n",
       "      <td>False</td>\n",
       "      <td>False</td>\n",
       "      <td>False</td>\n",
       "      <td>False</td>\n",
       "      <td>False</td>\n",
       "      <td>False</td>\n",
       "      <td>False</td>\n",
       "      <td>False</td>\n",
       "      <td>False</td>\n",
       "      <td>False</td>\n",
       "      <td>False</td>\n",
       "      <td>False</td>\n",
       "      <td>False</td>\n",
       "      <td>False</td>\n",
       "      <td>False</td>\n",
       "      <td>False</td>\n",
       "      <td>False</td>\n",
       "      <td>False</td>\n",
       "      <td>False</td>\n",
       "      <td>False</td>\n",
       "      <td>False</td>\n",
       "      <td>False</td>\n",
       "      <td>False</td>\n",
       "      <td>False</td>\n",
       "      <td>False</td>\n",
       "      <td>False</td>\n",
       "      <td>False</td>\n",
       "      <td>True</td>\n",
       "      <td>False</td>\n",
       "      <td>False</td>\n",
       "      <td>False</td>\n",
       "      <td>False</td>\n",
       "      <td>False</td>\n",
       "      <td>False</td>\n",
       "    </tr>\n",
       "    <tr>\n",
       "      <th>1</th>\n",
       "      <td>Furniture Making</td>\n",
       "      <td>0.0</td>\n",
       "      <td>False</td>\n",
       "      <td>[{'first_name': 'Julias', 'last_name': '', 'ge...</td>\n",
       "      <td>6.792162</td>\n",
       "      <td>['en']</td>\n",
       "      <td>Aged 42 years is a man by the name of Julias. ...</td>\n",
       "      <td>NaN</td>\n",
       "      <td>NaN</td>\n",
       "      <td>NaN</td>\n",
       "      <td>0</td>\n",
       "      <td>NaN</td>\n",
       "      <td>1291532</td>\n",
       "      <td>2515992</td>\n",
       "      <td>0</td>\n",
       "      <td>500</td>\n",
       "      <td>town</td>\n",
       "      <td>0.566667 34.566667</td>\n",
       "      <td>Bungoma</td>\n",
       "      <td>Julias</td>\n",
       "      <td>386.0</td>\n",
       "      <td>2017-06-08 00:00:00</td>\n",
       "      <td>2017-05-09 00:00:00</td>\n",
       "      <td>Manufacturing</td>\n",
       "      <td>fundraising</td>\n",
       "      <td>[]</td>\n",
       "      <td>50000.0</td>\n",
       "      <td>KES</td>\n",
       "      <td>2017-04-03 07:00:00</td>\n",
       "      <td>500</td>\n",
       "      <td>[{'due_date': '2017-05-09T07:00:00Z', 'amount'...</td>\n",
       "      <td>shared</td>\n",
       "      <td>0.1</td>\n",
       "      <td>lender</td>\n",
       "      <td>Monthly</td>\n",
       "      <td>14</td>\n",
       "      <td>[{'due_date': '2017-07-01T07:00:00Z', 'amount'...</td>\n",
       "      <td>NaN</td>\n",
       "      <td>Morena Calvo</td>\n",
       "      <td>1832928.0</td>\n",
       "      <td>...</td>\n",
       "      <td>False</td>\n",
       "      <td>False</td>\n",
       "      <td>False</td>\n",
       "      <td>False</td>\n",
       "      <td>False</td>\n",
       "      <td>False</td>\n",
       "      <td>False</td>\n",
       "      <td>False</td>\n",
       "      <td>False</td>\n",
       "      <td>False</td>\n",
       "      <td>False</td>\n",
       "      <td>False</td>\n",
       "      <td>False</td>\n",
       "      <td>False</td>\n",
       "      <td>False</td>\n",
       "      <td>False</td>\n",
       "      <td>False</td>\n",
       "      <td>False</td>\n",
       "      <td>False</td>\n",
       "      <td>False</td>\n",
       "      <td>False</td>\n",
       "      <td>False</td>\n",
       "      <td>False</td>\n",
       "      <td>False</td>\n",
       "      <td>False</td>\n",
       "      <td>False</td>\n",
       "      <td>False</td>\n",
       "      <td>False</td>\n",
       "      <td>False</td>\n",
       "      <td>False</td>\n",
       "      <td>False</td>\n",
       "      <td>False</td>\n",
       "      <td>False</td>\n",
       "      <td>False</td>\n",
       "      <td>True</td>\n",
       "      <td>False</td>\n",
       "      <td>False</td>\n",
       "      <td>False</td>\n",
       "      <td>False</td>\n",
       "      <td>False</td>\n",
       "    </tr>\n",
       "  </tbody>\n",
       "</table>\n",
       "<p>2 rows × 218 columns</p>\n",
       "</div>"
      ],
      "text/plain": [
       "           activity  basket_amount  bonus_credit_eligibility  \\\n",
       "0           Farming            0.0                     False   \n",
       "1  Furniture Making            0.0                     False   \n",
       "\n",
       "                                           borrowers  \\\n",
       "0  [{'first_name': 'Evaline', 'last_name': '', 'g...   \n",
       "1  [{'first_name': 'Julias', 'last_name': '', 'ge...   \n",
       "\n",
       "   currency_exchange_loss_amount description_languages  \\\n",
       "0                       6.792162                ['en']   \n",
       "1                       6.792162                ['en']   \n",
       "\n",
       "                                description_texts_en description_texts_es  \\\n",
       "0  Evaline is a married lady aged 44 years old an...                  NaN   \n",
       "1  Aged 42 years is a man by the name of Julias. ...                  NaN   \n",
       "\n",
       "  description_texts_fr description_texts_ru  funded_amount funded_date  \\\n",
       "0                  NaN                  NaN              0         NaN   \n",
       "1                  NaN                  NaN              0         NaN   \n",
       "\n",
       "        id  image_id  lender_count  loan_amount location_geo_level  \\\n",
       "0  1291548   2516002             0          500               town   \n",
       "1  1291532   2515992             0          500               town   \n",
       "\n",
       "    location_geo_pairs location_town     name  partner_id  \\\n",
       "0  -0.583333 35.183333        litein  Evaline       386.0   \n",
       "1   0.566667 34.566667       Bungoma   Julias       386.0   \n",
       "\n",
       "  planned_expiration_date          posted_date         sector       status  \\\n",
       "0     2017-06-08 00:00:00  2017-05-09 00:00:00    Agriculture  fundraising   \n",
       "1     2017-06-08 00:00:00  2017-05-09 00:00:00  Manufacturing  fundraising   \n",
       "\n",
       "                                                tags  terms_disbursal_amount  \\\n",
       "0  [{'name': '#Woman Owned Biz'}, {'name': '#Pare...                 50000.0   \n",
       "1                                                 []                 50000.0   \n",
       "\n",
       "  terms_disbursal_currency terms_disbursal_date  terms_loan_amount  \\\n",
       "0                      KES  2017-04-03 07:00:00                500   \n",
       "1                      KES  2017-04-03 07:00:00                500   \n",
       "\n",
       "                                terms_local_payments  \\\n",
       "0  [{'due_date': '2017-05-10T07:00:00Z', 'amount'...   \n",
       "1  [{'due_date': '2017-05-09T07:00:00Z', 'amount'...   \n",
       "\n",
       "  terms_loss_liability_currency_exchange  \\\n",
       "0                                 shared   \n",
       "1                                 shared   \n",
       "\n",
       "   terms_loss_liability_currency_exchange_coverage_rate  \\\n",
       "0                                                0.1      \n",
       "1                                                0.1      \n",
       "\n",
       "  terms_loss_liability_nonpayment terms_repayment_interval  \\\n",
       "0                          lender                  Monthly   \n",
       "1                          lender                  Monthly   \n",
       "\n",
       "   terms_repayment_term                           terms_scheduled_payments  \\\n",
       "0                    14  [{'due_date': '2017-07-01T07:00:00Z', 'amount'...   \n",
       "1                    14  [{'due_date': '2017-07-01T07:00:00Z', 'amount'...   \n",
       "\n",
       "  themes translator_byline  translator_image           ...            \\\n",
       "0    NaN      Julie Keaton          892591.0           ...             \n",
       "1    NaN      Morena Calvo         1832928.0           ...             \n",
       "\n",
       "  #married_na  #orphan_na  #parent_na #post-disbursed_na #refugee_na  \\\n",
       "0       False       False       False              False       False   \n",
       "1       False       False       False              False       False   \n",
       "\n",
       "   #repair_renew_replace_na  #repeat_borrower_na  #schooling_na #single_na  \\\n",
       "0                     False                False          False      False   \n",
       "1                     False                False          False      False   \n",
       "\n",
       "   #single_parent_na  #supporting_family_na  #sustainable_ag_na  \\\n",
       "0              False                  False               False   \n",
       "1              False                  False               False   \n",
       "\n",
       "   #team_guys_holding_fish_na  #technology_na  #tourism_na #trees_na  \\\n",
       "0                       False           False        False     False   \n",
       "1                       False           False        False     False   \n",
       "\n",
       "   #unique_na  #vegan_na #widowed_na #woman_owned_biz_na user_favorite_na  \\\n",
       "0       False      False       False               False            False   \n",
       "1       False      False       False               False            False   \n",
       "\n",
       "  volunteer_like_na  volunteer_pick_na num_borrowers_na num_tags_na female_na  \\\n",
       "0             False              False            False       False     False   \n",
       "1             False              False            False       False     False   \n",
       "\n",
       "  num_male_na num_female_na pct_female_na  widowed_na  married_na kids_na  \\\n",
       "0       False         False         False       False       False   False   \n",
       "1       False         False         False       False       False   False   \n",
       "\n",
       "   parent_na children_int_1_na  children_int_2_na age_int_na  children_int_na  \\\n",
       "0      False              True              False      False            False   \n",
       "1      False             False               True      False            False   \n",
       "\n",
       "   top_partner_id_na  partner_dollar_amount_na  exploratory_partner_na  \n",
       "0              False                     False                   False  \n",
       "1              False                     False                   False  \n",
       "\n",
       "[2 rows x 218 columns]"
      ]
     },
     "execution_count": 5,
     "metadata": {},
     "output_type": "execute_result"
    }
   ],
   "source": [
    "df.head(n=2)"
   ]
  },
  {
   "cell_type": "code",
   "execution_count": null,
   "metadata": {},
   "outputs": [
    {
     "name": "stdout",
     "output_type": "stream",
     "text": [
      "There are 218 columns in the dataframe.\n",
      "There are 118,199 rows in the dataframe.\n"
     ]
    }
   ],
   "source": [
    "print(f\"There are {df.shape[1]:,} columns in the dataframe.\")\n",
    "print(f\"There are {df.shape[0]:,} rows in the dataframe.\")"
   ]
  },
  {
   "cell_type": "code",
   "execution_count": null,
   "metadata": {},
   "outputs": [],
   "source": [
    "df.describe()"
   ]
  },
  {
   "cell_type": "markdown",
   "metadata": {},
   "source": [
    "Now that we have our data set up, we can begin partitioning our data into clusters based only a few features. Let's think about how to choose these…\n",
    "\n",
    "As a potential borrower or lender, what would be interesting to explore? \n",
    "\n",
    "In the previous notebooks, we explored a number of interesting ideas, including:\n",
    "\n",
    "- How much a borrower should ask to borrow\n",
    "- The time it takes to fund a loan\n",
    "- What features can influence the loan amount\n",
    "- If we partition borrowers into distinct groups based on how quickly they can fund a loan, will we be able to learn anything about these groups of borrowers?\n",
    "\n",
    "The k-means algorithm uses continuous-valued numeric features (k-means  can also be modified to work with categorical and ordinal features).\n",
    "\n",
    "-----\n",
    "\n",
    "Let's pick a couple of interesting continuous numeric features for analysis:"
   ]
  },
  {
   "cell_type": "markdown",
   "metadata": {},
   "source": [
    "How are Funded Amount and Days to Fund related?\n",
    "----"
   ]
  },
  {
   "cell_type": "code",
   "execution_count": null,
   "metadata": {},
   "outputs": [],
   "source": [
    "# Keep only the relevant columns\n",
    "relavant_colums = ['funded_amount', \n",
    "                   'days_to_fund']\n",
    "df = df[relavant_colums] "
   ]
  },
  {
   "cell_type": "code",
   "execution_count": null,
   "metadata": {},
   "outputs": [],
   "source": [
    "ax = df.funded_amount.hist(grid=False);\n",
    "\n",
    "ax.set(xlabel='Funded Amount', \n",
    "       ylabel='Count', \n",
    "       title='Histogram of Funded Amount');  "
   ]
  },
  {
   "cell_type": "markdown",
   "metadata": {},
   "source": [
    "_How can we interpret the number of loans at different funding amounts?_\n",
    "\n",
    "<br>\n",
    "<br>\n",
    "<br>"
   ]
  },
  {
   "cell_type": "code",
   "execution_count": null,
   "metadata": {},
   "outputs": [],
   "source": [
    "ax = df.days_to_fund.hist(grid=False);\n",
    "\n",
    "ax.set(xlabel='Days to Fund', \n",
    "       ylabel='Count', \n",
    "       title='Histogram of Days to Fund');  "
   ]
  },
  {
   "cell_type": "markdown",
   "metadata": {},
   "source": [
    "_How can we interpret the number of loans for different amount of times?_\n",
    "\n",
    "<br>\n",
    "<br>\n",
    "<br>"
   ]
  },
  {
   "cell_type": "code",
   "execution_count": null,
   "metadata": {},
   "outputs": [],
   "source": [
    "# Filter data to remove outliers\n",
    "funded_small = df.funded_amount < 2_500 # Remove large loans\n",
    "time_valid = df.days_to_fund > 0 # Remove invalid times\n",
    "df = df[funded_small & time_valid]"
   ]
  },
  {
   "cell_type": "code",
   "execution_count": null,
   "metadata": {},
   "outputs": [],
   "source": [
    "ax = df.funded_amount.hist(grid=False);\n",
    "\n",
    "ax.set(xlabel='Funded Amount', \n",
    "       ylabel='Count', \n",
    "       title='Histogram of Funded Amount');  "
   ]
  },
  {
   "cell_type": "code",
   "execution_count": null,
   "metadata": {},
   "outputs": [],
   "source": [
    "df.days_to_fund.hist(grid=False);df.head()"
   ]
  },
  {
   "cell_type": "code",
   "execution_count": null,
   "metadata": {},
   "outputs": [],
   "source": [
    "ax = df.days_to_fund.hist(grid=False);\n",
    "\n",
    "ax.set(xlabel='Days to Fund', \n",
    "       ylabel='Count', \n",
    "       title='Histogram of Days to Fund');  "
   ]
  },
  {
   "cell_type": "code",
   "execution_count": null,
   "metadata": {},
   "outputs": [],
   "source": [
    "print(f\"There are {df.shape[1]:,} columns in the dataframe.\")\n",
    "print(f\"There are {df.shape[0]:,} rows in the dataframe.\")"
   ]
  },
  {
   "cell_type": "code",
   "execution_count": null,
   "metadata": {},
   "outputs": [],
   "source": [
    "# Plot the relationship between these two variables\n",
    "df.plot.scatter(x='funded_amount',\n",
    "                y='days_to_fund');"
   ]
  },
  {
   "cell_type": "markdown",
   "metadata": {},
   "source": [
    "_How can we interpret the relationship between the funded amount and time to fund?_\n",
    "\n",
    "<br>\n",
    "<br>\n",
    "<br>"
   ]
  },
  {
   "cell_type": "markdown",
   "metadata": {},
   "source": [
    "Clustering\n",
    "======"
   ]
  },
  {
   "cell_type": "markdown",
   "metadata": {},
   "source": [
    "----\n",
    "Fitting our data with k-means using scikit-learn\n",
    "----\n",
    "\n",
    "Now we're ready to run the k-means algorithm:\n",
    "\n",
    "Let's take quick peek at the [scikit-learn's documentation](http://scikit-learn.org/stable/modules/generated/sklearn.cluster.KMeans.html)"
   ]
  },
  {
   "cell_type": "code",
   "execution_count": null,
   "metadata": {},
   "outputs": [],
   "source": [
    "# Take KMeans class, initialize and fit it our data\n",
    "kmeans = KMeans(n_clusters=2) # Number of clusters should be 2 or 3\n",
    "kmeans.fit(df)"
   ]
  },
  {
   "cell_type": "markdown",
   "metadata": {},
   "source": [
    "Now that we have clusters, the best way to understand them is to visualize them"
   ]
  },
  {
   "cell_type": "code",
   "execution_count": null,
   "metadata": {
    "collapsed": true
   },
   "outputs": [],
   "source": [
    "# Add the cluster labels for each data point to the dataframe\n",
    "df['kmeans_labels'] = kmeans.labels_"
   ]
  },
  {
   "cell_type": "code",
   "execution_count": null,
   "metadata": {},
   "outputs": [],
   "source": [
    "# Plot k-means\n",
    "kmeans_plot = sns.lmplot(x=\"funded_amount\", \n",
    "                       y=\"days_to_fund\", \n",
    "                       data=df, \n",
    "                       fit_reg=False,        # Do not fit a regression line to the data\n",
    "                       hue=\"kmeans_labels\",  #'hue' will color code each group\n",
    "                       legend=True);\n",
    "\n",
    "# Plot the mean of cluster #1\n",
    "kmeans_plot.ax.plot(kmeans.cluster_centers_[0][0], kmeans.cluster_centers_[0][1], color='red', marker='*');\n",
    "\n",
    "# Plot the mean of cluster #2\n",
    "kmeans_plot.ax.plot(kmeans.cluster_centers_[1][0], kmeans.cluster_centers_[1][1], color='cyan', marker='*');\n",
    "\n",
    "# # Plot the mean of cluster #3 (if present)\n",
    "# kmeans_plot.ax.plot(kmeans.cluster_centers_[2][0], kmeans.cluster_centers_[2][1], color='orange', marker='*');"
   ]
  },
  {
   "cell_type": "markdown",
   "metadata": {},
   "source": [
    "_Why are the means where they are?_  \n",
    "\n",
    "<br>\n",
    "<br>\n",
    "<br>"
   ]
  },
  {
   "cell_type": "markdown",
   "metadata": {},
   "source": [
    "Choosing the number of clusters\n",
    "-----\n",
    "\n",
    "The k-means algorithm is somewhat naive -- it clusters the data into k clusters, even if k is not the right number of clusters to use.\n",
    "\n",
    "We arbitrarily set the number of clusters to be 3. But determining the appropriate number of clusters (k) is actually one of the most challenging parts of clustering. \n",
    "\n",
    "There is no hard and fast rule for what the value of k should be because the number of clusters will depend on your data and what the goal of your analysis. The number of groups you choose to partition in your data directly influences the results you'll find. In most areas of data analysis, it's attractive to take as granular an approach as possible, but having too many clusters can be counterproductive because the grouping will not tell you much.\n",
    "\n",
    "_Is it possible to have too many clusters? Or too few clusters?_\n",
    "\n",
    "Think about these extreme examples: \n",
    "\n",
    "1. A single cluster for all your data \n",
    "2. A cluster for each data point\n",
    "\n",
    "Neither of these will tell you anything new about your data! \n",
    "\n",
    "Rather, clustering is most effective when observations in the same cluster are very similar to each other. Also, we want observations in different clusters to be as different from each other as possible."
   ]
  },
  {
   "cell_type": "markdown",
   "metadata": {},
   "source": [
    "Elbow method to explore number of clusters\n",
    "------\n",
    "\n",
    "The elbow method is a simple, intuitive way of exploring how changing the number of clusters impacts the \"tightness\" of the clusters. \n",
    "\n",
    "The elbow method runs k-means clustering on the same dataset for a range of values of k (say, k is [1, 2, 3, 4, 5, 6, 7, 8, 9, 10]) and for each value of k, calculate the within-cluster sum-of-squares errors (SSE).\n",
    "\n",
    "SSE is the distance as-the-crow* flies between each point and closest mean, squared, and summed.\n",
    "\n",
    "SSE is a measure of internally coherent clusters are. A lower is SSE is better (an inverted score), it means the each cluster is very similar to itself. SSE is like a golf score or heart-rate, lower is better.\n",
    "\n",
    "As k increases, the improvement in SSE () will lesson. At some point this lack of improvement will be rapid, creating the \"elbow\" shape.\n",
    "\n",
    "One should choose a number of clusters so that adding another cluster doesn't give much better modeling of the data.\n",
    "\n",
    "<sub>*The figure does not look like as-the-crow distance because each axis is on very different scales. Typically, k means data is normalized so data is on the same standard scale.</sub>"
   ]
  },
  {
   "cell_type": "markdown",
   "metadata": {},
   "source": [
    "![](../images/elbow_method.png)\n",
    "\n",
    "What the elbow method does is this:\n",
    "\n",
    "1. Run the k-means algorithm over your dataset for a range of k.\n",
    "2. For each value of k, calculate how the model fits.\n",
    "3. If we see an \"elbow\" in our plotted check, then that marks a good value for k."
   ]
  },
  {
   "cell_type": "code",
   "execution_count": null,
   "metadata": {
    "collapsed": true
   },
   "outputs": [],
   "source": [
    "# Let's fit a different model for each value of k\n",
    "k_values = range(1, 10)\n",
    "k_mean_models = [KMeans(n_clusters=i) for i in k_values] # Fit a model for each value of k\n",
    "scores = [-k_mean_models[i].fit(df).score(df) for i, model in enumerate(k_mean_models)] # See how the scores change"
   ]
  },
  {
   "cell_type": "code",
   "execution_count": null,
   "metadata": {
    "scrolled": true
   },
   "outputs": [],
   "source": [
    "# Let's plot the effect k on the clustering\n",
    "ax = sns.pointplot(x=list(k_values),\n",
    "                   y=scores);\n",
    "ax.set(xlabel='k', \n",
    "       ylabel='Fit', \n",
    "       title='The Elbow Method choosing k');"
   ]
  },
  {
   "cell_type": "markdown",
   "metadata": {},
   "source": [
    "_How can we interpret the relationship between changing k and the fit of clustering?_  \n",
    "_Can we see where the \"bend\" is that looks like an elbow in an arm?_\n",
    "\n",
    "<br>\n",
    "<br>\n",
    "<br>"
   ]
  },
  {
   "cell_type": "markdown",
   "metadata": {},
   "source": [
    "Summary\n",
    "------\n",
    "\n",
    "- We talked about how supervised learning finds patterns in data.\n",
    "- Clustering is finding groups within a dataset.\n",
    "- K-means clustering is a popular clustering technique that iteratively finds the best groups and center/means of groups.\n",
    "- We fit k-means to data and evaluated the results."
   ]
  },
  {
   "cell_type": "markdown",
   "metadata": {},
   "source": [
    "Next Steps\n",
    "-----\n",
    "\n",
    "Apply the K-means clustering algorithm to a new pair of features. \n",
    "\n",
    "Then find an useful number of clusters (k)."
   ]
  },
  {
   "cell_type": "markdown",
   "metadata": {},
   "source": [
    "Further study\n",
    "-----\n",
    "\n",
    "If you want to understand k-means at a deeper level, start at the notebook found [here](https://jakevdp.github.io/PythonDataScienceHandbook/05.11-k-means.html)\n",
    "\n",
    "If you are interested in a more theory behind k-means, a great resource is [here](https://www-users.cs.umn.edu/~kumar/dmbook/ch8.pdf). \n",
    "\n",
    "There are many other clustering methods. Another popular method is [hierarchical clustering](https://en.wikipedia.org/wiki/Hierarchical_clustering)."
   ]
  },
  {
   "cell_type": "markdown",
   "metadata": {},
   "source": [
    "<br>\n",
    "<br> \n",
    "<br>\n",
    "\n",
    "----"
   ]
  }
 ],
 "metadata": {
  "kernelspec": {
   "display_name": "Python 3",
   "language": "python",
   "name": "python3"
  },
  "language_info": {
   "codemirror_mode": {
    "name": "ipython",
    "version": 3
   },
   "file_extension": ".py",
   "mimetype": "text/x-python",
   "name": "python",
   "nbconvert_exporter": "python",
   "pygments_lexer": "ipython3",
   "version": "3.6.2"
  }
 },
 "nbformat": 4,
 "nbformat_minor": 2
}
