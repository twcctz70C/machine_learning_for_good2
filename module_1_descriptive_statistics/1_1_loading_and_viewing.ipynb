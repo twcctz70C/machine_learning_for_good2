{
 "cells": [
  {
   "cell_type": "markdown",
   "metadata": {},
   "source": [
    "# Module 1: Introduction to Exploratory Analysis "
   ]
  },
  {
   "cell_type": "markdown",
   "metadata": {},
   "source": [
    "What we'll be doing in this notebook:\n",
    "-----\n",
    "\n",
    " 1.  Checking variable type\n",
    " 2.  Checking for missing variables \n",
    " 3.  Number of observations in the dataset\n",
    " 4.  Descriptive statistics"
   ]
  },
  {
   "cell_type": "markdown",
   "metadata": {},
   "source": [
    "### Import packages"
   ]
  },
  {
   "cell_type": "code",
   "execution_count": 28,
   "metadata": {},
   "outputs": [],
   "source": [
    "import pandas as pd\n",
    "import numpy as np\n",
    "import seaborn as sns\n",
    "import matplotlib.pyplot as plt\n",
    "from datetime import datetime\n",
    "import dateutil.parser\n",
    "\n",
    "# The command below means that the output of multiple commands in a cell will be output at once\n",
    "from IPython.core.interactiveshell import InteractiveShell\n",
    "InteractiveShell.ast_node_interactivity = \"all\"\n",
    "\n",
    "# The command below tells jupyter to display up to 80 columns, this keeps everything visible\n",
    "pd.set_option('display.max_columns', 80)\n",
    "pd.set_option('expand_frame_repr', True)\n",
    "\n",
    "# Show figures in notebook\n",
    "%matplotlib inline"
   ]
  },
  {
   "cell_type": "markdown",
   "metadata": {},
   "source": [
    "### Import dataset"
   ]
  },
  {
   "cell_type": "markdown",
   "metadata": {},
   "source": [
    "We read in our dataset"
   ]
  },
  {
   "cell_type": "code",
   "execution_count": 29,
   "metadata": {},
   "outputs": [],
   "source": [
    "path = '../data/'\n",
    "filename = 'loans.csv'\n",
    "df = pd.read_csv(path+filename)"
   ]
  },
  {
   "cell_type": "markdown",
   "metadata": {},
   "source": [
    "In the cell below, we take a random sample of 2 rows to get a feel for the data."
   ]
  },
  {
   "cell_type": "code",
   "execution_count": 30,
   "metadata": {},
   "outputs": [
    {
     "data": {
      "text/html": [
       "<div>\n",
       "<style scoped>\n",
       "    .dataframe tbody tr th:only-of-type {\n",
       "        vertical-align: middle;\n",
       "    }\n",
       "\n",
       "    .dataframe tbody tr th {\n",
       "        vertical-align: top;\n",
       "    }\n",
       "\n",
       "    .dataframe thead th {\n",
       "        text-align: right;\n",
       "    }\n",
       "</style>\n",
       "<table border=\"1\" class=\"dataframe\">\n",
       "  <thead>\n",
       "    <tr style=\"text-align: right;\">\n",
       "      <th></th>\n",
       "      <th>id_number</th>\n",
       "      <th>loan_amount</th>\n",
       "      <th>status</th>\n",
       "      <th>funded_date</th>\n",
       "      <th>funded_amount</th>\n",
       "      <th>location_country_code</th>\n",
       "      <th>activity</th>\n",
       "      <th>description_texts_en</th>\n",
       "      <th>use</th>\n",
       "    </tr>\n",
       "  </thead>\n",
       "  <tbody>\n",
       "    <tr>\n",
       "      <th>237</th>\n",
       "      <td>874800</td>\n",
       "      <td>325</td>\n",
       "      <td>funded</td>\n",
       "      <td>2015-04-30T04:41:34Z</td>\n",
       "      <td>325</td>\n",
       "      <td>SS</td>\n",
       "      <td>Farming</td>\n",
       "      <td>NaN</td>\n",
       "      <td>NaN</td>\n",
       "    </tr>\n",
       "    <tr>\n",
       "      <th>49</th>\n",
       "      <td>908034</td>\n",
       "      <td>5050</td>\n",
       "      <td>funded</td>\n",
       "      <td>2015-07-09T06:55:03Z</td>\n",
       "      <td>5050</td>\n",
       "      <td>CG</td>\n",
       "      <td>Fish Selling</td>\n",
       "      <td>Francoise is a member of the community bank gr...</td>\n",
       "      <td>to purchase baskets of fish for resale.</td>\n",
       "    </tr>\n",
       "  </tbody>\n",
       "</table>\n",
       "</div>"
      ],
      "text/plain": [
       "     id_number  loan_amount  status           funded_date  funded_amount  \\\n",
       "237     874800          325  funded  2015-04-30T04:41:34Z            325   \n",
       "49      908034         5050  funded  2015-07-09T06:55:03Z           5050   \n",
       "\n",
       "    location_country_code      activity  \\\n",
       "237                    SS       Farming   \n",
       "49                     CG  Fish Selling   \n",
       "\n",
       "                                  description_texts_en  \\\n",
       "237                                                NaN   \n",
       "49   Francoise is a member of the community bank gr...   \n",
       "\n",
       "                                         use  \n",
       "237                                      NaN  \n",
       "49   to purchase baskets of fish for resale.  "
      ]
     },
     "execution_count": 30,
     "metadata": {},
     "output_type": "execute_result"
    }
   ],
   "source": [
    "df.sample(2)"
   ]
  },
  {
   "cell_type": "markdown",
   "metadata": {},
   "source": [
    "### 1) Type Checking\n",
    "<a id='type_check'></a>"
   ]
  },
  {
   "cell_type": "markdown",
   "metadata": {},
   "source": [
    "Type is very important in Python programing, because it affects the types of functions you can apply to a series. There are a few different types of data you will see regularly (see [this](https://en.wikibooks.org/wiki/Python_Programming/Data_Types) link for more detail):\n",
    "* **int** - a number with no decimal places. example: loan_amount field\n",
    "* **float** - a number with decimal places. example: partner_id field\n",
    "* **str** - str is short for string. This type formally defined as a sequence of unicode characters. More simply, string means that the data is treated as a word, not a number. example: sector\n",
    "* **boolean** - can only be True or False. There is not currently an example in the data, but we will be creating a gender field shortly.\n",
    "* **datetime** - values meant to hold time data. Example: posted_date\n",
    "\n",
    "Let's check the type of our variables using the examples we saw in the cell above."
   ]
  },
  {
   "cell_type": "code",
   "execution_count": 31,
   "metadata": {},
   "outputs": [
    {
     "data": {
      "text/plain": [
       "['id_number',\n",
       " 'loan_amount',\n",
       " 'status',\n",
       " 'funded_date',\n",
       " 'funded_amount',\n",
       " 'location_country_code',\n",
       " 'activity',\n",
       " 'description_texts_en',\n",
       " 'use']"
      ]
     },
     "execution_count": 31,
     "metadata": {},
     "output_type": "execute_result"
    }
   ],
   "source": [
    "# Here are all of the columns\n",
    "df.columns.tolist()"
   ]
  },
  {
   "cell_type": "code",
   "execution_count": 32,
   "metadata": {},
   "outputs": [
    {
     "data": {
      "text/plain": [
       "dtype('int64')"
      ]
     },
     "execution_count": 32,
     "metadata": {},
     "output_type": "execute_result"
    }
   ],
   "source": [
    "# Find the dtype, aka datatype, for a column\n",
    "df['id_number'].dtype"
   ]
  },
  {
   "cell_type": "code",
   "execution_count": 19,
   "metadata": {},
   "outputs": [],
   "source": [
    "# Try this - Pick a couple of columns and check their type on your own\n"
   ]
  },
  {
   "cell_type": "markdown",
   "metadata": {},
   "source": [
    "### 2) Do I have missing values?\n",
    "\n",
    "<a id='missing_check'></a>"
   ]
  },
  {
   "cell_type": "markdown",
   "metadata": {},
   "source": [
    "If we have missing data, is the missing data at random or not? If data is missing at random, the data distribution is still representative of the population. You can probably ignore the missing values as an inconvenience. However, if the data is systematically missing, the analysis you do may be biased. You should carefully consider the best way to clean the data, it may involve dropping some data."
   ]
  },
  {
   "cell_type": "markdown",
   "metadata": {},
   "source": [
    "We want to see how many values are missing in certain variable columns. One way to do this is to count the number of null observations. \n",
    "\n",
    "For this, we wrote a short function to apply to the dataframe. \n",
    "\n",
    "We print out the first few observations, but you can remove the .head() to print out all columns. "
   ]
  },
  {
   "cell_type": "code",
   "execution_count": 33,
   "metadata": {},
   "outputs": [
    {
     "name": "stdout",
     "output_type": "stream",
     "text": [
      "Missing values per column:\n",
      "funded_date              126.0\n",
      "location_country_code     10.0\n",
      "description_texts_en      16.0\n",
      "use                       16.0\n",
      "dtype: float64\n"
     ]
    }
   ],
   "source": [
    "#Create a new function:\n",
    "def num_missing(x):\n",
    "    return sum(x.isnull())\n",
    "\n",
    "#Applying per column:\n",
    "print(\"Missing values per column:\")\n",
    "## Check how many are missing by column, and then check which ones have any missing values\n",
    "print(df.apply(num_missing, axis=0).where(lambda x : x != 0).dropna().head(20)) \n",
    "#axis=0 defines that function is to be applied on each column"
   ]
  },
  {
   "cell_type": "markdown",
   "metadata": {},
   "source": [
    "### 3) Sanity Checks\n",
    "<a id='obs_check'></a>"
   ]
  },
  {
   "cell_type": "markdown",
   "metadata": {},
   "source": [
    "**Does the dataset match what you expected to find?**\n",
    "- is the range of values what you would expect. For example, are all loan_amounts above 0.\n",
    "- do you have the number of rows you would expect\n",
    "- is your data for the date range you would expect. For example, is there a strange year in the data like 1880.\n",
    "- are there unexpected spikes when you plot the data over time\n",
    "\n",
    "\n",
    "In the command below we find out the number of loans and number of columns by using the function shape. You can also use len(df.index) to find the number of rows."
   ]
  },
  {
   "cell_type": "code",
   "execution_count": 37,
   "metadata": {},
   "outputs": [
    {
     "name": "stdout",
     "output_type": "stream",
     "text": [
      "There are 282 observations and 9 features\n"
     ]
    }
   ],
   "source": [
    "print(f'There are {df.shape[0]} observations and {df.shape[1]} features')"
   ]
  },
  {
   "cell_type": "markdown",
   "metadata": {},
   "source": [
    "Remember, each row is an observation and each column is a potential feature. \n",
    "\n",
    "Remember we need large about of data for machine learning."
   ]
  },
  {
   "cell_type": "markdown",
   "metadata": {},
   "source": [
    "### 4) Descriptive statistics of the dataset\n",
    "\n",
    "<a id='desc_stats'></a>"
   ]
  },
  {
   "cell_type": "markdown",
   "metadata": {},
   "source": [
    "The \"describe\" command below provides key summary statistics for each numeric column."
   ]
  },
  {
   "cell_type": "code",
   "execution_count": 38,
   "metadata": {},
   "outputs": [
    {
     "data": {
      "text/html": [
       "<div>\n",
       "<style scoped>\n",
       "    .dataframe tbody tr th:only-of-type {\n",
       "        vertical-align: middle;\n",
       "    }\n",
       "\n",
       "    .dataframe tbody tr th {\n",
       "        vertical-align: top;\n",
       "    }\n",
       "\n",
       "    .dataframe thead th {\n",
       "        text-align: right;\n",
       "    }\n",
       "</style>\n",
       "<table border=\"1\" class=\"dataframe\">\n",
       "  <thead>\n",
       "    <tr style=\"text-align: right;\">\n",
       "      <th></th>\n",
       "      <th>id_number</th>\n",
       "      <th>loan_amount</th>\n",
       "      <th>funded_amount</th>\n",
       "    </tr>\n",
       "  </thead>\n",
       "  <tbody>\n",
       "    <tr>\n",
       "      <th>count</th>\n",
       "      <td>2.820000e+02</td>\n",
       "      <td>282.000000</td>\n",
       "      <td>282.000000</td>\n",
       "    </tr>\n",
       "    <tr>\n",
       "      <th>mean</th>\n",
       "      <td>1.411887e+06</td>\n",
       "      <td>3226.152482</td>\n",
       "      <td>2421.808511</td>\n",
       "    </tr>\n",
       "    <tr>\n",
       "      <th>std</th>\n",
       "      <td>2.836500e+05</td>\n",
       "      <td>8194.704207</td>\n",
       "      <td>8222.169629</td>\n",
       "    </tr>\n",
       "    <tr>\n",
       "      <th>min</th>\n",
       "      <td>5.143710e+05</td>\n",
       "      <td>50.000000</td>\n",
       "      <td>0.000000</td>\n",
       "    </tr>\n",
       "    <tr>\n",
       "      <th>25%</th>\n",
       "      <td>1.308959e+06</td>\n",
       "      <td>325.000000</td>\n",
       "      <td>62.500000</td>\n",
       "    </tr>\n",
       "    <tr>\n",
       "      <th>50%</th>\n",
       "      <td>1.566896e+06</td>\n",
       "      <td>862.500000</td>\n",
       "      <td>300.000000</td>\n",
       "    </tr>\n",
       "    <tr>\n",
       "      <th>75%</th>\n",
       "      <td>1.570511e+06</td>\n",
       "      <td>3568.750000</td>\n",
       "      <td>1581.250000</td>\n",
       "    </tr>\n",
       "    <tr>\n",
       "      <th>max</th>\n",
       "      <td>1.571572e+06</td>\n",
       "      <td>80000.000000</td>\n",
       "      <td>80000.000000</td>\n",
       "    </tr>\n",
       "  </tbody>\n",
       "</table>\n",
       "</div>"
      ],
      "text/plain": [
       "          id_number   loan_amount  funded_amount\n",
       "count  2.820000e+02    282.000000     282.000000\n",
       "mean   1.411887e+06   3226.152482    2421.808511\n",
       "std    2.836500e+05   8194.704207    8222.169629\n",
       "min    5.143710e+05     50.000000       0.000000\n",
       "25%    1.308959e+06    325.000000      62.500000\n",
       "50%    1.566896e+06    862.500000     300.000000\n",
       "75%    1.570511e+06   3568.750000    1581.250000\n",
       "max    1.571572e+06  80000.000000   80000.000000"
      ]
     },
     "execution_count": 38,
     "metadata": {},
     "output_type": "execute_result"
    }
   ],
   "source": [
    "df.describe()"
   ]
  },
  {
   "cell_type": "markdown",
   "metadata": {},
   "source": [
    "In order to get the same summary statistics for categorical columns (string) we need to do a little data wrangling. The first line of code filters for all columns that are a data type object. As we know from before this means they are considered to be a string. The final row of code provides summary statistics for these character fields."
   ]
  },
  {
   "cell_type": "code",
   "execution_count": 39,
   "metadata": {},
   "outputs": [
    {
     "data": {
      "text/html": [
       "<div>\n",
       "<style scoped>\n",
       "    .dataframe tbody tr th:only-of-type {\n",
       "        vertical-align: middle;\n",
       "    }\n",
       "\n",
       "    .dataframe tbody tr th {\n",
       "        vertical-align: top;\n",
       "    }\n",
       "\n",
       "    .dataframe thead th {\n",
       "        text-align: right;\n",
       "    }\n",
       "</style>\n",
       "<table border=\"1\" class=\"dataframe\">\n",
       "  <thead>\n",
       "    <tr style=\"text-align: right;\">\n",
       "      <th></th>\n",
       "      <th>status</th>\n",
       "      <th>funded_date</th>\n",
       "      <th>location_country_code</th>\n",
       "      <th>activity</th>\n",
       "      <th>description_texts_en</th>\n",
       "      <th>use</th>\n",
       "    </tr>\n",
       "  </thead>\n",
       "  <tbody>\n",
       "    <tr>\n",
       "      <th>count</th>\n",
       "      <td>282</td>\n",
       "      <td>156</td>\n",
       "      <td>272</td>\n",
       "      <td>282</td>\n",
       "      <td>266</td>\n",
       "      <td>266</td>\n",
       "    </tr>\n",
       "    <tr>\n",
       "      <th>unique</th>\n",
       "      <td>2</td>\n",
       "      <td>152</td>\n",
       "      <td>28</td>\n",
       "      <td>63</td>\n",
       "      <td>256</td>\n",
       "      <td>239</td>\n",
       "    </tr>\n",
       "    <tr>\n",
       "      <th>top</th>\n",
       "      <td>funded</td>\n",
       "      <td>2018-07-21T17:50:44Z</td>\n",
       "      <td>CD</td>\n",
       "      <td>Retail</td>\n",
       "      <td>Zawadi has been a customer of the microfinance...</td>\n",
       "      <td>to pay for a stove.</td>\n",
       "    </tr>\n",
       "    <tr>\n",
       "      <th>freq</th>\n",
       "      <td>156</td>\n",
       "      <td>3</td>\n",
       "      <td>20</td>\n",
       "      <td>31</td>\n",
       "      <td>2</td>\n",
       "      <td>6</td>\n",
       "    </tr>\n",
       "  </tbody>\n",
       "</table>\n",
       "</div>"
      ],
      "text/plain": [
       "        status           funded_date location_country_code activity  \\\n",
       "count      282                   156                   272      282   \n",
       "unique       2                   152                    28       63   \n",
       "top     funded  2018-07-21T17:50:44Z                    CD   Retail   \n",
       "freq       156                     3                    20       31   \n",
       "\n",
       "                                     description_texts_en                  use  \n",
       "count                                                 266                  266  \n",
       "unique                                                256                  239  \n",
       "top     Zawadi has been a customer of the microfinance...  to pay for a stove.  \n",
       "freq                                                    2                    6  "
      ]
     },
     "execution_count": 39,
     "metadata": {},
     "output_type": "execute_result"
    }
   ],
   "source": [
    "categorical = df.dtypes[df.dtypes == \"object\"].index\n",
    "df[categorical].describe()"
   ]
  },
  {
   "cell_type": "markdown",
   "metadata": {},
   "source": [
    "In the table above, there are 4 really useful fields: \n",
    "\n",
    "1) **count** - total number of fields populated (Not empty). \n",
    "\n",
    "2) **unique** - tells us how many different unique ways this field is populated. For example 4 in description.languages tells us there are 4 different language descriptions. \n",
    "\n",
    "3) **top** - tells us the most popular data point. For example, the top activity in this dataset is Farming which tells us most loans are in Farming.\n",
    "\n",
    "4) **freq** - tells us that how frequent the most popular category is in our dataset. For example, 'en' (English) is the language almost all descriptions (description.languages) are written in (118,306 out of 118,316)."
   ]
  },
  {
   "cell_type": "markdown",
   "metadata": {},
   "source": [
    "### Moving on\n",
    "\n",
    "In the next section, we move on to exploratory data analysis (EDA). We'll plot this data!"
   ]
  },
  {
   "cell_type": "markdown",
   "metadata": {},
   "source": [
    "<br>\n",
    "<br> \n",
    "<br>\n",
    "\n",
    "----"
   ]
  }
 ],
 "metadata": {
  "kernelspec": {
   "display_name": "Python 3",
   "language": "python",
   "name": "python3"
  },
  "language_info": {
   "codemirror_mode": {
    "name": "ipython",
    "version": 3
   },
   "file_extension": ".py",
   "mimetype": "text/x-python",
   "name": "python",
   "nbconvert_exporter": "python",
   "pygments_lexer": "ipython3",
   "version": "3.6.6"
  }
 },
 "nbformat": 4,
 "nbformat_minor": 2
}
