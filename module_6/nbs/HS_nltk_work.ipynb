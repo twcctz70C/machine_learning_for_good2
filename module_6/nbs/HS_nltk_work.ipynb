{
 "cells": [
  {
   "cell_type": "markdown",
   "metadata": {},
   "source": [
    "## Lab 6: Text Analysis and Natural Language Processing \n",
    "\n",
    "In this lab, we explore the text data provided by Kiva's API. Our primary source of textual data is the descriptive texts that borrowers submit for a loan request and are posted publicly on the Kiva website. Kiva is unique in that often, borrowers do not write descriptive requests for themselves, but fill out a questionnaire to Kiva's team of volunteer translators. We try to leverage this body of text (also called a *\"corpus\"*) to see if we can see any patterns in how an individual translator writes a description.\n",
    "\n",
    "As always, we first import our packages and read in our data below. "
   ]
  },
  {
   "cell_type": "code",
   "execution_count": 1,
   "metadata": {
    "collapsed": true
   },
   "outputs": [],
   "source": [
    "import pandas as pd\n",
    "import numpy as np\n",
    "\n",
    "# NLP-specific packages: \n",
    "import nltk\n",
    "from nltk.corpus import names\n",
    "from sklearn.feature_extraction.text import CountVectorizer\n",
    "from sklearn.feature_extraction.text import ENGLISH_STOP_WORDS\n",
    "\n",
    "\n",
    "# output of multiple commands in a cell will be output at once.\n",
    "from IPython.core.interactiveshell import InteractiveShell\n",
    "InteractiveShell.ast_node_interactivity = \"all\"\n",
    "\n",
    "# display up to 80 columns, this keeps everything visible\n",
    "pd.set_option('display.max_columns', 80)\n",
    "pd.set_option('expand_frame_repr', True)"
   ]
  },
  {
   "cell_type": "code",
   "execution_count": 2,
   "metadata": {
    "collapsed": true
   },
   "outputs": [],
   "source": [
    "#datapath = '~/intro_to_machine_learning/data'\n",
    "datapath = '~/Desktop'\n",
    "df = pd.read_csv(datapath+'/df.csv', low_memory=False)"
   ]
  },
  {
   "cell_type": "markdown",
   "metadata": {},
   "source": [
    "## Exploratory Analysis and Feature Engineering\n",
    "\n",
    "We have very limited information about translators. In fact, the only variable in our dataset relevant to translators is their name! What information can we extract from this field? \n",
    "\n",
    "In text analysis, a common simple task is how to categorize names by gender. We know, just in our daily knoweldge of English names, that names that end in -a are likely to be female, and names that end in -o are likely to be male (for example, Jenna and Pablo). Since we have both the gender data and the name data for the borrowers, let's use borrowers' data to train a classifier model that can predict the gender from a name! Then, we will apply this model to the translators names to predict their genders. \n",
    "\n",
    "Here, we use the Naive Bayes Classifier (for a comprehensive review, take a look back at Module 6.) This algorithm assigns a label (in our case, \"male\" or \"female\") using the last letter of the name provided in the data. Remember that we first need to clean our data to ensure that we are capturing the last letter of first names. "
   ]
  },
  {
   "cell_type": "code",
   "execution_count": 3,
   "metadata": {
    "collapsed": false,
    "scrolled": false
   },
   "outputs": [
    {
     "data": {
      "text/html": [
       "<div>\n",
       "<table border=\"1\" class=\"dataframe\">\n",
       "  <thead>\n",
       "    <tr style=\"text-align: right;\">\n",
       "      <th></th>\n",
       "      <th>name</th>\n",
       "      <th>gender</th>\n",
       "    </tr>\n",
       "  </thead>\n",
       "  <tbody>\n",
       "    <tr>\n",
       "      <th>116045</th>\n",
       "      <td>Anonymous</td>\n",
       "      <td>Female</td>\n",
       "    </tr>\n",
       "    <tr>\n",
       "      <th>8250</th>\n",
       "      <td>Nyaboke</td>\n",
       "      <td>Female</td>\n",
       "    </tr>\n",
       "    <tr>\n",
       "      <th>37091</th>\n",
       "      <td>Nyanchama</td>\n",
       "      <td>Female</td>\n",
       "    </tr>\n",
       "    <tr>\n",
       "      <th>10268</th>\n",
       "      <td>Kirui</td>\n",
       "      <td>Male</td>\n",
       "    </tr>\n",
       "    <tr>\n",
       "      <th>15450</th>\n",
       "      <td>Elizabeth</td>\n",
       "      <td>Female</td>\n",
       "    </tr>\n",
       "    <tr>\n",
       "      <th>86584</th>\n",
       "      <td>Fanuel</td>\n",
       "      <td>Male</td>\n",
       "    </tr>\n",
       "    <tr>\n",
       "      <th>28183</th>\n",
       "      <td>Grace</td>\n",
       "      <td>Female</td>\n",
       "    </tr>\n",
       "    <tr>\n",
       "      <th>77504</th>\n",
       "      <td>Benjamin</td>\n",
       "      <td>Male</td>\n",
       "    </tr>\n",
       "    <tr>\n",
       "      <th>89401</th>\n",
       "      <td>Hannah</td>\n",
       "      <td>Female</td>\n",
       "    </tr>\n",
       "    <tr>\n",
       "      <th>63380</th>\n",
       "      <td>Andrea</td>\n",
       "      <td>Male</td>\n",
       "    </tr>\n",
       "    <tr>\n",
       "      <th>36494</th>\n",
       "      <td>Jeremiah</td>\n",
       "      <td>Male</td>\n",
       "    </tr>\n",
       "    <tr>\n",
       "      <th>107850</th>\n",
       "      <td>Elizabeth Wambui</td>\n",
       "      <td>Female</td>\n",
       "    </tr>\n",
       "    <tr>\n",
       "      <th>88064</th>\n",
       "      <td>Franciscah</td>\n",
       "      <td>Female</td>\n",
       "    </tr>\n",
       "    <tr>\n",
       "      <th>105162</th>\n",
       "      <td>Cecilia Gakenia</td>\n",
       "      <td>Female</td>\n",
       "    </tr>\n",
       "    <tr>\n",
       "      <th>24600</th>\n",
       "      <td>Sylvia</td>\n",
       "      <td>Female</td>\n",
       "    </tr>\n",
       "  </tbody>\n",
       "</table>\n",
       "</div>"
      ],
      "text/plain": [
       "                    name  gender\n",
       "116045         Anonymous  Female\n",
       "8250             Nyaboke  Female\n",
       "37091          Nyanchama  Female\n",
       "10268              Kirui    Male\n",
       "15450          Elizabeth  Female\n",
       "86584             Fanuel    Male\n",
       "28183              Grace  Female\n",
       "77504           Benjamin    Male\n",
       "89401             Hannah  Female\n",
       "63380             Andrea    Male\n",
       "36494           Jeremiah    Male\n",
       "107850  Elizabeth Wambui  Female\n",
       "88064         Franciscah  Female\n",
       "105162   Cecilia Gakenia  Female\n",
       "24600             Sylvia  Female"
      ]
     },
     "execution_count": 3,
     "metadata": {},
     "output_type": "execute_result"
    },
    {
     "data": {
      "text/plain": [
       "105297"
      ]
     },
     "execution_count": 3,
     "metadata": {},
     "output_type": "execute_result"
    }
   ],
   "source": [
    "#create name and gender dataframe for single borrowers\n",
    "kiva_names = df[['name', 'gender', 'borrower_count']]\n",
    "kiva_names = kiva_names[['name', 'gender']][kiva_names['borrower_count'] == 1]\n",
    "\n",
    "kiva_names.sample(15)\n",
    "len(kiva_names)"
   ]
  },
  {
   "cell_type": "markdown",
   "metadata": {},
   "source": [
    "Here we see there are some instances in which the name is not an individual's first name, but rather the name of a business or a collective, or \"Anonymous\". Let's drop these out of our training dataset as they won't be helpful in determining the gender of a person. \n",
    "\n",
    "Let's also select only the first name. "
   ]
  },
  {
   "cell_type": "code",
   "execution_count": 13,
   "metadata": {
    "collapsed": false,
    "scrolled": true
   },
   "outputs": [
    {
     "data": {
      "text/plain": [
       "9794"
      ]
     },
     "execution_count": 13,
     "metadata": {},
     "output_type": "execute_result"
    },
    {
     "data": {
      "text/plain": [
       "0     Evaline\n",
       "1      Julias\n",
       "2        Rose\n",
       "3        Jane\n",
       "4       Alice\n",
       "5       Clare\n",
       "6        Mary\n",
       "7       James\n",
       "8     Jacinta\n",
       "9       Emily\n",
       "10     Fridah\n",
       "11    Charity\n",
       "12      Susan\n",
       "13      Joyce\n",
       "14     Daniel\n",
       "Name: name, dtype: object"
      ]
     },
     "execution_count": 13,
     "metadata": {},
     "output_type": "execute_result"
    }
   ],
   "source": [
    "# rm null values, anonymous, and duplicates\n",
    "\n",
    "kiva_names = kiva_names.loc[kiva_names['name'].isnull() == False]\n",
    "kiva_names = kiva_names.drop_duplicates()\n",
    "kiva_names = kiva_names[kiva_names['name'] != \"Anonymous\"]\n",
    "kiva_names['name'] = kiva_names['name'].str.split(expand=True)[0]\n",
    "\n",
    "len(kiva_names['name'])\n",
    "kiva_names['name'].head(15)"
   ]
  },
  {
   "cell_type": "markdown",
   "metadata": {},
   "source": [
    "Now let's define a function that will return the last letter of our borrowers' first names. This letter will be a **feature** we will use to attempt to predict the output feature, gender. "
   ]
  },
  {
   "cell_type": "code",
   "execution_count": 14,
   "metadata": {
    "collapsed": true
   },
   "outputs": [],
   "source": [
    "#function that returns last letter of first name \n",
    "def gender_features(name):\n",
    "    return {'last_letter': name[-1]}"
   ]
  },
  {
   "cell_type": "markdown",
   "metadata": {},
   "source": [
    "Now let's prepare to train our model. We split train and test sets as usual. "
   ]
  },
  {
   "cell_type": "code",
   "execution_count": 15,
   "metadata": {
    "collapsed": false
   },
   "outputs": [
    {
     "data": {
      "text/plain": [
       "7835"
      ]
     },
     "execution_count": 15,
     "metadata": {},
     "output_type": "execute_result"
    },
    {
     "data": {
      "text/plain": [
       "1958"
      ]
     },
     "execution_count": 15,
     "metadata": {},
     "output_type": "execute_result"
    }
   ],
   "source": [
    "# Set training-test split %\n",
    "split_pct = 0.80\n",
    "\n",
    "# Remove null and NaN values \n",
    "kiva_names = kiva_names[pd.notnull(kiva_names)]\n",
    "\n",
    "# the pandas command \"sample\" already randomizes its selection. \n",
    "kiva_names_shuffled = kiva_names.sample(frac=1)\n",
    "\n",
    "kiva_train_set = kiva_names_shuffled[:int((len(kiva_names_shuffled)*split_pct))] \n",
    "kiva_test_set = kiva_names_shuffled[int(len(kiva_names_shuffled)*split_pct+1):]  \n",
    "\n",
    "len(kiva_train_set.index)\n",
    "len(kiva_test_set.index)"
   ]
  },
  {
   "cell_type": "markdown",
   "metadata": {},
   "source": [
    "Now we prepare our data by converting the name and gender features from features into lists, so they are associated with each other. "
   ]
  },
  {
   "cell_type": "code",
   "execution_count": 16,
   "metadata": {
    "collapsed": false
   },
   "outputs": [],
   "source": [
    "kiva_female_train = kiva_train_set[kiva_train_set['gender'] == \"Female\"]\n",
    "kiva_male_train = kiva_train_set[kiva_train_set['gender'] == \"Male\"]\n",
    "kiva_female_test = kiva_test_set[kiva_test_set['gender'] == \"Female\"]\n",
    "kiva_male_test = kiva_test_set[kiva_test_set['gender'] == \"Male\"]\n",
    "\n",
    "kiva_train_feature_set = [(name, \"female\") for name in kiva_female_train['name']] + \\\n",
    "[(name, \"male\") for name in kiva_male_train['name']]\n",
    "\n",
    "kiva_test_feature_set = [(name, \"female\") for name in kiva_female_test['name']] + \\\n",
    "[(name, \"male\") for name in kiva_male_test['name']]"
   ]
  },
  {
   "cell_type": "code",
   "execution_count": 17,
   "metadata": {
    "collapsed": false
   },
   "outputs": [],
   "source": [
    "kiva_train_feature_set = [(gender_features(n), g) for (n, g) in kiva_train_feature_set]\n",
    "kiva_test_feature_set = [(gender_features(n), g) for (n, g) in kiva_test_feature_set]"
   ]
  },
  {
   "cell_type": "code",
   "execution_count": 18,
   "metadata": {
    "collapsed": true
   },
   "outputs": [],
   "source": [
    "kiva_classifier = nltk.NaiveBayesClassifier.train(kiva_train_feature_set)"
   ]
  },
  {
   "cell_type": "code",
   "execution_count": 19,
   "metadata": {
    "collapsed": false
   },
   "outputs": [
    {
     "data": {
      "text/plain": [
       "'female'"
      ]
     },
     "execution_count": 19,
     "metadata": {},
     "output_type": "execute_result"
    },
    {
     "data": {
      "text/plain": [
       "'male'"
      ]
     },
     "execution_count": 19,
     "metadata": {},
     "output_type": "execute_result"
    },
    {
     "data": {
      "text/plain": [
       "'male'"
      ]
     },
     "execution_count": 19,
     "metadata": {},
     "output_type": "execute_result"
    }
   ],
   "source": [
    "#let's test out our new classifier! \n",
    "\n",
    "kiva_classifier.classify(gender_features('Cleopatra'))\n",
    "kiva_classifier.classify(gender_features('Maximillian'))\n",
    "kiva_classifier.classify(gender_features('James'))"
   ]
  },
  {
   "cell_type": "markdown",
   "metadata": {},
   "source": [
    "It looks like it works okay for our three samples, but let's get a better sense of overall accuracy.\n",
    "\n",
    "The nltk \"accuracy()\" method returns the % of time our predictions are accurate"
   ]
  },
  {
   "cell_type": "code",
   "execution_count": 20,
   "metadata": {
    "collapsed": false,
    "scrolled": true
   },
   "outputs": [
    {
     "name": "stdout",
     "output_type": "stream",
     "text": [
      "Most Informative Features\n",
      "             last_letter = 'k'              male : female =      8.8 : 1.0\n",
      "             last_letter = 'p'              male : female =      5.9 : 1.0\n",
      "             last_letter = 'w'              male : female =      3.6 : 1.0\n",
      "             last_letter = 'x'              male : female =      3.2 : 1.0\n",
      "             last_letter = 'd'              male : female =      3.1 : 1.0\n"
     ]
    }
   ],
   "source": [
    "#Find out which features were most informative in determining outcome\n",
    "\n",
    "kiva_classifier.show_most_informative_features(5)"
   ]
  },
  {
   "cell_type": "markdown",
   "metadata": {},
   "source": [
    "Show most informative features: this returns LIKELIHOOD RATIOS. For the first entry \"f\", we see that males are more likely to have this letter as their last letter by a factor of 9.3x.\n",
    "\n",
    "But how accurate is this? Let's run this classifier on our test dataset. "
   ]
  },
  {
   "cell_type": "code",
   "execution_count": 21,
   "metadata": {
    "collapsed": false
   },
   "outputs": [
    {
     "name": "stdout",
     "output_type": "stream",
     "text": [
      "0.6828396322778345\n"
     ]
    }
   ],
   "source": [
    "#Get a sense of overall accuracy\n",
    "\n",
    "print(nltk.classify.accuracy(kiva_classifier, kiva_test_feature_set))"
   ]
  },
  {
   "cell_type": "markdown",
   "metadata": {},
   "source": [
    "This prediction is okay, but not amazing. Remember that a random generator of genders would likely get an accuracy of about 50%, so at least we are better than random. One potential hypothesis for why we are not better at classifying genders might be because this particular dataset mixes Kenyan and American first names. Whereas you might expect an American female name to end in -a and an American male name to end in -o (e.g. Jenna and Julio), these conventions do not necessarily hold for Kenyan names. \n",
    "\n",
    "Since we see that the translators have primarily American names, let's try training a model using a corpus of American names.  "
   ]
  },
  {
   "cell_type": "code",
   "execution_count": 22,
   "metadata": {
    "collapsed": false
   },
   "outputs": [
    {
     "name": "stdout",
     "output_type": "stream",
     "text": [
      "male\n",
      "female\n",
      "0.602\n",
      "Most Informative Features\n",
      "             last_letter = 'a'            female : male   =     35.5 : 1.0\n",
      "             last_letter = 'k'              male : female =     34.1 : 1.0\n",
      "             last_letter = 'f'              male : female =     15.9 : 1.0\n",
      "             last_letter = 'p'              male : female =     13.5 : 1.0\n",
      "             last_letter = 'v'              male : female =     12.7 : 1.0\n",
      "None\n"
     ]
    }
   ],
   "source": [
    "from nltk.corpus import names\n",
    "nltk_labeled_names = ([(name, \"male\") for name in names.words(\"male.txt\")] +\n",
    "                [(name, \"female\") for name in names.words(\"female.txt\")])\n",
    "\n",
    "nltk_feature_sets = [(gender_features(n), gender)\n",
    "                for (n, gender) in nltk_labeled_names]\n",
    "\n",
    "    # Divide the feature sets into training and test sets\n",
    "nltk_train_set, nltk_test_set = nltk_feature_sets[500:], nltk_feature_sets[:500]\n",
    "\n",
    "    # Train the naiveBayes classifier\n",
    "nltk_classifier = nltk.NaiveBayesClassifier.train(nltk_train_set)\n",
    "\n",
    "    # Test out the classifier with few samples outside of training set\n",
    "print(nltk_classifier.classify(gender_features(\"neo\")))  # returns male\n",
    "print(nltk_classifier.classify(gender_features(\"trinity\")))  # returns female\n",
    "\n",
    "    # Test the accuracy of the classifier on the test data\n",
    "print(nltk.classify.accuracy(nltk_classifier, nltk_test_set)) \n",
    "\n",
    "    # examine classifier to determine which feature is most effective for\n",
    "    # distinguishing the name's gender\n",
    "print(nltk_classifier.show_most_informative_features(5))"
   ]
  },
  {
   "cell_type": "markdown",
   "metadata": {},
   "source": [
    "Interestingly, our model using the Kiva data gets a slightly higher accuracy score. Let's use this model instead to try to predict translators' genders. "
   ]
  },
  {
   "cell_type": "code",
   "execution_count": 23,
   "metadata": {
    "collapsed": false
   },
   "outputs": [
    {
     "data": {
      "text/html": [
       "<div>\n",
       "<table border=\"1\" class=\"dataframe\">\n",
       "  <thead>\n",
       "    <tr style=\"text-align: right;\">\n",
       "      <th></th>\n",
       "      <th>translator_first_name</th>\n",
       "    </tr>\n",
       "  </thead>\n",
       "  <tbody>\n",
       "    <tr>\n",
       "      <th>0</th>\n",
       "      <td>Julie</td>\n",
       "    </tr>\n",
       "    <tr>\n",
       "      <th>1</th>\n",
       "      <td>Morena</td>\n",
       "    </tr>\n",
       "    <tr>\n",
       "      <th>8</th>\n",
       "      <td>Lynn</td>\n",
       "    </tr>\n",
       "    <tr>\n",
       "      <th>19</th>\n",
       "      <td>Mohammad</td>\n",
       "    </tr>\n",
       "    <tr>\n",
       "      <th>21</th>\n",
       "      <td>Cheryl</td>\n",
       "    </tr>\n",
       "  </tbody>\n",
       "</table>\n",
       "</div>"
      ],
      "text/plain": [
       "   translator_first_name\n",
       "0                  Julie\n",
       "1                 Morena\n",
       "8                   Lynn\n",
       "19              Mohammad\n",
       "21                Cheryl"
      ]
     },
     "execution_count": 23,
     "metadata": {},
     "output_type": "execute_result"
    }
   ],
   "source": [
    "translators = pd.DataFrame()\n",
    "translators['translator_first_name'] = df['translator.byline'].str.split(expand=True)[0]\n",
    "\n",
    "# rm null values and duplicates\n",
    "translators = translators.loc[translators['translator_first_name'].isnull() == False]\n",
    "translators = translators.drop_duplicates()\n",
    "\n",
    "translators.head(5)"
   ]
  },
  {
   "cell_type": "code",
   "execution_count": 24,
   "metadata": {
    "collapsed": false
   },
   "outputs": [
    {
     "data": {
      "text/plain": [
       "0     {'last_letter': 'e'}\n",
       "1     {'last_letter': 'a'}\n",
       "8     {'last_letter': 'n'}\n",
       "19    {'last_letter': 'd'}\n",
       "21    {'last_letter': 'l'}\n",
       "Name: last_letter, dtype: object"
      ]
     },
     "execution_count": 24,
     "metadata": {},
     "output_type": "execute_result"
    }
   ],
   "source": [
    "translators['last_letter'] = translators['translator_first_name'].apply(lambda x: gender_features(x))\n",
    "translators_last = translators['last_letter']\n",
    "translators_last[0:5]"
   ]
  },
  {
   "cell_type": "code",
   "execution_count": 25,
   "metadata": {
    "collapsed": false
   },
   "outputs": [
    {
     "data": {
      "text/html": [
       "<div>\n",
       "<table border=\"1\" class=\"dataframe\">\n",
       "  <thead>\n",
       "    <tr style=\"text-align: right;\">\n",
       "      <th></th>\n",
       "      <th>translator_first_name</th>\n",
       "      <th>last_letter</th>\n",
       "      <th>gender</th>\n",
       "    </tr>\n",
       "  </thead>\n",
       "  <tbody>\n",
       "    <tr>\n",
       "      <th>0</th>\n",
       "      <td>Julie</td>\n",
       "      <td>{'last_letter': 'e'}</td>\n",
       "      <td>female</td>\n",
       "    </tr>\n",
       "    <tr>\n",
       "      <th>1</th>\n",
       "      <td>Morena</td>\n",
       "      <td>{'last_letter': 'a'}</td>\n",
       "      <td>female</td>\n",
       "    </tr>\n",
       "    <tr>\n",
       "      <th>8</th>\n",
       "      <td>Lynn</td>\n",
       "      <td>{'last_letter': 'n'}</td>\n",
       "      <td>male</td>\n",
       "    </tr>\n",
       "    <tr>\n",
       "      <th>19</th>\n",
       "      <td>Mohammad</td>\n",
       "      <td>{'last_letter': 'd'}</td>\n",
       "      <td>male</td>\n",
       "    </tr>\n",
       "    <tr>\n",
       "      <th>21</th>\n",
       "      <td>Cheryl</td>\n",
       "      <td>{'last_letter': 'l'}</td>\n",
       "      <td>male</td>\n",
       "    </tr>\n",
       "    <tr>\n",
       "      <th>23</th>\n",
       "      <td>Rita</td>\n",
       "      <td>{'last_letter': 'a'}</td>\n",
       "      <td>female</td>\n",
       "    </tr>\n",
       "    <tr>\n",
       "      <th>25</th>\n",
       "      <td>Maureen</td>\n",
       "      <td>{'last_letter': 'n'}</td>\n",
       "      <td>male</td>\n",
       "    </tr>\n",
       "    <tr>\n",
       "      <th>29</th>\n",
       "      <td>Lorne</td>\n",
       "      <td>{'last_letter': 'e'}</td>\n",
       "      <td>female</td>\n",
       "    </tr>\n",
       "    <tr>\n",
       "      <th>31</th>\n",
       "      <td>Caty</td>\n",
       "      <td>{'last_letter': 'y'}</td>\n",
       "      <td>female</td>\n",
       "    </tr>\n",
       "    <tr>\n",
       "      <th>34</th>\n",
       "      <td>Trishna</td>\n",
       "      <td>{'last_letter': 'a'}</td>\n",
       "      <td>female</td>\n",
       "    </tr>\n",
       "  </tbody>\n",
       "</table>\n",
       "</div>"
      ],
      "text/plain": [
       "   translator_first_name           last_letter  gender\n",
       "0                  Julie  {'last_letter': 'e'}  female\n",
       "1                 Morena  {'last_letter': 'a'}  female\n",
       "8                   Lynn  {'last_letter': 'n'}    male\n",
       "19              Mohammad  {'last_letter': 'd'}    male\n",
       "21                Cheryl  {'last_letter': 'l'}    male\n",
       "23                  Rita  {'last_letter': 'a'}  female\n",
       "25               Maureen  {'last_letter': 'n'}    male\n",
       "29                 Lorne  {'last_letter': 'e'}  female\n",
       "31                  Caty  {'last_letter': 'y'}  female\n",
       "34               Trishna  {'last_letter': 'a'}  female"
      ]
     },
     "execution_count": 25,
     "metadata": {},
     "output_type": "execute_result"
    }
   ],
   "source": [
    "translators['gender'] = translators_last.apply(lambda x: kiva_classifier.classify(x))\n",
    "translators.head(10)"
   ]
  },
  {
   "cell_type": "markdown",
   "metadata": {},
   "source": [
    "Interesting - even in this small sample of 10, we see that the accuracy rate is far from perfect. Using our own understanding of what gender we would assign the names we see, this sample has an accuracy score of 60%. Not great.  \n",
    "\n",
    "**How can we make this prediction better? Can you think of other aspects of a name might be predictive of gender?** \n",
    "A quick test we can try is using the final two letters of a name instead of just one. Try it! \n",
    "\n",
    "We just completed our first supervised learning exercise: classification. Let's move forward in our question to finding patterns in the descriptions of the loans by translators, our unsupervised learning exercise. First we need to clean the text data: "
   ]
  },
  {
   "cell_type": "markdown",
   "metadata": {},
   "source": [
    "## Cleaning text \n",
    "\n",
    "Cleaning text is almost always required in text analysis. You have already gotten a taste of this in this notebook when you cleaned the variable \"name\" to exclude business names, and in past notebooks as well. \n",
    "\n",
    "Cleaning can be as extensive as you want it to be, depending on what serves your research question the best. Is it best to look at full sentences, so you can retain the context of words? Is it best to look at individual words? Should you remove grammar, HTML code, stopwords? \n",
    "\n",
    "Before answering this question, we have to know what's in our data. Let's turn to some exploratory analyses to determine how we should clean our data.\n",
    "\n",
    "Note that we don't run the following snippets of code on the whole dataset as text analysis is very computationally expensive and may crash your computer. Instead, we draw samples from the dataset. "
   ]
  },
  {
   "cell_type": "code",
   "execution_count": 26,
   "metadata": {
    "collapsed": false,
    "scrolled": true
   },
   "outputs": [
    {
     "name": "stdout",
     "output_type": "stream",
     "text": [
      "['Muche is a 51-year-old married woman. She has six children with ages ranging from 9 to 22 years. She describes herself to be an honest woman. She operates a food stall where she sells coconuts. She has been involved in this business for 10 years. Her business is located within a rural area and her primary customers are local residents. \\r\\r\\n\\r\\r\\nMuche describes her biggest business challenge to be shortage of coconuts to sell. She will use the Kes 15,000 loan to buy coconuts to sell. Her business goal is to expand her business within five years. She hopes that in the future, she will be a supplier of coconuts. This is her second loan with SMEP DTM after taking a loan of Kes 10,000 which she managed to repay successfully.', \"John is still married to Ann and they now have three children.  He is still running the Agrovet shop and it has been getting him income which is providing for his family's needs.  \\r\\r\\n\\r\\r\\nJohn is applying for his second loan term with KADET after repaying the previous loan successfully. He plans to use the loan to buy more plant chemicals to sell in his shop. With the anticipated profit from the business, he will educate his children.   His dreams are to improve the living standard of his family.\\r\\r\\n\", 'Violet is a 32-year-old proud mother of 8 children. She is a group leader, is often described as a very experienced farmer, and is representing her group of 10 farmers in Webuye District. <br /><br />Violet notes that since joining One Acre Fund in 2015, she has learnt a lot from its farming training. She described her harvest as good last year, but she believes she can have a better one this year by continuing to work with One Acre Fund. <br /><br />She is very excited to also be purchasing a solar light, apart from fertilizer and maize seeds, because she will now be able to have light during dark hours so that her children can study. With the profits from this season’s harvest, she plans to rent more land to cultivate.<br /><br />With this loan, Violet’s Group will be able to plant a total of 4 acres of land and purchase a total of 8 solar lights.']\n"
     ]
    }
   ],
   "source": [
    "# read all non-null text into a single df\n",
    "text_raw = df['description.texts.en'][df['description.texts.en'].isnull() == False]\n",
    "\n",
    "# take sample of 100 entries, read into list\n",
    "text_raw_abridged = text_raw.sample(100)\n",
    "text = list(map(str, text_raw_abridged))\n",
    "\n",
    "print(text[0:3]) # Each sentence is an item in the list"
   ]
  },
  {
   "cell_type": "code",
   "execution_count": 27,
   "metadata": {
    "collapsed": false
   },
   "outputs": [
    {
     "name": "stdout",
     "output_type": "stream",
     "text": [
      "['muche is a 51-year-old married woman. she has six children with ages ranging from 9 to 22 years. she describes herself to be an honest woman. she operates a food stall where she sells coconuts. she has been involved in this business for 10 years. her business is located within a rural area and her primary customers are local residents. muche describes her biggest business challenge to be shortage of coconuts to sell. she will use the kes 15,000 loan to buy coconuts to sell. her business goal is to expand her business within five years. she hopes that in the future, she will be a supplier of coconuts. this is her second loan with smep dtm after taking a loan of kes 10,000 which she managed to repay successfully.', \"john is still married to ann and they now have three children.  he is still running the agrovet shop and it has been getting him income which is providing for his family's needs.  john is applying for his second loan term with kadet after repaying the previous loan successfully. he plans to use the loan to buy more plant chemicals to sell in his shop. with the anticipated profit from the business, he will educate his children.   his dreams are to improve the living standard of his family.\", 'violet is a 32-year-old proud mother of 8 children. she is a group leader, is often described as a very experienced farmer, and is representing her group of 10 farmers in webuye district. violet notes that since joining one acre fund in 2015, she has learnt a lot from its farming training. she described her harvest as good last year, but she believes she can have a better one this year by continuing to work with one acre fund. she is very excited to also be purchasing a solar light, apart from fertilizer and maize seeds, because she will now be able to have light during dark hours so that her children can study. with the profits from this season’s harvest, she plans to rent more land to cultivate.with this loan, violet’s group will be able to plant a total of 4 acres of land and purchase a total of 8 solar lights.']\n"
     ]
    }
   ],
   "source": [
    "# Remove HTML \n",
    "text = [w.replace('\\r', '') for w in text]\n",
    "text = [w.replace('\\n', '') for w in text]\n",
    "text = [w.replace('<br />', '') for w in text]\n",
    "\n",
    "# Lowercase\n",
    "text = [w.lower() for w in text]\n",
    "\n",
    "print(text[0:3])"
   ]
  },
  {
   "cell_type": "code",
   "execution_count": 28,
   "metadata": {
    "collapsed": false
   },
   "outputs": [
    {
     "data": {
      "text/plain": [
       "[['muche',\n",
       "  'is',\n",
       "  'a',\n",
       "  '51-year-old',\n",
       "  'married',\n",
       "  'woman',\n",
       "  '.',\n",
       "  'she',\n",
       "  'has',\n",
       "  'six',\n",
       "  'children',\n",
       "  'with',\n",
       "  'ages',\n",
       "  'ranging',\n",
       "  'from',\n",
       "  '9',\n",
       "  'to',\n",
       "  '22',\n",
       "  'years',\n",
       "  '.',\n",
       "  'she',\n",
       "  'describes',\n",
       "  'herself',\n",
       "  'to',\n",
       "  'be',\n",
       "  'an',\n",
       "  'honest',\n",
       "  'woman',\n",
       "  '.',\n",
       "  'she',\n",
       "  'operates',\n",
       "  'a',\n",
       "  'food',\n",
       "  'stall',\n",
       "  'where',\n",
       "  'she',\n",
       "  'sells',\n",
       "  'coconuts',\n",
       "  '.',\n",
       "  'she',\n",
       "  'has',\n",
       "  'been',\n",
       "  'involved',\n",
       "  'in',\n",
       "  'this',\n",
       "  'business',\n",
       "  'for',\n",
       "  '10',\n",
       "  'years',\n",
       "  '.',\n",
       "  'her',\n",
       "  'business',\n",
       "  'is',\n",
       "  'located',\n",
       "  'within',\n",
       "  'a',\n",
       "  'rural',\n",
       "  'area',\n",
       "  'and',\n",
       "  'her',\n",
       "  'primary',\n",
       "  'customers',\n",
       "  'are',\n",
       "  'local',\n",
       "  'residents',\n",
       "  '.',\n",
       "  'muche',\n",
       "  'describes',\n",
       "  'her',\n",
       "  'biggest',\n",
       "  'business',\n",
       "  'challenge',\n",
       "  'to',\n",
       "  'be',\n",
       "  'shortage',\n",
       "  'of',\n",
       "  'coconuts',\n",
       "  'to',\n",
       "  'sell',\n",
       "  '.',\n",
       "  'she',\n",
       "  'will',\n",
       "  'use',\n",
       "  'the',\n",
       "  'kes',\n",
       "  '15,000',\n",
       "  'loan',\n",
       "  'to',\n",
       "  'buy',\n",
       "  'coconuts',\n",
       "  'to',\n",
       "  'sell',\n",
       "  '.',\n",
       "  'her',\n",
       "  'business',\n",
       "  'goal',\n",
       "  'is',\n",
       "  'to',\n",
       "  'expand',\n",
       "  'her',\n",
       "  'business',\n",
       "  'within',\n",
       "  'five',\n",
       "  'years',\n",
       "  '.',\n",
       "  'she',\n",
       "  'hopes',\n",
       "  'that',\n",
       "  'in',\n",
       "  'the',\n",
       "  'future',\n",
       "  ',',\n",
       "  'she',\n",
       "  'will',\n",
       "  'be',\n",
       "  'a',\n",
       "  'supplier',\n",
       "  'of',\n",
       "  'coconuts',\n",
       "  '.',\n",
       "  'this',\n",
       "  'is',\n",
       "  'her',\n",
       "  'second',\n",
       "  'loan',\n",
       "  'with',\n",
       "  'smep',\n",
       "  'dtm',\n",
       "  'after',\n",
       "  'taking',\n",
       "  'a',\n",
       "  'loan',\n",
       "  'of',\n",
       "  'kes',\n",
       "  '10,000',\n",
       "  'which',\n",
       "  'she',\n",
       "  'managed',\n",
       "  'to',\n",
       "  'repay',\n",
       "  'successfully',\n",
       "  '.'],\n",
       " ['john',\n",
       "  'is',\n",
       "  'still',\n",
       "  'married',\n",
       "  'to',\n",
       "  'ann',\n",
       "  'and',\n",
       "  'they',\n",
       "  'now',\n",
       "  'have',\n",
       "  'three',\n",
       "  'children',\n",
       "  '.',\n",
       "  'he',\n",
       "  'is',\n",
       "  'still',\n",
       "  'running',\n",
       "  'the',\n",
       "  'agrovet',\n",
       "  'shop',\n",
       "  'and',\n",
       "  'it',\n",
       "  'has',\n",
       "  'been',\n",
       "  'getting',\n",
       "  'him',\n",
       "  'income',\n",
       "  'which',\n",
       "  'is',\n",
       "  'providing',\n",
       "  'for',\n",
       "  'his',\n",
       "  'family',\n",
       "  \"'s\",\n",
       "  'needs',\n",
       "  '.',\n",
       "  'john',\n",
       "  'is',\n",
       "  'applying',\n",
       "  'for',\n",
       "  'his',\n",
       "  'second',\n",
       "  'loan',\n",
       "  'term',\n",
       "  'with',\n",
       "  'kadet',\n",
       "  'after',\n",
       "  'repaying',\n",
       "  'the',\n",
       "  'previous',\n",
       "  'loan',\n",
       "  'successfully',\n",
       "  '.',\n",
       "  'he',\n",
       "  'plans',\n",
       "  'to',\n",
       "  'use',\n",
       "  'the',\n",
       "  'loan',\n",
       "  'to',\n",
       "  'buy',\n",
       "  'more',\n",
       "  'plant',\n",
       "  'chemicals',\n",
       "  'to',\n",
       "  'sell',\n",
       "  'in',\n",
       "  'his',\n",
       "  'shop',\n",
       "  '.',\n",
       "  'with',\n",
       "  'the',\n",
       "  'anticipated',\n",
       "  'profit',\n",
       "  'from',\n",
       "  'the',\n",
       "  'business',\n",
       "  ',',\n",
       "  'he',\n",
       "  'will',\n",
       "  'educate',\n",
       "  'his',\n",
       "  'children',\n",
       "  '.',\n",
       "  'his',\n",
       "  'dreams',\n",
       "  'are',\n",
       "  'to',\n",
       "  'improve',\n",
       "  'the',\n",
       "  'living',\n",
       "  'standard',\n",
       "  'of',\n",
       "  'his',\n",
       "  'family',\n",
       "  '.']]"
      ]
     },
     "execution_count": 28,
     "metadata": {},
     "output_type": "execute_result"
    }
   ],
   "source": [
    "from nltk.tokenize import word_tokenize\n",
    "from nltk.text import Text  \n",
    "\n",
    "tokens = list(map(word_tokenize, text))\n",
    "kiva_text = nltk.Text(tokens)\n",
    "kiva_text[0:2]"
   ]
  },
  {
   "cell_type": "markdown",
   "metadata": {},
   "source": [
    "## Preliminary investigations / visualizations \n",
    "\n",
    "- Frequency\n",
    "- Concordance"
   ]
  },
  {
   "cell_type": "code",
   "execution_count": 29,
   "metadata": {
    "collapsed": false
   },
   "outputs": [],
   "source": [
    "text_corpus = list() \n",
    "\n",
    "for x in range(0, len(kiva_text)): \n",
    "    text_corpus.extend(kiva_text[x])\n",
    "\n",
    "text_corpus = nltk.Text(text_corpus)\n",
    "\n",
    "kiva_fdist = nltk.FreqDist(text_corpus)\n",
    "\n",
    "# Frequency of words - get idea of descriptions of loan requests in kenya\n",
    "# Gets at nuanced question - what do people /translators include in requests  "
   ]
  },
  {
   "cell_type": "code",
   "execution_count": 30,
   "metadata": {
    "collapsed": false
   },
   "outputs": [
    {
     "data": {
      "text/plain": [
       "[('.', 708),\n",
       " ('to', 509),\n",
       " (',', 456),\n",
       " ('and', 415),\n",
       " ('a', 400),\n",
       " ('the', 380),\n",
       " ('she', 345),\n",
       " ('her', 341),\n",
       " ('is', 334),\n",
       " ('of', 263),\n",
       " ('in', 226),\n",
       " ('business', 196),\n",
       " ('for', 180),\n",
       " ('has', 162),\n",
       " ('loan', 153),\n",
       " ('will', 133),\n",
       " ('he', 123),\n",
       " ('years', 122),\n",
       " ('with', 109),\n",
       " ('this', 104),\n",
       " ('his', 104),\n",
       " ('children', 99),\n",
       " ('from', 80),\n",
       " ('be', 75),\n",
       " ('been', 75),\n",
       " ('as', 70),\n",
       " ('that', 64),\n",
       " ('use', 61),\n",
       " ('buy', 61),\n",
       " ('married', 59),\n",
       " ('are', 58),\n",
       " ('income', 58),\n",
       " ('farming', 55),\n",
       " ('have', 52),\n",
       " ('one', 51),\n",
       " ('more', 50),\n",
       " ('also', 49),\n",
       " ('kes', 48),\n",
       " ('which', 43),\n",
       " ('family', 42),\n",
       " ('by', 39),\n",
       " ('old', 39),\n",
       " ('kenya', 39),\n",
       " ('purchase', 37),\n",
       " ('area', 33),\n",
       " ('future', 33),\n",
       " ('group', 33),\n",
       " ('hopes', 32),\n",
       " ('who', 31),\n",
       " (\"'s\", 30)]"
      ]
     },
     "execution_count": 30,
     "metadata": {},
     "output_type": "execute_result"
    }
   ],
   "source": [
    "#kiva_fdist.plot()\n",
    "#kiva_fdist.plot(50, cumulative=True)\n",
    "kiva_fdist.most_common(50)"
   ]
  },
  {
   "cell_type": "code",
   "execution_count": 201,
   "metadata": {
    "collapsed": false
   },
   "outputs": [
    {
     "name": "stdout",
     "output_type": "stream",
     "text": [
      "Displaying 25 of 39 matches:\n",
      "o open up a supermarket in the near future . sharon is a kiva borrower who des\n",
      " earn an income . she hopes that in future she will be able to educate and fee\n",
      "other items . she hopes that in the future she will be able to feed and educat\n",
      "ty products . she hopes that in the future , she will be prosperous . this is \n",
      " five years . she hopes that in the future , she will be successful in busines\n",
      "thin 5 years . he hopes that in the future , he will be able to economically s\n",
      "eams of establishing a hotel in the future . with the kes 20,000 she wants to \n",
      "ng materials . he hopes that in the future , he will have a better life . this\n",
      " in his electronic shop for sale.in future he plans to build his own building \n",
      "s children to school , save for the future , buy a cow , and invest in a busin\n",
      ", potatoes and other stock . in the future , philis aspires to become a local \n",
      "s to expand his curio shop . in the future , he wants to be able to invest mor\n",
      " living conditions and securing the future of her school-going children . help\n",
      "a wholesale shop for cereals in the future . mercyline lives in the coastal to\n",
      " opening a hardware business in the future ; her only challenge is the low sea\n",
      "ll help her save for her children’s future education . lialo is 32 years old ,\n",
      "for a bigger loan from kadet in the future to enable him to expand his retail \n",
      "ate my children.” his dream for the future is “to see my children doing better\n",
      "ctured here transporting goods . in future samwel wants to own a wholesale sho\n",
      "nt to help stabilize milk prices in future so that farmers can realize a stead\n",
      " can realize a steady income.in the future , daniel intends to purchase a piec\n",
      "ng and purchasing a big farm in the future . with the 20,000 kes she wants to \n",
      "e will be financially stable in the future . this is his first loan with smep \n",
      "le he operates his old one . in the future , kahoru hopes to buy a pickup truc\n",
      "omestic use . she hopes that in the future , she will purchase another dairy c\n"
     ]
    }
   ],
   "source": [
    "text_corpus.concordance('future')"
   ]
  },
  {
   "cell_type": "code",
   "execution_count": 144,
   "metadata": {
    "collapsed": false
   },
   "outputs": [
    {
     "name": "stdout",
     "output_type": "stream",
     "text": [
      "Displaying 4 of 4 matches:\n",
      "m the retail shop . she mentioned seasonality and debts as a major challenge in\n",
      " . she faces a major challenge of seasonality in her business . in addition , s\n",
      "ors and passersby . she mentioned seasonality and price fluctuation as her majo\n",
      " . she faces a major challenge of seasonality and perishability of her stock le\n"
     ]
    }
   ],
   "source": [
    "text_corpus.concordance('seasonality')"
   ]
  },
  {
   "cell_type": "code",
   "execution_count": 148,
   "metadata": {
    "collapsed": false
   },
   "outputs": [
    {
     "name": "stdout",
     "output_type": "stream",
     "text": [
      "Displaying 9 of 9 matches:\n",
      "o serve her clients with due to low working capital . with a kiva loan , faith \n",
      "st business challenge is inadequate working capital . she will use the kes 30,0\n",
      "business challenge to be inadequate working capital . he will use the kes 70,00\n",
      "business challenge to be inadequate working capital . he will use the kes 25,00\n",
      "st in a business . moses notes that working with one acre fund has led to many \n",
      "business challenge to be inadequate working capital . he will use the kes 20,00\n",
      "rmed for the past 10 years , she is working hard and learning good farming prac\n",
      "mptly . loise is a 34 year old hard working business lady . she is married and \n",
      "utions.esther’s favorite part about working with komaza is planting trees on he\n"
     ]
    }
   ],
   "source": [
    "text_corpus.concordance('working')"
   ]
  },
  {
   "cell_type": "markdown",
   "metadata": {},
   "source": [
    "** Placeholder for discussion on what \"similar()\" does "
   ]
  },
  {
   "cell_type": "code",
   "execution_count": 157,
   "metadata": {
    "collapsed": false
   },
   "outputs": [
    {
     "name": "stdout",
     "output_type": "stream",
     "text": [
      "loan sale business market farm area children farmer profits price\n",
      "education facilitator year family planting distribution members plant\n",
      "shop years\n"
     ]
    }
   ],
   "source": [
    "# prelim investigation: getting other words that appear in similar range of contexts \n",
    "\n",
    "text_corpus.similar(\"future\")"
   ]
  },
  {
   "cell_type": "code",
   "execution_count": 161,
   "metadata": {
    "collapsed": false
   },
   "outputs": [
    {
     "name": "stdout",
     "output_type": "stream",
     "text": [
      "years business income clients hopes which loan family kadet neighbors\n",
      "husband is farm and profits enterprise region attention home kiva\n"
     ]
    }
   ],
   "source": [
    "text_corpus.similar(\"children\")"
   ]
  },
  {
   "cell_type": "markdown",
   "metadata": {},
   "source": [
    "### Remove stop words\n",
    "\n",
    "**DEVNOTE - still in progress"
   ]
  },
  {
   "cell_type": "code",
   "execution_count": 31,
   "metadata": {
    "collapsed": false
   },
   "outputs": [
    {
     "name": "stdout",
     "output_type": "stream",
     "text": [
      "Number of stop words: 318\n"
     ]
    }
   ],
   "source": [
    "#remove stop words\n",
    "\n",
    "print(\"Number of stop words: {}\".format(len(ENGLISH_STOP_WORDS)))"
   ]
  },
  {
   "cell_type": "code",
   "execution_count": 32,
   "metadata": {
    "collapsed": false
   },
   "outputs": [
    {
     "data": {
      "text/plain": [
       "CountVectorizer(analyzer='word', binary=False, decode_error='strict',\n",
       "        dtype=<class 'numpy.int64'>, encoding='utf-8', input='content',\n",
       "        lowercase=True, max_df=1.0, max_features=None, min_df=5,\n",
       "        ngram_range=(1, 1), preprocessor=None, stop_words='english',\n",
       "        strip_accents=None, token_pattern='(?u)\\\\b\\\\w\\\\w+\\\\b',\n",
       "        tokenizer=None, vocabulary=None)"
      ]
     },
     "execution_count": 32,
     "metadata": {},
     "output_type": "execute_result"
    }
   ],
   "source": [
    "test = CountVectorizer(min_df=5, stop_words=\"english\").fit(text_corpus)\n",
    "#test = nltk.Text(test)\n",
    "\n",
    "#test_fdist = nltk.FreqDist(test)\n",
    "\n",
    "#test_fdist\n",
    "test"
   ]
  },
  {
   "cell_type": "markdown",
   "metadata": {},
   "source": [
    "### Stem words \n",
    "\n",
    "**DEVNOTE: still in progress"
   ]
  },
  {
   "cell_type": "code",
   "execution_count": 50,
   "metadata": {
    "collapsed": false
   },
   "outputs": [
    {
     "ename": "TypeError",
     "evalue": "'CountVectorizer' object does not support indexing",
     "output_type": "error",
     "traceback": [
      "\u001b[0;31m---------------------------------------------------------------------------\u001b[0m",
      "\u001b[0;31mTypeError\u001b[0m                                 Traceback (most recent call last)",
      "\u001b[0;32m<ipython-input-50-a9bb5c0ce12b>\u001b[0m in \u001b[0;36m<module>\u001b[0;34m()\u001b[0m\n\u001b[1;32m      1\u001b[0m \u001b[1;31m# Clean data - stem\u001b[0m\u001b[1;33m\u001b[0m\u001b[1;33m\u001b[0m\u001b[0m\n\u001b[1;32m      2\u001b[0m \u001b[1;31m# Porter stemmer is one of several\u001b[0m\u001b[1;33m\u001b[0m\u001b[1;33m\u001b[0m\u001b[0m\n\u001b[0;32m----> 3\u001b[0;31m \u001b[0mprint\u001b[0m\u001b[1;33m(\u001b[0m\u001b[0mnltk\u001b[0m\u001b[1;33m.\u001b[0m\u001b[0mstem\u001b[0m\u001b[1;33m.\u001b[0m\u001b[0mPorterStemmer\u001b[0m\u001b[1;33m(\u001b[0m\u001b[0mtext\u001b[0m\u001b[1;33m[\u001b[0m\u001b[1;36m1\u001b[0m\u001b[1;33m]\u001b[0m\u001b[1;33m)\u001b[0m\u001b[1;33m)\u001b[0m\u001b[1;33m\u001b[0m\u001b[0m\n\u001b[0m",
      "\u001b[0;31mTypeError\u001b[0m: 'CountVectorizer' object does not support indexing"
     ]
    }
   ],
   "source": [
    "# Clean data - stem\n",
    "# Porter stemmer is one of several\n",
    "print(nltk.stem.PorterStemmer(text[1]))"
   ]
  },
  {
   "cell_type": "markdown",
   "metadata": {},
   "source": [
    "## Algorithms: Latent Dirichlet Allocation\n",
    "\n",
    "**DEVNOTE -- still in progress\n",
    "\n",
    "Now that data is clean let's turn to our unsupervised model.\n",
    "Topic modeling \n",
    "\n",
    "Bag of words - simplest representation - note that the downside is a big loss of context (man eats bread is the same as bread eats man -- order of words not preserved.) \n",
    "\n",
    "https://rstudio-pubs-static.s3.amazonaws.com/79360_850b2a69980c4488b1db95987a24867a.html\n",
    "\n",
    "We will use gensim because this allows the model to be run on data that might exceed your machine's RAM."
   ]
  },
  {
   "cell_type": "code",
   "execution_count": 202,
   "metadata": {
    "collapsed": false,
    "scrolled": true
   },
   "outputs": [
    {
     "name": "stderr",
     "output_type": "stream",
     "text": [
      "C:\\Users\\h\\Anaconda3\\lib\\site-packages\\sklearn\\utils\\validation.py:395: DeprecationWarning: Passing 1d arrays as data is deprecated in 0.17 and will raise ValueError in 0.19. Reshape your data either using X.reshape(-1, 1) if your data has a single feature or X.reshape(1, -1) if it contains a single sample.\n",
      "  DeprecationWarning)\n"
     ]
    },
    {
     "ename": "ValueError",
     "evalue": "setting an array element with a sequence.",
     "output_type": "error",
     "traceback": [
      "\u001b[0;31m---------------------------------------------------------------------------\u001b[0m",
      "\u001b[0;31mValueError\u001b[0m                                Traceback (most recent call last)",
      "\u001b[0;32m<ipython-input-202-189d151f780e>\u001b[0m in \u001b[0;36m<module>\u001b[0;34m()\u001b[0m\n\u001b[1;32m      3\u001b[0m lda=LatentDirichletAllocation(n_topics=5, learning_method=\"batch\",\n\u001b[1;32m      4\u001b[0m                               max_iter=25, random_state=0)\n\u001b[0;32m----> 5\u001b[0;31m \u001b[0mdocument_topics\u001b[0m \u001b[1;33m=\u001b[0m \u001b[0mlda\u001b[0m\u001b[1;33m.\u001b[0m\u001b[0mfit_transform\u001b[0m\u001b[1;33m(\u001b[0m\u001b[0mkiva_corpus\u001b[0m\u001b[1;33m)\u001b[0m\u001b[1;33m\u001b[0m\u001b[0m\n\u001b[0m",
      "\u001b[0;32mC:\\Users\\h\\Anaconda3\\lib\\site-packages\\sklearn\\base.py\u001b[0m in \u001b[0;36mfit_transform\u001b[0;34m(self, X, y, **fit_params)\u001b[0m\n\u001b[1;32m    492\u001b[0m         \u001b[1;32mif\u001b[0m \u001b[0my\u001b[0m \u001b[1;32mis\u001b[0m \u001b[1;32mNone\u001b[0m\u001b[1;33m:\u001b[0m\u001b[1;33m\u001b[0m\u001b[0m\n\u001b[1;32m    493\u001b[0m             \u001b[1;31m# fit method of arity 1 (unsupervised transformation)\u001b[0m\u001b[1;33m\u001b[0m\u001b[1;33m\u001b[0m\u001b[0m\n\u001b[0;32m--> 494\u001b[0;31m             \u001b[1;32mreturn\u001b[0m \u001b[0mself\u001b[0m\u001b[1;33m.\u001b[0m\u001b[0mfit\u001b[0m\u001b[1;33m(\u001b[0m\u001b[0mX\u001b[0m\u001b[1;33m,\u001b[0m \u001b[1;33m**\u001b[0m\u001b[0mfit_params\u001b[0m\u001b[1;33m)\u001b[0m\u001b[1;33m.\u001b[0m\u001b[0mtransform\u001b[0m\u001b[1;33m(\u001b[0m\u001b[0mX\u001b[0m\u001b[1;33m)\u001b[0m\u001b[1;33m\u001b[0m\u001b[0m\n\u001b[0m\u001b[1;32m    495\u001b[0m         \u001b[1;32melse\u001b[0m\u001b[1;33m:\u001b[0m\u001b[1;33m\u001b[0m\u001b[0m\n\u001b[1;32m    496\u001b[0m             \u001b[1;31m# fit method of arity 2 (supervised transformation)\u001b[0m\u001b[1;33m\u001b[0m\u001b[1;33m\u001b[0m\u001b[0m\n",
      "\u001b[0;32mC:\\Users\\h\\Anaconda3\\lib\\site-packages\\sklearn\\decomposition\\online_lda.py\u001b[0m in \u001b[0;36mfit\u001b[0;34m(self, X, y)\u001b[0m\n\u001b[1;32m    497\u001b[0m         \"\"\"\n\u001b[1;32m    498\u001b[0m         \u001b[0mself\u001b[0m\u001b[1;33m.\u001b[0m\u001b[0m_check_params\u001b[0m\u001b[1;33m(\u001b[0m\u001b[1;33m)\u001b[0m\u001b[1;33m\u001b[0m\u001b[0m\n\u001b[0;32m--> 499\u001b[0;31m         \u001b[0mX\u001b[0m \u001b[1;33m=\u001b[0m \u001b[0mself\u001b[0m\u001b[1;33m.\u001b[0m\u001b[0m_check_non_neg_array\u001b[0m\u001b[1;33m(\u001b[0m\u001b[0mX\u001b[0m\u001b[1;33m,\u001b[0m \u001b[1;34m\"LatentDirichletAllocation.fit\"\u001b[0m\u001b[1;33m)\u001b[0m\u001b[1;33m\u001b[0m\u001b[0m\n\u001b[0m\u001b[1;32m    500\u001b[0m         \u001b[0mn_samples\u001b[0m\u001b[1;33m,\u001b[0m \u001b[0mn_features\u001b[0m \u001b[1;33m=\u001b[0m \u001b[0mX\u001b[0m\u001b[1;33m.\u001b[0m\u001b[0mshape\u001b[0m\u001b[1;33m\u001b[0m\u001b[0m\n\u001b[1;32m    501\u001b[0m         \u001b[0mmax_iter\u001b[0m \u001b[1;33m=\u001b[0m \u001b[0mself\u001b[0m\u001b[1;33m.\u001b[0m\u001b[0mmax_iter\u001b[0m\u001b[1;33m\u001b[0m\u001b[0m\n",
      "\u001b[0;32mC:\\Users\\h\\Anaconda3\\lib\\site-packages\\sklearn\\decomposition\\online_lda.py\u001b[0m in \u001b[0;36m_check_non_neg_array\u001b[0;34m(self, X, whom)\u001b[0m\n\u001b[1;32m    439\u001b[0m \u001b[1;33m\u001b[0m\u001b[0m\n\u001b[1;32m    440\u001b[0m         \"\"\"\n\u001b[0;32m--> 441\u001b[0;31m         \u001b[0mX\u001b[0m \u001b[1;33m=\u001b[0m \u001b[0mcheck_array\u001b[0m\u001b[1;33m(\u001b[0m\u001b[0mX\u001b[0m\u001b[1;33m,\u001b[0m \u001b[0maccept_sparse\u001b[0m\u001b[1;33m=\u001b[0m\u001b[1;34m'csr'\u001b[0m\u001b[1;33m)\u001b[0m\u001b[1;33m\u001b[0m\u001b[0m\n\u001b[0m\u001b[1;32m    442\u001b[0m         \u001b[0mcheck_non_negative\u001b[0m\u001b[1;33m(\u001b[0m\u001b[0mX\u001b[0m\u001b[1;33m,\u001b[0m \u001b[0mwhom\u001b[0m\u001b[1;33m)\u001b[0m\u001b[1;33m\u001b[0m\u001b[0m\n\u001b[1;32m    443\u001b[0m         \u001b[1;32mreturn\u001b[0m \u001b[0mX\u001b[0m\u001b[1;33m\u001b[0m\u001b[0m\n",
      "\u001b[0;32mC:\\Users\\h\\Anaconda3\\lib\\site-packages\\sklearn\\utils\\validation.py\u001b[0m in \u001b[0;36mcheck_array\u001b[0;34m(array, accept_sparse, dtype, order, copy, force_all_finite, ensure_2d, allow_nd, ensure_min_samples, ensure_min_features, warn_on_dtype, estimator)\u001b[0m\n\u001b[1;32m    400\u001b[0m         \u001b[1;31m# make sure we actually converted to numeric:\u001b[0m\u001b[1;33m\u001b[0m\u001b[1;33m\u001b[0m\u001b[0m\n\u001b[1;32m    401\u001b[0m         \u001b[1;32mif\u001b[0m \u001b[0mdtype_numeric\u001b[0m \u001b[1;32mand\u001b[0m \u001b[0marray\u001b[0m\u001b[1;33m.\u001b[0m\u001b[0mdtype\u001b[0m\u001b[1;33m.\u001b[0m\u001b[0mkind\u001b[0m \u001b[1;33m==\u001b[0m \u001b[1;34m\"O\"\u001b[0m\u001b[1;33m:\u001b[0m\u001b[1;33m\u001b[0m\u001b[0m\n\u001b[0;32m--> 402\u001b[0;31m             \u001b[0marray\u001b[0m \u001b[1;33m=\u001b[0m \u001b[0marray\u001b[0m\u001b[1;33m.\u001b[0m\u001b[0mastype\u001b[0m\u001b[1;33m(\u001b[0m\u001b[0mnp\u001b[0m\u001b[1;33m.\u001b[0m\u001b[0mfloat64\u001b[0m\u001b[1;33m)\u001b[0m\u001b[1;33m\u001b[0m\u001b[0m\n\u001b[0m\u001b[1;32m    403\u001b[0m         \u001b[1;32mif\u001b[0m \u001b[1;32mnot\u001b[0m \u001b[0mallow_nd\u001b[0m \u001b[1;32mand\u001b[0m \u001b[0marray\u001b[0m\u001b[1;33m.\u001b[0m\u001b[0mndim\u001b[0m \u001b[1;33m>=\u001b[0m \u001b[1;36m3\u001b[0m\u001b[1;33m:\u001b[0m\u001b[1;33m\u001b[0m\u001b[0m\n\u001b[1;32m    404\u001b[0m             raise ValueError(\"Found array with dim %d. %s expected <= 2.\"\n",
      "\u001b[0;31mValueError\u001b[0m: setting an array element with a sequence."
     ]
    }
   ],
   "source": [
    "from sklearn.decomposition import LatentDirichletAllocation\n",
    "\n",
    "\n",
    "lda=LatentDirichletAllocation(n_topics=5, learning_method=\"batch\",\n",
    "                              max_iter=25, random_state=0)\n",
    "document_topics = lda.fit_transform(kiva_corpus)"
   ]
  },
  {
   "cell_type": "code",
   "execution_count": null,
   "metadata": {
    "collapsed": true
   },
   "outputs": [],
   "source": [
    "#for each topic (a row in components_), sort features\n",
    "# invert rows with [:, ::-1] to make sort descending \n",
    "sorting = np.argsort(lda.components_, axis=1[:, ::-1])\n",
    "# get feature names from vectorizer\n",
    "feature_names = np.array(vect.get_feature_names())"
   ]
  },
  {
   "cell_type": "code",
   "execution_count": null,
   "metadata": {
    "collapsed": true
   },
   "outputs": [],
   "source": [
    "#print 10 topics\n",
    "mglearn.tools.print_topics(topics=range(10), feature_names=feature_names,\n",
    "                          sorting=sorting, topics_per_chunk=5, n_words=10)"
   ]
  },
  {
   "cell_type": "markdown",
   "metadata": {},
   "source": [
    "**DEVNOTES** \n",
    "Ideas for research: \n",
    "Try to cluster description based on who the translator is? \n",
    "Try to parse out all adjectives - see what that looks like per translator ?"
   ]
  },
  {
   "cell_type": "code",
   "execution_count": null,
   "metadata": {
    "collapsed": true
   },
   "outputs": [],
   "source": [
    "# Other clustering algos using nltk\n",
    "\n",
    "help(nltk.cluster)"
   ]
  }
 ],
 "metadata": {
  "kernelspec": {
   "display_name": "Python 3",
   "language": "python",
   "name": "python3"
  },
  "language_info": {
   "codemirror_mode": {
    "name": "ipython",
    "version": 3
   },
   "file_extension": ".py",
   "mimetype": "text/x-python",
   "name": "python",
   "nbconvert_exporter": "python",
   "pygments_lexer": "ipython3",
   "version": "3.6.0"
  }
 },
 "nbformat": 4,
 "nbformat_minor": 2
}
