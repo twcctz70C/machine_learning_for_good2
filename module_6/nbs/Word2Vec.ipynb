{
 "cells": [
  {
   "cell_type": "code",
   "execution_count": 1,
   "metadata": {
    "collapsed": true
   },
   "outputs": [],
   "source": [
    "import pandas as pd\n",
    "import numpy as np\n",
    "import re\n",
    "# NLP-specific packages: \n",
    "import nltk\n",
    "from nltk.corpus import names\n",
    "from nltk.corpus import stopwords\n",
    "from sklearn.feature_extraction.text import CountVectorizer\n",
    "import gensim\n",
    "from gensim import corpora\n",
    "from nltk.corpus import names\n",
    "from nltk.tokenize import word_tokenize\n",
    "from nltk.text import Text  \n",
    "from nltk.stem import PorterStemmer\n",
    "\n",
    "import spacy.en\n",
    "parser =  spacy.en.English()\n",
    "nlp = spacy.load('en')\n",
    "\n",
    "# output of multiple commands in a cell will be output at once.\n",
    "from IPython.core.interactiveshell import InteractiveShell\n",
    "InteractiveShell.ast_node_interactivity = \"all\"\n",
    "\n",
    "# display up to 80 columns, this keeps everything visible\n",
    "pd.set_option('display.max_columns', 80)\n",
    "pd.set_option('expand_frame_repr', True)\n"
   ]
  },
  {
   "cell_type": "code",
   "execution_count": 3,
   "metadata": {},
   "outputs": [],
   "source": [
    "# datapath = '~/intro_to_machine_learning/data'\n",
    "datapath = '../../data'\n",
    "full_df = pd.read_csv(datapath+'/df_module_3.csv', encoding='ISO-8859-1',low_memory=False)\n",
    "# Only consider the first 1000 obs\n",
    "df = full_df.iloc[:1000,:]"
   ]
  },
  {
   "cell_type": "code",
   "execution_count": 4,
   "metadata": {},
   "outputs": [],
   "source": [
    "def remove_html_code(row):\n",
    "    '''\n",
    "    Purpose: Use a regex expression to remove any html code which is surruonded by angle brackets <>\n",
    "    '''\n",
    "    return re.sub(\"\\<.*\\>\",\"\",row)\n",
    "def clean_sentences(text):\n",
    "    '''\n",
    "    Purpose:  Remove stopwords and anything that is not a letter.  Lemmatize the remaining words.\n",
    "    '''\n",
    "    text = text.lower()\n",
    "    m = re.findall(\"[^a-z]\", text)\n",
    "    if m:\n",
    "        for non_letter in m:\n",
    "            text = text.replace(non_letter,\"\")\n",
    "    \n",
    "    tok = nlp(text)\n",
    "    # If there\n",
    "    if tok and text not in stopwords.words('english'):\n",
    "        return tok[0].lemma_\n",
    "    else:\n",
    "        return ''"
   ]
  },
  {
   "cell_type": "code",
   "execution_count": 38,
   "metadata": {},
   "outputs": [
    {
     "name": "stderr",
     "output_type": "stream",
     "text": [
      "/Users/j/virtualenvs/delta/lib/python3.6/site-packages/ipykernel_launcher.py:2: SettingWithCopyWarning: \n",
      "A value is trying to be set on a copy of a slice from a DataFrame.\n",
      "Try using .loc[row_indexer,col_indexer] = value instead\n",
      "\n",
      "See the caveats in the documentation: http://pandas.pydata.org/pandas-docs/stable/indexing.html#indexing-view-versus-copy\n",
      "  \n",
      "/Users/j/virtualenvs/delta/lib/python3.6/site-packages/ipykernel_launcher.py:3: SettingWithCopyWarning: \n",
      "A value is trying to be set on a copy of a slice from a DataFrame.\n",
      "Try using .loc[row_indexer,col_indexer] = value instead\n",
      "\n",
      "See the caveats in the documentation: http://pandas.pydata.org/pandas-docs/stable/indexing.html#indexing-view-versus-copy\n",
      "  This is separate from the ipykernel package so we can avoid doing imports until\n"
     ]
    }
   ],
   "source": [
    "df['text'] = df['description.texts.en'].apply(lambda x: remove_html_code(x))\n",
    "df['clean_text'] = df['text'].apply(lambda x: [clean_sentences(y) for y in x.split()])\n",
    "df['clean_text'] = df['clean_text'].apply(lambda x: [y for y in x if y !=''])"
   ]
  },
  {
   "cell_type": "code",
   "execution_count": 39,
   "metadata": {
    "collapsed": true
   },
   "outputs": [],
   "source": [
    "# Create vectors out of the text descriptions.\n",
    "sentences = []\n",
    "for i, x in enumerate(df['clean_text']):\n",
    "    sentences.append(gensim.models.doc2vec.LabeledSentence(words = x, tags = [str(i)]))"
   ]
  },
  {
   "cell_type": "code",
   "execution_count": 40,
   "metadata": {},
   "outputs": [],
   "source": [
    "# Instantiate model.\n",
    "doc2vec_model = gensim.models.Doc2Vec(sentences,workers=8)"
   ]
  },
  {
   "cell_type": "code",
   "execution_count": 53,
   "metadata": {},
   "outputs": [],
   "source": [
    "def get_best_match_for_row(idx):\n",
    "    '''\n",
    "    Purpose: For the specified row, return the idx of the row with the most similair text description\n",
    "    '''\n",
    "    most_similair_idx = int(doc2vec_model.docvecs.most_similar(str(idx), topn=1)[0][0])\n",
    "    most_similair_text = df.loc[most_similair_idx,'description.texts.en']\n",
    "    return most_similair_idx, most_similair_text\n",
    "    "
   ]
  },
  {
   "cell_type": "markdown",
   "metadata": {},
   "source": [
    "To see how we did, we can print out the description for the first row, and print out the description for its best match."
   ]
  },
  {
   "cell_type": "code",
   "execution_count": 65,
   "metadata": {},
   "outputs": [
    {
     "data": {
      "text/plain": [
       "'Naomi is a married woman. She has five children. She operates a retail business where she sells vegetables and charcoal. She has been involved in this business for seven years. Her business is located in a good area, and her primary customers are locals. <br /><br />She will use the KES 30,000 loan to buy more stock of vegetables and charcoal. This is her first loan with SMEP Microfinance Bank.'"
      ]
     },
     "execution_count": 65,
     "metadata": {},
     "output_type": "execute_result"
    }
   ],
   "source": [
    "idx = 0\n",
    "most_similair_idx, most_similair_text = get_best_match_for_row(idx)\n",
    "# view the original\n",
    "df.loc[idx,'description.texts.en']"
   ]
  },
  {
   "cell_type": "code",
   "execution_count": 66,
   "metadata": {},
   "outputs": [
    {
     "data": {
      "text/plain": [
       "'Harrison is a married man and blessed with one child. He supports his family as well as other relatives, and he likes his business very much.<br /><br />He is a blacksmith by profession and is diligent in his work. He makes affordable cooking jikos for household use. He has been in this business for a long time and enjoys meeting the needs and serving people of his community.<br /><br />To grow his business, he is requesting a loan of KES 60,000 to buy iron sheets and clay. He will use his business profit to repay his loan in a short time. This is his third loan, and he pays well.<br /><br />His dream is to give his family a good future.'"
      ]
     },
     "execution_count": 66,
     "metadata": {},
     "output_type": "execute_result"
    }
   ],
   "source": [
    "# view the most similar\n",
    "most_similair_text"
   ]
  }
 ],
 "metadata": {
  "kernelspec": {
   "display_name": "Python 3",
   "language": "python",
   "name": "python3"
  },
  "language_info": {
   "codemirror_mode": {
    "name": "ipython",
    "version": 3
   },
   "file_extension": ".py",
   "mimetype": "text/x-python",
   "name": "python",
   "nbconvert_exporter": "python",
   "pygments_lexer": "ipython3",
   "version": "3.6.1"
  }
 },
 "nbformat": 4,
 "nbformat_minor": 2
}
