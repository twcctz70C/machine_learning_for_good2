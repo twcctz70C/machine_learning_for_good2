{
 "cells": [
  {
   "cell_type": "markdown",
   "metadata": {},
   "source": [
    "# Linear Regression: Model Assumptions\n",
    "\n",
    "<a href=\"https://drive.google.com/file/d/1EZ_xqMaYj77vErVnrQmnFOj-VBEoO5uW/view\" target=\"_blank\">\n",
    "     <img src=\"http://www.deltanalytics.org/uploads/2/6/1/4/26140521/screen-shot-2019-01-05-at-4-48-29-pm_orig.png\" width=\"500\" height=\"400\">\n",
    "</a>\n",
    "\n",
    "Linear Regression attempts to predict a continuous outcome feature (**Y**) from one or more explanatory features (**X**).  \n",
    "\n",
    "$$Y = \\beta_0 + \\beta_1 X$$\n",
    "\n",
    "$\\beta_0$ is called the intercept term, and represents the expected mean value of Y when all explanatory features equal 0.  \n",
    "$\\beta_1$ is called a beta coefficient, and represents the expected change in the value of Y that results from a one unit change in X.  \n",
    "\n",
    "Below is an example of a linear regression with only one explanatory feature. The red dots indicate the actual data, and the blue line represents the predicted **Y** values based on the provided **X** values.  $\\beta_0$ appears to equals 0, and $\\beta_1$ appears to equal 2.\n",
    "<img src=\"./images/LinearRegression.png\" alt=\"Go Find Missing Image\" style=\"width: 500px;height=500\"/>\n",
    "\n",
    "In this lab, we will attempt to construct a linear regression in order to answer a question that Kiva borrowers may have: \n",
    "\n",
    "**What impacts the loan amount requested? **\n",
    "\n",
    "To ensure that our linear regressor is appropriate and interpretable, we will have to confirm the following assumptions are not violated:\n",
    "\n",
    "1. Linear relationship between x and y - We can draw a line or curve within the relationship\n",
    "2. Normality - A normal curve, a histogram of the values should look like a bell\n",
    "3. Minimal multicollinearity (if multiple variables) - Each variable should introduce **new** information\n",
    "4. No autocorrelation - No relationship **within** a variable depending on the time/magnitude scale\n",
    "5. Homoscedasticity - The variation in the error of the model should not be increasing as the variation in the data increases\n",
    "\n",
    "- Additional rule of thumb: at least 20 observations per independent variable in the analysis\n",
    "  \n",
    "If these assumptions are violated, then the predictive power of the linear regression is still valid but the information concerning the most important features is not. It is important to keep this in mind!\n",
    "\n",
    "\n",
    "Here's a look ahead at what we'll be doing in these series of notebooks: \n",
    "\n",
    "3.1 Load Data and Build Univariate Linear Regression\n",
    "\n",
    "3.2 Check Assumptions  \n",
    "\n",
    "3.3 Build Multivariate Linear Regression \n",
    "\n",
    "3.4 Polynomial Regression\n",
    "\n",
    "3.5 Regularization\n",
    "\n"
   ]
  },
  {
   "cell_type": "markdown",
   "metadata": {},
   "source": [
    "# Import packages\n",
    "-----"
   ]
  },
  {
   "cell_type": "code",
   "execution_count": 1,
   "metadata": {},
   "outputs": [],
   "source": [
    "import numpy as np\n",
    "import pandas as pd\n",
    "\n",
    "# Packages for checking assumptions\n",
    "import matplotlib.pyplot as plt\n",
    "%matplotlib inline\n",
    "from pandas.plotting import scatter_matrix\n",
    "import seaborn as sns\n",
    "plt.rcParams['figure.figsize'] = (12, 8)\n",
    "sns.set()\n",
    "sns.set(font_scale=1.5)\n",
    "\n",
    "# Packages for checking assumptions\n",
    "from scipy import stats as stats\n",
    "from sklearn.model_selection import train_test_split, cross_val_score\n",
    "from sklearn.linear_model import LinearRegression\n",
    "from sklearn.metrics import mean_squared_error, make_scorer\n",
    "import statsmodels.api as sm\n",
    "\n",
    "# Set jupyter notebook preferences\n",
    "# the command below means that the output of multiple commands in a cell will be output at once.\n",
    "from IPython.core.interactiveshell import InteractiveShell\n",
    "InteractiveShell.ast_node_interactivity = \"all\"\n",
    "# the command below tells jupyter to display up to 100 columns, this keeps everything visible\n",
    "pd.set_option('display.max_columns', 100)\n",
    "pd.set_option('expand_frame_repr', True)"
   ]
  },
  {
   "cell_type": "markdown",
   "metadata": {},
   "source": [
    "2) Load Data\n",
    "---"
   ]
  },
  {
   "cell_type": "code",
   "execution_count": 2,
   "metadata": {},
   "outputs": [],
   "source": [
    "# Load data that is locally saved\n",
    "path = './machine_learning_for_good_data/'\n",
    "filename = 'loans.csv'\n",
    "df = pd.read_csv(path+filename)"
   ]
  },
  {
   "cell_type": "code",
   "execution_count": 3,
   "metadata": {},
   "outputs": [
    {
     "name": "stdout",
     "output_type": "stream",
     "text": [
      "fatal: destination path 'machine_learning_for_good_data' already exists and is not an empty directory.\r\n"
     ]
    }
   ],
   "source": [
    "# Alternatively, if you are using Colab, get the data by git cloning the Delta Analytics repository\n",
    "!git clone https://github.com/DeltaAnalytics/machine_learning_for_good_data\n",
    "df = pd.read_csv(\"machine_learning_for_good_data/loans.csv\")"
   ]
  },
  {
   "cell_type": "code",
   "execution_count": 4,
   "metadata": {},
   "outputs": [],
   "source": [
    "pd.options.mode.chained_assignment = None  # default='warn'\n",
    "\n",
    "# Define our dependent variable\n",
    "y_column = 'loan_amount'\n",
    "y = df[y_column]\n",
    "# Define  our independent variables\n",
    "x_columns = ['lender_count']\n",
    "X = df[x_columns]\n",
    "# Add an intercept term to the independent variables. This is needed in order to include the constant term from\n",
    "# linear regression equation.\n",
    "X['intercept'] = 1\n",
    "# Split our data into training and test data sets\n",
    "X_train, X_test, y_train, y_test = train_test_split(X, y, test_size=0.2, random_state=42)"
   ]
  },
  {
   "cell_type": "code",
   "execution_count": 5,
   "metadata": {},
   "outputs": [
    {
     "name": "stdout",
     "output_type": "stream",
     "text": [
      "                            OLS Regression Results                            \n",
      "==============================================================================\n",
      "Dep. Variable:            loan_amount   R-squared:                       0.811\n",
      "Model:                            OLS   Adj. R-squared:                  0.811\n",
      "Method:                 Least Squares   F-statistic:                 2.059e+04\n",
      "Date:                Fri, 20 Mar 2020   Prob (F-statistic):               0.00\n",
      "Time:                        22:02:00   Log-Likelihood:                -40440.\n",
      "No. Observations:                4815   AIC:                         8.088e+04\n",
      "Df Residuals:                    4813   BIC:                         8.090e+04\n",
      "Df Model:                           1                                         \n",
      "Covariance Type:            nonrobust                                         \n",
      "================================================================================\n",
      "                   coef    std err          t      P>|t|      [0.025      0.975]\n",
      "--------------------------------------------------------------------------------\n",
      "lender_count    31.2180      0.218    143.497      0.000      30.791      31.644\n",
      "intercept      385.4127     17.292     22.289      0.000     351.513     419.312\n",
      "==============================================================================\n",
      "Omnibus:                     3777.706   Durbin-Watson:                   2.006\n",
      "Prob(Omnibus):                  0.000   Jarque-Bera (JB):            70703.467\n",
      "Skew:                           3.735   Prob(JB):                         0.00\n",
      "Kurtosis:                      20.222   Cond. No.                         88.7\n",
      "==============================================================================\n",
      "\n",
      "Warnings:\n",
      "[1] Standard Errors assume that the covariance matrix of the errors is correctly specified.\n"
     ]
    }
   ],
   "source": [
    "model = sm.OLS(endog=y_train, exog=X_train).fit()\n",
    "print(model.summary())"
   ]
  },
  {
   "cell_type": "markdown",
   "metadata": {},
   "source": [
    "-----\n",
    "Linear Regression: Check Assumptions\n",
    "=====\n",
    "\n",
    "In order for linear regression to be an appropriate model, the following assumptions must be confirmed:\n",
    "\n",
    "1. Linear relationship between x and y\n",
    "1. Normality (not required, but good to have)\n",
    "1. Minimal multicollinearity \n",
    "1. No autocorrelation\n",
    "1. Homoscedasticity "
   ]
  },
  {
   "cell_type": "markdown",
   "metadata": {},
   "source": [
    "### Linearity\n",
    "First, as the name implies, linear regression requires the underlying relationship between the independent (x) and dependent (y) variables to be linear. This means that a line drawn through the points can capture the relationship, with some degree of error. \n",
    "\n",
    "We must also be aware of outliers, which can throw off a linear relationship. \n",
    "\n",
    "The most straightforward check of linearity is to make scatter plots of the variables chosen."
   ]
  },
  {
   "cell_type": "code",
   "execution_count": 6,
   "metadata": {},
   "outputs": [
    {
     "data": {
      "image/png": "[encoded data removed]",
      "text/plain": [
       "<Figure size 432x288 with 1 Axes>"
      ]
     },
     "metadata": {
      "needs_background": "light"
     },
     "output_type": "display_data"
    }
   ],
   "source": [
    "ax = sns.regplot(x=x_columns[0], y=y_column, data=df, fit_reg=False);\n",
    "ax.set_title(f'Scatter plot of {x_columns[0].replace(\"_\", \" \").title()} vs requested {y_column.replace(\"_\", \" \").title()}');"
   ]
  },
  {
   "cell_type": "markdown",
   "metadata": {},
   "source": [
    "What is the general trend?\n",
    "\n",
    "Are there outliners?"
   ]
  },
  {
   "cell_type": "markdown",
   "metadata": {},
   "source": [
    "-----\n",
    "Normality\n",
    "-----\n",
    "\n",
    "Normality means the distribution of values falls into a normal distribution. \n",
    "\n",
    "The results summary printed above gives us an indication of whether or not our data is normally distributed. If the **Prob(JB)** number is less than 0.05, this means that we can reject the Null hypothesis that the data distribution is normal. If this is the case, we need to look into our model more closely see where this is coming from and how/if we can rectify the issue.\n",
    "\n",
    "We can visualize the normality of the data by making histograms or Q-Q (quantile-quantile) plots.\n",
    "\n",
    "First we will look at a histogram for the dependent variable, loan_amount. From this, we can see that the dependent variable is skewed to the left."
   ]
  },
  {
   "cell_type": "code",
   "execution_count": 7,
   "metadata": {},
   "outputs": [
    {
     "data": {
      "image/png": "[encoded data removed]",
      "text/plain": [
       "<Figure size 432x288 with 1 Axes>"
      ]
     },
     "metadata": {
      "needs_background": "light"
     },
     "output_type": "display_data"
    }
   ],
   "source": [
    "sns.distplot(df[df[y_column]<=6000][y_column], bins=range(0, 6000, 100), kde=False, norm_hist=False);"
   ]
  },
  {
   "cell_type": "markdown",
   "metadata": {},
   "source": [
    "Furthermore, we can create a quantile-quantile plot to see how the distribution of data compares to that expected from a normal distribution. In these plots, the quantiles from the measured data are compared to that of a normal distribution and if the measured data is normal, we expect to see a straight line.\n",
    "\n",
    "The plot below clearly shows that the dependent variable is not normal and therefore we need to investigate the skew further to see if the data required transformation. "
   ]
  },
  {
   "cell_type": "code",
   "execution_count": 8,
   "metadata": {},
   "outputs": [
    {
     "data": {
      "image/png": "[encoded data removed]",
      "text/plain": [
       "<Figure size 864x576 with 1 Axes>"
      ]
     },
     "metadata": {
      "needs_background": "light"
     },
     "output_type": "display_data"
    }
   ],
   "source": [
    "# Convert dependent variable to a numpy and standardise the data\n",
    "y = np.asarray(df[y_column])\n",
    "standardised_y = (y-np.mean(y))/np.std(y)\n",
    "# create a normal Q-Q plot using the stats module probplot\n",
    "plt.figure(figsize=(12,8))\n",
    "stats.probplot(standardised_y, dist=\"norm\", plot=plt)\n",
    "plt.title(\"Normal Q-Q plot\")\n",
    "plt.show();"
   ]
  },
  {
   "cell_type": "markdown",
   "metadata": {},
   "source": [
    "If a variable is not normal, it may be adjusted by a [non-linear transformation](https://stats.stackexchange.com/questions/298/in-linear-regression-when-is-it-appropriate-to-use-the-log-of-an-independent-va).\n",
    "\n",
    "We already know our data is skewed by outliers, however before we begin modeling let's quantify the degree to which it is skewed.\n",
    "\n",
    "[Scipy's stats package](https://docs.scipy.org/doc/scipy-0.19.0/reference/generated/scipy.stats.skew.html) allows you to conduct a skew test. A normally distributed dataset would return about 0. A skewness value of greater than 0 means there are more loans in the left tail of the distribution. Typically, a skew score of +-5 is deemed acceptable.\n",
    "\n",
    "\n",
    "[Multivariate normality](https://en.wikipedia.org/wiki/Multivariate_normal_distribution) is a generalization of one-dimensional, or univariate, normality, to more dimensions. For a regression using multiple independent (x) variables, this means checking that all of the linear combinations of variables used are normal. \n"
   ]
  },
  {
   "cell_type": "code",
   "execution_count": 9,
   "metadata": {},
   "outputs": [
    {
     "name": "stdout",
     "output_type": "stream",
     "text": [
      "11.81\n"
     ]
    }
   ],
   "source": [
    "print(f\"{stats.skew(df[y_column], axis=None):.4}\")"
   ]
  },
  {
   "cell_type": "markdown",
   "metadata": {},
   "source": [
    "We can continue with the linear regression model for predicting the loan_amount however, we should be aware that our beta-coefficients may be __not__ be reliable due to the skewness of the data. \n",
    "\n",
    "__If you face a dataset with more severely skewed data, we describe a way to address this in the appendix below.__"
   ]
  },
  {
   "cell_type": "markdown",
   "metadata": {},
   "source": [
    "### Multicollinearity\n",
    "\n",
    "Multicollinearity is only applicable to multivariate regression, and means that two or more explanatory features are highly correlated. Think of these features as contributing the same information to the model, we aren't learning anything new having both of them versus only having one of them!\n",
    "\n",
    "This makes it difficult for the model to try to differentiate between each feature's influence on the explanatory feature.\n",
    "\n",
    "Again, the summary table from the linear regression can help us again. There is a statistic in the bottom right hand corner known as the **condition number**. This indicates the severity and impact of multicolinearity in the regression and as a rule fo thumb, values over 30 are an issue. \n",
    "\n",
    "One way to check this is by examining the correlation matrix and making sure none of the variables correlate to 1. Numpy's Corrcoef function returns a matrix of Pearson correlation coefficients. \n",
    "\n",
    "Read more about Numpy's Corrcoef [here](https://docs.scipy.org/doc/numpy-1.10.1/reference/generated/numpy.corrcoef.html)."
   ]
  },
  {
   "cell_type": "markdown",
   "metadata": {},
   "source": [
    "It would take a long time for us to test each and every relationship between two sets of variables, so let's create a correlation matrix that lets us visualize every correlation in a dataset using Pandas.\n",
    "\n",
    "Keep in mind, strong correlations are both those that are close to +1 **and -1**!"
   ]
  },
  {
   "cell_type": "code",
   "execution_count": 10,
   "metadata": {},
   "outputs": [
    {
     "data": {
      "text/html": [
       "<div>\n",
       "<style scoped>\n",
       "    .dataframe tbody tr th:only-of-type {\n",
       "        vertical-align: middle;\n",
       "    }\n",
       "\n",
       "    .dataframe tbody tr th {\n",
       "        vertical-align: top;\n",
       "    }\n",
       "\n",
       "    .dataframe thead th {\n",
       "        text-align: right;\n",
       "    }\n",
       "</style>\n",
       "<table border=\"1\" class=\"dataframe\">\n",
       "  <thead>\n",
       "    <tr style=\"text-align: right;\">\n",
       "      <th></th>\n",
       "      <th>id_number</th>\n",
       "      <th>loan_amount</th>\n",
       "      <th>lender_count</th>\n",
       "      <th>funded_amount</th>\n",
       "      <th>repayment_term</th>\n",
       "    </tr>\n",
       "  </thead>\n",
       "  <tbody>\n",
       "    <tr>\n",
       "      <td>id_number</td>\n",
       "      <td>1.000000</td>\n",
       "      <td>-0.099763</td>\n",
       "      <td>-0.131498</td>\n",
       "      <td>-0.138011</td>\n",
       "      <td>-0.087624</td>\n",
       "    </tr>\n",
       "    <tr>\n",
       "      <td>loan_amount</td>\n",
       "      <td>-0.099763</td>\n",
       "      <td>1.000000</td>\n",
       "      <td>0.904552</td>\n",
       "      <td>0.958558</td>\n",
       "      <td>-0.112723</td>\n",
       "    </tr>\n",
       "    <tr>\n",
       "      <td>lender_count</td>\n",
       "      <td>-0.131498</td>\n",
       "      <td>0.904552</td>\n",
       "      <td>1.000000</td>\n",
       "      <td>0.939418</td>\n",
       "      <td>-0.049583</td>\n",
       "    </tr>\n",
       "    <tr>\n",
       "      <td>funded_amount</td>\n",
       "      <td>-0.138011</td>\n",
       "      <td>0.958558</td>\n",
       "      <td>0.939418</td>\n",
       "      <td>1.000000</td>\n",
       "      <td>-0.100966</td>\n",
       "    </tr>\n",
       "    <tr>\n",
       "      <td>repayment_term</td>\n",
       "      <td>-0.087624</td>\n",
       "      <td>-0.112723</td>\n",
       "      <td>-0.049583</td>\n",
       "      <td>-0.100966</td>\n",
       "      <td>1.000000</td>\n",
       "    </tr>\n",
       "  </tbody>\n",
       "</table>\n",
       "</div>"
      ],
      "text/plain": [
       "                id_number  loan_amount  lender_count  funded_amount  \\\n",
       "id_number        1.000000    -0.099763     -0.131498      -0.138011   \n",
       "loan_amount     -0.099763     1.000000      0.904552       0.958558   \n",
       "lender_count    -0.131498     0.904552      1.000000       0.939418   \n",
       "funded_amount   -0.138011     0.958558      0.939418       1.000000   \n",
       "repayment_term  -0.087624    -0.112723     -0.049583      -0.100966   \n",
       "\n",
       "                repayment_term  \n",
       "id_number            -0.087624  \n",
       "loan_amount          -0.112723  \n",
       "lender_count         -0.049583  \n",
       "funded_amount        -0.100966  \n",
       "repayment_term        1.000000  "
      ]
     },
     "execution_count": 10,
     "metadata": {},
     "output_type": "execute_result"
    }
   ],
   "source": [
    "df_corr_tbl = df[df.columns]\n",
    "df_corr_tbl.corr()"
   ]
  },
  {
   "cell_type": "code",
   "execution_count": 11,
   "metadata": {},
   "outputs": [
    {
     "name": "stdout",
     "output_type": "stream",
     "text": [
      "id_number\n",
      "loan_amount\n",
      "lender_count\n",
      "status\n",
      "funded_date\n",
      "funded_amount\n",
      "repayment_term\n",
      "location_country_code\n",
      "sector\n",
      "description\n",
      "use\n"
     ]
    }
   ],
   "source": [
    "for col in df.columns:\n",
    "    print(col)"
   ]
  },
  {
   "cell_type": "markdown",
   "metadata": {},
   "source": [
    "Using the correlation table above, we can see that funded_amount is highly correlated with loan_amount and lender_count.  So to avoid multicollinearity, we probably do not want to include funded_amount in any multivariate regression model."
   ]
  },
  {
   "cell_type": "markdown",
   "metadata": {},
   "source": [
    "### No autocorrelation\n",
    "\n",
    "A variable has autocorrelation when values in the series correlate with others in the same series, separated by a given interval.\n",
    "\n",
    "In terms of the residuals, this means checking that residuals are independent.\n",
    "\n",
    "A check for this is the **Durbin-Watson test**. The durbin-watson statistic ranges from 0 to 4 with values around 2 suggesting no autocorrelation. Values < 2 suggest positive correlation and values > 2 suggest negative correlation.\n",
    "\n",
    "In the summary table above, the Durbin-Watson test has a value of approximately 2 so we can be happy that there is no autocorrelation."
   ]
  },
  {
   "cell_type": "markdown",
   "metadata": {},
   "source": [
    "### Homoscedasticity\n",
    "\n",
    "Homoscedasticity is a statistical term that means that the spread of the residuals are equal across the regression line. This assumption means that the variance around the regression line is the same for all values of the predictor variable (X). \n",
    "\n",
    "Again, the summary table from the linear regression allows us to evaluate whether the model has homoscedasticity. If **Prob(Omnibus)** number is less than 0.05 we can reject the Null Hypothesis that the residuals are distributed uniformly and normally around zero.\n",
    "\n",
    "In the case above, the Prob(Omnibus) is 0.00 which clearly indicates that the model does not have homoscedasticity.\n",
    "\n",
    "This can be seen the plot below, the distribution of the residuals are not consistent across the range of data. When x is smaller, the residual is higher, and when x is larger, the residual is smaller.  Therefore, we need to work on our regression model more!"
   ]
  },
  {
   "cell_type": "code",
   "execution_count": 12,
   "metadata": {},
   "outputs": [
    {
     "data": {
      "text/plain": [
       "[Text(0, 0.5, 'Residual'), Text(0.5, 0, 'X')]"
      ]
     },
     "execution_count": 12,
     "metadata": {},
     "output_type": "execute_result"
    },
    {
     "data": {
      "text/plain": [
       "[(0, 10000)]"
      ]
     },
     "execution_count": 12,
     "metadata": {},
     "output_type": "execute_result"
    },
    {
     "data": {
      "image/png": "[encoded data removed]",
      "text/plain": [
       "<Figure size 432x288 with 1 Axes>"
      ]
     },
     "metadata": {
      "needs_background": "light"
     },
     "output_type": "display_data"
    }
   ],
   "source": [
    "y_pred = model.predict(X_train)\n",
    "ax = sns.regplot(x=y_pred, y=(y_train-y_pred), fit_reg=False)\n",
    "ax.set(xlabel='X', ylabel='Residual')\n",
    "ax.set(xlim=(0, 10000))"
   ]
  },
  {
   "cell_type": "markdown",
   "metadata": {},
   "source": [
    "Summary\n",
    "----\n",
    "\n",
    "To recap the finding from the linear regression assumptions check above:\n",
    "\n",
    "1. Linear relationship between x and y\n",
    "  - For the independent variable 'lender_count', there is multi-trend linear relationship\n",
    "1. Normality\n",
    "  - The dependent variable data is not normally distributed and is left-hand skewed. \n",
    "1. Minimal multicollinearity \n",
    "  - There is multicollinearity between funded_amount and some other predictors, so we should keep that in mind when we     perform a multivariate regression.\n",
    "1. No autocorrelation\n",
    "  - Durbin-Watson test indicates no autocorrelation\n",
    "1. Homoscedasticity \n",
    "  - With the single independent feature of lender_count, the model is not homoscedastic. We will build upon our model and try again.\n"
   ]
  },
  {
   "cell_type": "markdown",
   "metadata": {},
   "source": [
    "<br>\n",
    "<br> \n",
    "<br>\n",
    "\n",
    "----"
   ]
  }
 ],
 "metadata": {
  "kernelspec": {
   "display_name": "Python 3",
   "language": "python",
   "name": "python3"
  },
  "language_info": {
   "codemirror_mode": {
    "name": "ipython",
    "version": 3
   },
   "file_extension": ".py",
   "mimetype": "text/x-python",
   "name": "python",
   "nbconvert_exporter": "python",
   "pygments_lexer": "ipython3",
   "version": "3.7.4"
  }
 },
 "nbformat": 4,
 "nbformat_minor": 2
}
