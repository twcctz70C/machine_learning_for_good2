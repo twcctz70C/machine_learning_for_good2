{
 "cells": [
  {
   "cell_type": "markdown",
   "metadata": {},
   "source": [
    "Build Multivariate Regression\n",
    "====\n",
    "\n",
    "The first regression we built was a univariate regression meaning we had one independant variable, which in this case was 'borrower_count'. Our EDA demonstrated that in general, the more borrowers the higher the loan amount. \n",
    "\n",
    "However, if we look at a scatter plot of the loan_amount vs borrower_count below, we can see that there are at least two distinct trends and the majority of multi borrower loans are with One Acre Fund. To look at these trends more closely, we can look at the same plot for all the unique top_partners"
   ]
  },
  {
   "cell_type": "code",
   "execution_count": 1,
   "metadata": {
    "collapsed": true
   },
   "outputs": [],
   "source": [
    "# Load python packages\n",
    "\n",
    "import matplotlib.pyplot as plt\n",
    "import numpy as np\n",
    "import pandas as pd\n",
    "from pandas.plotting import scatter_matrix\n",
    "import seaborn as sns\n",
    "\n",
    "# packages for checking assumptions\n",
    "from scipy import stats as stats\n",
    "from sklearn.model_selection import train_test_split, cross_val_score\n",
    "from sklearn.linear_model import LinearRegression\n",
    "from sklearn.metrics import mean_squared_error, make_scorer\n",
    "import statsmodels.formula.api as sm"
   ]
  },
  {
   "cell_type": "code",
   "execution_count": 2,
   "metadata": {},
   "outputs": [
    {
     "name": "stdout",
     "output_type": "stream",
     "text": [
      "                            OLS Regression Results                            \n",
      "==============================================================================\n",
      "Dep. Variable:            loan_amount   R-squared:                       0.132\n",
      "Model:                            OLS   Adj. R-squared:                  0.132\n",
      "Method:                 Least Squares   F-statistic:                 1.432e+04\n",
      "Date:                Wed, 13 Dec 2017   Prob (F-statistic):               0.00\n",
      "Time:                        18:56:02   Log-Likelihood:            -6.9885e+05\n",
      "No. Observations:               94559   AIC:                         1.398e+06\n",
      "Df Residuals:                   94557   BIC:                         1.398e+06\n",
      "Df Model:                           1                                         \n",
      "Covariance Type:            nonrobust                                         \n",
      "==================================================================================\n",
      "                     coef    std err          t      P>|t|      [0.025      0.975]\n",
      "----------------------------------------------------------------------------------\n",
      "borrower_count    50.4097      0.421    119.673      0.000      49.584      51.235\n",
      "cnst             384.2879      1.512    254.137      0.000     381.324     387.252\n",
      "==============================================================================\n",
      "Omnibus:                   103955.435   Durbin-Watson:                   1.998\n",
      "Prob(Omnibus):                  0.000   Jarque-Bera (JB):         11542020.366\n",
      "Skew:                           5.585   Prob(JB):                         0.00\n",
      "Kurtosis:                      55.960   Cond. No.                         4.36\n",
      "==============================================================================\n",
      "\n",
      "Warnings:\n",
      "[1] Standard Errors assume that the covariance matrix of the errors is correctly specified.\n"
     ]
    },
    {
     "name": "stderr",
     "output_type": "stream",
     "text": [
      "/Users/brian/anaconda3/envs/good/lib/python3.6/site-packages/ipykernel_launcher.py:11: SettingWithCopyWarning: \n",
      "A value is trying to be set on a copy of a slice from a DataFrame.\n",
      "Try using .loc[row_indexer,col_indexer] = value instead\n",
      "\n",
      "See the caveats in the documentation: http://pandas.pydata.org/pandas-docs/stable/indexing.html#indexing-view-versus-copy\n",
      "  # This is added back by InteractiveShellApp.init_path()\n"
     ]
    }
   ],
   "source": [
    "# Code from previous notebook\n",
    "# Load Data\n",
    "data_path = '../data/'\n",
    "df = pd.read_csv(data_path+'df_abridged.csv', low_memory=False)\n",
    "# Define our dependant variable\n",
    "y = df['loan_amount']\n",
    "# Define  our independant variables\n",
    "X = df[['borrower_count']]\n",
    "# Add an intercept term to the independant variables. This is needed in order to include the constant term from\n",
    "# linear regression equation.\n",
    "X['cnst'] = 1\n",
    "# Split our data into training and test data sets\n",
    "X_train, X_test, y_train, y_test = train_test_split(X, y, test_size=0.2, random_state=42)\n",
    "model0 = sm.OLS(endog = y_train,exog = X_train).fit()\n",
    "print(model0.summary())"
   ]
  },
  {
   "cell_type": "code",
   "execution_count": 3,
   "metadata": {
    "collapsed": true
   },
   "outputs": [],
   "source": [
    "# TODO: Replace wit Seaborn \n",
    "# ggplot(df, aes(x='borrower_count', y='loan_amount',color='top_partners')) + geom_point()"
   ]
  },
  {
   "cell_type": "code",
   "execution_count": 4,
   "metadata": {
    "collapsed": true
   },
   "outputs": [],
   "source": [
    "# TODO: Replace wit Seaborn \n",
    "# for partner in df['top_partners'].unique():\n",
    "#     ggplot(df[df['top_partners']==partner], aes(x='borrower_count', y='loan_amount',color='sector')) + geom_point() + ggtitle(partner)"
   ]
  },
  {
   "cell_type": "markdown",
   "metadata": {},
   "source": [
    "A stronng linear relationship between borrower_count and loan_amount only exists for the following top_partners:\n",
    "- Hand in Hand Eastern Africa\n",
    "- One Acre Fund\n",
    "\n",
    "For One Acre Fund, the trend is very interesting. There are two very dictinct linear trends. Further investigation shows that this is temporal effect. One Acre Fund loans between November 2013 and April 2014 were generally higher than on average:"
   ]
  },
  {
   "cell_type": "code",
   "execution_count": 5,
   "metadata": {
    "collapsed": true
   },
   "outputs": [],
   "source": [
    "# Create condition statements to filter for One Acre Fund loan during the periods of interest\n",
    "condition_high = (df['top_partners']=='One Acre Fund')&(((df.posted_year == 2013.0) & (df.posted_month > 10))|((df.posted_year ==2014.0)&(df.posted_month < 5)))\n",
    "condition_low = (df['top_partners']=='One Acre Fund')&(~((df.posted_year == 2013.0) & (df.posted_month > 10)))&(~((df.posted_year ==2014.0)&(df.posted_month < 5)))\n",
    "\n",
    "# Filter dataframe for loans of interest\n",
    "df_oaf_high = df[condition_high]\n",
    "df_oaf_low = df[condition_low]\n"
   ]
  },
  {
   "cell_type": "code",
   "execution_count": 6,
   "metadata": {
    "collapsed": true
   },
   "outputs": [],
   "source": [
    "# TODO: replace with Seaborn\n",
    "# # Scatter plots of loan_amount vs borrower count\n",
    "# ggplot(df_oaf_high, aes(x='borrower_count', y='loan_amount',color='posted_month')) +geom_point() + ggtitle('loan amount by borrower count for One Acre Fund during the high loan period')\n",
    "# ggplot(df_oaf_low, aes(x='borrower_count', y='loan_amount',color='posted_month')) +geom_point() + ggtitle('loan amount by borrower count for One Acre Fund outside the low loan period')\n"
   ]
  },
  {
   "cell_type": "markdown",
   "metadata": {},
   "source": [
    "To improve our model, we can include 'Interaction Terms'. These are variables which describe the interaction between two or more independant varaibles. \n",
    "\n",
    "In this example, we expect the increase in loan amount with number of borrowers to be different for different Partners. Therefore, we create new variables which capture this interation by creating a new borrower count feature for the different partners.\n",
    "\n",
    "As there are only two partners which show a strong relationship between borrower_count and loan_amount, we will define 4 new variables:\n",
    "- bc_partner_HIHEA = borrower count (bc) for the partner Hand in Hand Eastern Africa\n",
    "- bc_partner_OAD_high = borrower count (bc) for the partner One Acre Fund during the high loan period\n",
    "- bc_partner_OAD_low = borrower count (bc) for the partner One Acre Fund outside the high loan period\n",
    "- bc_partner_other = borrower count (bc) for all other partners\n",
    "\n",
    "[Here](http://www.dummies.com/programming/big-data/data-science/data-science-how-to-create-interactions-between-variables-with-python/) you can find more information on Interaction Terms in regression problems."
   ]
  },
  {
   "cell_type": "code",
   "execution_count": 7,
   "metadata": {
    "collapsed": true
   },
   "outputs": [],
   "source": [
    "# Iteraction term for all other partners\n",
    "df['bc_partner_others'] = np.where(~df['top_partners'].isin(['Hand in Hand Eastern Africa','One Acre Fund']),df['borrower_count'],0)\n",
    "# Iteraction term for Hand in Hand Eastern Africa\n",
    "df['bc_partner_HIHEA'] = np.where(df['top_partners'] == 'Hand in Hand Eastern Africa',df['borrower_count'],0)"
   ]
  },
  {
   "cell_type": "code",
   "execution_count": 8,
   "metadata": {
    "collapsed": true
   },
   "outputs": [],
   "source": [
    "# Iteraction term for One Acre Fund in high loan period\n",
    "df['bc_partner_OAF_high'] = np.where(condition_high,df['borrower_count'],0)\n",
    "# Iteraction term for One Acre Fund outside of high loan period\n",
    "df['bc_partner_OAF_low'] = np.where(condition_low, df['borrower_count'],0)"
   ]
  },
  {
   "cell_type": "markdown",
   "metadata": {},
   "source": [
    "Now we have split out borrower_count into 4 seperate variables, lets see how the linear regression performs now."
   ]
  },
  {
   "cell_type": "code",
   "execution_count": 9,
   "metadata": {},
   "outputs": [
    {
     "name": "stderr",
     "output_type": "stream",
     "text": [
      "/Users/brian/anaconda3/envs/good/lib/python3.6/site-packages/ipykernel_launcher.py:6: SettingWithCopyWarning: \n",
      "A value is trying to be set on a copy of a slice from a DataFrame.\n",
      "Try using .loc[row_indexer,col_indexer] = value instead\n",
      "\n",
      "See the caveats in the documentation: http://pandas.pydata.org/pandas-docs/stable/indexing.html#indexing-view-versus-copy\n",
      "  \n"
     ]
    }
   ],
   "source": [
    "# Define the dependant variable\n",
    "y = df['loan_amount']\n",
    "# Define the independant variables\n",
    "X = df[['bc_partner_others','bc_partner_HIHEA','bc_partner_OAF_high','bc_partner_OAF_low']]\n",
    "# Add an intercept term to the independant variables\n",
    "X['cnst'] = 1\n",
    "X_train, X_test, y_train, y_test = train_test_split(X, y, test_size=0.2, random_state=42)"
   ]
  },
  {
   "cell_type": "code",
   "execution_count": 10,
   "metadata": {},
   "outputs": [
    {
     "name": "stdout",
     "output_type": "stream",
     "text": [
      "                            OLS Regression Results                            \n",
      "==============================================================================\n",
      "Dep. Variable:            loan_amount   R-squared:                       0.488\n",
      "Model:                            OLS   Adj. R-squared:                  0.488\n",
      "Method:                 Least Squares   F-statistic:                 2.257e+04\n",
      "Date:                Wed, 13 Dec 2017   Prob (F-statistic):               0.00\n",
      "Time:                        18:56:05   Log-Likelihood:            -6.7382e+05\n",
      "No. Observations:               94559   AIC:                         1.348e+06\n",
      "Df Residuals:                   94554   BIC:                         1.348e+06\n",
      "Df Model:                           4                                         \n",
      "Covariance Type:            nonrobust                                         \n",
      "=======================================================================================\n",
      "                          coef    std err          t      P>|t|      [0.025      0.975]\n",
      "---------------------------------------------------------------------------------------\n",
      "bc_partner_others     261.7128      1.907    137.222      0.000     257.975     265.451\n",
      "bc_partner_HIHEA      103.9665      2.480     41.918      0.000      99.105     108.828\n",
      "bc_partner_OAF_high   621.1853      2.390    259.873      0.000     616.500     625.870\n",
      "bc_partner_OAF_low     55.4412      0.342    162.174      0.000      54.771      56.111\n",
      "cnst                  167.3315      2.205     75.901      0.000     163.010     171.652\n",
      "==============================================================================\n",
      "Omnibus:                    71579.466   Durbin-Watson:                   2.000\n",
      "Prob(Omnibus):                  0.000   Jarque-Bera (JB):          8224003.243\n",
      "Skew:                           2.898   Prob(JB):                         0.00\n",
      "Kurtosis:                      48.318   Cond. No.                         10.7\n",
      "==============================================================================\n",
      "\n",
      "Warnings:\n",
      "[1] Standard Errors assume that the covariance matrix of the errors is correctly specified.\n"
     ]
    }
   ],
   "source": [
    "model1 = sm.OLS(endog = y_train,exog = X_train).fit()\n",
    "print(model1.summary())"
   ]
  },
  {
   "cell_type": "markdown",
   "metadata": {
    "collapsed": true
   },
   "source": [
    "Look at that! Just by creating interaction terms between the borrower_count and top_partners features, we have managed to increase our adj R2 from 0.132 up to 0.488 - Not bad! \n",
    "\n",
    "Also looking at the P-values tells us that all of the cooefficients are significant. The next question to ask is then, how do we interpret the coefficients of these interaction terms? Lets take the coefficient for bc_partners_HIHEA for example. We interpret this is the following way; if the top partner is Hand in Hand Eastern Africa, then for every additional borrower, we expect the loan amount to increase by $104. The same concept can be applied to the other coefficients. \n"
   ]
  },
  {
   "cell_type": "markdown",
   "metadata": {},
   "source": [
    "Now can we add any more features to this model? Let's think back to the EDA and feature engineering to find some other features that might be useful. Here are a few we are going to include:\n",
    "- Gender\n",
    "- tag_#Repeated Borrower\n",
    "- sectors\n",
    "- partner_delinquency_rate\n",
    "- partner_loans_posted"
   ]
  },
  {
   "cell_type": "code",
   "execution_count": 11,
   "metadata": {
    "collapsed": true
   },
   "outputs": [],
   "source": [
    "# Create dummy variable for Gender\n",
    "df['female'] = np.where(df['gender'] =='Female', 1, 0)\n",
    "# Create dummy variable for partner_status\n",
    "for status in ['active','closed']:\n",
    "    df['partner_'+status] = np.where(df.partner_status ==status, 1, 0)"
   ]
  },
  {
   "cell_type": "code",
   "execution_count": 12,
   "metadata": {},
   "outputs": [],
   "source": [
    "df.groupby('sector')['loan_amount'].mean().sort_values().plot(kind='bar');"
   ]
  },
  {
   "cell_type": "markdown",
   "metadata": {},
   "source": [
    "Health, Wholesale, Agriculture, Arts, Food and Personal Use seem to have loan amounts different to the other sectors. Lets try including these as features..."
   ]
  },
  {
   "cell_type": "code",
   "execution_count": 13,
   "metadata": {
    "collapsed": true
   },
   "outputs": [],
   "source": [
    "for sect in ['Personal Use','Food','Arts','Agriculture','Wholesale','Health']:\n",
    "    df['sector_'+sect] = np.where(df.sector ==sect, 1, 0)"
   ]
  },
  {
   "cell_type": "code",
   "execution_count": 14,
   "metadata": {},
   "outputs": [
    {
     "name": "stderr",
     "output_type": "stream",
     "text": [
      "/Users/brian/anaconda3/envs/good/lib/python3.6/site-packages/ipykernel_launcher.py:6: SettingWithCopyWarning: \n",
      "A value is trying to be set on a copy of a slice from a DataFrame.\n",
      "Try using .loc[row_indexer,col_indexer] = value instead\n",
      "\n",
      "See the caveats in the documentation: http://pandas.pydata.org/pandas-docs/stable/indexing.html#indexing-view-versus-copy\n",
      "  \n"
     ]
    }
   ],
   "source": [
    "y = df['loan_amount']\n",
    "X = df[['bc_partner_others','bc_partner_HIHEA','bc_partner_OAF_high','bc_partner_OAF_low','female',\n",
    "        'tag_#Repeat Borrower','sector_Personal Use','sector_Health','sector_Wholesale','sector_Agriculture',\n",
    "       'kids','partner_delinquency_rate','married']]\n",
    "# Add an intercept term to the independant variables\n",
    "X['cnst'] = 1\n",
    "X_train, X_test, y_train, y_test = train_test_split(X, y, test_size=0.2, random_state=42)"
   ]
  },
  {
   "cell_type": "code",
   "execution_count": 15,
   "metadata": {},
   "outputs": [
    {
     "name": "stdout",
     "output_type": "stream",
     "text": [
      "                            OLS Regression Results                            \n",
      "==============================================================================\n",
      "Dep. Variable:            loan_amount   R-squared:                       0.522\n",
      "Model:                            OLS   Adj. R-squared:                  0.522\n",
      "Method:                 Least Squares   F-statistic:                     7948.\n",
      "Date:                Wed, 13 Dec 2017   Prob (F-statistic):               0.00\n",
      "Time:                        18:56:13   Log-Likelihood:            -6.7060e+05\n",
      "No. Observations:               94559   AIC:                         1.341e+06\n",
      "Df Residuals:                   94545   BIC:                         1.341e+06\n",
      "Df Model:                          13                                         \n",
      "Covariance Type:            nonrobust                                         \n",
      "============================================================================================\n",
      "                               coef    std err          t      P>|t|      [0.025      0.975]\n",
      "--------------------------------------------------------------------------------------------\n",
      "bc_partner_others          250.0996      1.916    130.509      0.000     246.344     253.856\n",
      "bc_partner_HIHEA           114.5914      2.431     47.141      0.000     109.827     119.356\n",
      "bc_partner_OAF_high        622.3946      2.325    267.739      0.000     617.838     626.951\n",
      "bc_partner_OAF_low          53.0469      0.370    143.338      0.000      52.322      53.772\n",
      "female                     -53.0762      2.042    -25.987      0.000     -57.079     -49.073\n",
      "tag_#Repeat Borrower       103.5657      3.156     32.819      0.000      97.381     109.751\n",
      "sector_Personal Use       -243.2509      6.859    -35.465      0.000    -256.694    -229.807\n",
      "sector_Health              244.2387      9.971     24.495      0.000     224.696     263.782\n",
      "sector_Wholesale           101.2017     28.561      3.543      0.000      45.222     157.181\n",
      "sector_Agriculture          13.4695      2.150      6.266      0.000       9.256      17.683\n",
      "kids                       -21.6843      2.953     -7.344      0.000     -27.471     -15.897\n",
      "partner_delinquency_rate     7.4471      0.186     40.038      0.000       7.083       7.812\n",
      "married                    -39.1626      2.211    -17.716      0.000     -43.495     -34.830\n",
      "cnst                       211.7208      3.723     56.862      0.000     204.423     219.019\n",
      "==============================================================================\n",
      "Omnibus:                    68925.502   Durbin-Watson:                   1.996\n",
      "Prob(Omnibus):                  0.000   Jarque-Bera (JB):          6640503.057\n",
      "Skew:                           2.776   Prob(JB):                         0.00\n",
      "Kurtosis:                      43.677   Cond. No.                         213.\n",
      "==============================================================================\n",
      "\n",
      "Warnings:\n",
      "[1] Standard Errors assume that the covariance matrix of the errors is correctly specified.\n"
     ]
    }
   ],
   "source": [
    "model2 = sm.OLS(endog = y_train,exog = X_train).fit()\n",
    "print(model2.summary())"
   ]
  },
  {
   "cell_type": "markdown",
   "metadata": {},
   "source": [
    "Adding these features have improved the model slightly, the adj R2 has increased from 0.488 to 0.522 and again, all the p-values are less than 0.005 so we can consider than as significant. Lets interpret the results then...\n",
    "- female coef = -53. In general women ask for loans that are 64 dollars less than the equivalent asked by a man. \n",
    "- tag_#Repeat Borrower coef = 103. In general, repeat borrowers ask for 124 dollars more than none repeat borrowers. \n",
    "- sectors_Personal Use coef = -243. In general, if a loan is for personal use, it is 231 dollars less than others. The same concept applies to the sectors health, wholesale and agriculture and their respective coefficients.\n",
    "- kids coef = -22. If kids is mentioned in the description, they ask for 12 dollars less.\n",
    "- etc etc\n"
   ]
  },
  {
   "cell_type": "markdown",
   "metadata": {},
   "source": [
    "** Now lets check some of the linear regression assumption that we covered above to check that we can confidently interpret the models coefficients as above **\n",
    "\n",
    "To do this quickly, we will use the statistics given in the summary table. For more information on these, check out this [awesome page!](http://connor-johnson.com/2014/02/18/linear-regression-with-python/)\n",
    "\n",
    "1) Normality: The Prob(JB) number is less than 0.05 which means we reject the Null Hypothesis that the data is normally distributed. **ASSUMPTION NOT MET**\n",
    "\n",
    "2) Multiconlinearity: The Condition number is greater than 30 which means we have an issue with multicolinearity in the model. **ASSUMPTION NOT MET**\n",
    "\n",
    "3) Autocorrelation: Durbin-Watson number is approximately 2 so no autocorrelation. **ASSUMPTION MET**\n",
    "\n",
    "4) Homoscedasticity: Prob(Omnibus) number is less than 0.05 which means we reject the Null Hypothesis that the residuals are normally distributed. **ASSUMPTION NOT MET**"
   ]
  },
  {
   "cell_type": "markdown",
   "metadata": {},
   "source": [
    "We clearly have an issue here! Although the predictive power of the model is still valid, meaning we can still predict using the model with an R^2 of 0.522 - we CANNOT interpret the coefficients in the way we would hope. \n",
    "\n",
    "The underlying issue here is that data is not normally distributed and that the is not always a linear relationship between the dependant and independant variables. Therefore, we may have to look towards non-parametric models."
   ]
  },
  {
   "cell_type": "markdown",
   "metadata": {},
   "source": [
    "<br>\n",
    "<br> \n",
    "<br>\n",
    "\n",
    "----"
   ]
  }
 ],
 "metadata": {
  "kernelspec": {
   "display_name": "Python 3",
   "language": "python",
   "name": "python3"
  },
  "language_info": {
   "codemirror_mode": {
    "name": "ipython",
    "version": 3
   },
   "file_extension": ".py",
   "mimetype": "text/x-python",
   "name": "python",
   "nbconvert_exporter": "python",
   "pygments_lexer": "ipython3",
   "version": "3.6.0"
  }
 },
 "nbformat": 4,
 "nbformat_minor": 2
}
