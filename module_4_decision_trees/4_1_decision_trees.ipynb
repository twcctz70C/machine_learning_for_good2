{
 "cells": [
  {
   "cell_type": "markdown",
   "metadata": {},
   "source": [
    "# Lab 4.1:  Decision Trees\n",
    "\n",
    "Decision trees can be used for either regression or classification tasks. Decision trees are a powerful tool; however, are very prone to overfitting the training dataset and therefore often fail to generalize well to test data sets. However, they are the building block for several other powerful machine learning algorithms and are therefore important to learn about.\n",
    "\n",
    "<img src=\"../images/DecisionTreeExample.png\" alt=\"Drawing\" style=\"width: 500px;height=500\"/>\n",
    "\n",
    "Here's a look ahead at what we'll be doing in this notebook:\n",
    "\n",
    "1. [Import packages](#packages)\n",
    "2. [Load data](#loaddata)\n",
    "3. [Build a Decision Tree](#decisiontree)\n",
    "4. [Tune parameters](#parameters)\n",
    "5. [Feature importance](#featureimportance)\n",
    "6. [Homework](#homework)\n",
    "7. [Advanced material](#AdvancedCV)\n",
    "\n",
    "Our previous Linear regression model assumes linearity among others.\n",
    "\n",
    "Whereas decision trees and associated algorithms are no longer restricted to independant variables which have a linear relationship and we don't have to ensure several assumptions are true. \n",
    "\n",
    "Therefore we can start to bring in other features that could be useful.\n",
    "\n",
    "After we run our decision trees, we will compare our new output to our output from the linear regressions we ran in the previous notebook. \n",
    "\n",
    "In this notebook, we will be looking at how we can predict the loan amount using decision trees. \n",
    "\n",
    "Here is visual introduction to [decision trees](https://algobeans.com/2016/07/27/decision-trees-tutorial/)"
   ]
  },
  {
   "cell_type": "markdown",
   "metadata": {},
   "source": [
    "## 1. Import packages\n",
    "<a id='packages'></a>"
   ]
  },
  {
   "cell_type": "code",
   "execution_count": 2,
   "metadata": {
    "collapsed": true
   },
   "outputs": [],
   "source": [
    "import graphviz \n",
    "import pandas as pd\n",
    "import numpy as np\n",
    "\n",
    "import seaborn as sns\n",
    "\n",
    "from sklearn.model_selection import train_test_split, cross_val_score, GridSearchCV\n",
    "from sklearn.tree import DecisionTreeRegressor\n",
    "from sklearn import tree\n",
    "from sklearn.metrics import mean_squared_error, r2_score\n",
    "\n",
    "%matplotlib inline"
   ]
  },
  {
   "cell_type": "markdown",
   "metadata": {},
   "source": [
    "If you do not have graphviz installed or are having problems displaying the tree structure later on, try:\n",
    "\n",
    "Mac/Windows:\n",
    "\n",
    "```bash\n",
    "$ brew install graphviz \n",
    "```\n",
    "\n",
    "Linux:\n",
    "\n",
    "```\n",
    "$ sudo apt-get install graphviz\n",
    "```"
   ]
  },
  {
   "cell_type": "markdown",
   "metadata": {},
   "source": [
    "## 2. Load and format data\n",
    "<a id='loaddata'></a>"
   ]
  },
  {
   "cell_type": "code",
   "execution_count": 3,
   "metadata": {
    "collapsed": true
   },
   "outputs": [],
   "source": [
    "# Load data to pandas DataFrame\n",
    "data_path = '../data/'\n",
    "df = pd.read_csv(data_path+'df_end_of_linear.csv', \n",
    "                 low_memory=False)"
   ]
  },
  {
   "cell_type": "code",
   "execution_count": 4,
   "metadata": {
    "collapsed": true
   },
   "outputs": [],
   "source": [
    "# TODO: Remove this part and incorporate it into feature engineering section.\n",
    "# potentially the feature engineering section should show how to do one hot encoding and this module\n",
    "# will reference one hot encoding and remove any cols that are strings to highligh that sklearn's implementation\n",
    "# cannot handle strings.\n",
    "df = df.dropna()\n",
    "cols = df[['loan_amount', \n",
    "           'partner_delinquency_rate',\n",
    "            'posted_year',\n",
    "           'posted_month',\n",
    "           'female',\n",
    "           'num_tags',\n",
    "           'parent',\n",
    "           'tag_#Woman Owned Biz',\n",
    "           'age_int',\n",
    "           'tag_#Repeat Borrower',\n",
    "           'children_int',\n",
    "          'more_one_partner_country',\n",
    "          'terms.repayment_term',\n",
    "           'tag_#Schooling',\n",
    "           'married',\n",
    "           'pct_female',\n",
    "           'exploratory_partner',\n",
    "           'partner_dollar_amount',\n",
    "           'top_partner_id',\n",
    "           'num_partner_countries',\n",
    "           'days_to_fund',\n",
    "            'hours_to_fund',\n",
    "            'bc_partner_others',\n",
    "           'bc_partner_HIHEA',\n",
    "           'bc_partner_OAF_high',\n",
    "           'bc_partner_OAF_low',\n",
    "         'sector_Personal Use',\n",
    "           'sector_Health',\n",
    "           'sector_Wholesale',\n",
    "           'sector_Agriculture',\n",
    "           'kids']]\n"
   ]
  },
  {
   "cell_type": "markdown",
   "metadata": {},
   "source": [
    "We are going to build regressors to predict the loan amount and we will build a tree that considers many the features in the dataset - including those we have engineered ourselves."
   ]
  },
  {
   "cell_type": "code",
   "execution_count": 8,
   "metadata": {
    "collapsed": true
   },
   "outputs": [],
   "source": [
    "y = df['loan_amount']\n",
    "# drop returns a copy of the DataFrame with the specified columns removed.  \n",
    "X = cols.drop('loan_amount', axis=1)"
   ]
  },
  {
   "cell_type": "code",
   "execution_count": 9,
   "metadata": {
    "collapsed": true
   },
   "outputs": [],
   "source": [
    "# Split data into training and testing sets;\n",
    "X_train, X_test, y_train, y_test = train_test_split(X, y, test_size=0.2, random_state=42)"
   ]
  },
  {
   "cell_type": "markdown",
   "metadata": {},
   "source": [
    "## 3. Build a Decision Tree\n",
    "<a id='decisiontree'></a>\n",
    "We will use sklearn's implementation of a Decision Tree Regressor and to learn how to use it, here are the [docs](http://scikit-learn.org/stable/modules/generated/sklearn.tree.DecisionTreeRegressor.html#sklearn.tree.DecisionTreeRegressor.get_params), or simply put a question mark before a call to the class.  \n",
    "\n",
    "Prepending a ? to any method, variable, or class will display that method's defined docstring (way to go ipython!)"
   ]
  },
  {
   "cell_type": "code",
   "execution_count": 7,
   "metadata": {
    "collapsed": true
   },
   "outputs": [],
   "source": [
    "DecisionTreeRegressor?"
   ]
  },
  {
   "cell_type": "markdown",
   "metadata": {},
   "source": [
    "Many of the sklearn algorithms are implemented using the same standard steps: \n",
    "- **Step 1: Initiate the algorithm** Define the parameters (& hyperparameters of the algorithm) of the algorithm. For example, the maximum depth, the minimum samples in a leaf etc. (check documentation for more information)\n",
    "\n",
    "- **Step 2: Train the algorithm** Train the algorithm by fitting it to the X_train and y_train datasets.\n",
    "\n",
    "- **Step 3: Evaluating the algorithm** Evaluate the predictive power of the algorithm by comparing the predictive loan amount values to the true values. We can do this for the training and testing dataset."
   ]
  },
  {
   "cell_type": "markdown",
   "metadata": {},
   "source": [
    "Here is a function which encapsulates the 3 model implementation steps; Initialize, Train, Evaluate our decision tree regressor. "
   ]
  },
  {
   "cell_type": "code",
   "execution_count": 10,
   "metadata": {
    "collapsed": true
   },
   "outputs": [],
   "source": [
    "def train_score_regressor(sklearn_regressor, X_train, y_train, X_test, y_test, model_parameters):\n",
    "    '''\n",
    "    Purpose: \n",
    "        - train a regressor on training data\n",
    "        - score data on training and test data\n",
    "        - return trained model\n",
    "    '''\n",
    "    # Step 1: Initializing the sklearn regressor \n",
    "    regressor = sklearn_regressor(**model_parameters)\n",
    "    \n",
    "    # Step 2: Training the algorithm using the X_train dataset of features and y_train, the associated target features\n",
    "    regressor.fit(X_train, y_train)\n",
    "    \n",
    "    # Step 3: Calculating the score of the predictive power on the training and testing dataset.\n",
    "    training_score = regressor.score(X_train, y_train)\n",
    "    testing_score = regressor.score(X_test, y_test)\n",
    "    \n",
    "    # Print the results!\n",
    "    print(f\"Train score: {training_score:.4}\")\n",
    "    print(f\"Test score: {testing_score:.4}\")\n",
    "        \n",
    "    return regressor"
   ]
  },
  {
   "cell_type": "markdown",
   "metadata": {},
   "source": [
    "With all tree algorithms the major challenge is using the parameters to balance the bias vs variance tradeoff.  \n",
    "To start, check how the model preforms when using the default values."
   ]
  },
  {
   "cell_type": "code",
   "execution_count": 11,
   "metadata": {},
   "outputs": [
    {
     "name": "stdout",
     "output_type": "stream",
     "text": [
      "Train score: 1.0\n",
      "Test score: 0.3636\n"
     ]
    }
   ],
   "source": [
    "trained_regressor = train_score_regressor(sklearn_regressor = DecisionTreeRegressor,\n",
    "                                          X_train = X_train, y_train = y_train, \n",
    "                                          X_test = X_test, y_test = y_test, \n",
    "                                          model_parameters = {'random_state':42})"
   ]
  },
  {
   "cell_type": "markdown",
   "metadata": {},
   "source": [
    "Our module managed to get a perfect r2 scored on the training data but gives an abysmal r2 on the test data.  This is a clear indication that the model has **overfit to the training data**.\n",
    "\n",
    "The default sklearn's implementation of a DecisionTreeRegressor does not put any restrictions on the depth of the tree, the number of samples per leaf, etc.  Consequently, the model finds signal in the noise of the training data set, overfits and performs poorly on the test data.  \n",
    "\n",
    "When a model overfits to a training data set, we say it has **high variance**.  Since an unconstrained decision tree will almost perfectly model any training data, it will vary tremendously depending on the training data that is provided."
   ]
  },
  {
   "cell_type": "markdown",
   "metadata": {},
   "source": [
    "### 4. Parameter tuning\n",
    "To reduce the variance, we constrain the model using some of the provided parameters for example:\n",
    "- Criterion (Cost function used to measure the purity of a split)\n",
    "- Maximum depth of the tree\n",
    "- Minimum samples for each node split\n",
    "- Minimum samples for each terminal node\n",
    "- Maximum number of terminal nodes\n",
    "\n",
    "Look back over the [slides](https://docs.google.com/presentation/d/1leWPbwis9GJHJcQehlhPhtKEAErUPvlTpKjnkv1aWWU/edit?usp=sharing) or use this [useful blog](https://www.analyticsvidhya.com/blog/2016/04/complete-tutorial-tree-based-modeling-scratch-in-python/#four) for a refresher on decision tree parameters.\n",
    "\n",
    "Initially, we are going to experiment with the max_depth parameter only. "
   ]
  },
  {
   "cell_type": "code",
   "execution_count": 12,
   "metadata": {},
   "outputs": [
    {
     "name": "stdout",
     "output_type": "stream",
     "text": [
      "Train score: 0.558\n",
      "Test score: 0.4383\n"
     ]
    }
   ],
   "source": [
    "# Define the model parameters \n",
    "# We are fixing the random state so that the results are reproducible and consistent.\n",
    "parameters = {\"max_depth\":4,'random_state':42}\n",
    "\n",
    "# Train and evaluate the model\n",
    "trained_regressor = train_score_regressor(sklearn_regressor=DecisionTreeRegressor,\n",
    "                                          X_train=X_train, y_train=y_train, \n",
    "                                          X_test=X_test, y_test=y_test, \n",
    "                                          model_parameters = parameters)"
   ]
  },
  {
   "cell_type": "markdown",
   "metadata": {},
   "source": [
    "Although the training r2 score has dropped significantly, the test r2 score increased. Since the goal is develop a model that accurately predict data we have never seen, that is the metric we care about!\n",
    "\n",
    "Now that we have increased preformance, let's take a look at what the Decision Tree looks like."
   ]
  },
  {
   "cell_type": "code",
   "execution_count": 13,
   "metadata": {},
   "outputs": [
    {
     "data": {
      "image/svg+xml": [
       "<?xml version=\"1.0\" encoding=\"UTF-8\" standalone=\"no\"?>\n",
       "<!DOCTYPE svg PUBLIC \"-//W3C//DTD SVG 1.1//EN\"\n",
       " \"http://www.w3.org/Graphics/SVG/1.1/DTD/svg11.dtd\">\n",
       "<!-- Generated by graphviz version 2.38.0 (20140413.2041)\n",
       " -->\n",
       "<!-- Title: Tree Pages: 1 -->\n",
       "<svg width=\"2180pt\" height=\"477pt\"\n",
       " viewBox=\"0.00 0.00 2179.50 477.00\" xmlns=\"http://www.w3.org/2000/svg\" xmlns:xlink=\"http://www.w3.org/1999/xlink\">\n",
       "<g id=\"graph0\" class=\"graph\" transform=\"scale(1 1) rotate(0) translate(4 473)\">\n",
       "<title>Tree</title>\n",
       "<polygon fill=\"white\" stroke=\"none\" points=\"-4,4 -4,-473 2175.5,-473 2175.5,4 -4,4\"/>\n",
       "<!-- 0 -->\n",
       "<g id=\"node1\" class=\"node\"><title>0</title>\n",
       "<path fill=\"#e58139\" fill-opacity=\"0.031373\" stroke=\"black\" d=\"M1162.5,-469C1162.5,-469 1001.5,-469 1001.5,-469 995.5,-469 989.5,-463 989.5,-457 989.5,-457 989.5,-413 989.5,-413 989.5,-407 995.5,-401 1001.5,-401 1001.5,-401 1162.5,-401 1162.5,-401 1168.5,-401 1174.5,-407 1174.5,-413 1174.5,-413 1174.5,-457 1174.5,-457 1174.5,-463 1168.5,-469 1162.5,-469\"/>\n",
       "<text text-anchor=\"start\" x=\"997.5\" y=\"-453.8\" font-family=\"Helvetica,sans-Serif\" font-size=\"14.00\">bc_partner_OAF_high ≤ 2.5</text>\n",
       "<text text-anchor=\"start\" x=\"1025\" y=\"-438.8\" font-family=\"Helvetica,sans-Serif\" font-size=\"14.00\">mse = 109470.395</text>\n",
       "<text text-anchor=\"start\" x=\"1029.5\" y=\"-423.8\" font-family=\"Helvetica,sans-Serif\" font-size=\"14.00\">samples = 11754</text>\n",
       "<text text-anchor=\"start\" x=\"1033.5\" y=\"-408.8\" font-family=\"Helvetica,sans-Serif\" font-size=\"14.00\">value = 409.748</text>\n",
       "</g>\n",
       "<!-- 1 -->\n",
       "<g id=\"node2\" class=\"node\"><title>1</title>\n",
       "<path fill=\"#e58139\" fill-opacity=\"0.027451\" stroke=\"black\" d=\"M865,-365C865,-365 757,-365 757,-365 751,-365 745,-359 745,-353 745,-353 745,-309 745,-309 745,-303 751,-297 757,-297 757,-297 865,-297 865,-297 871,-297 877,-303 877,-309 877,-309 877,-353 877,-353 877,-359 871,-365 865,-365\"/>\n",
       "<text text-anchor=\"start\" x=\"753\" y=\"-349.8\" font-family=\"Helvetica,sans-Serif\" font-size=\"14.00\">days_to_fund ≤ 4.5</text>\n",
       "<text text-anchor=\"start\" x=\"758\" y=\"-334.8\" font-family=\"Helvetica,sans-Serif\" font-size=\"14.00\">mse = 69535.311</text>\n",
       "<text text-anchor=\"start\" x=\"758.5\" y=\"-319.8\" font-family=\"Helvetica,sans-Serif\" font-size=\"14.00\">samples = 11718</text>\n",
       "<text text-anchor=\"start\" x=\"762.5\" y=\"-304.8\" font-family=\"Helvetica,sans-Serif\" font-size=\"14.00\">value = 399.038</text>\n",
       "</g>\n",
       "<!-- 0&#45;&gt;1 -->\n",
       "<g id=\"edge1\" class=\"edge\"><title>0&#45;&gt;1</title>\n",
       "<path fill=\"none\" stroke=\"black\" d=\"M994.014,-400.884C959.41,-387.859 920.073,-373.053 886.759,-360.514\"/>\n",
       "<polygon fill=\"black\" stroke=\"black\" points=\"887.672,-357.118 877.08,-356.871 885.206,-363.67 887.672,-357.118\"/>\n",
       "<text text-anchor=\"middle\" x=\"887.398\" y=\"-375.943\" font-family=\"Helvetica,sans-Serif\" font-size=\"14.00\">True</text>\n",
       "</g>\n",
       "<!-- 16 -->\n",
       "<g id=\"node17\" class=\"node\"><title>16</title>\n",
       "<path fill=\"#e58139\" fill-opacity=\"0.760784\" stroke=\"black\" d=\"M1435.5,-365C1435.5,-365 1274.5,-365 1274.5,-365 1268.5,-365 1262.5,-359 1262.5,-353 1262.5,-353 1262.5,-309 1262.5,-309 1262.5,-303 1268.5,-297 1274.5,-297 1274.5,-297 1435.5,-297 1435.5,-297 1441.5,-297 1447.5,-303 1447.5,-309 1447.5,-309 1447.5,-353 1447.5,-353 1447.5,-359 1441.5,-365 1435.5,-365\"/>\n",
       "<text text-anchor=\"start\" x=\"1270.5\" y=\"-349.8\" font-family=\"Helvetica,sans-Serif\" font-size=\"14.00\">bc_partner_OAF_high ≤ 5.5</text>\n",
       "<text text-anchor=\"start\" x=\"1298\" y=\"-334.8\" font-family=\"Helvetica,sans-Serif\" font-size=\"14.00\">mse = 918211.806</text>\n",
       "<text text-anchor=\"start\" x=\"1314\" y=\"-319.8\" font-family=\"Helvetica,sans-Serif\" font-size=\"14.00\">samples = 36</text>\n",
       "<text text-anchor=\"start\" x=\"1302.5\" y=\"-304.8\" font-family=\"Helvetica,sans-Serif\" font-size=\"14.00\">value = 3895.833</text>\n",
       "</g>\n",
       "<!-- 0&#45;&gt;16 -->\n",
       "<g id=\"edge16\" class=\"edge\"><title>0&#45;&gt;16</title>\n",
       "<path fill=\"none\" stroke=\"black\" d=\"M1170.64,-400.884C1198.19,-390.588 1228.73,-379.179 1256.89,-368.656\"/>\n",
       "<polygon fill=\"black\" stroke=\"black\" points=\"1258.2,-371.903 1266.34,-365.125 1255.75,-365.346 1258.2,-371.903\"/>\n",
       "<text text-anchor=\"middle\" x=\"1255.97\" y=\"-384.171\" font-family=\"Helvetica,sans-Serif\" font-size=\"14.00\">False</text>\n",
       "</g>\n",
       "<!-- 2 -->\n",
       "<g id=\"node3\" class=\"node\"><title>2</title>\n",
       "<path fill=\"#e58139\" fill-opacity=\"0.011765\" stroke=\"black\" d=\"M526.5,-261C526.5,-261 353.5,-261 353.5,-261 347.5,-261 341.5,-255 341.5,-249 341.5,-249 341.5,-205 341.5,-205 341.5,-199 347.5,-193 353.5,-193 353.5,-193 526.5,-193 526.5,-193 532.5,-193 538.5,-199 538.5,-205 538.5,-205 538.5,-249 538.5,-249 538.5,-255 532.5,-261 526.5,-261\"/>\n",
       "<text text-anchor=\"start\" x=\"349.5\" y=\"-245.8\" font-family=\"Helvetica,sans-Serif\" font-size=\"14.00\">terms.repayment_term ≤ 13.5</text>\n",
       "<text text-anchor=\"start\" x=\"387\" y=\"-230.8\" font-family=\"Helvetica,sans-Serif\" font-size=\"14.00\">mse = 53173.364</text>\n",
       "<text text-anchor=\"start\" x=\"391.5\" y=\"-215.8\" font-family=\"Helvetica,sans-Serif\" font-size=\"14.00\">samples = 6534</text>\n",
       "<text text-anchor=\"start\" x=\"391.5\" y=\"-200.8\" font-family=\"Helvetica,sans-Serif\" font-size=\"14.00\">value = 325.895</text>\n",
       "</g>\n",
       "<!-- 1&#45;&gt;2 -->\n",
       "<g id=\"edge2\" class=\"edge\"><title>1&#45;&gt;2</title>\n",
       "<path fill=\"none\" stroke=\"black\" d=\"M744.673,-311.764C690.155,-296.776 611.821,-275.239 548.236,-257.758\"/>\n",
       "<polygon fill=\"black\" stroke=\"black\" points=\"549.135,-254.375 538.565,-255.099 547.279,-261.125 549.135,-254.375\"/>\n",
       "</g>\n",
       "<!-- 9 -->\n",
       "<g id=\"node10\" class=\"node\"><title>9</title>\n",
       "<path fill=\"#e58139\" fill-opacity=\"0.047059\" stroke=\"black\" d=\"M897.5,-261C897.5,-261 724.5,-261 724.5,-261 718.5,-261 712.5,-255 712.5,-249 712.5,-249 712.5,-205 712.5,-205 712.5,-199 718.5,-193 724.5,-193 724.5,-193 897.5,-193 897.5,-193 903.5,-193 909.5,-199 909.5,-205 909.5,-205 909.5,-249 909.5,-249 909.5,-255 903.5,-261 897.5,-261\"/>\n",
       "<text text-anchor=\"start\" x=\"720.5\" y=\"-245.8\" font-family=\"Helvetica,sans-Serif\" font-size=\"14.00\">terms.repayment_term ≤ 13.5</text>\n",
       "<text text-anchor=\"start\" x=\"758\" y=\"-230.8\" font-family=\"Helvetica,sans-Serif\" font-size=\"14.00\">mse = 74916.177</text>\n",
       "<text text-anchor=\"start\" x=\"762.5\" y=\"-215.8\" font-family=\"Helvetica,sans-Serif\" font-size=\"14.00\">samples = 5184</text>\n",
       "<text text-anchor=\"start\" x=\"762.5\" y=\"-200.8\" font-family=\"Helvetica,sans-Serif\" font-size=\"14.00\">value = 491.228</text>\n",
       "</g>\n",
       "<!-- 1&#45;&gt;9 -->\n",
       "<g id=\"edge9\" class=\"edge\"><title>1&#45;&gt;9</title>\n",
       "<path fill=\"none\" stroke=\"black\" d=\"M811,-296.884C811,-288.778 811,-279.982 811,-271.472\"/>\n",
       "<polygon fill=\"black\" stroke=\"black\" points=\"814.5,-271.299 811,-261.299 807.5,-271.299 814.5,-271.299\"/>\n",
       "</g>\n",
       "<!-- 3 -->\n",
       "<g id=\"node4\" class=\"node\"><title>3</title>\n",
       "<path fill=\"none\" stroke=\"black\" d=\"M276.5,-157C276.5,-157 109.5,-157 109.5,-157 103.5,-157 97.5,-151 97.5,-145 97.5,-145 97.5,-101 97.5,-101 97.5,-95 103.5,-89 109.5,-89 109.5,-89 276.5,-89 276.5,-89 282.5,-89 288.5,-95 288.5,-101 288.5,-101 288.5,-145 288.5,-145 288.5,-151 282.5,-157 276.5,-157\"/>\n",
       "<text text-anchor=\"start\" x=\"105.5\" y=\"-141.8\" font-family=\"Helvetica,sans-Serif\" font-size=\"14.00\">num_partner_countries ≤ 3.0</text>\n",
       "<text text-anchor=\"start\" x=\"143.5\" y=\"-126.8\" font-family=\"Helvetica,sans-Serif\" font-size=\"14.00\">mse = 34171.97</text>\n",
       "<text text-anchor=\"start\" x=\"144.5\" y=\"-111.8\" font-family=\"Helvetica,sans-Serif\" font-size=\"14.00\">samples = 3435</text>\n",
       "<text text-anchor=\"start\" x=\"144.5\" y=\"-96.8\" font-family=\"Helvetica,sans-Serif\" font-size=\"14.00\">value = 269.185</text>\n",
       "</g>\n",
       "<!-- 2&#45;&gt;3 -->\n",
       "<g id=\"edge3\" class=\"edge\"><title>2&#45;&gt;3</title>\n",
       "<path fill=\"none\" stroke=\"black\" d=\"M359.806,-192.884C335.2,-182.722 307.967,-171.476 282.764,-161.069\"/>\n",
       "<polygon fill=\"black\" stroke=\"black\" points=\"283.793,-157.707 273.214,-157.125 281.121,-164.177 283.793,-157.707\"/>\n",
       "</g>\n",
       "<!-- 6 -->\n",
       "<g id=\"node7\" class=\"node\"><title>6</title>\n",
       "<path fill=\"#e58139\" fill-opacity=\"0.027451\" stroke=\"black\" d=\"M544.5,-157C544.5,-157 335.5,-157 335.5,-157 329.5,-157 323.5,-151 323.5,-145 323.5,-145 323.5,-101 323.5,-101 323.5,-95 329.5,-89 335.5,-89 335.5,-89 544.5,-89 544.5,-89 550.5,-89 556.5,-95 556.5,-101 556.5,-101 556.5,-145 556.5,-145 556.5,-151 550.5,-157 544.5,-157\"/>\n",
       "<text text-anchor=\"start\" x=\"331.5\" y=\"-141.8\" font-family=\"Helvetica,sans-Serif\" font-size=\"14.00\">partner_dollar_amount ≤ 2124200.0</text>\n",
       "<text text-anchor=\"start\" x=\"387\" y=\"-126.8\" font-family=\"Helvetica,sans-Serif\" font-size=\"14.00\">mse = 66718.891</text>\n",
       "<text text-anchor=\"start\" x=\"391.5\" y=\"-111.8\" font-family=\"Helvetica,sans-Serif\" font-size=\"14.00\">samples = 3099</text>\n",
       "<text text-anchor=\"start\" x=\"391.5\" y=\"-96.8\" font-family=\"Helvetica,sans-Serif\" font-size=\"14.00\">value = 388.754</text>\n",
       "</g>\n",
       "<!-- 2&#45;&gt;6 -->\n",
       "<g id=\"edge6\" class=\"edge\"><title>2&#45;&gt;6</title>\n",
       "<path fill=\"none\" stroke=\"black\" d=\"M440,-192.884C440,-184.778 440,-175.982 440,-167.472\"/>\n",
       "<polygon fill=\"black\" stroke=\"black\" points=\"443.5,-167.299 440,-157.299 436.5,-167.299 443.5,-167.299\"/>\n",
       "</g>\n",
       "<!-- 4 -->\n",
       "<g id=\"node5\" class=\"node\"><title>4</title>\n",
       "<path fill=\"none\" stroke=\"black\" d=\"M110,-53C110,-53 12,-53 12,-53 6,-53 -7.10543e-15,-47 -7.10543e-15,-41 -7.10543e-15,-41 -7.10543e-15,-12 -7.10543e-15,-12 -7.10543e-15,-6 6,-0 12,-0 12,-0 110,-0 110,-0 116,-0 122,-6 122,-12 122,-12 122,-41 122,-41 122,-47 116,-53 110,-53\"/>\n",
       "<text text-anchor=\"start\" x=\"8\" y=\"-37.8\" font-family=\"Helvetica,sans-Serif\" font-size=\"14.00\">mse = 21555.777</text>\n",
       "<text text-anchor=\"start\" x=\"12.5\" y=\"-22.8\" font-family=\"Helvetica,sans-Serif\" font-size=\"14.00\">samples = 3433</text>\n",
       "<text text-anchor=\"start\" x=\"12.5\" y=\"-7.8\" font-family=\"Helvetica,sans-Serif\" font-size=\"14.00\">value = 266.472</text>\n",
       "</g>\n",
       "<!-- 3&#45;&gt;4 -->\n",
       "<g id=\"edge4\" class=\"edge\"><title>3&#45;&gt;4</title>\n",
       "<path fill=\"none\" stroke=\"black\" d=\"M146.833,-88.9485C133.288,-79.2516 118.515,-68.6752 105.102,-59.073\"/>\n",
       "<polygon fill=\"black\" stroke=\"black\" points=\"107.118,-56.212 96.9497,-53.2367 103.043,-61.9038 107.118,-56.212\"/>\n",
       "</g>\n",
       "<!-- 5 -->\n",
       "<g id=\"node6\" class=\"node\"><title>5</title>\n",
       "<path fill=\"#e58139\" fill-opacity=\"0.976471\" stroke=\"black\" d=\"M234,-53C234,-53 152,-53 152,-53 146,-53 140,-47 140,-41 140,-41 140,-12 140,-12 140,-6 146,-0 152,-0 152,-0 234,-0 234,-0 240,-0 246,-6 246,-12 246,-12 246,-41 246,-41 246,-47 240,-53 234,-53\"/>\n",
       "<text text-anchor=\"start\" x=\"155\" y=\"-37.8\" font-family=\"Helvetica,sans-Serif\" font-size=\"14.00\">mse = 625.0</text>\n",
       "<text text-anchor=\"start\" x=\"155.5\" y=\"-22.8\" font-family=\"Helvetica,sans-Serif\" font-size=\"14.00\">samples = 2</text>\n",
       "<text text-anchor=\"start\" x=\"148\" y=\"-7.8\" font-family=\"Helvetica,sans-Serif\" font-size=\"14.00\">value = 4925.0</text>\n",
       "</g>\n",
       "<!-- 3&#45;&gt;5 -->\n",
       "<g id=\"edge5\" class=\"edge\"><title>3&#45;&gt;5</title>\n",
       "<path fill=\"none\" stroke=\"black\" d=\"M193,-88.9485C193,-80.7153 193,-71.848 193,-63.4814\"/>\n",
       "<polygon fill=\"black\" stroke=\"black\" points=\"196.5,-63.2367 193,-53.2367 189.5,-63.2367 196.5,-63.2367\"/>\n",
       "</g>\n",
       "<!-- 7 -->\n",
       "<g id=\"node8\" class=\"node\"><title>7</title>\n",
       "<path fill=\"#e58139\" fill-opacity=\"0.019608\" stroke=\"black\" d=\"M365.5,-53C365.5,-53 276.5,-53 276.5,-53 270.5,-53 264.5,-47 264.5,-41 264.5,-41 264.5,-12 264.5,-12 264.5,-6 270.5,-0 276.5,-0 276.5,-0 365.5,-0 365.5,-0 371.5,-0 377.5,-6 377.5,-12 377.5,-12 377.5,-41 377.5,-41 377.5,-47 371.5,-53 365.5,-53\"/>\n",
       "<text text-anchor=\"start\" x=\"275.5\" y=\"-37.8\" font-family=\"Helvetica,sans-Serif\" font-size=\"14.00\">mse = 60418.3</text>\n",
       "<text text-anchor=\"start\" x=\"272.5\" y=\"-22.8\" font-family=\"Helvetica,sans-Serif\" font-size=\"14.00\">samples = 2734</text>\n",
       "<text text-anchor=\"start\" x=\"272.5\" y=\"-7.8\" font-family=\"Helvetica,sans-Serif\" font-size=\"14.00\">value = 365.435</text>\n",
       "</g>\n",
       "<!-- 6&#45;&gt;7 -->\n",
       "<g id=\"edge7\" class=\"edge\"><title>6&#45;&gt;7</title>\n",
       "<path fill=\"none\" stroke=\"black\" d=\"M398.38,-88.9485C386.399,-79.4346 373.352,-69.074 361.444,-59.6175\"/>\n",
       "<polygon fill=\"black\" stroke=\"black\" points=\"363.417,-56.7147 353.409,-53.2367 359.064,-62.1965 363.417,-56.7147\"/>\n",
       "</g>\n",
       "<!-- 8 -->\n",
       "<g id=\"node9\" class=\"node\"><title>8</title>\n",
       "<path fill=\"#e58139\" fill-opacity=\"0.062745\" stroke=\"black\" d=\"M506,-53C506,-53 408,-53 408,-53 402,-53 396,-47 396,-41 396,-41 396,-12 396,-12 396,-6 402,-0 408,-0 408,-0 506,-0 506,-0 512,-0 518,-6 518,-12 518,-12 518,-41 518,-41 518,-47 512,-53 506,-53\"/>\n",
       "<text text-anchor=\"start\" x=\"404\" y=\"-37.8\" font-family=\"Helvetica,sans-Serif\" font-size=\"14.00\">mse = 79330.053</text>\n",
       "<text text-anchor=\"start\" x=\"412\" y=\"-22.8\" font-family=\"Helvetica,sans-Serif\" font-size=\"14.00\">samples = 365</text>\n",
       "<text text-anchor=\"start\" x=\"408.5\" y=\"-7.8\" font-family=\"Helvetica,sans-Serif\" font-size=\"14.00\">value = 563.425</text>\n",
       "</g>\n",
       "<!-- 6&#45;&gt;8 -->\n",
       "<g id=\"edge8\" class=\"edge\"><title>6&#45;&gt;8</title>\n",
       "<path fill=\"none\" stroke=\"black\" d=\"M445.946,-88.9485C447.443,-80.6238 449.058,-71.6509 450.577,-63.2027\"/>\n",
       "<polygon fill=\"black\" stroke=\"black\" points=\"454.044,-63.6984 452.37,-53.2367 447.155,-62.459 454.044,-63.6984\"/>\n",
       "</g>\n",
       "<!-- 10 -->\n",
       "<g id=\"node11\" class=\"node\"><title>10</title>\n",
       "<path fill=\"#e58139\" fill-opacity=\"0.027451\" stroke=\"black\" d=\"M785.5,-157C785.5,-157 630.5,-157 630.5,-157 624.5,-157 618.5,-151 618.5,-145 618.5,-145 618.5,-101 618.5,-101 618.5,-95 624.5,-89 630.5,-89 630.5,-89 785.5,-89 785.5,-89 791.5,-89 797.5,-95 797.5,-101 797.5,-101 797.5,-145 797.5,-145 797.5,-151 791.5,-157 785.5,-157\"/>\n",
       "<text text-anchor=\"start\" x=\"626.5\" y=\"-141.8\" font-family=\"Helvetica,sans-Serif\" font-size=\"14.00\">bc_partner_OAF_low ≤ 8.5</text>\n",
       "<text text-anchor=\"start\" x=\"655\" y=\"-126.8\" font-family=\"Helvetica,sans-Serif\" font-size=\"14.00\">mse = 48261.916</text>\n",
       "<text text-anchor=\"start\" x=\"659.5\" y=\"-111.8\" font-family=\"Helvetica,sans-Serif\" font-size=\"14.00\">samples = 2137</text>\n",
       "<text text-anchor=\"start\" x=\"659.5\" y=\"-96.8\" font-family=\"Helvetica,sans-Serif\" font-size=\"14.00\">value = 389.132</text>\n",
       "</g>\n",
       "<!-- 9&#45;&gt;10 -->\n",
       "<g id=\"edge10\" class=\"edge\"><title>9&#45;&gt;10</title>\n",
       "<path fill=\"none\" stroke=\"black\" d=\"M777.559,-192.884C768.384,-183.798 758.334,-173.845 748.796,-164.4\"/>\n",
       "<polygon fill=\"black\" stroke=\"black\" points=\"751.194,-161.849 741.626,-157.299 746.269,-166.823 751.194,-161.849\"/>\n",
       "</g>\n",
       "<!-- 13 -->\n",
       "<g id=\"node14\" class=\"node\"><title>13</title>\n",
       "<path fill=\"#e58139\" fill-opacity=\"0.062745\" stroke=\"black\" d=\"M1000.5,-157C1000.5,-157 827.5,-157 827.5,-157 821.5,-157 815.5,-151 815.5,-145 815.5,-145 815.5,-101 815.5,-101 815.5,-95 821.5,-89 827.5,-89 827.5,-89 1000.5,-89 1000.5,-89 1006.5,-89 1012.5,-95 1012.5,-101 1012.5,-101 1012.5,-145 1012.5,-145 1012.5,-151 1006.5,-157 1000.5,-157\"/>\n",
       "<text text-anchor=\"start\" x=\"823.5\" y=\"-141.8\" font-family=\"Helvetica,sans-Serif\" font-size=\"14.00\">terms.repayment_term ≤ 16.5</text>\n",
       "<text text-anchor=\"start\" x=\"861\" y=\"-126.8\" font-family=\"Helvetica,sans-Serif\" font-size=\"14.00\">mse = 81172.303</text>\n",
       "<text text-anchor=\"start\" x=\"865.5\" y=\"-111.8\" font-family=\"Helvetica,sans-Serif\" font-size=\"14.00\">samples = 3047</text>\n",
       "<text text-anchor=\"start\" x=\"865.5\" y=\"-96.8\" font-family=\"Helvetica,sans-Serif\" font-size=\"14.00\">value = 562.832</text>\n",
       "</g>\n",
       "<!-- 9&#45;&gt;13 -->\n",
       "<g id=\"edge13\" class=\"edge\"><title>9&#45;&gt;13</title>\n",
       "<path fill=\"none\" stroke=\"black\" d=\"M844.441,-192.884C853.616,-183.798 863.666,-173.845 873.204,-164.4\"/>\n",
       "<polygon fill=\"black\" stroke=\"black\" points=\"875.731,-166.823 880.374,-157.299 870.806,-161.849 875.731,-166.823\"/>\n",
       "</g>\n",
       "<!-- 11 -->\n",
       "<g id=\"node12\" class=\"node\"><title>11</title>\n",
       "<path fill=\"#e58139\" fill-opacity=\"0.023529\" stroke=\"black\" d=\"M646,-53C646,-53 548,-53 548,-53 542,-53 536,-47 536,-41 536,-41 536,-12 536,-12 536,-6 542,-0 548,-0 548,-0 646,-0 646,-0 652,-0 658,-6 658,-12 658,-12 658,-41 658,-41 658,-47 652,-53 646,-53\"/>\n",
       "<text text-anchor=\"start\" x=\"544\" y=\"-37.8\" font-family=\"Helvetica,sans-Serif\" font-size=\"14.00\">mse = 31191.403</text>\n",
       "<text text-anchor=\"start\" x=\"548.5\" y=\"-22.8\" font-family=\"Helvetica,sans-Serif\" font-size=\"14.00\">samples = 2087</text>\n",
       "<text text-anchor=\"start\" x=\"548.5\" y=\"-7.8\" font-family=\"Helvetica,sans-Serif\" font-size=\"14.00\">value = 369.789</text>\n",
       "</g>\n",
       "<!-- 10&#45;&gt;11 -->\n",
       "<g id=\"edge11\" class=\"edge\"><title>10&#45;&gt;11</title>\n",
       "<path fill=\"none\" stroke=\"black\" d=\"M669.178,-88.9485C658.11,-79.526 646.067,-69.2731 635.046,-59.8906\"/>\n",
       "<polygon fill=\"black\" stroke=\"black\" points=\"637.114,-57.0542 627.23,-53.2367 632.576,-62.3842 637.114,-57.0542\"/>\n",
       "</g>\n",
       "<!-- 12 -->\n",
       "<g id=\"node13\" class=\"node\"><title>12</title>\n",
       "<path fill=\"#e58139\" fill-opacity=\"0.196078\" stroke=\"black\" d=\"M779.5,-53C779.5,-53 688.5,-53 688.5,-53 682.5,-53 676.5,-47 676.5,-41 676.5,-41 676.5,-12 676.5,-12 676.5,-6 682.5,-0 688.5,-0 688.5,-0 779.5,-0 779.5,-0 785.5,-0 791.5,-6 791.5,-12 791.5,-12 791.5,-41 791.5,-41 791.5,-47 785.5,-53 779.5,-53\"/>\n",
       "<text text-anchor=\"start\" x=\"684.5\" y=\"-37.8\" font-family=\"Helvetica,sans-Serif\" font-size=\"14.00\">mse = 93325.25</text>\n",
       "<text text-anchor=\"start\" x=\"693\" y=\"-22.8\" font-family=\"Helvetica,sans-Serif\" font-size=\"14.00\">samples = 50</text>\n",
       "<text text-anchor=\"start\" x=\"689\" y=\"-7.8\" font-family=\"Helvetica,sans-Serif\" font-size=\"14.00\">value = 1196.5</text>\n",
       "</g>\n",
       "<!-- 10&#45;&gt;12 -->\n",
       "<g id=\"edge12\" class=\"edge\"><title>10&#45;&gt;12</title>\n",
       "<path fill=\"none\" stroke=\"black\" d=\"M717.094,-88.9485C719.409,-80.5323 721.907,-71.4536 724.254,-62.9243\"/>\n",
       "<polygon fill=\"black\" stroke=\"black\" points=\"727.641,-63.8069 726.919,-53.2367 720.892,-61.9499 727.641,-63.8069\"/>\n",
       "</g>\n",
       "<!-- 14 -->\n",
       "<g id=\"node15\" class=\"node\"><title>14</title>\n",
       "<path fill=\"#e58139\" fill-opacity=\"0.054902\" stroke=\"black\" d=\"M920,-53C920,-53 822,-53 822,-53 816,-53 810,-47 810,-41 810,-41 810,-12 810,-12 810,-6 816,-0 822,-0 822,-0 920,-0 920,-0 926,-0 932,-6 932,-12 932,-12 932,-41 932,-41 932,-47 926,-53 920,-53\"/>\n",
       "<text text-anchor=\"start\" x=\"818\" y=\"-37.8\" font-family=\"Helvetica,sans-Serif\" font-size=\"14.00\">mse = 68828.373</text>\n",
       "<text text-anchor=\"start\" x=\"822.5\" y=\"-22.8\" font-family=\"Helvetica,sans-Serif\" font-size=\"14.00\">samples = 2747</text>\n",
       "<text text-anchor=\"start\" x=\"822.5\" y=\"-7.8\" font-family=\"Helvetica,sans-Serif\" font-size=\"14.00\">value = 536.513</text>\n",
       "</g>\n",
       "<!-- 13&#45;&gt;14 -->\n",
       "<g id=\"edge14\" class=\"edge\"><title>13&#45;&gt;14</title>\n",
       "<path fill=\"none\" stroke=\"black\" d=\"M898.961,-88.9485C895.048,-80.3494 890.82,-71.0586 886.866,-62.3689\"/>\n",
       "<polygon fill=\"black\" stroke=\"black\" points=\"890.038,-60.8891 882.711,-53.2367 883.667,-63.7883 890.038,-60.8891\"/>\n",
       "</g>\n",
       "<!-- 15 -->\n",
       "<g id=\"node16\" class=\"node\"><title>15</title>\n",
       "<path fill=\"#e58139\" fill-opacity=\"0.113725\" stroke=\"black\" d=\"M1068,-53C1068,-53 962,-53 962,-53 956,-53 950,-47 950,-41 950,-41 950,-12 950,-12 950,-6 956,-0 962,-0 962,-0 1068,-0 1068,-0 1074,-0 1080,-6 1080,-12 1080,-12 1080,-41 1080,-41 1080,-47 1074,-53 1068,-53\"/>\n",
       "<text text-anchor=\"start\" x=\"958\" y=\"-37.8\" font-family=\"Helvetica,sans-Serif\" font-size=\"14.00\">mse = 129776.972</text>\n",
       "<text text-anchor=\"start\" x=\"970\" y=\"-22.8\" font-family=\"Helvetica,sans-Serif\" font-size=\"14.00\">samples = 300</text>\n",
       "<text text-anchor=\"start\" x=\"966.5\" y=\"-7.8\" font-family=\"Helvetica,sans-Serif\" font-size=\"14.00\">value = 803.833</text>\n",
       "</g>\n",
       "<!-- 13&#45;&gt;15 -->\n",
       "<g id=\"edge15\" class=\"edge\"><title>13&#45;&gt;15</title>\n",
       "<path fill=\"none\" stroke=\"black\" d=\"M949.325,-88.9485C959.298,-79.6175 970.141,-69.4722 980.089,-60.1641\"/>\n",
       "<polygon fill=\"black\" stroke=\"black\" points=\"982.582,-62.6247 987.493,-53.2367 977.8,-57.5132 982.582,-62.6247\"/>\n",
       "</g>\n",
       "<!-- 17 -->\n",
       "<g id=\"node18\" class=\"node\"><title>17</title>\n",
       "<path fill=\"#e58139\" fill-opacity=\"0.572549\" stroke=\"black\" d=\"M1435.5,-261C1435.5,-261 1274.5,-261 1274.5,-261 1268.5,-261 1262.5,-255 1262.5,-249 1262.5,-249 1262.5,-205 1262.5,-205 1262.5,-199 1268.5,-193 1274.5,-193 1274.5,-193 1435.5,-193 1435.5,-193 1441.5,-193 1447.5,-199 1447.5,-205 1447.5,-205 1447.5,-249 1447.5,-249 1447.5,-255 1441.5,-261 1435.5,-261\"/>\n",
       "<text text-anchor=\"start\" x=\"1270.5\" y=\"-245.8\" font-family=\"Helvetica,sans-Serif\" font-size=\"14.00\">bc_partner_OAF_high ≤ 4.5</text>\n",
       "<text text-anchor=\"start\" x=\"1298\" y=\"-230.8\" font-family=\"Helvetica,sans-Serif\" font-size=\"14.00\">mse = 321572.222</text>\n",
       "<text text-anchor=\"start\" x=\"1314\" y=\"-215.8\" font-family=\"Helvetica,sans-Serif\" font-size=\"14.00\">samples = 15</text>\n",
       "<text text-anchor=\"start\" x=\"1302.5\" y=\"-200.8\" font-family=\"Helvetica,sans-Serif\" font-size=\"14.00\">value = 2996.667</text>\n",
       "</g>\n",
       "<!-- 16&#45;&gt;17 -->\n",
       "<g id=\"edge17\" class=\"edge\"><title>16&#45;&gt;17</title>\n",
       "<path fill=\"none\" stroke=\"black\" d=\"M1355,-296.884C1355,-288.778 1355,-279.982 1355,-271.472\"/>\n",
       "<polygon fill=\"black\" stroke=\"black\" points=\"1358.5,-271.299 1355,-261.299 1351.5,-271.299 1358.5,-271.299\"/>\n",
       "</g>\n",
       "<!-- 24 -->\n",
       "<g id=\"node25\" class=\"node\"><title>24</title>\n",
       "<path fill=\"#e58139\" fill-opacity=\"0.894118\" stroke=\"black\" d=\"M1844.5,-261C1844.5,-261 1683.5,-261 1683.5,-261 1677.5,-261 1671.5,-255 1671.5,-249 1671.5,-249 1671.5,-205 1671.5,-205 1671.5,-199 1677.5,-193 1683.5,-193 1683.5,-193 1844.5,-193 1844.5,-193 1850.5,-193 1856.5,-199 1856.5,-205 1856.5,-205 1856.5,-249 1856.5,-249 1856.5,-255 1850.5,-261 1844.5,-261\"/>\n",
       "<text text-anchor=\"start\" x=\"1679.5\" y=\"-245.8\" font-family=\"Helvetica,sans-Serif\" font-size=\"14.00\">bc_partner_OAF_high ≤ 6.5</text>\n",
       "<text text-anchor=\"start\" x=\"1707\" y=\"-230.8\" font-family=\"Helvetica,sans-Serif\" font-size=\"14.00\">mse = 354382.086</text>\n",
       "<text text-anchor=\"start\" x=\"1723\" y=\"-215.8\" font-family=\"Helvetica,sans-Serif\" font-size=\"14.00\">samples = 21</text>\n",
       "<text text-anchor=\"start\" x=\"1711.5\" y=\"-200.8\" font-family=\"Helvetica,sans-Serif\" font-size=\"14.00\">value = 4538.095</text>\n",
       "</g>\n",
       "<!-- 16&#45;&gt;24 -->\n",
       "<g id=\"edge24\" class=\"edge\"><title>16&#45;&gt;24</title>\n",
       "<path fill=\"none\" stroke=\"black\" d=\"M1447.55,-306.918C1511.21,-291.043 1595.78,-269.952 1661.48,-253.567\"/>\n",
       "<polygon fill=\"black\" stroke=\"black\" points=\"1662.59,-256.898 1671.45,-251.082 1660.9,-250.106 1662.59,-256.898\"/>\n",
       "</g>\n",
       "<!-- 18 -->\n",
       "<g id=\"node19\" class=\"node\"><title>18</title>\n",
       "<path fill=\"#e58139\" fill-opacity=\"0.443137\" stroke=\"black\" d=\"M1336,-157C1336,-157 1230,-157 1230,-157 1224,-157 1218,-151 1218,-145 1218,-145 1218,-101 1218,-101 1218,-95 1224,-89 1230,-89 1230,-89 1336,-89 1336,-89 1342,-89 1348,-95 1348,-101 1348,-101 1348,-145 1348,-145 1348,-151 1342,-157 1336,-157\"/>\n",
       "<text text-anchor=\"start\" x=\"1239.5\" y=\"-141.8\" font-family=\"Helvetica,sans-Serif\" font-size=\"14.00\">age_int ≤ 36.0</text>\n",
       "<text text-anchor=\"start\" x=\"1226\" y=\"-126.8\" font-family=\"Helvetica,sans-Serif\" font-size=\"14.00\">mse = 137291.667</text>\n",
       "<text text-anchor=\"start\" x=\"1245.5\" y=\"-111.8\" font-family=\"Helvetica,sans-Serif\" font-size=\"14.00\">samples = 6</text>\n",
       "<text text-anchor=\"start\" x=\"1238\" y=\"-96.8\" font-family=\"Helvetica,sans-Serif\" font-size=\"14.00\">value = 2375.0</text>\n",
       "</g>\n",
       "<!-- 17&#45;&gt;18 -->\n",
       "<g id=\"edge18\" class=\"edge\"><title>17&#45;&gt;18</title>\n",
       "<path fill=\"none\" stroke=\"black\" d=\"M1331.62,-192.884C1325.46,-184.154 1318.74,-174.625 1312.3,-165.514\"/>\n",
       "<polygon fill=\"black\" stroke=\"black\" points=\"1315.13,-163.451 1306.51,-157.299 1309.41,-167.487 1315.13,-163.451\"/>\n",
       "</g>\n",
       "<!-- 21 -->\n",
       "<g id=\"node22\" class=\"node\"><title>21</title>\n",
       "<path fill=\"#e58139\" fill-opacity=\"0.658824\" stroke=\"black\" d=\"M1476,-157C1476,-157 1378,-157 1378,-157 1372,-157 1366,-151 1366,-145 1366,-145 1366,-101 1366,-101 1366,-95 1372,-89 1378,-89 1378,-89 1476,-89 1476,-89 1482,-89 1488,-95 1488,-101 1488,-101 1488,-145 1488,-145 1488,-151 1482,-157 1476,-157\"/>\n",
       "<text text-anchor=\"start\" x=\"1379.5\" y=\"-141.8\" font-family=\"Helvetica,sans-Serif\" font-size=\"14.00\">num_tags ≤ 2.5</text>\n",
       "<text text-anchor=\"start\" x=\"1374\" y=\"-126.8\" font-family=\"Helvetica,sans-Serif\" font-size=\"14.00\">mse = 15015.432</text>\n",
       "<text text-anchor=\"start\" x=\"1389.5\" y=\"-111.8\" font-family=\"Helvetica,sans-Serif\" font-size=\"14.00\">samples = 9</text>\n",
       "<text text-anchor=\"start\" x=\"1374.5\" y=\"-96.8\" font-family=\"Helvetica,sans-Serif\" font-size=\"14.00\">value = 3411.111</text>\n",
       "</g>\n",
       "<!-- 17&#45;&gt;21 -->\n",
       "<g id=\"edge21\" class=\"edge\"><title>17&#45;&gt;21</title>\n",
       "<path fill=\"none\" stroke=\"black\" d=\"M1378.38,-192.884C1384.54,-184.154 1391.26,-174.625 1397.7,-165.514\"/>\n",
       "<polygon fill=\"black\" stroke=\"black\" points=\"1400.59,-167.487 1403.49,-157.299 1394.87,-163.451 1400.59,-167.487\"/>\n",
       "</g>\n",
       "<!-- 19 -->\n",
       "<g id=\"node20\" class=\"node\"><title>19</title>\n",
       "<path fill=\"#e58139\" fill-opacity=\"0.345098\" stroke=\"black\" d=\"M1193.5,-53C1193.5,-53 1110.5,-53 1110.5,-53 1104.5,-53 1098.5,-47 1098.5,-41 1098.5,-41 1098.5,-12 1098.5,-12 1098.5,-6 1104.5,-0 1110.5,-0 1110.5,-0 1193.5,-0 1193.5,-0 1199.5,-0 1205.5,-6 1205.5,-12 1205.5,-12 1205.5,-41 1205.5,-41 1205.5,-47 1199.5,-53 1193.5,-53\"/>\n",
       "<text text-anchor=\"start\" x=\"1106.5\" y=\"-37.8\" font-family=\"Helvetica,sans-Serif\" font-size=\"14.00\">mse = 7656.25</text>\n",
       "<text text-anchor=\"start\" x=\"1114.5\" y=\"-22.8\" font-family=\"Helvetica,sans-Serif\" font-size=\"14.00\">samples = 2</text>\n",
       "<text text-anchor=\"start\" x=\"1107\" y=\"-7.8\" font-family=\"Helvetica,sans-Serif\" font-size=\"14.00\">value = 1912.5</text>\n",
       "</g>\n",
       "<!-- 18&#45;&gt;19 -->\n",
       "<g id=\"edge19\" class=\"edge\"><title>18&#45;&gt;19</title>\n",
       "<path fill=\"none\" stroke=\"black\" d=\"M1237.18,-88.9485C1223.87,-79.3431 1209.36,-68.8747 1196.14,-59.345\"/>\n",
       "<polygon fill=\"black\" stroke=\"black\" points=\"1197.84,-56.2486 1187.68,-53.2367 1193.74,-61.9257 1197.84,-56.2486\"/>\n",
       "</g>\n",
       "<!-- 20 -->\n",
       "<g id=\"node21\" class=\"node\"><title>20</title>\n",
       "<path fill=\"#e58139\" fill-opacity=\"0.490196\" stroke=\"black\" d=\"M1334,-53C1334,-53 1236,-53 1236,-53 1230,-53 1224,-47 1224,-41 1224,-41 1224,-12 1224,-12 1224,-6 1230,-0 1236,-0 1236,-0 1334,-0 1334,-0 1340,-0 1346,-6 1346,-12 1346,-12 1346,-41 1346,-41 1346,-47 1340,-53 1334,-53\"/>\n",
       "<text text-anchor=\"start\" x=\"1232\" y=\"-37.8\" font-family=\"Helvetica,sans-Serif\" font-size=\"14.00\">mse = 41679.688</text>\n",
       "<text text-anchor=\"start\" x=\"1247.5\" y=\"-22.8\" font-family=\"Helvetica,sans-Serif\" font-size=\"14.00\">samples = 4</text>\n",
       "<text text-anchor=\"start\" x=\"1236.5\" y=\"-7.8\" font-family=\"Helvetica,sans-Serif\" font-size=\"14.00\">value = 2606.25</text>\n",
       "</g>\n",
       "<!-- 18&#45;&gt;20 -->\n",
       "<g id=\"edge20\" class=\"edge\"><title>18&#45;&gt;20</title>\n",
       "<path fill=\"none\" stroke=\"black\" d=\"M1283.7,-88.9485C1283.87,-80.7153 1284.06,-71.848 1284.24,-63.4814\"/>\n",
       "<polygon fill=\"black\" stroke=\"black\" points=\"1287.74,-63.3086 1284.46,-53.2367 1280.74,-63.1604 1287.74,-63.3086\"/>\n",
       "</g>\n",
       "<!-- 22 -->\n",
       "<g id=\"node23\" class=\"node\"><title>22</title>\n",
       "<path fill=\"#e58139\" fill-opacity=\"0.647059\" stroke=\"black\" d=\"M1473.5,-53C1473.5,-53 1376.5,-53 1376.5,-53 1370.5,-53 1364.5,-47 1364.5,-41 1364.5,-41 1364.5,-12 1364.5,-12 1364.5,-6 1370.5,-0 1376.5,-0 1376.5,-0 1473.5,-0 1473.5,-0 1479.5,-0 1485.5,-6 1485.5,-12 1485.5,-12 1485.5,-41 1485.5,-41 1485.5,-47 1479.5,-53 1473.5,-53\"/>\n",
       "<text text-anchor=\"start\" x=\"1375.5\" y=\"-37.8\" font-family=\"Helvetica,sans-Serif\" font-size=\"14.00\">mse = 8420.139</text>\n",
       "<text text-anchor=\"start\" x=\"1387.5\" y=\"-22.8\" font-family=\"Helvetica,sans-Serif\" font-size=\"14.00\">samples = 6</text>\n",
       "<text text-anchor=\"start\" x=\"1372.5\" y=\"-7.8\" font-family=\"Helvetica,sans-Serif\" font-size=\"14.00\">value = 3345.833</text>\n",
       "</g>\n",
       "<!-- 21&#45;&gt;22 -->\n",
       "<g id=\"edge22\" class=\"edge\"><title>21&#45;&gt;22</title>\n",
       "<path fill=\"none\" stroke=\"black\" d=\"M1426.3,-88.9485C1426.13,-80.7153 1425.94,-71.848 1425.76,-63.4814\"/>\n",
       "<polygon fill=\"black\" stroke=\"black\" points=\"1429.26,-63.1604 1425.54,-53.2367 1422.26,-63.3086 1429.26,-63.1604\"/>\n",
       "</g>\n",
       "<!-- 23 -->\n",
       "<g id=\"node24\" class=\"node\"><title>23</title>\n",
       "<path fill=\"#e58139\" fill-opacity=\"0.686275\" stroke=\"black\" d=\"M1612.5,-53C1612.5,-53 1515.5,-53 1515.5,-53 1509.5,-53 1503.5,-47 1503.5,-41 1503.5,-41 1503.5,-12 1503.5,-12 1503.5,-6 1509.5,-0 1515.5,-0 1515.5,-0 1612.5,-0 1612.5,-0 1618.5,-0 1624.5,-6 1624.5,-12 1624.5,-12 1624.5,-41 1624.5,-41 1624.5,-47 1618.5,-53 1612.5,-53\"/>\n",
       "<text text-anchor=\"start\" x=\"1514.5\" y=\"-37.8\" font-family=\"Helvetica,sans-Serif\" font-size=\"14.00\">mse = 2638.889</text>\n",
       "<text text-anchor=\"start\" x=\"1526.5\" y=\"-22.8\" font-family=\"Helvetica,sans-Serif\" font-size=\"14.00\">samples = 3</text>\n",
       "<text text-anchor=\"start\" x=\"1511.5\" y=\"-7.8\" font-family=\"Helvetica,sans-Serif\" font-size=\"14.00\">value = 3541.667</text>\n",
       "</g>\n",
       "<!-- 21&#45;&gt;23 -->\n",
       "<g id=\"edge23\" class=\"edge\"><title>21&#45;&gt;23</title>\n",
       "<path fill=\"none\" stroke=\"black\" d=\"M1474.92,-88.9485C1488.97,-79.2516 1504.31,-68.6752 1518.23,-59.073\"/>\n",
       "<polygon fill=\"black\" stroke=\"black\" points=\"1520.44,-61.7959 1526.69,-53.2367 1516.47,-56.0337 1520.44,-61.7959\"/>\n",
       "</g>\n",
       "<!-- 25 -->\n",
       "<g id=\"node26\" class=\"node\"><title>25</title>\n",
       "<path fill=\"#e58139\" fill-opacity=\"0.796078\" stroke=\"black\" d=\"M1818,-157C1818,-157 1710,-157 1710,-157 1704,-157 1698,-151 1698,-145 1698,-145 1698,-101 1698,-101 1698,-95 1704,-89 1710,-89 1710,-89 1818,-89 1818,-89 1824,-89 1830,-95 1830,-101 1830,-101 1830,-145 1830,-145 1830,-151 1824,-157 1818,-157\"/>\n",
       "<text text-anchor=\"start\" x=\"1706\" y=\"-141.8\" font-family=\"Helvetica,sans-Serif\" font-size=\"14.00\">days_to_fund ≤ 0.5</text>\n",
       "<text text-anchor=\"start\" x=\"1707\" y=\"-126.8\" font-family=\"Helvetica,sans-Serif\" font-size=\"14.00\">mse = 255941.358</text>\n",
       "<text text-anchor=\"start\" x=\"1726.5\" y=\"-111.8\" font-family=\"Helvetica,sans-Serif\" font-size=\"14.00\">samples = 9</text>\n",
       "<text text-anchor=\"start\" x=\"1711.5\" y=\"-96.8\" font-family=\"Helvetica,sans-Serif\" font-size=\"14.00\">value = 4069.444</text>\n",
       "</g>\n",
       "<!-- 24&#45;&gt;25 -->\n",
       "<g id=\"edge25\" class=\"edge\"><title>24&#45;&gt;25</title>\n",
       "<path fill=\"none\" stroke=\"black\" d=\"M1764,-192.884C1764,-184.778 1764,-175.982 1764,-167.472\"/>\n",
       "<polygon fill=\"black\" stroke=\"black\" points=\"1767.5,-167.299 1764,-157.299 1760.5,-167.299 1767.5,-167.299\"/>\n",
       "</g>\n",
       "<!-- 28 -->\n",
       "<g id=\"node29\" class=\"node\"><title>28</title>\n",
       "<path fill=\"#e58139\" fill-opacity=\"0.968627\" stroke=\"black\" d=\"M2034,-157C2034,-157 1928,-157 1928,-157 1922,-157 1916,-151 1916,-145 1916,-145 1916,-101 1916,-101 1916,-95 1922,-89 1928,-89 1928,-89 2034,-89 2034,-89 2040,-89 2046,-95 2046,-101 2046,-101 2046,-145 2046,-145 2046,-151 2040,-157 2034,-157\"/>\n",
       "<text text-anchor=\"start\" x=\"1929\" y=\"-141.8\" font-family=\"Helvetica,sans-Serif\" font-size=\"14.00\">children_int ≤ 6.5</text>\n",
       "<text text-anchor=\"start\" x=\"1924\" y=\"-126.8\" font-family=\"Helvetica,sans-Serif\" font-size=\"14.00\">mse = 139943.576</text>\n",
       "<text text-anchor=\"start\" x=\"1940\" y=\"-111.8\" font-family=\"Helvetica,sans-Serif\" font-size=\"14.00\">samples = 12</text>\n",
       "<text text-anchor=\"start\" x=\"1928.5\" y=\"-96.8\" font-family=\"Helvetica,sans-Serif\" font-size=\"14.00\">value = 4889.583</text>\n",
       "</g>\n",
       "<!-- 24&#45;&gt;28 -->\n",
       "<g id=\"edge28\" class=\"edge\"><title>24&#45;&gt;28</title>\n",
       "<path fill=\"none\" stroke=\"black\" d=\"M1834.45,-192.884C1857.51,-182.048 1883.18,-169.979 1906.52,-159.009\"/>\n",
       "<polygon fill=\"black\" stroke=\"black\" points=\"1908.12,-162.125 1915.68,-154.703 1905.14,-155.79 1908.12,-162.125\"/>\n",
       "</g>\n",
       "<!-- 26 -->\n",
       "<g id=\"node27\" class=\"node\"><title>26</title>\n",
       "<path fill=\"#e58139\" fill-opacity=\"0.925490\" stroke=\"black\" d=\"M1737.5,-53C1737.5,-53 1654.5,-53 1654.5,-53 1648.5,-53 1642.5,-47 1642.5,-41 1642.5,-41 1642.5,-12 1642.5,-12 1642.5,-6 1648.5,-0 1654.5,-0 1654.5,-0 1737.5,-0 1737.5,-0 1743.5,-0 1749.5,-6 1749.5,-12 1749.5,-12 1749.5,-41 1749.5,-41 1749.5,-47 1743.5,-53 1737.5,-53\"/>\n",
       "<text text-anchor=\"start\" x=\"1650.5\" y=\"-37.8\" font-family=\"Helvetica,sans-Serif\" font-size=\"14.00\">mse = 62500.0</text>\n",
       "<text text-anchor=\"start\" x=\"1658.5\" y=\"-22.8\" font-family=\"Helvetica,sans-Serif\" font-size=\"14.00\">samples = 2</text>\n",
       "<text text-anchor=\"start\" x=\"1651\" y=\"-7.8\" font-family=\"Helvetica,sans-Serif\" font-size=\"14.00\">value = 4675.0</text>\n",
       "</g>\n",
       "<!-- 25&#45;&gt;26 -->\n",
       "<g id=\"edge26\" class=\"edge\"><title>25&#45;&gt;26</title>\n",
       "<path fill=\"none\" stroke=\"black\" d=\"M1740.22,-88.9485C1733.83,-80.0749 1726.92,-70.4648 1720.49,-61.5388\"/>\n",
       "<polygon fill=\"black\" stroke=\"black\" points=\"1723.2,-59.3094 1714.52,-53.2367 1717.52,-63.398 1723.2,-59.3094\"/>\n",
       "</g>\n",
       "<!-- 27 -->\n",
       "<g id=\"node28\" class=\"node\"><title>27</title>\n",
       "<path fill=\"#e58139\" fill-opacity=\"0.760784\" stroke=\"black\" d=\"M1886,-53C1886,-53 1780,-53 1780,-53 1774,-53 1768,-47 1768,-41 1768,-41 1768,-12 1768,-12 1768,-6 1774,-0 1780,-0 1780,-0 1886,-0 1886,-0 1892,-0 1898,-6 1898,-12 1898,-12 1898,-41 1898,-41 1898,-47 1892,-53 1886,-53\"/>\n",
       "<text text-anchor=\"start\" x=\"1776\" y=\"-37.8\" font-family=\"Helvetica,sans-Serif\" font-size=\"14.00\">mse = 176505.102</text>\n",
       "<text text-anchor=\"start\" x=\"1795.5\" y=\"-22.8\" font-family=\"Helvetica,sans-Serif\" font-size=\"14.00\">samples = 7</text>\n",
       "<text text-anchor=\"start\" x=\"1780.5\" y=\"-7.8\" font-family=\"Helvetica,sans-Serif\" font-size=\"14.00\">value = 3896.429</text>\n",
       "</g>\n",
       "<!-- 25&#45;&gt;27 -->\n",
       "<g id=\"edge27\" class=\"edge\"><title>25&#45;&gt;27</title>\n",
       "<path fill=\"none\" stroke=\"black\" d=\"M1788.13,-88.9485C1794.61,-80.0749 1801.63,-70.4648 1808.15,-61.5388\"/>\n",
       "<polygon fill=\"black\" stroke=\"black\" points=\"1811.14,-63.3769 1814.21,-53.2367 1805.48,-59.249 1811.14,-63.3769\"/>\n",
       "</g>\n",
       "<!-- 29 -->\n",
       "<g id=\"node30\" class=\"node\"><title>29</title>\n",
       "<path fill=\"#e58139\" stroke=\"black\" d=\"M2034,-53C2034,-53 1928,-53 1928,-53 1922,-53 1916,-47 1916,-41 1916,-41 1916,-12 1916,-12 1916,-6 1922,-0 1928,-0 1928,-0 2034,-0 2034,-0 2040,-0 2046,-6 2046,-12 2046,-12 2046,-41 2046,-41 2046,-47 2040,-53 2034,-53\"/>\n",
       "<text text-anchor=\"start\" x=\"1924\" y=\"-37.8\" font-family=\"Helvetica,sans-Serif\" font-size=\"14.00\">mse = 131396.484</text>\n",
       "<text text-anchor=\"start\" x=\"1943.5\" y=\"-22.8\" font-family=\"Helvetica,sans-Serif\" font-size=\"14.00\">samples = 8</text>\n",
       "<text text-anchor=\"start\" x=\"1928.5\" y=\"-7.8\" font-family=\"Helvetica,sans-Serif\" font-size=\"14.00\">value = 5034.375</text>\n",
       "</g>\n",
       "<!-- 28&#45;&gt;29 -->\n",
       "<g id=\"edge29\" class=\"edge\"><title>28&#45;&gt;29</title>\n",
       "<path fill=\"none\" stroke=\"black\" d=\"M1981,-88.9485C1981,-80.7153 1981,-71.848 1981,-63.4814\"/>\n",
       "<polygon fill=\"black\" stroke=\"black\" points=\"1984.5,-63.2367 1981,-53.2367 1977.5,-63.2367 1984.5,-63.2367\"/>\n",
       "</g>\n",
       "<!-- 30 -->\n",
       "<g id=\"node31\" class=\"node\"><title>30</title>\n",
       "<path fill=\"#e58139\" fill-opacity=\"0.909804\" stroke=\"black\" d=\"M2159.5,-53C2159.5,-53 2076.5,-53 2076.5,-53 2070.5,-53 2064.5,-47 2064.5,-41 2064.5,-41 2064.5,-12 2064.5,-12 2064.5,-6 2070.5,-0 2076.5,-0 2076.5,-0 2159.5,-0 2159.5,-0 2165.5,-0 2171.5,-6 2171.5,-12 2171.5,-12 2171.5,-41 2171.5,-41 2171.5,-47 2165.5,-53 2159.5,-53\"/>\n",
       "<text text-anchor=\"start\" x=\"2072.5\" y=\"-37.8\" font-family=\"Helvetica,sans-Serif\" font-size=\"14.00\">mse = 31250.0</text>\n",
       "<text text-anchor=\"start\" x=\"2080.5\" y=\"-22.8\" font-family=\"Helvetica,sans-Serif\" font-size=\"14.00\">samples = 4</text>\n",
       "<text text-anchor=\"start\" x=\"2073\" y=\"-7.8\" font-family=\"Helvetica,sans-Serif\" font-size=\"14.00\">value = 4600.0</text>\n",
       "</g>\n",
       "<!-- 28&#45;&gt;30 -->\n",
       "<g id=\"edge30\" class=\"edge\"><title>28&#45;&gt;30</title>\n",
       "<path fill=\"none\" stroke=\"black\" d=\"M2028.92,-88.9485C2042.97,-79.2516 2058.31,-68.6752 2072.23,-59.073\"/>\n",
       "<polygon fill=\"black\" stroke=\"black\" points=\"2074.44,-61.7959 2080.69,-53.2367 2070.47,-56.0337 2074.44,-61.7959\"/>\n",
       "</g>\n",
       "</g>\n",
       "</svg>\n"
      ],
      "text/plain": [
       "<graphviz.files.Source at 0x7f808bba6208>"
      ]
     },
     "execution_count": 13,
     "metadata": {},
     "output_type": "execute_result"
    }
   ],
   "source": [
    "# from the sklearn tree library, create image of trained decision tree\n",
    "dot_data = tree.export_graphviz(trained_regressor, out_file=None, \n",
    "                         feature_names=X_train.columns,  \n",
    "                         class_names=y_train.values,  \n",
    "                         filled=True, rounded=True,  \n",
    "                         special_characters=True) \n",
    "# use graphviz to render the image\n",
    "graph = graphviz.Source(dot_data) \n",
    "graph"
   ]
  },
  {
   "cell_type": "markdown",
   "metadata": {},
   "source": [
    "** IMPORTANT**\n",
    "\n",
    "A DecisionTreeRegressor with a max depth of only 4 is still rather complicated. To develop your intuition for the various input parameters, manually adjust them up and down to see the impacts.\n",
    "\n",
    "Overall we're aiming for the highest predictive power on the test set. However, if you were to tune the parameters manually towards a higher score on the test data set, we would overfit to this specific test data set and the model would not generalize well to a secondary test data set.  \n",
    "\n",
    "To avoid this, we will use k-fold validation. In addition to k-fold validation, we will use sklearn's GridSearchCV, which allows us using k-fold validation to assess every permuation of possible values for the parameters that we provide. See the [Advanced Material](#AdvancedCV) at the bottom of this notebook for a quick overview of these two methods.\n",
    "\n",
    "**Note** since we are training one regressor one time for each possible permutation of specified parameter values, this next cell will take some time to run.  That is why you need to gain an intuition for which values to test!"
   ]
  },
  {
   "cell_type": "code",
   "execution_count": 1,
   "metadata": {},
   "outputs": [
    {
     "ename": "NameError",
     "evalue": "name 'DecisionTreeRegressor' is not defined",
     "output_type": "error",
     "traceback": [
      "\u001b[0;31m---------------------------------------------------------------------------\u001b[0m",
      "\u001b[0;31mNameError\u001b[0m                                 Traceback (most recent call last)",
      "\u001b[0;32m<ipython-input-1-f45e7849a07b>\u001b[0m in \u001b[0;36m<module>\u001b[0;34m()\u001b[0m\n\u001b[1;32m      4\u001b[0m               'min_samples_split': [10, 50, 2]}\n\u001b[1;32m      5\u001b[0m \u001b[0;31m# Initialize model\u001b[0m\u001b[0;34m\u001b[0m\u001b[0;34m\u001b[0m\u001b[0m\n\u001b[0;32m----> 6\u001b[0;31m \u001b[0mdecision_regressor\u001b[0m\u001b[0;34m=\u001b[0m \u001b[0mDecisionTreeRegressor\u001b[0m\u001b[0;34m(\u001b[0m\u001b[0mrandom_state\u001b[0m\u001b[0;34m=\u001b[0m\u001b[0;36m42\u001b[0m\u001b[0;34m)\u001b[0m\u001b[0;34m\u001b[0m\u001b[0m\n\u001b[0m\u001b[1;32m      7\u001b[0m \u001b[0;34m\u001b[0m\u001b[0m\n\u001b[1;32m      8\u001b[0m \u001b[0;31m# Initialize GridSearch and then fit\u001b[0m\u001b[0;34m\u001b[0m\u001b[0;34m\u001b[0m\u001b[0m\n",
      "\u001b[0;31mNameError\u001b[0m: name 'DecisionTreeRegressor' is not defined"
     ]
    }
   ],
   "source": [
    "# Set parameters to search through - known as parameter grid\n",
    "parameters = {'max_depth':[8,10,14], \n",
    "              'min_impurity_decrease': [.1,.01, 0.0],\n",
    "              'min_samples_split': [10, 50, 2]}\n",
    "# Initialize model\n",
    "decision_regressor= DecisionTreeRegressor(random_state=42)\n",
    "\n",
    "# Initialize GridSearch and then fit\n",
    "regressor = GridSearchCV(decision_regressor, parameters)\n",
    "regressor.fit(X_train, y_train)"
   ]
  },
  {
   "cell_type": "code",
   "execution_count": 16,
   "metadata": {},
   "outputs": [
    {
     "data": {
      "text/plain": [
       "{'criterion': 'mse',\n",
       " 'max_depth': 8,\n",
       " 'max_features': None,\n",
       " 'max_leaf_nodes': None,\n",
       " 'min_impurity_decrease': 0.1,\n",
       " 'min_impurity_split': None,\n",
       " 'min_samples_leaf': 1,\n",
       " 'min_samples_split': 10,\n",
       " 'min_weight_fraction_leaf': 0.0,\n",
       " 'presort': False,\n",
       " 'random_state': 42,\n",
       " 'splitter': 'best'}"
      ]
     },
     "execution_count": 16,
     "metadata": {},
     "output_type": "execute_result"
    }
   ],
   "source": [
    "# print out what GridSearchCV found to be the best parameters \n",
    "regressor.best_estimator_.get_params()"
   ]
  },
  {
   "cell_type": "code",
   "execution_count": 17,
   "metadata": {},
   "outputs": [
    {
     "name": "stdout",
     "output_type": "stream",
     "text": [
      "Train score: 0.6894\n",
      "Test score: 0.5692\n"
     ]
    }
   ],
   "source": [
    "# evaluate the tuned model\n",
    "trained_regressor = train_score_regressor(sklearn_regressor = DecisionTreeRegressor,\n",
    "                                          X_train = X_train, y_train = y_train, \n",
    "                                          X_test = X_test, y_test = y_test, \n",
    "                                          model_parameters = regressor.best_estimator_.get_params())"
   ]
  },
  {
   "cell_type": "markdown",
   "metadata": {},
   "source": [
    "Performance on the test data has increased again - not bad!\n",
    "\n",
    "The R^2 number above is pretty telling but it is always good to visualise how these look in a scattor plot."
   ]
  },
  {
   "cell_type": "code",
   "execution_count": 33,
   "metadata": {
    "collapsed": true
   },
   "outputs": [],
   "source": [
    "# plotting a graph of the true values vs the predicted values for the training and test datasets\n",
    "def plot_y_yhat_scatter(y_actual,y_predicted,train_test):\n",
    "    ax = sns.regplot(x=y_actual, y=y_predicted, fit_reg=False)\n",
    "    ax.set_xlabel('true values')\n",
    "    ax.set_ylabel('predicted values')\n",
    "    ax.set_title('Relationship between true and predicted loan amounts: '+train_test+' results')\n",
    "    pass"
   ]
  },
  {
   "cell_type": "code",
   "execution_count": 34,
   "metadata": {},
   "outputs": [
    {
     "data": {
      "image/png": "[encoded data removed]",
      "text/plain": [
       "<matplotlib.figure.Figure at 0x7f808c094be0>"
      ]
     },
     "metadata": {},
     "output_type": "display_data"
    }
   ],
   "source": [
    "plot_y_yhat_scatter(y_train, trained_regressor.predict(X_train),train_test = \"training\")"
   ]
  },
  {
   "cell_type": "code",
   "execution_count": 35,
   "metadata": {},
   "outputs": [
    {
     "data": {
      "image/png": "[encoded data removed]",
      "text/plain": [
       "<matplotlib.figure.Figure at 0x7f808c770a20>"
      ]
     },
     "metadata": {},
     "output_type": "display_data"
    }
   ],
   "source": [
    "plot_y_yhat_scatter(y_test, trained_regressor.predict(X_test),train_test = \"test\")"
   ]
  },
  {
   "cell_type": "markdown",
   "metadata": {
    "collapsed": true
   },
   "source": [
    "## 6. Feature Importance\n",
    "<a id='featureimportance'></a>\n",
    "\n",
    "We can look at which features are driving our model's predictions by examining the feature importance. \n",
    "\n",
    "Remember the magnitude of the 'importance' is not indicative of how important the feature is, only the order matters!\n",
    "\n",
    "For example,\n",
    "- feature A has an importance of 0.5 \n",
    "- feature B has an importance of 0.25. \n",
    "\n",
    "All we can take away is that feature A explains more variance then feautre B, **not** that feature A explains twice as much as feature B. "
   ]
  },
  {
   "cell_type": "code",
   "execution_count": 36,
   "metadata": {},
   "outputs": [
    {
     "name": "stdout",
     "output_type": "stream",
     "text": [
      "Feature Ranking:\n",
      "1. feature bc_partner_OAF_high (0.526394)\n",
      "2. feature terms.repayment_term (0.135870)\n",
      "3. feature days_to_fund (0.112209)\n",
      "4. feature num_partner_countries (0.050301)\n",
      "5. feature bc_partner_OAF_low (0.043363)\n",
      "6. feature partner_dollar_amount (0.040926)\n",
      "7. feature posted_year (0.029837)\n",
      "8. feature partner_delinquency_rate (0.010638)\n",
      "9. feature bc_partner_HIHEA (0.010586)\n",
      "10. feature hours_to_fund (0.009855)\n",
      "11. feature top_partner_id (0.007013)\n",
      "12. feature more_one_partner_country (0.005540)\n",
      "13. feature sector_Agriculture (0.005316)\n",
      "14. feature posted_month (0.003855)\n",
      "15. feature children_int (0.002451)\n",
      "16. feature tag_#Schooling (0.001961)\n",
      "17. feature num_tags (0.001847)\n",
      "18. feature married (0.000589)\n",
      "19. feature sector_Personal Use (0.000435)\n",
      "20. feature sector_Health (0.000398)\n",
      "21. feature sector_Wholesale (0.000385)\n",
      "22. feature pct_female (0.000233)\n",
      "23. feature age_int (0.000000)\n",
      "24. feature tag_#Woman Owned Biz (0.000000)\n",
      "25. feature parent (0.000000)\n",
      "26. feature tag_#Repeat Borrower (0.000000)\n",
      "27. feature female (0.000000)\n",
      "28. feature exploratory_partner (0.000000)\n",
      "29. feature bc_partner_others (0.000000)\n",
      "30. feature kids (0.000000)\n"
     ]
    }
   ],
   "source": [
    "# Get the feature importances from our final trained model...\n",
    "importances = trained_regressor.feature_importances_\n",
    "\n",
    "# Find the indices of the feature importances in descending order\n",
    "indices = np.argsort(importances)[::-1]\n",
    "\n",
    "# Print the important features in descending order\n",
    "print('Feature Ranking:')\n",
    "for f in range(len(importances)):\n",
    "    print(\"%d. feature %s (%f)\" % (f + 1, X_train.columns[indices[f]], importances[indices[f]]))"
   ]
  },
  {
   "cell_type": "markdown",
   "metadata": {},
   "source": [
    "There is not a clear relationship between any single feature and the loan_amount. The most important feature borrower count for One Acre Fund during their high loan period - this is very specific to just a small subset of the data. \n",
    "\n",
    "However the aggregate of these features together into the decision leads to effective predictions (R^2 ~ 0.57). This is a testament to the predictive power of decisions trees!"
   ]
  },
  {
   "cell_type": "markdown",
   "metadata": {},
   "source": [
    "Remember that Decision Trees can also be used to classify data.\n",
    "For example some interesting classification questions we could investigate are:\n",
    "\n",
    "- Can we classify which loans expired and which one got funded?\n",
    "- Is a loan posted by a male or female?"
   ]
  },
  {
   "cell_type": "markdown",
   "metadata": {},
   "source": [
    "## 6. Homework\n",
    "<a id='homework'></a>"
   ]
  },
  {
   "cell_type": "markdown",
   "metadata": {},
   "source": [
    "### Predicting Days to Fund\n",
    "- Repeat the DecisionTreeRegressor method with a new target feature: days_to_fund.\n",
    "- Use GridSearch to tune the parameters. \n",
    "- Determine the most important features and discuss which features are intuitive or a surprise and why. "
   ]
  },
  {
   "cell_type": "code",
   "execution_count": 60,
   "metadata": {
    "collapsed": true
   },
   "outputs": [],
   "source": [
    "y = df['days_to_fund']\n",
    "# drop returns a copy of the DataFrame with the specified columns removed.  \n",
    "X = cols.drop('days_to_fund', axis=1)"
   ]
  },
  {
   "cell_type": "code",
   "execution_count": 64,
   "metadata": {
    "collapsed": true
   },
   "outputs": [],
   "source": [
    "# Create X_train, y_train, X_test and y_test where the y value is the days_to_fund feature. \n",
    "# Try using test_train_split function imported from sklearn"
   ]
  },
  {
   "cell_type": "markdown",
   "metadata": {},
   "source": [
    "Remember the three basic steps:\n",
    "- step 1: Initiate the algorithm\n",
    "- step 2: Fit the algorithm to the training data\n",
    "- step 3: Evaluate the algorithm performance"
   ]
  },
  {
   "cell_type": "code",
   "execution_count": 62,
   "metadata": {
    "collapsed": true
   },
   "outputs": [],
   "source": [
    "# Use the DecisionTreeRegressor method to predict the days_to_fund"
   ]
  },
  {
   "cell_type": "code",
   "execution_count": 63,
   "metadata": {
    "collapsed": true
   },
   "outputs": [],
   "source": [
    "# GridSearchCV to tune parameters"
   ]
  },
  {
   "cell_type": "code",
   "execution_count": 61,
   "metadata": {
    "collapsed": true
   },
   "outputs": [],
   "source": [
    "# Use the model attribute important_features_ to examine the feature importance. "
   ]
  },
  {
   "cell_type": "markdown",
   "metadata": {},
   "source": [
    "## 7. Advanced Material: Optimising the algorithm\n",
    "<a id='AdvancedCV'></a>"
   ]
  },
  {
   "cell_type": "markdown",
   "metadata": {},
   "source": [
    "### K-folds example for finding optimal parameters "
   ]
  },
  {
   "cell_type": "markdown",
   "metadata": {},
   "source": [
    "K-folds is a method of evaluating and tuning a model on the given dataset without overfitting to either the training dataset or the testing dataset. It finds the optimal balance between bias and variance in the model. \n",
    "\n",
    "Below we show how the model performs on the training and test datasets while varying the max tree depth. "
   ]
  },
  {
   "cell_type": "code",
   "execution_count": 57,
   "metadata": {},
   "outputs": [
    {
     "data": {
      "text/plain": [
       "Text(0.5,0,'Max depth of the tree')"
      ]
     },
     "execution_count": 57,
     "metadata": {},
     "output_type": "execute_result"
    },
    {
     "data": {
      "image/png": "[encoded data removed]",
      "text/plain": [
       "<matplotlib.figure.Figure at 0x7f808c70b2e8>"
      ]
     },
     "metadata": {},
     "output_type": "display_data"
    }
   ],
   "source": [
    "# define max depth range\n",
    "depth_range = np.asarray(range(2,22,2))\n",
    "\n",
    "# initialize empty arrays to store the results\n",
    "scores_train = np.zeros(len(depth_range))\n",
    "scores_test = np.zeros(len(depth_range))\n",
    "\n",
    "for i in range(len(depth_range)):\n",
    "    # train DTR with given max depth\n",
    "    dt_regressor = DecisionTreeRegressor(max_depth=depth_range[i], random_state=42)\n",
    "    model = dt_regressor.fit(X_train, y_train)\n",
    "    # evaluate on both training and test datasets\n",
    "    scores_train[i] = model.score(X_train, y_train)\n",
    "    scores_test[i] = model.score(X_test, y_test)\n",
    "\n",
    "# plot the results on the same graph\n",
    "ax = sns.regplot(x=depth_range, y=scores_train, order=3, ci=None,label='train')\n",
    "sns.regplot(x=depth_range, y=scores_test,order=3, ci=None, label='test', ax=ax)\n",
    "ax.legend(loc='best')\n",
    "ax.set_ylabel('R2 from regression between true and predicted values')\n",
    "ax.set_xlabel('Max depth of the tree')\n"
   ]
  },
  {
   "cell_type": "markdown",
   "metadata": {},
   "source": [
    "As the depth increases:\n",
    "- The training score increases\n",
    "- But the testing score decreases\n",
    "\n",
    "Once the test score starts decreasing, this indicates that the model is overfitting. \n",
    "\n",
    "We could be tempted to say that the optimal depth is 8 as this corresponds to the maximum score for the testing data. **This is not always the case**. The test set is just random fixed subset of data so choosing the optimal parameter here would be overfitting to the testset. \n",
    "\n",
    "This is where K-Folds cross validation comes in! This method does the following:\n",
    "- Splits the dataset K equal random subsests\n",
    "- Trains the data on K-1 subsets\n",
    "- Evaluates performance on Kth left out subset\n",
    "- Stores evaluation metric\n",
    "- Repeats for K times for each random subset\n",
    "\n",
    "If K = 5, the algorithm trains 5 times. Each time it holds out a 5th of the data, trains on the other 4/5ths and then evaluates the performance on the held out 5th. \n",
    "\n",
    "Here is an example of how the cross validation score changes with maximum tree depth"
   ]
  },
  {
   "cell_type": "code",
   "execution_count": 54,
   "metadata": {
    "collapsed": true
   },
   "outputs": [],
   "source": [
    "# initialize empty array to store results\n",
    "scores_cv = np.empty(len(depth_range))\n",
    "for i in range(len(depth_range)):\n",
    "    # initialize model\n",
    "    dt_regressor = DecisionTreeRegressor(max_depth=depth_range[i], random_state=42)\n",
    "    # calculate the cross val scores. This returns an array where each element corresponds to the performance on each k-fold.\n",
    "    cv_scores = cross_val_score(dt_regressor, X_train, y_train,cv=5, n_jobs=-1)\n",
    "    # calculate mean cross validation score and save\n",
    "    scores_cv[i] = np.mean(cv_scores)"
   ]
  },
  {
   "cell_type": "code",
   "execution_count": 58,
   "metadata": {},
   "outputs": [
    {
     "data": {
      "text/plain": [
       "Text(0,0.5,'Average cross validated R2')"
      ]
     },
     "execution_count": 58,
     "metadata": {},
     "output_type": "execute_result"
    },
    {
     "data": {
      "image/png": "[encoded data removed]",
      "text/plain": [
       "<matplotlib.figure.Figure at 0x7f808cb10898>"
      ]
     },
     "metadata": {},
     "output_type": "display_data"
    }
   ],
   "source": [
    "# plot results\n",
    "ax = sns.regplot(x=depth_range, y=scores_cv, ci=None, order=3)\n",
    "ax.set_xlabel('Max depth of the tree')\n",
    "ax.set_ylabel('Average cross validated R2')"
   ]
  },
  {
   "cell_type": "markdown",
   "metadata": {},
   "source": [
    "Again we see the same general trend of the score increasing intially and then dropping off. From this curve, the optimal max_depth would be between 8 and 10."
   ]
  },
  {
   "cell_type": "markdown",
   "metadata": {},
   "source": [
    "### GridSearchCV (CV = cross validation)\n",
    "Above we were looking at a single parameter. However, to increase performance we should adjust several parameters. \n",
    "\n",
    "Sklearn's GridSearchCV uses the cross-validation above to assess the performance of **each possible permutation** of the hyper-parameters that you specify. For this reason, care should be taken to choose the correct range of parameters to search through as adding an additional parameter can increase the search time exponentially.\n",
    "\n",
    "It then returns a model initialised with the optimal parameters."
   ]
  },
  {
   "cell_type": "code",
   "execution_count": 60,
   "metadata": {
    "collapsed": true
   },
   "outputs": [],
   "source": [
    "GridSearchCV?"
   ]
  },
  {
   "cell_type": "code",
   "execution_count": 55,
   "metadata": {},
   "outputs": [
    {
     "data": {
      "text/plain": [
       "GridSearchCV(cv=None, error_score='raise',\n",
       "       estimator=DecisionTreeRegressor(criterion='mse', max_depth=None, max_features=None,\n",
       "           max_leaf_nodes=None, min_impurity_decrease=0.0,\n",
       "           min_impurity_split=None, min_samples_leaf=1,\n",
       "           min_samples_split=2, min_weight_fraction_leaf=0.0,\n",
       "           presort=False, random_state=None, splitter='best'),\n",
       "       fit_params=None, iid=True, n_jobs=1,\n",
       "       param_grid={'min_impurity_decrease': [0.1, 0.01, 0.0], 'max_depth': [None, 5, 8, 10]},\n",
       "       pre_dispatch='2*n_jobs', refit=True, return_train_score='warn',\n",
       "       scoring=None, verbose=0)"
      ]
     },
     "execution_count": 55,
     "metadata": {},
     "output_type": "execute_result"
    }
   ],
   "source": [
    "parameters = {'min_impurity_decrease': [.1, 0.01, 0.],\n",
    "              'max_depth': [None, 5, 8, 10]}\n",
    "\n",
    "# initialize model\n",
    "gridrf = DecisionTreeRegressor()\n",
    "\n",
    "# set up and fit gridsearchCV\n",
    "grid_rf = GridSearchCV(gridrf, parameters)\n",
    "grid_rf.fit(X_train, y_train)"
   ]
  },
  {
   "cell_type": "code",
   "execution_count": 56,
   "metadata": {},
   "outputs": [
    {
     "name": "stdout",
     "output_type": "stream",
     "text": [
      "Train score: 0.693913258576\n",
      "Test score: 0.566703719447\n"
     ]
    }
   ],
   "source": [
    "# evaluate the tuned model\n",
    "trained_regressor = train_score_regressor(sklearn_regressor = DecisionTreeRegressor,\n",
    "                                          X_train = X_train, y_train = y_train, \n",
    "                                          X_test = X_test, y_test = y_test, \n",
    "                                          model_parameters = grid_rf.best_estimator_.get_params())"
   ]
  },
  {
   "cell_type": "markdown",
   "metadata": {},
   "source": [
    "We can check the variation in the mean cross validation score for the different parameter permutations in the grid search and see which parameters have the biggest impact on performance. \n",
    "\n",
    "In this particulatr case, it shows the max_depth has the biggest impact."
   ]
  },
  {
   "cell_type": "code",
   "execution_count": 57,
   "metadata": {},
   "outputs": [
    {
     "name": "stdout",
     "output_type": "stream",
     "text": [
      "0.363 (+/-0.101) for {'min_impurity_decrease': 0.1, 'max_depth': None}\n",
      "0.368 (+/-0.114) for {'min_impurity_decrease': 0.01, 'max_depth': None}\n",
      "0.340 (+/-0.141) for {'min_impurity_decrease': 0.0, 'max_depth': None}\n",
      "0.572 (+/-0.037) for {'min_impurity_decrease': 0.1, 'max_depth': 5}\n",
      "0.573 (+/-0.038) for {'min_impurity_decrease': 0.01, 'max_depth': 5}\n",
      "0.555 (+/-0.064) for {'min_impurity_decrease': 0.0, 'max_depth': 5}\n",
      "0.613 (+/-0.002) for {'min_impurity_decrease': 0.1, 'max_depth': 8}\n",
      "0.611 (+/-0.003) for {'min_impurity_decrease': 0.01, 'max_depth': 8}\n",
      "0.611 (+/-0.006) for {'min_impurity_decrease': 0.0, 'max_depth': 8}\n",
      "0.591 (+/-0.047) for {'min_impurity_decrease': 0.1, 'max_depth': 10}\n",
      "0.605 (+/-0.024) for {'min_impurity_decrease': 0.01, 'max_depth': 10}\n",
      "0.593 (+/-0.051) for {'min_impurity_decrease': 0.0, 'max_depth': 10}\n"
     ]
    }
   ],
   "source": [
    "# get the cross validation mean score and associated std across the K folds\n",
    "means = grid_rf.cv_results_['mean_test_score']\n",
    "stds = grid_rf.cv_results_['std_test_score']\n",
    "# print the mean, std and parameters for each permutation\n",
    "for mean, std, params in zip(means, stds, grid_rf.cv_results_['params']):\n",
    "    print(\"%0.3f (+/-%0.03f) for %r\"\n",
    "          % (mean, std * 2, params))"
   ]
  }
 ],
 "metadata": {
  "kernelspec": {
   "display_name": "Python [conda env:py36]",
   "language": "python",
   "name": "conda-env-py36-py"
  },
  "language_info": {
   "codemirror_mode": {
    "name": "ipython",
    "version": 3
   },
   "file_extension": ".py",
   "mimetype": "text/x-python",
   "name": "python",
   "nbconvert_exporter": "python",
   "pygments_lexer": "ipython3",
   "version": "3.6.3"
  }
 },
 "nbformat": 4,
 "nbformat_minor": 2
}
