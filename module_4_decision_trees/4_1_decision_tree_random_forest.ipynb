{
 "cells": [
  {
   "cell_type": "markdown",
   "metadata": {},
   "source": [
    "# Lab 3:  Decision Tree, Bagging, and Random Forests\n",
    "\n",
    "\n",
    "Decision trees, bagging, and random forecasts can be used for either regression or classification tasks. Decision trees are a powerful tool; however, are very prone to overfitting the training dataset and therefore often fail to generalize well to test data sets.  To overcome Decisions Trees tendancy to overfit, one can aggregate the results from many decision trees with an [enesemble approach](http://scikit-learn.org/stable/modules/ensemble.html). In this lesson we will focus on Random Forests, which prevent overfitting by only allowing a given decision tree to optimize for a random subset of the data for every tree, and a random subset of the input features at every split (Don't worry, much more to come :) ). \n",
    "\n",
    "\n",
    "<img src=\"../images/DecisionTreeExample.png\" alt=\"Drawing\" style=\"width: 500px;height=500\"/>\n",
    "\n",
    "A quick refresher on Bagging:\n",
    "- Grow multiple decisions trees from random subsets of the data\n",
    "- All features are considered at every split in the decision tree\n",
    "- The result is the average prediction of all trees\n",
    "\n",
    "A quick refresher on the Random Forest theory:\n",
    "- Random Forest is based on Decision Trees -> many trees = a forest!\n",
    "- Grows multiple trees on random subsets of the parent dataset\n",
    "- **At every split, a new random subset of features is chosen**\n",
    "- This leads to \"decorrelated\" trees which leads to a large increase in performance!\n",
    "\n",
    "Here's a look ahead at what we'll be doing in this notebook:\n",
    "\n",
    "\n",
    "1. [Load data and packages](#loaddata)   \n",
    "  1.1 Load python packages  \n",
    "  1.2 Set jupyter notebook preferences  \n",
    "  1.3 Load Data\n",
    "    \n",
    "\n",
    "2. [Build Decision Tree](#decissiontree)\n",
    "\n",
    "3. [Discuss requirements of Decision Trees](#assumptions)\n",
    "\n",
    "4. [Decision Tree Interpretation and Validation](#interpretation1)\n",
    "\n",
    "5. [Build Random Forest](#randomforest)\n",
    "\n",
    "6. [Random Forest Interpretation and Validation](#randomforest)\n",
    "\n",
    "\n",
    "Our previous model, Linear regression was a parametric model with assumes linearity among others.\n",
    "\n",
    "Whereas decision trees are non-parametric models which means we are no longer restricted to independant variables which have a linear relationship and we don't have to ensure several assumptions are true. \n",
    "\n",
    "Therefore we can start to bring in other features that could be useful.\n",
    "\n",
    "After we run our decision trees, we will compare our new output to our output from the linear regressions we ran in the previous notebook. \n",
    "\n",
    "In this notebook, we will be looking at how we can predict the loan amount using decision trees, bagged decisions trees and the random forest algorithm. However, it is worth mentioning that these methods can also be used to classify data, for example some interesting classification questions we could investigate are:\n",
    "- Can we classify which loans expired and which one got funded?\n",
    "- Is a loan posted by a male or female?\n",
    "\n",
    "Feel free to investigate these on your own time! Here is a very simple example of how the RandomForestClassifier works: https://bicorner.com/2015/10/26/random-forest-using-ipython/"
   ]
  },
  {
   "cell_type": "markdown",
   "metadata": {},
   "source": [
    "## 1. Import packages\n",
    "<a id='loaddata'></a>"
   ]
  },
  {
   "cell_type": "code",
<<<<<<< HEAD
   "execution_count": 2,
   "metadata": {},
   "outputs": [
    {
     "name": "stderr",
     "output_type": "stream",
     "text": [
      "/home/rosina/anaconda2/lib/python2.7/site-packages/ggplot/utils.py:81: FutureWarning: pandas.tslib is deprecated and will be removed in a future version.\n",
      "You can access Timestamp as pandas.Timestamp\n",
      "  pd.tslib.Timestamp,\n",
      "/home/rosina/anaconda2/lib/python2.7/site-packages/ggplot/stats/smoothers.py:4: FutureWarning: The pandas.lib module is deprecated and will be removed in a future version. These are private functions and can be accessed from pandas._libs.lib instead\n",
      "  from pandas.lib import Timestamp\n",
      "/home/rosina/anaconda2/lib/python2.7/site-packages/statsmodels/compat/pandas.py:56: FutureWarning: The pandas.core.datetools module is deprecated and will be removed in a future version. Please use the pandas.tseries module instead.\n",
      "  from pandas.core import datetools\n"
     ]
    }
   ],
=======
   "execution_count": 158,
   "metadata": {
    "collapsed": true
   },
   "outputs": [],
>>>>>>> master
   "source": [
    "import pandas as pd\n",
    "import numpy as np\n",
    "\n",
    "import matplotlib.pyplot as plt\n",
    "from ggplot import *\n",
    "plt.style.use('ggplot')\n",
    "%matplotlib inline\n",
    "\n",
    "from sklearn.model_selection import train_test_split\n",
    "from sklearn.tree import DecisionTreeRegressor\n",
    "from sklearn.ensemble import BaggingRegressor\n",
    "from sklearn.ensemble import RandomForestRegressor\n",
    "from sklearn.metrics import mean_squared_error\n",
    "import graphviz \n",
    "from sklearn import tree"
   ]
  },
  {
   "cell_type": "code",
   "execution_count": 3,
   "metadata": {},
   "outputs": [],
   "source": [
    "# Load data to pandas DataFrame\n",
    "data_path = '../data/'\n",
    "df = pd.read_csv(data_path+'df_end_of_linear.csv', low_memory=False)"
   ]
  },
  {
   "cell_type": "code",
   "execution_count": 25,
   "metadata": {},
   "outputs": [
    {
     "name": "stdout",
     "output_type": "stream",
     "text": [
      "Index([u'Unnamed: 0', u'Unnamed: 0.1', u'activity', u'borrowers',\n",
      "       u'description.texts.en', u'funded_amount', u'funded_date',\n",
      "       u'loan_amount', u'loan_amount.1', u'name', u'partner_id',\n",
      "       u'planned_expiration_date', u'posted_date', u'sector', u'status',\n",
      "       u'tags', u'terms.loss_liability.currency_exchange_coverage_rate',\n",
      "       u'terms.repayment_term', u'terms.scheduled_payments',\n",
      "       u'translator.byline', u'use', u'borrower_count',\n",
      "       u'partner_delinquency_rate', u'partner_loans_posted',\n",
      "       u'partner_loans_at_risk_rate', u'partner_delinquency_rate.1',\n",
      "       u'partner_status', u'partner_name', u'posted_datetime',\n",
      "       u'planned_expiration_datetime', u'dispursal_datetime', u'posted_year',\n",
      "       u'posted_month', u'time_to_fund', u'gender', u'kids', u'num_tags',\n",
      "       u'tag_#Woman Owned Biz', u'tag_#Repeat Borrower', u'tag_#Schooling',\n",
      "       u'parent', u'married', u'age_int', u'children_int', u'age_bucket',\n",
      "       u'county', u'province', u'capital', u'pct_female',\n",
      "       u'num_partner_countries', u'more_one_partner_country',\n",
      "       u'top_partner_id', u'partner_dollar_amount', u'exploratory_partner',\n",
      "       u'days_to_fund', u'hours_to_fund', u'top_partners',\n",
      "       u'bc_partner_others', u'bc_partner_HIHEA', u'bc_partner_OAF_high',\n",
      "       u'bc_partner_OAF_low', u'female', u'partner_active', u'partner_closed',\n",
      "       u'sector_Personal Use', u'sector_Food', u'sector_Arts',\n",
      "       u'sector_Agriculture', u'sector_Wholesale', u'sector_Health'],\n",
      "      dtype='object')\n"
     ]
    }
   ],
   "source": [
    "# TODO: Remove this part and incorporate it into feature engineering section.\n",
    "# potentially the feature engineering section should show how to do one hot encoding and this module\n",
    "# will reference one hot encoding and remove any cols that are strings to highligh that sklearn's implementation\n",
    "# cannot handle strings.\n",
    "#df['female'] = df['gender'].apply(lambda x: x=='Female')\n",
    "df = df.dropna()\n",
    "print df.columns\n",
    "cols = df[['loan_amount', \n",
    "           'partner_delinquency_rate',\n",
    "            'posted_year',\n",
    "           'posted_month',\n",
    "           'female',\n",
    "           'num_tags',\n",
    "           'parent',\n",
    "           'tag_#Woman Owned Biz',\n",
    "           'age_int',\n",
    "           'tag_#Repeat Borrower',\n",
    "           'children_int',\n",
    "          'more_one_partner_country',\n",
    "          'days_to_fund',\n",
    "          'terms.repayment_term',\n",
    "           'tag_#Schooling',\n",
    "           'married',\n",
    "           'pct_female',\n",
    "           'exploratory_partner',\n",
    "           'partner_dollar_amount',\n",
    "           'top_partner_id',\n",
    "           'num_partner_countries',\n",
    "           'days_to_fund',\n",
    "            'hours_to_fund',\n",
    "            'bc_partner_others',\n",
    "           'bc_partner_HIHEA',\n",
    "           'bc_partner_OAF_high',\n",
    "           'bc_partner_OAF_low',\n",
    "         'sector_Personal Use',\n",
    "           'sector_Health',\n",
    "           'sector_Wholesale',\n",
    "           'sector_Agriculture',\n",
    "           'kids']]\n",
    "\n",
    "# cols = df[['loan_amount','bc_partner_others','bc_partner_HIHEA','bc_partner_OAF_high','bc_partner_OAF_low','female',\n",
    "#         'tag_#Repeat Borrower','sector_Personal Use','sector_Health','sector_Wholesale','sector_Agriculture',\n",
    "#        'kids','partner_delinquency_rate','married']]"
   ]
  },
  {
   "cell_type": "markdown",
   "metadata": {},
   "source": [
    "Just like last module, we are going to build regressors to predict the loan amount; however, instead of using one of the features, we are going to initially build a tree that considers all of the features in the database. "
   ]
  },
  {
   "cell_type": "code",
   "execution_count": 26,
   "metadata": {
    "collapsed": true
   },
   "outputs": [],
   "source": [
    "y = df['loan_amount']\n",
    "# drop returns a copy of the DataFrame with the specified columns removed.  \n",
    "X = cols.drop('loan_amount', axis=1)\n",
    "X_train, X_test, y_train, y_test = train_test_split(X, y, test_size=0.2, random_state=42)"
   ]
  },
  {
   "cell_type": "markdown",
   "metadata": {},
   "source": [
    "Step by Step approach to modeling:\n",
    "\n",
    "For the following methods used, there is some standard steps used to implement the algorithms. A simple overvew of these steps are:\n",
    "- **Step 1: Initiate the algorithm** This is where we define the parameters (& hyperparameters of the algorithm) of the algorithm. For example, this is where we would define the maximum depth, the minimum samples in a leaf etc. To learn more about the parameters for each algorithm, either check the module documentation on the internet or run a cell with the algorithm name followed by ? as we did at the beginning of this notebook for the RandomForestRegressor. These resources will also tell you the default values used for each parameter. \n",
    "- **Step 2: Train the algorithm** This is where we train the algorithm by fitting it to the X_train and y_train datasets. \n",
    "- **Step 3: Evaluating the algorithm** This is where we evaluate the predictive power of the algorithm by comparing the predictive loan amount values to the true values. We can do this for the training and testing dataset."
   ]
  },
  {
   "cell_type": "markdown",
   "metadata": {},
   "source": [
    "Let's start with **loan amount** and see if we can predict how much is requested to be funded using the decision trees and ensemble methods! "
   ]
  },
  {
   "cell_type": "markdown",
   "metadata": {},
   "source": [
    "### Decision Tree\n",
    "Before we initialize our model, let's first learn about the input parameters for sklearn's implementation of a Decision Tree Regressor.  Feel free to look at the [docs](http://scikit-learn.org/stable/modules/generated/sklearn.tree.DecisionTreeRegressor.html#sklearn.tree.DecisionTreeRegressor.get_params), or simply put a question mark before a call to the class.  Prepending a ? to any method, variable, or class will display that method's defined docstring (way to go ipthon!)"
   ]
  },
  {
   "cell_type": "code",
<<<<<<< HEAD
   "execution_count": 27,
=======
   "execution_count": 162,
>>>>>>> master
   "metadata": {
    "collapsed": true
   },
   "outputs": [],
   "source": [
    "?DecisionTreeRegressor"
   ]
  },
  {
   "cell_type": "code",
<<<<<<< HEAD
   "execution_count": 28,
=======
   "execution_count": 163,
>>>>>>> master
   "metadata": {
    "collapsed": true
   },
   "outputs": [],
   "source": [
    "def train_score_regressor(sklearn_regressor, X_train, y_train, X_test, y_test, model_parameters,print_oob_score=False):\n",
    "    '''\n",
    "    Purpose: \n",
    "        - train a regressor on training data\n",
    "        - score data on training and test data\n",
    "        - return trained model\n",
    "    '''\n",
    "    # Step 1: Initializing the sklearn regressor \n",
    "    regressor = sklearn_regressor(**model_parameters)\n",
    "    # Step 2: Training the algorithm using the X_train dataset of features and y_train, the associated target features\n",
    "    regressor.fit(X_train, y_train)\n",
    "    # Step 3: Calculating the score of the predictive power on the training and testing dataset.\n",
    "    training_score = regressor.score(X_train, y_train)\n",
    "    testing_score = regressor.score(X_test, y_test)\n",
    "    print(\"Train score: \" + str(training_score))\n",
    "    print(\"Test score: \" + str(testing_score))\n",
    "    if print_oob_score:\n",
    "        print(\"OOB score: \" + str(regressor.oob_score_))\n",
    "        \n",
    "    return regressor\n",
    "?train_score_regressor"
   ]
  },
  {
   "cell_type": "markdown",
   "metadata": {},
   "source": [
    "With all tree algorithms the major challenge is using the parameters to balance the bias vs variance tradeoff.  Before we get into exploring the parameters, let's see how the model preforms while using the default values."
   ]
  },
  {
   "cell_type": "code",
<<<<<<< HEAD
   "execution_count": 29,
   "metadata": {},
=======
   "execution_count": 164,
   "metadata": {
    "collapsed": false
   },
>>>>>>> master
   "outputs": [
    {
     "name": "stdout",
     "output_type": "stream",
     "text": [
      "Train score: 1.0\n",
      "Test score: 0.337401966989\n"
     ]
    }
   ],
   "source": [
    "trained_regressor = train_score_regressor(sklearn_regressor = DecisionTreeRegressor,\n",
    "                                          X_train = X_train, y_train = y_train, \n",
    "                                          X_test = X_test, y_test = y_test, \n",
    "                                          model_parameters = {'random_state':42})"
   ]
  },
  {
   "cell_type": "markdown",
   "metadata": {},
   "source": [
    "While the Decision Tree managed to get a perfect r2 scored on the training data, it managed an abysmal .34 on the test data.  This is a clear indication that the model has overfit the data.  Given that by default sklearn's implementation of a DecisionTreeRegressor does not put any restrictions on the depth of the tree, the number of samples per leaf, the number of samples per leaf, etc.  As a result, the Decision Tree will find signal in any and all noise of the training data set, which causes the model to perform poorly on the test data.  When a model overfits to a training data set, we say it has high variance.  Since an unconstrained decision tree will almost perfectly model any training data, it will vary tremendously depending on the training data that is provided.\n",
    "\n",
    "To reduce the variance, let's now try to constrain the model using some of the provided parameters."
   ]
  },
  {
   "cell_type": "code",
<<<<<<< HEAD
   "execution_count": 43,
   "metadata": {},
=======
   "execution_count": 165,
   "metadata": {
    "collapsed": false
   },
>>>>>>> master
   "outputs": [
    {
     "name": "stdout",
     "output_type": "stream",
     "text": [
      "Train score: 0.558032781957\n",
      "Test score: 0.438339906714\n"
     ]
    }
   ],
   "source": [
    "trained_regressor = train_score_regressor(sklearn_regressor = DecisionTreeRegressor,\n",
    "                                          X_train = X_train, y_train = y_train, \n",
    "                                          X_test = X_test, y_test = y_test, \n",
    "                                          model_parameters = {\"max_depth\":4,'random_state':42})"
   ]
  },
  {
   "cell_type": "markdown",
   "metadata": {},
   "source": [
    "Although the training r2 score plummeted down to .55, the test r2 score increased to .44, and since the goal is develop a model that accurately predict data we have never seen, that is the data we care about!\n",
    "\n",
    "Now that we have increased preformance, let's take a look at what the Decision Tree looks like."
   ]
  },
  {
   "cell_type": "code",
<<<<<<< HEAD
   "execution_count": 34,
   "metadata": {},
=======
   "execution_count": 166,
   "metadata": {
    "collapsed": false
   },
>>>>>>> master
   "outputs": [
    {
     "ename": "ExecutableNotFound",
     "evalue": "failed to execute ['dot', '-Tsvg'], make sure the Graphviz executables are on your systems' PATH",
     "output_type": "error",
     "traceback": [
      "\u001b[0;31m---------------------------------------------------------------------------\u001b[0m",
      "\u001b[0;31mExecutableNotFound\u001b[0m                        Traceback (most recent call last)",
      "\u001b[0;32m/home/rosina/anaconda2/lib/python2.7/site-packages/IPython/core/formatters.pyc\u001b[0m in \u001b[0;36m__call__\u001b[0;34m(self, obj)\u001b[0m\n\u001b[1;32m    309\u001b[0m             \u001b[0mmethod\u001b[0m \u001b[0;34m=\u001b[0m \u001b[0mget_real_method\u001b[0m\u001b[0;34m(\u001b[0m\u001b[0mobj\u001b[0m\u001b[0;34m,\u001b[0m \u001b[0mself\u001b[0m\u001b[0;34m.\u001b[0m\u001b[0mprint_method\u001b[0m\u001b[0;34m)\u001b[0m\u001b[0;34m\u001b[0m\u001b[0m\n\u001b[1;32m    310\u001b[0m             \u001b[0;32mif\u001b[0m \u001b[0mmethod\u001b[0m \u001b[0;32mis\u001b[0m \u001b[0;32mnot\u001b[0m \u001b[0mNone\u001b[0m\u001b[0;34m:\u001b[0m\u001b[0;34m\u001b[0m\u001b[0m\n\u001b[0;32m--> 311\u001b[0;31m                 \u001b[0;32mreturn\u001b[0m \u001b[0mmethod\u001b[0m\u001b[0;34m(\u001b[0m\u001b[0;34m)\u001b[0m\u001b[0;34m\u001b[0m\u001b[0m\n\u001b[0m\u001b[1;32m    312\u001b[0m             \u001b[0;32mreturn\u001b[0m \u001b[0mNone\u001b[0m\u001b[0;34m\u001b[0m\u001b[0m\n\u001b[1;32m    313\u001b[0m         \u001b[0;32melse\u001b[0m\u001b[0;34m:\u001b[0m\u001b[0;34m\u001b[0m\u001b[0m\n",
      "\u001b[0;32m/home/rosina/anaconda2/lib/python2.7/site-packages/graphviz/files.pyc\u001b[0m in \u001b[0;36m_repr_svg_\u001b[0;34m(self)\u001b[0m\n\u001b[1;32m    103\u001b[0m \u001b[0;34m\u001b[0m\u001b[0m\n\u001b[1;32m    104\u001b[0m     \u001b[0;32mdef\u001b[0m \u001b[0m_repr_svg_\u001b[0m\u001b[0;34m(\u001b[0m\u001b[0mself\u001b[0m\u001b[0;34m)\u001b[0m\u001b[0;34m:\u001b[0m\u001b[0;34m\u001b[0m\u001b[0m\n\u001b[0;32m--> 105\u001b[0;31m         \u001b[0;32mreturn\u001b[0m \u001b[0mself\u001b[0m\u001b[0;34m.\u001b[0m\u001b[0mpipe\u001b[0m\u001b[0;34m(\u001b[0m\u001b[0mformat\u001b[0m\u001b[0;34m=\u001b[0m\u001b[0;34m'svg'\u001b[0m\u001b[0;34m)\u001b[0m\u001b[0;34m.\u001b[0m\u001b[0mdecode\u001b[0m\u001b[0;34m(\u001b[0m\u001b[0mself\u001b[0m\u001b[0;34m.\u001b[0m\u001b[0m_encoding\u001b[0m\u001b[0;34m)\u001b[0m\u001b[0;34m\u001b[0m\u001b[0m\n\u001b[0m\u001b[1;32m    106\u001b[0m \u001b[0;34m\u001b[0m\u001b[0m\n\u001b[1;32m    107\u001b[0m     \u001b[0;32mdef\u001b[0m \u001b[0mpipe\u001b[0m\u001b[0;34m(\u001b[0m\u001b[0mself\u001b[0m\u001b[0;34m,\u001b[0m \u001b[0mformat\u001b[0m\u001b[0;34m=\u001b[0m\u001b[0mNone\u001b[0m\u001b[0;34m)\u001b[0m\u001b[0;34m:\u001b[0m\u001b[0;34m\u001b[0m\u001b[0m\n",
      "\u001b[0;32m/home/rosina/anaconda2/lib/python2.7/site-packages/graphviz/files.pyc\u001b[0m in \u001b[0;36mpipe\u001b[0;34m(self, format)\u001b[0m\n\u001b[1;32m    122\u001b[0m         \u001b[0mdata\u001b[0m \u001b[0;34m=\u001b[0m \u001b[0mtext_type\u001b[0m\u001b[0;34m(\u001b[0m\u001b[0mself\u001b[0m\u001b[0;34m.\u001b[0m\u001b[0msource\u001b[0m\u001b[0;34m)\u001b[0m\u001b[0;34m.\u001b[0m\u001b[0mencode\u001b[0m\u001b[0;34m(\u001b[0m\u001b[0mself\u001b[0m\u001b[0;34m.\u001b[0m\u001b[0m_encoding\u001b[0m\u001b[0;34m)\u001b[0m\u001b[0;34m\u001b[0m\u001b[0m\n\u001b[1;32m    123\u001b[0m \u001b[0;34m\u001b[0m\u001b[0m\n\u001b[0;32m--> 124\u001b[0;31m         \u001b[0mouts\u001b[0m \u001b[0;34m=\u001b[0m \u001b[0mbackend\u001b[0m\u001b[0;34m.\u001b[0m\u001b[0mpipe\u001b[0m\u001b[0;34m(\u001b[0m\u001b[0mself\u001b[0m\u001b[0;34m.\u001b[0m\u001b[0m_engine\u001b[0m\u001b[0;34m,\u001b[0m \u001b[0mformat\u001b[0m\u001b[0;34m,\u001b[0m \u001b[0mdata\u001b[0m\u001b[0;34m)\u001b[0m\u001b[0;34m\u001b[0m\u001b[0m\n\u001b[0m\u001b[1;32m    125\u001b[0m \u001b[0;34m\u001b[0m\u001b[0m\n\u001b[1;32m    126\u001b[0m         \u001b[0;32mreturn\u001b[0m \u001b[0mouts\u001b[0m\u001b[0;34m\u001b[0m\u001b[0m\n",
      "\u001b[0;32m/home/rosina/anaconda2/lib/python2.7/site-packages/graphviz/backend.pyc\u001b[0m in \u001b[0;36mpipe\u001b[0;34m(engine, format, data, quiet)\u001b[0m\n\u001b[1;32m    155\u001b[0m     \u001b[0;32mexcept\u001b[0m \u001b[0mOSError\u001b[0m \u001b[0;32mas\u001b[0m \u001b[0me\u001b[0m\u001b[0;34m:\u001b[0m\u001b[0;34m\u001b[0m\u001b[0m\n\u001b[1;32m    156\u001b[0m         \u001b[0;32mif\u001b[0m \u001b[0me\u001b[0m\u001b[0;34m.\u001b[0m\u001b[0merrno\u001b[0m \u001b[0;34m==\u001b[0m \u001b[0merrno\u001b[0m\u001b[0;34m.\u001b[0m\u001b[0mENOENT\u001b[0m\u001b[0;34m:\u001b[0m\u001b[0;34m\u001b[0m\u001b[0m\n\u001b[0;32m--> 157\u001b[0;31m             \u001b[0;32mraise\u001b[0m \u001b[0mExecutableNotFound\u001b[0m\u001b[0;34m(\u001b[0m\u001b[0margs\u001b[0m\u001b[0;34m)\u001b[0m\u001b[0;34m\u001b[0m\u001b[0m\n\u001b[0m\u001b[1;32m    158\u001b[0m         \u001b[0;32melse\u001b[0m\u001b[0;34m:\u001b[0m  \u001b[0;31m# pragma: no cover\u001b[0m\u001b[0;34m\u001b[0m\u001b[0m\n\u001b[1;32m    159\u001b[0m             \u001b[0;32mraise\u001b[0m\u001b[0;34m\u001b[0m\u001b[0m\n",
      "\u001b[0;31mExecutableNotFound\u001b[0m: failed to execute ['dot', '-Tsvg'], make sure the Graphviz executables are on your systems' PATH"
     ]
    },
    {
     "data": {
      "text/plain": [
       "<graphviz.files.Source at 0x7f1bdaea0a10>"
      ]
     },
     "execution_count": 34,
     "metadata": {},
     "output_type": "execute_result"
    }
   ],
   "source": [
    "dot_data = tree.export_graphviz(trained_regressor, out_file=None, \n",
    "                         feature_names=X_train.columns,  \n",
    "                         class_names=y_train.values,  \n",
    "                         filled=True, rounded=True,  \n",
    "                         special_characters=True) \n",
    "graph = graphviz.Source(dot_data) \n",
    "graph"
   ]
  },
  {
   "cell_type": "markdown",
   "metadata": {},
   "source": [
    "As you can see, even a DecisionTreeRegressor with a max depth of 3 is rather complicated.  To develop your intuition for the various input parameters, I recommend manually adjusting them up and down to see the impacts.\n",
    "\n",
    "If you were to tune the parameters manually and see how it impacts the training and test data sets that we created above, you would slowly tune towards a higher score on the test data set; however, you would most likely be overfitting to the test data set and the model would not generalize well to a secondary test data set.  To avoid this, it is recommended that you use [k-fold](https://www.analyticsvidhya.com/blog/2015/11/improve-model-performance-cross-validation-in-python-r/) validation.\n",
    "\n",
    "In addition to k-fold validation, we wil use sklearn's GridSearchCV, which allows us using k-fold validation to assess every permuation of possible values for the parameters that we provide.\n",
    "\n",
    "**Note** since we are training one regressor one time for each possible permutation of specified parameter values, this next cell will take some time to run.  That is why you need to gain an intuition for which values to test!"
   ]
  },
  {
   "cell_type": "code",
<<<<<<< HEAD
   "execution_count": 36,
   "metadata": {},
=======
   "execution_count": 111,
   "metadata": {
    "collapsed": false
   },
>>>>>>> master
   "outputs": [
    {
     "data": {
      "text/plain": [
       "GridSearchCV(cv=None, error_score='raise',\n",
       "       estimator=DecisionTreeRegressor(criterion='mse', max_depth=None, max_features=None,\n",
       "           max_leaf_nodes=None, min_impurity_decrease=0.0,\n",
       "           min_impurity_split=None, min_samples_leaf=1,\n",
       "           min_samples_split=2, min_weight_fraction_leaf=0.0,\n",
       "           presort=False, random_state=None, splitter='best'),\n",
       "       fit_params=None, iid=True, n_jobs=1,\n",
       "       param_grid={'max_features': ['auto', 'sqrt', None], 'min_samples_split': [10, 50, 100, 2], 'min_impurity_decrease': [0.1, 0.01, 0.0], 'max_depth': [2, 6, 8, 10, 14]},\n",
       "       pre_dispatch='2*n_jobs', refit=True, return_train_score='warn',\n",
       "       scoring=None, verbose=0)"
      ]
     },
     "execution_count": 36,
     "metadata": {},
     "output_type": "execute_result"
    }
   ],
   "source": [
    "from sklearn.model_selection import GridSearchCV\n",
    "parameters = {'max_depth':[2,6,8,10,14], \n",
    "              'max_features': ['auto','sqrt',None],\n",
    "              'min_impurity_decrease': [.1,.01, 0.0],\n",
    "              'min_samples_split': [10, 50, 100, 2]}\n",
    "decision_regressor= DecisionTreeRegressor()\n",
    "regressor = GridSearchCV(decision_regressor, parameters)\n",
    "regressor.fit(X_train, y_train)"
   ]
  },
  {
   "cell_type": "code",
<<<<<<< HEAD
   "execution_count": 37,
   "metadata": {},
=======
   "execution_count": 112,
   "metadata": {
    "collapsed": false
   },
>>>>>>> master
   "outputs": [
    {
     "data": {
      "text/plain": [
       "{'criterion': 'mse',\n",
       " 'max_depth': 8,\n",
       " 'max_features': None,\n",
       " 'max_leaf_nodes': None,\n",
       " 'min_impurity_decrease': 0.01,\n",
       " 'min_impurity_split': None,\n",
       " 'min_samples_leaf': 1,\n",
       " 'min_samples_split': 2,\n",
       " 'min_weight_fraction_leaf': 0.0,\n",
       " 'presort': False,\n",
       " 'random_state': None,\n",
       " 'splitter': 'best'}"
      ]
     },
     "execution_count": 37,
     "metadata": {},
     "output_type": "execute_result"
    }
   ],
   "source": [
    "# Now that we have finished up training lets print out what GridSearchCV found to be the best parameters \n",
    "regressor.best_estimator_.get_params()"
   ]
  },
  {
   "cell_type": "markdown",
   "metadata": {},
   "source": [
    "Now lets see what happens when we train a DecisionTreeRegressor using these parameters on our original training and test data."
   ]
  },
  {
   "cell_type": "code",
<<<<<<< HEAD
   "execution_count": 38,
   "metadata": {},
=======
   "execution_count": 130,
   "metadata": {
    "collapsed": false
   },
>>>>>>> master
   "outputs": [
    {
     "name": "stdout",
     "output_type": "stream",
     "text": [
      "Train score: 0.693914310997\n",
      "Test score: 0.56558164139\n"
     ]
    }
   ],
   "source": [
    "trained_regressor = train_score_regressor(sklearn_regressor = DecisionTreeRegressor,\n",
    "                                          X_train = X_train, y_train = y_train, \n",
    "                                          X_test = X_test, y_test = y_test, \n",
    "                                          model_parameters = regressor.best_estimator_.get_params())"
   ]
  },
  {
   "cell_type": "markdown",
   "metadata": {},
   "source": [
    "Performance on the test data has almost doubled!\n",
    "\n",
    "The R^2 number above is pretty telling but it is always nice to visualise how these look in a scattor plot. This allows us to visualise the variation between the predicted loan amount and the true loan amount values. "
   ]
  },
  {
   "cell_type": "code",
<<<<<<< HEAD
   "execution_count": 44,
   "metadata": {},
=======
   "execution_count": 167,
   "metadata": {
    "collapsed": false
   },
>>>>>>> master
   "outputs": [
    {
     "data": {
      "image/png": "iVBORw0KGgoAAAANSUhEUgAAAjgAAAG9CAYAAAAY4AwAAAAABHNCSVQICAgIfAhkiAAAAAlwSFlz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\niIjEjgIcERERiZ3/B5GAS1bqyhCrAAAAAElFTkSuQmCC\n",
      "text/plain": [
       "<matplotlib.figure.Figure at 0x7f1bdaeb1550>"
      ]
     },
     "metadata": {},
     "output_type": "display_data"
    }
   ],
   "source": [
    "# plotting a graph of the true values vs the predicted values for the training and test datasets\n",
    "def plot_y_yhat_scatter(y_actual,y_predicted,train_test):\n",
    "    fig = plt.figure(figsize=(7, 7))\n",
    "    plt.scatter(y_actual, y_predicted, alpha=0.5)\n",
    "    plt.xlabel('True value')\n",
    "    plt.ylabel('Predicted value')\n",
    "    plt.title(\"relationship between True Y and predicted Y* loan amount ({0} dataset)\".format(train_test))\n",
    "    plt.show()\n",
    "    \n",
    "plot_y_yhat_scatter(y_train, regressor.predict(X_train),train_test = \"training\")\n"
   ]
  },
  {
   "cell_type": "markdown",
   "metadata": {},
   "source": [
    "## Bagging\n",
    "\n",
    "##### TODO: Beef up introduciton to Bagging - Jack\n",
    "\n",
    "As we just saw, Decision Trees naturally overfit to the data.  One approach to addressing this is by parameter tuning for an individual tree; however, better perforamnce is generally achieved when an ensemble approach such as baggin is used.\n",
    "\n",
    "A bagging regressor builds some specified number of trees and trains each tree with a random subset of the data and then averages the forecast of each individual tree. \n",
    "\n",
    "This is an **Ensemble approach** where we use the results of several random analyses to find an average response. For each tree, there will be a sample of data which was not used to train the algorithm. This means that we can also measure the **out-of-bag** score ( or oob_score). This score calculates the error rate of the predictions on the sample not used while training an individual tree. (Remember a random ~2/3 of data are used to train a given tree)."
   ]
  },
  {
   "cell_type": "code",
<<<<<<< HEAD
   "execution_count": 46,
   "metadata": {},
=======
   "execution_count": 168,
   "metadata": {
    "collapsed": false
   },
>>>>>>> master
   "outputs": [
    {
     "name": "stdout",
     "output_type": "stream",
     "text": [
      "Train score: 0.93851641227\n",
      "Test score: 0.596461918366\n",
      "OOB score: 0.528844447822\n"
     ]
    }
   ],
   "source": [
    "# Step 1: Initiating the bagging regressor algorithm\n",
    "trained_regressor = train_score_regressor(sklearn_regressor = BaggingRegressor,\n",
    "                                          X_train = X_train, y_train = y_train, \n",
    "                                          X_test = X_test, y_test = y_test, \n",
    "                                          model_parameters = {\"oob_score\":True, 'random_state':42},print_oob_score=True)"
   ]
  },
  {
   "cell_type": "markdown",
   "metadata": {},
   "source": [
    "The above results are very encouraging. Prior to any parameter tuning, the model is already preforming better on the test data set."
   ]
  },
  {
   "cell_type": "code",
<<<<<<< HEAD
   "execution_count": 47,
   "metadata": {},
=======
   "execution_count": 169,
   "metadata": {
    "collapsed": false
   },
>>>>>>> master
   "outputs": [
    {
     "data": {
      "image/png": "iVBORw0KGgoAAAANSUhEUgAAAjgAAAG9CAYAAAAY4AwAAAAABHNCSVQICAgIfAhkiAAAAAlwSFlz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\ngg==\n",
      "text/plain": [
       "<matplotlib.figure.Figure at 0x7f1bdaef4ad0>"
      ]
     },
     "metadata": {},
     "output_type": "display_data"
    },
    {
     "data": {
      "image/png": "iVBORw0KGgoAAAANSUhEUgAAAhsAAAG9CAYAAAC8irTTAAAABHNCSVQICAgIfAhkiAAAAAlwSFlz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\ncwAAAABJRU5ErkJggg==\n",
      "text/plain": [
       "<matplotlib.figure.Figure at 0x7f1bdaee6790>"
      ]
     },
     "metadata": {},
     "output_type": "display_data"
    }
   ],
   "source": [
    "# plotting a grpah of the true values vs the predicted values for the training and test datasets\n",
    "plot_y_yhat_scatter(y_train, trained_regressor.predict(X_train),train_test = \"training\")\n",
    "# plotting a grpah of the true values vs the predicted values for the training and test datasets\n",
    "plot_y_yhat_scatter(y_test, trained_regressor.predict(X_test),train_test = \"test\")"
   ]
  },
  {
   "cell_type": "markdown",
   "metadata": {},
   "source": [
    "##### TODO: Consider moving to another section - Jack\n",
    "When comparing the different regression models, we will be looking at three main outputs:\n",
    "- Train score = R^2 between the predicted and true values for the training dataset\n",
    "- Test score = R^2 between the predicted and true values for the test dataset\n",
    "- Oob_score = the error rate of predicted values for data not used whilst training an individual tree"
   ]
  },
  {
   "cell_type": "markdown",
   "metadata": {},
   "source": [
    "### Changing some model parameters"
   ]
  },
  {
   "cell_type": "markdown",
   "metadata": {},
   "source": [
    "The default number of trees used in the bagging regressor is 10. This means that the algorithms splits the dataset into 10 different tress, trains each one individually, predicts the result from each one individually and then averages the result. \n",
    "\n",
    "Let's see how performance changes when we increase the number of trees from 10 to 100."
   ]
  },
  {
   "cell_type": "code",
<<<<<<< HEAD
   "execution_count": 49,
   "metadata": {},
=======
   "execution_count": 177,
   "metadata": {
    "collapsed": false
   },
>>>>>>> master
   "outputs": [
    {
     "name": "stdout",
     "output_type": "stream",
     "text": [
      "Train score: 0.956238336187\n",
      "Test score: 0.61044406365\n",
      "OOB score: 0.68432907825\n"
     ]
    }
   ],
   "source": [
    "trained_regressor = train_score_regressor(sklearn_regressor = BaggingRegressor,\n",
    "                                          X_train = X_train, y_train = y_train, \n",
    "                                          X_test = X_test, y_test = y_test, \n",
    "                                          model_parameters = {\"oob_score\":True, \"n_estimators\": 100,'random_state': 42},\n",
    "                                          print_oob_score=True)"
   ]
  },
  {
   "cell_type": "markdown",
   "metadata": {},
   "source": [
    "Here we see an improvement in all score and in particular the oob_score. This is telling us that splitting the dataset into more tree leads to a more accurate average predicton of the loan_amount. "
   ]
  },
  {
   "cell_type": "code",
<<<<<<< HEAD
   "execution_count": 50,
   "metadata": {},
=======
   "execution_count": 171,
   "metadata": {
    "collapsed": false
   },
>>>>>>> master
   "outputs": [
    {
     "data": {
      "image/png": "iVBORw0KGgoAAAANSUhEUgAAAjgAAAG9CAYAAAAY4AwAAAAABHNCSVQICAgIfAhkiAAAAAlwSFlz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\nERGR6CjgiIiISHT+H0+nbp/IdkcQAAAAAElFTkSuQmCC\n",
      "text/plain": [
       "<matplotlib.figure.Figure at 0x7f1bdaf51410>"
      ]
     },
     "metadata": {},
     "output_type": "display_data"
    },
    {
     "data": {
      "image/png": "iVBORw0KGgoAAAANSUhEUgAAAhsAAAG9CAYAAAC8irTTAAAABHNCSVQICAgIfAhkiAAAAAlwSFlz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\nIpIoJRsiIiKSqP8DD/6ndgJILUcAAAAASUVORK5CYII=\n",
      "text/plain": [
       "<matplotlib.figure.Figure at 0x7f1bdaef6dd0>"
      ]
     },
     "metadata": {},
     "output_type": "display_data"
    }
   ],
   "source": [
    "# plotting a grpah of the true values vs the predicted values for the training and test datasets\n",
    "plot_y_yhat_scatter(y_train, trained_regressor.predict(X_train),train_test = \"training\")\n",
    "# plotting a grpah of the true values vs the predicted values for the training and test datasets\n",
    "plot_y_yhat_scatter(y_test, trained_regressor.predict(X_test),train_test = \"test\")"
   ]
  },
  {
   "cell_type": "markdown",
   "metadata": {},
   "source": [
    "## Random Forest\n",
    "\n",
    "##### TODO: Add more to introduction and drive home difference between RF and bagging - Jack\n",
    "\n",
    "We still observe a large discrepancy between the training data and the test data.  This is largely because the decision trees are largely correlated, meaning that ubsets of the same data are probably going to split on the same features and result in very similar predictions.\n",
    "\n",
    "To de-correlate the trees, we can use a Random Forest Regressor, which only considers a random subsample of the features at each split."
   ]
  },
  {
   "cell_type": "code",
<<<<<<< HEAD
   "execution_count": 51,
   "metadata": {},
=======
   "execution_count": 181,
   "metadata": {
    "collapsed": false
   },
>>>>>>> master
   "outputs": [
    {
     "name": "stdout",
     "output_type": "stream",
     "text": [
      "Train score: 0.957361466107\n",
      "Test score: 0.614570770944\n",
      "OOB score: 0.689628255303\n"
     ]
    }
   ],
   "source": [
    "trained_regressor = train_score_regressor(sklearn_regressor = RandomForestRegressor,\n",
    "                                          X_train = X_train, y_train = y_train, \n",
    "                                          X_test = X_test, y_test = y_test, \n",
    "                                          model_parameters = {\"oob_score\":True, \"n_estimators\": 300, 'random_state':42},\n",
    "                                          print_oob_score=True)"
   ]
  },
  {
   "cell_type": "markdown",
   "metadata": {},
   "source": [
    "We can see that the random forest algorithm has improved the generalization performance relative to the bagging regressor. This indicates that the features we are using are already highly uncorrelated."
   ]
  },
  {
   "cell_type": "markdown",
   "metadata": {},
   "source": [
    "## Further Hyperparameter Tuning"
   ]
  },
  {
   "cell_type": "markdown",
   "metadata": {},
   "source": [
    "Since we are relying on OOB score, we do not in fact need to have a separate test set. We can use our full dataset for training with a small subset held to the side for each model to compute the OOB score. "
   ]
  },
  {
   "cell_type": "markdown",
   "metadata": {},
   "source": [
    "We also increase the number of estimators in our model to 400 and set the max_depth to 15 to improve upon overfitting."
   ]
  },
  {
   "cell_type": "code",
   "execution_count": 63,
   "metadata": {
    "collapsed": false,
    "scrolled": true
   },
   "outputs": [
    {
     "name": "stdout",
     "output_type": "stream",
     "text": [
      "Train score: 0.900271742482\n",
      "Test score: 0.618014665792\n",
      "OOB score: 0.694749056404\n"
     ]
    }
   ],
   "source": [
    "trained_regressor = train_score_regressor(sklearn_regressor = RandomForestRegressor,\n",
    "                                          X_train = X_train, y_train = y_train, \n",
    "                                          X_test = X_test, y_test = y_test, \n",
    "                                          model_parameters = {\"oob_score\":True, \"n_estimators\": 400,\n",
    "                                                              'random_state':42, 'max_depth':15},\n",
    "                                          print_oob_score=True)\n"
   ]
  },
  {
   "cell_type": "markdown",
   "metadata": {},
   "source": [
    "Recall that the difference between the Bagging Regressor and the RandomForest is that in the RandomForest, at each split, a random subset of features is considered. The reducing the chance of correlation between the different trees. \n",
    "\n",
    "Now, let's try to figure out which features are driving our model's predictions.  Although we do not have the coefficients provided by a linear regression, we can analyze what percentage of the overall variance was explained by a given feature."
   ]
  },
  {
   "cell_type": "markdown",
   "metadata": {},
   "source": [
    "#### TODO: 1. Plot feature importances 2. Show plot with y axis being performance and x being n_estimators- Jack"
   ]
  },
  {
   "cell_type": "code",
<<<<<<< HEAD
   "execution_count": 66,
   "metadata": {},
=======
   "execution_count": 469,
   "metadata": {
    "collapsed": false
   },
>>>>>>> master
   "outputs": [
    {
     "name": "stdout",
     "output_type": "stream",
     "text": [
      "Feature Ranking:\n",
      "1. feature bc_partner_OAF_high (0.389865)\n",
      "2. feature terms.repayment_term (0.110321)\n",
      "3. feature days_to_fund (0.057039)\n",
      "4. feature partner_dollar_amount (0.051972)\n",
      "5. feature days_to_fund (0.051955)\n",
      "6. feature hours_to_fund (0.038115)\n",
      "7. feature age_int (0.036765)\n",
      "8. feature posted_year (0.036435)\n",
      "9. feature posted_month (0.035966)\n",
      "10. feature partner_delinquency_rate (0.029550)\n",
      "11. feature num_partner_countries (0.020646)\n",
      "12. feature children_int (0.019882)\n",
      "13. feature top_partner_id (0.017720)\n",
      "14. feature bc_partner_OAF_low (0.016311)\n",
      "15. feature bc_partner_HIHEA (0.013703)\n",
      "16. feature num_tags (0.012703)\n",
      "17. feature sector_Agriculture (0.009703)\n",
      "18. feature more_one_partner_country (0.009120)\n",
      "19. feature pct_female (0.008578)\n",
      "20. feature married (0.005666)\n",
      "21. feature tag_#Repeat Borrower (0.004303)\n",
      "22. feature tag_#Schooling (0.004101)\n",
      "23. feature bc_partner_others (0.003741)\n",
      "24. feature female (0.002874)\n",
      "25. feature sector_Personal Use (0.002802)\n",
      "26. feature tag_#Woman Owned Biz (0.002411)\n",
      "27. feature kids (0.002232)\n",
      "28. feature exploratory_partner (0.002168)\n",
      "29. feature parent (0.001971)\n",
      "30. feature sector_Health (0.000932)\n",
      "31. feature sector_Wholesale (0.000450)\n"
     ]
    }
   ],
   "source": [
    "importances = trained_regressor.feature_importances_\n",
    "indices = np.argsort(importances)[::-1]\n",
    "\n",
    "print('Feature Ranking:')\n",
    "for f in range(len(importances)):\n",
    "    print(\"%d. feature %s (%f)\" % (f + 1, X_train.columns[indices[f]], importances[indices[f]]))"
   ]
  },
  {
   "cell_type": "markdown",
   "metadata": {},
   "source": [
    "What is interesting here is that there is not a very clear relationship between any single feature and the loan_amount. However the aggregat these features together into either the bagged regressor or the random forest algorithm leads to very effective predictions (R^2 ~ 0.74). This is a testament to the predictive power of decisions trees and ensemble methods!"
   ]
  },
  {
   "cell_type": "markdown",
   "metadata": {},
   "source": [
    "Let's try taking the top 20 features and observe it's impact on performance"
   ]
  },
  {
   "cell_type": "code",
   "execution_count": 69,
   "metadata": {
    "collapsed": true
   },
   "outputs": [],
   "source": [
    "relevant_cols = [X_train.columns[indices[f]] for f in range(20)]\n",
    "X_train2 = X_train[relevant_cols]\n",
    "X_test2 = X_test[relevant_cols]"
   ]
  },
  {
   "cell_type": "code",
<<<<<<< HEAD
   "execution_count": 72,
   "metadata": {},
=======
   "execution_count": 471,
   "metadata": {
    "collapsed": false
   },
>>>>>>> master
   "outputs": [
    {
     "name": "stdout",
     "output_type": "stream",
     "text": [
      "Train score: 0.902453317662\n",
      "Test score: 0.605449899305\n",
      "OOB score: 0.692720001196\n"
     ]
    }
   ],
   "source": [
    "trained_regressor = train_score_regressor(sklearn_regressor = RandomForestRegressor,\n",
    "                                          X_train = X_train2, y_train = y_train, \n",
    "                                          X_test = X_test2, y_test = y_test, \n",
    "                                          model_parameters = {\"oob_score\":True, \"n_estimators\": 400,\n",
    "                                                              'random_state':42, 'max_depth':15,\n",
    "                                                              \"n_jobs\":-1},\n",
    "                                          print_oob_score=True)"
   ]
  },
  {
   "cell_type": "markdown",
   "metadata": {},
   "source": [
    "The scores haven't changed significantly which means that we can continue just using the top 20 features. This means the algorithms is much faster and gives us a clearer idea of which features affect the loan amount"
   ]
  },
  {
   "cell_type": "code",
<<<<<<< HEAD
   "execution_count": 71,
   "metadata": {},
=======
   "execution_count": 472,
   "metadata": {
    "collapsed": false
   },
>>>>>>> master
   "outputs": [
    {
     "name": "stdout",
     "output_type": "stream",
     "text": [
      "Feature Ranking:\n",
      "1. feature bc_partner_OAF_high (0.388374)\n",
      "2. feature terms.repayment_term (0.111819)\n",
      "3. feature partner_dollar_amount (0.055328)\n",
      "4. feature hours_to_fund (0.040835)\n",
      "5. feature age_int (0.040546)\n",
      "6. feature posted_month (0.038471)\n",
      "7. feature posted_year (0.037256)\n",
      "8. feature partner_delinquency_rate (0.030660)\n",
      "9. feature days_to_fund (0.029040)\n",
      "10. feature days_to_fund (0.028243)\n",
      "11. feature days_to_fund (0.028163)\n",
      "12. feature days_to_fund (0.027512)\n",
      "13. feature num_partner_countries (0.022035)\n",
      "14. feature children_int (0.021774)\n",
      "15. feature top_partner_id (0.018313)\n",
      "16. feature bc_partner_OAF_low (0.016179)\n",
      "17. feature num_tags (0.014705)\n",
      "18. feature bc_partner_HIHEA (0.013729)\n",
      "19. feature pct_female (0.011264)\n",
      "20. feature sector_Agriculture (0.010366)\n",
      "21. feature more_one_partner_country (0.009169)\n",
      "22. feature married (0.006219)\n"
     ]
    }
   ],
   "source": [
    "importances = rf_regressor.feature_importances_\n",
    "indices = np.argsort(importances)[::-1]\n",
    "\n",
    "print('Feature Ranking:')\n",
    "for f in range(len(importances)):\n",
    "    print(\"%d. feature %s (%f)\" % (f + 1, X_train2.columns[indices[f]], importances[indices[f]]))"
   ]
  },
  {
   "cell_type": "markdown",
   "metadata": {},
   "source": [
    "Before we move onto homework, remember to output your final dataframe so you don't have to rerun it."
   ]
  },
  {
   "cell_type": "code",
   "execution_count": 473,
   "metadata": {
    "collapsed": true
   },
   "outputs": [],
   "source": [
    "df.to_csv(data_path+'df_module_3-2.csv')"
   ]
  },
  {
   "cell_type": "markdown",
   "metadata": {},
   "source": [
    "## Predicting Days to Fund"
   ]
  },
  {
   "cell_type": "markdown",
   "metadata": {},
   "source": [
    "Repeat the BaggingRegressor and the RandomForestRegressor method with a new target feature: days_to_fund. Determine the monst important features and discuss which features are intuitive or a surprise and why. \n"
   ]
  },
  {
   "cell_type": "code",
   "execution_count": 147,
   "metadata": {
    "collapsed": true
   },
   "outputs": [],
   "source": [
    "# adding the loan_amount feature back into the rf_trainArr dataset\n",
    "rf_trainArr['loan_amount'] = rf_trainRes\n",
    "# The new target feature result is the days_to_fund so pull that out and drop it from the training array\n",
    "rf_trainRes = rf_trainArr['days_to_fund']\n",
    "rf_trainArr = rf_trainArr.drop('days_to_fund', axis=1)"
   ]
  },
  {
   "cell_type": "code",
   "execution_count": null,
   "metadata": {
    "collapsed": true
   },
   "outputs": [],
   "source": [
    "# Create X_train, y_train, X_test and y_test where the y value is the days_to_fund feature. \n",
    "# Try using test_train_split function imported from sklearn"
   ]
  },
  {
   "cell_type": "markdown",
   "metadata": {},
   "source": [
    "Remember the three basic steps:\n",
    "- step 1: Initiate the algorithm\n",
    "- step 2: Fit the algorithm to the training data\n",
    "- step 3: Evaluate the algorithm performance"
   ]
  },
  {
   "cell_type": "code",
   "execution_count": null,
   "metadata": {
    "collapsed": true
   },
   "outputs": [],
   "source": [
    "# Use the BaggingRegressor method to predict the days_to_fund"
   ]
  },
  {
   "cell_type": "code",
   "execution_count": null,
   "metadata": {
    "collapsed": true
   },
   "outputs": [],
   "source": [
    "# Use the RandomForest Regressor method to predict the days_to_fund"
   ]
  },
  {
   "cell_type": "code",
   "execution_count": null,
   "metadata": {
    "collapsed": true
   },
   "outputs": [],
   "source": [
    "# Find the most important features"
   ]
  },
  {
   "cell_type": "markdown",
   "metadata": {},
   "source": [
    "## Advanced Homework (optional)"
   ]
  },
  {
   "cell_type": "markdown",
   "metadata": {},
   "source": [
    "The sklearn RandomForest library also has a classifier method, which rather than predicting a continuous numerical value such as loan amount or days to fund, it attempted to classify data on existing labels, eg: male or female. \n",
    "\n",
    "We imported this method at the beginning and you can read more about it here using the following cell or by going the sklearn [RandomForestClassifier](http://scikit-learn.org/stable/modules/generated/sklearn.ensemble.RandomForestClassifier.html) webpage."
   ]
  },
  {
   "cell_type": "code",
   "execution_count": 148,
   "metadata": {
    "collapsed": true
   },
   "outputs": [],
   "source": [
    "RandomForestClassifier?"
   ]
  },
  {
   "cell_type": "markdown",
   "metadata": {},
   "source": [
    "Using this module and the original feature gender, see how well we can classify loans by the gender. The procedure for training and testing data is practically the same as the RandomForestRegressor and the score is the mean accuracy of the predictions rather than the R^2 of the regression. "
   ]
  },
  {
   "cell_type": "markdown",
   "metadata": {},
   "source": [
    "## Advanced Material: Optimising the algorithm"
   ]
  },
  {
   "cell_type": "markdown",
   "metadata": {},
   "source": [
    "Up to this point, we have been largely been using the default values for all of the hyper-parameters.  To increase perfromance we should try adjusting these parameters.  Sklearn's GridSearchCV uses cross-validation to assess the performance of each possible permutation of the hyper-parameters that you specify."
   ]
  },
  {
   "cell_type": "code",
   "execution_count": 140,
   "metadata": {
    "collapsed": true
   },
   "outputs": [],
   "source": [
    "from sklearn.model_selection import GridSearchCV\n",
    "parameters = {'n_estimators': [100, 300, 500],\n",
    "             'max_features': ['auto', 'sqrt', 'log2'],\n",
    "              'max_depth': [None, 5, 10]\n",
    "             }\n",
    "gridrf = RandomForestRegressor()\n",
    "grid_rf = GridSearchCV(gridrf, parameters)"
   ]
  },
  {
   "cell_type": "code",
   "execution_count": 141,
   "metadata": {
    "collapsed": false
   },
   "outputs": [
    {
     "ename": "KeyboardInterrupt",
     "evalue": "",
     "output_type": "error",
     "traceback": [
      "\u001b[0;31m---------------------------------------------------------------------------\u001b[0m",
      "\u001b[0;31mKeyboardInterrupt\u001b[0m                         Traceback (most recent call last)",
      "\u001b[0;32m<ipython-input-141-25471aae2115>\u001b[0m in \u001b[0;36m<module>\u001b[0;34m()\u001b[0m\n\u001b[0;32m----> 1\u001b[0;31m \u001b[0mgrid_rf\u001b[0m\u001b[1;33m.\u001b[0m\u001b[0mfit\u001b[0m\u001b[1;33m(\u001b[0m\u001b[0mX_train2\u001b[0m\u001b[1;33m,\u001b[0m \u001b[0my_train\u001b[0m\u001b[1;33m)\u001b[0m\u001b[1;33m\u001b[0m\u001b[0m\n\u001b[0m",
      "\u001b[0;32mC:\\Users\\PC\\Anaconda3\\lib\\site-packages\\sklearn\\model_selection\\_search.py\u001b[0m in \u001b[0;36mfit\u001b[0;34m(self, X, y, groups)\u001b[0m\n\u001b[1;32m    943\u001b[0m             \u001b[0mtrain\u001b[0m\u001b[1;33m/\u001b[0m\u001b[0mtest\u001b[0m \u001b[0mset\u001b[0m\u001b[1;33m.\u001b[0m\u001b[1;33m\u001b[0m\u001b[0m\n\u001b[1;32m    944\u001b[0m         \"\"\"\n\u001b[0;32m--> 945\u001b[0;31m         \u001b[1;32mreturn\u001b[0m \u001b[0mself\u001b[0m\u001b[1;33m.\u001b[0m\u001b[0m_fit\u001b[0m\u001b[1;33m(\u001b[0m\u001b[0mX\u001b[0m\u001b[1;33m,\u001b[0m \u001b[0my\u001b[0m\u001b[1;33m,\u001b[0m \u001b[0mgroups\u001b[0m\u001b[1;33m,\u001b[0m \u001b[0mParameterGrid\u001b[0m\u001b[1;33m(\u001b[0m\u001b[0mself\u001b[0m\u001b[1;33m.\u001b[0m\u001b[0mparam_grid\u001b[0m\u001b[1;33m)\u001b[0m\u001b[1;33m)\u001b[0m\u001b[1;33m\u001b[0m\u001b[0m\n\u001b[0m\u001b[1;32m    946\u001b[0m \u001b[1;33m\u001b[0m\u001b[0m\n\u001b[1;32m    947\u001b[0m \u001b[1;33m\u001b[0m\u001b[0m\n",
      "\u001b[0;32mC:\\Users\\PC\\Anaconda3\\lib\\site-packages\\sklearn\\model_selection\\_search.py\u001b[0m in \u001b[0;36m_fit\u001b[0;34m(self, X, y, groups, parameter_iterable)\u001b[0m\n\u001b[1;32m    562\u001b[0m                                   \u001b[0mreturn_times\u001b[0m\u001b[1;33m=\u001b[0m\u001b[1;32mTrue\u001b[0m\u001b[1;33m,\u001b[0m \u001b[0mreturn_parameters\u001b[0m\u001b[1;33m=\u001b[0m\u001b[1;32mTrue\u001b[0m\u001b[1;33m,\u001b[0m\u001b[1;33m\u001b[0m\u001b[0m\n\u001b[1;32m    563\u001b[0m                                   error_score=self.error_score)\n\u001b[0;32m--> 564\u001b[0;31m           \u001b[1;32mfor\u001b[0m \u001b[0mparameters\u001b[0m \u001b[1;32min\u001b[0m \u001b[0mparameter_iterable\u001b[0m\u001b[1;33m\u001b[0m\u001b[0m\n\u001b[0m\u001b[1;32m    565\u001b[0m           for train, test in cv_iter)\n\u001b[1;32m    566\u001b[0m \u001b[1;33m\u001b[0m\u001b[0m\n",
      "\u001b[0;32mC:\\Users\\PC\\Anaconda3\\lib\\site-packages\\sklearn\\externals\\joblib\\parallel.py\u001b[0m in \u001b[0;36m__call__\u001b[0;34m(self, iterable)\u001b[0m\n\u001b[1;32m    756\u001b[0m             \u001b[1;31m# was dispatched. In particular this covers the edge\u001b[0m\u001b[1;33m\u001b[0m\u001b[1;33m\u001b[0m\u001b[0m\n\u001b[1;32m    757\u001b[0m             \u001b[1;31m# case of Parallel used with an exhausted iterator.\u001b[0m\u001b[1;33m\u001b[0m\u001b[1;33m\u001b[0m\u001b[0m\n\u001b[0;32m--> 758\u001b[0;31m             \u001b[1;32mwhile\u001b[0m \u001b[0mself\u001b[0m\u001b[1;33m.\u001b[0m\u001b[0mdispatch_one_batch\u001b[0m\u001b[1;33m(\u001b[0m\u001b[0miterator\u001b[0m\u001b[1;33m)\u001b[0m\u001b[1;33m:\u001b[0m\u001b[1;33m\u001b[0m\u001b[0m\n\u001b[0m\u001b[1;32m    759\u001b[0m                 \u001b[0mself\u001b[0m\u001b[1;33m.\u001b[0m\u001b[0m_iterating\u001b[0m \u001b[1;33m=\u001b[0m \u001b[1;32mTrue\u001b[0m\u001b[1;33m\u001b[0m\u001b[0m\n\u001b[1;32m    760\u001b[0m             \u001b[1;32melse\u001b[0m\u001b[1;33m:\u001b[0m\u001b[1;33m\u001b[0m\u001b[0m\n",
      "\u001b[0;32mC:\\Users\\PC\\Anaconda3\\lib\\site-packages\\sklearn\\externals\\joblib\\parallel.py\u001b[0m in \u001b[0;36mdispatch_one_batch\u001b[0;34m(self, iterator)\u001b[0m\n\u001b[1;32m    606\u001b[0m                 \u001b[1;32mreturn\u001b[0m \u001b[1;32mFalse\u001b[0m\u001b[1;33m\u001b[0m\u001b[0m\n\u001b[1;32m    607\u001b[0m             \u001b[1;32melse\u001b[0m\u001b[1;33m:\u001b[0m\u001b[1;33m\u001b[0m\u001b[0m\n\u001b[0;32m--> 608\u001b[0;31m                 \u001b[0mself\u001b[0m\u001b[1;33m.\u001b[0m\u001b[0m_dispatch\u001b[0m\u001b[1;33m(\u001b[0m\u001b[0mtasks\u001b[0m\u001b[1;33m)\u001b[0m\u001b[1;33m\u001b[0m\u001b[0m\n\u001b[0m\u001b[1;32m    609\u001b[0m                 \u001b[1;32mreturn\u001b[0m \u001b[1;32mTrue\u001b[0m\u001b[1;33m\u001b[0m\u001b[0m\n\u001b[1;32m    610\u001b[0m \u001b[1;33m\u001b[0m\u001b[0m\n",
      "\u001b[0;32mC:\\Users\\PC\\Anaconda3\\lib\\site-packages\\sklearn\\externals\\joblib\\parallel.py\u001b[0m in \u001b[0;36m_dispatch\u001b[0;34m(self, batch)\u001b[0m\n\u001b[1;32m    569\u001b[0m         \u001b[0mdispatch_timestamp\u001b[0m \u001b[1;33m=\u001b[0m \u001b[0mtime\u001b[0m\u001b[1;33m.\u001b[0m\u001b[0mtime\u001b[0m\u001b[1;33m(\u001b[0m\u001b[1;33m)\u001b[0m\u001b[1;33m\u001b[0m\u001b[0m\n\u001b[1;32m    570\u001b[0m         \u001b[0mcb\u001b[0m \u001b[1;33m=\u001b[0m \u001b[0mBatchCompletionCallBack\u001b[0m\u001b[1;33m(\u001b[0m\u001b[0mdispatch_timestamp\u001b[0m\u001b[1;33m,\u001b[0m \u001b[0mlen\u001b[0m\u001b[1;33m(\u001b[0m\u001b[0mbatch\u001b[0m\u001b[1;33m)\u001b[0m\u001b[1;33m,\u001b[0m \u001b[0mself\u001b[0m\u001b[1;33m)\u001b[0m\u001b[1;33m\u001b[0m\u001b[0m\n\u001b[0;32m--> 571\u001b[0;31m         \u001b[0mjob\u001b[0m \u001b[1;33m=\u001b[0m \u001b[0mself\u001b[0m\u001b[1;33m.\u001b[0m\u001b[0m_backend\u001b[0m\u001b[1;33m.\u001b[0m\u001b[0mapply_async\u001b[0m\u001b[1;33m(\u001b[0m\u001b[0mbatch\u001b[0m\u001b[1;33m,\u001b[0m \u001b[0mcallback\u001b[0m\u001b[1;33m=\u001b[0m\u001b[0mcb\u001b[0m\u001b[1;33m)\u001b[0m\u001b[1;33m\u001b[0m\u001b[0m\n\u001b[0m\u001b[1;32m    572\u001b[0m         \u001b[0mself\u001b[0m\u001b[1;33m.\u001b[0m\u001b[0m_jobs\u001b[0m\u001b[1;33m.\u001b[0m\u001b[0mappend\u001b[0m\u001b[1;33m(\u001b[0m\u001b[0mjob\u001b[0m\u001b[1;33m)\u001b[0m\u001b[1;33m\u001b[0m\u001b[0m\n\u001b[1;32m    573\u001b[0m \u001b[1;33m\u001b[0m\u001b[0m\n",
      "\u001b[0;32mC:\\Users\\PC\\Anaconda3\\lib\\site-packages\\sklearn\\externals\\joblib\\_parallel_backends.py\u001b[0m in \u001b[0;36mapply_async\u001b[0;34m(self, func, callback)\u001b[0m\n\u001b[1;32m    107\u001b[0m     \u001b[1;32mdef\u001b[0m \u001b[0mapply_async\u001b[0m\u001b[1;33m(\u001b[0m\u001b[0mself\u001b[0m\u001b[1;33m,\u001b[0m \u001b[0mfunc\u001b[0m\u001b[1;33m,\u001b[0m \u001b[0mcallback\u001b[0m\u001b[1;33m=\u001b[0m\u001b[1;32mNone\u001b[0m\u001b[1;33m)\u001b[0m\u001b[1;33m:\u001b[0m\u001b[1;33m\u001b[0m\u001b[0m\n\u001b[1;32m    108\u001b[0m         \u001b[1;34m\"\"\"Schedule a func to be run\"\"\"\u001b[0m\u001b[1;33m\u001b[0m\u001b[0m\n\u001b[0;32m--> 109\u001b[0;31m         \u001b[0mresult\u001b[0m \u001b[1;33m=\u001b[0m \u001b[0mImmediateResult\u001b[0m\u001b[1;33m(\u001b[0m\u001b[0mfunc\u001b[0m\u001b[1;33m)\u001b[0m\u001b[1;33m\u001b[0m\u001b[0m\n\u001b[0m\u001b[1;32m    110\u001b[0m         \u001b[1;32mif\u001b[0m \u001b[0mcallback\u001b[0m\u001b[1;33m:\u001b[0m\u001b[1;33m\u001b[0m\u001b[0m\n\u001b[1;32m    111\u001b[0m             \u001b[0mcallback\u001b[0m\u001b[1;33m(\u001b[0m\u001b[0mresult\u001b[0m\u001b[1;33m)\u001b[0m\u001b[1;33m\u001b[0m\u001b[0m\n",
      "\u001b[0;32mC:\\Users\\PC\\Anaconda3\\lib\\site-packages\\sklearn\\externals\\joblib\\_parallel_backends.py\u001b[0m in \u001b[0;36m__init__\u001b[0;34m(self, batch)\u001b[0m\n\u001b[1;32m    324\u001b[0m         \u001b[1;31m# Don't delay the application, to avoid keeping the input\u001b[0m\u001b[1;33m\u001b[0m\u001b[1;33m\u001b[0m\u001b[0m\n\u001b[1;32m    325\u001b[0m         \u001b[1;31m# arguments in memory\u001b[0m\u001b[1;33m\u001b[0m\u001b[1;33m\u001b[0m\u001b[0m\n\u001b[0;32m--> 326\u001b[0;31m         \u001b[0mself\u001b[0m\u001b[1;33m.\u001b[0m\u001b[0mresults\u001b[0m \u001b[1;33m=\u001b[0m \u001b[0mbatch\u001b[0m\u001b[1;33m(\u001b[0m\u001b[1;33m)\u001b[0m\u001b[1;33m\u001b[0m\u001b[0m\n\u001b[0m\u001b[1;32m    327\u001b[0m \u001b[1;33m\u001b[0m\u001b[0m\n\u001b[1;32m    328\u001b[0m     \u001b[1;32mdef\u001b[0m \u001b[0mget\u001b[0m\u001b[1;33m(\u001b[0m\u001b[0mself\u001b[0m\u001b[1;33m)\u001b[0m\u001b[1;33m:\u001b[0m\u001b[1;33m\u001b[0m\u001b[0m\n",
      "\u001b[0;32mC:\\Users\\PC\\Anaconda3\\lib\\site-packages\\sklearn\\externals\\joblib\\parallel.py\u001b[0m in \u001b[0;36m__call__\u001b[0;34m(self)\u001b[0m\n\u001b[1;32m    129\u001b[0m \u001b[1;33m\u001b[0m\u001b[0m\n\u001b[1;32m    130\u001b[0m     \u001b[1;32mdef\u001b[0m \u001b[0m__call__\u001b[0m\u001b[1;33m(\u001b[0m\u001b[0mself\u001b[0m\u001b[1;33m)\u001b[0m\u001b[1;33m:\u001b[0m\u001b[1;33m\u001b[0m\u001b[0m\n\u001b[0;32m--> 131\u001b[0;31m         \u001b[1;32mreturn\u001b[0m \u001b[1;33m[\u001b[0m\u001b[0mfunc\u001b[0m\u001b[1;33m(\u001b[0m\u001b[1;33m*\u001b[0m\u001b[0margs\u001b[0m\u001b[1;33m,\u001b[0m \u001b[1;33m**\u001b[0m\u001b[0mkwargs\u001b[0m\u001b[1;33m)\u001b[0m \u001b[1;32mfor\u001b[0m \u001b[0mfunc\u001b[0m\u001b[1;33m,\u001b[0m \u001b[0margs\u001b[0m\u001b[1;33m,\u001b[0m \u001b[0mkwargs\u001b[0m \u001b[1;32min\u001b[0m \u001b[0mself\u001b[0m\u001b[1;33m.\u001b[0m\u001b[0mitems\u001b[0m\u001b[1;33m]\u001b[0m\u001b[1;33m\u001b[0m\u001b[0m\n\u001b[0m\u001b[1;32m    132\u001b[0m \u001b[1;33m\u001b[0m\u001b[0m\n\u001b[1;32m    133\u001b[0m     \u001b[1;32mdef\u001b[0m \u001b[0m__len__\u001b[0m\u001b[1;33m(\u001b[0m\u001b[0mself\u001b[0m\u001b[1;33m)\u001b[0m\u001b[1;33m:\u001b[0m\u001b[1;33m\u001b[0m\u001b[0m\n",
      "\u001b[0;32mC:\\Users\\PC\\Anaconda3\\lib\\site-packages\\sklearn\\externals\\joblib\\parallel.py\u001b[0m in \u001b[0;36m<listcomp>\u001b[0;34m(.0)\u001b[0m\n\u001b[1;32m    129\u001b[0m \u001b[1;33m\u001b[0m\u001b[0m\n\u001b[1;32m    130\u001b[0m     \u001b[1;32mdef\u001b[0m \u001b[0m__call__\u001b[0m\u001b[1;33m(\u001b[0m\u001b[0mself\u001b[0m\u001b[1;33m)\u001b[0m\u001b[1;33m:\u001b[0m\u001b[1;33m\u001b[0m\u001b[0m\n\u001b[0;32m--> 131\u001b[0;31m         \u001b[1;32mreturn\u001b[0m \u001b[1;33m[\u001b[0m\u001b[0mfunc\u001b[0m\u001b[1;33m(\u001b[0m\u001b[1;33m*\u001b[0m\u001b[0margs\u001b[0m\u001b[1;33m,\u001b[0m \u001b[1;33m**\u001b[0m\u001b[0mkwargs\u001b[0m\u001b[1;33m)\u001b[0m \u001b[1;32mfor\u001b[0m \u001b[0mfunc\u001b[0m\u001b[1;33m,\u001b[0m \u001b[0margs\u001b[0m\u001b[1;33m,\u001b[0m \u001b[0mkwargs\u001b[0m \u001b[1;32min\u001b[0m \u001b[0mself\u001b[0m\u001b[1;33m.\u001b[0m\u001b[0mitems\u001b[0m\u001b[1;33m]\u001b[0m\u001b[1;33m\u001b[0m\u001b[0m\n\u001b[0m\u001b[1;32m    132\u001b[0m \u001b[1;33m\u001b[0m\u001b[0m\n\u001b[1;32m    133\u001b[0m     \u001b[1;32mdef\u001b[0m \u001b[0m__len__\u001b[0m\u001b[1;33m(\u001b[0m\u001b[0mself\u001b[0m\u001b[1;33m)\u001b[0m\u001b[1;33m:\u001b[0m\u001b[1;33m\u001b[0m\u001b[0m\n",
      "\u001b[0;32mC:\\Users\\PC\\Anaconda3\\lib\\site-packages\\sklearn\\model_selection\\_validation.py\u001b[0m in \u001b[0;36m_fit_and_score\u001b[0;34m(estimator, X, y, scorer, train, test, verbose, parameters, fit_params, return_train_score, return_parameters, return_n_test_samples, return_times, error_score)\u001b[0m\n\u001b[1;32m    236\u001b[0m             \u001b[0mestimator\u001b[0m\u001b[1;33m.\u001b[0m\u001b[0mfit\u001b[0m\u001b[1;33m(\u001b[0m\u001b[0mX_train\u001b[0m\u001b[1;33m,\u001b[0m \u001b[1;33m**\u001b[0m\u001b[0mfit_params\u001b[0m\u001b[1;33m)\u001b[0m\u001b[1;33m\u001b[0m\u001b[0m\n\u001b[1;32m    237\u001b[0m         \u001b[1;32melse\u001b[0m\u001b[1;33m:\u001b[0m\u001b[1;33m\u001b[0m\u001b[0m\n\u001b[0;32m--> 238\u001b[0;31m             \u001b[0mestimator\u001b[0m\u001b[1;33m.\u001b[0m\u001b[0mfit\u001b[0m\u001b[1;33m(\u001b[0m\u001b[0mX_train\u001b[0m\u001b[1;33m,\u001b[0m \u001b[0my_train\u001b[0m\u001b[1;33m,\u001b[0m \u001b[1;33m**\u001b[0m\u001b[0mfit_params\u001b[0m\u001b[1;33m)\u001b[0m\u001b[1;33m\u001b[0m\u001b[0m\n\u001b[0m\u001b[1;32m    239\u001b[0m \u001b[1;33m\u001b[0m\u001b[0m\n\u001b[1;32m    240\u001b[0m     \u001b[1;32mexcept\u001b[0m \u001b[0mException\u001b[0m \u001b[1;32mas\u001b[0m \u001b[0me\u001b[0m\u001b[1;33m:\u001b[0m\u001b[1;33m\u001b[0m\u001b[0m\n",
      "\u001b[0;32mC:\\Users\\PC\\Anaconda3\\lib\\site-packages\\sklearn\\ensemble\\forest.py\u001b[0m in \u001b[0;36mfit\u001b[0;34m(self, X, y, sample_weight)\u001b[0m\n\u001b[1;32m    324\u001b[0m                     \u001b[0mt\u001b[0m\u001b[1;33m,\u001b[0m \u001b[0mself\u001b[0m\u001b[1;33m,\u001b[0m \u001b[0mX\u001b[0m\u001b[1;33m,\u001b[0m \u001b[0my\u001b[0m\u001b[1;33m,\u001b[0m \u001b[0msample_weight\u001b[0m\u001b[1;33m,\u001b[0m \u001b[0mi\u001b[0m\u001b[1;33m,\u001b[0m \u001b[0mlen\u001b[0m\u001b[1;33m(\u001b[0m\u001b[0mtrees\u001b[0m\u001b[1;33m)\u001b[0m\u001b[1;33m,\u001b[0m\u001b[1;33m\u001b[0m\u001b[0m\n\u001b[1;32m    325\u001b[0m                     verbose=self.verbose, class_weight=self.class_weight)\n\u001b[0;32m--> 326\u001b[0;31m                 for i, t in enumerate(trees))\n\u001b[0m\u001b[1;32m    327\u001b[0m \u001b[1;33m\u001b[0m\u001b[0m\n\u001b[1;32m    328\u001b[0m             \u001b[1;31m# Collect newly grown trees\u001b[0m\u001b[1;33m\u001b[0m\u001b[1;33m\u001b[0m\u001b[0m\n",
      "\u001b[0;32mC:\\Users\\PC\\Anaconda3\\lib\\site-packages\\sklearn\\externals\\joblib\\parallel.py\u001b[0m in \u001b[0;36m__call__\u001b[0;34m(self, iterable)\u001b[0m\n\u001b[1;32m    756\u001b[0m             \u001b[1;31m# was dispatched. In particular this covers the edge\u001b[0m\u001b[1;33m\u001b[0m\u001b[1;33m\u001b[0m\u001b[0m\n\u001b[1;32m    757\u001b[0m             \u001b[1;31m# case of Parallel used with an exhausted iterator.\u001b[0m\u001b[1;33m\u001b[0m\u001b[1;33m\u001b[0m\u001b[0m\n\u001b[0;32m--> 758\u001b[0;31m             \u001b[1;32mwhile\u001b[0m \u001b[0mself\u001b[0m\u001b[1;33m.\u001b[0m\u001b[0mdispatch_one_batch\u001b[0m\u001b[1;33m(\u001b[0m\u001b[0miterator\u001b[0m\u001b[1;33m)\u001b[0m\u001b[1;33m:\u001b[0m\u001b[1;33m\u001b[0m\u001b[0m\n\u001b[0m\u001b[1;32m    759\u001b[0m                 \u001b[0mself\u001b[0m\u001b[1;33m.\u001b[0m\u001b[0m_iterating\u001b[0m \u001b[1;33m=\u001b[0m \u001b[1;32mTrue\u001b[0m\u001b[1;33m\u001b[0m\u001b[0m\n\u001b[1;32m    760\u001b[0m             \u001b[1;32melse\u001b[0m\u001b[1;33m:\u001b[0m\u001b[1;33m\u001b[0m\u001b[0m\n",
      "\u001b[0;32mC:\\Users\\PC\\Anaconda3\\lib\\site-packages\\sklearn\\externals\\joblib\\parallel.py\u001b[0m in \u001b[0;36mdispatch_one_batch\u001b[0;34m(self, iterator)\u001b[0m\n\u001b[1;32m    606\u001b[0m                 \u001b[1;32mreturn\u001b[0m \u001b[1;32mFalse\u001b[0m\u001b[1;33m\u001b[0m\u001b[0m\n\u001b[1;32m    607\u001b[0m             \u001b[1;32melse\u001b[0m\u001b[1;33m:\u001b[0m\u001b[1;33m\u001b[0m\u001b[0m\n\u001b[0;32m--> 608\u001b[0;31m                 \u001b[0mself\u001b[0m\u001b[1;33m.\u001b[0m\u001b[0m_dispatch\u001b[0m\u001b[1;33m(\u001b[0m\u001b[0mtasks\u001b[0m\u001b[1;33m)\u001b[0m\u001b[1;33m\u001b[0m\u001b[0m\n\u001b[0m\u001b[1;32m    609\u001b[0m                 \u001b[1;32mreturn\u001b[0m \u001b[1;32mTrue\u001b[0m\u001b[1;33m\u001b[0m\u001b[0m\n\u001b[1;32m    610\u001b[0m \u001b[1;33m\u001b[0m\u001b[0m\n",
      "\u001b[0;32mC:\\Users\\PC\\Anaconda3\\lib\\site-packages\\sklearn\\externals\\joblib\\parallel.py\u001b[0m in \u001b[0;36m_dispatch\u001b[0;34m(self, batch)\u001b[0m\n\u001b[1;32m    569\u001b[0m         \u001b[0mdispatch_timestamp\u001b[0m \u001b[1;33m=\u001b[0m \u001b[0mtime\u001b[0m\u001b[1;33m.\u001b[0m\u001b[0mtime\u001b[0m\u001b[1;33m(\u001b[0m\u001b[1;33m)\u001b[0m\u001b[1;33m\u001b[0m\u001b[0m\n\u001b[1;32m    570\u001b[0m         \u001b[0mcb\u001b[0m \u001b[1;33m=\u001b[0m \u001b[0mBatchCompletionCallBack\u001b[0m\u001b[1;33m(\u001b[0m\u001b[0mdispatch_timestamp\u001b[0m\u001b[1;33m,\u001b[0m \u001b[0mlen\u001b[0m\u001b[1;33m(\u001b[0m\u001b[0mbatch\u001b[0m\u001b[1;33m)\u001b[0m\u001b[1;33m,\u001b[0m \u001b[0mself\u001b[0m\u001b[1;33m)\u001b[0m\u001b[1;33m\u001b[0m\u001b[0m\n\u001b[0;32m--> 571\u001b[0;31m         \u001b[0mjob\u001b[0m \u001b[1;33m=\u001b[0m \u001b[0mself\u001b[0m\u001b[1;33m.\u001b[0m\u001b[0m_backend\u001b[0m\u001b[1;33m.\u001b[0m\u001b[0mapply_async\u001b[0m\u001b[1;33m(\u001b[0m\u001b[0mbatch\u001b[0m\u001b[1;33m,\u001b[0m \u001b[0mcallback\u001b[0m\u001b[1;33m=\u001b[0m\u001b[0mcb\u001b[0m\u001b[1;33m)\u001b[0m\u001b[1;33m\u001b[0m\u001b[0m\n\u001b[0m\u001b[1;32m    572\u001b[0m         \u001b[0mself\u001b[0m\u001b[1;33m.\u001b[0m\u001b[0m_jobs\u001b[0m\u001b[1;33m.\u001b[0m\u001b[0mappend\u001b[0m\u001b[1;33m(\u001b[0m\u001b[0mjob\u001b[0m\u001b[1;33m)\u001b[0m\u001b[1;33m\u001b[0m\u001b[0m\n\u001b[1;32m    573\u001b[0m \u001b[1;33m\u001b[0m\u001b[0m\n",
      "\u001b[0;32mC:\\Users\\PC\\Anaconda3\\lib\\site-packages\\sklearn\\externals\\joblib\\_parallel_backends.py\u001b[0m in \u001b[0;36mapply_async\u001b[0;34m(self, func, callback)\u001b[0m\n\u001b[1;32m    107\u001b[0m     \u001b[1;32mdef\u001b[0m \u001b[0mapply_async\u001b[0m\u001b[1;33m(\u001b[0m\u001b[0mself\u001b[0m\u001b[1;33m,\u001b[0m \u001b[0mfunc\u001b[0m\u001b[1;33m,\u001b[0m \u001b[0mcallback\u001b[0m\u001b[1;33m=\u001b[0m\u001b[1;32mNone\u001b[0m\u001b[1;33m)\u001b[0m\u001b[1;33m:\u001b[0m\u001b[1;33m\u001b[0m\u001b[0m\n\u001b[1;32m    108\u001b[0m         \u001b[1;34m\"\"\"Schedule a func to be run\"\"\"\u001b[0m\u001b[1;33m\u001b[0m\u001b[0m\n\u001b[0;32m--> 109\u001b[0;31m         \u001b[0mresult\u001b[0m \u001b[1;33m=\u001b[0m \u001b[0mImmediateResult\u001b[0m\u001b[1;33m(\u001b[0m\u001b[0mfunc\u001b[0m\u001b[1;33m)\u001b[0m\u001b[1;33m\u001b[0m\u001b[0m\n\u001b[0m\u001b[1;32m    110\u001b[0m         \u001b[1;32mif\u001b[0m \u001b[0mcallback\u001b[0m\u001b[1;33m:\u001b[0m\u001b[1;33m\u001b[0m\u001b[0m\n\u001b[1;32m    111\u001b[0m             \u001b[0mcallback\u001b[0m\u001b[1;33m(\u001b[0m\u001b[0mresult\u001b[0m\u001b[1;33m)\u001b[0m\u001b[1;33m\u001b[0m\u001b[0m\n",
      "\u001b[0;32mC:\\Users\\PC\\Anaconda3\\lib\\site-packages\\sklearn\\externals\\joblib\\_parallel_backends.py\u001b[0m in \u001b[0;36m__init__\u001b[0;34m(self, batch)\u001b[0m\n\u001b[1;32m    324\u001b[0m         \u001b[1;31m# Don't delay the application, to avoid keeping the input\u001b[0m\u001b[1;33m\u001b[0m\u001b[1;33m\u001b[0m\u001b[0m\n\u001b[1;32m    325\u001b[0m         \u001b[1;31m# arguments in memory\u001b[0m\u001b[1;33m\u001b[0m\u001b[1;33m\u001b[0m\u001b[0m\n\u001b[0;32m--> 326\u001b[0;31m         \u001b[0mself\u001b[0m\u001b[1;33m.\u001b[0m\u001b[0mresults\u001b[0m \u001b[1;33m=\u001b[0m \u001b[0mbatch\u001b[0m\u001b[1;33m(\u001b[0m\u001b[1;33m)\u001b[0m\u001b[1;33m\u001b[0m\u001b[0m\n\u001b[0m\u001b[1;32m    327\u001b[0m \u001b[1;33m\u001b[0m\u001b[0m\n\u001b[1;32m    328\u001b[0m     \u001b[1;32mdef\u001b[0m \u001b[0mget\u001b[0m\u001b[1;33m(\u001b[0m\u001b[0mself\u001b[0m\u001b[1;33m)\u001b[0m\u001b[1;33m:\u001b[0m\u001b[1;33m\u001b[0m\u001b[0m\n",
      "\u001b[0;32mC:\\Users\\PC\\Anaconda3\\lib\\site-packages\\sklearn\\externals\\joblib\\parallel.py\u001b[0m in \u001b[0;36m__call__\u001b[0;34m(self)\u001b[0m\n\u001b[1;32m    129\u001b[0m \u001b[1;33m\u001b[0m\u001b[0m\n\u001b[1;32m    130\u001b[0m     \u001b[1;32mdef\u001b[0m \u001b[0m__call__\u001b[0m\u001b[1;33m(\u001b[0m\u001b[0mself\u001b[0m\u001b[1;33m)\u001b[0m\u001b[1;33m:\u001b[0m\u001b[1;33m\u001b[0m\u001b[0m\n\u001b[0;32m--> 131\u001b[0;31m         \u001b[1;32mreturn\u001b[0m \u001b[1;33m[\u001b[0m\u001b[0mfunc\u001b[0m\u001b[1;33m(\u001b[0m\u001b[1;33m*\u001b[0m\u001b[0margs\u001b[0m\u001b[1;33m,\u001b[0m \u001b[1;33m**\u001b[0m\u001b[0mkwargs\u001b[0m\u001b[1;33m)\u001b[0m \u001b[1;32mfor\u001b[0m \u001b[0mfunc\u001b[0m\u001b[1;33m,\u001b[0m \u001b[0margs\u001b[0m\u001b[1;33m,\u001b[0m \u001b[0mkwargs\u001b[0m \u001b[1;32min\u001b[0m \u001b[0mself\u001b[0m\u001b[1;33m.\u001b[0m\u001b[0mitems\u001b[0m\u001b[1;33m]\u001b[0m\u001b[1;33m\u001b[0m\u001b[0m\n\u001b[0m\u001b[1;32m    132\u001b[0m \u001b[1;33m\u001b[0m\u001b[0m\n\u001b[1;32m    133\u001b[0m     \u001b[1;32mdef\u001b[0m \u001b[0m__len__\u001b[0m\u001b[1;33m(\u001b[0m\u001b[0mself\u001b[0m\u001b[1;33m)\u001b[0m\u001b[1;33m:\u001b[0m\u001b[1;33m\u001b[0m\u001b[0m\n",
      "\u001b[0;32mC:\\Users\\PC\\Anaconda3\\lib\\site-packages\\sklearn\\externals\\joblib\\parallel.py\u001b[0m in \u001b[0;36m<listcomp>\u001b[0;34m(.0)\u001b[0m\n\u001b[1;32m    129\u001b[0m \u001b[1;33m\u001b[0m\u001b[0m\n\u001b[1;32m    130\u001b[0m     \u001b[1;32mdef\u001b[0m \u001b[0m__call__\u001b[0m\u001b[1;33m(\u001b[0m\u001b[0mself\u001b[0m\u001b[1;33m)\u001b[0m\u001b[1;33m:\u001b[0m\u001b[1;33m\u001b[0m\u001b[0m\n\u001b[0;32m--> 131\u001b[0;31m         \u001b[1;32mreturn\u001b[0m \u001b[1;33m[\u001b[0m\u001b[0mfunc\u001b[0m\u001b[1;33m(\u001b[0m\u001b[1;33m*\u001b[0m\u001b[0margs\u001b[0m\u001b[1;33m,\u001b[0m \u001b[1;33m**\u001b[0m\u001b[0mkwargs\u001b[0m\u001b[1;33m)\u001b[0m \u001b[1;32mfor\u001b[0m \u001b[0mfunc\u001b[0m\u001b[1;33m,\u001b[0m \u001b[0margs\u001b[0m\u001b[1;33m,\u001b[0m \u001b[0mkwargs\u001b[0m \u001b[1;32min\u001b[0m \u001b[0mself\u001b[0m\u001b[1;33m.\u001b[0m\u001b[0mitems\u001b[0m\u001b[1;33m]\u001b[0m\u001b[1;33m\u001b[0m\u001b[0m\n\u001b[0m\u001b[1;32m    132\u001b[0m \u001b[1;33m\u001b[0m\u001b[0m\n\u001b[1;32m    133\u001b[0m     \u001b[1;32mdef\u001b[0m \u001b[0m__len__\u001b[0m\u001b[1;33m(\u001b[0m\u001b[0mself\u001b[0m\u001b[1;33m)\u001b[0m\u001b[1;33m:\u001b[0m\u001b[1;33m\u001b[0m\u001b[0m\n",
      "\u001b[0;32mC:\\Users\\PC\\Anaconda3\\lib\\site-packages\\sklearn\\ensemble\\forest.py\u001b[0m in \u001b[0;36m_parallel_build_trees\u001b[0;34m(tree, forest, X, y, sample_weight, tree_idx, n_trees, verbose, class_weight)\u001b[0m\n\u001b[1;32m    118\u001b[0m             \u001b[0mcurr_sample_weight\u001b[0m \u001b[1;33m*=\u001b[0m \u001b[0mcompute_sample_weight\u001b[0m\u001b[1;33m(\u001b[0m\u001b[1;34m'balanced'\u001b[0m\u001b[1;33m,\u001b[0m \u001b[0my\u001b[0m\u001b[1;33m,\u001b[0m \u001b[0mindices\u001b[0m\u001b[1;33m)\u001b[0m\u001b[1;33m\u001b[0m\u001b[0m\n\u001b[1;32m    119\u001b[0m \u001b[1;33m\u001b[0m\u001b[0m\n\u001b[0;32m--> 120\u001b[0;31m         \u001b[0mtree\u001b[0m\u001b[1;33m.\u001b[0m\u001b[0mfit\u001b[0m\u001b[1;33m(\u001b[0m\u001b[0mX\u001b[0m\u001b[1;33m,\u001b[0m \u001b[0my\u001b[0m\u001b[1;33m,\u001b[0m \u001b[0msample_weight\u001b[0m\u001b[1;33m=\u001b[0m\u001b[0mcurr_sample_weight\u001b[0m\u001b[1;33m,\u001b[0m \u001b[0mcheck_input\u001b[0m\u001b[1;33m=\u001b[0m\u001b[1;32mFalse\u001b[0m\u001b[1;33m)\u001b[0m\u001b[1;33m\u001b[0m\u001b[0m\n\u001b[0m\u001b[1;32m    121\u001b[0m     \u001b[1;32melse\u001b[0m\u001b[1;33m:\u001b[0m\u001b[1;33m\u001b[0m\u001b[0m\n\u001b[1;32m    122\u001b[0m         \u001b[0mtree\u001b[0m\u001b[1;33m.\u001b[0m\u001b[0mfit\u001b[0m\u001b[1;33m(\u001b[0m\u001b[0mX\u001b[0m\u001b[1;33m,\u001b[0m \u001b[0my\u001b[0m\u001b[1;33m,\u001b[0m \u001b[0msample_weight\u001b[0m\u001b[1;33m=\u001b[0m\u001b[0msample_weight\u001b[0m\u001b[1;33m,\u001b[0m \u001b[0mcheck_input\u001b[0m\u001b[1;33m=\u001b[0m\u001b[1;32mFalse\u001b[0m\u001b[1;33m)\u001b[0m\u001b[1;33m\u001b[0m\u001b[0m\n",
      "\u001b[0;32mC:\\Users\\PC\\Anaconda3\\lib\\site-packages\\sklearn\\tree\\tree.py\u001b[0m in \u001b[0;36mfit\u001b[0;34m(self, X, y, sample_weight, check_input, X_idx_sorted)\u001b[0m\n\u001b[1;32m   1027\u001b[0m             \u001b[0msample_weight\u001b[0m\u001b[1;33m=\u001b[0m\u001b[0msample_weight\u001b[0m\u001b[1;33m,\u001b[0m\u001b[1;33m\u001b[0m\u001b[0m\n\u001b[1;32m   1028\u001b[0m             \u001b[0mcheck_input\u001b[0m\u001b[1;33m=\u001b[0m\u001b[0mcheck_input\u001b[0m\u001b[1;33m,\u001b[0m\u001b[1;33m\u001b[0m\u001b[0m\n\u001b[0;32m-> 1029\u001b[0;31m             X_idx_sorted=X_idx_sorted)\n\u001b[0m\u001b[1;32m   1030\u001b[0m         \u001b[1;32mreturn\u001b[0m \u001b[0mself\u001b[0m\u001b[1;33m\u001b[0m\u001b[0m\n\u001b[1;32m   1031\u001b[0m \u001b[1;33m\u001b[0m\u001b[0m\n",
      "\u001b[0;32mC:\\Users\\PC\\Anaconda3\\lib\\site-packages\\sklearn\\tree\\tree.py\u001b[0m in \u001b[0;36mfit\u001b[0;34m(self, X, y, sample_weight, check_input, X_idx_sorted)\u001b[0m\n\u001b[1;32m    348\u001b[0m                                            self.min_impurity_split)\n\u001b[1;32m    349\u001b[0m \u001b[1;33m\u001b[0m\u001b[0m\n\u001b[0;32m--> 350\u001b[0;31m         \u001b[0mbuilder\u001b[0m\u001b[1;33m.\u001b[0m\u001b[0mbuild\u001b[0m\u001b[1;33m(\u001b[0m\u001b[0mself\u001b[0m\u001b[1;33m.\u001b[0m\u001b[0mtree_\u001b[0m\u001b[1;33m,\u001b[0m \u001b[0mX\u001b[0m\u001b[1;33m,\u001b[0m \u001b[0my\u001b[0m\u001b[1;33m,\u001b[0m \u001b[0msample_weight\u001b[0m\u001b[1;33m,\u001b[0m \u001b[0mX_idx_sorted\u001b[0m\u001b[1;33m)\u001b[0m\u001b[1;33m\u001b[0m\u001b[0m\n\u001b[0m\u001b[1;32m    351\u001b[0m \u001b[1;33m\u001b[0m\u001b[0m\n\u001b[1;32m    352\u001b[0m         \u001b[1;32mif\u001b[0m \u001b[0mself\u001b[0m\u001b[1;33m.\u001b[0m\u001b[0mn_outputs_\u001b[0m \u001b[1;33m==\u001b[0m \u001b[1;36m1\u001b[0m\u001b[1;33m:\u001b[0m\u001b[1;33m\u001b[0m\u001b[0m\n",
      "\u001b[0;31mKeyboardInterrupt\u001b[0m: "
     ]
    }
   ],
   "source": [
    "grid_rf.fit(X_train2, y_train)"
   ]
  },
  {
   "cell_type": "markdown",
   "metadata": {},
   "source": [
    "To find out which set of parameters performed best, we can use the .best\\_pramas\\_ method"
   ]
  },
  {
   "cell_type": "code",
   "execution_count": null,
   "metadata": {
    "collapsed": true
   },
   "outputs": [],
   "source": [
    "grid_rf.best_params_"
   ]
  },
  {
   "cell_type": "markdown",
   "metadata": {},
   "source": [
    "Next, let's check out the variation in performance."
   ]
  },
  {
   "cell_type": "code",
   "execution_count": null,
   "metadata": {
    "collapsed": true
   },
   "outputs": [],
   "source": [
    "means = grid_rf.cv_results_['mean_test_score']\n",
    "stds = grid_rf.cv_results_['std_test_score']\n",
    "for mean, std, params in zip(means, stds, grid_rf.cv_results_['params']):\n",
    "    print(\"%0.3f (+/-%0.03f) for %r\"\n",
    "          % (mean, std * 2, params))"
   ]
  }
 ],
 "metadata": {
  "kernelspec": {
   "display_name": "Python 2",
   "language": "python",
   "name": "python2"
  },
  "language_info": {
   "codemirror_mode": {
    "name": "ipython",
    "version": 2
   },
   "file_extension": ".py",
   "mimetype": "text/x-python",
   "name": "python",
   "nbconvert_exporter": "python",
   "pygments_lexer": "ipython2",
<<<<<<< HEAD
   "version": "2.7.14"
=======
   "version": "2.7.11"
>>>>>>> master
  }
 },
 "nbformat": 4,
 "nbformat_minor": 2
}
