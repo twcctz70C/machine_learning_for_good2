{
 "cells": [
  {
   "cell_type": "markdown",
   "metadata": {},
   "source": [
    "# Lab 4.2: Random Forests\n",
    "\n",
    "Following on from Lab 4.1: Decision trees, the Random Forest algorithm is based on Decisions Trees and can be also used for either regression or classification tasks. To overcome Decisions Trees tendancy to overfit, one can aggregate the results from many decision trees with an [ensemble approach](http://scikit-learn.org/stable/modules/ensemble.html). \n",
    "\n",
    "In this lesson we will focus on Random Forests, which use bagging to prevent overfitting by only allowing a given decision tree to optimize for a random subset of the data for every tree, and a random subset of the input features at every split. (Don't worry if this does not make too much sense right now, we'll work through together  😀). \n",
    "\n",
    "Here's a look ahead at what we'll be doing in this notebook:\n",
    "\n",
    "1. [Import packages](#packages)\n",
    "2. [Load data](#loaddata)\n",
    "3. [Bagging](#bagging)\n",
    "4. [Build a Random Forest](#randomforest)\n",
    "5. [Tune parameters](#parameters)\n",
    "6. [Feature importance](#featureimportance)\n",
    "7. [Homework](#homework)\n",
    "\n",
    "\n",
    "A quick refresher on Bagging:\n",
    "- Grow multiple decisions trees from random subsets of the data\n",
    "- All features are considered at every split in the decision tree\n",
    "- The result is the average prediction of all trees\n",
    "\n",
    "A quick refresher on the Random Forest theory:\n",
    "- Random Forest is based on Decision Trees -> many trees = a forest!\n",
    "- Grows multiple trees on random subsets of the parent dataset\n",
    "- **At every split, a new random subset of features is chosen**\n",
    "- This leads to \"decorrelated\" trees which leads to a large increase in performance!\n",
    "\n",
    "Again, we will be looking at how we can predict the loan amount using the random forest algorithm. \n",
    "\n",
    "Here is a very [simple example](https://bicorner.com/2015/10/26/random-forest-using-ipython/) of how the RandomForestClassifier works: "
   ]
  },
  {
   "cell_type": "markdown",
   "metadata": {},
   "source": [
    "## 1. Import packages\n",
    "<a id='loaddata'></a>"
   ]
  },
  {
   "cell_type": "code",
   "execution_count": 2,
   "metadata": {
    "collapsed": true
   },
   "outputs": [],
   "source": [
    "import pandas as pd\n",
    "import numpy as np\n",
    "\n",
    "import seaborn as sns\n",
    "\n",
    "from sklearn.ensemble import RandomForestRegressor\n",
    "from sklearn.model_selection import train_test_split, cross_val_score, GridSearchCV\n",
    "from sklearn.metrics import mean_squared_error, r2_score\n",
    "\n",
    "%matplotlib inline"
   ]
  },
  {
   "cell_type": "markdown",
   "metadata": {},
   "source": [
    "## 2. Load and format data\n",
    "<a id='loaddata'></a>"
   ]
  },
  {
   "cell_type": "code",
   "execution_count": 3,
   "metadata": {
    "collapsed": true
   },
   "outputs": [],
   "source": [
    "# Load data to pandas DataFrame\n",
    "data_path = '../data/'\n",
    "df = pd.read_csv(data_path+'df_end_of_linear.csv', \n",
    "                 low_memory=False)"
   ]
  },
  {
   "cell_type": "code",
   "execution_count": 4,
   "metadata": {
    "collapsed": true
   },
   "outputs": [],
   "source": [
    "# TODO: Remove this part and incorporate it into feature engineering section.\n",
    "# potentially the feature engineering section should show how to do one hot encoding and this module\n",
    "# will reference one hot encoding and remove any cols that are strings to highligh that sklearn's implementation\n",
    "# cannot handle strings.\n",
    "df = df.dropna()\n",
    "cols = df[['loan_amount', \n",
    "           'partner_delinquency_rate',\n",
    "            'posted_year',\n",
    "           'posted_month',\n",
    "           'female',\n",
    "           'num_tags',\n",
    "           'parent',\n",
    "           'tag_#Woman Owned Biz',\n",
    "           'age_int',\n",
    "           'tag_#Repeat Borrower',\n",
    "           'children_int',\n",
    "          'more_one_partner_country',\n",
    "          'terms.repayment_term',\n",
    "           'tag_#Schooling',\n",
    "           'married',\n",
    "           'pct_female',\n",
    "           'exploratory_partner',\n",
    "           'partner_dollar_amount',\n",
    "           'top_partner_id',\n",
    "           'num_partner_countries',\n",
    "           'days_to_fund',\n",
    "            'hours_to_fund',\n",
    "            'bc_partner_others',\n",
    "           'bc_partner_HIHEA',\n",
    "           'bc_partner_OAF_high',\n",
    "           'bc_partner_OAF_low',\n",
    "         'sector_Personal Use',\n",
    "           'sector_Health',\n",
    "           'sector_Wholesale',\n",
    "           'sector_Agriculture',\n",
    "           'kids']]\n"
   ]
  },
  {
   "cell_type": "code",
   "execution_count": 5,
   "metadata": {
    "collapsed": true
   },
   "outputs": [],
   "source": [
    "y = df['loan_amount']\n",
    "# drop returns a copy of the DataFrame with the specified columns removed.  \n",
    "X = cols.drop('loan_amount', axis=1)"
   ]
  },
  {
   "cell_type": "code",
   "execution_count": 6,
   "metadata": {
    "collapsed": true
   },
   "outputs": [],
   "source": [
    "# Split data into training and testing sets;\n",
    "X_train, X_test, y_train, y_test = train_test_split(X, y, test_size=0.2, random_state=42)"
   ]
  },
  {
   "cell_type": "markdown",
   "metadata": {},
   "source": [
    "## 3. Bagging\n",
    "<a id='bagging'></a>\n",
    "\n",
    "Decision Trees alone naturally overfit to the data. Better performance is generally achieved when an **ensemble approach** such as Bagging is used.\n",
    "\n",
    "To start with Bagging is a shorter term for Bootstrapping Aggregation which is a general procedure to reduce variance in models that have a tendancy to overfit.\n",
    "\n",
    "This diagram below gives a visual overview of how bagging works in the context of a classifying algorithm.\n",
    "\n",
    "<img src=\"../images/bagging.png\" alt=\"bagging\" style=\"width: 500px;height=500\"/>\n",
    "\n",
    "As an ensemble method, bagging does the following:\n",
    "- Creates N random subsamples of the dataset using selection with replacement. (Statistically 1/3 of the data is left of each subsample)\n",
    "- Trains a new decision tree on each N subsample\n",
    "- Takes the prediction from each and every N tree and averages the result\n",
    "- This average is the final output of the bagging model. \n",
    "\n",
    "This **Ensemble approach** uses the results of several random analyses to find an average response.\n",
    "\n",
    "Furthermore, for each tree, there will be a sample of data which was not used to train the algorithm. This means that we can also measure the **out-of-bag** score ( or **oob_score**). This score evaluates the performance of the model on the sample not used while training an individual tree. (Remember a random ~1/3 of data are not used to train a given tree).\n"
   ]
  },
  {
   "cell_type": "markdown",
   "metadata": {},
   "source": [
    "## 4. Build a Random Forest\n",
    "<a id='randomforest'></a>\n",
    "\n",
    "Even with Bagging, the decision trees can be largely correlated. This is because given subsets from the same dataset, the trees are probably going to split on the same features and result in very similar predictions.\n",
    "\n",
    "To de-correlate the trees, we use a Random Forest Regressor, which at each split, only considers a random subsample of the features! This means that the trees are forced to make different split decisions and results in less correlated trees.\n",
    "\n",
    "**A Random Forest is essentially bagged decision trees where each decision tree only considers a random subset of the features at each split**"
   ]
  },
  {
   "cell_type": "code",
   "execution_count": 14,
   "metadata": {},
   "outputs": [
    {
     "name": "stdout",
     "output_type": "stream",
     "text": [
      "Number of features =  30\n"
     ]
    }
   ],
   "source": [
    "# Check how many columns our dataset has...\n",
    "print(f\"Number of features =  {X_train.shape[1]}\")\n",
    "num_features = X_train.shape[1]"
   ]
  },
  {
   "cell_type": "markdown",
   "metadata": {},
   "source": [
    "Recall the standard sklearn steps: \n",
    "- **Step 1: Initiate the algorithm** define the parameters (& hyperparameters of the algorithm) of the algorithm. For example, the maximum depth, the minimum samples in a leaf etc. To learn more about the parameters for each algorithm, either check the module documentation on the internet or run a cell with the algorithm name followed by ? as we did at the beginning of this notebook for the RandomForestRegressor. These resources will also tell you the default values used for each parameter. \n",
    "\n",
    "- **Step 2: Train the algorithm** train the algorithm by fitting it to the X_train and y_train datasets.\n",
    "\n",
    "- **Step 3: Evaluating the algorithm** evaluate the predictive power of the algorithm by comparing the predictive loan amount values to the true values. We can do this for the training and testing dataset.\n",
    "\n",
    "We'll use the same function we created in the previous lab to combine these into a single step with the additional option of printing the oob_score."
   ]
  },
  {
   "cell_type": "code",
   "execution_count": 15,
   "metadata": {
    "collapsed": true
   },
   "outputs": [],
   "source": [
    "def train_score_regressor(sklearn_regressor, X_train, y_train, X_test, y_test, model_parameters,print_oob_score=False):\n",
    "    '''\n",
    "    Purpose: \n",
    "        - train a regressor on training data\n",
    "        - score data on training and test data\n",
    "        - return trained model\n",
    "    '''\n",
    "    # Step 1: Initializing the sklearn regressor \n",
    "    regressor = sklearn_regressor(**model_parameters)\n",
    "    # Step 2: Training the algorithm using the X_train dataset of features and y_train, the associated target features\n",
    "    regressor.fit(X_train, y_train)\n",
    "    # Step 3: Calculating the score of the predictive power on the training and testing dataset.\n",
    "    training_score = regressor.score(X_train, y_train)\n",
    "    testing_score = regressor.score(X_test, y_test)\n",
    "    # Print the results\n",
    "    print(f\"Train score: {training_score:.4}\")\n",
    "    print(f\"Test score: {testing_score:.4}\")\n",
    "    if print_oob_score:\n",
    "        print(f\"OOB score: {regressor.oob_score_:.4}\")\n",
    "        \n",
    "    return regressor"
   ]
  },
  {
   "cell_type": "code",
   "execution_count": 18,
   "metadata": {},
   "outputs": [
    {
     "data": {
      "text/plain": [
       "30"
      ]
     },
     "execution_count": 18,
     "metadata": {},
     "output_type": "execute_result"
    }
   ],
   "source": [
    "num_features"
   ]
  },
  {
   "cell_type": "markdown",
   "metadata": {},
   "source": [
    "Using the Random Forest algorithm instead of a single Decision tree introduces some new paramters that can be used to tune the model. Three new and important parameters are:\n",
    "- n_estimaters = During the bagging, the number of subsamples to create and therefore the number of individual decision trees to train. \n",
    "- max_features = The maximum number of random features to consider at each split\n",
    "- oob_score = whether or not to calculate the oob_score (described in bagging above)\n",
    "\n",
    "To start we will randomly assign a value to these parameters and see how the model performs."
   ]
  },
  {
   "cell_type": "code",
   "execution_count": 19,
   "metadata": {},
   "outputs": [
    {
     "name": "stdout",
     "output_type": "stream",
     "text": [
      "Train score: 0.9547\n",
      "Test score: 0.6214\n",
      "OOB score: 0.6756\n"
     ]
    }
   ],
   "source": [
    "# define the parameters\n",
    "parameters = {\"oob_score\":True, \"n_estimators\": 50, \n",
    "              \"max_features\": 10, 'random_state':42}\n",
    "\n",
    "trained_regressor = train_score_regressor(sklearn_regressor=RandomForestRegressor,\n",
    "                                          X_train=X_train, y_train=y_train, \n",
    "                                          X_test=X_test, y_test=y_test, \n",
    "                                          model_parameters=parameters,\n",
    "                                          print_oob_score=True)"
   ]
  },
  {
   "cell_type": "markdown",
   "metadata": {},
   "source": [
    "Now we have access to the oob_score, we should looking at three main outputs:\n",
    "- Train score = R^2 between the predicte and true values for the training dataset\n",
    "- Test score = R^2 between the predicted and true values for the test dataset\n",
    "- Oob_score = R^2 between the predicted and true valuespredicted values for data not used whilst training an individual tree\n",
    "\n",
    "Again the R^2 number above is pretty telling but it is always nice to visualise how these look in a scattor plot. This allows us to visualise the variation between the predicted loan amount and the true loan amount values. "
   ]
  },
  {
   "cell_type": "code",
   "execution_count": 20,
   "metadata": {
    "collapsed": true
   },
   "outputs": [],
   "source": [
    "# plotting a graph of the true values vs the predicted values for the training and test datasets\n",
    "def plot_y_yhat_scatter(y_actual,y_predicted,train_test):\n",
    "    ax = sns.regplot(x=y_actual, y=y_predicted, fit_reg=False)\n",
    "    ax.set_xlabel('true values')\n",
    "    ax.set_ylabel('predicted values')\n",
    "    ax.set_title('Relationship between true and predicted loan amounts: '+train_test+' results')\n",
    "    pass"
   ]
  },
  {
   "cell_type": "code",
   "execution_count": 21,
   "metadata": {},
   "outputs": [
    {
     "data": {
      "image/png": "[encoded data removed]",
      "text/plain": [
       "<matplotlib.figure.Figure at 0x7ffb8ae2e6a0>"
      ]
     },
     "metadata": {},
     "output_type": "display_data"
    }
   ],
   "source": [
    "plot_y_yhat_scatter(y_train, trained_regressor.predict(X_train),train_test=\"training\")"
   ]
  },
  {
   "cell_type": "code",
   "execution_count": 22,
   "metadata": {},
   "outputs": [
    {
     "data": {
      "image/png": "[encoded data removed]",
      "text/plain": [
       "<matplotlib.figure.Figure at 0x7ffb8ae25a58>"
      ]
     },
     "metadata": {},
     "output_type": "display_data"
    }
   ],
   "source": [
    "plot_y_yhat_scatter(y_test, trained_regressor.predict(X_test),train_test=\"testing\")"
   ]
  },
  {
   "cell_type": "markdown",
   "metadata": {},
   "source": [
    "## 5. Tune Parameters\n",
    "<a id='parameters'></a>\n",
    "\n",
    "Again, how do we know the best combination of hyperparameters? \n",
    "\n",
    "**Cross validated Grid Search!**\n",
    "\n",
    "We'll just search over a small range here to save time but usually we would search over a bigger range of hyperparameters. "
   ]
  },
  {
   "cell_type": "code",
   "execution_count": 23,
   "metadata": {},
   "outputs": [
    {
     "data": {
      "text/plain": [
       "GridSearchCV(cv=None, error_score='raise',\n",
       "       estimator=RandomForestRegressor(bootstrap=True, criterion='mse', max_depth=None,\n",
       "           max_features='auto', max_leaf_nodes=None,\n",
       "           min_impurity_decrease=0.0, min_impurity_split=None,\n",
       "           min_samples_leaf=1, min_samples_split=2,\n",
       "           min_weight_fraction_leaf=0.0, n_estimators=10, n_jobs=-1,\n",
       "           oob_score=False, random_state=42, verbose=0, warm_start=False),\n",
       "       fit_params=None, iid=True, n_jobs=1,\n",
       "       param_grid={'max_depth': [7, 10, 15], 'max_features': ['sqrt', 10, 15], 'n_estimators': [300, 400, 450]},\n",
       "       pre_dispatch='2*n_jobs', refit=True, return_train_score='warn',\n",
       "       scoring=None, verbose=0)"
      ]
     },
     "execution_count": 23,
     "metadata": {},
     "output_type": "execute_result"
    }
   ],
   "source": [
    "# define parameters\n",
    "parameters = {'max_depth':[7,10,15], \n",
    "              'max_features': ['sqrt', 10, 15],\n",
    "              'n_estimators': [300,400, 450]}\n",
    "# initialize model\n",
    "rf_regressor= RandomForestRegressor(n_jobs=-1, random_state=42)\n",
    "# initialize grid search and fit\n",
    "regressor = GridSearchCV(rf_regressor, parameters)\n",
    "regressor.fit(X_train, y_train)"
   ]
  },
  {
   "cell_type": "code",
   "execution_count": 24,
   "metadata": {},
   "outputs": [
    {
     "data": {
      "text/plain": [
       "{'bootstrap': True,\n",
       " 'criterion': 'mse',\n",
       " 'max_depth': 15,\n",
       " 'max_features': 15,\n",
       " 'max_leaf_nodes': None,\n",
       " 'min_impurity_decrease': 0.0,\n",
       " 'min_impurity_split': None,\n",
       " 'min_samples_leaf': 1,\n",
       " 'min_samples_split': 2,\n",
       " 'min_weight_fraction_leaf': 0.0,\n",
       " 'n_estimators': 450,\n",
       " 'n_jobs': -1,\n",
       " 'oob_score': False,\n",
       " 'random_state': 42,\n",
       " 'verbose': 0,\n",
       " 'warm_start': False}"
      ]
     },
     "execution_count": 24,
     "metadata": {},
     "output_type": "execute_result"
    }
   ],
   "source": [
    "# print out what GridSearchCV found to be the best parameters \n",
    "regressor.best_estimator_.get_params()"
   ]
  },
  {
   "cell_type": "code",
   "execution_count": 25,
   "metadata": {},
   "outputs": [
    {
     "name": "stdout",
     "output_type": "stream",
     "text": [
      "Train score: 0.8924\n",
      "Test score: 0.6286\n",
      "OOB score: 0.6976\n"
     ]
    }
   ],
   "source": [
    "# get best parameters from grid search\n",
    "parameters = regressor.best_estimator_.get_params()\n",
    "# set the oob_score to True. This defaulted to False in the gridsearchCV to save time\n",
    "parameters['oob_score'] = True\n",
    "# train and evaluate our model\n",
    "trained_regressor = train_score_regressor(sklearn_regressor=RandomForestRegressor,\n",
    "                                          X_train=X_train, y_train=y_train, \n",
    "                                          X_test=X_test, y_test=y_test, \n",
    "                                          model_parameters=parameters,\n",
    "                                          print_oob_score=True)\n"
   ]
  },
  {
   "cell_type": "markdown",
   "metadata": {},
   "source": [
    "The best R^2 achieved with the Decision Tree algorithm alone in Lab 4.1 gave us a train and test score of 0.69 and 0.57 respectively, whereas with the Random Forest Algorithm, they have increased to 0.89 and 0.63 respectively. \n",
    "\n",
    "**We have see that there has been a vast improvement using the Random Forest over the Decision Tree algorithm!**"
   ]
  },
  {
   "cell_type": "code",
   "execution_count": 26,
   "metadata": {},
   "outputs": [
    {
     "data": {
      "image/png": "[encoded data removed]",
      "text/plain": [
       "<matplotlib.figure.Figure at 0x7ffb8ae0d5c0>"
      ]
     },
     "metadata": {},
     "output_type": "display_data"
    }
   ],
   "source": [
    "plot_y_yhat_scatter(y_train, trained_regressor.predict(X_train),train_test=\"training\")"
   ]
  },
  {
   "cell_type": "code",
   "execution_count": 27,
   "metadata": {},
   "outputs": [
    {
     "data": {
      "image/png": "[encoded data removed]",
      "text/plain": [
       "<matplotlib.figure.Figure at 0x7ffb8b1ecf60>"
      ]
     },
     "metadata": {},
     "output_type": "display_data"
    }
   ],
   "source": [
    "plot_y_yhat_scatter(y_test, trained_regressor.predict(X_test),train_test=\"testing\")"
   ]
  },
  {
   "cell_type": "markdown",
   "metadata": {},
   "source": [
    "## 6. Feature Importance\n",
    "<a id='featureimportance'></a>\n",
    "\n",
    "We can look at which features are driving our model's predictions by examining the feature importance. \n",
    "\n",
    "Remember the important but counter-intuitive thing to note here is that the magnitude of the 'importance' is not indicative of how important the feature is, only the order matters!\n",
    "\n",
    "For example,\n",
    "- feature A has an importance of 0.5 \n",
    "- feature B has an importance of 0.25. \n",
    "\n",
    "Then all we can take away is that feature A is more explains more variance then feautre B, **not** that feature A explains twice as much as feature B. "
   ]
  },
  {
   "cell_type": "code",
   "execution_count": 28,
   "metadata": {},
   "outputs": [
    {
     "name": "stdout",
     "output_type": "stream",
     "text": [
      "Feature Ranking:\n",
      "1. feature bc_partner_OAF_high (0.266431)\n",
      "2. feature partner_dollar_amount (0.124809)\n",
      "3. feature terms.repayment_term (0.119831)\n",
      "4. feature days_to_fund (0.099371)\n",
      "5. feature posted_month (0.047271)\n",
      "6. feature hours_to_fund (0.037929)\n",
      "7. feature age_int (0.035423)\n",
      "8. feature posted_year (0.033082)\n",
      "9. feature partner_delinquency_rate (0.031849)\n",
      "10. feature num_partner_countries (0.023086)\n",
      "11. feature bc_partner_OAF_low (0.021833)\n",
      "12. feature top_partner_id (0.020694)\n",
      "13. feature children_int (0.020676)\n",
      "14. feature more_one_partner_country (0.017628)\n",
      "15. feature num_tags (0.014239)\n",
      "16. feature exploratory_partner (0.013732)\n",
      "17. feature bc_partner_HIHEA (0.013334)\n",
      "18. feature pct_female (0.010313)\n",
      "19. feature sector_Agriculture (0.009091)\n",
      "20. feature married (0.006125)\n",
      "21. feature tag_#Repeat Borrower (0.006061)\n",
      "22. feature bc_partner_others (0.005414)\n",
      "23. feature tag_#Schooling (0.004242)\n",
      "24. feature female (0.004134)\n",
      "25. feature sector_Personal Use (0.003171)\n",
      "26. feature tag_#Woman Owned Biz (0.003124)\n",
      "27. feature kids (0.002985)\n",
      "28. feature parent (0.002835)\n",
      "29. feature sector_Health (0.000880)\n",
      "30. feature sector_Wholesale (0.000405)\n"
     ]
    }
   ],
   "source": [
    "# Get the feature importances from our final trained model...\n",
    "importances = trained_regressor.feature_importances_\n",
    "\n",
    "# Find the indices of the feature importances in descending order\n",
    "indices = np.argsort(importances)[::-1]\n",
    "\n",
    "# Print the important features in descending order\n",
    "print('Feature Ranking:')\n",
    "for f in range(len(importances)):\n",
    "    print(\"%d. feature %s (%f)\" % (f + 1, X_train.columns[indices[f]], importances[indices[f]]))"
   ]
  },
  {
   "cell_type": "markdown",
   "metadata": {},
   "source": [
    "Again, what is interesting here is that there is not a very clear relationship between any single feature and the loan_amount. The most important feature borrower count for One Acre Fund during their high loan period - this is very specific to just a small subset of the data. \n",
    "\n",
    "However the aggregate of these features together into the decision leads to effective predictions (R^2 ~ 0.63). This is a testament to the predictive power of Random Forests!"
   ]
  },
  {
   "cell_type": "markdown",
   "metadata": {},
   "source": [
    "## 7. Homework\n",
    "<a id='homework'></a>"
   ]
  },
  {
   "cell_type": "markdown",
   "metadata": {},
   "source": [
    "### Predicting Days to Fund\n",
    "- Repeat the DecisionTreeRegressor method with a new target feature: days_to_fund.\n",
    "- Use GridSearch to tune the parameters. \n",
    "- Determine the most important features and discuss which features are intuitive or a surprise and why. "
   ]
  },
  {
   "cell_type": "code",
   "execution_count": 17,
   "metadata": {
    "collapsed": true
   },
   "outputs": [],
   "source": [
    "y = df['days_to_fund']\n",
    "# drop returns a copy of the DataFrame with the specified columns removed.  \n",
    "X = cols.drop('days_to_fund', axis=1)"
   ]
  },
  {
   "cell_type": "code",
   "execution_count": 18,
   "metadata": {
    "collapsed": true
   },
   "outputs": [],
   "source": [
    "# Create X_train, y_train, X_test and y_test where the y value is the days_to_fund feature. \n",
    "# Try using test_train_split function imported from sklearn"
   ]
  },
  {
   "cell_type": "markdown",
   "metadata": {},
   "source": [
    "Remember the three basic steps:\n",
    "- step 1: Initiate the algorithm\n",
    "- step 2: Fit the algorithm to the training data\n",
    "- step 3: Evaluate the algorithm performance"
   ]
  },
  {
   "cell_type": "code",
   "execution_count": 20,
   "metadata": {
    "collapsed": true
   },
   "outputs": [],
   "source": [
    "# Use the DecisionTreeRegressor method to predict the days_to_fund\n",
    "# GridSearchCV to tune parameters\n",
    "# Use the model attribute important_features_ to examine the feature importance. "
   ]
  },
  {
   "cell_type": "code",
   "execution_count": null,
   "metadata": {
    "collapsed": true
   },
   "outputs": [],
   "source": []
  }
 ],
 "metadata": {
  "kernelspec": {
   "display_name": "Python 3",
   "language": "python",
   "name": "python3"
  },
  "language_info": {
   "codemirror_mode": {
    "name": "ipython",
    "version": 3
   },
   "file_extension": ".py",
   "mimetype": "text/x-python",
   "name": "python",
   "nbconvert_exporter": "python",
   "pygments_lexer": "ipython3",
   "version": "3.6.0"
  }
 },
 "nbformat": 4,
 "nbformat_minor": 2
}
