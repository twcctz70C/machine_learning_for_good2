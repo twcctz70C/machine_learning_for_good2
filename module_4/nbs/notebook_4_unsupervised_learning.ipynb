{
 "cells": [
  {
   "cell_type": "markdown",
   "metadata": {},
   "source": [
    "# Lab 4: Unsupervised Learning"
   ]
  },
  {
   "cell_type": "markdown",
   "metadata": {},
   "source": [
    "# Overview"
   ]
  },
  {
   "cell_type": "markdown",
   "metadata": {},
   "source": [
    "In Lab 2, we learned how to use linear regression to study whether certain features are significant in explaining and predicting an observed outcome. In Lab 3, we applied ensemble methods to refine our predictions. \n",
    "\n",
    "In this notebook, we shift the focus from prediction to exploration. The reality is that most available data in the world is unlabelled and needs to be understood before we can form a testable hypothesis and before it is suitable for predictive analyses.\n",
    "\n",
    "That's where unsupervised learning comes in! Unsupervised learning methods are a set of techniques designed to <i>explore</i> the data rather than predict outcomes. There are many unsupervised learning methods (that you can learn more about how to use in Python <a href=\"http://scikit-learn.org/stable/unsupervised_learning.html\">here</a>), but the most commonly-used method is cluster analysis (with greater theoretical detail described <a href=\"https://www-users.cs.umn.edu/~kumar/dmbook/ch8.pdf\">here</a>). \n",
    "\n",
    "Here's a look ahead at what we'll be doing in this notebook:\n",
    "\n",
    "1. Load data and packages\n",
    "2. Run k-means algorithm to create clusters\n",
    "3. Validate our assumptions\n",
    "4. Evaluate our results"
   ]
  },
  {
   "cell_type": "markdown",
   "metadata": {},
   "source": [
    "# What is Cluster Analysis?"
   ]
  },
  {
   "cell_type": "markdown",
   "metadata": {},
   "source": [
    "Conducting cluster analysis is what it sounds like: partitioning your data into sub-groups (<b>clusters</b>) based on similar characteristics and then analyzing these clusters of similar observations. Clustering is an intuitive and visual way to understand the various <b>sub-groups</b> or <b>segments</b> that make up the population of your data.\n",
    "\n",
    "There are numerous established clustering methods, including \n",
    "\n",
    "1. Hierarchial clustering\n",
    "2. K-means clustering\n",
    "3. Expectation-maximization clustering\n",
    "\n",
    "...and much more! The difference across various methods lies in <i>how</i> clusters are formed. For example, clusters can be computed based on links/relationships (<i>e.g.</i>, hierarchial clustering) or based on distances between observations (that proxy for dis/similarities, <i>e.g.</i>, k-means clustering).\n",
    "\n",
    "In this lab, we'll walk through a few examples of how to use K-means clustering to <b>partition</b> or <b>segment</b> the Kiva data into clusters."
   ]
  },
  {
   "cell_type": "markdown",
   "metadata": {},
   "source": [
    "# Step 1: Import and Merge Data"
   ]
  },
  {
   "cell_type": "markdown",
   "metadata": {},
   "source": [
    "As you've seen in the previous notebooks, we'll start by importing the relevant data and packages:"
   ]
  },
  {
   "cell_type": "code",
   "execution_count": 32,
   "metadata": {
    "collapsed": false
   },
   "outputs": [],
   "source": [
    "## Import packages\n",
    "import pandas as pd\n",
    "import numpy as np\n",
    "\n",
    "## Import packages for K-Means clustering\n",
    "from sklearn.cluster import KMeans\n",
    "from sklearn.decomposition import PCA\n",
    "\n",
    "## Import packages for plotting the clusters\n",
    "import matplotlib.pyplot as plt\n",
    "from matplotlib import style\n",
    "\n",
    "## Import the raw Kiva data\n",
    "data_path = '~/Desktop/Delta Analytics/Intro to ML/Kiva Data/'\n",
    "loans_full = pd.read_csv(data_path + \"loans_full.csv\", index_col = 0, low_memory = False)\n",
    "loans_details = pd.read_csv(data_path + \"loans_details.csv\", index_col = 0, low_memory = False)\n",
    "\n",
    "## Merge the Kiva data \n",
    "additional_columns = loans_full.columns.difference(loans_details.columns).tolist() + ['id']\n",
    "df = loans_details.merge(loans_full[['id', 'borrower_count']], left_on='id', right_on='id')"
   ]
  },
  {
   "cell_type": "markdown",
   "metadata": {},
   "source": [
    "# Step 2: Partitioning Your Data in Clusters"
   ]
  },
  {
   "cell_type": "markdown",
   "metadata": {},
   "source": [
    "Now that we have our data set up, we can begin partitioning our data into smaller clusters based on a few features. For example, we can partition our data by groups of borrowers or by groups of lenders. Let's think about a few relevant features.\n",
    "\n",
    "As a potential borrower or lender, what would be interesting to learn about types of borrowers or lenders? In the previous notebooks, we explored a number of interesting ideas, including how much a borrower should ask to borrow and the time it takes to fund a loan. So if we partition borrowers into distinct groups based on, for example, how many lenders they attract, will we be able to learn anything about their success in attracting funding?"
   ]
  },
  {
   "cell_type": "code",
   "execution_count": 33,
   "metadata": {
    "collapsed": false
   },
   "outputs": [],
   "source": [
    "## Select a few numeric columns that may be relevant to cluster by\n",
    "nums = df[['funded_amount', 'lender_count', 'loan_amount', 'terms.repayment_term', 'borrower_count']]\n",
    "X = np.array(nums)"
   ]
  },
  {
   "cell_type": "markdown",
   "metadata": {
    "collapsed": true
   },
   "source": [
    "<b>You now have a few features to consider clustering observations by. So how does clustering work?</b>\n",
    "\n",
    "Mechanically, clusters based on K-means clustering are formed in the following process:\n",
    "\n",
    "1. Observations are <i>randomly assigned</i> to a cluster\n",
    "2. The center point of these <i>random</i> groups is determined\n",
    "3. Observations are reassigned to a cluster where the center is closest to them\n",
    "4. Observations are reassigned to a cluster where the center is closest to them\n",
    "5. Observations are reassigned to a cluster where the center is closest to them\n",
    "6. Observations are reassigned to a cluster where the center is closest to them\n",
    "7. [...]\n",
    "8. The process repeats until no observations shuffle around anymore, and each observation is assigned to exactly one cluster\n",
    "\n",
    "In other words, until the distance beween an observation and their closest center point is minimized, observations are constantly being reassigned to clusters. Luckily, the <b>sklearn</b> K-means package is simple to use and does the computational heavy-lifting for you:"
   ]
  },
  {
   "cell_type": "code",
   "execution_count": 34,
   "metadata": {
    "collapsed": false
   },
   "outputs": [
    {
     "data": {
      "image/png": "[encoded data removed]",
      "text/plain": [
       "<matplotlib.figure.Figure at 0x1e436123128>"
      ]
     },
     "metadata": {},
     "output_type": "display_data"
    }
   ],
   "source": [
    "## Fit K-Means for the selected variables: \n",
    "## funded_amount, lender_count, loan_amount, terms.repayment_term, borrower_count\n",
    "kmeans = KMeans(n_clusters = 3)\n",
    "kmeans.fit(X)\n",
    "centroid = kmeans.cluster_centers_\n",
    "labels = kmeans.labels_\n",
    "colors = [\"g.\",\"r.\",\"c.\"]\n",
    "\n",
    "## Plot funded amount, lender count\n",
    "for i in range(1):\n",
    "    plt.plot(X[i][2],X[i][1],colors[labels[i]],markersize=10)\n",
    "    plt.scatter(centroid[:,0],centroid[:,1], marker = \"x\", s=150, linewidths = 5, zorder =10)\n",
    "    plt.show()"
   ]
  },
  {
   "cell_type": "markdown",
   "metadata": {},
   "source": [
    "# Step 3: Cluster Evaluation"
   ]
  },
  {
   "cell_type": "markdown",
   "metadata": {},
   "source": [
    "Let's break down step by step what the above chunk of code is actually doing and assess some of the factors worth considering as you form a cluster analysis."
   ]
  },
  {
   "cell_type": "markdown",
   "metadata": {},
   "source": [
    "# Determining k"
   ]
  },
  {
   "cell_type": "code",
   "execution_count": 35,
   "metadata": {
    "collapsed": false
   },
   "outputs": [],
   "source": [
    "## Define the number of clusters you want\n",
    "kmeans = KMeans(n_clusters=3)"
   ]
  },
  {
   "cell_type": "markdown",
   "metadata": {},
   "source": [
    "While this line of code is syntactically simple (set the number of clusters to 3), <b>determining the appropriate number of clusters (k) is actually one of the most challenging aspects of cluster analysis.</b> There are many sophisticated statistical methods proposed to determine k (for example, <a href=\"http://cs.fit.edu/~pkc/papers/ictai04salvador.pdf\">the elbow method</a>, the silhouette method, information criterion approach, cross validation, among others).\n",
    "\n",
    "But there is no hard and fast rule that the unsupervised learning community agrees on to determine k. This is largely driven by the fact that the desired number of clusters will always vary depending on your data and what you are trying to assess.\n",
    "\n",
    "<b>Is it possible to have too many clusters?</b>\n",
    "\n",
    "While it may be attractive to take a granular approach and partition your observations in many sub-groups, having too many clusters may defeat the value in clustering as a mechanism to understand natural patterns in groups; consider the extreme example of treating each data point as its own cluster. That would tell you nothing new!\n",
    "\n",
    "<b>So how do I validate the appropriate number of clusters?</b>\n",
    "\n",
    "The <b>elbow method</b> mentioned above is a simple, intuitive check. What the elbow method does is this:\n",
    "\n",
    "1. Run the k-means algorithm over your dataset for a range of values (<i>e.g.,</i> let k be between 1 and 10 inclusive)\n",
    "2. For each value of k, calculate the sum of squared errors (see Lab 2 for a refresher)\n",
    "\n",
    "Check out a Python implementation of the elbow method on the Kiva data below:"
   ]
  },
  {
   "cell_type": "code",
   "execution_count": 36,
   "metadata": {
    "collapsed": true
   },
   "outputs": [],
   "source": [
    "## Elbow method code here\n",
    "\n",
    "## Plot of elbow method results here"
   ]
  },
  {
   "cell_type": "markdown",
   "metadata": {},
   "source": [
    "The elbow method is a reasonable check to perform when the data is reasonably clustered to begin with. But it's possible that your data may not be very clustered. For example, if we see a smooth curve rather than a clear elbow in the plot above, then it's not very clear what the optimal value of k is. Another method, such as <b>the silhouette method</b>, may be more appropriate. <i>On that note, understand that not all data is suitable for cluster analysis. </i>\n",
    "\n",
    "In this specific case, we have some idea of what a reasonable value of k is based on the elbow method, so let's proceed. To actually run the K-means algorithm using the sklearn package in Python, all you need to do is this:"
   ]
  },
  {
   "cell_type": "code",
   "execution_count": 28,
   "metadata": {
    "collapsed": true
   },
   "outputs": [],
   "source": [
    "## Fitting the data\n",
    "## Recall that X is defined above as an array of features\n",
    "kmeans.fit(X)\n",
    "\n",
    "## Set the initial, random center points\n",
    "centroid = kmeans.cluster_centers_"
   ]
  },
  {
   "cell_type": "markdown",
   "metadata": {},
   "source": [
    "Let's re-evaluate the plot and understand what we can glean from it."
   ]
  },
  {
   "cell_type": "code",
   "execution_count": 29,
   "metadata": {
    "collapsed": false
   },
   "outputs": [
    {
     "data": {
      "image/png": "[encoded data removed]",
      "text/plain": [
       "<matplotlib.figure.Figure at 0x1e4368d4a58>"
      ]
     },
     "metadata": {},
     "output_type": "display_data"
    }
   ],
   "source": [
    "## Plot funded amount, lender count\n",
    "for i in range(1):\n",
    "    plt.plot(X[i][2],X[i][1],colors[labels[i]],markersize=10)\n",
    "    plt.scatter(centroid[:,0],centroid[:,1], marker = \"x\", s=150, linewidths = 5, zorder =10)\n",
    "    plt.show()"
   ]
  },
  {
   "cell_type": "markdown",
   "metadata": {},
   "source": [
    "When we define three cluster groups, we can see that there [WIP]"
   ]
  },
  {
   "cell_type": "code",
   "execution_count": 49,
   "metadata": {
    "collapsed": true
   },
   "outputs": [],
   "source": [
    "## Placeholder - summary stats/plots of cluster-groups"
   ]
  },
  {
   "cell_type": "markdown",
   "metadata": {},
   "source": [
    "# Step 4: Sanity Check Your Work"
   ]
  },
  {
   "cell_type": "markdown",
   "metadata": {
    "collapsed": true
   },
   "source": [
    "<b>Did we form meaningful clusters?</b>\n",
    "\n",
    "Effective clustering results in clusters where observations in the same cluster are very similar to each other. Relatedly, observations in different clusters should be different from each other.\n",
    "\n",
    "Statistically, this means we want as little within-cluster variation as possible. We can check that:"
   ]
  },
  {
   "cell_type": "code",
   "execution_count": 50,
   "metadata": {
    "collapsed": true
   },
   "outputs": [],
   "source": [
    "## Code here"
   ]
  },
  {
   "cell_type": "markdown",
   "metadata": {},
   "source": [
    "<b>Can we perform statistical tests on cluster analyses?</b>\n",
    "\n",
    "Remember that cluster analysis is done during the exploratory phase of your research project. That is, cluster analysis is meant to help you define your hypothesis, so applying the statistical tests you learned in Lab 2, such as paired t-tests and F-tests, wouldn't make much sense here since there is no hypothesis being tested. "
   ]
  },
  {
   "cell_type": "markdown",
   "metadata": {
    "collapsed": true
   },
   "source": [
    "# Your Turn: Challenge Questions"
   ]
  },
  {
   "cell_type": "markdown",
   "metadata": {},
   "source": [
    "1. How would you use cluster analysis to understand, cluster, and eventually predict fraudulent loans?"
   ]
  }
 ],
 "metadata": {
  "kernelspec": {
   "display_name": "Python 3",
   "language": "python",
   "name": "python3"
  },
  "language_info": {
   "codemirror_mode": {
    "name": "ipython",
    "version": 3
   },
   "file_extension": ".py",
   "mimetype": "text/x-python",
   "name": "python",
   "nbconvert_exporter": "python",
   "pygments_lexer": "ipython3",
   "version": "3.6.0"
  }
 },
 "nbformat": 4,
 "nbformat_minor": 2
}
