{
 "cells": [
  {
   "cell_type": "markdown",
   "metadata": {},
   "source": [
    "## landscape analysis (how many loans, distribution of loans by town, by sector, by type, by time of year, average time to repay a loan, breakdown of full funded, not funded, expired appeals for loans, breakdown by gender)"
   ]
  },
  {
   "cell_type": "markdown",
   "metadata": {},
   "source": [
    "## Cleaning & validating (identifying nulls, replacing with mean (or some other prior), understanding time frame covered by data)"
   ]
  },
  {
   "cell_type": "markdown",
   "metadata": {},
   "source": [
    "## choose a research question"
   ]
  },
  {
   "cell_type": "markdown",
   "metadata": {},
   "source": [
    "## try and answer it, exploring using box plots, visualization, difference in averages, explain your findings"
   ]
  },
  {
   "cell_type": "markdown",
   "metadata": {},
   "source": [
    "## end up with features and a target feature, indicate which is which."
   ]
  }
 ],
 "metadata": {
  "kernelspec": {
   "display_name": "Python 3",
   "language": "python",
   "name": "python3"
  },
  "language_info": {
   "codemirror_mode": {
    "name": "ipython",
    "version": 3
   },
   "file_extension": ".py",
   "mimetype": "text/x-python",
   "name": "python",
   "nbconvert_exporter": "python",
   "pygments_lexer": "ipython3",
   "version": "3.6.0"
  }
 },
 "nbformat": 4,
 "nbformat_minor": 2
}
