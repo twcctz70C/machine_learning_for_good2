{
 "cells": [
  {
   "cell_type": "markdown",
   "metadata": {},
   "source": [
    "# Are women asking for lower loan amounts?"
   ]
  },
  {
   "cell_type": "markdown",
   "metadata": {},
   "source": [
    "### Import packages"
   ]
  },
  {
   "cell_type": "markdown",
   "metadata": {},
   "source": [
    "At the beginning of our notebooks we always import all the libraries we will use."
   ]
  },
  {
   "cell_type": "code",
   "execution_count": 5,
   "metadata": {
    "collapsed": false,
    "scrolled": true
   },
   "outputs": [
    {
     "name": "stderr",
     "output_type": "stream",
     "text": [
      "/Users/Sara/anaconda/lib/python3.6/site-packages/IPython/core/interactiveshell.py:2881: FutureWarning: \n",
      "mpl_style had been deprecated and will be removed in a future version.\n",
      "Use `matplotlib.pyplot.style.use` instead.\n",
      "\n",
      "  exec(code_obj, self.user_global_ns, self.user_ns)\n"
     ]
    }
   ],
   "source": [
    "import pandas as pd\n",
    "import numpy as np\n",
    "from ggplot import *\n",
    "import matplotlib.pyplot as plt\n",
    "from datetime import datetime\n",
    "import dateutil.parser\n",
    "pd.options.display.mpl_style = 'default'\n",
    "\n",
    "# the matplotlib inline command is important, it tells jupyter notebook to show the output of the cell for charts\n",
    "%matplotlib inline"
   ]
  },
  {
   "cell_type": "markdown",
   "metadata": {},
   "source": [
    "You are using Jupyter notebook to run your code. it is an incredibly versatile tool and we can tailor the configurations to suit our preferences. For example, in the cell below we tell Jupyter to output the results of all commands in a cell (the default is only to output the results of the last command). For more interesting and incredibly useful Jupyter tricks take a look at [this](https://www.dataquest.io/blog/jupyter-notebook-tips-tricks-shortcuts/) blog post. Using Jupyter shortcuts will help you work faster. Some valuable shortcuts have been put together in [this](http://www.math.umassd.edu/~ahausknecht/aohWebsiteSpring2017/examples/pythonExamples/downloads/docs/JuypterKeyboardShortcutsV1Sp2016.pdf) great pdf."
   ]
  },
  {
   "cell_type": "code",
   "execution_count": 6,
   "metadata": {
    "collapsed": true
   },
   "outputs": [],
   "source": [
    "# the command below means that the output of multiple commands in a cell will be output at once.\n",
    "\n",
    "from IPython.core.interactiveshell import InteractiveShell\n",
    "InteractiveShell.ast_node_interactivity = \"all\""
   ]
  },
  {
   "cell_type": "markdown",
   "metadata": {},
   "source": [
    "We use a pandas command to tailor how the data is presented in the command below. There are 76 columns in our final Kiva dataset. The default panda settings hide some of the columns. We make all columns visible by setting the display to 80."
   ]
  },
  {
   "cell_type": "code",
   "execution_count": 7,
   "metadata": {
    "collapsed": true
   },
   "outputs": [],
   "source": [
    "# the command below tells jupyter to display up to 80 columns, this keeps everything visible\n",
    "pd.set_option('display.max_columns', 80)\n",
    "pd.set_option('expand_frame_repr', True)"
   ]
  },
  {
   "cell_type": "markdown",
   "metadata": {},
   "source": [
    "## Import data"
   ]
  },
  {
   "cell_type": "code",
   "execution_count": 8,
   "metadata": {
    "collapsed": true
   },
   "outputs": [],
   "source": [
    "data_path = '~/intro_course_data_science_for_good/data'"
   ]
  },
  {
   "cell_type": "code",
   "execution_count": 9,
   "metadata": {
    "collapsed": false
   },
   "outputs": [],
   "source": [
    "df=pd.read_csv(data_path+'/df.csv', low_memory=False)"
   ]
  },
  {
   "cell_type": "markdown",
   "metadata": {},
   "source": [
    "In the cell below, we take a random sample of 3 rows to get a feel for the data."
   ]
  },
  {
   "cell_type": "code",
   "execution_count": 10,
   "metadata": {
    "collapsed": false
   },
   "outputs": [
    {
     "data": {
      "text/html": [
       "<div>\n",
       "<style>\n",
       "    .dataframe thead tr:only-child th {\n",
       "        text-align: right;\n",
       "    }\n",
       "\n",
       "    .dataframe thead th {\n",
       "        text-align: left;\n",
       "    }\n",
       "\n",
       "    .dataframe tbody tr th {\n",
       "        vertical-align: top;\n",
       "    }\n",
       "</style>\n",
       "<table border=\"1\" class=\"dataframe\">\n",
       "  <thead>\n",
       "    <tr style=\"text-align: right;\">\n",
       "      <th></th>\n",
       "      <th>Unnamed: 0</th>\n",
       "      <th>Unnamed: 0.1</th>\n",
       "      <th>Unnamed: 0.1.1</th>\n",
       "      <th>activity</th>\n",
       "      <th>basket_amount</th>\n",
       "      <th>bonus_credit_eligibility</th>\n",
       "      <th>borrowers</th>\n",
       "      <th>currency_exchange_loss_amount</th>\n",
       "      <th>description.languages</th>\n",
       "      <th>description.texts.en</th>\n",
       "      <th>description.texts.es</th>\n",
       "      <th>description.texts.fr</th>\n",
       "      <th>description.texts.ru</th>\n",
       "      <th>funded_amount</th>\n",
       "      <th>funded_date</th>\n",
       "      <th>id</th>\n",
       "      <th>image.id</th>\n",
       "      <th>image.template_id</th>\n",
       "      <th>journal_totals.bulkEntries</th>\n",
       "      <th>journal_totals.entries</th>\n",
       "      <th>lender_count</th>\n",
       "      <th>loan_amount</th>\n",
       "      <th>location.country</th>\n",
       "      <th>location.country_code</th>\n",
       "      <th>location.geo.level</th>\n",
       "      <th>location.geo.pairs</th>\n",
       "      <th>location.geo.type</th>\n",
       "      <th>location.town</th>\n",
       "      <th>name</th>\n",
       "      <th>partner_id</th>\n",
       "      <th>payments</th>\n",
       "      <th>planned_expiration_date</th>\n",
       "      <th>posted_date</th>\n",
       "      <th>sector</th>\n",
       "      <th>status</th>\n",
       "      <th>tags</th>\n",
       "      <th>terms.disbursal_amount</th>\n",
       "      <th>terms.disbursal_currency</th>\n",
       "      <th>terms.disbursal_date</th>\n",
       "      <th>terms.loan_amount</th>\n",
       "      <th>terms.local_payments</th>\n",
       "      <th>terms.loss_liability.currency_exchange</th>\n",
       "      <th>terms.loss_liability.currency_exchange_coverage_rate</th>\n",
       "      <th>terms.loss_liability.nonpayment</th>\n",
       "      <th>terms.repayment_interval</th>\n",
       "      <th>terms.repayment_term</th>\n",
       "      <th>terms.scheduled_payments</th>\n",
       "      <th>themes</th>\n",
       "      <th>translator.byline</th>\n",
       "      <th>translator.image</th>\n",
       "      <th>use</th>\n",
       "      <th>video.id</th>\n",
       "      <th>video.thumbnailImageId</th>\n",
       "      <th>video.title</th>\n",
       "      <th>video.youtubeId</th>\n",
       "      <th>borrower_count</th>\n",
       "      <th>partner_average_loan_size_percent_per_capita_income</th>\n",
       "      <th>partner_charges_fees_and_interest</th>\n",
       "      <th>partner_countries</th>\n",
       "      <th>partner_currency_exchange_loss_rate</th>\n",
       "      <th>partner_default_rate</th>\n",
       "      <th>partner_default_rate_note</th>\n",
       "      <th>partner_delinquency_rate</th>\n",
       "      <th>partner_delinquency_rate_note</th>\n",
       "      <th>partner_image.id</th>\n",
       "      <th>partner_image.template_id</th>\n",
       "      <th>partner_loans_at_risk_rate</th>\n",
       "      <th>partner_loans_posted</th>\n",
       "      <th>partner_name</th>\n",
       "      <th>partner_portfolio_yield</th>\n",
       "      <th>partner_portfolio_yield_note</th>\n",
       "      <th>partner_profitability</th>\n",
       "      <th>partner_rating</th>\n",
       "      <th>partner_social_performance_strengths</th>\n",
       "      <th>partner_start_date</th>\n",
       "      <th>partner_status</th>\n",
       "      <th>partner_total_amount_raised</th>\n",
       "      <th>partner_url</th>\n",
       "    </tr>\n",
       "  </thead>\n",
       "  <tbody>\n",
       "    <tr>\n",
       "      <th>116373</th>\n",
       "      <td>126015</td>\n",
       "      <td>126015</td>\n",
       "      <td>125957</td>\n",
       "      <td>Food Production/Sales</td>\n",
       "      <td>NaN</td>\n",
       "      <td>False</td>\n",
       "      <td>[{'first_name': 'Millicent', 'last_name': '', ...</td>\n",
       "      <td>NaN</td>\n",
       "      <td>['en']</td>\n",
       "      <td>Millicent A. is a 25-year old entrepreneur who...</td>\n",
       "      <td>NaN</td>\n",
       "      <td>NaN</td>\n",
       "      <td>NaN</td>\n",
       "      <td>600</td>\n",
       "      <td>2007-06-03T09:26:58Z</td>\n",
       "      <td>11123</td>\n",
       "      <td>39298</td>\n",
       "      <td>1</td>\n",
       "      <td>0</td>\n",
       "      <td>0</td>\n",
       "      <td>15</td>\n",
       "      <td>600</td>\n",
       "      <td>Kenya</td>\n",
       "      <td>KE</td>\n",
       "      <td>town</td>\n",
       "      <td>-0.1 34.75</td>\n",
       "      <td>point</td>\n",
       "      <td>Kisumu</td>\n",
       "      <td>Millicent</td>\n",
       "      <td>24.0</td>\n",
       "      <td>[]</td>\n",
       "      <td>NaN</td>\n",
       "      <td>2007-06-03T03:21:14Z</td>\n",
       "      <td>Food</td>\n",
       "      <td>funded</td>\n",
       "      <td>[]</td>\n",
       "      <td>600.0</td>\n",
       "      <td>USD</td>\n",
       "      <td>2007-06-17T09:26:58Z</td>\n",
       "      <td>600</td>\n",
       "      <td>[]</td>\n",
       "      <td>none</td>\n",
       "      <td>NaN</td>\n",
       "      <td>partner</td>\n",
       "      <td>NaN</td>\n",
       "      <td>14</td>\n",
       "      <td>[]</td>\n",
       "      <td>NaN</td>\n",
       "      <td>NaN</td>\n",
       "      <td>NaN</td>\n",
       "      <td>To increase the stock of bananas for her busin...</td>\n",
       "      <td>NaN</td>\n",
       "      <td>NaN</td>\n",
       "      <td>NaN</td>\n",
       "      <td>NaN</td>\n",
       "      <td>1</td>\n",
       "      <td>0.0</td>\n",
       "      <td>True</td>\n",
       "      <td>[{'iso_code': 'KE', 'region': 'Africa', 'name'...</td>\n",
       "      <td>0.000000</td>\n",
       "      <td>0.000000</td>\n",
       "      <td>NaN</td>\n",
       "      <td>0.000000</td>\n",
       "      <td>NaN</td>\n",
       "      <td>2081413.0</td>\n",
       "      <td>1.0</td>\n",
       "      <td>0.000000</td>\n",
       "      <td>913.0</td>\n",
       "      <td>K-Met Savings and Credit Cooperative Ltd</td>\n",
       "      <td>NaN</td>\n",
       "      <td>NaN</td>\n",
       "      <td>NaN</td>\n",
       "      <td>0.0</td>\n",
       "      <td>NaN</td>\n",
       "      <td>2006-11-14T17:44:51Z</td>\n",
       "      <td>closed</td>\n",
       "      <td>361650.0</td>\n",
       "      <td>http://www.kmet.co.ke</td>\n",
       "    </tr>\n",
       "    <tr>\n",
       "      <th>94580</th>\n",
       "      <td>104206</td>\n",
       "      <td>104206</td>\n",
       "      <td>104148</td>\n",
       "      <td>Retail</td>\n",
       "      <td>NaN</td>\n",
       "      <td>False</td>\n",
       "      <td>[{'first_name': 'Meoliole', 'last_name': '', '...</td>\n",
       "      <td>NaN</td>\n",
       "      <td>['en']</td>\n",
       "      <td>Meoliole is 37 years old, married to Naomi. Th...</td>\n",
       "      <td>NaN</td>\n",
       "      <td>NaN</td>\n",
       "      <td>NaN</td>\n",
       "      <td>600</td>\n",
       "      <td>2012-01-09T17:14:25Z</td>\n",
       "      <td>371666</td>\n",
       "      <td>944361</td>\n",
       "      <td>1</td>\n",
       "      <td>0</td>\n",
       "      <td>0</td>\n",
       "      <td>20</td>\n",
       "      <td>600</td>\n",
       "      <td>Kenya</td>\n",
       "      <td>KE</td>\n",
       "      <td>town</td>\n",
       "      <td>1 38</td>\n",
       "      <td>point</td>\n",
       "      <td>Oloitoktok</td>\n",
       "      <td>Meoliole</td>\n",
       "      <td>133.0</td>\n",
       "      <td>[]</td>\n",
       "      <td>NaN</td>\n",
       "      <td>2011-12-23T15:00:13Z</td>\n",
       "      <td>Retail</td>\n",
       "      <td>funded</td>\n",
       "      <td>[]</td>\n",
       "      <td>50000.0</td>\n",
       "      <td>KES</td>\n",
       "      <td>2011-12-05T08:00:00Z</td>\n",
       "      <td>600</td>\n",
       "      <td>[]</td>\n",
       "      <td>shared</td>\n",
       "      <td>0.2</td>\n",
       "      <td>lender</td>\n",
       "      <td>NaN</td>\n",
       "      <td>14</td>\n",
       "      <td>[]</td>\n",
       "      <td>NaN</td>\n",
       "      <td>Victoria Lazarova</td>\n",
       "      <td>1669010.0</td>\n",
       "      <td>To purchase stocks of hides and skin for sale.</td>\n",
       "      <td>NaN</td>\n",
       "      <td>NaN</td>\n",
       "      <td>NaN</td>\n",
       "      <td>NaN</td>\n",
       "      <td>1</td>\n",
       "      <td>34.9</td>\n",
       "      <td>True</td>\n",
       "      <td>[{'iso_code': 'KE', 'region': 'Africa', 'name'...</td>\n",
       "      <td>0.089354</td>\n",
       "      <td>3.652283</td>\n",
       "      <td>NaN</td>\n",
       "      <td>8.017062</td>\n",
       "      <td>NaN</td>\n",
       "      <td>1495190.0</td>\n",
       "      <td>1.0</td>\n",
       "      <td>16.058249</td>\n",
       "      <td>30794.0</td>\n",
       "      <td>VisionFund Kenya</td>\n",
       "      <td>36.0</td>\n",
       "      <td>NaN</td>\n",
       "      <td>-1.7</td>\n",
       "      <td>2.5</td>\n",
       "      <td>[{'id': 1, 'name': 'Anti-Poverty Focus', 'desc...</td>\n",
       "      <td>2009-05-29T11:35:11Z</td>\n",
       "      <td>active</td>\n",
       "      <td>11366975.0</td>\n",
       "      <td>http://www.visionfundkenya.co.ke/</td>\n",
       "    </tr>\n",
       "  </tbody>\n",
       "</table>\n",
       "</div>"
      ],
      "text/plain": [
       "        Unnamed: 0  Unnamed: 0.1  Unnamed: 0.1.1               activity  \\\n",
       "116373      126015        126015          125957  Food Production/Sales   \n",
       "94580       104206        104206          104148                 Retail   \n",
       "\n",
       "        basket_amount  bonus_credit_eligibility  \\\n",
       "116373            NaN                     False   \n",
       "94580             NaN                     False   \n",
       "\n",
       "                                                borrowers  \\\n",
       "116373  [{'first_name': 'Millicent', 'last_name': '', ...   \n",
       "94580   [{'first_name': 'Meoliole', 'last_name': '', '...   \n",
       "\n",
       "        currency_exchange_loss_amount description.languages  \\\n",
       "116373                            NaN                ['en']   \n",
       "94580                             NaN                ['en']   \n",
       "\n",
       "                                     description.texts.en  \\\n",
       "116373  Millicent A. is a 25-year old entrepreneur who...   \n",
       "94580   Meoliole is 37 years old, married to Naomi. Th...   \n",
       "\n",
       "       description.texts.es description.texts.fr description.texts.ru  \\\n",
       "116373                  NaN                  NaN                  NaN   \n",
       "94580                   NaN                  NaN                  NaN   \n",
       "\n",
       "        funded_amount           funded_date      id  image.id  \\\n",
       "116373            600  2007-06-03T09:26:58Z   11123     39298   \n",
       "94580             600  2012-01-09T17:14:25Z  371666    944361   \n",
       "\n",
       "        image.template_id  journal_totals.bulkEntries  journal_totals.entries  \\\n",
       "116373                  1                           0                       0   \n",
       "94580                   1                           0                       0   \n",
       "\n",
       "        lender_count  loan_amount location.country location.country_code  \\\n",
       "116373            15          600            Kenya                    KE   \n",
       "94580             20          600            Kenya                    KE   \n",
       "\n",
       "       location.geo.level location.geo.pairs location.geo.type location.town  \\\n",
       "116373               town         -0.1 34.75             point        Kisumu   \n",
       "94580                town               1 38             point    Oloitoktok   \n",
       "\n",
       "             name  partner_id payments planned_expiration_date  \\\n",
       "116373  Millicent        24.0       []                     NaN   \n",
       "94580    Meoliole       133.0       []                     NaN   \n",
       "\n",
       "                 posted_date  sector  status tags  terms.disbursal_amount  \\\n",
       "116373  2007-06-03T03:21:14Z    Food  funded   []                   600.0   \n",
       "94580   2011-12-23T15:00:13Z  Retail  funded   []                 50000.0   \n",
       "\n",
       "       terms.disbursal_currency  terms.disbursal_date  terms.loan_amount  \\\n",
       "116373                      USD  2007-06-17T09:26:58Z                600   \n",
       "94580                       KES  2011-12-05T08:00:00Z                600   \n",
       "\n",
       "       terms.local_payments terms.loss_liability.currency_exchange  \\\n",
       "116373                   []                                   none   \n",
       "94580                    []                                 shared   \n",
       "\n",
       "        terms.loss_liability.currency_exchange_coverage_rate  \\\n",
       "116373                                                NaN      \n",
       "94580                                                 0.2      \n",
       "\n",
       "       terms.loss_liability.nonpayment terms.repayment_interval  \\\n",
       "116373                         partner                      NaN   \n",
       "94580                           lender                      NaN   \n",
       "\n",
       "        terms.repayment_term terms.scheduled_payments themes  \\\n",
       "116373                    14                       []    NaN   \n",
       "94580                     14                       []    NaN   \n",
       "\n",
       "        translator.byline  translator.image  \\\n",
       "116373                NaN               NaN   \n",
       "94580   Victoria Lazarova         1669010.0   \n",
       "\n",
       "                                                      use  video.id  \\\n",
       "116373  To increase the stock of bananas for her busin...       NaN   \n",
       "94580      To purchase stocks of hides and skin for sale.       NaN   \n",
       "\n",
       "        video.thumbnailImageId video.title video.youtubeId  borrower_count  \\\n",
       "116373                     NaN         NaN             NaN               1   \n",
       "94580                      NaN         NaN             NaN               1   \n",
       "\n",
       "        partner_average_loan_size_percent_per_capita_income  \\\n",
       "116373                                                0.0     \n",
       "94580                                                34.9     \n",
       "\n",
       "        partner_charges_fees_and_interest  \\\n",
       "116373                               True   \n",
       "94580                                True   \n",
       "\n",
       "                                        partner_countries  \\\n",
       "116373  [{'iso_code': 'KE', 'region': 'Africa', 'name'...   \n",
       "94580   [{'iso_code': 'KE', 'region': 'Africa', 'name'...   \n",
       "\n",
       "        partner_currency_exchange_loss_rate  partner_default_rate  \\\n",
       "116373                             0.000000              0.000000   \n",
       "94580                              0.089354              3.652283   \n",
       "\n",
       "        partner_default_rate_note  partner_delinquency_rate  \\\n",
       "116373                        NaN                  0.000000   \n",
       "94580                         NaN                  8.017062   \n",
       "\n",
       "        partner_delinquency_rate_note  partner_image.id  \\\n",
       "116373                            NaN         2081413.0   \n",
       "94580                             NaN         1495190.0   \n",
       "\n",
       "        partner_image.template_id  partner_loans_at_risk_rate  \\\n",
       "116373                        1.0                    0.000000   \n",
       "94580                         1.0                   16.058249   \n",
       "\n",
       "        partner_loans_posted                              partner_name  \\\n",
       "116373                 913.0  K-Met Savings and Credit Cooperative Ltd   \n",
       "94580                30794.0                          VisionFund Kenya   \n",
       "\n",
       "        partner_portfolio_yield  partner_portfolio_yield_note  \\\n",
       "116373                      NaN                           NaN   \n",
       "94580                      36.0                           NaN   \n",
       "\n",
       "        partner_profitability partner_rating  \\\n",
       "116373                    NaN            0.0   \n",
       "94580                    -1.7            2.5   \n",
       "\n",
       "                     partner_social_performance_strengths  \\\n",
       "116373                                                NaN   \n",
       "94580   [{'id': 1, 'name': 'Anti-Poverty Focus', 'desc...   \n",
       "\n",
       "          partner_start_date partner_status  partner_total_amount_raised  \\\n",
       "116373  2006-11-14T17:44:51Z         closed                     361650.0   \n",
       "94580   2009-05-29T11:35:11Z         active                   11366975.0   \n",
       "\n",
       "                              partner_url  \n",
       "116373              http://www.kmet.co.ke  \n",
       "94580   http://www.visionfundkenya.co.ke/  "
      ]
     },
     "execution_count": 10,
     "metadata": {},
     "output_type": "execute_result"
    }
   ],
   "source": [
    "df.sample(2)"
   ]
  },
  {
   "cell_type": "markdown",
   "metadata": {},
   "source": [
    "Removing outliers turns out to have been very useful. In the boxplot above we can see that expired loans tend to be higher in amount than funded, meaning that asking for large amounts may make funding more difficult."
   ]
  },
  {
   "cell_type": "markdown",
   "metadata": {},
   "source": [
    "## Are women asking for lower loan amounts than men?"
   ]
  },
  {
   "cell_type": "markdown",
   "metadata": {},
   "source": [
    "In order to answer this question, we need to know what the gender of each borrower is. This field does not exist as a column in the data but does exist as a nested json field 'borrowers'. We extract the field in the code below to make a new field which is either Male or Female."
   ]
  },
  {
   "cell_type": "code",
   "execution_count": 11,
   "metadata": {
    "collapsed": false
   },
   "outputs": [],
   "source": [
    "df['gender']=np.where(df['borrowers'].apply(lambda x: x.split(\"gender': '\")[1][0]=='M'),\"Male\",(np.where(df['borrowers'].apply(lambda x: x.split(\"gender': '\")[1][0]=='F'),\"Female\",\"\")))"
   ]
  },
  {
   "cell_type": "markdown",
   "metadata": {},
   "source": [
    "Now we can do some exploratory analysis to understand the effect of gender on loan amount."
   ]
  },
  {
   "cell_type": "code",
   "execution_count": 12,
   "metadata": {
    "collapsed": false,
    "scrolled": true
   },
   "outputs": [
    {
     "data": {
      "text/plain": [
       "<matplotlib.axes._subplots.AxesSubplot at 0x1181dc550>"
      ]
     },
     "execution_count": 12,
     "metadata": {},
     "output_type": "execute_result"
    },
    {
     "data": {
      "image/png": "[encoded data removed]",
      "text/plain": [
       "<matplotlib.figure.Figure at 0x124223be0>"
      ]
     },
     "metadata": {},
     "output_type": "display_data"
    }
   ],
   "source": [
    "df[df['borrower_count'] == 1].groupby('gender')['loan_amount'].mean().plot(kind=\"bar\", title=\"Average Loan Amount By Gender\")"
   ]
  },
  {
   "cell_type": "code",
   "execution_count": 13,
   "metadata": {
    "collapsed": false
   },
   "outputs": [
    {
     "data": {
      "text/plain": [
       "gender\n",
       "Female    412.053819\n",
       "Male      490.876162\n",
       "Name: loan_amount, dtype: float64"
      ]
     },
     "execution_count": 13,
     "metadata": {},
     "output_type": "execute_result"
    }
   ],
   "source": [
    "df[df['borrower_count'] == 1].groupby('gender')['loan_amount'].mean()"
   ]
  },
  {
   "cell_type": "markdown",
   "metadata": {},
   "source": [
    "A more nuanced way to look at this is using a boxplot. Instead of only plotting the mean average it also plots the 25th, 50th and 75th percentile."
   ]
  },
  {
   "cell_type": "code",
   "execution_count": 14,
   "metadata": {
    "collapsed": false
   },
   "outputs": [
    {
     "data": {
      "text/plain": [
       "<matplotlib.axes._subplots.AxesSubplot at 0x119169518>"
      ]
     },
     "execution_count": 14,
     "metadata": {},
     "output_type": "execute_result"
    },
    {
     "data": {
      "image/png": "[encoded data removed]",
      "text/plain": [
       "<matplotlib.figure.Figure at 0x1190ef2e8>"
      ]
     },
     "metadata": {},
     "output_type": "display_data"
    }
   ],
   "source": [
    "df[(df['borrower_count'] == 1)].boxplot(column='loan_amount', by='gender', showfliers=False, figsize=(12,8))"
   ]
  },
  {
   "cell_type": "markdown",
   "metadata": {},
   "source": [
    "The chart above shows us some compelling results, suggesting that the distribution of loan amounts requested for mean and women is very different. It shows us at the 25th, 50th and 75th percentile the loan amount requested by women is lower."
   ]
  },
  {
   "cell_type": "markdown",
   "metadata": {},
   "source": [
    "The chart below shows that women tend to request more loans than men under 500 dollars whereas men request more loans than women at every value above that amount."
   ]
  },
  {
   "cell_type": "code",
   "execution_count": 15,
   "metadata": {
    "collapsed": false,
    "scrolled": true
   },
   "outputs": [
    {
     "data": {
      "image/png": "[encoded data removed]",
      "text/plain": [
       "<matplotlib.figure.Figure at 0x11919e860>"
      ]
     },
     "metadata": {},
     "output_type": "display_data"
    },
    {
     "data": {
      "text/plain": [
       "<ggplot: (-9223372036560019908)>"
      ]
     },
     "execution_count": 15,
     "metadata": {},
     "output_type": "execute_result"
    }
   ],
   "source": [
    "ggplot(df[(df['borrower_count'] == 1)], aes(x='loan_amount',colour='gender')) + geom_density() + xlim(0,2000)"
   ]
  },
  {
   "cell_type": "markdown",
   "metadata": {},
   "source": [
    "It could be that men are consistently asking for a higher loan amount because of the industry they are in. Let's take a look at gender distribution by industry."
   ]
  },
  {
   "cell_type": "code",
   "execution_count": 16,
   "metadata": {
    "collapsed": false
   },
   "outputs": [
    {
     "data": {
      "text/plain": [
       "<matplotlib.axes._subplots.AxesSubplot at 0x118f924e0>"
      ]
     },
     "execution_count": 16,
     "metadata": {},
     "output_type": "execute_result"
    },
    {
     "data": {
      "image/png": "[encoded data removed]",
      "text/plain": [
       "<matplotlib.figure.Figure at 0x117f1fe48>"
      ]
     },
     "metadata": {},
     "output_type": "display_data"
    }
   ],
   "source": [
    "df[(df['borrower_count'] == 1)].groupby(['sector','gender'])['loan_amount'].count().unstack().reset_index().plot(kind='bar', x='sector', title=\"Average Loan Amount in Dollars by Industry & Gender\",figsize=(12, 12))"
   ]
  },
  {
   "cell_type": "markdown",
   "metadata": {},
   "source": [
    "In the chart above we look at raw number of loans given to females and males, but it may be more useful to look at this in terms of %. In the chart below we can see that there are a higher % of male loans in wholesale, transportation, manufacturing, entertainment and construction. In all other categories the % of female loans is higher."
   ]
  },
  {
   "cell_type": "code",
   "execution_count": 17,
   "metadata": {
    "collapsed": false
   },
   "outputs": [
    {
     "data": {
      "text/plain": [
       "<matplotlib.axes._subplots.AxesSubplot at 0x117f37d68>"
      ]
     },
     "execution_count": 17,
     "metadata": {},
     "output_type": "execute_result"
    },
    {
     "data": {
      "image/png": "[encoded data removed]",
      "text/plain": [
       "<matplotlib.figure.Figure at 0x119fff898>"
      ]
     },
     "metadata": {},
     "output_type": "display_data"
    }
   ],
   "source": [
    "sector_by_gender = df[(df['borrower_count'] == 1)].groupby(['sector','gender']).size().unstack().reset_index()\n",
    "sector_by_gender['total_count'] = (sector_by_gender['Male'] + sector_by_gender['Female'])\n",
    "sector_by_gender['pct_female'] = sector_by_gender['Female'] / sector_by_gender['total_count'] \n",
    "sector_by_gender['pct_male'] = sector_by_gender['Male'] / sector_by_gender['total_count']\n",
    "\n",
    "sector_by_gender[['sector','pct_male','pct_female']].plot(kind=\"barh\", x=\"sector\",title=\"% Gender of Total Loans by Sector\",figsize=(12, 12))"
   ]
  },
  {
   "cell_type": "markdown",
   "metadata": {},
   "source": [
    "Now, let us look at the loan amount requested in each sector by each gender. In the chart below, we see that our hypothesis that the difference was driven by natural price differences between industry is not correct. Men are asking for larger loan amounts in all industries, and the difference is highest in industries where they are not a majority. "
   ]
  },
  {
   "cell_type": "code",
   "execution_count": 18,
   "metadata": {
    "collapsed": false
   },
   "outputs": [
    {
     "data": {
      "text/plain": [
       "<matplotlib.axes._subplots.AxesSubplot at 0x119efda90>"
      ]
     },
     "execution_count": 18,
     "metadata": {},
     "output_type": "execute_result"
    },
    {
     "data": {
      "image/png": "[encoded data removed]",
      "text/plain": [
       "<matplotlib.figure.Figure at 0x118ee06a0>"
      ]
     },
     "metadata": {},
     "output_type": "display_data"
    }
   ],
   "source": [
    "df[(df['borrower_count'] == 1)].groupby(['sector','gender'])['loan_amount'].mean().unstack().reset_index().plot(kind='bar', x='sector', title=\"Average loan amount in dollars by Industry & Gender\",figsize=(12, 12))"
   ]
  },
  {
   "cell_type": "code",
   "execution_count": 19,
   "metadata": {
    "collapsed": false
   },
   "outputs": [
    {
     "data": {
      "text/html": [
       "<div>\n",
       "<style>\n",
       "    .dataframe thead tr:only-child th {\n",
       "        text-align: right;\n",
       "    }\n",
       "\n",
       "    .dataframe thead th {\n",
       "        text-align: left;\n",
       "    }\n",
       "\n",
       "    .dataframe tbody tr th {\n",
       "        vertical-align: top;\n",
       "    }\n",
       "</style>\n",
       "<table border=\"1\" class=\"dataframe\">\n",
       "  <thead>\n",
       "    <tr style=\"text-align: right;\">\n",
       "      <th></th>\n",
       "      <th>Unnamed: 0</th>\n",
       "      <th>Unnamed: 0.1</th>\n",
       "      <th>Unnamed: 0.1.1</th>\n",
       "      <th>activity</th>\n",
       "      <th>basket_amount</th>\n",
       "      <th>bonus_credit_eligibility</th>\n",
       "      <th>borrowers</th>\n",
       "      <th>currency_exchange_loss_amount</th>\n",
       "      <th>description.languages</th>\n",
       "      <th>description.texts.en</th>\n",
       "      <th>description.texts.es</th>\n",
       "      <th>description.texts.fr</th>\n",
       "      <th>description.texts.ru</th>\n",
       "      <th>funded_amount</th>\n",
       "      <th>funded_date</th>\n",
       "      <th>id</th>\n",
       "      <th>image.id</th>\n",
       "      <th>image.template_id</th>\n",
       "      <th>journal_totals.bulkEntries</th>\n",
       "      <th>journal_totals.entries</th>\n",
       "      <th>lender_count</th>\n",
       "      <th>loan_amount</th>\n",
       "      <th>location.country</th>\n",
       "      <th>location.country_code</th>\n",
       "      <th>location.geo.level</th>\n",
       "      <th>location.geo.pairs</th>\n",
       "      <th>location.geo.type</th>\n",
       "      <th>location.town</th>\n",
       "      <th>name</th>\n",
       "      <th>partner_id</th>\n",
       "      <th>payments</th>\n",
       "      <th>planned_expiration_date</th>\n",
       "      <th>posted_date</th>\n",
       "      <th>sector</th>\n",
       "      <th>status</th>\n",
       "      <th>tags</th>\n",
       "      <th>terms.disbursal_amount</th>\n",
       "      <th>terms.disbursal_currency</th>\n",
       "      <th>terms.disbursal_date</th>\n",
       "      <th>terms.loan_amount</th>\n",
       "      <th>terms.local_payments</th>\n",
       "      <th>terms.loss_liability.currency_exchange</th>\n",
       "      <th>terms.loss_liability.currency_exchange_coverage_rate</th>\n",
       "      <th>terms.loss_liability.nonpayment</th>\n",
       "      <th>terms.repayment_interval</th>\n",
       "      <th>terms.repayment_term</th>\n",
       "      <th>terms.scheduled_payments</th>\n",
       "      <th>themes</th>\n",
       "      <th>translator.byline</th>\n",
       "      <th>translator.image</th>\n",
       "      <th>use</th>\n",
       "      <th>video.id</th>\n",
       "      <th>video.thumbnailImageId</th>\n",
       "      <th>video.title</th>\n",
       "      <th>video.youtubeId</th>\n",
       "      <th>borrower_count</th>\n",
       "      <th>partner_average_loan_size_percent_per_capita_income</th>\n",
       "      <th>partner_charges_fees_and_interest</th>\n",
       "      <th>partner_countries</th>\n",
       "      <th>partner_currency_exchange_loss_rate</th>\n",
       "      <th>partner_default_rate</th>\n",
       "      <th>partner_default_rate_note</th>\n",
       "      <th>partner_delinquency_rate</th>\n",
       "      <th>partner_delinquency_rate_note</th>\n",
       "      <th>partner_image.id</th>\n",
       "      <th>partner_image.template_id</th>\n",
       "      <th>partner_loans_at_risk_rate</th>\n",
       "      <th>partner_loans_posted</th>\n",
       "      <th>partner_name</th>\n",
       "      <th>partner_portfolio_yield</th>\n",
       "      <th>partner_portfolio_yield_note</th>\n",
       "      <th>partner_profitability</th>\n",
       "      <th>partner_rating</th>\n",
       "      <th>partner_social_performance_strengths</th>\n",
       "      <th>partner_start_date</th>\n",
       "      <th>partner_status</th>\n",
       "      <th>partner_total_amount_raised</th>\n",
       "      <th>partner_url</th>\n",
       "      <th>gender</th>\n",
       "    </tr>\n",
       "  </thead>\n",
       "  <tbody>\n",
       "    <tr>\n",
       "      <th>0</th>\n",
       "      <td>0</td>\n",
       "      <td>0</td>\n",
       "      <td>0</td>\n",
       "      <td>Farming</td>\n",
       "      <td>0.0</td>\n",
       "      <td>False</td>\n",
       "      <td>[{'first_name': 'Evaline', 'last_name': '', 'g...</td>\n",
       "      <td>NaN</td>\n",
       "      <td>['en']</td>\n",
       "      <td>Evaline is a married lady aged 44 years old an...</td>\n",
       "      <td>NaN</td>\n",
       "      <td>NaN</td>\n",
       "      <td>NaN</td>\n",
       "      <td>0</td>\n",
       "      <td>NaN</td>\n",
       "      <td>1291548</td>\n",
       "      <td>2516002</td>\n",
       "      <td>1</td>\n",
       "      <td>0</td>\n",
       "      <td>0</td>\n",
       "      <td>0</td>\n",
       "      <td>500</td>\n",
       "      <td>Kenya</td>\n",
       "      <td>KE</td>\n",
       "      <td>town</td>\n",
       "      <td>-0.583333 35.183333</td>\n",
       "      <td>point</td>\n",
       "      <td>litein</td>\n",
       "      <td>Evaline</td>\n",
       "      <td>386.0</td>\n",
       "      <td>[]</td>\n",
       "      <td>2017-06-08T00:40:03Z</td>\n",
       "      <td>2017-05-09T00:40:03Z</td>\n",
       "      <td>Agriculture</td>\n",
       "      <td>fundraising</td>\n",
       "      <td>[{'name': '#Woman Owned Biz'}, {'name': '#Pare...</td>\n",
       "      <td>50000.0</td>\n",
       "      <td>KES</td>\n",
       "      <td>2017-04-03T07:00:00Z</td>\n",
       "      <td>500</td>\n",
       "      <td>[{'due_date': '2017-05-10T07:00:00Z', 'amount'...</td>\n",
       "      <td>shared</td>\n",
       "      <td>0.1</td>\n",
       "      <td>lender</td>\n",
       "      <td>Monthly</td>\n",
       "      <td>14</td>\n",
       "      <td>[{'due_date': '2017-07-01T07:00:00Z', 'amount'...</td>\n",
       "      <td>NaN</td>\n",
       "      <td>Julie Keaton</td>\n",
       "      <td>892591.0</td>\n",
       "      <td>to purchase more tea leaves to sell to the tea...</td>\n",
       "      <td>NaN</td>\n",
       "      <td>NaN</td>\n",
       "      <td>NaN</td>\n",
       "      <td>NaN</td>\n",
       "      <td>1</td>\n",
       "      <td>0.0</td>\n",
       "      <td>True</td>\n",
       "      <td>[{'iso_code': 'KE', 'region': 'Africa', 'name'...</td>\n",
       "      <td>0.120642</td>\n",
       "      <td>0.0</td>\n",
       "      <td>NaN</td>\n",
       "      <td>7.017031</td>\n",
       "      <td>NaN</td>\n",
       "      <td>1592272.0</td>\n",
       "      <td>1.0</td>\n",
       "      <td>21.165398</td>\n",
       "      <td>1948.0</td>\n",
       "      <td>Kenya ECLOF</td>\n",
       "      <td>40.3</td>\n",
       "      <td>NaN</td>\n",
       "      <td>2.54</td>\n",
       "      <td>2.0</td>\n",
       "      <td>[{'id': 3, 'name': 'Client Voice', 'descriptio...</td>\n",
       "      <td>2014-05-29T13:30:02Z</td>\n",
       "      <td>active</td>\n",
       "      <td>863375.0</td>\n",
       "      <td>http://www.eclof-kenya.org/</td>\n",
       "      <td>Female</td>\n",
       "    </tr>\n",
       "    <tr>\n",
       "      <th>1</th>\n",
       "      <td>1</td>\n",
       "      <td>1</td>\n",
       "      <td>1</td>\n",
       "      <td>Furniture Making</td>\n",
       "      <td>0.0</td>\n",
       "      <td>False</td>\n",
       "      <td>[{'first_name': 'Julias', 'last_name': '', 'ge...</td>\n",
       "      <td>NaN</td>\n",
       "      <td>['en']</td>\n",
       "      <td>Aged 42 years is a man by the name of Julias. ...</td>\n",
       "      <td>NaN</td>\n",
       "      <td>NaN</td>\n",
       "      <td>NaN</td>\n",
       "      <td>0</td>\n",
       "      <td>NaN</td>\n",
       "      <td>1291532</td>\n",
       "      <td>2515992</td>\n",
       "      <td>1</td>\n",
       "      <td>0</td>\n",
       "      <td>0</td>\n",
       "      <td>0</td>\n",
       "      <td>500</td>\n",
       "      <td>Kenya</td>\n",
       "      <td>KE</td>\n",
       "      <td>town</td>\n",
       "      <td>0.566667 34.566667</td>\n",
       "      <td>point</td>\n",
       "      <td>Bungoma</td>\n",
       "      <td>Julias</td>\n",
       "      <td>386.0</td>\n",
       "      <td>[]</td>\n",
       "      <td>2017-06-08T00:30:05Z</td>\n",
       "      <td>2017-05-09T00:30:05Z</td>\n",
       "      <td>Manufacturing</td>\n",
       "      <td>fundraising</td>\n",
       "      <td>[]</td>\n",
       "      <td>50000.0</td>\n",
       "      <td>KES</td>\n",
       "      <td>2017-04-03T07:00:00Z</td>\n",
       "      <td>500</td>\n",
       "      <td>[{'due_date': '2017-05-09T07:00:00Z', 'amount'...</td>\n",
       "      <td>shared</td>\n",
       "      <td>0.1</td>\n",
       "      <td>lender</td>\n",
       "      <td>Monthly</td>\n",
       "      <td>14</td>\n",
       "      <td>[{'due_date': '2017-07-01T07:00:00Z', 'amount'...</td>\n",
       "      <td>NaN</td>\n",
       "      <td>Morena Calvo</td>\n",
       "      <td>1832928.0</td>\n",
       "      <td>to buy timber to make more furniture for his e...</td>\n",
       "      <td>NaN</td>\n",
       "      <td>NaN</td>\n",
       "      <td>NaN</td>\n",
       "      <td>NaN</td>\n",
       "      <td>1</td>\n",
       "      <td>0.0</td>\n",
       "      <td>True</td>\n",
       "      <td>[{'iso_code': 'KE', 'region': 'Africa', 'name'...</td>\n",
       "      <td>0.120642</td>\n",
       "      <td>0.0</td>\n",
       "      <td>NaN</td>\n",
       "      <td>7.017031</td>\n",
       "      <td>NaN</td>\n",
       "      <td>1592272.0</td>\n",
       "      <td>1.0</td>\n",
       "      <td>21.165398</td>\n",
       "      <td>1948.0</td>\n",
       "      <td>Kenya ECLOF</td>\n",
       "      <td>40.3</td>\n",
       "      <td>NaN</td>\n",
       "      <td>2.54</td>\n",
       "      <td>2.0</td>\n",
       "      <td>[{'id': 3, 'name': 'Client Voice', 'descriptio...</td>\n",
       "      <td>2014-05-29T13:30:02Z</td>\n",
       "      <td>active</td>\n",
       "      <td>863375.0</td>\n",
       "      <td>http://www.eclof-kenya.org/</td>\n",
       "      <td>Male</td>\n",
       "    </tr>\n",
       "  </tbody>\n",
       "</table>\n",
       "</div>"
      ],
      "text/plain": [
       "   Unnamed: 0  Unnamed: 0.1  Unnamed: 0.1.1          activity  basket_amount  \\\n",
       "0           0             0               0           Farming            0.0   \n",
       "1           1             1               1  Furniture Making            0.0   \n",
       "\n",
       "   bonus_credit_eligibility  \\\n",
       "0                     False   \n",
       "1                     False   \n",
       "\n",
       "                                           borrowers  \\\n",
       "0  [{'first_name': 'Evaline', 'last_name': '', 'g...   \n",
       "1  [{'first_name': 'Julias', 'last_name': '', 'ge...   \n",
       "\n",
       "   currency_exchange_loss_amount description.languages  \\\n",
       "0                            NaN                ['en']   \n",
       "1                            NaN                ['en']   \n",
       "\n",
       "                                description.texts.en description.texts.es  \\\n",
       "0  Evaline is a married lady aged 44 years old an...                  NaN   \n",
       "1  Aged 42 years is a man by the name of Julias. ...                  NaN   \n",
       "\n",
       "  description.texts.fr description.texts.ru  funded_amount funded_date  \\\n",
       "0                  NaN                  NaN              0         NaN   \n",
       "1                  NaN                  NaN              0         NaN   \n",
       "\n",
       "        id  image.id  image.template_id  journal_totals.bulkEntries  \\\n",
       "0  1291548   2516002                  1                           0   \n",
       "1  1291532   2515992                  1                           0   \n",
       "\n",
       "   journal_totals.entries  lender_count  loan_amount location.country  \\\n",
       "0                       0             0          500            Kenya   \n",
       "1                       0             0          500            Kenya   \n",
       "\n",
       "  location.country_code location.geo.level   location.geo.pairs  \\\n",
       "0                    KE               town  -0.583333 35.183333   \n",
       "1                    KE               town   0.566667 34.566667   \n",
       "\n",
       "  location.geo.type location.town     name  partner_id payments  \\\n",
       "0             point        litein  Evaline       386.0       []   \n",
       "1             point       Bungoma   Julias       386.0       []   \n",
       "\n",
       "  planned_expiration_date           posted_date         sector       status  \\\n",
       "0    2017-06-08T00:40:03Z  2017-05-09T00:40:03Z    Agriculture  fundraising   \n",
       "1    2017-06-08T00:30:05Z  2017-05-09T00:30:05Z  Manufacturing  fundraising   \n",
       "\n",
       "                                                tags  terms.disbursal_amount  \\\n",
       "0  [{'name': '#Woman Owned Biz'}, {'name': '#Pare...                 50000.0   \n",
       "1                                                 []                 50000.0   \n",
       "\n",
       "  terms.disbursal_currency  terms.disbursal_date  terms.loan_amount  \\\n",
       "0                      KES  2017-04-03T07:00:00Z                500   \n",
       "1                      KES  2017-04-03T07:00:00Z                500   \n",
       "\n",
       "                                terms.local_payments  \\\n",
       "0  [{'due_date': '2017-05-10T07:00:00Z', 'amount'...   \n",
       "1  [{'due_date': '2017-05-09T07:00:00Z', 'amount'...   \n",
       "\n",
       "  terms.loss_liability.currency_exchange  \\\n",
       "0                                 shared   \n",
       "1                                 shared   \n",
       "\n",
       "   terms.loss_liability.currency_exchange_coverage_rate  \\\n",
       "0                                                0.1      \n",
       "1                                                0.1      \n",
       "\n",
       "  terms.loss_liability.nonpayment terms.repayment_interval  \\\n",
       "0                          lender                  Monthly   \n",
       "1                          lender                  Monthly   \n",
       "\n",
       "   terms.repayment_term                           terms.scheduled_payments  \\\n",
       "0                    14  [{'due_date': '2017-07-01T07:00:00Z', 'amount'...   \n",
       "1                    14  [{'due_date': '2017-07-01T07:00:00Z', 'amount'...   \n",
       "\n",
       "  themes translator.byline  translator.image  \\\n",
       "0    NaN      Julie Keaton          892591.0   \n",
       "1    NaN      Morena Calvo         1832928.0   \n",
       "\n",
       "                                                 use  video.id  \\\n",
       "0  to purchase more tea leaves to sell to the tea...       NaN   \n",
       "1  to buy timber to make more furniture for his e...       NaN   \n",
       "\n",
       "   video.thumbnailImageId video.title video.youtubeId  borrower_count  \\\n",
       "0                     NaN         NaN             NaN               1   \n",
       "1                     NaN         NaN             NaN               1   \n",
       "\n",
       "   partner_average_loan_size_percent_per_capita_income  \\\n",
       "0                                                0.0     \n",
       "1                                                0.0     \n",
       "\n",
       "   partner_charges_fees_and_interest  \\\n",
       "0                               True   \n",
       "1                               True   \n",
       "\n",
       "                                   partner_countries  \\\n",
       "0  [{'iso_code': 'KE', 'region': 'Africa', 'name'...   \n",
       "1  [{'iso_code': 'KE', 'region': 'Africa', 'name'...   \n",
       "\n",
       "   partner_currency_exchange_loss_rate  partner_default_rate  \\\n",
       "0                             0.120642                   0.0   \n",
       "1                             0.120642                   0.0   \n",
       "\n",
       "   partner_default_rate_note  partner_delinquency_rate  \\\n",
       "0                        NaN                  7.017031   \n",
       "1                        NaN                  7.017031   \n",
       "\n",
       "   partner_delinquency_rate_note  partner_image.id  partner_image.template_id  \\\n",
       "0                            NaN         1592272.0                        1.0   \n",
       "1                            NaN         1592272.0                        1.0   \n",
       "\n",
       "   partner_loans_at_risk_rate  partner_loans_posted partner_name  \\\n",
       "0                   21.165398                1948.0  Kenya ECLOF   \n",
       "1                   21.165398                1948.0  Kenya ECLOF   \n",
       "\n",
       "   partner_portfolio_yield  partner_portfolio_yield_note  \\\n",
       "0                     40.3                           NaN   \n",
       "1                     40.3                           NaN   \n",
       "\n",
       "   partner_profitability partner_rating  \\\n",
       "0                   2.54            2.0   \n",
       "1                   2.54            2.0   \n",
       "\n",
       "                partner_social_performance_strengths    partner_start_date  \\\n",
       "0  [{'id': 3, 'name': 'Client Voice', 'descriptio...  2014-05-29T13:30:02Z   \n",
       "1  [{'id': 3, 'name': 'Client Voice', 'descriptio...  2014-05-29T13:30:02Z   \n",
       "\n",
       "  partner_status  partner_total_amount_raised                  partner_url  \\\n",
       "0         active                     863375.0  http://www.eclof-kenya.org/   \n",
       "1         active                     863375.0  http://www.eclof-kenya.org/   \n",
       "\n",
       "   gender  \n",
       "0  Female  \n",
       "1    Male  "
      ]
     },
     "execution_count": 19,
     "metadata": {},
     "output_type": "execute_result"
    }
   ],
   "source": [
    "df.head(2)"
   ]
  },
  {
   "cell_type": "markdown",
   "metadata": {},
   "source": [
    "Finally, let us take a look at the relationship between partner and gender."
   ]
  },
  {
   "cell_type": "code",
   "execution_count": 20,
   "metadata": {
    "collapsed": false
   },
   "outputs": [
    {
     "data": {
      "text/html": [
       "<div>\n",
       "<style>\n",
       "    .dataframe thead tr:only-child th {\n",
       "        text-align: right;\n",
       "    }\n",
       "\n",
       "    .dataframe thead th {\n",
       "        text-align: left;\n",
       "    }\n",
       "\n",
       "    .dataframe tbody tr th {\n",
       "        vertical-align: top;\n",
       "    }\n",
       "</style>\n",
       "<table border=\"1\" class=\"dataframe\">\n",
       "  <thead>\n",
       "    <tr>\n",
       "      <th></th>\n",
       "      <th>partner_name</th>\n",
       "      <th colspan=\"2\" halign=\"left\">sum</th>\n",
       "      <th colspan=\"2\" halign=\"left\">count</th>\n",
       "      <th colspan=\"2\" halign=\"left\">mean</th>\n",
       "      <th colspan=\"2\" halign=\"left\">min</th>\n",
       "    </tr>\n",
       "    <tr>\n",
       "      <th>gender</th>\n",
       "      <th></th>\n",
       "      <th>Female</th>\n",
       "      <th>Male</th>\n",
       "      <th>Female</th>\n",
       "      <th>Male</th>\n",
       "      <th>Female</th>\n",
       "      <th>Male</th>\n",
       "      <th>Female</th>\n",
       "      <th>Male</th>\n",
       "    </tr>\n",
       "  </thead>\n",
       "  <tbody>\n",
       "    <tr>\n",
       "      <th>0</th>\n",
       "      <td>Action Now: Kenya (ANK)</td>\n",
       "      <td>75625.0</td>\n",
       "      <td>51675.0</td>\n",
       "      <td>127.0</td>\n",
       "      <td>78.0</td>\n",
       "      <td>595.472441</td>\n",
       "      <td>662.500000</td>\n",
       "      <td>50.0</td>\n",
       "      <td>75.0</td>\n",
       "    </tr>\n",
       "    <tr>\n",
       "      <th>1</th>\n",
       "      <td>Asante Kenya Foundation</td>\n",
       "      <td>29000.0</td>\n",
       "      <td>20800.0</td>\n",
       "      <td>90.0</td>\n",
       "      <td>62.0</td>\n",
       "      <td>322.222222</td>\n",
       "      <td>335.483871</td>\n",
       "      <td>300.0</td>\n",
       "      <td>300.0</td>\n",
       "    </tr>\n",
       "  </tbody>\n",
       "</table>\n",
       "</div>"
      ],
      "text/plain": [
       "                   partner_name      sum           count              mean  \\\n",
       "gender                            Female     Male Female  Male      Female   \n",
       "0       Action Now: Kenya (ANK)  75625.0  51675.0  127.0  78.0  595.472441   \n",
       "1       Asante Kenya Foundation  29000.0  20800.0   90.0  62.0  322.222222   \n",
       "\n",
       "                      min         \n",
       "gender        Male Female   Male  \n",
       "0       662.500000   50.0   75.0  \n",
       "1       335.483871  300.0  300.0  "
      ]
     },
     "execution_count": 20,
     "metadata": {},
     "output_type": "execute_result"
    },
    {
     "data": {
      "text/html": [
       "<div>\n",
       "<style>\n",
       "    .dataframe thead tr:only-child th {\n",
       "        text-align: right;\n",
       "    }\n",
       "\n",
       "    .dataframe thead th {\n",
       "        text-align: left;\n",
       "    }\n",
       "\n",
       "    .dataframe tbody tr th {\n",
       "        vertical-align: top;\n",
       "    }\n",
       "</style>\n",
       "<table border=\"1\" class=\"dataframe\">\n",
       "  <thead>\n",
       "    <tr>\n",
       "      <th></th>\n",
       "      <th>partner_name</th>\n",
       "      <th colspan=\"2\" halign=\"left\">sum</th>\n",
       "      <th colspan=\"2\" halign=\"left\">count</th>\n",
       "      <th colspan=\"2\" halign=\"left\">mean</th>\n",
       "      <th colspan=\"2\" halign=\"left\">min</th>\n",
       "      <th>total_count</th>\n",
       "      <th>pct_female</th>\n",
       "      <th>pct_male</th>\n",
       "      <th>partner_female</th>\n",
       "    </tr>\n",
       "    <tr>\n",
       "      <th>gender</th>\n",
       "      <th></th>\n",
       "      <th>Female</th>\n",
       "      <th>Male</th>\n",
       "      <th>Female</th>\n",
       "      <th>Male</th>\n",
       "      <th>Female</th>\n",
       "      <th>Male</th>\n",
       "      <th>Female</th>\n",
       "      <th>Male</th>\n",
       "      <th></th>\n",
       "      <th></th>\n",
       "      <th></th>\n",
       "      <th></th>\n",
       "    </tr>\n",
       "  </thead>\n",
       "  <tbody>\n",
       "    <tr>\n",
       "      <th>22</th>\n",
       "      <td>Moringa School</td>\n",
       "      <td>6300.0</td>\n",
       "      <td>43250.0</td>\n",
       "      <td>3.0</td>\n",
       "      <td>21.0</td>\n",
       "      <td>2100.0</td>\n",
       "      <td>2059.52381</td>\n",
       "      <td>1900.0</td>\n",
       "      <td>1250.0</td>\n",
       "      <td>49550.0</td>\n",
       "      <td>0.127144</td>\n",
       "      <td>0.872856</td>\n",
       "      <td>no</td>\n",
       "    </tr>\n",
       "  </tbody>\n",
       "</table>\n",
       "</div>"
      ],
      "text/plain": [
       "          partner_name     sum           count          mean              \\\n",
       "gender                  Female     Male Female  Male  Female        Male   \n",
       "22      Moringa School  6300.0  43250.0    3.0  21.0  2100.0  2059.52381   \n",
       "\n",
       "           min         total_count pct_female  pct_male partner_female  \n",
       "gender  Female    Male                                                  \n",
       "22      1900.0  1250.0     49550.0   0.127144  0.872856             no  "
      ]
     },
     "execution_count": 20,
     "metadata": {},
     "output_type": "execute_result"
    }
   ],
   "source": [
    "partner_by_gender = df[(df['borrower_count'] == 1)].groupby(['partner_name','gender'])['loan_amount'].agg(['sum','count','mean','min']).unstack().reset_index()\n",
    "partner_by_gender.head(2)\n",
    "\n",
    "\n",
    "partner_by_gender['total_count'] = (partner_by_gender['sum']['Male'] + partner_by_gender['sum']['Female'])\n",
    "partner_by_gender['pct_female'] = partner_by_gender['sum']['Female'] / partner_by_gender['total_count'] \n",
    "partner_by_gender['pct_male'] = partner_by_gender['sum']['Male'] / partner_by_gender['total_count']\n",
    "partner_by_gender['partner_female'] = np.where(partner_by_gender['pct_female']>=.6, 'yes', 'no')\n",
    "partner_by_gender[(partner_by_gender['pct_female']<=.2)].head(20) #moringa school appears!"
   ]
  },
  {
   "cell_type": "markdown",
   "metadata": {},
   "source": [
    "Surprisingly, the chart below suggests that although women ask for less, they have a higher funded rate.Is this because they ask for less or because they are women? "
   ]
  },
  {
   "cell_type": "code",
   "execution_count": 22,
   "metadata": {
    "collapsed": false,
    "scrolled": false
   },
   "outputs": [
    {
     "data": {
      "text/plain": [
       "<matplotlib.axes._subplots.AxesSubplot at 0x118ee07f0>"
      ]
     },
     "execution_count": 22,
     "metadata": {},
     "output_type": "execute_result"
    },
    {
     "data": {
      "image/png": "[encoded data removed]",
      "text/plain": [
       "<matplotlib.figure.Figure at 0x118eee940>"
      ]
     },
     "metadata": {},
     "output_type": "display_data"
    }
   ],
   "source": [
    "df[(df['borrower_count'] == 1)].groupby(['gender', 'status'])['loan_amount'].sum().unstack().plot(kind=\"bar\", stacked=True, )"
   ]
  },
  {
   "cell_type": "code",
   "execution_count": 23,
   "metadata": {
    "collapsed": true
   },
   "outputs": [],
   "source": [
    "df.to_csv('~/intro_course_data_science_for_good/data/df_module.csv')"
   ]
  }
 ],
 "metadata": {
  "kernelspec": {
   "display_name": "Python 3",
   "language": "python",
   "name": "python3"
  },
  "language_info": {
   "codemirror_mode": {
    "name": "ipython",
    "version": 3
   },
   "file_extension": ".py",
   "mimetype": "text/x-python",
   "name": "python",
   "nbconvert_exporter": "python",
   "pygments_lexer": "ipython3",
   "version": "3.6.0"
  }
 },
 "nbformat": 4,
 "nbformat_minor": 2
}
